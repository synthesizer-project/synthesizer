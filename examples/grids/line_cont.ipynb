{
 "cells": [
  {
   "cell_type": "code",
   "execution_count": null,
   "metadata": {},
   "outputs": [],
   "source": [
    "import argparse\n",
    "from synthesizer.grid import Grid\n",
    "from synthesizer.sed import Sed\n",
    "import numpy as np\n",
    "import matplotlib.pyplot as plt"
   ]
  },
  {
   "cell_type": "code",
   "execution_count": null,
   "metadata": {},
   "outputs": [],
   "source": [
    "\n",
    "grid_name = 'bpass-2.2.1-bin_bpl-0.1,1.0,300.0-1.3,2.35_cloudy-c17.03'\n",
    "grid_dir = '/Users/sw376/Dropbox/Research/data/synthesizer/grids/'\n",
    "grid = Grid(grid_name, grid_dir=grid_dir, read_lines = True)"
   ]
  },
  {
   "cell_type": "code",
   "execution_count": null,
   "metadata": {},
   "outputs": [],
   "source": [
    "grid_point = grid.get_grid_point((6.5, 0.01))"
   ]
  },
  {
   "cell_type": "code",
   "execution_count": null,
   "metadata": {},
   "outputs": [],
   "source": [
    "sed = grid.get_sed(grid_point, spec_name='linecont')"
   ]
  },
  {
   "cell_type": "code",
   "execution_count": null,
   "metadata": {},
   "outputs": [],
   "source": [
    "\n",
    "\n",
    "plt.plot(np.log10(sed.lam), np.log10(sed.lnu))\n",
    "plt.xlim([2.0, 5.0])\n",
    "plt.ylim([18.0, 23])\n",
    "plt.xlabel(r\"$\\rm log_{10}(\\lambda/\\AA)$\")\n",
    "plt.ylabel(r\"$\\rm log_{10}(L_{\\nu}/erg\\ s^{-1}\\ Hz^{-1} M_{\\odot}^{-1})$\")\n",
    "plt.show()"
   ]
  },
  {
   "cell_type": "code",
   "execution_count": null,
   "metadata": {},
   "outputs": [],
   "source": [
    "print(grid.line_list)"
   ]
  },
  {
   "cell_type": "code",
   "execution_count": null,
   "metadata": {},
   "outputs": [],
   "source": [
    "from unyt import c, erg, s, Hz\n",
    "\n",
    "\n",
    "lnu = (np.zeros(len(sed.lam))+1) * erg/s/Hz\n",
    "\n",
    "\n",
    "\n",
    "\n",
    "lc = grid.get_lines_info(grid_point)\n",
    "\n",
    "for line in lc:\n",
    "    idx = (np.abs(sed.lam-line.wavelength)).argmin()\n",
    "    dl = 0.5*(sed.lam[idx+1] - sed.lam[idx-1])\n",
    "    n = c / line.wavelength\n",
    "    llnu = line.wavelength*(line.luminosity/n)/dl\n",
    "    print(line.id, llnu)\n",
    "    lnu[idx] += llnu.to('erg/s/Hz')\n",
    "\n",
    "linecont = Sed(lam=sed.lam, lnu=lnu)"
   ]
  },
  {
   "cell_type": "code",
   "execution_count": null,
   "metadata": {},
   "outputs": [],
   "source": [
    "print(np.max(linecont.lnu))\n",
    "print(np.max(sed.lnu))"
   ]
  },
  {
   "cell_type": "code",
   "execution_count": null,
   "metadata": {},
   "outputs": [],
   "source": [
    "plt.plot(np.log10(sed.lam), np.log10(sed.lnu), alpha=0.5, c='r')\n",
    "# plt.plot(np.log10(linecont.lam), np.log10(linecont.lnu), alpha=0.5, c='b')\n",
    "plt.scatter(np.log10(linecont.lam), np.log10(linecont.lnu), alpha=0.5, color='b',s=1)\n",
    "plt.xlim([2.0, 5.0])\n",
    "plt.ylim([18.0, 23])\n",
    "plt.xlabel(r\"$\\rm log_{10}(\\lambda/\\AA)$\")\n",
    "plt.ylabel(r\"$\\rm log_{10}(L_{\\nu}/erg\\ s^{-1}\\ Hz^{-1} M_{\\odot}^{-1})$\")\n",
    "plt.show()"
   ]
  },
  {
   "cell_type": "code",
   "execution_count": null,
   "metadata": {},
   "outputs": [],
   "source": [
    "plt.plot(np.log10(sed.lam), sed.lnu, alpha=0.5, c='r')\n",
    "# plt.plot(np.log10(linecont.lam), np.log10(linecont.lnu), alpha=0.5, c='b')\n",
    "plt.scatter(np.log10(linecont.lam), linecont.lnu, alpha=0.5, color='b',s=1)\n",
    "plt.xlim([2.0, 5.0])\n",
    "plt.ylim([0, 0.3E23])\n",
    "plt.xlabel(r\"$\\rm log_{10}(\\lambda/\\AA)$\")\n",
    "plt.ylabel(r\"$\\rm L_{\\nu}/erg\\ s^{-1}\\ Hz^{-1} M_{\\odot}^{-1}$\")\n",
    "plt.show()"
   ]
  }
 ],
 "metadata": {
  "language_info": {
   "name": "python"
  }
 },
 "nbformat": 4,
 "nbformat_minor": 2
}
