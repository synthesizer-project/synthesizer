{
 "cells": [
  {
   "cell_type": "code",
   "execution_count": null,
   "metadata": {},
   "outputs": [],
   "source": [
    "import matplotlib.pyplot as plt\n",
    "import numpy as np\n",
    "from synthesizer.parametric.sf_hist import (\n",
    "    Constant,\n",
    "    DoublePowerLaw,\n",
    "    Exponential,\n",
    "    Gaussian,\n",
    "    LogNormal,\n",
    ")\n",
    "from unyt import Myr"
   ]
  },
  {
   "attachments": {},
   "cell_type": "markdown",
   "metadata": {},
   "source": [
    "### Constant"
   ]
  },
  {
   "cell_type": "code",
   "execution_count": null,
   "metadata": {},
   "outputs": [],
   "source": [
    "sfh = Constant(1000 * Myr, min_age=100 * Myr)\n",
    "\n",
    "t, sfr = sfh.calculate_sfh()\n",
    "\n",
    "plt.plot(t, sfr)\n",
    "plt.show()"
   ]
  },
  {
   "attachments": {},
   "cell_type": "markdown",
   "metadata": {},
   "source": [
    "### Gaussian"
   ]
  },
  {
   "cell_type": "code",
   "execution_count": null,
   "metadata": {},
   "outputs": [],
   "source": [
    "peak_age = 5000 * Myr\n",
    "sigma = 200 * Myr\n",
    "sfh = Gaussian(peak_age, sigma)\n",
    "\n",
    "t, sfr = sfh.calculate_sfh()\n",
    "\n",
    "plt.plot(t, sfr)\n",
    "plt.show()"
   ]
  },
  {
   "attachments": {},
   "cell_type": "markdown",
   "metadata": {},
   "source": [
    "### Increasing Exponential"
   ]
  },
  {
   "cell_type": "code",
   "execution_count": null,
   "metadata": {},
   "outputs": [],
   "source": [
    "sfh = Exponential(1000 * Myr, max_age=1000 * Myr, min_age=100 * Myr)\n",
    "\n",
    "t, sfr = sfh.calculate_sfh()\n",
    "\n",
    "plt.plot(t, sfr)\n",
    "plt.show()"
   ]
  },
  {
   "attachments": {},
   "cell_type": "markdown",
   "metadata": {},
   "source": [
    "### Declining exponential"
   ]
  },
  {
   "cell_type": "code",
   "execution_count": null,
   "metadata": {},
   "outputs": [],
   "source": [
    "sfh = Exponential(-1000 * Myr, max_age=1000 * Myr, min_age=100 * Myr)\n",
    "\n",
    "t, sfr = sfh.calculate_sfh()\n",
    "\n",
    "plt.plot(t, sfr)\n",
    "plt.show()"
   ]
  },
  {
   "attachments": {},
   "cell_type": "markdown",
   "metadata": {},
   "source": [
    "### LogNormal"
   ]
  },
  {
   "cell_type": "code",
   "execution_count": null,
   "metadata": {},
   "outputs": [],
   "source": [
    "tau = 0.1\n",
    "peak_age = 500 * Myr\n",
    "max_age = 5000 * Myr\n",
    "min_age = 100 * Myr\n",
    "\n",
    "sfh = LogNormal(tau, peak_age, max_age, min_age=min_age)\n",
    "\n",
    "print(sfh.tpeak / 1e6)\n",
    "\n",
    "t, sfr = sfh.calculate_sfh()\n",
    "\n",
    "plt.plot(t, sfr)\n",
    "plt.show()"
   ]
  },
  {
   "attachments": {},
   "cell_type": "markdown",
   "metadata": {},
   "source": [
    "### DoublePowerLaw"
   ]
  },
  {
   "cell_type": "code",
   "execution_count": null,
   "metadata": {},
   "outputs": [],
   "source": [
    "peak_age = 2500.0 * Myr\n",
    "alpha = -2.0\n",
    "beta = 2.0\n",
    "min_age = 300 * Myr\n",
    "max_age = 5000 * Myr\n",
    "\n",
    "sfh = DoublePowerLaw(peak_age, alpha, beta, min_age=min_age, max_age=max_age)\n",
    "\n",
    "t, sfr = sfh.calculate_sfh()\n",
    "\n",
    "plt.plot(t, sfr)\n",
    "plt.axvline(peak_age.to(\"yr\").value, c=\"k\", alpha=0.3)\n",
    "plt.show()\n",
    "\n",
    "plt.plot(np.log10(t), np.log10(sfr))\n",
    "plt.show()"
   ]
  }
 ],
 "metadata": {},
 "nbformat": 4,
 "nbformat_minor": 2
}
