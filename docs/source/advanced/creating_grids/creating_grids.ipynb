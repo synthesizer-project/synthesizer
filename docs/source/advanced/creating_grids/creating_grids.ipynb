{
 "cells": [
  {
   "cell_type": "markdown",
   "metadata": {},
   "source": [
    "# Running your own SPS grids \n",
    "\n",
    "Here we will show how to create an incident grid using Synthesizer. These incident grids are often used as inputs to photoionisation codes like Cloudy, but are also "
   ]
  },
  {
   "cell_type": "markdown",
   "metadata": {},
   "source": [
    "Firstly, choose the grid you want to create, e.g. BC03, maraston05, or FSPS and find the corresponding python script to install it within the synthesizer-grids repository. To create the grid, you need to specify where you want to place the raw data files from the model (input_dir), and where you would like the grid file to be created (grid_dir), e.g.\n",
    "``` python \n",
    "python install_bc03.py --input_dir /users/snewman/data/synthesizer_data/input_files --grid_dir /users/snewman/data/synthesizer_data/grids\n",
    "```"
   ]
  },
  {
   "cell_type": "markdown",
   "metadata": {},
   "source": [
    "Some of the scripts to create grids have special requirements. For example, to create the BC03-2016 grid you need a working fortran compiler to convert the binary files into ascii, and you can check this is available by running ``` python which gfortran ``` at the command line. Many of the scripts have the ability to download the original model data files by adding the command ```--download```, but the data for BPASS needs to be installed seperately and that data can be found on the [BPASS website](https://bpass.auckland.ac.nz/index.html). To create the FSPS grid, the python-fsps package needs to be installed and details of how to do this can be found [here](https://dfm.io/python-fsps/current/installation/). "
   ]
  },
  {
   "cell_type": "markdown",
   "metadata": {},
   "source": [
    "After creating a grid, there is also the option of creating a grid of a reduced size. For example, you can restrict the maximum age of the grid:  \n",
    "``` python \n",
    "python create_reduced_grid.py -grid_dir /users/snewman/data/synthesizer_data/grids -original_grid maraston13_kroupa -max_age 7\n",
    "``` \n",
    "\n",
    "where here the maximum age was set to $10^7$ years."
   ]
  },
  {
   "cell_type": "markdown",
   "metadata": {},
   "source": [
    "# Running your grid through Cloudy\n",
    "\n",
    "Here we will now show how to create input files for the code Cloudy. The details of Cloudy and how to install it can be found on the [Cloudy website](https://gitlab.nublado.org/cloudy/cloudy/-/wikis/home)."
   ]
  },
  {
   "cell_type": "markdown",
   "metadata": {},
   "source": [
    "Within synthesizer_grids/cloudy/params are a variety of files that can be used to set the parameters used in Cloudy modelling, such as the ionisation parameter and hydrogen density. To use our standard approach where we allow the ionisation parameter to vary with the input ionizing source, but normalised to some reference value, the c23.01-sps.yaml is the most appropriate. Alternatively, c23.01-sps-fixed.yaml can be used for fixed ionisation parameters. To create input files with varying parameter values, we can do something like this: \n",
    "\n",
    "``` python \n",
    "python create_cloudy_input_grid.py -grid_dir /users/snewman/data/synthesizer_data/grids -cloudy_dir /users/snewman/data/synthesizer_data/cloudy -incident_grid maraston11_kroupa -cloudy_params c23.01-sps -cloudy_params_addition test_suite/ionisation_parameter -machine sciama -verbose True \n",
    "```\n",
    "\n",
    "Then, using the method of your choice, you can run the created input files througn Cloudy. Within synthesizer-grids are example scripts for how to run these using the HPC Apollo at the University of Sussex.\n",
    "\n",
    "Once these have been run through Cloudy, we can use the Cloudy outputs to create our new grid:\n",
    "\n",
    "``` python \n",
    "python create_synthesizer_grid.py -grid_dir /users/snewman/data/synthesizer_data/grids -cloudy_dir /users/snewman/data/synthesizer_data/cloudy -incident_grid maraston11 -cloudy_params c23.01-sps-fixed-hydrogen_density\n",
    "```\n",
    "\n"
   ]
  }
 ],
 "metadata": {
  "kernelspec": {
   "display_name": "synth",
   "language": "python",
   "name": "python3"
  },
  "language_info": {
   "codemirror_mode": {
    "name": "ipython",
    "version": 3
   },
   "file_extension": ".py",
   "mimetype": "text/x-python",
   "name": "python",
   "nbconvert_exporter": "python",
   "pygments_lexer": "ipython3"
  }
 },
 "nbformat": 4,
 "nbformat_minor": 2
}
