{
 "cells": [
  {
   "attachments": {},
   "cell_type": "markdown",
   "metadata": {},
   "source": [
    "# Dust emission\n",
    "\n",
    "`Synthesizer` has the capability of creating a dust emission spectrum using a simple energy balance approach. "
   ]
  },
  {
   "attachments": {},
   "cell_type": "markdown",
   "metadata": {},
   "source": [
    "## Emission models\n",
    "\n",
    "`Synthesizer` contains a handful of dust emission models (and will be extended with more)."
   ]
  },
  {
   "cell_type": "code",
   "execution_count": null,
   "metadata": {},
   "outputs": [],
   "source": [
    "from synthesizer.dust.emission import Blackbody, Greybody, Casey12\n",
    "import matplotlib.pyplot as plt\n",
    "import numpy as np\n",
    "from unyt import Angstrom, K"
   ]
  },
  {
   "attachments": {},
   "cell_type": "markdown",
   "metadata": {},
   "source": [
    "Define a wavelength grid:"
   ]
  },
  {
   "cell_type": "code",
   "execution_count": null,
   "metadata": {},
   "outputs": [],
   "source": [
    "\n",
    "lam = 10**(np.arange(3., 8., 0.01)) * Angstrom "
   ]
  },
  {
   "attachments": {},
   "cell_type": "markdown",
   "metadata": {},
   "source": [
    "### Blackbody\n",
    "\n",
    "First let's explore simple blackbody models. By default a dust emission model provides a normalised spectrum."
   ]
  },
  {
   "cell_type": "code",
   "execution_count": null,
   "metadata": {},
   "outputs": [],
   "source": [
    "\n",
    "for T in [10,25,50,100, 1000]:\n",
    "    model = Blackbody(T*K)\n",
    "    sed = model.get_spectra(lam)\n",
    "    plt.plot(np.log10(sed.lam), sed.luminosity, label = f'{T} K')\n",
    "    \n",
    "plt.legend()\n",
    "plt.show()\n"
   ]
  },
  {
   "cell_type": "code",
   "execution_count": null,
   "metadata": {},
   "outputs": [],
   "source": [
    "for T in [10,25,50,100]:\n",
    "    model = Greybody(T*K, 1.6)\n",
    "    sed = model.get_spectra(lam)\n",
    "    plt.plot(np.log10(sed.lam), sed.luminosity, label = f'{T} K')\n",
    "    \n",
    "plt.legend()\n",
    "plt.show()"
   ]
  },
  {
   "cell_type": "code",
   "execution_count": null,
   "metadata": {},
   "outputs": [],
   "source": [
    "for T in [10,25,50,100]:\n",
    "    model = Casey12(T*K, 1.6, 2.0)\n",
    "    sed = model.get_spectra(lam)\n",
    "    plt.plot(np.log10(sed.lam), sed.luminosity, label = f'{T} K')\n",
    "    \n",
    "plt.legend()\n",
    "plt.show()"
   ]
  }
 ],
 "metadata": {
  "kernelspec": {
   "display_name": "venv",
   "language": "python",
   "name": "python3"
  },
  "language_info": {
   "codemirror_mode": {
    "name": "ipython",
    "version": 3
   },
   "file_extension": ".py",
   "mimetype": "text/x-python",
   "name": "python",
   "nbconvert_exporter": "python",
   "pygments_lexer": "ipython3",
   "version": "3.10.11"
  },
  "vscode": {
   "interpreter": {
    "hash": "3fbdfee1eda89f517d14c65aaeb395605ea48cc827c54c8ae1828e532ec42817"
   }
  }
 },
 "nbformat": 4,
 "nbformat_minor": 2
}
