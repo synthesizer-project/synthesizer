{
 "cells": [
  {
   "attachments": {},
   "cell_type": "markdown",
   "metadata": {},
   "source": [
    "# Dust emission\n",
    "\n",
    "`Synthesizer` has the capability of creating a dust emission spectrum using a simple energy balance approach. "
   ]
  },
  {
   "attachments": {},
   "cell_type": "markdown",
   "metadata": {},
   "source": [
    "### Dust emission models\n",
    "\n",
    "`Synthesizer` contains a handful of dust emission models, let's explore these first:"
   ]
  },
  {
   "cell_type": "code",
   "execution_count": null,
   "metadata": {},
   "outputs": [],
   "source": [
    "from synthesizer.dust import emission as dust\n",
    "import matplotlib.pyplot as plt\n",
    "import numpy as np\n",
    "from unyt import um, K"
   ]
  },
  {
   "cell_type": "code",
   "execution_count": null,
   "metadata": {},
   "outputs": [],
   "source": [
    "lam = np.arange(1, 10000, 1) * um"
   ]
  },
  {
   "cell_type": "code",
   "execution_count": null,
   "metadata": {},
   "outputs": [],
   "source": [
    "\n",
    "for T in [10,25,50,100]:\n",
    "    model = dust.Blackbody(T*K)\n",
    "    plt.plot(np.log10(lam), model.lnu(lam))\n"
   ]
  },
  {
   "cell_type": "code",
   "execution_count": null,
   "metadata": {},
   "outputs": [],
   "source": [
    "for T in [10,25,50,100]:\n",
    "    model = dust.Greybody(T*K, 1.6)\n",
    "    plt.plot(np.log10(lam), model.lnu(lam))\n",
    "    print(model.lnu(lam))"
   ]
  },
  {
   "cell_type": "code",
   "execution_count": null,
   "metadata": {},
   "outputs": [],
   "source": [
    "for T in [10,25,50,100]:\n",
    "    model = dust.Casey12(T*K, 1.6, 2.0)\n",
    "    plt.plot(np.log10(lam), model.lnu(lam))"
   ]
  }
 ],
 "metadata": {
  "language_info": {
   "name": "python"
  }
 },
 "nbformat": 4,
 "nbformat_minor": 2
}
