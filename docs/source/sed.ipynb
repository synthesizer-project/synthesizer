{
 "cells": [
  {
   "attachments": {},
   "cell_type": "markdown",
   "id": "00db497b-9cf9-4547-ae44-4d80f30eb8a1",
   "metadata": {},
   "source": [
    "# The Sed object\n",
    "\n",
    "This example demonstrates the various methods associated with the `Sed` class.\n",
    "\n",
    "`Sed` objects can be extracted directly from `Grid` objects or created by `Galaxy` objects. See tutorials on those objects for more information."
   ]
  },
  {
   "cell_type": "code",
   "execution_count": null,
   "id": "7158257d-8bab-4c83-bac6-38aa83def3bf",
   "metadata": {},
   "outputs": [],
   "source": [
    "import numpy as np\n",
    "import matplotlib.pyplot as plt\n",
    "import matplotlib as mpl\n",
    "import matplotlib.pyplot as plt\n",
    "import matplotlib.cm as cm\n",
    "import cmasher as cmr\n",
    "import os\n",
    "from unyt import Angstrom, Hz, um\n",
    "from synthesizer.grid import Grid, get_available_lines\n",
    "from synthesizer.sed import Sed\n",
    "from synthesizer.filters import FilterCollection\n",
    "from synthesizer.igm import Madau96"
   ]
  },
  {
   "attachments": {},
   "cell_type": "markdown",
   "id": "3436e527",
   "metadata": {},
   "source": [
    "Let's begin by initialising a grid:"
   ]
  },
  {
   "cell_type": "code",
   "execution_count": null,
   "id": "dc8b164f-3d98-456f-8e21-b0d72d7a7ff8",
   "metadata": {},
   "outputs": [],
   "source": [
    "\n",
    "grid_dir =  '../../tests/test_grid/'\n",
    "grid_name = 'test_grid'\n",
    "grid = Grid(grid_name, grid_dir=grid_dir)"
   ]
  },
  {
   "attachments": {},
   "cell_type": "markdown",
   "id": "dcb82045",
   "metadata": {},
   "source": [
    "Next, let's define a target log10age and metallicity and use the built-in `Grid` method to get the grid point and then extract the spectrum for that grid point."
   ]
  },
  {
   "cell_type": "code",
   "execution_count": null,
   "id": "35ad7190",
   "metadata": {},
   "outputs": [],
   "source": [
    "log10age = 6. # log10(age/yr)\n",
    "metallicity = 0.01 \n",
    "spectra_id = 'incident'\n",
    "grid_point = grid.get_grid_point((log10age, metallicity))\n",
    "sed = grid.get_spectra(grid_point, spectra_id=spectra_id)\n",
    "sed.lnu *= 1E8 # make the SED bigger"
   ]
  },
  {
   "attachments": {},
   "cell_type": "markdown",
   "id": "c94c977f",
   "metadata": {},
   "source": [
    "Like other `synthesizer` objects, we get some basic information about the `Sed` object by using the `print` command:"
   ]
  },
  {
   "cell_type": "code",
   "execution_count": null,
   "id": "2b4b4452",
   "metadata": {},
   "outputs": [],
   "source": [
    "print(sed)"
   ]
  },
  {
   "attachments": {},
   "cell_type": "markdown",
   "id": "b21fb144",
   "metadata": {},
   "source": [
    "`Sed` objects contain a wavelength grid and luminosity in the `lam` and `lnu` attributes. Both come with units making them easy to convert:"
   ]
  },
  {
   "cell_type": "code",
   "execution_count": null,
   "id": "e2616d77",
   "metadata": {},
   "outputs": [],
   "source": [
    "print(sed.lam)\n",
    "print(sed.lnu)"
   ]
  },
  {
   "attachments": {},
   "cell_type": "markdown",
   "id": "363f3759",
   "metadata": {},
   "source": [
    "Thus we can easily make a plot:"
   ]
  },
  {
   "cell_type": "code",
   "execution_count": null,
   "id": "8c7e91fb",
   "metadata": {},
   "outputs": [],
   "source": [
    "plt.plot(np.log10(sed.lam), np.log10(sed.lnu))\n",
    "plt.xlabel(r\"$\\rm log_{10}(\\lambda/\\AA)$\")\n",
    "plt.ylabel(r\"$\\rm log_{10}(L_{\\nu}/erg\\ s^{-1}\\ Hz^{-1} M_{\\odot}^{-1})$\")\n",
    "plt.show()\n",
    "plt.close()"
   ]
  },
  {
   "attachments": {},
   "cell_type": "markdown",
   "id": "de31579b",
   "metadata": {},
   "source": [
    "### Methods"
   ]
  },
  {
   "attachments": {},
   "cell_type": "markdown",
   "id": "623b5609",
   "metadata": {},
   "source": [
    "#### get_bolometric_luminosity()\n",
    "\n",
    "This method allows us to calculate the bolometric luminosity of the sed. "
   ]
  },
  {
   "cell_type": "code",
   "execution_count": null,
   "id": "c3f35ac3",
   "metadata": {},
   "outputs": [],
   "source": [
    "sed.measure_bolometric_luminosity()"
   ]
  },
  {
   "attachments": {},
   "cell_type": "markdown",
   "id": "1ad27966",
   "metadata": {},
   "source": [
    "By default the above simply sums up the spectrum. However, we can also integrate the spectrum instead:"
   ]
  },
  {
   "cell_type": "code",
   "execution_count": null,
   "id": "f6d6be8d",
   "metadata": {},
   "outputs": [],
   "source": [
    "sed.measure_bolometric_luminosity(method='quad')"
   ]
  },
  {
   "attachments": {},
   "cell_type": "markdown",
   "id": "c3e4ef3c",
   "metadata": {},
   "source": [
    "Under-the-hood the above uses a function to get the luminosity at a particular frequency or wavelength:"
   ]
  },
  {
   "cell_type": "code",
   "execution_count": null,
   "id": "55afce8a",
   "metadata": {},
   "outputs": [],
   "source": [
    "sed.get_lnu_at_lam(1500 * Angstrom)"
   ]
  },
  {
   "cell_type": "code",
   "execution_count": null,
   "id": "f6ba4b1d",
   "metadata": {},
   "outputs": [],
   "source": [
    "sed.get_lnu_at_nu(1E14 * Hz)"
   ]
  },
  {
   "cell_type": "code",
   "execution_count": null,
   "id": "b009326a",
   "metadata": {},
   "outputs": [],
   "source": [
    "sed.measure_window_luminosity((1400.*Angstrom,1600.*Angstrom))"
   ]
  },
  {
   "cell_type": "code",
   "execution_count": null,
   "id": "6716e968",
   "metadata": {},
   "outputs": [],
   "source": [
    "sed.measure_window_luminosity((0.14*um,0.16*um))"
   ]
  },
  {
   "cell_type": "code",
   "execution_count": null,
   "id": "6f76d8e1",
   "metadata": {},
   "outputs": [],
   "source": [
    "sed.measure_window_lnu((1400.*Angstrom,1600.*Angstrom))"
   ]
  },
  {
   "cell_type": "code",
   "execution_count": null,
   "id": "1c460d65",
   "metadata": {},
   "outputs": [],
   "source": [
    "sed.measure_window_lnu((1400.*Angstrom,1600.*Angstrom), method='average')"
   ]
  },
  {
   "cell_type": "code",
   "execution_count": null,
   "id": "029d4f71",
   "metadata": {},
   "outputs": [],
   "source": [
    "sed.measure_window_lnu((1400, 1600)*Angstrom, method='quad')"
   ]
  },
  {
   "attachments": {},
   "cell_type": "markdown",
   "id": "a3e8482a",
   "metadata": {},
   "source": [
    "We can also measure a spectral break by providing two windows, e.g."
   ]
  },
  {
   "cell_type": "code",
   "execution_count": null,
   "id": "1abf4968",
   "metadata": {},
   "outputs": [],
   "source": [
    "sed.measure_break((3400, 3600) * Angstrom, (4150, 4250) * Angstrom)"
   ]
  },
  {
   "attachments": {},
   "cell_type": "markdown",
   "id": "d0accf42",
   "metadata": {},
   "source": [
    "There are also a few in-built break methods, e.g. `measure_Balmer_break()`"
   ]
  },
  {
   "cell_type": "code",
   "execution_count": null,
   "id": "2df698f8",
   "metadata": {},
   "outputs": [],
   "source": [
    "sed.measure_balmer_break()"
   ]
  },
  {
   "cell_type": "code",
   "execution_count": null,
   "id": "38913adc",
   "metadata": {},
   "outputs": [],
   "source": [
    "sed.measure_d4000()"
   ]
  },
  {
   "attachments": {},
   "cell_type": "markdown",
   "id": "45c97d43",
   "metadata": {},
   "source": [
    "We can also measure absorption line indices:"
   ]
  },
  {
   "cell_type": "code",
   "execution_count": null,
   "id": "8a50ffc3",
   "metadata": {},
   "outputs": [],
   "source": [
    "sed.measure_index((1500,1600)*Angstrom, (1400,1500)*Angstrom, (1600,1700)*Angstrom)"
   ]
  },
  {
   "attachments": {},
   "cell_type": "markdown",
   "id": "eb48725a",
   "metadata": {},
   "source": [
    "We can also measure the UV spectral slope $\\beta$:"
   ]
  },
  {
   "cell_type": "code",
   "execution_count": null,
   "id": "1734a1ed",
   "metadata": {},
   "outputs": [],
   "source": [
    "sed.measure_beta()"
   ]
  },
  {
   "attachments": {},
   "cell_type": "markdown",
   "id": "099b456e",
   "metadata": {},
   "source": [
    "By default this uses a single window and fits the spectrum by a power-law. However, we can also specify two windows as below, in which case the luminosity in each window is calcualted and used to infer a slope:"
   ]
  },
  {
   "cell_type": "code",
   "execution_count": null,
   "id": "21456b92",
   "metadata": {},
   "outputs": [],
   "source": [
    "sed.measure_beta(window=(1250,1750,2250,2750))"
   ]
  },
  {
   "attachments": {},
   "cell_type": "markdown",
   "id": "69f1be0c",
   "metadata": {},
   "source": [
    "## Observed frame SED\n",
    "\n",
    "To do this we need to provide a cosmology, using an `astropy.cosmology` object, a redshift $z$, and optionally an IGM absorption model."
   ]
  },
  {
   "cell_type": "code",
   "execution_count": null,
   "id": "45dea364",
   "metadata": {},
   "outputs": [],
   "source": [
    "from astropy.cosmology import Planck18 as cosmo\n",
    "z = 10.  # redshift\n",
    "sed.get_fnu(cosmo, z, igm=Madau96)  # generate observed frame spectra"
   ]
  },
  {
   "attachments": {},
   "cell_type": "markdown",
   "id": "b8b6b6fc",
   "metadata": {},
   "source": [
    "## Broadband fluxes\n",
    "\n",
    "Once we have computed the observed frame SED there is a method on an `Sed` object that allows us to calculate broadband fluxes. However, first we need to instantiate a `FilterCollection` object."
   ]
  },
  {
   "cell_type": "code",
   "execution_count": null,
   "id": "e81e62ce",
   "metadata": {},
   "outputs": [],
   "source": [
    "filter_codes = [f'JWST/NIRCam.{f}' for f in ['F070W','F090W', 'F115W', 'F150W',\n",
    "                                             'F200W', 'F277W', 'F356W', 'F444W']]  # define a list of filter codes\n",
    "fc = FilterCollection(filter_codes, new_lam=grid.lam)"
   ]
  },
  {
   "cell_type": "code",
   "execution_count": null,
   "id": "0405a1ad",
   "metadata": {},
   "outputs": [],
   "source": [
    "# measure broadband fluxes\n",
    "fluxes = sed.get_broadband_fluxes(fc)\n",
    "\n",
    "# print broadband fluxes\n",
    "for filter, flux in fluxes.items():\n",
    "    print(f'{filter}: {flux:.2f}')"
   ]
  },
  {
   "attachments": {},
   "cell_type": "markdown",
   "id": "38f72dcd",
   "metadata": {},
   "source": [
    "## Multiple SEDs"
   ]
  },
  {
   "attachments": {},
   "cell_type": "markdown",
   "id": "04676ea4",
   "metadata": {},
   "source": [
    "The `Sed` object can actually hold an array of seds and the methods should all work fine."
   ]
  },
  {
   "attachments": {},
   "cell_type": "markdown",
   "id": "d23f5a95",
   "metadata": {},
   "source": [
    "Let's create an `Sed` object with two seds:"
   ]
  },
  {
   "cell_type": "code",
   "execution_count": null,
   "id": "6089f86d",
   "metadata": {},
   "outputs": [],
   "source": [
    "sed2 = Sed(sed.lam, np.array([sed.lnu, sed.lnu * 2]))"
   ]
  },
  {
   "cell_type": "code",
   "execution_count": null,
   "id": "d842fe4d",
   "metadata": {},
   "outputs": [],
   "source": [
    "sed2.measure_window_lnu((1400,1600)*Angstrom)"
   ]
  },
  {
   "cell_type": "code",
   "execution_count": null,
   "id": "97808856",
   "metadata": {},
   "outputs": [],
   "source": [
    "sed2.measure_window_lnu((1400,1600)*Angstrom, method='average')"
   ]
  },
  {
   "cell_type": "code",
   "execution_count": null,
   "id": "addd3b8f",
   "metadata": {},
   "outputs": [],
   "source": [
    "sed2.measure_beta()"
   ]
  },
  {
   "cell_type": "code",
   "execution_count": null,
   "id": "c4e3645c",
   "metadata": {},
   "outputs": [],
   "source": [
    "sed2.measure_beta(window=(1250,1750,2250,2750))"
   ]
  },
  {
   "cell_type": "code",
   "execution_count": null,
   "id": "f5f8deed",
   "metadata": {},
   "outputs": [],
   "source": [
    "sed2.measure_balmer_break()"
   ]
  },
  {
   "cell_type": "code",
   "execution_count": null,
   "id": "2994d5fe",
   "metadata": {},
   "outputs": [],
   "source": [
    "sed2.measure_index((1500,1600)*Angstrom, (1400,1500)*Angstrom, (1600,1700)*Angstrom)"
   ]
  },
  {
   "cell_type": "markdown",
   "metadata": {},
   "source": [
    "### Combining SEDs\n",
    "\n",
    "`Sed`s can be combined either via concatenation to produce a single `Sed` holding multiple spectra from the combined `Sed`s, or by addition to add the spectra contained in two `Sed`s. \n",
    "\n",
    "To concatenate spectra we can use `Sed.concat()`."
   ]
  },
  {
   "cell_type": "code",
   "execution_count": null,
   "metadata": {},
   "outputs": [],
   "source": [
    "print(\"Shapes before:\", sed._lnu.shape, sed2._lnu.shape)\n",
    "sed3 = sed2.concat(sed)\n",
    "print(\"Combined shape:\", sed3._lnu.shape)"
   ]
  },
  {
   "cell_type": "markdown",
   "metadata": {},
   "source": [
    "`Sed.concat` can take an arbitrary number of `Sed` objects to combine."
   ]
  },
  {
   "cell_type": "code",
   "execution_count": null,
   "metadata": {},
   "outputs": [],
   "source": [
    "sed4 = sed2.concat(sed, sed2, sed3)\n",
    "print(\"Combined shape:\", sed4._lnu.shape)"
   ]
  },
  {
   "cell_type": "markdown",
   "metadata": {},
   "source": [
    "If we want to add the spectra of 2 `Sed` objects we simply apply the `+` operator. However, unlike `concat`, this will only work for `Sed`s with identical shapes."
   ]
  },
  {
   "cell_type": "code",
   "execution_count": null,
   "metadata": {},
   "outputs": [],
   "source": [
    "sed5 = sed + sed\n",
    "plt.plot(np.log10(sed.lam), np.log10(sed.lnu), label=\"sed\")\n",
    "plt.plot(np.log10(sed5.lam), np.log10(sed5.lnu), label=\"sed5\")\n",
    "plt.ylim(26, 30)\n",
    "plt.xlim(2, 5)\n",
    "plt.xlabel(r\"$\\rm log_{10}(\\lambda/\\AA)$\")\n",
    "plt.ylabel(r\"$\\rm log_{10}(L_{\\nu}/erg\\ s^{-1}\\ Hz^{-1} M_{\\odot}^{-1})$\")\n",
    "plt.legend()\n",
    "plt.show()\n",
    "plt.close()"
   ]
  },
  {
   "attachments": {},
   "cell_type": "markdown",
   "id": "55d3b546",
   "metadata": {},
   "source": [
    "## Resampling SEDs\n",
    "\n",
    "The `Sed` includes a method to resample an sed, e.g. to lower-resolution or to match observations."
   ]
  },
  {
   "cell_type": "code",
   "execution_count": null,
   "id": "b2c47c14",
   "metadata": {},
   "outputs": [],
   "source": [
    "sed6 = sed.get_resampled_sed(5)\n",
    "plt.plot(np.log10(sed.lam), np.log10(sed.lnu), label=\"Original\")\n",
    "plt.plot(np.log10(sed6.lam), np.log10(sed6.lnu), label=\"Resampled\")\n",
    "plt.xlim(2.2, 3.5)\n",
    "plt.ylim(27., 29.5)\n",
    "plt.xlabel(r\"$\\rm log_{10}(\\lambda/\\AA)$\")\n",
    "plt.ylabel(r\"$\\rm log_{10}(L_{\\nu}/erg\\ s^{-1}\\ Hz^{-1} M_{\\odot}^{-1})$\")\n",
    "plt.legend()\n",
    "plt.show()\n",
    "plt.close()"
   ]
  },
  {
   "cell_type": "code",
   "execution_count": null,
   "id": "6928e926",
   "metadata": {},
   "outputs": [],
   "source": [
    "print(sed.measure_bolometric_luminosity()/sed3.measure_bolometric_luminosity())"
   ]
  }
 ],
 "metadata": {
  "kernelspec": {
   "display_name": "synthesizer-env",
   "language": "python",
   "name": "python3"
  },
  "language_info": {
   "codemirror_mode": {
    "name": "ipython",
    "version": 3
   },
   "file_extension": ".py",
   "mimetype": "text/x-python",
   "name": "python",
   "nbconvert_exporter": "python",
   "pygments_lexer": "ipython3",
   "version": "3.10.4"
  }
 },
 "nbformat": 4,
 "nbformat_minor": 5
}
