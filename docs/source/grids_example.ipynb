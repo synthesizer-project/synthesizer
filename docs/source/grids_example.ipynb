{
 "cells": [
  {
   "attachments": {},
   "cell_type": "markdown",
   "id": "659dcb3a-891b-4271-9073-d02efbeb14d5",
   "metadata": {},
   "source": [
    "# Grids\n",
    "\n",
    "This example allows us to explore a HDF5 grid file, and load the corresponding Grid object. We first load some common modules."
   ]
  },
  {
   "cell_type": "code",
   "execution_count": null,
   "id": "79c4459f-4b18-43dd-922f-f20ad58bbfd6",
   "metadata": {},
   "outputs": [],
   "source": [
    "import numpy as np\n",
    "import h5py\n",
    "import matplotlib.pyplot as plt"
   ]
  },
  {
   "cell_type": "markdown",
   "id": "f77a08bf-109c-4b51-97dc-6c2fc200c6a1",
   "metadata": {},
   "source": [
    "We can then import the `Grid` object from synthesizer."
   ]
  },
  {
   "cell_type": "code",
   "execution_count": null,
   "id": "d4c139d9-a589-425f-9a69-736b82f96e65",
   "metadata": {},
   "outputs": [],
   "source": [
    "from synthesizer.grid import Grid"
   ]
  },
  {
   "cell_type": "markdown",
   "id": "0d593e25-4783-4c38-b346-4c30d07d7482",
   "metadata": {},
   "source": [
    "This object takes the lcoatino of the grids on your system (`grid_dir`) and the name of the grid you wish to load `grid_name`). here we load a simple test grid provided with the module (hence the relative path)."
   ]
  },
  {
   "cell_type": "code",
   "execution_count": null,
   "id": "8a9b1038-a78b-4c5d-8d04-c6f0cebda0a9",
   "metadata": {},
   "outputs": [],
   "source": [
    "grid_dir = '../../tests/test_grid'\n",
    "grid_name = 'test_grid'\n",
    "\n",
    "grid = Grid(grid_name, grid_dir=grid_dir)\n",
    "print(grid)"
   ]
  },
  {
   "cell_type": "markdown",
   "id": "ae701e97-14bb-4abc-95ad-782751c5259f",
   "metadata": {},
   "source": [
    "### Plot a single grid point\n",
    "\n",
    "We can plot the spectra at the location of a single point in our grid. First, we choose some age and metallicity"
   ]
  },
  {
   "cell_type": "code",
   "execution_count": null,
   "id": "decbb271-c6e2-4e72-b992-b6e5bbb7d039",
   "metadata": {},
   "outputs": [],
   "source": [
    "log10age = 6.0  # log10(age/yr)\n",
    "Z = 0.01  # metallicity"
   ]
  },
  {
   "cell_type": "markdown",
   "id": "0e51fb94-f892-4d56-9424-5432709fa937",
   "metadata": {},
   "source": [
    "We then get the index location of that grid point for this age and metallicity"
   ]
  },
  {
   "cell_type": "code",
   "execution_count": null,
   "id": "b95a6646-917b-431e-b2d1-72d08dee0f9d",
   "metadata": {},
   "outputs": [],
   "source": [
    "grid_point = grid.get_grid_point((log10age, Z))"
   ]
  },
  {
   "cell_type": "markdown",
   "id": "8704a652-2145-4d24-af2a-b81e23853daf",
   "metadata": {},
   "source": [
    "We can then loop over the available spectra (contained in `grid.spec_names`) and plot"
   ]
  },
  {
   "cell_type": "code",
   "execution_count": null,
   "id": "423dea3a-1a67-4f21-b26c-99008ebb8860",
   "metadata": {},
   "outputs": [],
   "source": [
    "for spec_name in grid.spec_names:\n",
    "    # get Sed object\n",
    "    sed = grid.get_sed(grid_point, spec_name=spec_name)\n",
    "    plt.plot(np.log10(sed.lam), np.log10(sed.lnu), lw=1, alpha=0.8, label=spec_name)\n",
    "    \n",
    "plt.legend(fontsize=8, labelspacing=0.0)\n",
    "plt.xlabel(r'$\\rm log_{10}(\\lambda/\\AA)$')\n",
    "plt.ylabel(r'$\\rm log_{10}(L_{\\nu}/erg\\ s^{-1}\\ Hz^{-1} M_{\\odot}^{-1})$')"
   ]
  },
  {
   "cell_type": "markdown",
   "id": "7a1625be-deef-4730-bf48-a30422507224",
   "metadata": {},
   "source": [
    "### Plot ionising luminosities\n",
    "\n",
    "We can also plot properties over the entire age and metallicity grid, such as the ionising luminosity. \n",
    "\n",
    "In the examples below we plot ionising luminosities for HI and HeII"
   ]
  },
  {
   "cell_type": "code",
   "execution_count": null,
   "id": "eb8088ad-e7ef-4600-941d-0c8b01c59a5d",
   "metadata": {},
   "outputs": [],
   "source": [
    "from synthesizer.plots import plot_log10Q\n",
    "\n",
    "fig, ax = plot_log10Q(grid, ion='HI')"
   ]
  },
  {
   "cell_type": "code",
   "execution_count": null,
   "id": "3ac8ca54-9707-4125-9715-d878a0ed5e27",
   "metadata": {},
   "outputs": [],
   "source": [
    "fig, ax = plot_log10Q(grid, ion='HeII')"
   ]
  },
  {
   "cell_type": "markdown",
   "id": "5df5b437-a1d1-4c86-98fc-c1d63e22bc81",
   "metadata": {},
   "source": [
    "### 3D grids\n",
    "\n",
    "This functionality is currently in development - come back soon!"
   ]
  },
  {
   "cell_type": "code",
   "execution_count": null,
   "id": "d3c28490-b793-4a8e-a33e-426fd3609fa8",
   "metadata": {},
   "outputs": [],
   "source": [
    "# grid_name = 'test_grid3D'\n",
    "\n",
    "# grid = Grid(grid_name, grid_dir=grid_dir)\n",
    "# print(grid)"
   ]
  },
  {
   "cell_type": "code",
   "execution_count": null,
   "id": "c3c32247-626e-48ce-b51a-7a1f3174bdc8",
   "metadata": {},
   "outputs": [],
   "source": []
  }
 ],
 "metadata": {
  "language_info": {
   "name": "python"
  }
 },
 "nbformat": 4,
 "nbformat_minor": 5
}
