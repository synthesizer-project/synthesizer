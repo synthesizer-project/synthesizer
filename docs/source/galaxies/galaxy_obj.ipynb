{
 "cells": [
  {
   "cell_type": "markdown",
   "id": "e71915dc",
   "metadata": {},
   "source": [
    "# Working with Galaxy objects\n",
    "\n",
    "Synthesizer contains two types of galaxy:\n",
    "\n",
    "- A particle `Galaxy` for working with galaxies comprised of individual stars, gas and/or black holes (`synthesizer.particle.galaxy.Galaxy`).\n",
    "- A parametric `Galaxy` for working with parametric models described by SFZH and (when necessary) morphologies (`synthesizer.parametric.galaxy.Galaxy`).\n",
    "\n",
    "As such instantiating and working with `Galaxy`s has the potential to lead to confusion. To simplify things for the user we provide a galaxy \"factory function\" which will always return the correct galaxy based on the arguments passed by the user while raising errors or warnings for incompatible combinations.\n",
    "\n",
    "Below we set up some of the necessary stuff we will need to demonstrate the use `Galaxy`s and the factory function. A description of the significance can be found elsewhere in the documentation."
   ]
  },
  {
   "cell_type": "code",
   "execution_count": 1,
   "id": "54f76655",
   "metadata": {},
   "outputs": [],
   "source": [
    "import numpy as np\n",
    "from unyt import Myr\n",
    "\n",
    "from synthesizer.grid import Grid\n",
    "from synthesizer.parametric.sfzh import SFH, ZH, generate_sfzh\n",
    "from synthesizer.particle.stars import sample_sfhz\n",
    "from synthesizer.particle import Stars\n",
    "from synthesizer.particle.particles import CoordinateGenerator\n",
    "\n",
    "# Define the grid\n",
    "grid_name = \"test_grid\"\n",
    "grid_dir = \"../../../tests/test_grid/\"\n",
    "grid = Grid(grid_name, grid_dir=grid_dir)\n",
    "\n",
    "# Define the metallicity history\n",
    "Z_p = {\"Z\": 0.01}\n",
    "Zh = ZH.deltaConstant(Z_p)\n",
    "\n",
    "# Define the star formation history\n",
    "sfh_p = {\"duration\": 100 * Myr}\n",
    "sfh = SFH.Constant(sfh_p)\n",
    "\n",
    "# Initialise the SFZH object\n",
    "sfzh = generate_sfzh(grid.log10age, grid.metallicity, sfh, Zh, stellar_mass=10**9)\n",
    "\n",
    "# Define the number of stellar particles we want\n",
    "n = 10000\n",
    "\n",
    "# Sample the SFZH, producing a Stars object\n",
    "# we will also pass some keyword arguments for some example attributes\n",
    "stars = sample_sfhz(\n",
    "    sfzh, \n",
    "    n, \n",
    "    current_masses=np.full(n, 10**8.7 / n), \n",
    "    redshift=1, \n",
    "    initial_mass=np.full(n, 10**6)\n",
    ")"
   ]
  },
  {
   "cell_type": "markdown",
   "id": "e5db3360",
   "metadata": {},
   "source": [
    "## Creating a Galaxy\n",
    "\n",
    "Now that we have the building blocks of both a particle and parametric galaxy we can import the factory function and get our galaxies. \n",
    "\n",
    "To do so we simply pass the factory function the arguments for the desired type of `Galaxy`. In the case of a particle based galaxy these are objects from the `particle` module including `Stars`, `Gas`, and `BlackHoles`. For a parametric galaxy these are `BinnedSFZH` and (when applicable) morphology objects such as `Sersic2D`.\n",
    "\n",
    "Note that a particle `Galaxy` can be intialised with any combination of `Stars`, `Gas`, or `BlackHoles` no single particle object is required in all case. Each is a key word argument which defaults to `None` Conversly, a parametric `Galaxy` must"
   ]
  },
  {
   "cell_type": "code",
   "execution_count": 2,
   "id": "2b40091c",
   "metadata": {},
   "outputs": [
    {
     "name": "stdout",
     "output_type": "stream",
     "text": [
      "<class 'synthesizer.particle.galaxy.Galaxy'>\n",
      "<class 'synthesizer.parametric.galaxy.Galaxy'>\n"
     ]
    }
   ],
   "source": [
    "from synthesizer import galaxy\n",
    "\n",
    "# Get a particle galaxy\n",
    "part_gal = galaxy(stars=stars, gas=None, black_holes=None, redshift=1)\n",
    "print(type(part_gal))\n",
    "\n",
    "# Get a parametric galaxy\n",
    "param_gal = galaxy(stars=sfzh, morph=None, redshift=1)\n",
    "print(type(param_gal))"
   ]
  },
  {
   "cell_type": "markdown",
   "id": "6e0dd77a",
   "metadata": {},
   "source": [
    "Of course you are free to avoid this abstraction and explictly instantiate the desired `Galaxy`."
   ]
  },
  {
   "cell_type": "code",
   "execution_count": 3,
   "id": "94c2e68b",
   "metadata": {},
   "outputs": [],
   "source": [
    "from synthesizer.particle import Galaxy\n",
    "\n",
    "# Get a particle galaxy\n",
    "part_gal = Galaxy(stars=stars, gas=None, black_holes=None, redshift=1)"
   ]
  },
  {
   "cell_type": "markdown",
   "id": "ffd96f42",
   "metadata": {},
   "source": [
    "Or for a parametric galaxy."
   ]
  },
  {
   "cell_type": "code",
   "execution_count": 4,
   "id": "54bf197c",
   "metadata": {},
   "outputs": [],
   "source": [
    "from synthesizer.parametric import Galaxy\n",
    "\n",
    "# Get a parametric galaxy\n",
    "param_gal = galaxy(stars=sfzh, morph=None, redshift=1)"
   ]
  },
  {
   "cell_type": "markdown",
   "id": "e0449d96",
   "metadata": {},
   "source": [
    "Once a galaxy has been created there are numerous methods for creating and plotting different types of spectra (e.g. [CAMELS example](../cosmo/galaxy_obj.ipynb)), making images or maps (e.g. [imaging docs](../imaging/particle_imaging.ipynb)), or computing properties. "
   ]
  }
 ],
 "metadata": {
  "kernelspec": {
   "display_name": "Python 3 (ipykernel)",
   "language": "python",
   "name": "python3"
  },
  "language_info": {
   "codemirror_mode": {
    "name": "ipython",
    "version": 3
   },
   "file_extension": ".py",
   "mimetype": "text/x-python",
   "name": "python",
   "nbconvert_exporter": "python",
   "pygments_lexer": "ipython3",
   "version": "3.10.4"
  }
 },
 "nbformat": 4,
 "nbformat_minor": 5
}
