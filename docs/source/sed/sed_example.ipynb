{
 "cells": [
  {
   "attachments": {},
   "cell_type": "markdown",
   "id": "00db497b-9cf9-4547-ae44-4d80f30eb8a1",
   "metadata": {},
   "source": [
    "# The Sed object\n",
    "\n",
    "This example demonstrates the various methods associated with the `Sed` class.\n",
    "\n",
    "`Sed` objects can be extracted directly from [Grid objects](../grids/grids.rst) or created by [Galaxy objects](../galaxy/galaxy.rst).\n",
    "\n",
    "We start by loading some modules and initialising a grid:"
   ]
  },
  {
   "cell_type": "code",
   "execution_count": null,
   "id": "7158257d-8bab-4c83-bac6-38aa83def3bf",
   "metadata": {},
   "outputs": [],
   "source": [
    "import matplotlib.pyplot as plt\n",
    "import numpy as np\n",
    "from unyt import Angstrom, eV, um\n",
    "\n",
    "from synthesizer.emission_models.attenuation.igm import Madau96\n",
    "from synthesizer.filters import FilterCollection\n",
    "from synthesizer.grid import Grid\n",
    "from synthesizer.sed import Sed, plot_spectra_as_rainbow\n",
    "\n",
    "grid_dir = \"../../../tests/test_grid/\"\n",
    "grid_name = \"test_grid\"\n",
    "grid = Grid(grid_name, grid_dir=grid_dir)"
   ]
  },
  {
   "attachments": {},
   "cell_type": "markdown",
   "id": "dcb82045",
   "metadata": {},
   "source": [
    "Next, let's extract the spectra at a given point in our grid.\n",
    "We first define a target age and metallicity, obtain the index of the grid at these values, then extract the spectra.\n",
    "This will be in the form of an ``Sed`` object."
   ]
  },
  {
   "cell_type": "code",
   "execution_count": null,
   "id": "35ad7190",
   "metadata": {},
   "outputs": [],
   "source": [
    "log10age = 6.0  # log10(age/yr)\n",
    "metallicity = 0.01\n",
    "spectra_id = \"incident\"\n",
    "grid_point = grid.get_grid_point((log10age, metallicity))\n",
    "sed = grid.get_spectra(grid_point, spectra_id=spectra_id)\n",
    "sed.lnu *= 1e8  # multiply initial stellar mass\n",
    "\n",
    "print(sed)"
   ]
  },
  {
   "attachments": {},
   "cell_type": "markdown",
   "id": "b21fb144",
   "metadata": {},
   "source": [
    "`Sed` objects contain a wavelength grid and luminosity in the `lam` and `lnu` attributes. Both come with units making them easy to convert:"
   ]
  },
  {
   "cell_type": "code",
   "execution_count": null,
   "id": "e2616d77",
   "metadata": {},
   "outputs": [],
   "source": [
    "print(sed.lam)\n",
    "print(sed.lnu)"
   ]
  },
  {
   "attachments": {},
   "cell_type": "markdown",
   "id": "4e274835",
   "metadata": {},
   "source": [
    "These also have more descriptive aliases:"
   ]
  },
  {
   "cell_type": "code",
   "execution_count": null,
   "id": "ef68fa8f",
   "metadata": {},
   "outputs": [],
   "source": [
    "print(sed.wavelength)\n",
    "print(sed.luminosity_nu)"
   ]
  },
  {
   "attachments": {},
   "cell_type": "markdown",
   "id": "363f3759",
   "metadata": {},
   "source": [
    "Thus we can easily make a plot:"
   ]
  },
  {
   "cell_type": "code",
   "execution_count": null,
   "id": "8c7e91fb",
   "metadata": {},
   "outputs": [],
   "source": [
    "plt.plot(np.log10(sed.lam), np.log10(sed.lnu))\n",
    "plt.show()"
   ]
  },
  {
   "attachments": {},
   "cell_type": "markdown",
   "id": "d1b375d6",
   "metadata": {},
   "source": [
    "We can also also visualise the spectrum as a rainbow."
   ]
  },
  {
   "cell_type": "code",
   "execution_count": null,
   "id": "b375546d",
   "metadata": {},
   "outputs": [],
   "source": [
    "fig, ax = plot_spectra_as_rainbow(sed)\n",
    "plt.show()"
   ]
  },
  {
   "attachments": {},
   "cell_type": "markdown",
   "id": "d51886ec",
   "metadata": {},
   "source": [
    "We can also get the luminosity ($L$) or spectral luminosity density per $\\AA$ ($L_{\\lambda}$): "
   ]
  },
  {
   "cell_type": "code",
   "execution_count": null,
   "id": "ffa42ddc",
   "metadata": {},
   "outputs": [],
   "source": [
    "print(sed.luminosity)\n",
    "print(sed.llam)"
   ]
  },
  {
   "attachments": {},
   "cell_type": "markdown",
   "id": "56dd48dc",
   "metadata": {},
   "source": [
    "``Sed`` objects can be easily scaled via the `*` operator. For example,"
   ]
  },
  {
   "cell_type": "code",
   "execution_count": null,
   "id": "14fd5ac1",
   "metadata": {},
   "outputs": [],
   "source": [
    "sed_x_10 = sed * 10\n",
    "\n",
    "plt.plot(np.log10(sed.lam), np.log10(sed.lnu))\n",
    "plt.plot(np.log10(sed_x_10.lam), np.log10(sed_x_10.lnu))\n",
    "plt.show()"
   ]
  },
  {
   "attachments": {},
   "cell_type": "markdown",
   "id": "623b5609",
   "metadata": {},
   "source": [
    "## Methods\n",
    "\n",
    "There are a number of helper methods on ``Sed`` for calculating common derived properties. We provide some examples below.\n",
    "\n",
    "We can calculate the integrated bolometric luminosity of the Sed:"
   ]
  },
  {
   "cell_type": "code",
   "execution_count": null,
   "id": "c3f35ac3",
   "metadata": {},
   "outputs": [],
   "source": [
    "sed.measure_bolometric_luminosity()"
   ]
  },
  {
   "attachments": {},
   "cell_type": "markdown",
   "id": "1ad27966",
   "metadata": {},
   "source": [
    "By default any spectra integration will use a trapezoid method. It's also possible to use the simpson rule."
   ]
  },
  {
   "cell_type": "code",
   "execution_count": null,
   "id": "f6d6be8d",
   "metadata": {},
   "outputs": [],
   "source": [
    "sed.measure_bolometric_luminosity(integration_method=\"simps\")"
   ]
  },
  {
   "cell_type": "markdown",
   "id": "7571d960",
   "metadata": {},
   "source": [
    "You can also get the luminosity or `lnu` in a particular window by passing the wavelengths defining the limits of the window."
   ]
  },
  {
   "cell_type": "code",
   "execution_count": null,
   "id": "b009326a",
   "metadata": {},
   "outputs": [],
   "source": [
    "sed.measure_window_luminosity((1400.0 * Angstrom, 1600.0 * Angstrom))"
   ]
  },
  {
   "cell_type": "markdown",
   "id": "bff9b81e",
   "metadata": {},
   "source": [
    "Notice how units were provided with this window. These are required but also allow you to use an arbitrary unit system."
   ]
  },
  {
   "cell_type": "code",
   "execution_count": null,
   "id": "6716e968",
   "metadata": {},
   "outputs": [],
   "source": [
    "sed.measure_window_luminosity((0.14 * um, 0.16 * um))"
   ]
  },
  {
   "cell_type": "code",
   "execution_count": null,
   "id": "6f76d8e1",
   "metadata": {},
   "outputs": [],
   "source": [
    "sed.measure_window_lnu((1400.0 * Angstrom, 1600.0 * Angstrom))"
   ]
  },
  {
   "cell_type": "markdown",
   "id": "0f8c6f48",
   "metadata": {},
   "source": [
    "As for the bolometric luminosity, there are multiple integration methods that can be used for calculating the window.\n",
    "By default synthesizer will use the trapezoid method (`\"trapz\"`), but you can also take a simple average."
   ]
  },
  {
   "cell_type": "code",
   "execution_count": null,
   "id": "1c460d65",
   "metadata": {},
   "outputs": [],
   "source": [
    "sed.measure_window_lnu(\n",
    "    (1400.0 * Angstrom, 1600.0 * Angstrom), integration_method=\"average\"\n",
    ")"
   ]
  },
  {
   "attachments": {},
   "cell_type": "markdown",
   "id": "a3e8482a",
   "metadata": {},
   "source": [
    "We can measure a spectral break by providing two windows:"
   ]
  },
  {
   "cell_type": "code",
   "execution_count": null,
   "id": "1abf4968",
   "metadata": {},
   "outputs": [],
   "source": [
    "sed.measure_break((3400, 3600) * Angstrom, (4150, 4250) * Angstrom)"
   ]
  },
  {
   "attachments": {},
   "cell_type": "markdown",
   "id": "d0accf42",
   "metadata": {},
   "source": [
    "There are also a few in-built break methods, e.g. `measure_Balmer_break()`"
   ]
  },
  {
   "cell_type": "code",
   "execution_count": null,
   "id": "2df698f8",
   "metadata": {},
   "outputs": [],
   "source": [
    "sed.measure_balmer_break()"
   ]
  },
  {
   "cell_type": "code",
   "execution_count": null,
   "id": "38913adc",
   "metadata": {},
   "outputs": [],
   "source": [
    "sed.measure_d4000()"
   ]
  },
  {
   "attachments": {},
   "cell_type": "markdown",
   "id": "45c97d43",
   "metadata": {},
   "source": [
    "We can also measure absorption line indices, and spectral slopes (e.g. the UV spectral slope $\\beta$):"
   ]
  },
  {
   "cell_type": "code",
   "execution_count": null,
   "id": "8a50ffc3",
   "metadata": {},
   "outputs": [],
   "source": [
    "sed.measure_index(\n",
    "    (1500, 1600) * Angstrom, (1400, 1500) * Angstrom, (1600, 1700) * Angstrom\n",
    ")"
   ]
  },
  {
   "cell_type": "code",
   "execution_count": null,
   "id": "1734a1ed",
   "metadata": {},
   "outputs": [],
   "source": [
    "sed.measure_beta()"
   ]
  },
  {
   "attachments": {},
   "cell_type": "markdown",
   "id": "099b456e",
   "metadata": {},
   "source": [
    "By default this uses a single window and fits the spectrum by a power-law. However, we can also specify two windows as below, in which case the luminosity in each window is calcualted and used to infer a slope:"
   ]
  },
  {
   "cell_type": "code",
   "execution_count": null,
   "id": "21456b92",
   "metadata": {},
   "outputs": [],
   "source": [
    "sed.measure_beta(window=(1250, 1750, 2250, 2750))"
   ]
  },
  {
   "cell_type": "markdown",
   "id": "914b8124",
   "metadata": {},
   "source": [
    "Finally, we can also measure ionising photon production rates at a particular ionisation energy:"
   ]
  },
  {
   "cell_type": "code",
   "execution_count": null,
   "id": "aba2653e",
   "metadata": {},
   "outputs": [],
   "source": [
    "sed.calculate_ionising_photon_production_rate(\n",
    "    ionisation_energy=13.6 * eV, limit=1000\n",
    ")"
   ]
  },
  {
   "attachments": {},
   "cell_type": "markdown",
   "id": "69f1be0c",
   "metadata": {},
   "source": [
    "## Observed frame SED\n",
    "\n",
    "By default ``Sed`` objects are defined in the rest frame. \n",
    "To move an SED to the observer frame we need to provide a cosmology, using an `astropy.cosmology` object, a redshift $z$, and optionally an IGM absorption model (see [here](../attenuation/igm.ipynb) for details)."
   ]
  },
  {
   "cell_type": "code",
   "execution_count": null,
   "id": "45dea364",
   "metadata": {},
   "outputs": [],
   "source": [
    "from astropy.cosmology import Planck18 as cosmo\n",
    "\n",
    "z = 3.0  # redshift\n",
    "sed.get_fnu(cosmo, z, igm=Madau96)  # generate observed frame spectra\n",
    "\n",
    "plt.plot(np.log10(sed.obslam), np.log10(sed.fnu))\n",
    "plt.show()"
   ]
  },
  {
   "attachments": {},
   "cell_type": "markdown",
   "id": "b8b6b6fc",
   "metadata": {},
   "source": [
    "## Photometry\n",
    "\n",
    "Once we have computed the observed frame SED there is a method on an `Sed` object that allows us to calculate observed photometry (the same is of course true for rest frame photometry). However, first we need to instantiate a `FilterCollection` object (see [Filters](../filters/filters.rst) for details):"
   ]
  },
  {
   "cell_type": "code",
   "execution_count": null,
   "id": "e81e62ce",
   "metadata": {},
   "outputs": [],
   "source": [
    "filter_codes = [\n",
    "    f\"JWST/NIRCam.{f}\"\n",
    "    for f in [\n",
    "        \"F070W\",\n",
    "        \"F090W\",\n",
    "        \"F115W\",\n",
    "        \"F150W\",\n",
    "        \"F200W\",\n",
    "        \"F277W\",\n",
    "        \"F356W\",\n",
    "        \"F444W\",\n",
    "    ]\n",
    "]  # define a list of filter codes\n",
    "fc = FilterCollection(filter_codes, new_lam=grid.lam)\n",
    "\n",
    "# Measure observed photometry\n",
    "fluxes = sed.get_photo_fnu(fc)\n",
    "print(fluxes)"
   ]
  },
  {
   "attachments": {},
   "cell_type": "markdown",
   "id": "38f72dcd",
   "metadata": {},
   "source": [
    "## Multiple SEDs"
   ]
  },
  {
   "attachments": {},
   "cell_type": "markdown",
   "id": "04676ea4",
   "metadata": {},
   "source": [
    "An ``Sed`` object can be composed of multiple SEDs ,if their dimensions are identical (i.e. same wavelength resolution).\n",
    "\n",
    "To demonstrate, let's create an `Sed` object with two seds:"
   ]
  },
  {
   "cell_type": "code",
   "execution_count": null,
   "id": "6089f86d",
   "metadata": {},
   "outputs": [],
   "source": [
    "sed2 = Sed(sed.lam, np.array([sed.lnu, sed.lnu * 2]))\n",
    "\n",
    "sed2.measure_window_lnu((1400, 1600) * Angstrom)\n",
    "sed2.measure_beta()\n",
    "sed2.measure_beta(window=(1250, 1750, 2250, 2750))\n",
    "sed2.measure_balmer_break()\n",
    "sed2.measure_index(\n",
    "    (1500, 1600) * Angstrom, (1400, 1500) * Angstrom, (1600, 1700) * Angstrom\n",
    ")"
   ]
  },
  {
   "cell_type": "markdown",
   "id": "fa44a901",
   "metadata": {},
   "source": [
    "## Combining SEDs\n",
    "\n",
    "``Sed`` objects can be combined either via concatenation, to produce a single ``Sed`` holding multiple spectra, or by addition, to add the spectra contained in the input ``Sed`` objects. \n",
    "\n",
    "To concatenate spectra we use ``Sed.concat()``. \n",
    "`Sed.concat` can take an arbitrary number of `Sed` objects to combine."
   ]
  },
  {
   "cell_type": "code",
   "execution_count": null,
   "id": "35011a0b",
   "metadata": {},
   "outputs": [],
   "source": [
    "print(\"Shapes before:\", sed._lnu.shape, sed2._lnu.shape)\n",
    "sed3 = sed2.concat(sed)\n",
    "print(\"Combined shape:\", sed3._lnu.shape)\n",
    "\n",
    "sed4 = sed2.concat(sed, sed2, sed3)\n",
    "print(\"Combined shape:\", sed4._lnu.shape)"
   ]
  },
  {
   "cell_type": "markdown",
   "id": "282390b5",
   "metadata": {},
   "source": [
    "If we want to add the spectra of two ``Sed`` objects together, we simply apply the `+` operator.\n",
    "However, unlike `concat`, this will only work for ``Sed``s with identical shapes."
   ]
  },
  {
   "cell_type": "code",
   "execution_count": null,
   "id": "e68ce49b",
   "metadata": {},
   "outputs": [],
   "source": [
    "sed_add = sed + sed\n",
    "plt.plot(np.log10(sed.lam), np.log10(sed.lnu), label=\"sed\")\n",
    "plt.plot(np.log10(sed_add.lam), np.log10(sed_add.lnu), label=\"sed5\")\n",
    "plt.ylim(26, 30)\n",
    "plt.xlim(2, 5)\n",
    "plt.xlabel(r\"$\\rm log_{10}(\\lambda/\\AA)$\")\n",
    "plt.ylabel(r\"$\\rm log_{10}(L_{\\nu}/erg\\ s^{-1}\\ Hz^{-1} M_{\\odot}^{-1})$\")\n",
    "plt.legend()\n",
    "plt.show()\n",
    "plt.close()"
   ]
  },
  {
   "attachments": {},
   "cell_type": "markdown",
   "id": "55d3b546",
   "metadata": {},
   "source": [
    "## Resampling SEDs\n",
    "\n",
    "The `Sed` includes a method to resample an sed, e.g. to lower-resolution or to match some target resolution (e.g. from observations)."
   ]
  },
  {
   "cell_type": "code",
   "execution_count": null,
   "id": "b2c47c14",
   "metadata": {},
   "outputs": [],
   "source": [
    "sed_resampled = sed.get_resampled_sed(5)\n",
    "plt.plot(np.log10(sed.lam), np.log10(sed.lnu), label=\"Original\")\n",
    "plt.plot(\n",
    "    np.log10(sed_resampled.lam), np.log10(sed_resampled.lnu), label=\"Resampled\"\n",
    ")\n",
    "plt.xlim(2.2, 3.5)\n",
    "plt.ylim(27.0, 29.5)\n",
    "plt.xlabel(r\"$\\rm log_{10}(\\lambda/\\AA)$\")\n",
    "plt.ylabel(r\"$\\rm log_{10}(L_{\\nu}/erg\\ s^{-1}\\ Hz^{-1} M_{\\odot}^{-1})$\")\n",
    "plt.legend()\n",
    "plt.show()\n",
    "plt.close()"
   ]
  },
  {
   "cell_type": "code",
   "execution_count": null,
   "id": "6928e926",
   "metadata": {},
   "outputs": [],
   "source": [
    "print(\n",
    "    sed.measure_bolometric_luminosity() / sed3.measure_bolometric_luminosity()\n",
    ")"
   ]
  },
  {
   "cell_type": "markdown",
   "id": "8ff799a0",
   "metadata": {},
   "source": [
    "## Applying attenuation\n",
    "\n",
    "To apply attenuation to an `Sed` you can use the `apply_attenuation` method and pass the optical depth and a dust curve (see [Attenuation](../attenuation/dust_attenuation.ipynb) for more details on dust curves)."
   ]
  },
  {
   "cell_type": "code",
   "execution_count": null,
   "id": "39e0e53c",
   "metadata": {},
   "outputs": [],
   "source": [
    "from synthesizer.emission_models.attenuation import PowerLaw\n",
    "\n",
    "sed4_att = sed4.apply_attenuation(tau_v=0.7, dust_curve=PowerLaw(-1.0))\n",
    "\n",
    "plt.plot(np.log10(sed4.lam), np.log10(sed4.lnu[0, :]), label=\"Incident\")\n",
    "plt.plot(\n",
    "    np.log10(sed4_att.lam), np.log10(sed4_att.lnu[0, :]), label=\"Attenuated\"\n",
    ")\n",
    "plt.xlim(2.2, 3.5)\n",
    "plt.ylim(26.0, 30.0)\n",
    "plt.xlabel(r\"$\\rm log_{10}(\\lambda/\\AA)$\")\n",
    "plt.ylabel(r\"$\\rm log_{10}(L_{\\nu}/erg\\ s^{-1}\\ Hz^{-1} M_{\\odot}^{-1})$\")\n",
    "plt.legend()\n",
    "plt.show()\n",
    "plt.close()"
   ]
  },
  {
   "cell_type": "markdown",
   "id": "669314bc",
   "metadata": {},
   "source": [
    "``apply_attenuation`` can also accept a ``mask``, which applies attenuation to specific spectra in a multidimensional ``Sed`` (like an `Sed` containing the spectra for multiple particles, for instance.)"
   ]
  },
  {
   "cell_type": "code",
   "execution_count": null,
   "id": "0b944d48",
   "metadata": {},
   "outputs": [],
   "source": [
    "sed0_att = sed4.apply_attenuation(\n",
    "    tau_v=0.7,\n",
    "    dust_curve=PowerLaw(-1.0),\n",
    "    mask=np.array([0, 1, 0, 0, 0, 0, 0, 0], dtype=bool),\n",
    ")\n",
    "\n",
    "plt.plot(np.log10(sed4.lam), np.log10(sed4.lnu[1, :]), label=\"Incident\")\n",
    "plt.plot(np.log10(sed4.lam), np.log10(sed0_att.lnu[0, :]), label=\"Attenuated\")\n",
    "plt.xlim(2.2, 3.5)\n",
    "plt.ylim(26.0, 30.0)\n",
    "plt.xlabel(r\"$\\rm log_{10}(\\lambda/\\AA)$\")\n",
    "plt.ylabel(r\"$\\rm log_{10}(L_{\\nu}/erg\\ s^{-1}\\ Hz^{-1} M_{\\odot}^{-1})$\")\n",
    "plt.legend()\n",
    "plt.show()\n",
    "plt.close()"
   ]
  },
  {
   "cell_type": "markdown",
   "id": "c3bfc369",
   "metadata": {},
   "source": [
    "## Calculating transmission\n",
    "\n",
    "If you have an attenuated SED, a natural quantity to calculate is the extinction of that spectra ($A$). This can be done either at the wavelengths of the `Sed`, an arbitrary wavelength/wavelength array, or at commonly used values (1500 and 5500 angstrom) using functions available in the `sed` module. Note that these functions return the extinction/attenuation in magnitudes. Below is a demonstration."
   ]
  },
  {
   "cell_type": "code",
   "execution_count": null,
   "id": "eaa22e89",
   "metadata": {},
   "outputs": [],
   "source": [
    "from unyt import angstrom, um\n",
    "\n",
    "from synthesizer.sed import (\n",
    "    get_attenuation,\n",
    "    get_attenuation_at_1500,\n",
    "    get_attenuation_at_5500,\n",
    "    get_attenuation_at_lam,\n",
    ")\n",
    "\n",
    "# Get an intrinsic spectra\n",
    "grid_point = grid.get_grid_point((7, 0.01))\n",
    "int_sed = grid.get_spectra(grid_point, spectra_id=\"incident\")\n",
    "\n",
    "# Apply an attenuation curve\n",
    "att_sed = int_sed.apply_attenuation(tau_v=0.7, dust_curve=PowerLaw(-1.0))\n",
    "\n",
    "# Get attenuation at sed.lam\n",
    "attenuation = get_attenuation(int_sed, att_sed)\n",
    "\n",
    "# Get attenuation at 5 microns\n",
    "att_at_5 = get_attenuation_at_lam(5 * um, int_sed, att_sed)\n",
    "\n",
    "# Get attenuation at an arbitrary range of wavelengths\n",
    "att_at_range = get_attenuation_at_lam(\n",
    "    np.linspace(5000, 10000, 5) * angstrom, int_sed, att_sed\n",
    ")\n",
    "\n",
    "# Get attenuation at 1500 angstrom\n",
    "att_at_1500 = get_attenuation_at_1500(int_sed, att_sed)\n",
    "\n",
    "# Get attenuation at 5500 angstrom\n",
    "att_at_5500 = get_attenuation_at_5500(int_sed, att_sed)"
   ]
  }
 ],
 "metadata": {},
 "nbformat": 4,
 "nbformat_minor": 5
}
