{
 "cells": [
  {
   "attachments": {},
   "cell_type": "markdown",
   "id": "00db497b-9cf9-4547-ae44-4d80f30eb8a1",
   "metadata": {},
   "source": [
    "## Lines from `Grid` objects\n",
    "\n",
    "Grids that have been post-processed through a photoionisation code (e.g. `Cloudy`) contain information on emission lines.\n",
    "These can be loaded like regular grids, but there are a number of additional methods for working with lines, as demonstrated in these examples."
   ]
  },
  {
   "cell_type": "code",
   "execution_count": null,
   "id": "7158257d-8bab-4c83-bac6-38aa83def3bf",
   "metadata": {},
   "outputs": [],
   "source": [
    "import matplotlib.pyplot as plt\n",
    "import numpy as np\n",
    "\n",
    "from synthesizer.emissions import line_ratios\n",
    "from synthesizer.emissions.utils import (\n",
    "    Hb,\n",
    "    O3b,\n",
    "    O3r,\n",
    ")\n",
    "from synthesizer.grid import Grid"
   ]
  },
  {
   "attachments": {},
   "cell_type": "markdown",
   "id": "f1c24a75",
   "metadata": {},
   "source": [
    "Next let's initialise a grid:"
   ]
  },
  {
   "cell_type": "code",
   "execution_count": null,
   "id": "dc8b164f-3d98-456f-8e21-b0d72d7a7ff8",
   "metadata": {},
   "outputs": [],
   "source": [
    "grid_dir = \"../../../tests/test_grid\"\n",
    "grid_name = \"test_grid\"\n",
    "grid = Grid(grid_name, grid_dir=grid_dir)"
   ]
  },
  {
   "attachments": {},
   "cell_type": "markdown",
   "id": "99c9eeef-aef7-4947-a71f-47a1e08f74c6",
   "metadata": {},
   "source": [
    "We can easily get a list of the available lines:"
   ]
  },
  {
   "cell_type": "code",
   "execution_count": null,
   "id": "75cd263b",
   "metadata": {},
   "outputs": [],
   "source": [
    "print(grid.available_lines)"
   ]
  },
  {
   "attachments": {},
   "cell_type": "markdown",
   "id": "646a1208",
   "metadata": {},
   "source": [
    "This is also reported if we give use the `print` function on a grid directly:"
   ]
  },
  {
   "cell_type": "code",
   "execution_count": null,
   "id": "2452dc7a",
   "metadata": {},
   "outputs": [],
   "source": [
    "print(grid)"
   ]
  },
  {
   "attachments": {},
   "cell_type": "markdown",
   "id": "4e5f6fff",
   "metadata": {},
   "source": [
    "## Extracting lines from a Grid\n",
    "\n",
    "To demonstrate, we choose some age and metallicity and extract the spectra at that grid point. We can then get information on a single line, in this case H-$\\beta$."
   ]
  },
  {
   "cell_type": "code",
   "execution_count": null,
   "id": "5755eac6",
   "metadata": {},
   "outputs": [],
   "source": [
    "log10age = 6.0  # log10(age/yr)\n",
    "metallicity = 0.01\n",
    "\n",
    "# find nearest grid point\n",
    "grid_point = grid.get_grid_point(log10ages=log10age, metallicity=metallicity)\n",
    "print(grid_point)\n",
    "line = grid.get_lines(grid_point, \"H 1 6562.80A\")\n",
    "print(line)"
   ]
  },
  {
   "attachments": {},
   "cell_type": "markdown",
   "id": "97ff912d",
   "metadata": {},
   "source": [
    "We can do this for a combination of lines (e.g. a doublet) if we just pass a comma-separated list of lines ids to the ``line_id`` argument."
   ]
  },
  {
   "cell_type": "code",
   "execution_count": null,
   "id": "a637f995",
   "metadata": {},
   "outputs": [],
   "source": [
    "line = grid.get_lines(grid_point, \", \".join([Hb, O3r, O3b]))\n",
    "print(line)"
   ]
  },
  {
   "attachments": {},
   "cell_type": "markdown",
   "id": "6353908f",
   "metadata": {},
   "source": [
    "We can also get a collection of individual lines by passing a list of line ids to the ``line_id`` argument. "
   ]
  },
  {
   "cell_type": "code",
   "execution_count": null,
   "id": "8759f3f7",
   "metadata": {},
   "outputs": [],
   "source": [
    "line = grid.get_lines(grid_point, [Hb, O3r, O3b])\n",
    "print(line)"
   ]
  },
  {
   "cell_type": "markdown",
   "id": "41c89d88",
   "metadata": {},
   "source": [
    "If we don't pass a list then it defaults to returning all available lines.\n"
   ]
  },
  {
   "cell_type": "code",
   "execution_count": null,
   "id": "a86704a1",
   "metadata": {},
   "outputs": [],
   "source": [
    "lines = grid.get_lines(grid_point)\n",
    "print(lines)"
   ]
  },
  {
   "attachments": {},
   "cell_type": "markdown",
   "id": "9f2d75e2",
   "metadata": {},
   "source": [
    "## Ratios as a function of metallicity\n",
    "\n",
    "To show the dependence on stellar metallicity we can loop over the metallicity grid:"
   ]
  },
  {
   "cell_type": "code",
   "execution_count": null,
   "id": "efe444b7",
   "metadata": {},
   "outputs": [],
   "source": [
    "ratio_id = \"R23\"\n",
    "ia = 0  # 1 Myr old for test grid\n",
    "ratios = []\n",
    "for iZ, Z in enumerate(grid.metallicity):\n",
    "    grid_point = (ia, iZ)\n",
    "    lines = grid.get_lines(grid_point)\n",
    "    ratios.append(lines.get_ratio(ratio_id))\n",
    "\n",
    "Zsun = grid.metallicity / 0.0124\n",
    "plt.plot(Zsun, ratios)\n",
    "plt.xlim([0.01, 1])\n",
    "plt.ylim([1, 20])\n",
    "plt.xscale(\"log\")\n",
    "plt.yscale(\"log\")\n",
    "plt.xlabel(r\"$Z/Z_{\\odot}$\")\n",
    "plt.ylabel(rf\"{ratio_id}\")\n",
    "plt.show()"
   ]
  },
  {
   "attachments": {},
   "cell_type": "markdown",
   "id": "d6f94730",
   "metadata": {},
   "source": [
    "## Line Diagrams as a function of metallicity\n",
    "\n",
    "We can also generate diagrams using pairs of line ratios, such as the famous Baldwin, Phillips & Terlevich (BPT) diagram.\n",
    "\n",
    "``line_ratios`` also contains some classification regions (e.g. [Kewley+13](https://ui.adsabs.harvard.edu/abs/2013ApJ...774L..10K/abstract) and [Kauffmann+03](https://ui.adsabs.harvard.edu/abs/2003MNRAS.346.1055K/abstract)) that we can plot:"
   ]
  },
  {
   "cell_type": "code",
   "execution_count": null,
   "id": "0600e143",
   "metadata": {},
   "outputs": [],
   "source": [
    "diagram_id = \"BPT-NII\"\n",
    "ia = 0  # 1 Myr old for test grid\n",
    "x = []\n",
    "y = []\n",
    "for iZ, Z in enumerate(grid.metallicity):\n",
    "    grid_point = (ia, iZ)\n",
    "    lines = grid.get_lines(grid_point)\n",
    "    x_, y_ = lines.get_diagram(diagram_id)\n",
    "    x.append(x_)\n",
    "    y.append(y_)\n",
    "\n",
    "\n",
    "# Plot the Kewley SF/AGN dividing line\n",
    "fig, ax = plt.subplots()\n",
    "ax.plot(x, y)\n",
    "logNII_Ha = np.arange(-2.0, 1.0, 0.01)\n",
    "logOIII_Hb = line_ratios.plot_bpt_kewley01(\n",
    "    logNII_Ha, fig=fig, ax=ax, show=True, c=\"k\", lw=\"2\", alpha=0.3\n",
    ")"
   ]
  }
 ],
 "metadata": {},
 "nbformat": 4,
 "nbformat_minor": 5
}
