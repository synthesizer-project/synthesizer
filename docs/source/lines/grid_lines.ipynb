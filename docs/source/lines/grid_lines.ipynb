{
 "cells": [
  {
   "attachments": {},
   "cell_type": "markdown",
   "id": "00db497b-9cf9-4547-ae44-4d80f30eb8a1",
   "metadata": {},
   "source": [
    "## Lines from `Grid` objects\n",
    "\n",
    "Grids that have been post-processed through a photoionisation code (e.g. `Cloudy`) contain information on emission lines.\n",
    "These can be loaded like regular grids, but there are a number of additional methods for working with lines, as demonstrated in these examples."
   ]
  },
  {
   "cell_type": "code",
   "execution_count": null,
   "id": "7158257d-8bab-4c83-bac6-38aa83def3bf",
   "metadata": {},
   "outputs": [],
   "source": [
    "import matplotlib.pyplot as plt\n",
    "import numpy as np\n",
    "\n",
    "import synthesizer.line_ratios as line_ratios\n",
    "from synthesizer.grid import Grid\n",
    "from synthesizer.line import (\n",
    "    get_diagram_labels,\n",
    ")"
   ]
  },
  {
   "attachments": {},
   "cell_type": "markdown",
   "id": "4d3148a4",
   "metadata": {},
   "source": [
    "Let's first introduce the `line_ratios` module. This contains a set of useful definitions."
   ]
  },
  {
   "cell_type": "code",
   "execution_count": null,
   "id": "b848dd46",
   "metadata": {},
   "outputs": [],
   "source": [
    "# the ID of H-alpha\n",
    "print(line_ratios.Ha)\n",
    "\n",
    "# the available in-built line ratios ...\n",
    "print(line_ratios.available_ratios)\n",
    "\n",
    "# ... and diagrams.\n",
    "print(line_ratios.available_diagrams)"
   ]
  },
  {
   "attachments": {},
   "cell_type": "markdown",
   "id": "f1c24a75",
   "metadata": {},
   "source": [
    "Next let's initialise a grid:"
   ]
  },
  {
   "cell_type": "code",
   "execution_count": null,
   "id": "dc8b164f-3d98-456f-8e21-b0d72d7a7ff8",
   "metadata": {},
   "outputs": [],
   "source": [
    "grid_dir = \"../../../tests/test_grid\"\n",
    "grid_name = \"test_grid\"\n",
    "grid = Grid(grid_name, grid_dir=grid_dir)"
   ]
  },
  {
   "attachments": {},
   "cell_type": "markdown",
   "id": "99c9eeef-aef7-4947-a71f-47a1e08f74c6",
   "metadata": {},
   "source": [
    "We can easily get a list of the available lines:"
   ]
  },
  {
   "cell_type": "code",
   "execution_count": null,
   "id": "75cd263b",
   "metadata": {},
   "outputs": [],
   "source": [
    "print(grid.available_lines)"
   ]
  },
  {
   "attachments": {},
   "cell_type": "markdown",
   "id": "646a1208",
   "metadata": {},
   "source": [
    "This is also reported if we give use the `print` function on a grid directly:"
   ]
  },
  {
   "cell_type": "code",
   "execution_count": null,
   "id": "2452dc7a",
   "metadata": {},
   "outputs": [],
   "source": [
    "print(grid)"
   ]
  },
  {
   "attachments": {},
   "cell_type": "markdown",
   "id": "4e5f6fff",
   "metadata": {},
   "source": [
    "To demonstrate, we choose some age and metallicity and extract the spectra at that grid point. We can then get information on a single line, in this case H-$\\beta$."
   ]
  },
  {
   "cell_type": "code",
   "execution_count": null,
   "id": "5755eac6",
   "metadata": {},
   "outputs": [],
   "source": [
    "log10age = 6.0  # log10(age/yr)\n",
    "metallicity = 0.01\n",
    "\n",
    "# find nearest grid point\n",
    "grid_point = grid.get_grid_point((log10age, metallicity))\n",
    "\n",
    "line_id = line_ratios.Hb\n",
    "line = grid.get_line(grid_point, line_id)\n",
    "print(line)"
   ]
  },
  {
   "attachments": {},
   "cell_type": "markdown",
   "id": "97ff912d",
   "metadata": {},
   "source": [
    "We can do this for a combination of lines (e.g. a doublet).\n",
    "\n",
    "Note that this sums the contribution of each line; if you want separate lines, use the `get_lines` method described below."
   ]
  },
  {
   "cell_type": "code",
   "execution_count": null,
   "id": "a637f995",
   "metadata": {},
   "outputs": [],
   "source": [
    "line = grid.get_line(\n",
    "    grid_point, [line_ratios.Hb, line_ratios.O3r, line_ratios.O3b]\n",
    ")\n",
    "print(line)"
   ]
  },
  {
   "attachments": {},
   "cell_type": "markdown",
   "id": "6353908f",
   "metadata": {},
   "source": [
    "We can also create a `LineCollection`, a collection of lines which have methods for calculating ratios and diagrams. By default this will create a collection for all available lines, but you can also specify which lines you want."
   ]
  },
  {
   "cell_type": "code",
   "execution_count": null,
   "id": "a86704a1",
   "metadata": {},
   "outputs": [],
   "source": [
    "lines = grid.get_lines(grid_point)\n",
    "print(lines)"
   ]
  },
  {
   "attachments": {},
   "cell_type": "markdown",
   "id": "31de7baa",
   "metadata": {},
   "source": [
    "We can measure some predefined line ratios, or loop over all pre-defined ratios:"
   ]
  },
  {
   "cell_type": "code",
   "execution_count": null,
   "id": "1e5547db",
   "metadata": {},
   "outputs": [],
   "source": [
    "ratio_id = \"BalmerDecrement\"\n",
    "ratio = lines.get_ratio(ratio_id)\n",
    "print(f\"{ratio_id}: {ratio:.2f}\")\n",
    "\n",
    "for ratio_id in lines.available_ratios:\n",
    "    ratio = lines.get_ratio(ratio_id)\n",
    "    print(f\"{ratio_id}: {ratio:.2f}\")"
   ]
  },
  {
   "attachments": {},
   "cell_type": "markdown",
   "id": "58d95022",
   "metadata": {},
   "source": [
    "We can also easily measure the ratio of an arbitrary set of lines:"
   ]
  },
  {
   "cell_type": "code",
   "execution_count": null,
   "id": "486d251b",
   "metadata": {},
   "outputs": [],
   "source": [
    "lines.get_ratio([\"Ne 4 1601.45A\", \"He 2 1640.41A\"])\n",
    "lines.get_ratio([\"Ne 4 1601.45A, He 2 1640.41A\", \"O 3 1660.81A\"])"
   ]
  },
  {
   "attachments": {},
   "cell_type": "markdown",
   "id": "9f2d75e2",
   "metadata": {},
   "source": [
    "To show the dependence on stellar metallicity we can loop over the metallicity grid:"
   ]
  },
  {
   "cell_type": "code",
   "execution_count": null,
   "id": "efe444b7",
   "metadata": {},
   "outputs": [],
   "source": [
    "ratio_id = \"R23\"\n",
    "ia = 0  # 1 Myr old for test grid\n",
    "ratios = []\n",
    "for iZ, Z in enumerate(grid.metallicity):\n",
    "    grid_point = (ia, iZ)\n",
    "    lines = grid.get_lines(grid_point)\n",
    "    ratios.append(lines.get_ratio(ratio_id))\n",
    "\n",
    "Zsun = grid.metallicity / 0.0124\n",
    "plt.plot(Zsun, ratios)\n",
    "plt.xlim([0.01, 1])\n",
    "plt.ylim([1, 20])\n",
    "plt.xscale(\"log\")\n",
    "plt.yscale(\"log\")\n",
    "plt.xlabel(r\"$Z/Z_{\\odot}$\")\n",
    "plt.ylabel(rf\"{ratio_id}\")\n",
    "# plt.ylabel(rf'${get_ratio_label(ratio_id)}$')\n",
    "plt.show()"
   ]
  },
  {
   "attachments": {},
   "cell_type": "markdown",
   "id": "d6f94730",
   "metadata": {},
   "source": [
    "We can also generate diagrams using pairs of line ratios, such as the famous Baldwin, Phillips & Terlevich (BPT) diagram.\n",
    "\n",
    "``line_ratios`` also contains some classification regions (e.g. [Kewley+13](https://ui.adsabs.harvard.edu/abs/2013ApJ...774L..10K/abstract) and [Kauffmann+03](https://ui.adsabs.harvard.edu/abs/2003MNRAS.346.1055K/abstract)) that we can plot:"
   ]
  },
  {
   "cell_type": "code",
   "execution_count": null,
   "id": "0600e143",
   "metadata": {},
   "outputs": [],
   "source": [
    "diagram_id = \"BPT-NII\"\n",
    "ia = 0  # 1 Myr old for test grid\n",
    "x = []\n",
    "y = []\n",
    "for iZ, Z in enumerate(grid.metallicity):\n",
    "    grid_point = (ia, iZ)\n",
    "    lines = grid.get_lines(grid_point)\n",
    "    x_, y_ = lines.get_diagram(diagram_id)\n",
    "    x.append(x_)\n",
    "    y.append(y_)\n",
    "\n",
    "\n",
    "# plot the Kewley SF/AGN dividing line\n",
    "\n",
    "logNII_Ha = np.arange(-2.0, 1.0, 0.01)\n",
    "logOIII_Hb = line_ratios.get_bpt_kewley01(logNII_Ha)\n",
    "plt.plot(10**logNII_Ha, 10**logOIII_Hb, c=\"k\", lw=\"2\", alpha=0.3)\n",
    "\n",
    "plt.plot(x, y)\n",
    "plt.xlim([0.01, 10])\n",
    "plt.ylim([0.05, 20])\n",
    "plt.xscale(\"log\")\n",
    "plt.yscale(\"log\")\n",
    "\n",
    "# grab x and y labels, this time use \"fancy\" label ids\n",
    "xlabel, ylabel = get_diagram_labels(diagram_id)\n",
    "\n",
    "plt.xlabel(rf\"${xlabel}$\")\n",
    "plt.ylabel(rf\"${ylabel}$\")\n",
    "plt.show()"
   ]
  }
 ],
 "metadata": {},
 "nbformat": 4,
 "nbformat_minor": 5
}
