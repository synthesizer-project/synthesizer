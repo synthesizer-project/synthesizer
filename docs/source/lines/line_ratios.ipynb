{
 "cells": [
  {
   "cell_type": "markdown",
   "metadata": {},
   "source": [
    "# Line Ratios\n",
    "\n",
    "The ``line_ratios`` submodule provides some helpful definitions that can be used to simplify calculating line ratios. As shown below, the submodule defines a set of commonly used ratios from the literature."
   ]
  },
  {
   "cell_type": "code",
   "execution_count": null,
   "metadata": {},
   "outputs": [],
   "source": [
    "from synthesizer.emissions import line_ratios\n",
    "\n",
    "print(line_ratios.available_ratios)\n",
    "\n",
    "for ratio in line_ratios.available_ratios:\n",
    "    print(\n",
    "        f\"{ratio} = {line_ratios.ratios[ratio][0]} \"\n",
    "        f\"/ {line_ratios.ratios[ratio][1]}\"\n",
    "    )"
   ]
  },
  {
   "cell_type": "markdown",
   "metadata": {},
   "source": [
    "## Diagnostic Diagrams\n",
    "\n",
    "In addition to line ratios, the submodule also provides a set of common diagnostic diagrams that can be used, for example, to classify the ionizing source."
   ]
  },
  {
   "cell_type": "code",
   "execution_count": null,
   "metadata": {},
   "outputs": [],
   "source": [
    "print(line_ratios.available_diagrams)\n",
    "\n",
    "for diagram in line_ratios.available_diagrams:\n",
    "    print(\n",
    "        f\"{diagram} = {line_ratios.diagrams[diagram][0]} \"\n",
    "        f\"/ {line_ratios.diagrams[diagram][1]}\"\n",
    "    )"
   ]
  },
  {
   "cell_type": "markdown",
   "metadata": {},
   "source": [
    "## Combining ``line_ratios`` with a ``LineCollection``\n",
    "\n"
   ]
  },
  {
   "cell_type": "code",
   "execution_count": null,
   "metadata": {},
   "outputs": [],
   "source": [
    "from synthesizer.grid import Grid\n",
    "\n",
    "grid = Grid(\"test_grid\", \"../../../tests/test_grid\")\n",
    "lines = grid.get_lines((1, 8))"
   ]
  },
  {
   "cell_type": "markdown",
   "metadata": {},
   "source": [
    "As shown in the [line collection docs](lines_example.ipynb), we can measure some predefined line ratios by passing the name of a ratio. We can also import all line ratios and loop over all pre-defined ratios."
   ]
  },
  {
   "cell_type": "code",
   "execution_count": null,
   "metadata": {},
   "outputs": [],
   "source": [
    "for ratio_id in lines.available_ratios:\n",
    "    ratio = lines.get_ratio(ratio_id)\n",
    "    print(f\"{ratio_id}: {ratio:.2f}\")"
   ]
  },
  {
   "cell_type": "markdown",
   "metadata": {},
   "source": [
    "Similarly, we can also do same for all the diagnostic diagrams."
   ]
  },
  {
   "cell_type": "code",
   "execution_count": null,
   "metadata": {},
   "outputs": [],
   "source": [
    "for diagram_id in lines.available_diagrams:\n",
    "    diagram0, diagram1 = lines.get_diagram(diagram_id)\n",
    "    print(f\"{diagram_id}: {diagram0:.2f} / {diagram1:.2f}\")"
   ]
  },
  {
   "cell_type": "markdown",
   "metadata": {},
   "source": [
    "## BPT Classification Regions\n",
    "\n",
    "The ``lines_ratios`` module also provides functions defining BPT classification regions from [Kewley+13](https://ui.adsabs.harvard.edu/abs/2013ApJ...774L..10K/abstract) and [Kauffmann+03](https://ui.adsabs.harvard.edu/abs/2003MNRAS.346.1055K/abstract). These functions take a set of x values and return the y values that define the classification regions."
   ]
  },
  {
   "cell_type": "code",
   "execution_count": null,
   "metadata": {},
   "outputs": [],
   "source": [
    "import numpy as np\n",
    "\n",
    "logNII_Ha = np.arange(-2.0, 1.0, 0.01)\n",
    "logOIII_Hb_kewley = line_ratios.get_bpt_kewley01(logNII_Ha)\n",
    "logOIII_Hb_kauffman = line_ratios.get_bpt_kauffman03(logNII_Ha)"
   ]
  },
  {
   "cell_type": "markdown",
   "metadata": {},
   "source": [
    "We also provide functions to plot these classifications either on an existing set of axes or on a new figure."
   ]
  },
  {
   "cell_type": "code",
   "execution_count": null,
   "metadata": {},
   "outputs": [],
   "source": [
    "fig, ax = line_ratios.plot_bpt_kewley01(\n",
    "    logNII_Ha, show=False, fig=None, ax=None, label=\"Kewley+01\"\n",
    ")\n",
    "_, _ = line_ratios.plot_bpt_kauffman03(\n",
    "    logNII_Ha, fig=fig, ax=ax, label=\"Kauffman+03\", show=True\n",
    ")"
   ]
  },
  {
   "cell_type": "markdown",
   "metadata": {},
   "source": [
    "\n",
    "\n",
    "For a more interesting example, see the metallicity dependence plots in the [grid lines example](grid_lines.ipynb)."
   ]
  }
 ],
 "metadata": {},
 "nbformat": 4,
 "nbformat_minor": 2
}
