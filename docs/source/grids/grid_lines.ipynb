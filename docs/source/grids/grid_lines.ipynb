{
 "cells": [
  {
   "attachments": {},
   "cell_type": "markdown",
   "id": "00db497b-9cf9-4547-ae44-4d80f30eb8a1",
   "metadata": {},
   "source": [
    "# Grid lines\n",
    "\n",
    "Grids that have been post-processed through CLOUDY also contain information on nebular emission lines. These can be loaded like regular grids, but there are a number of additional methods for working with lines as demonstrated in these examples:"
   ]
  },
  {
   "cell_type": "code",
   "execution_count": 18,
   "id": "7158257d-8bab-4c83-bac6-38aa83def3bf",
   "metadata": {
    "tags": []
   },
   "outputs": [],
   "source": [
    "import numpy as np\n",
    "import matplotlib.pyplot as plt\n",
    "\n",
    "from synthesizer.grid import Grid, get_available_lines"
   ]
  },
  {
   "attachments": {},
   "cell_type": "markdown",
   "id": "f1c24a75",
   "metadata": {},
   "source": [
    "Let's begin by initialising a grid, making sure we add the flag for reading in the lines (by default we don't):"
   ]
  },
  {
   "cell_type": "code",
   "execution_count": 19,
   "id": "dc8b164f-3d98-456f-8e21-b0d72d7a7ff8",
   "metadata": {
    "tags": []
   },
   "outputs": [],
   "source": [
    "grid_dir = '../../../tests/test_grid'\n",
    "grid_name = 'test_grid'\n",
    "grid = Grid(grid_name, grid_dir=grid_dir, read_lines=True)"
   ]
  },
  {
   "attachments": {},
   "cell_type": "markdown",
   "id": "99c9eeef-aef7-4947-a71f-47a1e08f74c6",
   "metadata": {},
   "source": [
    "We can easily get a list of the available lines:"
   ]
  },
  {
   "cell_type": "code",
   "execution_count": 20,
   "id": "75cd263b",
   "metadata": {},
   "outputs": [
    {
     "name": "stdout",
     "output_type": "stream",
     "text": [
      "['AL 2 2660.35A', 'AR 3 7135.79A', 'AR 3 7751.11A', 'C 2 1037.02A', 'C 2 2325.40A', 'C 2 2326.93A', 'C 3 1906.68A', 'C 3 1908.73A', 'CA 2 7291.47A', 'CL 3 5517.71A', 'FE 2 2382.04A', 'FE 2 2625.67A', 'FE 3 4658.01A', 'FE 3 4701.62A', 'FE 3 4881.12A', 'FE 3 5270.40A', 'FE 4 2567.61A', 'FE 4 2829.36A', 'FE 4 2835.74A', 'FE 4 3094.96A', 'H 1 1.00521m', 'H 1 1.09410m', 'H 1 1.28215m', 'H 1 1.81790m', 'H 1 1.87561m', 'H 1 1.94507m', 'H 1 1215.67A', 'H 1 2.16611m', 'H 1 2.62585m', 'H 1 3836.47A', 'H 1 3890.15A', 'H 1 3971.19A', 'H 1 4.05224m', 'H 1 4102.89A', 'H 1 4341.68A', 'H 1 4862.69A', 'H 1 6564.62A', 'H 1 9231.50A', 'H 1 9548.54A', 'MG 2 2795.53A', 'MG 2 2802.71A', 'N 2 6548.05A', 'N 2 6583.45A', 'N 3 991.511A', 'NE 3 3868.76A', 'NE 3 3967.47A', 'O 1 6300.30A', 'O 2 2470.34A', 'O 2 3726.03A', 'O 2 3728.81A', 'O 3 1666.15A', 'O 3 4363.21A', 'O 3 4958.91A', 'O 3 5006.84A', 'S 2 6716.44A', 'S 2 6730.82A', 'S 3 6312.06A', 'S 3 9068.62A', 'S 3 9530.62A', 'SI 2 1179.59A', 'SI 2 1194.50A', 'SI 2 1197.39A', 'SI 2 1265.00A', 'SI 3 1206.50A', 'SI 3 1882.71A', 'SI 3 1892.03A']\n"
     ]
    }
   ],
   "source": [
    "print(grid.line_list)"
   ]
  },
  {
   "attachments": {},
   "cell_type": "markdown",
   "id": "4e5f6fff",
   "metadata": {},
   "source": [
    "Let's choose an age and metallicity we want to get predictions. The in-built method will find the nearest grid point:"
   ]
  },
  {
   "cell_type": "code",
   "execution_count": 21,
   "id": "5755eac6",
   "metadata": {},
   "outputs": [],
   "source": [
    "    \n",
    "log10age = 6.0  # log10(age/yr)\n",
    "metallicity = 0.01  \n",
    "# find nearest grid point\n",
    "grid_point = grid.get_grid_point((log10age, metallicity)) "
   ]
  },
  {
   "attachments": {},
   "cell_type": "markdown",
   "id": "a0357a39",
   "metadata": {},
   "source": [
    "Let's get information on a single line, in this case H-beta:"
   ]
  },
  {
   "cell_type": "code",
   "execution_count": 22,
   "id": "3f5f3215",
   "metadata": {},
   "outputs": [
    {
     "name": "stdout",
     "output_type": "stream",
     "text": [
      "----------\n",
      "SUMMARY OF H 1 4862.69A\n",
      "wavelength: 4862.7 Å\n",
      "log10(luminosity/erg/s): 34.61\n",
      "equivalent width: 546 Å\n",
      "----------\n"
     ]
    }
   ],
   "source": [
    "line_id = 'H 1 4862.69A'\n",
    "line = grid.get_line_info('H 1 4862.69A', grid_point)\n",
    "print(line)"
   ]
  },
  {
   "attachments": {},
   "cell_type": "markdown",
   "id": "97ff912d",
   "metadata": {},
   "source": [
    "We can do this for a combination of lines (e.g. a doublet) like this:"
   ]
  },
  {
   "cell_type": "code",
   "execution_count": 23,
   "id": "a637f995",
   "metadata": {},
   "outputs": [
    {
     "name": "stdout",
     "output_type": "stream",
     "text": [
      "----------\n",
      "SUMMARY OF H 1 4862.69A,O 3 4958.91A,O 3 5006.84A\n",
      "wavelength: 4942.8 Å\n",
      "log10(luminosity/erg/s): 35.40\n",
      "equivalent width: 3457 Å\n",
      "----------\n"
     ]
    }
   ],
   "source": [
    "line = grid.get_line_info(['H 1 4862.69A', 'O 3 4958.91A', 'O 3 5006.84A'], grid_point)\n",
    "print(line)"
   ]
  },
  {
   "attachments": {},
   "cell_type": "markdown",
   "id": "6353908f",
   "metadata": {},
   "source": [
    "We can also create a `LineCollection` a collection of lines which have methods for calculating ratios and diagrams."
   ]
  },
  {
   "cell_type": "code",
   "execution_count": 24,
   "id": "a86704a1",
   "metadata": {},
   "outputs": [
    {
     "name": "stdout",
     "output_type": "stream",
     "text": [
      "----------\n",
      "LINE COLLECTION\n",
      "lines: ['AL 2 2660.35A', 'AR 3 7135.79A', 'AR 3 7751.11A', 'C 2 1037.02A', 'C 2 2325.40A', 'C 2 2326.93A', 'C 3 1906.68A', 'C 3 1908.73A', 'CA 2 7291.47A', 'CL 3 5517.71A', 'FE 2 2382.04A', 'FE 2 2625.67A', 'FE 3 4658.01A', 'FE 3 4701.62A', 'FE 3 4881.12A', 'FE 3 5270.40A', 'FE 4 2567.61A', 'FE 4 2829.36A', 'FE 4 2835.74A', 'FE 4 3094.96A', 'H 1 1.00521m', 'H 1 1.09410m', 'H 1 1.28215m', 'H 1 1.81790m', 'H 1 1.87561m', 'H 1 1.94507m', 'H 1 1215.67A', 'H 1 2.16611m', 'H 1 2.62585m', 'H 1 3836.47A', 'H 1 3890.15A', 'H 1 3971.19A', 'H 1 4.05224m', 'H 1 4102.89A', 'H 1 4341.68A', 'H 1 4862.69A', 'H 1 6564.62A', 'H 1 9231.50A', 'H 1 9548.54A', 'MG 2 2795.53A', 'MG 2 2802.71A', 'N 2 6548.05A', 'N 2 6583.45A', 'N 3 991.511A', 'NE 3 3868.76A', 'NE 3 3967.47A', 'O 1 6300.30A', 'O 2 2470.34A', 'O 2 3726.03A', 'O 2 3728.81A', 'O 3 1666.15A', 'O 3 4363.21A', 'O 3 4958.91A', 'O 3 5006.84A', 'S 2 6716.44A', 'S 2 6730.82A', 'S 3 6312.06A', 'S 3 9068.62A', 'S 3 9530.62A', 'SI 2 1179.59A', 'SI 2 1194.50A', 'SI 2 1197.39A', 'SI 2 1265.00A', 'SI 3 1206.50A', 'SI 3 1882.71A', 'SI 3 1892.03A']\n",
      "available ratios: ('BalmerDecrement', 'N2', 'S2', 'O1', 'R2', 'R3', 'R23', 'O32', 'Ne3O2')\n",
      "available diagrams: ('OHNO', 'BPT-NII')\n",
      "----------\n"
     ]
    }
   ],
   "source": [
    "lines = grid.get_lines_info(grid.line_list, grid_point)\n",
    "print(lines)"
   ]
  },
  {
   "attachments": {},
   "cell_type": "markdown",
   "id": "31de7baa",
   "metadata": {},
   "source": [
    "We can measure some predifined line ratios:"
   ]
  },
  {
   "cell_type": "code",
   "execution_count": 25,
   "id": "1e5547db",
   "metadata": {},
   "outputs": [
    {
     "name": "stdout",
     "output_type": "stream",
     "text": [
      "BalmerDecrement: 2.84\n"
     ]
    }
   ],
   "source": [
    "ratio_id = 'BalmerDecrement'\n",
    "ratio = lines.get_ratio(ratio_id)  \n",
    "print(f'{ratio_id}: {ratio:.2f}')"
   ]
  },
  {
   "attachments": {},
   "cell_type": "markdown",
   "id": "3e4d445c",
   "metadata": {},
   "source": [
    "Or loop over all pre-defined ratios:"
   ]
  },
  {
   "cell_type": "code",
   "execution_count": 26,
   "id": "6605138a",
   "metadata": {},
   "outputs": [
    {
     "name": "stdout",
     "output_type": "stream",
     "text": [
      "BalmerDecrement: 2.84\n",
      "N2: 0.06\n",
      "S2: 0.10\n",
      "O1: 0.01\n",
      "R2: 0.58\n",
      "R3: 3.85\n",
      "R23: 6.51\n",
      "O32: 6.65\n",
      "Ne3O2: 0.35\n"
     ]
    }
   ],
   "source": [
    "for ratio_id in lines.available_ratios:\n",
    "    ratio = lines.get_ratio(ratio_id)\n",
    "    print(f'{ratio_id}: {ratio:.2f}')"
   ]
  },
  {
   "attachments": {},
   "cell_type": "markdown",
   "id": "9f2d75e2",
   "metadata": {},
   "source": [
    "We can plot a ratio against metallicity by looping over the metallicity grid:"
   ]
  },
  {
   "cell_type": "code",
   "execution_count": 27,
   "id": "efe444b7",
   "metadata": {},
   "outputs": [
    {
     "data": {
      "image/png": "[encoded data removed]",
      "text/plain": [
       "<Figure size 640x480 with 1 Axes>"
      ]
     },
     "metadata": {},
     "output_type": "display_data"
    }
   ],
   "source": [
    "ratio_id = 'R23'\n",
    "ia = 0  # 1 Myr old for test grid\n",
    "ratios = []\n",
    "for iZ, Z in enumerate(grid.metallicity):\n",
    "    grid_point = (ia, iZ)\n",
    "    lines = grid.get_lines_info(grid.line_list, grid_point)\n",
    "    ratios.append(lines.get_ratio(ratio_id))\n",
    "\n",
    "Zsun = grid.metallicity/0.0124\n",
    "plt.plot(Zsun, ratios)\n",
    "plt.xlim([0.01, 1])\n",
    "plt.ylim([1, 20])\n",
    "plt.xscale('log')\n",
    "plt.yscale('log')\n",
    "plt.xlabel(r'$Z/Z_{\\odot}$')\n",
    "plt.ylabel(lines.get_ratio_label(ratio_id))\n",
    "plt.show()"
   ]
  },
  {
   "attachments": {},
   "cell_type": "markdown",
   "id": "d6f94730",
   "metadata": {},
   "source": [
    "We can also generate \"diagrams\" pairs of line ratios like the BPT diagram"
   ]
  },
  {
   "cell_type": "code",
   "execution_count": 28,
   "id": "0600e143",
   "metadata": {},
   "outputs": [
    {
     "data": {
      "image/png": "[encoded data removed]",
      "text/plain": [
       "<Figure size 640x480 with 1 Axes>"
      ]
     },
     "metadata": {},
     "output_type": "display_data"
    }
   ],
   "source": [
    "diagram_id = 'BPT-NII'\n",
    "ia = 0  # 1 Myr old for test grid\n",
    "x = []\n",
    "y = []\n",
    "for iZ, Z in enumerate(grid.metallicity):\n",
    "    grid_point = (ia, iZ)\n",
    "    lines = grid.get_lines_info(grid.line_list, grid_point)\n",
    "    x_, y_ = lines.get_diagram(diagram_id)\n",
    "    x.append(x_)\n",
    "    y.append(y_)\n",
    "\n",
    "plt.plot(x, y)\n",
    "plt.xlim([0.01, 10])\n",
    "plt.ylim([0.05, 20])\n",
    "plt.xscale('log')\n",
    "plt.yscale('log')\n",
    "\n",
    "# grab x and y labels, this time use \"fancy\" label ids\n",
    "xlabel, ylabel = lines.get_diagram_label(diagram_id, fancy=True)\n",
    "\n",
    "plt.xlabel(xlabel)\n",
    "plt.ylabel(ylabel)\n",
    "plt.show()"
   ]
  }
 ],
 "metadata": {
  "kernelspec": {
   "display_name": "Python 3",
   "language": "python",
   "name": "python3"
  },
  "language_info": {
   "codemirror_mode": {
    "name": "ipython",
    "version": 3
   },
   "file_extension": ".py",
   "mimetype": "text/x-python",
   "name": "python",
   "nbconvert_exporter": "python",
   "pygments_lexer": "ipython3",
   "version": "3.11.3"
  },
  "vscode": {
   "interpreter": {
    "hash": "b17fb8bccc0b39217f999a538066f52bb2439b4a6369f3609a877f598600f747"
   }
  }
 },
 "nbformat": 4,
 "nbformat_minor": 5
}
