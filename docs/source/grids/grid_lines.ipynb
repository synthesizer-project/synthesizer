{
 "cells": [
  {
   "cell_type": "markdown",
   "id": "00db497b-9cf9-4547-ae44-4d80f30eb8a1",
   "metadata": {},
   "source": [
    "# Grid lines\n",
    "\n",
    "Grids that have been post-processed through CLOUDY also contain information on nebular emission lines. These can be loaded like regular grids, but there are a number of additional methods for working with lines"
   ]
  },
  {
   "cell_type": "code",
   "execution_count": 1,
   "id": "7158257d-8bab-4c83-bac6-38aa83def3bf",
   "metadata": {
    "tags": []
   },
   "outputs": [],
   "source": [
    "import numpy as np\n",
    "import matplotlib.pyplot as plt\n",
    "\n",
    "from synthesizer.grid import Grid, get_available_lines"
   ]
  },
  {
   "cell_type": "code",
   "execution_count": 2,
   "id": "dc8b164f-3d98-456f-8e21-b0d72d7a7ff8",
   "metadata": {
    "tags": []
   },
   "outputs": [],
   "source": [
    "grid_dir = '../../../tests/test_grid'\n",
    "grid_name = 'test_grid'"
   ]
  },
  {
   "cell_type": "markdown",
   "id": "99c9eeef-aef7-4947-a71f-47a1e08f74c6",
   "metadata": {},
   "source": [
    "We can then get a list of available lines for this grid with `get_available_lines`. These adopt the same naming convention as that used in CLOUDY."
   ]
  },
  {
   "cell_type": "code",
   "execution_count": 3,
   "id": "71e5d293-8e90-4229-9a34-bb99ad463681",
   "metadata": {
    "tags": []
   },
   "outputs": [
    {
     "name": "stdout",
     "output_type": "stream",
     "text": [
      "['Al 2 1670.79A', 'Al 2 2661.15A', 'Al 2 2669.95A', 'Ar 3 7137.76A', 'Ar 3 7753.24A', 'Ar 4 4712.58A', 'Ar 4 4741.45A', 'C 2 1036.34A', 'C 2 1037.02A', 'C 2 1335.66A', 'C 2 1335.71A', 'C 2 2324.21A', 'C 2 2325.40A', 'C 2 2326.11A', 'C 2 2327.65A', 'C 2 2328.84A', 'C 2R 1335.00A', 'C 3 1906.68A', 'C 3 1908.73A', 'C 3 977.020A', 'C 4 1548.19A', 'C 4 1550.78A', 'Ca 2 3934.78A', 'Ca 2 7293.48A', 'Ca 2 7325.90A', 'Cl 3 5519.24A', 'Cl 3 5539.41A', 'Fe 2 1.25702m', 'Fe 2 1.32092m', 'Fe 2 1.37219m', 'Fe 2 1.64400m', 'Fe 2 1.80989m', 'Fe 2 2365.55A', 'Fe 2 2382.77A', 'Fe 2 2612.65A', 'Fe 2 2626.45A', 'Fe 2 8619.32A', 'Fe 3 4659.31A', 'Fe 3 4702.94A', 'Fe 3 4755.97A', 'Fe 3 4882.48A', 'Fe 3 5012.56A', 'Fe 3 5271.87A', 'Fe 4 2830.19A', 'Fe 4 2836.57A', 'Fe 4 3095.86A', 'H 1 1.00521m', 'H 1 1.09410m', 'H 1 1.28215m', 'H 1 1.49713m', 'H 1 1.55606m', 'H 1 1.57048m', 'H 1 1.58848m', 'H 1 1.61136m', 'H 1 1.64116m', 'H 1 1.68110m', 'H 1 1.73667m', 'H 1 1.81790m', 'H 1 1.87561m', 'H 1 1.94507m', 'H 1 1025.72A', 'H 1 1215.67A', 'H 1 2.16611m', 'H 1 2.37436m', 'H 1 2.62585m', 'H 1 2.75825m', 'H 1 2.87297m', 'H 1 3.03918m', 'H 1 3.29697m', 'H 1 3.74053m', 'H 1 3670.51A', 'H 1 3672.52A', 'H 1 3674.80A', 'H 1 3677.41A', 'H 1 3680.40A', 'H 1 3683.85A', 'H 1 3687.88A', 'H 1 3692.60A', 'H 1 3698.20A', 'H 1 3704.90A', 'H 1 3713.02A', 'H 1 3722.99A', 'H 1 3735.43A', 'H 1 3751.21A', 'H 1 3771.70A', 'H 1 3798.97A', 'H 1 3836.47A', 'H 1 3890.15A', 'H 1 3971.19A', 'H 1 4.05224m', 'H 1 4.65374m', 'H 1 4102.89A', 'H 1 4341.68A', 'H 1 4862.69A', 'H 1 6564.62A', 'H 1 8325.67A', 'H 1 8336.03A', 'H 1 8347.80A', 'H 1 8361.26A', 'H 1 8376.74A', 'H 1 8394.66A', 'H 1 8415.59A', 'H 1 8440.23A', 'H 1 8469.54A', 'H 1 8504.78A', 'H 1 8547.69A', 'H 1 8600.71A', 'H 1 8667.36A', 'H 1 8752.83A', 'H 1 8865.17A', 'H 1 9017.34A', 'H 1 913.215A', 'H 1 920.963A', 'H 1 923.150A', 'H 1 9231.50A', 'H 1 926.226A', 'H 1 930.748A', 'H 1 937.804A', 'H 1 949.743A', 'H 1 9548.54A', 'H 1 972.537A', 'He 1 1.08332m', 'He 1 1.09160m', 'He 1 1.27884m', 'He 1 1.70073m', 'He 1 1.86905m', 'He 1 1.87023m', 'He 1 2.05869m', 'He 1 2829.91A', 'He 1 2945.96A', 'He 1 3188.66A', 'He 1 3531.44A', 'He 1 3555.35A', 'He 1 3588.19A', 'He 1 3614.67A', 'He 1 3635.12A', 'He 1 3705.82A', 'He 1 3820.70A', 'He 1 3889.74A', 'He 1 3965.85A', 'He 1 4027.34A', 'He 1 4389.16A', 'He 1 4472.74A', 'He 1 4714.35A', 'He 1 4923.31A', 'He 1 5017.08A', 'He 1 5877.26A', 'He 1 6680.00A', 'He 1 7067.16A', 'He 1 7283.36A', 'K 3 4.61808m', 'Mg 1 2852.96A', 'Mg 1 4563.88A', 'Mg 2 2796.35A', 'Mg 2 2803.53A', 'N 1 1199.55A', 'N 1 1200.22A', 'N 1 1200.71A', 'N 1 5201.71A', 'N 2 1084.56A', 'N 2 1085.55A', 'N 2 1085.70A', 'N 2 2143.46A', 'N 2 5756.21A', 'N 2 6549.86A', 'N 2 6585.27A', 'N 2 915.962A', 'N 2 916.701A', 'N 2 916.710A', 'N 2R 1085.00A', 'N 3 1749.67A', 'N 3 989.799A', 'N 3 991.511A', 'N 3 991.577A', 'Ne 3 3869.86A', 'Ne 3 3968.59A', 'Ni 2 1.19134m', 'Ni 2 7379.86A', 'O 1 1304.86A', 'O 1 6302.05A', 'O 1 6365.54A', 'O 1 934.501A', 'O 1 935.672A', 'O 1 946.387A', 'O 1 948.506A', 'O 1 969.049A', 'O 1 976.791A', 'O 2 2470.97A', 'O 2 2471.09A', 'O 2 3727.09A', 'O 2 3729.88A', 'O 2 7320.94A', 'O 2 7322.01A', 'O 2 7331.69A', 'O 2 7332.75A', 'O 2R 3729.00A', 'O 3 1666.15A', 'O 3 2321.66A', 'O 3 4364.44A', 'O 3 4960.29A', 'O 3 5008.24A', 'P 2 1.18861m', 'S 2 1.03233m', 'S 2 4069.75A', 'S 2 4077.50A', 'S 2 6718.29A', 'S 2 6732.67A', 'S 3 1021.11A', 'S 3 3722.69A', 'S 3 6313.81A', 'S 3 9071.11A', 'S 3 9533.23A', 'Si 2 1179.59A', 'Si 2 1194.50A', 'Si 2 1197.39A', 'Si 2 1265.00A', 'Si 2 1309.28A', 'Si 2 1533.43A', 'Si 2 1816.93A', 'Si 2 2335.32A', 'Si 2 2344.92A', 'Si 2 993.354A', 'Si 3 1206.50A', 'Si 3 1882.71A', 'Si 3 1892.03A', 'Si 4 1393.75A', 'Si 4 1402.77A']\n"
     ]
    }
   ],
   "source": [
    "line_ids = get_available_lines(grid_name, grid_dir=grid_dir)\n",
    "\n",
    "print(line_ids)"
   ]
  },
  {
   "cell_type": "markdown",
   "id": "0465916a-2f3b-4c0a-98da-d94a1efe7fd6",
   "metadata": {},
   "source": [
    "In order to use the properties of individual lines we need to explicitly read them in when loading our grid.\n",
    "\n",
    "To read in just some specific lines (excluding spectra), we provide the following arguments to `Grid`. Note that any line inside nested brackets is interpreted as a *doublet*."
   ]
  },
  {
   "cell_type": "code",
   "execution_count": 4,
   "id": "9f16ff79-c90d-4dff-a90c-bdec52253617",
   "metadata": {
    "tags": []
   },
   "outputs": [
    {
     "name": "stdout",
     "output_type": "stream",
     "text": [
      "['O 3 5008.24A', 'H 1 4862.69A', 'O 3 4960.29A', 'H 1 6564.62A']\n"
     ]
    }
   ],
   "source": [
    "lines = ['H 1 4862.69A', 'O 3 4960.29A', 'O 3 5008.24A',\n",
    "         ['O 3 4960.29A', 'O 3 5008.24A'], 'H 1 6564.62A']\n",
    "grid = Grid(grid_name, grid_dir=grid_dir, read_spectra=False, read_lines=lines)\n",
    "print(grid.line_list)"
   ]
  },
  {
   "cell_type": "markdown",
   "id": "857db097-a63e-4732-9a18-b28bdecc8044",
   "metadata": {},
   "source": [
    "Alternatively we could read in all lines by simply setting read_lines to be True"
   ]
  },
  {
   "cell_type": "code",
   "execution_count": 5,
   "id": "2ad96a84-86cc-41d2-8469-187fe4dc3a1c",
   "metadata": {
    "tags": []
   },
   "outputs": [],
   "source": [
    "grid = Grid(grid_name, grid_dir=grid_dir, read_spectra=False, read_lines=True)"
   ]
  },
  {
   "cell_type": "markdown",
   "id": "dcfb4dce-55ce-4eb3-8e63-c056e60fae11",
   "metadata": {},
   "source": [
    "Now that we have loaded our lines we can return a `Line` object, and use this to calculate luminosities and equivalent widths."
   ]
  },
  {
   "cell_type": "code",
   "execution_count": 6,
   "id": "7849f3aa-3469-44bb-b78e-f05e2a8beab3",
   "metadata": {
    "tags": []
   },
   "outputs": [
    {
     "data": {
      "text/plain": [
       "<synthesizer.line.Line at 0x7f83d87cd630>"
      ]
     },
     "execution_count": 6,
     "metadata": {},
     "output_type": "execute_result"
    }
   ],
   "source": [
    "grid_point = (5, 6)  # ia, iZ the age and metallicity grid point\n",
    "\n",
    "line = grid.get_line_info('H 1 4862.69A', grid_point)\n",
    "line"
   ]
  },
  {
   "cell_type": "code",
   "execution_count": 7,
   "id": "d5ef5b5d-b4b9-431c-b5ad-944f0ac602f9",
   "metadata": {
    "tags": []
   },
   "outputs": [
    {
     "name": "stdout",
     "output_type": "stream",
     "text": [
      "----------\n",
      "SUMMARY OF H 1 4862.69A\n",
      "wavelength: 4862.7 Å\n",
      "log10(luminosity/erg/s): 34.19\n",
      "equivalent width: 202 Å\n",
      "----------\n"
     ]
    },
    {
     "data": {
      "text/plain": [
       "(unyt_quantity(202.19870736, 'Å'),\n",
       " unyt_quantity(1.54620608e+34, 'erg/s'),\n",
       " unyt_quantity(4862.69, 'Å'))"
      ]
     },
     "execution_count": 7,
     "metadata": {},
     "output_type": "execute_result"
    }
   ],
   "source": [
    "print(line)\n",
    "line.ew, line.luminosity, line.wavelength"
   ]
  },
  {
   "cell_type": "markdown",
   "id": "a78b30d0-d6bb-4e19-86ab-388b94dd7a53",
   "metadata": {},
   "source": [
    "We can also load a combination of lines, e.g. a doublet. This returns a `LineCollection`"
   ]
  },
  {
   "cell_type": "code",
   "execution_count": 8,
   "id": "22b1247d-d84e-400d-8d1c-d25cfd2f215c",
   "metadata": {
    "tags": []
   },
   "outputs": [
    {
     "data": {
      "text/plain": [
       "<synthesizer.line.LineCollection at 0x7f83d87cf100>"
      ]
     },
     "execution_count": 8,
     "metadata": {},
     "output_type": "execute_result"
    }
   ],
   "source": [
    "lines = grid.get_lines_info(['H 1 4862.69A', 'O 3 4960.29A', 'O 3 5008.24A'], grid_point)\n",
    "lines"
   ]
  },
  {
   "cell_type": "code",
   "execution_count": 9,
   "id": "0bfe8ee9-d0b5-487c-b868-1be7c8da50fd",
   "metadata": {
    "tags": []
   },
   "outputs": [
    {
     "name": "stdout",
     "output_type": "stream",
     "text": [
      "----------\n",
      "LINE COLLECTION\n",
      "lines: ['H 1 4862.69A', 'O 3 4960.29A', 'O 3 5008.24A']\n",
      "available ratios: ['BalmerDecrement', 'N2', 'S2', 'O1', 'R2', 'R3', 'R23', 'O32', 'Ne3O2']\n",
      "available diagrams: ['OHNO', 'BPT-NII']\n",
      "----------\n"
     ]
    },
    {
     "data": {
      "text/plain": [
       "['H 1 4862.69A', 'O 3 4960.29A', 'O 3 5008.24A']"
      ]
     },
     "execution_count": 9,
     "metadata": {},
     "output_type": "execute_result"
    }
   ],
   "source": [
    "print(lines)\n",
    "lines.line_ids"
   ]
  },
  {
   "cell_type": "markdown",
   "id": "6cb8f0ae-2fe8-4610-abe6-db2d931ae7f3",
   "metadata": {},
   "source": [
    "Let's load all of the available lines (using the `line_ids` list we created earlier) into a single `LineCollection`"
   ]
  },
  {
   "cell_type": "code",
   "execution_count": 10,
   "id": "d72384d5-14fd-4b83-968a-785e775139bb",
   "metadata": {
    "tags": []
   },
   "outputs": [
    {
     "name": "stdout",
     "output_type": "stream",
     "text": [
      "----------\n",
      "LINE COLLECTION\n",
      "lines: ['Al 2 1670.79A', 'Al 2 2661.15A', 'Al 2 2669.95A', 'Ar 3 7137.76A', 'Ar 3 7753.24A', 'Ar 4 4712.58A', 'Ar 4 4741.45A', 'C 2 1036.34A', 'C 2 1037.02A', 'C 2 1335.66A', 'C 2 1335.71A', 'C 2 2324.21A', 'C 2 2325.40A', 'C 2 2326.11A', 'C 2 2327.65A', 'C 2 2328.84A', 'C 2R 1335.00A', 'C 3 1906.68A', 'C 3 1908.73A', 'C 3 977.020A', 'C 4 1548.19A', 'C 4 1550.78A', 'Ca 2 3934.78A', 'Ca 2 7293.48A', 'Ca 2 7325.90A', 'Cl 3 5519.24A', 'Cl 3 5539.41A', 'Fe 2 1.25702m', 'Fe 2 1.32092m', 'Fe 2 1.37219m', 'Fe 2 1.64400m', 'Fe 2 1.80989m', 'Fe 2 2365.55A', 'Fe 2 2382.77A', 'Fe 2 2612.65A', 'Fe 2 2626.45A', 'Fe 2 8619.32A', 'Fe 3 4659.31A', 'Fe 3 4702.94A', 'Fe 3 4755.97A', 'Fe 3 4882.48A', 'Fe 3 5012.56A', 'Fe 3 5271.87A', 'Fe 4 2830.19A', 'Fe 4 2836.57A', 'Fe 4 3095.86A', 'H 1 1.00521m', 'H 1 1.09410m', 'H 1 1.28215m', 'H 1 1.49713m', 'H 1 1.55606m', 'H 1 1.57048m', 'H 1 1.58848m', 'H 1 1.61136m', 'H 1 1.64116m', 'H 1 1.68110m', 'H 1 1.73667m', 'H 1 1.81790m', 'H 1 1.87561m', 'H 1 1.94507m', 'H 1 1025.72A', 'H 1 1215.67A', 'H 1 2.16611m', 'H 1 2.37436m', 'H 1 2.62585m', 'H 1 2.75825m', 'H 1 2.87297m', 'H 1 3.03918m', 'H 1 3.29697m', 'H 1 3.74053m', 'H 1 3670.51A', 'H 1 3672.52A', 'H 1 3674.80A', 'H 1 3677.41A', 'H 1 3680.40A', 'H 1 3683.85A', 'H 1 3687.88A', 'H 1 3692.60A', 'H 1 3698.20A', 'H 1 3704.90A', 'H 1 3713.02A', 'H 1 3722.99A', 'H 1 3735.43A', 'H 1 3751.21A', 'H 1 3771.70A', 'H 1 3798.97A', 'H 1 3836.47A', 'H 1 3890.15A', 'H 1 3971.19A', 'H 1 4.05224m', 'H 1 4.65374m', 'H 1 4102.89A', 'H 1 4341.68A', 'H 1 4862.69A', 'H 1 6564.62A', 'H 1 8325.67A', 'H 1 8336.03A', 'H 1 8347.80A', 'H 1 8361.26A', 'H 1 8376.74A', 'H 1 8394.66A', 'H 1 8415.59A', 'H 1 8440.23A', 'H 1 8469.54A', 'H 1 8504.78A', 'H 1 8547.69A', 'H 1 8600.71A', 'H 1 8667.36A', 'H 1 8752.83A', 'H 1 8865.17A', 'H 1 9017.34A', 'H 1 913.215A', 'H 1 920.963A', 'H 1 923.150A', 'H 1 9231.50A', 'H 1 926.226A', 'H 1 930.748A', 'H 1 937.804A', 'H 1 949.743A', 'H 1 9548.54A', 'H 1 972.537A', 'He 1 1.08332m', 'He 1 1.09160m', 'He 1 1.27884m', 'He 1 1.70073m', 'He 1 1.86905m', 'He 1 1.87023m', 'He 1 2.05869m', 'He 1 2829.91A', 'He 1 2945.96A', 'He 1 3188.66A', 'He 1 3531.44A', 'He 1 3555.35A', 'He 1 3588.19A', 'He 1 3614.67A', 'He 1 3635.12A', 'He 1 3705.82A', 'He 1 3820.70A', 'He 1 3889.74A', 'He 1 3965.85A', 'He 1 4027.34A', 'He 1 4389.16A', 'He 1 4472.74A', 'He 1 4714.35A', 'He 1 4923.31A', 'He 1 5017.08A', 'He 1 5877.26A', 'He 1 6680.00A', 'He 1 7067.16A', 'He 1 7283.36A', 'K 3 4.61808m', 'Mg 1 2852.96A', 'Mg 1 4563.88A', 'Mg 2 2796.35A', 'Mg 2 2803.53A', 'N 1 1199.55A', 'N 1 1200.22A', 'N 1 1200.71A', 'N 1 5201.71A', 'N 2 1084.56A', 'N 2 1085.55A', 'N 2 1085.70A', 'N 2 2143.46A', 'N 2 5756.21A', 'N 2 6549.86A', 'N 2 6585.27A', 'N 2 915.962A', 'N 2 916.701A', 'N 2 916.710A', 'N 2R 1085.00A', 'N 3 1749.67A', 'N 3 989.799A', 'N 3 991.511A', 'N 3 991.577A', 'Ne 3 3869.86A', 'Ne 3 3968.59A', 'Ni 2 1.19134m', 'Ni 2 7379.86A', 'O 1 1304.86A', 'O 1 6302.05A', 'O 1 6365.54A', 'O 1 934.501A', 'O 1 935.672A', 'O 1 946.387A', 'O 1 948.506A', 'O 1 969.049A', 'O 1 976.791A', 'O 2 2470.97A', 'O 2 2471.09A', 'O 2 3727.09A', 'O 2 3729.88A', 'O 2 7320.94A', 'O 2 7322.01A', 'O 2 7331.69A', 'O 2 7332.75A', 'O 2R 3729.00A', 'O 3 1666.15A', 'O 3 2321.66A', 'O 3 4364.44A', 'O 3 4960.29A', 'O 3 5008.24A', 'P 2 1.18861m', 'S 2 1.03233m', 'S 2 4069.75A', 'S 2 4077.50A', 'S 2 6718.29A', 'S 2 6732.67A', 'S 3 1021.11A', 'S 3 3722.69A', 'S 3 6313.81A', 'S 3 9071.11A', 'S 3 9533.23A', 'Si 2 1179.59A', 'Si 2 1194.50A', 'Si 2 1197.39A', 'Si 2 1265.00A', 'Si 2 1309.28A', 'Si 2 1533.43A', 'Si 2 1816.93A', 'Si 2 2335.32A', 'Si 2 2344.92A', 'Si 2 993.354A', 'Si 3 1206.50A', 'Si 3 1882.71A', 'Si 3 1892.03A', 'Si 4 1393.75A', 'Si 4 1402.77A']\n",
      "available ratios: ['BalmerDecrement', 'N2', 'S2', 'O1', 'R2', 'R3', 'R23', 'O32', 'Ne3O2']\n",
      "available diagrams: ['OHNO', 'BPT-NII']\n",
      "----------\n"
     ]
    }
   ],
   "source": [
    "lines = grid.get_lines_info(line_ids, grid_point)\n",
    "print(lines)"
   ]
  },
  {
   "cell_type": "markdown",
   "id": "90c4c4dc-6419-4bb6-9f24-5689594e021a",
   "metadata": {},
   "source": [
    "## Line Ratios\n",
    "\n",
    "Using a `LineCollection` we can also measure line ratios. The `available_ratios` method on a line collectino lists all the available ratios given the lines in your collection."
   ]
  },
  {
   "cell_type": "code",
   "execution_count": 11,
   "id": "3ad77677-d1e6-47e9-8ab4-8c2bd629b6c0",
   "metadata": {
    "tags": []
   },
   "outputs": [
    {
     "data": {
      "text/plain": [
       "['BalmerDecrement', 'N2', 'S2', 'O1', 'R2', 'R3', 'R23', 'O32', 'Ne3O2']"
      ]
     },
     "execution_count": 11,
     "metadata": {},
     "output_type": "execute_result"
    }
   ],
   "source": [
    "lines.available_ratios"
   ]
  },
  {
   "cell_type": "code",
   "execution_count": 12,
   "id": "2ce18241-5d24-4da6-9a8d-85a4ee2f5c7c",
   "metadata": {
    "tags": []
   },
   "outputs": [
    {
     "data": {
      "text/plain": [
       "2.8973435877012976"
      ]
     },
     "execution_count": 12,
     "metadata": {},
     "output_type": "execute_result"
    }
   ],
   "source": [
    "ratio = lines.get_ratio('BalmerDecrement')  # R23, R2, R3, ...\n",
    "ratio"
   ]
  },
  {
   "cell_type": "code",
   "execution_count": 13,
   "id": "812d56fb-a519-40b3-813c-0cddc762608e",
   "metadata": {
    "tags": []
   },
   "outputs": [
    {
     "name": "stdout",
     "output_type": "stream",
     "text": [
      "BalmerDecrement: 2.90\n",
      "N2: 0.10\n",
      "S2: 0.09\n",
      "O1: 0.01\n",
      "R2: 0.55\n",
      "R3: 4.28\n",
      "R23: 7.01\n",
      "O32: 7.78\n",
      "Ne3O2: 0.15\n"
     ]
    }
   ],
   "source": [
    "for ratio_id in lines.available_ratios:\n",
    "    ratio = lines.get_ratio(ratio_id)\n",
    "    print(f'{ratio_id}: {ratio:.2f}')"
   ]
  },
  {
   "cell_type": "markdown",
   "id": "89ae0016-c97e-4588-a855-3ae5f6293cad",
   "metadata": {},
   "source": [
    "Using all of this functionality together we can plot a ratio against metallicity by looping over the metallicity grid"
   ]
  },
  {
   "cell_type": "code",
   "execution_count": 14,
   "id": "136be97d-7296-48fd-bc86-b6ce8eefd4c6",
   "metadata": {
    "tags": []
   },
   "outputs": [
    {
     "data": {
      "text/plain": [
       "Text(0, 0.5, 'R23=(O 3 4960.29A,O 3 5008.24A,O 2 3727.09A,O 2 3729.88A)/(H 1 4862.69A)')"
      ]
     },
     "execution_count": 14,
     "metadata": {},
     "output_type": "execute_result"
    },
    {
     "data": {
      "image/png": "[encoded data removed]",
      "text/plain": [
       "<Figure size 640x480 with 1 Axes>"
      ]
     },
     "metadata": {},
     "output_type": "display_data"
    }
   ],
   "source": [
    "ratio_id = 'R23'\n",
    "ia = 0  # 1 Myr old for test grid\n",
    "ratios = []\n",
    "for iZ, Z in enumerate(grid.metallicities):\n",
    "    grid_point = (ia, iZ)\n",
    "    lines = grid.get_lines_info(line_ids, grid_point)\n",
    "    ratios.append(lines.get_ratio(ratio_id))\n",
    "\n",
    "Zsun = grid.metallicities/0.0124\n",
    "plt.plot(Zsun, ratios)\n",
    "plt.xlim([0.01, 2])\n",
    "plt.ylim([0.3, 20])\n",
    "plt.xscale('log')\n",
    "plt.yscale('log')\n",
    "plt.xlabel(r'$Z/Z_{\\odot}$')\n",
    "plt.ylabel(lines.get_ratio_label(ratio_id))"
   ]
  },
  {
   "cell_type": "markdown",
   "id": "d7de3fb7-597b-4333-811a-2862b6b6bd8c",
   "metadata": {},
   "source": [
    "We can also generate \"diagrams\" of pairs of line ratios, like the BPT diagram"
   ]
  },
  {
   "cell_type": "code",
   "execution_count": 15,
   "id": "fe1e1755-9737-4e70-98ea-9b3be0187a0c",
   "metadata": {
    "tags": []
   },
   "outputs": [
    {
     "data": {
      "text/plain": [
       "Text(0, 0.5, '(OIII 5008)/(HI 4863)')"
      ]
     },
     "execution_count": 15,
     "metadata": {},
     "output_type": "execute_result"
    },
    {
     "data": {
      "image/png": "[encoded data removed]",
      "text/plain": [
       "<Figure size 640x480 with 2 Axes>"
      ]
     },
     "metadata": {},
     "output_type": "display_data"
    }
   ],
   "source": [
    "diagram_id = 'BPT-NII'\n",
    "ia = 0  # 1 Myr old for test grid\n",
    "x = []\n",
    "y = []\n",
    "for iZ, Z in enumerate(grid.metallicities):\n",
    "    grid_point = (ia, iZ)\n",
    "    lines = grid.get_lines_info(line_ids, grid_point)\n",
    "    x_, y_ = lines.get_diagram(diagram_id)\n",
    "    x.append(x_)\n",
    "    y.append(y_)\n",
    "\n",
    "plt.plot(x, y, linestyle='dashed')\n",
    "plt.scatter(x, y, c=grid.metallicities)\n",
    "# plt.xlim([0.01, 10])\n",
    "# plt.ylim([0.05, 20])\n",
    "plt.xscale('log')\n",
    "plt.yscale('log')\n",
    "\n",
    "plt.colorbar(label='$Z$')\n",
    "\n",
    "# grab x and y labels, this time use \"fancy\" label ids\n",
    "xlabel, ylabel = lines.get_diagram_label(diagram_id, fancy=True)\n",
    "\n",
    "plt.xlabel(xlabel)\n",
    "plt.ylabel(ylabel)"
   ]
  }
 ],
 "metadata": {
  "kernelspec": {
   "display_name": "Python 3 (ipykernel)",
   "language": "python",
   "name": "python3"
  },
  "language_info": {
   "codemirror_mode": {
    "name": "ipython",
    "version": 3
   },
   "file_extension": ".py",
   "mimetype": "text/x-python",
   "name": "python",
   "nbconvert_exporter": "python",
   "pygments_lexer": "ipython3",
   "version": "3.10.6"
  }
 },
 "nbformat": 4,
 "nbformat_minor": 5
}
