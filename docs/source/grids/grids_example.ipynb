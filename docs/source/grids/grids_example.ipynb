{
 "cells": [
  {
   "attachments": {},
   "cell_type": "markdown",
   "id": "659dcb3a-891b-4271-9073-d02efbeb14d5",
   "metadata": {},
   "source": [
    "# `Grid` example\n",
    "\n",
    "In this example we load a HDF5 (test) grid file into a corresponding `Grid` object, and use the inbuilt functionality to explore the grid."
   ]
  },
  {
   "cell_type": "code",
   "execution_count": null,
   "id": "79c4459f-4b18-43dd-922f-f20ad58bbfd6",
   "metadata": {},
   "outputs": [],
   "source": [
    "import matplotlib.pyplot as plt\n",
    "import numpy as np\n",
    "from matplotlib import colormaps as cm\n",
    "from matplotlib.colors import Normalize\n",
    "from unyt import angstrom\n",
    "\n",
    "from synthesizer.grid import Grid"
   ]
  },
  {
   "cell_type": "markdown",
   "id": "0d593e25-4783-4c38-b346-4c30d07d7482",
   "metadata": {},
   "source": [
    "This object takes the location of the grids on your system (`grid_dir`) and the name of the grid you wish to load `grid_name`). Here we load a simple test grid provided with the module (hence the relative path)."
   ]
  },
  {
   "cell_type": "code",
   "execution_count": null,
   "id": "8a9b1038-a78b-4c5d-8d04-c6f0cebda0a9",
   "metadata": {},
   "outputs": [],
   "source": [
    "grid_dir = \"../../../tests/test_grid\"\n",
    "grid_name = \"test_grid\"\n",
    "\n",
    "grid = Grid(grid_name, grid_dir=grid_dir)\n",
    "print(grid)"
   ]
  },
  {
   "cell_type": "markdown",
   "id": "4e761cc1",
   "metadata": {},
   "source": [
    "A `Grid` can also take various arguments to limit the size of the grid, e.g. by isolating the `Grid` to a wavelength region of interest. This is particularly useful when making a large number of spectra from a high resolution `Grid`, where the memory footprint can become large.\n",
    "\n",
    "### Passing a wavelength array\n",
    "\n",
    "If you only care about a grid of specific wavelength values, you can pass this array and the `Grid` will automatically be interpolated onto the new wavelength array using [spectres](https://github.com/ACCarnall/SpectRes):"
   ]
  },
  {
   "cell_type": "code",
   "execution_count": null,
   "id": "d9006245",
   "metadata": {},
   "outputs": [],
   "source": [
    "# Define a new set of wavelengths\n",
    "new_lams = np.logspace(2, 5, 1000) * angstrom\n",
    "\n",
    "# Create a new grid\n",
    "grid = Grid(grid_name, grid_dir=grid_dir, new_lam=new_lams)\n",
    "print(grid.shape)"
   ]
  },
  {
   "cell_type": "markdown",
   "id": "67d20f67",
   "metadata": {},
   "source": [
    "### Passing wavelength limits\n",
    "\n",
    "If you don't want to modify the underlying grid resolution, but only care about a specific wavelength range, you can pass limits to truncate the grid at:"
   ]
  },
  {
   "cell_type": "code",
   "execution_count": null,
   "id": "30039ef3",
   "metadata": {},
   "outputs": [],
   "source": [
    "# Create a new grid\n",
    "grid = Grid(\n",
    "    grid_name, grid_dir=grid_dir, lam_lims=(10**3 * angstrom, 10**4 * angstrom)\n",
    ")\n",
    "print(grid.shape)"
   ]
  },
  {
   "cell_type": "markdown",
   "id": "ae701e97-14bb-4abc-95ad-782751c5259f",
   "metadata": {},
   "source": [
    "## Plot a single grid point\n",
    "\n",
    "We can plot the spectra at the location of a single point in our grid. First, we choose some age and metallicity"
   ]
  },
  {
   "cell_type": "code",
   "execution_count": null,
   "id": "decbb271-c6e2-4e72-b992-b6e5bbb7d039",
   "metadata": {},
   "outputs": [],
   "source": [
    "# Return to the unmodified grid\n",
    "grid = Grid(grid_name, grid_dir=grid_dir)\n",
    "\n",
    "log10age = 6.0  # log10(age/yr)\n",
    "Z = 0.01  # metallicity"
   ]
  },
  {
   "cell_type": "markdown",
   "id": "0e51fb94-f892-4d56-9424-5432709fa937",
   "metadata": {},
   "source": [
    "We then get the index location of that grid point for this age and metallicity"
   ]
  },
  {
   "cell_type": "code",
   "execution_count": null,
   "id": "b95a6646-917b-431e-b2d1-72d08dee0f9d",
   "metadata": {},
   "outputs": [],
   "source": [
    "grid_point = grid.get_grid_point(log10ages=log10age, metallicity=Z)"
   ]
  },
  {
   "cell_type": "markdown",
   "id": "8704a652-2145-4d24-af2a-b81e23853daf",
   "metadata": {},
   "source": [
    "We can then loop over the available spectra (contained in `grid.spec_names`) and plot"
   ]
  },
  {
   "cell_type": "code",
   "execution_count": null,
   "id": "423dea3a-1a67-4f21-b26c-99008ebb8860",
   "metadata": {},
   "outputs": [],
   "source": [
    "for spectra_id in grid.available_spectra:\n",
    "    # Get `Sed` object\n",
    "    sed = grid.get_spectra(grid_point, spectra_id=spectra_id)\n",
    "\n",
    "    # Mask zero valued elements\n",
    "    mask = sed.lnu > 0\n",
    "    plt.plot(\n",
    "        np.log10(sed.lam[mask]),\n",
    "        np.log10(sed.lnu[mask]),\n",
    "        lw=1,\n",
    "        alpha=0.8,\n",
    "        label=spectra_id,\n",
    "    )\n",
    "\n",
    "plt.legend(fontsize=8, labelspacing=0.0)\n",
    "plt.xlabel(r\"$\\rm log_{10}(\\lambda/\\AA)$\")\n",
    "plt.ylabel(r\"$\\rm log_{10}(L_{\\nu}/erg\\ s^{-1}\\ Hz^{-1} M_{\\odot}^{-1})$\")"
   ]
  },
  {
   "cell_type": "markdown",
   "id": "7a1625be-deef-4730-bf48-a30422507224",
   "metadata": {},
   "source": [
    "## Plot ionising luminosities\n",
    "\n",
    "We can also plot properties over the entire age and metallicity grid, such as the ionising luminosity. \n",
    "\n",
    "In the examples below we plot ionising luminosities for HI and HeII"
   ]
  },
  {
   "cell_type": "code",
   "execution_count": null,
   "id": "eb8088ad-e7ef-4600-941d-0c8b01c59a5d",
   "metadata": {},
   "outputs": [],
   "source": [
    "fig, ax = grid.plot_specific_ionising_lum(ion=\"HI\")"
   ]
  },
  {
   "cell_type": "code",
   "execution_count": null,
   "id": "3ac8ca54-9707-4125-9715-d878a0ed5e27",
   "metadata": {},
   "outputs": [],
   "source": [
    "fig, ax = grid.plot_specific_ionising_lum(ion=\"HeII\")"
   ]
  },
  {
   "cell_type": "markdown",
   "id": "c3c32247-626e-48ce-b51a-7a1f3174bdc8",
   "metadata": {},
   "source": [
    "## Resampling Grids\n",
    "\n",
    "If you want to resample a grid after instantiation, you can apply the `intrep_spectra` method:"
   ]
  },
  {
   "cell_type": "code",
   "execution_count": null,
   "id": "fa0f7d5d",
   "metadata": {},
   "outputs": [],
   "source": [
    "# Define a new set of wavelengths\n",
    "new_lams = np.logspace(2, 5, 10000) * angstrom\n",
    "\n",
    "print(\"The old grid had dimensions:\", grid.spectra[\"incident\"].shape)\n",
    "\n",
    "# Get the grid interpolated onto the new wavelength array\n",
    "grid.interp_spectra(new_lam=new_lams)\n",
    "\n",
    "print(\"The interpolated grid has dimensions:\", grid.spectra[\"incident\"].shape)"
   ]
  },
  {
   "cell_type": "markdown",
   "id": "e094b8c5",
   "metadata": {},
   "source": [
    "Note that this will overwrite the spectra and wavelengths read from the file *in place*.\n",
    "To get back to the original arrays, a separate `Grid` can be instatiated without the modified wavelength array."
   ]
  },
  {
   "cell_type": "markdown",
   "id": "34e89bb1",
   "metadata": {},
   "source": [
    "## Collapsing Grids\n",
    "\n",
    "While most of the models within synthesizer are capable of handling higher dimensionality grids (i.e. grids with more dimensions than `age` and `metallicity`), other workflows might require some method to reduce the dimensionality. \n",
    "\n",
    "This functionality is provided via the `collapse()` method, which collapses the grid over a specified axis.\n",
    "There are three ways to actually collapse the grid, specified by the `method` keyword argument:\n",
    "\n",
    "- `marginalize` over the entire axis. This is useful if you don't know anything about this parameter, and just want to adopt the average over it. You can specify the function used to marginalize with the keyword argument `marginalize_function`; the default is `np.average`. \n",
    "- Pick the value `nearest` to a specified value. If you know the value of the parameter you want to use, you can collapse the grid by picking the value closest to your specified value. For this, you need to specify the `value` keyword argument. \n",
    "- `interpolate` to a specified value. Similar to `nearest`, but with a linear interpolation to your specified `value`. This is useful in workflows where you can't adopt a discrete value, but be warned that interpolating over a coarse grid can give unrealistic results. You can apply a transformation to the axis before interpolating, e.g. to interpolate in log-space rather than linear space, with the keyword argument `pre_interp_function`. \n",
    "\n",
    "For example, here we collapse the grid over the metallicity axis:"
   ]
  },
  {
   "cell_type": "code",
   "execution_count": null,
   "id": "d0ce0fbe",
   "metadata": {},
   "outputs": [],
   "source": [
    "print(\"The old grid had dimensions:\", grid.spectra[\"incident\"].shape)\n",
    "print(\"and axes:\", \", \".join(grid.axes))\n",
    "\n",
    "# Collapse the grid to a single metallicity value\n",
    "grid.collapse(\"metallicities\", value=0.03, method=\"nearest\")\n",
    "\n",
    "print(\"The collapsed grid has dimensions:\", grid.spectra[\"incident\"].shape)\n",
    "print(\"and axes:\", \", \".join(grid.axes))"
   ]
  },
  {
   "cell_type": "markdown",
   "id": "611cef91",
   "metadata": {},
   "source": [
    "Note that `collapse()` will overwrite the `Grid` _in place_. You can restore the grid to its original dimensionality by re-loading from the HDF5 file:"
   ]
  },
  {
   "cell_type": "code",
   "execution_count": null,
   "id": "bacbdd48",
   "metadata": {},
   "outputs": [],
   "source": [
    "# Re-load the original grid\n",
    "grid = Grid(grid_name, grid_dir=grid_dir)"
   ]
  },
  {
   "cell_type": "markdown",
   "id": "10bbb357",
   "metadata": {},
   "source": [
    "## Converting a `Grid` into an `Sed`\n",
    "\n",
    "Any of the spectra arrays stored within a `Grid` can be returned as `Sed` objects (see the `Sed` [docs](../sed/sed.rst)). This enables all of the analysis methods provide on an Sed to be used on the whole spectra grid. To do this we simply call `get_sed` with the spectra type we want to extract, and then use any of the included methods."
   ]
  },
  {
   "cell_type": "code",
   "execution_count": null,
   "id": "2ef7ddad",
   "metadata": {},
   "outputs": [],
   "source": [
    "# Get the sed object\n",
    "sed = grid.get_sed(spectra_type=\"incident\")\n",
    "\n",
    "# Measure the balmer break for all spectra in the grid (limiting the output)\n",
    "sed.measure_balmer_break()[5:10, 5:10]"
   ]
  },
  {
   "attachments": {},
   "cell_type": "markdown",
   "id": "9cc8a97d",
   "metadata": {},
   "source": [
    "## Working with flattened grids\n",
    "\n",
    "Sometimes it's useful to work with flattened (i.e. one dimensional) versions of a grid of spectra, photometry etc. To facilitate this the `get_flattened_axes_values` method on `grid` can be used to get the flattend axes values."
   ]
  },
  {
   "cell_type": "code",
   "execution_count": null,
   "id": "9337ebca",
   "metadata": {},
   "outputs": [],
   "source": [
    "cm[\"plasma\"](0.5)"
   ]
  },
  {
   "cell_type": "code",
   "execution_count": null,
   "id": "6c5bf32d",
   "metadata": {},
   "outputs": [],
   "source": [
    "grid._axes_units[\"ages\"]\n",
    "grid._axes_values[\"ages\"]"
   ]
  },
  {
   "cell_type": "code",
   "execution_count": null,
   "id": "c4a47c96",
   "metadata": {},
   "outputs": [],
   "source": [
    "# Get the balmer breaks of the entire grid\n",
    "balmer_breaks = sed.measure_balmer_break()\n",
    "\n",
    "# Get a flattened version of the Balmer break grid\n",
    "flattened_balmer_breaks = balmer_breaks.flatten()\n",
    "\n",
    "# Get the flattened version of the axes\n",
    "flattend_axes_values = grid.get_flattened_axes_values()\n",
    "\n",
    "# Normlise metallicities and create an array of colors\n",
    "norm = Normalize(vmin=-4, vmax=-1.5, clip=True)\n",
    "colors = cm[\"plasma\"](norm(np.log10(flattend_axes_values[\"metallicities\"])))\n",
    "\n",
    "# Plot\n",
    "plt.scatter(\n",
    "    flattend_axes_values[\"ages\"].to(\"Myr\").value,\n",
    "    flattened_balmer_breaks,\n",
    "    c=colors,\n",
    ")\n",
    "plt.xscale(\"log\")\n",
    "plt.xlabel(\"ages/Myr\")\n",
    "plt.ylabel(\"Blamer break\")\n",
    "plt.show()"
   ]
  }
 ],
 "metadata": {},
 "nbformat": 4,
 "nbformat_minor": 5
}
