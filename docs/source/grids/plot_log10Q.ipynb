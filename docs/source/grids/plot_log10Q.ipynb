{
 "cells": [
  {
   "attachments": {},
   "cell_type": "markdown",
   "id": "00db497b-9cf9-4547-ae44-4d80f30eb8a1",
   "metadata": {},
   "source": [
    "# Plot Specific Ionising Luminosity Grid\n",
    "\n",
    "This example demonstrates how to plot the specific ionising photon luminosity "
   ]
  },
  {
   "cell_type": "code",
   "execution_count": 15,
   "id": "7158257d-8bab-4c83-bac6-38aa83def3bf",
   "metadata": {
    "tags": []
   },
   "outputs": [],
   "source": [
    "import numpy as np\n",
    "import cmasher as cmr\n",
    "import matplotlib as mpl\n",
    "import matplotlib.cm as cm\n",
    "import matplotlib.pyplot as plt\n",
    "from synthesizer.grid import Grid\n",
    "from synthesizer.plots import plot_log10Q"
   ]
  },
  {
   "attachments": {},
   "cell_type": "markdown",
   "id": "3436e527",
   "metadata": {},
   "source": [
    "Let's begin by defining the the grid and its location:"
   ]
  },
  {
   "cell_type": "code",
   "execution_count": 16,
   "id": "dc8b164f-3d98-456f-8e21-b0d72d7a7ff8",
   "metadata": {
    "tags": []
   },
   "outputs": [],
   "source": [
    "\n",
    "grid_dir =  '../../../tests/test_grid/'\n",
    "grid_name = 'test_grid'"
   ]
  },
  {
   "attachments": {},
   "cell_type": "markdown",
   "id": "99c9eeef-aef7-4947-a71f-47a1e08f74c6",
   "metadata": {},
   "source": [
    "We can then initialise the grid:"
   ]
  },
  {
   "cell_type": "code",
   "execution_count": 17,
   "id": "e22bfca6",
   "metadata": {},
   "outputs": [],
   "source": [
    "grid = Grid(grid_name, grid_dir=grid_dir)"
   ]
  },
  {
   "attachments": {},
   "cell_type": "markdown",
   "id": "9859db49",
   "metadata": {},
   "source": [
    "Let's define the ion we're interested in (at the time of writing only `HI` and `HeII` are computed for grids) and get the grid for that specific ion:"
   ]
  },
  {
   "cell_type": "code",
   "execution_count": 18,
   "id": "84cb62c1",
   "metadata": {},
   "outputs": [],
   "source": [
    "ion = 'HI'\n",
    "log10Q = grid.log10Q[ion]"
   ]
  },
  {
   "attachments": {},
   "cell_type": "markdown",
   "id": "671e21c8",
   "metadata": {},
   "source": [
    "Let's define the min and max values we apply to map with the colourbar:"
   ]
  },
  {
   "cell_type": "code",
   "execution_count": 19,
   "id": "924620eb",
   "metadata": {},
   "outputs": [],
   "source": [
    "# if no limits supplied set a sensible range for HI ion otherwise use min max\n",
    "vmin = None\n",
    "vmax = None\n",
    "\n",
    "if ion == 'HI':\n",
    "    if not vmin: vmin = 42.5\n",
    "    if not vmax: vmax = 47.5\n",
    "else:\n",
    "    if not vmin: vmin = np.min(log10Q)\n",
    "    if not vmax: vmax = np.max(log10Q)\n"
   ]
  },
  {
   "attachments": {},
   "cell_type": "markdown",
   "id": "78cc8c82",
   "metadata": {},
   "source": [
    "We want to plot a row for every metallicity, which is not typically evenly spaced so let's do that:"
   ]
  },
  {
   "cell_type": "code",
   "execution_count": 20,
   "id": "0e059126",
   "metadata": {},
   "outputs": [],
   "source": [
    "y = np.arange(len(grid.metallicity))"
   ]
  },
  {
   "attachments": {},
   "cell_type": "markdown",
   "id": "78de6f21",
   "metadata": {},
   "source": [
    "Let's choose a suitable colourmap, the hardest part of any project, and define a normalisation function:"
   ]
  },
  {
   "cell_type": "code",
   "execution_count": 21,
   "id": "6eef7948",
   "metadata": {},
   "outputs": [],
   "source": [
    "cmap = cmr.sapphire\n",
    "norm = mpl.colors.Normalize(vmin=vmin, vmax=vmax)"
   ]
  },
  {
   "attachments": {},
   "cell_type": "markdown",
   "id": "c3e10def",
   "metadata": {},
   "source": [
    "Let's now make the figure:"
   ]
  },
  {
   "cell_type": "code",
   "execution_count": 23,
   "id": "85525f49",
   "metadata": {},
   "outputs": [
    {
     "data": {
      "text/plain": [
       "Text(0, 0.5, 'Z')"
      ]
     },
     "execution_count": 23,
     "metadata": {},
     "output_type": "execute_result"
    },
    {
     "data": {
      "image/png": "[encoded data removed]",
      "text/plain": [
       "<Figure size 350x250 with 2 Axes>"
      ]
     },
     "metadata": {},
     "output_type": "display_data"
    }
   ],
   "source": [
    "left = 0.2\n",
    "height = 0.65\n",
    "bottom = 0.15\n",
    "width = 0.75\n",
    "hsize = 3.5\n",
    "vsize = 2.5\n",
    "\n",
    "# set up axes\n",
    "fig = plt.figure(figsize=(hsize, vsize))\n",
    "ax = fig.add_axes((left, bottom, width, height))\n",
    "cax = fig.add_axes([left, bottom+height+0.01, width, 0.05])\n",
    "\n",
    "# make plot\n",
    "ax.imshow(log10Q.T, origin='lower', extent=[grid.log10age[0],\n",
    "            grid.log10age[-1], y[0]-0.5, y[-1]+0.5], cmap=cmap,\n",
    "            aspect='auto', vmin=vmin, vmax=vmax)\n",
    "\n",
    "\n",
    "cmapper = cm.ScalarMappable(norm=norm, cmap=cmap)\n",
    "cmapper.set_array([])\n",
    "\n",
    "# add colourbar\n",
    "fig.colorbar(cmapper, cax=cax, orientation='horizontal')\n",
    "cax.xaxis.tick_top()\n",
    "cax.xaxis.set_label_position('top')\n",
    "cax.set_xlabel(r'$\\rm log_{10}(\\dot{n}_{'+ion+'}/s^{-1}\\ M_{\\odot}^{-1})$')\n",
    "cax.set_yticks([])\n",
    "\n",
    "ax.set_yticks(y, grid.metallicity)\n",
    "ax.minorticks_off()\n",
    "ax.set_xlabel('log_{10}(age/yr)')\n",
    "ax.set_ylabel('Z')\n",
    "\n"
   ]
  }
 ],
 "metadata": {
  "kernelspec": {
   "display_name": "Python 3",
   "language": "python",
   "name": "python3"
  },
  "language_info": {
   "codemirror_mode": {
    "name": "ipython",
    "version": 3
   },
   "file_extension": ".py",
   "mimetype": "text/x-python",
   "name": "python",
   "nbconvert_exporter": "python",
   "pygments_lexer": "ipython3",
   "version": "3.11.3"
  },
  "vscode": {
   "interpreter": {
    "hash": "b17fb8bccc0b39217f999a538066f52bb2439b4a6369f3609a877f598600f747"
   }
  }
 },
 "nbformat": 4,
 "nbformat_minor": 5
}
