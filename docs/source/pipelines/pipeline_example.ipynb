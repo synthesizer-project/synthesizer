{
 "cells": [
  {
   "cell_type": "markdown",
   "metadata": {},
   "source": [
    "# The Pipeline \n",
    "\n",
    "If you have a galaxy catalog (either of `Parametric` origin or from a simulation), an [`EmissionModel`](../emission_models/emission_models.rst), and a set of [instruments](../instrumentation/instrument_example.ipynb) you want observables for, you can easily write a pipeline to generate the observations you want using the Synthesizer UI. However, lets say you have a new catalog you want to run the same analysis on, or a whole different set of instruments you want to use. You could modify your old pipeline or write a whole new pipeline, but thats a lot of work and boilerplate. \n",
    "\n",
    "This is where the `Pipeline` shines. Instead, of having to write a pipeline, the `Pipeline` class is a high-level interface that allows you to easily generate observations for a given catalog, emission model, and set of instruments. All you need to do is define a galaxy loader, setup the ``Pipeline`` object, and run the observable methods you want to include. Possible observables include:\n",
    "\n",
    "- Spectra.\n",
    "- Emission Lines.\n",
    "- Photometry.\n",
    "- Images (with or without PSF convolution/noise).\n",
    "- Spectral data cubes (IFUs) [WIP].\n",
    "- Instrument specific spectroscopy [WIP].\n",
    "\n",
    "The ``Pipeline`` will generate all the requested observations for all (compatible) instruments and galaxies, before writing them out to a standardised HDF5 format.\n",
    "\n",
    "As a bonus, the abstraction into the `Pipeline` class allows for easy parallelization of the analysis, not only over local threads but distributed over MPI. \n",
    "\n",
    "In the following sections we will show how to instantiate and use a ``Pipeline`` object to generate observations for a given catalog, emission model, and set of instruments.\n",
    "\n",
    "## Setting up a ``Pipeline`` object\n",
    "\n",
    "Before we instatiate a survey we need to define its \"dependencies\". These are an emission model, a set of instruments, and importantly some galaxies to observe."
   ]
  },
  {
   "cell_type": "markdown",
   "metadata": {},
   "source": [
    "### Defining an emission model\n",
    "\n",
    "The ``EmissionModel`` defines the emissions we'll generate, including the origin and any reprocessing the emission undergoes. For more details see the ``EmissionModel`` [docs](../emission_models/emission_models.rst). \n",
    "\n",
    "For demonstration, we'll use a simple premade ``IntrinsicEmission`` model which defines the intrinsic stellar emission (i.e. stellar emission without any ISM dust reprocessing)."
   ]
  },
  {
   "cell_type": "code",
   "execution_count": null,
   "metadata": {},
   "outputs": [],
   "source": [
    "from synthesizer.emission_models import IntrinsicEmission\n",
    "from synthesizer.grid import Grid\n",
    "\n",
    "# Get the grid\n",
    "grid_dir = \"../../../tests/test_grid/\"\n",
    "grid_name = \"test_grid\"\n",
    "grid = Grid(grid_name, grid_dir=grid_dir)\n",
    "\n",
    "model = IntrinsicEmission(grid, fesc=0.1)\n",
    "model.set_per_particle(True)  # we want per particle emissions"
   ]
  },
  {
   "cell_type": "markdown",
   "metadata": {},
   "source": [
    "### Defining the instruments\n",
    "\n",
    "We don't need any instruments if all we want is spectra at the resolution of the ``Grid`` or emission lines. However, to get anything more sophisticated we need ``Instruments`` that define the technical specifications of the observations we want to generate. For a full breakdown see the instrumentation [docs](../instrumentation/instrument_example.ipynb).\n",
    "\n",
    "Here we'll define a simple set of instruments including a subset of NIRCam filters (capable of imaging with a 0.1 kpc resolution) and a set of UVJ top hat filters (only capable of photometry)."
   ]
  },
  {
   "cell_type": "code",
   "execution_count": null,
   "metadata": {},
   "outputs": [],
   "source": [
    "import numpy as np\n",
    "from unyt import angstrom, kpc\n",
    "\n",
    "from synthesizer.instruments import UVJ, FilterCollection, Instrument\n",
    "\n",
    "# Get the filters\n",
    "lam = np.linspace(10**3, 10**5, 1000) * angstrom\n",
    "webb_filters = FilterCollection(\n",
    "    filter_codes=[\n",
    "        f\"JWST/NIRCam.{f}\"\n",
    "        for f in [\"F090W\", \"F150W\", \"F200W\", \"F277W\", \"F356W\", \"F444W\"]\n",
    "    ],\n",
    "    new_lam=lam,\n",
    ")\n",
    "uvj_filters = UVJ(new_lam=lam)\n",
    "\n",
    "# Instatiate the instruments\n",
    "webb_inst = Instrument(\"JWST\", filters=webb_filters, resolution=0.1 * kpc)\n",
    "uvj_inst = Instrument(\"UVJ\", filters=uvj_filters)\n",
    "instruments = webb_inst + uvj_inst\n",
    "\n",
    "print(instruments)"
   ]
  },
  {
   "cell_type": "markdown",
   "metadata": {},
   "source": [
    "### Loading galaxies\n",
    "\n",
    "You can load galaxies however you want but for this example we'll load some CAMELS galaxies using the `load_data` module."
   ]
  },
  {
   "cell_type": "code",
   "execution_count": null,
   "metadata": {},
   "outputs": [],
   "source": [
    "import numpy as np\n",
    "\n",
    "from synthesizer.load_data.load_camels import load_CAMELS_IllustrisTNG\n",
    "\n",
    "# Create galaxy object\n",
    "galaxies = load_CAMELS_IllustrisTNG(\n",
    "    \"../../../tests/data/\",\n",
    "    snap_name=\"camels_snap.hdf5\",\n",
    "    group_name=\"camels_subhalo.hdf5\",\n",
    "    physical=True,\n",
    ")"
   ]
  },
  {
   "cell_type": "markdown",
   "metadata": {},
   "source": [
    "### Instantiating the ``Pipeline`` object\n",
    "\n",
    "Now we have all the ingredients we need to instantiate a ``Pipeline`` object. All we need to do now is pass them into the ``Pipeline`` object alongside the number of galaxies in the catalog in total and the number of threads we want to use during the analysis (in this notebook we'll only use 1 for such a small handful of galaxies)."
   ]
  },
  {
   "cell_type": "code",
   "execution_count": null,
   "metadata": {},
   "outputs": [],
   "source": [
    "from synthesizer.survey import Pipeline\n",
    "\n",
    "survey = Pipeline(\n",
    "    emission_model=model,\n",
    "    instruments=instruments,\n",
    "    nthreads=1,\n",
    "    verbose=1,\n",
    ")"
   ]
  },
  {
   "cell_type": "markdown",
   "metadata": {},
   "source": [
    "Notice that we got a log out of the ``Pipeline`` object detailing the basic setup. The ``Pipeline`` will automatically output logging information to the console but this can be supressed by passing ``verbose=0`` which limits the outputs to saying hello, goodbye, and any errors that occur."
   ]
  },
  {
   "cell_type": "markdown",
   "metadata": {},
   "source": [
    "## Adding analysis functions\n",
    "\n",
    "We could just run the analysis now and get whatever predefined outputs we want. However, we can also add our own analysis functions to the ``Pipeline`` object. These functions will be run on each galaxy in the catalog and can be used to generate any additional outputs we want. Importantly, these functions will be run **after** all other analysis has finished so they can make use of any outputs generated by the ``Pipeline`` object.\n",
    "\n",
    "Below we'll define an analysis function to compute the stellar half mass radius of each galaxy. Any extra analysis functions must obey the following rules:\n",
    "\n",
    "- It must calculate the \"result\" for a single galaxy at a time.\n",
    "- The function's first argument must be the galaxy to calculate for.\n",
    "- It must return an array of values or a scalar, such that ``np.array(<list of results>)`` is a valid operation. In other words, the results once combined for all galaxies should be an array of shape ``(n_galaxies, <result shape>)``.\n",
    "- It can take any number of additional arguments and keyword arguments, but **beware**, adding large objects to the function signature will slow down the threadpools due to the need to serialise and deserialise these objects.\n",
    "- It can use results of previously added functions if these attached anything to the galaxy itself (i.e. functions will be run in the order they are added)."
   ]
  },
  {
   "cell_type": "code",
   "execution_count": null,
   "metadata": {},
   "outputs": [],
   "source": [
    "def get_stellar_half_mass_radius(gal):\n",
    "    \"\"\"\n",
    "    Compute the stellar half mass radius.\n",
    "\n",
    "    Args:\n",
    "        gal (Galaxy):\n",
    "            The galaxy to compute the half light radius of.\n",
    "    \"\"\"\n",
    "    return gal.stars.get_half_mass_radius()"
   ]
  },
  {
   "cell_type": "markdown",
   "metadata": {},
   "source": [
    "To add this to the ``Pipeline`` we need to pass it along with a string defining the key under which the results will be stored in the HDF5 file."
   ]
  },
  {
   "cell_type": "code",
   "execution_count": null,
   "metadata": {},
   "outputs": [],
   "source": [
    "survey.add_analysis_func(\n",
    "    get_stellar_half_mass_radius, result_key=\"Stars/HalfMassRadius\"\n",
    ")"
   ]
  },
  {
   "cell_type": "markdown",
   "metadata": {},
   "source": [
    "This can also be done with simple ``lambda`` functions to include galaxy attributes in the output. For instance, the redshift."
   ]
  },
  {
   "cell_type": "code",
   "execution_count": null,
   "metadata": {},
   "outputs": [],
   "source": [
    "survey.add_analysis_func(lambda gal: gal.redshift, result_key=\"Redshift\")"
   ]
  },
  {
   "cell_type": "markdown",
   "metadata": {},
   "source": [
    "## Running the pipeline\n",
    "\n",
    "To run the pipeline we just need to attach our galaxies and then call the various observable generation methods. This approach allows you to explicitly control which observables you want to generate with a single line of code for each.\n",
    "\n",
    "### Loading the galaxies\n",
    "\n",
    "First we'll attach the galaxies. We don't need it here but you can also pass an array of indexes for labelling the galaxies if you want, otherwise they'll be assigned from 0-N, where N is the number of galaxies."
   ]
  },
  {
   "cell_type": "code",
   "execution_count": null,
   "metadata": {},
   "outputs": [],
   "source": [
    "survey.add_galaxies(galaxies)"
   ]
  },
  {
   "cell_type": "markdown",
   "metadata": {},
   "source": [
    "### Generating the observables\n",
    "\n",
    "Now we have the galaxies we can generate their observables. We do this by calling the various observable generation methods on the ``Pipeline`` object. These will automatically use the number of threads we defined when we instantiated the ``Pipeline`` object, if this was 1 then everything will be done in serial.\n",
    "\n",
    "There is a required order to the calling of the observable methods. For instance, you can't generate photometry with first generating the spectra. Each method knows to check it's dependencies have been satisfied, if they have not an error will be raised.\n",
    "\n",
    "We'll start with the spectra. If we want fluxes, we'll need to pass an ``astropy.cosmology`` object."
   ]
  },
  {
   "cell_type": "code",
   "execution_count": null,
   "metadata": {},
   "outputs": [],
   "source": [
    "from astropy.cosmology import Planck18 as cosmo\n",
    "\n",
    "survey.get_spectra(cosmo=cosmo)"
   ]
  },
  {
   "cell_type": "markdown",
   "metadata": {},
   "source": [
    "Next we'll generate the emission lines. Here we can pass exactly which emission lines we want to generate based on line ID. Here we'll just generate all lines offered by the ``Grid``."
   ]
  },
  {
   "cell_type": "code",
   "execution_count": null,
   "metadata": {},
   "outputs": [],
   "source": [
    "survey.get_lines(line_ids=grid.available_lines)"
   ]
  },
  {
   "cell_type": "markdown",
   "metadata": {},
   "source": [
    "Next, the photometry. This requires no extra inputs but we have separate methods for luminosities and fluxes (with the latter requiring a ``astropy.cosmology`` object was based when spectra were generated)."
   ]
  },
  {
   "cell_type": "code",
   "execution_count": null,
   "metadata": {},
   "outputs": [],
   "source": [
    "survey.get_photometry_luminosities()\n",
    "survey.get_photometry_fluxes()"
   ]
  },
  {
   "cell_type": "markdown",
   "metadata": {},
   "source": [
    "Finally, we'll generate the images. Again, these are split into luminosity and flux flavours. Here we define our field of view and pass that into each method. We are also doing \"smoothed\" imaging where each particle is smoothed over its SPH kernel. For this style of image genration we need to pass the kernel array, which we'll extract here.\n",
    "\n",
    "Had we defined instruments with PSFs and/or noise these methods would automatically generate images with these effects/contributions included."
   ]
  },
  {
   "cell_type": "code",
   "execution_count": null,
   "metadata": {},
   "outputs": [],
   "source": [
    "from synthesizer.kernel_functions import Kernel\n",
    "\n",
    "# Get the SPH kernel\n",
    "sph_kernel = Kernel()\n",
    "kernel = sph_kernel.get_kernel()\n",
    "\n",
    "survey.get_images_luminosity(fov=50 * kpc, kernel=kernel)\n",
    "survey.get_images_flux(fov=50 * kpc, kernel=kernel)"
   ]
  },
  {
   "cell_type": "markdown",
   "metadata": {},
   "source": [
    "## Writing out the data\n",
    "\n",
    "Finally, we write out the data to a HDF5 file. This file will contain all the observables we generated, as well as any additional analysis we ran. This file is structure to mirror the structure of Synthesizer objects, with each galaxy being a group, each component being a subgroup, and each observale being a dataset (or set of subgroups with the observables as datasets at their leaves in the case of a dicitonary attribute).\n",
    "\n",
    "To write out the data we just pass the path to the file we want to write to to the ``write`` method.\n",
    "\n",
    "Note that we all passing ``verbose=0`` to silence the dataset timings for these docs. Otherwise, we would get timings for the writing of individual datasets. In the wild these timings are useful but here they'd just bloat the demo."
   ]
  },
  {
   "cell_type": "code",
   "execution_count": null,
   "metadata": {},
   "outputs": [],
   "source": [
    "survey.write(\"output.hdf5\", verbose=0)"
   ]
  },
  {
   "cell_type": "markdown",
   "metadata": {},
   "source": [
    "## Putting it all together\n",
    "\n",
    "Here is what the pipeline would look like without all the descriptive fluff..."
   ]
  },
  {
   "cell_type": "code",
   "execution_count": null,
   "metadata": {},
   "outputs": [],
   "source": [
    "survey = Pipeline(model, instruments)\n",
    "survey.add_analysis_func(\n",
    "    get_stellar_half_mass_radius, result_key=\"Stars/HalfMassRadius\"\n",
    ")\n",
    "survey.add_analysis_func(lambda gal: gal.redshift, result_key=\"Redshift\")\n",
    "survey.add_galaxies(galaxies)\n",
    "survey.get_spectra(cosmo=cosmo)\n",
    "survey.get_lines(line_ids=grid.available_lines)\n",
    "survey.get_photometry_luminosities()\n",
    "survey.get_photometry_fluxes()\n",
    "survey.get_images_luminosity(fov=50 * kpc, kernel=kernel)\n",
    "survey.get_images_flux(fov=50 * kpc, kernel=kernel)\n",
    "survey.write(\"output.hdf5\", verbose=0)"
   ]
  },
  {
   "cell_type": "markdown",
   "metadata": {},
   "source": [
    "# Hybrid parallelism with MPI\n",
    "\n",
    "Above we demonstrated how to run a pipeline using only local shared memory parallelism. We can also use `mpi4py` to not only use the shared memory parallelism but also distribute the analysis across multiple nodes (hence \"hybrid parallelism\"). \n",
    "\n",
    "To make use of MPI we only need to make a couple changes to running the pipeline. The first is simply that we need to pass the ``comm`` object to the ``Pipeline`` object when we instantiate it. \n",
    "\n",
    "```python\n",
    "from mpi4py import MPI\n",
    "\n",
    "survey = Pipeline(\n",
    "    gal_loader_func=galaxy_loader,  \n",
    "    emission_model=model, \n",
    "    n_galaxies=10, \n",
    "    instruments=instruments, \n",
    "    nthreads=4, \n",
    "    verbose=1,\n",
    "    comm=MPI.COMM_WORLD,\n",
    ")\n",
    "```\n",
    "\n",
    "Note, that ``verbose=1`` will mean only rank 0 will output logging information. If you want all ranks to output logging information you should set ``verbose=2``.\n",
    "\n",
    "The only other thing we need to do is partition the galaxies **before** we load them.\n",
    "\n",
    "Below we will spoof an MPI enabled ``Pipeline`` object to demonstrate this (we can't actually run MPI in a notebook)."
   ]
  },
  {
   "cell_type": "code",
   "execution_count": null,
   "metadata": {},
   "outputs": [],
   "source": [
    "# Make a survey to demo partitioning\n",
    "survey = Pipeline(\n",
    "    emission_model=model,\n",
    "    instruments=instruments,\n",
    "    nthreads=4,\n",
    "    verbose=1,\n",
    ")\n",
    "\n",
    "# Fake the MPI ranks (you can ignore this)\n",
    "survey.using_mpi = True\n",
    "survey.rank = 0\n",
    "survey.size = 4"
   ]
  }
 ],
 "metadata": {},
 "nbformat": 4,
 "nbformat_minor": 2
}
