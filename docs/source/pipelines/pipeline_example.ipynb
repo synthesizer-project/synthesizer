{
 "cells": [
  {
   "cell_type": "markdown",
   "metadata": {},
   "source": [
    "# The Pipeline \n",
    "\n",
    "If you have a galaxy catalog (either of `Parametric` origin or from a simulation), an [`EmissionModel`](../emission_models/emission_models.rst), and a set of [instruments](../instrumentation/instrument_example.ipynb) you want observables for, you can easily write a pipeline to generate the observations you want using the Synthesizer UI. However, lets say you have a new catalog you want to run the same analysis on, or a whole different set of instruments you want to use. You could modify your old pipeline or write a whole new pipeline, but thats a lot of work and boilerplate. \n",
    "\n",
    "This is where the `Pipeline` shines. Instead, of having to write a pipeline, the `Pipeline` class is a high-level interface that allows you to easily generate observations for a given catalog, emission model, and set of instruments. All you need to do is set up the ``Pipeline`` object, attach the galaxies, and run the observable methods you want to include. Possible observables include:\n",
    "\n",
    "- Spectra.\n",
    "- Emission Lines.\n",
    "- Photometry.\n",
    "- Images (with or without PSF convolution/noise).\n",
    "- Spectral data cubes (IFUs) [WIP].\n",
    "- Instrument specific spectroscopy [WIP].\n",
    "\n",
    "The ``Pipeline`` will generate all the requested observations for all (compatible) instruments and galaxies, before writing them out to a standardised HDF5 format.\n",
    "\n",
    "As a bonus, the abstraction into the `Pipeline` class allows for easy parallelization of the analysis, not only over local threads but distributed over MPI. \n",
    "\n",
    "In the following sections we will show how to instantiate and use a ``Pipeline`` object to generate observations for a given catalog, emission model, and set of instruments.\n",
    "\n",
    "## Setting up a ``Pipeline`` object\n",
    "\n",
    "Before we instatiate a pipeline we need to define its \"dependencies\". These are an emission model, a set of instruments, and importantly some galaxies to observe."
   ]
  },
  {
   "cell_type": "markdown",
   "metadata": {},
   "source": [
    "### Defining an emission model\n",
    "\n",
    "The ``EmissionModel`` defines the emissions we'll generate, including its origin and any reprocessing the emission undergoes. For more details see the ``EmissionModel`` [docs](../emission_models/emission_models.rst). \n",
    "\n",
    "For demonstration, we'll use a simple premade ``IntrinsicEmission`` model which defines the intrinsic stellar emission (i.e. stellar emission without any ISM dust reprocessing)."
   ]
  },
  {
   "cell_type": "code",
   "execution_count": null,
   "metadata": {},
   "outputs": [],
   "source": [
    "from synthesizer.emission_models import IntrinsicEmission\n",
    "from synthesizer.grid import Grid\n",
    "\n",
    "# Get the grid\n",
    "grid_dir = \"../../../tests/test_grid/\"\n",
    "grid_name = \"test_grid\"\n",
    "grid = Grid(grid_name, grid_dir=grid_dir)\n",
    "\n",
    "model = IntrinsicEmission(grid, fesc=0.1)\n",
    "model.set_per_particle(True)  # we want per particle emissions"
   ]
  },
  {
   "cell_type": "markdown",
   "metadata": {},
   "source": [
    "### Defining the instruments\n",
    "\n",
    "We don't need any instruments if all we want is spectra at the spectral resolution of the ``Grid`` or emission lines. However, to get anything more sophisticated we need ``Instruments`` that define the technical specifications of the observations we want to generate. For a full breakdown see the instrumentation [docs](../instrumentation/instrument_example.ipynb).\n",
    "\n",
    "Here we'll define a simple set of instruments including a subset of NIRCam filters (capable of imaging with a 0.1 kpc resolution) and a set of UVJ top hat filters (only capable of photometry)."
   ]
  },
  {
   "cell_type": "code",
   "execution_count": null,
   "metadata": {},
   "outputs": [],
   "source": [
    "import numpy as np\n",
    "from unyt import angstrom, kpc\n",
    "\n",
    "from synthesizer.instruments import UVJ, FilterCollection, Instrument\n",
    "\n",
    "# Get the filters\n",
    "lam = np.linspace(10**3, 10**5, 1000) * angstrom\n",
    "webb_filters = FilterCollection(\n",
    "    filter_codes=[\n",
    "        f\"JWST/NIRCam.{f}\"\n",
    "        for f in [\"F090W\", \"F150W\", \"F200W\", \"F277W\", \"F356W\", \"F444W\"]\n",
    "    ],\n",
    "    new_lam=lam,\n",
    ")\n",
    "uvj_filters = UVJ(new_lam=lam)\n",
    "\n",
    "# Instatiate the instruments\n",
    "webb_inst = Instrument(\"JWST\", filters=webb_filters, resolution=0.1 * kpc)\n",
    "uvj_inst = Instrument(\"UVJ\", filters=uvj_filters)\n",
    "instruments = webb_inst + uvj_inst\n",
    "\n",
    "print(instruments)"
   ]
  },
  {
   "cell_type": "markdown",
   "metadata": {},
   "source": [
    "### Loading galaxies\n",
    "\n",
    "You can load galaxies however you want but for this example we'll load some CAMELS galaxies using the `load_data` module."
   ]
  },
  {
   "cell_type": "code",
   "execution_count": null,
   "metadata": {},
   "outputs": [],
   "source": [
    "from synthesizer.load_data.load_camels import load_CAMELS_IllustrisTNG\n",
    "\n",
    "# Create galaxy object\n",
    "galaxies = load_CAMELS_IllustrisTNG(\n",
    "    \"../../../tests/data/\",\n",
    "    snap_name=\"camels_snap.hdf5\",\n",
    "    group_name=\"camels_subhalo.hdf5\",\n",
    "    physical=True,\n",
    ")"
   ]
  },
  {
   "cell_type": "markdown",
   "metadata": {},
   "source": [
    "### Instantiating the ``Pipeline`` object\n",
    "\n",
    "We have all the ingredients we need to instantiate a ``Pipeline`` object. All we need to do now is pass them into the ``Pipeline`` object alongside the number of threads we want to use during the analysis (in this notebook we'll only use 1 for such a small handful of galaxies)."
   ]
  },
  {
   "cell_type": "code",
   "execution_count": null,
   "metadata": {},
   "outputs": [],
   "source": [
    "from synthesizer.pipeline import Pipeline\n",
    "\n",
    "pipeline = Pipeline(\n",
    "    emission_model=model,\n",
    "    instruments=instruments,\n",
    "    nthreads=1,\n",
    "    verbose=1,\n",
    ")"
   ]
  },
  {
   "cell_type": "markdown",
   "metadata": {},
   "source": [
    "Notice that we got a log out of the ``Pipeline`` object detailing the basic setup. The ``Pipeline`` will automatically output logging information to the console but this can be supressed by passing ``verbose=0`` which limits the outputs to saying hello, goodbye, and any errors that occur."
   ]
  },
  {
   "cell_type": "markdown",
   "metadata": {},
   "source": [
    "## Adding analysis functions\n",
    "\n",
    "We could just run the analysis now and get whatever predefined outputs we want. However, we can also add our own analysis functions to the ``Pipeline`` object. These functions will be run on each galaxy in the catalog and can be used to generate any additional outputs we want. Importantly, these functions will be run **after** all other analysis has finished so they can make use of any outputs generated by the ``Pipeline`` object. They will also be run in the order they have been added allowing access to anything derived in previous analysis functions.\n",
    "\n",
    "Any extra analysis functions must obey the following rules:\n",
    "\n",
    "- It must calculate the \"result\" for a single galaxy at a time.\n",
    "- The function's first argument must be the galaxy to calculate for.\n",
    "- It can take any number of additional arguments and keyword arguments.\n",
    "- It must either:\n",
    "    - Return an array of values or a scalar, such that ``np.array(<list of results>)`` is a valid operation. In other words, the results once combined for all galaxies should be an array of shape ``(n_galaxies, <result shape>)``.\n",
    "    - Return a dictionary where each result at the \"leaves\" of the dictionary structure is an array of values or a scalar, such that ``np.array(<list of results>)`` is a valid operation. In other words, the dictionary of results once combined for all galaxies should be a dictionary with an array of shape ``(n_galaxies, <result shape>)`` at each \"leaf\".\n",
    "\n",
    "Below we'll define an analysis function to compute stellar mass radii of each galaxy. "
   ]
  },
  {
   "cell_type": "code",
   "execution_count": null,
   "metadata": {},
   "outputs": [],
   "source": [
    "def get_stellar_mass_radius(gal, fracs):\n",
    "    \"\"\"\n",
    "    Compute the half mass radii.\n",
    "\n",
    "    Args:\n",
    "        gal (Galaxy):\n",
    "            The galaxy to compute the half light radius of.\n",
    "        fracs (list, float)\n",
    "            The fractional radii to compute.\n",
    "    \"\"\"\n",
    "    result = {}\n",
    "    for frac in fracs:\n",
    "        result[str(frac).replace(\".\", \"p\")] = gal.stars.get_attr_radius(\n",
    "            \"current_masses\", frac\n",
    "        )\n",
    "    return result"
   ]
  },
  {
   "cell_type": "markdown",
   "metadata": {},
   "source": [
    "To add this to the ``Pipeline`` we need to pass it along with a string defining the key under which the results will be stored in the HDF5 file and the ``fracs`` argument it requires."
   ]
  },
  {
   "cell_type": "code",
   "execution_count": null,
   "metadata": {},
   "outputs": [],
   "source": [
    "pipeline.add_analysis_func(\n",
    "    get_stellar_mass_radius,\n",
    "    result_key=\"Stars/HalfMassRadius\",\n",
    "    fracs=(0.2, 0.5, 0.8),\n",
    ")"
   ]
  },
  {
   "cell_type": "markdown",
   "metadata": {},
   "source": [
    "This can also be done with simple ``lambda`` functions to include galaxy attributes in the output. For instance, the redshift."
   ]
  },
  {
   "cell_type": "code",
   "execution_count": null,
   "metadata": {},
   "outputs": [],
   "source": [
    "pipeline.add_analysis_func(lambda gal: gal.redshift, result_key=\"Redshift\")"
   ]
  },
  {
   "cell_type": "markdown",
   "metadata": {},
   "source": [
    "## Running the pipeline\n",
    "\n",
    "To run the pipeline we just need to attach our galaxies and then call the various observable generation methods. This approach allows you to explicitly control which observables you want to generate with a single line of code for each. Each of these getter methods signals to the ``Pipeline`` which observables you want to generate and eventually write out to the HDF5 file.\n",
    "\n",
    "### Loading the galaxies\n",
    "\n",
    "First we'll attach the galaxies."
   ]
  },
  {
   "cell_type": "code",
   "execution_count": null,
   "metadata": {},
   "outputs": [],
   "source": [
    "pipeline.add_galaxies(galaxies)"
   ]
  },
  {
   "cell_type": "markdown",
   "metadata": {},
   "source": [
    "### Generating the observables\n",
    "\n",
    "Now we have the galaxies we can generate their observables. We do this by calling the various observable generation methods on the ``Pipeline`` object to signal which observables we want, followed by the ``run`` method to perform the analysis. \n",
    "\n",
    "We'll start with the spectra."
   ]
  },
  {
   "cell_type": "code",
   "execution_count": null,
   "metadata": {},
   "outputs": [],
   "source": [
    "pipeline.get_spectra()"
   ]
  },
  {
   "cell_type": "markdown",
   "metadata": {},
   "source": [
    "If we want fluxes, we can pass an ``astropy.cosmology`` object to the ``get_observed_fluxes`` method to get the fluxes in the observer frame."
   ]
  },
  {
   "cell_type": "code",
   "execution_count": null,
   "metadata": {},
   "outputs": [],
   "source": [
    "from astropy.cosmology import Planck18 as cosmo\n",
    "\n",
    "pipeline.get_observed_spectra(cosmo)"
   ]
  },
  {
   "cell_type": "markdown",
   "metadata": {},
   "source": [
    "Next we'll generate the emission lines. Here we can pass exactly which emission lines we want to generate based on line ID. We'll just generate all lines offered by the ``Grid``."
   ]
  },
  {
   "cell_type": "code",
   "execution_count": null,
   "metadata": {},
   "outputs": [],
   "source": [
    "pipeline.get_lines(line_ids=grid.available_lines)"
   ]
  },
  {
   "cell_type": "markdown",
   "metadata": {},
   "source": [
    "Again, to get observed fluxes we can pass an ``astropy.cosmology`` object to the ``get_observed_lines`` method."
   ]
  },
  {
   "cell_type": "code",
   "execution_count": null,
   "metadata": {},
   "outputs": [],
   "source": [
    "pipeline.get_observed_lines(cosmo)"
   ]
  },
  {
   "cell_type": "markdown",
   "metadata": {},
   "source": [
    "Next, the photometry. This requires no extra inputs but we have separate methods for luminosities and fluxes."
   ]
  },
  {
   "cell_type": "code",
   "execution_count": null,
   "metadata": {},
   "outputs": [],
   "source": [
    "pipeline.get_photometry_luminosities()\n",
    "pipeline.get_photometry_fluxes()"
   ]
  },
  {
   "cell_type": "markdown",
   "metadata": {},
   "source": [
    "Finally, we'll generate the images. Again, these are split into luminosity and flux flavours. Here we define our field of view and pass that into each method. We are also doing \"smoothed\" imaging where each particle is smoothed over its SPH kernel. For this style of image generation we need to pass the kernel array, which we'll extract here.\n",
    "\n",
    "Had we defined instruments with PSFs and/or noise we would also call the ``get_images_luminosity_psf``/``get_images_flux_psf`` and ``get_images_luminosity_noise``/``get_images_flux_noise`` methods."
   ]
  },
  {
   "cell_type": "code",
   "execution_count": null,
   "metadata": {},
   "outputs": [],
   "source": [
    "from synthesizer.kernel_functions import Kernel\n",
    "\n",
    "# Get the SPH kernel\n",
    "sph_kernel = Kernel()\n",
    "kernel = sph_kernel.get_kernel()\n",
    "\n",
    "pipeline.get_images_luminosity(fov=50 * kpc, kernel=kernel)\n",
    "pipeline.get_images_flux(fov=50 * kpc, kernel=kernel)"
   ]
  },
  {
   "cell_type": "markdown",
   "metadata": {},
   "source": [
    "Now we have every observable we want signalled for generation we can run the pipeline. This will generate all the observables on a galaxy by galaxy basis removing each galaxy from memory to reduce memory usage. This whole process will automatically be parallelized over the number of threads we defined when we instantiated the ``Pipeline`` object where available.\n",
    "\n",
    "To run everything we simply call the ``run`` method."
   ]
  },
  {
   "cell_type": "code",
   "execution_count": null,
   "metadata": {},
   "outputs": [],
   "source": [
    "pipeline.run()"
   ]
  },
  {
   "cell_type": "markdown",
   "metadata": {},
   "source": [
    "## Writing out the data\n",
    "\n",
    "Finally, we write out the data to a HDF5 file. This file will contain all the observables we generated, as well as any additional analysis we ran. This file is structure to mirror the structure of Synthesizer objects, with each galaxy being a group, each component being a subgroup, and each individual observable being a dataset (or set of subgroups with the observables as datasets at their leaves in the case of a dicitonary attribute).\n",
    "\n",
    "To write out the data we just pass the path to the file we want to write to to the ``write`` method.\n",
    "\n",
    "Note that we all passing ``verbose=0`` to silence the dataset timings for these docs. Otherwise, we would get timings for the writing of individual datasets. In the wild these timings are useful but here they'd just bloat the demo."
   ]
  },
  {
   "cell_type": "code",
   "execution_count": null,
   "metadata": {},
   "outputs": [],
   "source": [
    "pipeline.write(\"output.hdf5\", verbose=0)"
   ]
  },
  {
   "cell_type": "markdown",
   "metadata": {},
   "source": [
    "Below is a view into the HDF5 file produced by the above pipeline (as shown by [H5forest](https://github.com/WillJRoper/h5forest)).\n",
    "\n",
    "![Pipeline HDF5 Example](../img/Pipeline_outfile.jpeg)"
   ]
  },
  {
   "cell_type": "markdown",
   "metadata": {},
   "source": [
    "## Putting it all together\n",
    "\n",
    "Here is what the pipeline would look like without all the descriptive fluff..."
   ]
  },
  {
   "cell_type": "code",
   "execution_count": null,
   "metadata": {},
   "outputs": [],
   "source": [
    "# Create galaxy object\n",
    "galaxies = load_CAMELS_IllustrisTNG(\n",
    "    \"../../../tests/data/\",\n",
    "    snap_name=\"camels_snap.hdf5\",\n",
    "    group_name=\"camels_subhalo.hdf5\",\n",
    "    physical=True,\n",
    ")\n",
    "\n",
    "pipeline = Pipeline(model, instruments, report_memory=True)\n",
    "pipeline.add_analysis_func(\n",
    "    get_stellar_mass_radius,\n",
    "    result_key=\"Stars/HalfMassRadius\",\n",
    "    fracs=(0.2, 0.5, 0.8),\n",
    ")\n",
    "pipeline.add_analysis_func(lambda gal: gal.redshift, result_key=\"Redshift\")\n",
    "pipeline.add_galaxies(galaxies)\n",
    "pipeline.get_spectra()\n",
    "pipeline.get_observed_spectra(cosmo)\n",
    "pipeline.get_lines(line_ids=grid.available_lines)\n",
    "pipeline.get_observed_lines(cosmo)\n",
    "pipeline.get_photometry_luminosities()\n",
    "pipeline.get_photometry_fluxes()\n",
    "pipeline.get_images_luminosity(fov=50 * kpc, kernel=kernel)\n",
    "pipeline.get_images_flux(fov=50 * kpc, kernel=kernel)\n",
    "pipeline.run()\n",
    "pipeline.write(\"output.hdf5\", verbose=0)"
   ]
  },
  {
   "cell_type": "markdown",
   "metadata": {},
   "source": [
    "Note here that we set ``report_memory=True`` when we instantiated the ``Pipeline``. This caused the pipeline to probe the memory usage after each galaxy is processed and report it. While this is extremely useful information for debugging purposes, it is also extremely expensive to calculate and is thus turned off by default.\n",
    "\n",
    "## Running a subset of observables\n",
    "\n",
    "If you only want to generate a subset of observables then its as simple as only calling the methods for those observables. However, some observables are dependent on others. \n",
    "\n",
    "For instance, to generate observed fluxes you need to have already generated observer frame spectra. If you signal you want one of these \"downstream\" observables without signalling the \"upstream\" observable then the ``Pipeline`` will automatically generate the upstream observable for you but they will not be written out to the HDF5 file. \n",
    "\n",
    "The only difference is that you must supply the method you are calling with the arguments required to generate the upstream observable. Don't worry though, the ``Pipeline`` will automatically tell you what is missing if you forget something.\n",
    "\n",
    "We demonstrate this below by only selecting only the observed fluxes and observed emission lines."
   ]
  },
  {
   "cell_type": "code",
   "execution_count": null,
   "metadata": {},
   "outputs": [],
   "source": [
    "# Create galaxy object\n",
    "galaxies = load_CAMELS_IllustrisTNG(\n",
    "    \"../../../tests/data/\",\n",
    "    snap_name=\"camels_snap.hdf5\",\n",
    "    group_name=\"camels_subhalo.hdf5\",\n",
    "    physical=True,\n",
    ")\n",
    "# Set up the pipeline\n",
    "pipeline = Pipeline(model, instruments)\n",
    "pipeline.add_galaxies(galaxies)\n",
    "pipeline.get_observed_lines(cosmo, line_ids=grid.available_lines)\n",
    "pipeline.get_photometry_fluxes(cosmo=cosmo)"
   ]
  },
  {
   "cell_type": "markdown",
   "metadata": {},
   "source": [
    "If we want to see which observables we have signalled for generation we can call the ``report_operations`` method, which will print out a list of all observables we have signalled for generation and whether they will be written out to the HDF5 file."
   ]
  },
  {
   "cell_type": "code",
   "execution_count": null,
   "metadata": {},
   "outputs": [],
   "source": [
    "pipeline.report_operations()"
   ]
  },
  {
   "cell_type": "markdown",
   "metadata": {},
   "source": [
    "Note here we have can see all the possible operations we could have signalled for generation but only the observed fluxes and observed emission lines will be written out to the HDF5 file since these are the getters we called."
   ]
  },
  {
   "cell_type": "markdown",
   "metadata": {},
   "source": [
    "## Hybrid parallelism with MPI\n",
    "\n",
    "Above we demonstrated how to run a pipeline using only local shared memory parallelism. We can also use `mpi4py` to not only use the shared memory parallelism but also distribute the analysis across multiple nodes (hence \"hybrid parallelism\").\n",
    "\n",
    "### Instatiating a ``Pipeline`` when using MPI\n",
    "\n",
    "To make use of MPI we only need to make a couple changes to running the pipeline. The first is simply that we need to pass the ``comm`` object to the ``Pipeline`` object when we instantiate it. \n",
    "\n",
    "```python\n",
    "from mpi4py import MPI\n",
    "\n",
    "pipeline = Pipeline(\n",
    "    gal_loader_func=galaxy_loader,  \n",
    "    emission_model=model, \n",
    "    n_galaxies=10, \n",
    "    instruments=instruments, \n",
    "    nthreads=4, \n",
    "    verbose=1,\n",
    "    comm=MPI.COMM_WORLD,\n",
    ")\n",
    "```\n",
    "\n",
    "Here ``verbose=1`` will mean only rank 0 will output logging information. If you want all ranks to output logging information you should set ``verbose=2``. ``verbose=0`` will silence all outputs apart from the greeting, total timing and errors as before.\n",
    "\n",
    "### Adding galaxies with MPI\n",
    "\n",
    "We also need to partition the galaxies **before** we attach them to a ``Pipeline``. For now we provide no mechanisms for this, it is entirely up to you how to split galaxies across the ranks. The important thing is that you only pass the galaxies on a rank to ``add_galaxies``. \n",
    "\n",
    "### Writing out results with MPI  \n",
    "\n",
    "When running a distributed ``Pipeline`` you have several options for writing out the data. Regardless of which approach is used the process to write the outputs is the same as the shared memory version shown above (i.e. we call the ``write`` method). We detail each of these below. \n",
    "\n",
    "#### Collective I/O [WIP]\n",
    "\n",
    "If you have installed ``h5py`` with parallel HDF5 its possible to write collectively to a single HDF5 file. A ``Pipeline`` will detect if parallel ``h5py`` is available and will automatically chose this option if possible. \n",
    "\n",
    "#### Individual I/O\n",
    "\n",
    "When collective I/O operations aren't available we produce a file per MPI rank. This is the most efficient method since communicating the results to a single rank for outputting is not only extremely time consuming but can also lead to communication errors when the outputs are sufficiently large. \n",
    "\n",
    "Once the rank files have been written out we provide 2 options for combining them into a single file, note that working with the rank files is entirely possible though. \n",
    "\n",
    "1. Combination into a single physical file: calling ``combine_files`` will copy all the data across from each rank file into a single file before deleting each individual rank file. This is clean with regard to what is left, but is extremely time consuming.\n",
    "2. Combination into a single virtual file: calling ``combine_files_virtual`` will make a single file with symlinks to all the rank data in virtual datasets. This is far more efficient and gives the same interaction behaviour as the copy option (i.e. a single file to interact with) but does mean all the rank files must be kept alongside the virtual file. "
   ]
  }
 ],
 "metadata": {},
 "nbformat": 4,
 "nbformat_minor": 2
}
