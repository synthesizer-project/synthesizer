{
 "cells": [
  {
   "cell_type": "markdown",
   "metadata": {},
   "source": [
    "# Combined Emission Models\n",
    "\n",
    "In the previous pages we show how to construct emission models which contain strictly stellar **or** AGN emission.\n",
    "However, we can define models that combine the emission from stars **and** AGN to produce \"galaxy level\" emission.\n",
    "To do so, we simply provide the emitter based models to a combination model with the \"galaxy\" emitter type.\n",
    "\n",
    "As an example, let's create a ``BimodalPacmanEmission`` model and combine it with a ``UnifiedAGN`` model, with attenuation and dust emission."
   ]
  },
  {
   "cell_type": "code",
   "execution_count": null,
   "metadata": {},
   "outputs": [],
   "source": [
    "from synthesizer.emission_models import (\n",
    "    AttenuatedEmission,\n",
    "    BimodalPacmanEmission,\n",
    "    DustEmission,\n",
    "    EmissionModel,\n",
    "    UnifiedAGN,\n",
    ")\n",
    "from synthesizer.emission_models.attenuation import PowerLaw\n",
    "from synthesizer.emission_models.dust.emission import Blackbody, Greybody\n",
    "from synthesizer.grid import Grid\n",
    "from unyt import kelvin\n",
    "\n",
    "# Get the grids which we'll need for extraction\n",
    "grid_dir = \"../../../tests/test_grid\"\n",
    "grid_name = \"test_grid\"\n",
    "grid = Grid(grid_name, grid_dir=grid_dir)\n",
    "nlr_grid = Grid(\"test_grid_agn-nlr\", grid_dir=\"../../../tests/test_grid\")\n",
    "blr_grid = Grid(\"test_grid_agn-blr\", grid_dir=\"../../../tests/test_grid\")\n",
    "\n",
    "# Get the stellar pacman model\n",
    "pc_model = BimodalPacmanEmission(\n",
    "    grid=grid,\n",
    "    tau_v_ism=1.0,\n",
    "    tau_v_birth=0.7,\n",
    "    dust_curve_ism=PowerLaw(slope=-1.3),\n",
    "    dust_curve_birth=PowerLaw(slope=-0.7),\n",
    "    dust_emission_ism=Blackbody(temperature=100 * kelvin),\n",
    "    dust_emission_birth=Blackbody(temperature=30 * kelvin),\n",
    "    fesc=0.2,\n",
    "    fesc_ly_alpha=0.9,\n",
    "    label=\"stellar_total\",\n",
    ")\n",
    "pc_model.plot_emission_tree(fontsize=5)\n",
    "\n",
    "# Get the UnifiedAGN model\n",
    "uni_model = UnifiedAGN(\n",
    "    nlr_grid,\n",
    "    blr_grid,\n",
    "    covering_fraction_nlr=0.1,\n",
    "    covering_fraction_blr=0.1,\n",
    "    torus_emission_model=Blackbody(1000 * kelvin),\n",
    "    label=\"agn_intrinsic\",\n",
    ")\n",
    "\n",
    "# Define an emission model to attenuate the intrinsic AGN emission\n",
    "att_uni_model = AttenuatedEmission(\n",
    "    dust_curve=PowerLaw(slope=-1.0),\n",
    "    apply_dust_to=uni_model,\n",
    "    tau_v=0.7,\n",
    "    emitter=\"blackhole\",\n",
    "    label=\"agn_attenuated\",\n",
    ")\n",
    "\n",
    "# And now include the dust emission\n",
    "dust_uni_model = DustEmission(\n",
    "    dust_emission_model=Greybody(30 * kelvin, 1.2),\n",
    "    dust_lum_intrinsic=uni_model,\n",
    "    dust_lum_attenuated=att_uni_model,\n",
    "    emitter=\"blackhole\",\n",
    "    label=\"agn_dust_emission\",\n",
    ")\n",
    "dust_uni_model.plot_emission_tree(fontsize=7)"
   ]
  },
  {
   "cell_type": "markdown",
   "metadata": {},
   "source": [
    "Now that we have the emission models for each individual galaxy component we can combine them to make our galaxy level model.\n",
    "First, let's make one that will give the combined intrinsic emission (the emission before dust attenuation)."
   ]
  },
  {
   "cell_type": "code",
   "execution_count": null,
   "metadata": {},
   "outputs": [],
   "source": [
    "gal_intrinsic = EmissionModel(\n",
    "    label=\"total_intrinsic\",\n",
    "    combine=(uni_model, pc_model[\"intrinsic\"]),\n",
    "    emitter=\"galaxy\",\n",
    ")\n",
    "gal_intrinsic.plot_emission_tree(fontsize=7, figsize=(10, 6))"
   ]
  },
  {
   "cell_type": "markdown",
   "metadata": {},
   "source": [
    "And one for the attenuated emission (where we'll include the intrinsic model as a related model)."
   ]
  },
  {
   "cell_type": "code",
   "execution_count": null,
   "metadata": {},
   "outputs": [],
   "source": [
    "gal_attenuated = EmissionModel(\n",
    "    label=\"total_attenuated\",\n",
    "    combine=(att_uni_model, pc_model[\"emergent\"]),\n",
    "    related_models=(gal_intrinsic,),\n",
    "    emitter=\"galaxy\",\n",
    ")\n",
    "gal_attenuated.plot_emission_tree(fontsize=6, figsize=(12, 6))"
   ]
  },
  {
   "cell_type": "markdown",
   "metadata": {},
   "source": [
    "We can then create a dust emission model for the whole galaxy based on the combined attenuated and intrinsic emission."
   ]
  },
  {
   "cell_type": "code",
   "execution_count": null,
   "metadata": {},
   "outputs": [],
   "source": [
    "dust_emission = DustEmission(\n",
    "    dust_emission_model=Greybody(100 * kelvin, 1.2),\n",
    "    dust_lum_intrinsic=gal_intrinsic,\n",
    "    dust_lum_attenuated=gal_attenuated,\n",
    "    emitter=\"galaxy\",\n",
    "    label=\"dust_emission\",\n",
    ")\n",
    "dust_emission.plot_emission_tree(fontsize=7, figsize=(15, 8))"
   ]
  },
  {
   "cell_type": "markdown",
   "metadata": {},
   "source": [
    "And finally we can combine the emissions into the total emission of the galaxy."
   ]
  },
  {
   "cell_type": "code",
   "execution_count": null,
   "metadata": {},
   "outputs": [],
   "source": [
    "total = EmissionModel(\n",
    "    label=\"total\",\n",
    "    combine=(dust_emission, gal_attenuated),\n",
    "    emitter=\"galaxy\",\n",
    ")\n",
    "total.plot_emission_tree(fontsize=6, figsize=(12, 8))"
   ]
  }
 ],
 "metadata": {},
 "nbformat": 4,
 "nbformat_minor": 2
}
