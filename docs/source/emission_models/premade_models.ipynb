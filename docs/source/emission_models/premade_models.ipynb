{
 "cells": [
  {
   "cell_type": "markdown",
   "metadata": {},
   "source": [
    "# Premade Models\n",
    "\n",
    "Although it is possible to define your own custom model (see [custom models](custom_models.ipynb)), most use cases will want a common set of emisisons with a common set of properties. To avoid unnecessarily redefining common models every time Synthesizer is used we provide some premade models which can be used \"out of the box\" or as the foundation for constructing more complex models.\n",
    "\n",
    "These premade models can be imported directly from the `emission_models` submodule which also defines several lists detailing all available models."
   ]
  },
  {
   "cell_type": "code",
   "execution_count": null,
   "metadata": {},
   "outputs": [],
   "source": [
    "from synthesizer.emission_models import (\n",
    "    AGN_MODELS,\n",
    "    COMMON_MODELS,\n",
    "    PREMADE_MODELS,\n",
    "    STELLAR_MODELS,\n",
    ")\n",
    "\n",
    "print(STELLAR_MODELS)\n",
    "print(AGN_MODELS)\n",
    "print(COMMON_MODELS)\n",
    "print(PREMADE_MODELS)"
   ]
  },
  {
   "cell_type": "markdown",
   "metadata": {},
   "source": [
    "As you can see in the code above, there are ``STELLAR_MODELS``, ``AGN_MODELS``, and ``COMMON_MODELS``. In the following sections we'll detail each of these."
   ]
  },
  {
   "cell_type": "markdown",
   "metadata": {},
   "source": [
    "## Stellar Emission Models\n",
    "\n",
    "Before we detail each stellar model we'll first need a grid to pass to each model."
   ]
  },
  {
   "cell_type": "code",
   "execution_count": null,
   "metadata": {},
   "outputs": [],
   "source": [
    "import numpy as np\n",
    "from synthesizer.emission_models.attenuation import PowerLaw\n",
    "from synthesizer.emission_models.dust.emission import Blackbody\n",
    "from synthesizer.grid import Grid\n",
    "from unyt import Hz, Myr, dimensionless, erg, kelvin, s\n",
    "\n",
    "# Get the grid which we'll need for extraction\n",
    "grid_dir = \"../../../tests/test_grid\"\n",
    "grid_name = \"test_grid\"\n",
    "grid = Grid(grid_name, grid_dir=grid_dir)"
   ]
  },
  {
   "cell_type": "markdown",
   "metadata": {},
   "source": [
    "### IncidentEmission\n",
    "\n",
    "Incident emission is the pure stellar emission which is fed into photoionisation modelling. An incident emission model defines the extraction of the ``\"incident\"`` SPS spectra."
   ]
  },
  {
   "cell_type": "code",
   "execution_count": null,
   "metadata": {},
   "outputs": [],
   "source": [
    "from synthesizer.emission_models import IncidentEmission\n",
    "\n",
    "incident = IncidentEmission(grid=grid)\n",
    "print(incident)"
   ]
  },
  {
   "cell_type": "markdown",
   "metadata": {},
   "source": [
    "### LineContinuumEmission\n",
    "\n",
    "Line continuum emission is, unsurpirsingly, the line continuum emitted from the stellar birth cloud of young stars. A line continuum model defines the extraction of the ``\"linecont\"`` reprocessed SPS spectra.\n",
    "\n",
    "Here we will also use a mask because line continuum should be isolated to young stars still surrounded by their birth cloud."
   ]
  },
  {
   "cell_type": "code",
   "execution_count": null,
   "metadata": {},
   "outputs": [],
   "source": [
    "from synthesizer.emission_models import LineContinuumEmission\n",
    "\n",
    "line_cont = LineContinuumEmission(\n",
    "    grid, fesc=0.8, mask_attr=\"ages\", mask_op=\"<\", mask_thresh=10 * Myr\n",
    ")\n",
    "print(line_cont)"
   ]
  },
  {
   "cell_type": "markdown",
   "metadata": {},
   "source": [
    "### TransmittedEmission \n",
    "\n",
    "Transmitted emission is the incident emission that is transmitted through the gas in photoionisation modelling. Unlike incident emission, transmitted emission has little flux below the Lyman-limit, since it has been absorbed by the gas (depending on ``fesc``). A transmitted model defines the extraction of the ``\"transmitted\"`` reprocessed SPS spectra with some escape fraction."
   ]
  },
  {
   "cell_type": "code",
   "execution_count": null,
   "metadata": {},
   "outputs": [],
   "source": [
    "from synthesizer.emission_models import TransmittedEmission\n",
    "\n",
    "transmitted = TransmittedEmission(grid=grid, fesc=0.1)\n",
    "print(transmitted)"
   ]
  },
  {
   "cell_type": "markdown",
   "metadata": {},
   "source": [
    "### EscapedEmission\n",
    "\n",
    "Escaped emission is the portion of the incident emission which fully escapes without being effected by the gas. An escaped model defines the extraction of the ``\"transmitted\"`` reprocessed SPS spectra with some escape fraction (i.e. ``escaped = fesc * incident``)."
   ]
  },
  {
   "cell_type": "code",
   "execution_count": null,
   "metadata": {},
   "outputs": [],
   "source": [
    "from synthesizer.emission_models import EscapedEmission\n",
    "\n",
    "escaped = EscapedEmission(grid, fesc=0.1)\n",
    "print(escaped)"
   ]
  },
  {
   "cell_type": "markdown",
   "metadata": {},
   "source": [
    "Notice here that the \"escape fraction\" for the escaped model is ``1 - fesc`` because escaped is the inverse of transmitted.\n",
    "\n",
    "### NebularContinuumEmission\n",
    "\n",
    "Nebular continuum emission is the continuum emission coming directly from young stars birth cloud. A nebular continuum model defines the extraction of the ``\"nebular_continuum\"`` reprocessed SPS spectra.\n",
    "\n",
    "Like ``LineContinuum`` we will also use a mask here because nebular continuum should be isolated to young stars still surrounded by their birth cloud.\n"
   ]
  },
  {
   "cell_type": "code",
   "execution_count": null,
   "metadata": {},
   "outputs": [],
   "source": [
    "from synthesizer.emission_models import NebularContinuumEmission\n",
    "\n",
    "nebular_cont = NebularContinuumEmission(\n",
    "    grid, fesc=0.2, mask_attr=\"ages\", mask_op=\"<\", mask_thresh=10 * Myr\n",
    ")\n",
    "print(nebular_cont)"
   ]
  },
  {
   "cell_type": "markdown",
   "metadata": {},
   "source": [
    "### NebularEmission\n",
    "\n",
    "Nebular emission is the emission from young stars birth cloud. Unlike other models we've shown so far ``NebularEmission`` comes in two forms depending on whether a lyman alpha escape fraction less than 1.0 is passed. If a lyman alpha escape fraction is passed then ``NebularEmission`` is the combination of ``LineContinuumEmission`` and ``NebularContinuum``, if not it is an extraction of the ``\"nebular\"`` reprocessed SPS spectra.\n",
    "\n",
    "Again, like ``LineContinuumEmission`` and ``NebularContinuum`` we'll include a mask for young stars."
   ]
  },
  {
   "cell_type": "code",
   "execution_count": null,
   "metadata": {},
   "outputs": [],
   "source": [
    "from synthesizer.emission_models import NebularEmission\n",
    "\n",
    "nebular_extract = NebularEmission(grid)\n",
    "print(nebular_extract)\n",
    "print()\n",
    "\n",
    "nebular_combined = NebularEmission(\n",
    "    grid,\n",
    "    fesc=0.1,\n",
    "    fesc_ly_alpha=0.8,\n",
    "    mask_attr=\"ages\",\n",
    "    mask_op=\"<\",\n",
    "    mask_thresh=10 * Myr,\n",
    ")\n",
    "print(nebular_combined)\n",
    "nebular_combined.plot_emission_tree()"
   ]
  },
  {
   "cell_type": "markdown",
   "metadata": {},
   "source": [
    "In the above we had our first model with children. For more complex models like this we can plot the \"emission tree\" to visualise the model. When the model is eventually used to generate emission, the model will be traversed bottom to top (breadth first) generating each spectra.\n",
    "\n",
    "### ReprocessedEmission \n",
    "\n",
    "Reprocessed emission is the stellar emission which has been reprocessed by gas (i.e. the combination of the reprocessed spectra we saw above). A reprocessed model defines the combination of ``TransmittedEmission`` and ``NebularEmission``."
   ]
  },
  {
   "cell_type": "code",
   "execution_count": null,
   "metadata": {},
   "outputs": [],
   "source": [
    "from synthesizer.emission_models import ReprocessedEmission\n",
    "\n",
    "reprocessed = ReprocessedEmission(grid, fesc=0.1, fesc_ly_alpha=0.8)\n",
    "print(reprocessed)\n",
    "reprocessed.plot_emission_tree()"
   ]
  },
  {
   "cell_type": "markdown",
   "metadata": {},
   "source": [
    "### IntrinsicEmission\n",
    "\n",
    "Intrinsic emission is the total stellar emission including all reprocessing prior to dust attenuation. Effectively intrinsic emisison is the emission that is \"incident\" on the dust distribution. An intrinsic model defines the combination of ``EscapedEmission`` and ``ReprocessedEmission``."
   ]
  },
  {
   "cell_type": "code",
   "execution_count": null,
   "metadata": {},
   "outputs": [],
   "source": [
    "from synthesizer.emission_models import IntrinsicEmission\n",
    "\n",
    "intrinsic = IntrinsicEmission(grid, fesc=0.1, fesc_ly_alpha=1.0)\n",
    "print(intrinsic)\n",
    "intrinsic.plot_emission_tree()"
   ]
  },
  {
   "cell_type": "markdown",
   "metadata": {},
   "source": [
    "### EmergentEmission \n",
    "\n",
    "Emergent emission is the stellar emission reprocessed by gas attenuated by dust. We haven't seen the Attenuation model yet since this is a \"common\" model and will be covered below. An emergent model is a combination of ``EscapedEmission`` and ``AttenuatedEmission`` (see below)."
   ]
  },
  {
   "cell_type": "code",
   "execution_count": null,
   "metadata": {},
   "outputs": [],
   "source": [
    "from synthesizer.emission_models import EmergentEmission\n",
    "\n",
    "emergent = EmergentEmission(\n",
    "    grid=grid,\n",
    "    dust_curve=PowerLaw(slope=-1),\n",
    "    apply_dust_to=reprocessed,\n",
    "    tau_v=0.67,\n",
    "    fesc=0.2,\n",
    ")\n",
    "print(emergent)\n",
    "emergent.plot_emission_tree()"
   ]
  },
  {
   "cell_type": "markdown",
   "metadata": {},
   "source": [
    "### TotalEmission\n",
    "\n",
    "Total emission is the combined attenuated emission from the stellar population along with the thermal emission from dust. Once again, dust emission is a common model and will be covered below. A total model is a combination of ``DustEmission`` and ``EmergentEmission``.\n"
   ]
  },
  {
   "cell_type": "code",
   "execution_count": null,
   "metadata": {},
   "outputs": [],
   "source": [
    "from synthesizer.emission_models import TotalEmission\n",
    "\n",
    "total = TotalEmission(\n",
    "    grid=grid,\n",
    "    dust_curve=PowerLaw(slope=-1),\n",
    "    tau_v=0.67,\n",
    "    fesc=0.2,\n",
    "    fesc_ly_alpha=0.7,\n",
    "    dust_emission_model=Blackbody(temperature=100 * kelvin),\n",
    ")\n",
    "print(total)\n",
    "total.plot_emission_tree()"
   ]
  },
  {
   "cell_type": "markdown",
   "metadata": {},
   "source": [
    "Note that omitting `dust_emission_model` when initialising `TotalEmission` will result in a simpler model where `total == emergent`.\n",
    "\n",
    "### CharlotFall2000\n",
    "\n",
    "In addition to the simpler models shown above we also provide 3 more complex models which produce more specialised emissions.\n",
    "\n",
    "The first of these follows Charlot&Fall+2000 including emission split into young and old populations (with the threshold defined by ``age_pivot``) with dust attenuation specific to each population."
   ]
  },
  {
   "cell_type": "code",
   "execution_count": null,
   "metadata": {},
   "outputs": [],
   "source": [
    "from synthesizer.emission_models import CharlotFall2000\n",
    "\n",
    "cf_model = CharlotFall2000(\n",
    "    grid=grid,\n",
    "    tau_v_ism=1.0,\n",
    "    tau_v_nebular=0.7,\n",
    "    dust_curve_ism=PowerLaw(slope=-0.7),\n",
    "    dust_curve_nebular=PowerLaw(slope=-1.3),\n",
    "    age_pivot=7 * dimensionless,\n",
    "    dust_emission_ism=Blackbody(temperature=50 * kelvin),\n",
    "    dust_emission_nebular=Blackbody(temperature=100 * kelvin),\n",
    ")\n",
    "print(cf_model)\n",
    "cf_model.plot_emission_tree(fontsize=6)"
   ]
  },
  {
   "cell_type": "markdown",
   "metadata": {},
   "source": [
    "If we omit the dust emission model then we get a simpler model with a root at ``\"emergent\"``."
   ]
  },
  {
   "cell_type": "code",
   "execution_count": null,
   "metadata": {},
   "outputs": [],
   "source": [
    "cf_model = CharlotFall2000(\n",
    "    grid=grid,\n",
    "    tau_v_ism=1.0,\n",
    "    tau_v_nebular=0.7,\n",
    "    dust_curve_ism=PowerLaw(slope=-0.7),\n",
    "    dust_curve_nebular=PowerLaw(slope=-1.3),\n",
    "    age_pivot=7 * dimensionless,\n",
    ")\n",
    "cf_model.plot_emission_tree()"
   ]
  },
  {
   "cell_type": "markdown",
   "metadata": {},
   "source": [
    "It's also possible to plot a subtree within a model by passing the root of the subtree. This is particularly helpful for models like `CharlotFall2000` which define a lot of extra spectra that don't necessarily appear in the main tree depending on the exact inputs. You can see this in the plots below which show the trees defining the \"extra\" spectra available when using ``CharlotFall2000`` (and indeed ``PacmanEmission`` and ``BimodelPacmanEmission`` which we'll cover shortly)."
   ]
  },
  {
   "cell_type": "code",
   "execution_count": null,
   "metadata": {},
   "outputs": [],
   "source": [
    "cf_model.plot_emission_tree(root=\"incident\")"
   ]
  },
  {
   "cell_type": "code",
   "execution_count": null,
   "metadata": {},
   "outputs": [],
   "source": [
    "cf_model.plot_emission_tree(root=\"transmitted\")"
   ]
  },
  {
   "cell_type": "code",
   "execution_count": null,
   "metadata": {},
   "outputs": [],
   "source": [
    "cf_model.plot_emission_tree(root=\"intrinsic\")"
   ]
  },
  {
   "cell_type": "code",
   "execution_count": null,
   "metadata": {},
   "outputs": [],
   "source": [
    "cf_model.plot_emission_tree(root=\"attenuated\")"
   ]
  },
  {
   "cell_type": "markdown",
   "metadata": {},
   "source": [
    "### PacmanEmission\n",
    "\n",
    "We also implement a generalised form of Charlot&Fall+2000 which, unlike ``CharlotFall2000``, also accounts for escape fractions. We call this model \"Pacman\". Pacman calculates dust attenuated spectra including an escape fraction and variable Lyman-alpha transmission. In this model some fraction (fesc) of the pure stellar emission is able to completely escaped the galaxy without reprocessing by gas or dust. The rest is assumed to be reprocessed by both gas and a screen of dust. \n",
    "\n",
    "The Pacman model has two forms, the first is the ``PacmanEmission`` model which does not differentiate between young and old populations."
   ]
  },
  {
   "cell_type": "code",
   "execution_count": null,
   "metadata": {},
   "outputs": [],
   "source": [
    "from synthesizer.emission_models import PacmanEmission\n",
    "\n",
    "# Simple Pacman with dust emission\n",
    "simple_pc_model = PacmanEmission(\n",
    "    grid=grid,\n",
    "    tau_v=0.7,\n",
    "    dust_curve=PowerLaw(slope=-1.3),\n",
    "    dust_emission=Blackbody(temperature=100 * kelvin),\n",
    "    fesc=0.2,\n",
    "    fesc_ly_alpha=0.9,\n",
    ")\n",
    "simple_pc_model.plot_emission_tree()"
   ]
  },
  {
   "cell_type": "markdown",
   "metadata": {},
   "source": [
    "Again, omitting the ``dust_emission_model`` will result in a model with ``\"emergent\"`` at it's root."
   ]
  },
  {
   "cell_type": "markdown",
   "metadata": {},
   "source": [
    "### BiomodalPacmanEmission\n",
    "\n",
    "The second flavour of the Pacman model is the ``BimodalPacmanEmission`` model which is the same as ``PacmanEmission`` in every other respect but does differentiate between old and young populations. The young component feels attenuation from both the ISM and birth cloud while the old component only feels attenuation from the ISM."
   ]
  },
  {
   "cell_type": "code",
   "execution_count": null,
   "metadata": {},
   "outputs": [],
   "source": [
    "from synthesizer.emission_models import BimodalPacmanEmission\n",
    "\n",
    "pc_model = BimodalPacmanEmission(\n",
    "    grid=grid,\n",
    "    tau_v_ism=1.0,\n",
    "    tau_v_nebular=0.7,\n",
    "    dust_curve_ism=PowerLaw(slope=-1.3),\n",
    "    dust_curve_nebular=PowerLaw(slope=-0.7),\n",
    "    dust_emission_ism=Blackbody(temperature=100 * kelvin),\n",
    "    dust_emission_nebular=Blackbody(temperature=30 * kelvin),\n",
    "    fesc=0.2,\n",
    "    fesc_ly_alpha=0.9,\n",
    ")\n",
    "pc_model.plot_emission_tree(fontsize=5)"
   ]
  },
  {
   "cell_type": "markdown",
   "metadata": {},
   "source": [
    "And as with the other models the dust emission can omitted leaving ``\"emergent\"`` at the root."
   ]
  },
  {
   "cell_type": "markdown",
   "metadata": {},
   "source": [
    "## AGN Emission Models\n",
    "\n",
    "You are, of course, free to construct whatever emission model you want using the preexisting AGN grids but we define a set of premade models including a complex `UnifiedAGN` model to calculate and combine emission from an AGN's disc, Narrow Line Region (NLR), Broad Line Region (BLR), and torus.\n",
    "\n",
    "As with the stellar models, before we define any AGN models we need the grids to use with them. For AGN models there are currently two grids, one for the NLR and one for the BLR. "
   ]
  },
  {
   "cell_type": "code",
   "execution_count": null,
   "metadata": {},
   "outputs": [],
   "source": [
    "from synthesizer import Grid\n",
    "\n",
    "# Get the NLR and BLR grids\n",
    "nlr_grid = Grid(\"test_grid_agn-nlr\", grid_dir=\"../../../tests/test_grid\")\n",
    "blr_grid = Grid(\"test_grid_agn-blr\", grid_dir=\"../../../tests/test_grid\")"
   ]
  },
  {
   "cell_type": "markdown",
   "metadata": {},
   "source": [
    "### NLRIncidentEmission\n",
    "\n",
    "The incident NLR emission is the pure disc emission incident onto the NLR. A NLR incident model defines the extraction of the ``\"incident\"`` NLR spectra."
   ]
  },
  {
   "cell_type": "code",
   "execution_count": null,
   "metadata": {},
   "outputs": [],
   "source": [
    "from synthesizer.emission_models import NLRIncidentEmission\n",
    "\n",
    "nlr_incident = NLRIncidentEmission(grid=nlr_grid)\n",
    "print(nlr_incident)"
   ]
  },
  {
   "cell_type": "markdown",
   "metadata": {},
   "source": [
    "### BLRIncidentEmission \n",
    "\n",
    "The incident BLR emission is the pure disc emission incident onto the BLR. A BLR incident model defines the extraction of the ``\"incident\"`` BLR spectra."
   ]
  },
  {
   "cell_type": "code",
   "execution_count": null,
   "metadata": {},
   "outputs": [],
   "source": [
    "from synthesizer.emission_models import BLRIncidentEmission\n",
    "\n",
    "blr_incident = BLRIncidentEmission(grid=blr_grid)\n",
    "print(blr_incident)"
   ]
  },
  {
   "cell_type": "markdown",
   "metadata": {},
   "source": [
    "### NLRTransmittedEmission\n",
    "\n",
    "The transmitted NLR emission is the incident NLR emission which is transmitted through the NLR. A NLR transmitted model defines the extraction of the ``\"transmitted\"`` NLR spectra including a covering fraction (escape fraction) defining how much of the disc emission is transmitted through the NLR."
   ]
  },
  {
   "cell_type": "code",
   "execution_count": null,
   "metadata": {},
   "outputs": [],
   "source": [
    "from synthesizer.emission_models import NLRTransmittedEmission\n",
    "\n",
    "nlr_transmitted = NLRTransmittedEmission(grid=nlr_grid, covering_fraction=0.1)\n",
    "print(nlr_transmitted)"
   ]
  },
  {
   "cell_type": "markdown",
   "metadata": {},
   "source": [
    "### BLRTransmittedEmission\n",
    "\n",
    "The transmitted BLR emission is the incident BLR emission which is transmitted through the BLR. A BLR transmitted model defines the extraction of the ``\"transmitted\"`` BLR spectra including a covering fraction (escape fraction) defining how much of the disc emission is transmitted through the BLR."
   ]
  },
  {
   "cell_type": "code",
   "execution_count": null,
   "metadata": {},
   "outputs": [],
   "source": [
    "from synthesizer.emission_models import BLRTransmittedEmission\n",
    "\n",
    "blr_transmitted = BLRTransmittedEmission(grid=blr_grid, covering_fraction=0.1)\n",
    "print(blr_transmitted)"
   ]
  },
  {
   "cell_type": "markdown",
   "metadata": {},
   "source": [
    "### NLREmission\n",
    "\n",
    "The NLR emission is the emission coming directly from the NLR. A NLR model defines the extraction of the ``\"nebular\"`` NLR spectra."
   ]
  },
  {
   "cell_type": "code",
   "execution_count": null,
   "metadata": {},
   "outputs": [],
   "source": [
    "from synthesizer.emission_models import NLREmission\n",
    "\n",
    "nlr = NLREmission(grid=nlr_grid)\n",
    "print(nlr)"
   ]
  },
  {
   "cell_type": "markdown",
   "metadata": {},
   "source": [
    "### BLREmission\n",
    "\n",
    "The BLR emission is the emission coming directly from the BLR. A BLR model defines the extraction of the ``\"nebular\"`` BLR spectra."
   ]
  },
  {
   "cell_type": "code",
   "execution_count": null,
   "metadata": {},
   "outputs": [],
   "source": [
    "blr = NLREmission(grid=blr_grid)\n",
    "print(blr)"
   ]
  },
  {
   "cell_type": "markdown",
   "metadata": {},
   "source": [
    "### DiscIncidentEmission\n",
    "\n",
    "The disc incident emission is the emission directly from the disc incident onto the NLR and BLR. A disc incident model defines the extraction of the ``\"incident\"`` NLR spectra. Without any geometry considerations ``DiscIncidentEmission``, ``NLRIncidentEmission``, and ``BLRIncidentEmission`` are all equivalent models (we consider the geometry in the ``UnifiedAGN`` model)."
   ]
  },
  {
   "cell_type": "code",
   "execution_count": null,
   "metadata": {},
   "outputs": [],
   "source": [
    "from synthesizer.emission_models import DiscIncidentEmission\n",
    "\n",
    "disc_incident = DiscIncidentEmission(grid=nlr_grid)\n",
    "print(disc_incident)"
   ]
  },
  {
   "cell_type": "markdown",
   "metadata": {},
   "source": [
    "\n",
    "### DiscTransmittedEmission\n",
    "\n",
    "The disc transmitted emission is the disc emission transmitted through both the NLR and BLR. A disc transmitted model defines the combination of ``NLRTransmittedEmission`` and ``BLRTransmittedEmission`` in the presence of a covering fraction (escape fraction) for each line region."
   ]
  },
  {
   "cell_type": "code",
   "execution_count": null,
   "metadata": {},
   "outputs": [],
   "source": [
    "from synthesizer.emission_models import DiscTransmittedEmission\n",
    "\n",
    "disc_transmitted = DiscTransmittedEmission(\n",
    "    nlr_grid=nlr_grid,\n",
    "    blr_grid=blr_grid,\n",
    "    covering_fraction_nlr=0.1,\n",
    "    covering_fraction_blr=0.2,\n",
    ")\n",
    "print(disc_transmitted)\n",
    "disc_transmitted.plot_emission_tree()"
   ]
  },
  {
   "cell_type": "markdown",
   "metadata": {},
   "source": [
    "### DiscEscapedEmission \n",
    "\n",
    "The disc escaped emission is the disc incident emission *not* transmitted through the NLR or BLR. A disc escaped model defines the extraction of the ``\"incident\"`` NLR spectra with ``fesc=1 - covering_fraction_nlr - covering_fraction_blr``."
   ]
  },
  {
   "cell_type": "code",
   "execution_count": null,
   "metadata": {},
   "outputs": [],
   "source": [
    "from synthesizer.emission_models import DiscEscapedEmission\n",
    "\n",
    "disc_escaped = DiscEscapedEmission(\n",
    "    grid=nlr_grid, covering_fraction_nlr=0.1, covering_fraction_blr=0.2\n",
    ")\n",
    "print(disc_escaped)"
   ]
  },
  {
   "cell_type": "markdown",
   "metadata": {},
   "source": [
    "### DiscEmission\n",
    "\n",
    "The disc emission is the combined emission from the disc including both the emission transmitted through the line regions and the escaping disc emission. A disc model defines the combination of ``DiscTransmittedEmission`` and ``DiscEscapedEmission``."
   ]
  },
  {
   "cell_type": "code",
   "execution_count": null,
   "metadata": {},
   "outputs": [],
   "source": [
    "from synthesizer.emission_models import DiscEmission\n",
    "\n",
    "disc = DiscEmission(\n",
    "    nlr_grid=nlr_grid,\n",
    "    blr_grid=blr_grid,\n",
    "    covering_fraction_nlr=0.1,\n",
    "    covering_fraction_blr=0.2,\n",
    ")\n",
    "print(disc)\n",
    "disc.plot_emission_tree()"
   ]
  },
  {
   "cell_type": "markdown",
   "metadata": {},
   "source": [
    "### TorusEmission \n",
    "\n",
    "The torus emission is the emission from the torus due to the incident disc emission is reemits. A torus model defines the generation of a spectra scaled by the `DiscIncidentEmission` which can either be passed, or a grid must be passed and it will be generated."
   ]
  },
  {
   "cell_type": "code",
   "execution_count": null,
   "metadata": {},
   "outputs": [],
   "source": [
    "from synthesizer.emission_models import TorusEmission\n",
    "\n",
    "torus = TorusEmission(\n",
    "    torus_emission_model=Blackbody(1000 * kelvin), disc_incident=disc_incident\n",
    ")\n",
    "print(torus)"
   ]
  },
  {
   "cell_type": "markdown",
   "metadata": {},
   "source": [
    "### AGNIntrinsicEmission \n",
    "\n",
    "The AGN intrinsic emission is the total emission from an AGN including the emission from the line regions, disc, and torus. A AGN intrinsic model defines the combination of ``DiscEmission``, ``NLREmission``, ``BLREmission``, and ``TorusEmission``."
   ]
  },
  {
   "cell_type": "code",
   "execution_count": null,
   "metadata": {},
   "outputs": [],
   "source": [
    "from synthesizer.emission_models import AGNIntrinsicEmission\n",
    "\n",
    "agn_intrinsic = AGNIntrinsicEmission(\n",
    "    nlr_grid=nlr_grid,\n",
    "    blr_grid=blr_grid,\n",
    "    torus_emission_model=Blackbody(1000 * kelvin),\n",
    "    covering_fraction_nlr=0.1,\n",
    "    covering_fraction_blr=0.2,\n",
    ")\n",
    "print(agn_intrinsic)\n",
    "agn_intrinsic.plot_emission_tree()"
   ]
  },
  {
   "cell_type": "markdown",
   "metadata": {},
   "source": [
    "### UnifiedAGN\n",
    "\n",
    "The ``UnifiedAGN`` model is similar to the ``AGNIntrinsicEmission`` model but folds in a lot of extra considerations about the geometry of an AGN.\n",
    "\n",
    "- Disc emission takes into account the inclination of the black hole relative to the angular size of the torus, scaling the amount of observable emission.\n",
    "- The line region emissions are assumed to be completely isotropic.\n",
    "- The torus sees the isotropic emission from the disc.\n",
    "- Only a percentage of the disc emission is transmitted through the line regions."
   ]
  },
  {
   "cell_type": "code",
   "execution_count": null,
   "metadata": {},
   "outputs": [],
   "source": [
    "from synthesizer.emission_models import UnifiedAGN\n",
    "\n",
    "uni_model = UnifiedAGN(\n",
    "    nlr_grid,\n",
    "    blr_grid,\n",
    "    covering_fraction_nlr=0.1,\n",
    "    covering_fraction_blr=0.1,\n",
    "    torus_emission_model=Blackbody(1000 * kelvin),\n",
    ")\n",
    "print(uni_model)\n",
    "\n",
    "uni_model.plot_emission_tree(fontsize=7)"
   ]
  },
  {
   "cell_type": "markdown",
   "metadata": {},
   "source": [
    "## Common Models\n",
    "\n",
    "Some models are common to all components. While these common models are the same in almost every respect these models do require an extra argument to define the \"emitter\" (``\"stellar\"``, ``\"blackhole\"``, or ``\"galaxy\"``) that they act on.\n",
    "\n",
    "### TemplateEmission\n",
    "\n",
    "A template is a simple generation model where a single template spectra is returned with some scaling applying. These can describe any emitter based on the spectra input into the template (which can either come from arrays of ``lnu`` and ``lam`` or a file). \n",
    "\n",
    "Generation from a template model requires a ``Template``, similar to the ``Grid`` required by extraction models."
   ]
  },
  {
   "cell_type": "code",
   "execution_count": null,
   "metadata": {},
   "outputs": [],
   "source": [
    "from synthesizer.emission_models import TemplateEmission\n",
    "from synthesizer.grid import Template\n",
    "\n",
    "# Make a fake template for the demo\n",
    "template = Template(\n",
    "    lam=grid.lam, lnu=np.random.rand(*grid.lam.shape) * erg / s / Hz\n",
    ")\n",
    "\n",
    "template_model = TemplateEmission(template, emitter=\"stellar\")\n",
    "print(template_model)"
   ]
  },
  {
   "cell_type": "markdown",
   "metadata": {},
   "source": [
    "\n",
    "### AttenuatedEmission\n",
    "\n",
    "Attenuated emission is any emission that has been attenuated by dust. An attenuated model takes a ``dust_curve`` (with a defined slope), an optical depth (``tau_v``) which can either be a value, array, attribute of an emitter or tuple containing any combination of the first 3, and a model to apply the dust attenuation to (``apply_dust_to``)."
   ]
  },
  {
   "cell_type": "code",
   "execution_count": null,
   "metadata": {},
   "outputs": [],
   "source": [
    "from synthesizer.emission_models import AttenuatedEmission\n",
    "\n",
    "attenuated = AttenuatedEmission(\n",
    "    emitter=\"stellar\",\n",
    "    dust_curve=PowerLaw(slope=-1),\n",
    "    tau_v=(0.5, \"tau_v\"),\n",
    "    apply_dust_to=intrinsic,\n",
    ")\n",
    "print(attenuated)"
   ]
  },
  {
   "cell_type": "markdown",
   "metadata": {},
   "source": [
    "### DustEmission\n",
    "\n",
    "Dust emission is the reemited emission from the dust distribution due to the attenuation of another emission source. A dust emission model defines the generation of a spectra from a generator (e.g. ``Blackbody`` or ``Greybody``, see the [dust emission model docs](dust_emission.ipynb)) and it its scaling using an energy balance approach."
   ]
  },
  {
   "cell_type": "code",
   "execution_count": null,
   "metadata": {},
   "outputs": [],
   "source": [
    "from synthesizer.emission_models import DustEmission\n",
    "\n",
    "dust_model = DustEmission(\n",
    "    dust_emission_model=Blackbody(50 * kelvin),\n",
    "    dust_lum_intrinsic=intrinsic,\n",
    "    dust_lum_attenuated=attenuated,\n",
    "    emitter=\"stellar\",\n",
    ")\n",
    "print(dust_model)"
   ]
  }
 ],
 "metadata": {},
 "nbformat": 4,
 "nbformat_minor": 2
}
