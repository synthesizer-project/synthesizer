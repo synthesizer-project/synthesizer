{
 "cells": [
  {
   "cell_type": "markdown",
   "metadata": {},
   "source": [
    "# Premade Models\n",
    "\n",
    "Although it is possible to define your own custom model (see [custom models](custom_models.ipynb)), most use cases will want a common set of emisisons with a common set of properties. To avoid unnecessarily redefining common models every time Synthesizer is used we provide some premade models which can be used \"out of the box\" or as the foundation for constructing more complex models.\n",
    "\n",
    "These premade models can be imported directly from the `emission_models` submodule which also defines several lists detailing all available models."
   ]
  },
  {
   "cell_type": "code",
   "execution_count": null,
   "metadata": {},
   "outputs": [],
   "source": [
    "from synthesizer.emission_models import (\n",
    "    AGN_MODELS,\n",
    "    COMMON_MODELS,\n",
    "    PREMADE_MODELS,\n",
    "    STELLAR_MODELS,\n",
    ")\n",
    "\n",
    "print(STELLAR_MODELS)\n",
    "print(AGN_MODELS)\n",
    "print(COMMON_MODELS)\n",
    "print(PREMADE_MODELS)"
   ]
  },
  {
   "cell_type": "markdown",
   "metadata": {},
   "source": [
    "To use any of these models the model simply needs importing and the required arguments passed, which arguments are required depends on the exact operation, more complex models with a deeper \"tree\" will require more parameters to be passed to populate their \"child\" models deeper in the tree. This tree terminology will become clear as you read on.\n",
    "\n",
    "In addition to the arguments specfic to each type of model, any model can be passed arguments to define a mask (the attribute to define a mask with, ``mask_attr``; the operator to use in the mask, ``mask_op``; the threshold for the mask, ``mask_thresh``). We'll also demonstrate this below but note that this is possible for all models.\n",
    "\n",
    "As you can see in the code above, there are ``STELLAR_MODELS``, ``AGN_MODELS``, and ``COMMON_MODELS``. In the following sections we'll detail each of these."
   ]
  },
  {
   "cell_type": "markdown",
   "metadata": {},
   "source": [
    "## Stellar Emission Models\n",
    "\n",
    "Before we detail each stellar model we'll first need a grid to pass to each model."
   ]
  },
  {
   "cell_type": "code",
   "execution_count": null,
   "metadata": {},
   "outputs": [],
   "source": [
    "from synthesizer.dust.attenuation import PowerLaw\n",
    "from synthesizer.dust.emission import Blackbody\n",
    "from synthesizer.grid import Grid\n",
    "from unyt import Myr, dimensionless, kelvin\n",
    "\n",
    "# Get the grid which we'll need for extraction\n",
    "grid_dir = \"../../../tests/test_grid\"\n",
    "grid_name = \"test_grid\"\n",
    "grid = Grid(grid_name, grid_dir=grid_dir)"
   ]
  },
  {
   "cell_type": "markdown",
   "metadata": {},
   "source": [
    "### IncidentEmission\n",
    "\n",
    "Incident emission is the pure stellar emission which is fed into a photoionisation modelling. An incident emission model defines the extraction of the ``\"incident\"`` SPS spectra."
   ]
  },
  {
   "cell_type": "code",
   "execution_count": null,
   "metadata": {},
   "outputs": [],
   "source": [
    "from synthesizer.emission_models import IncidentEmission\n",
    "\n",
    "incident = IncidentEmission(grid=grid)\n",
    "print(incident)"
   ]
  },
  {
   "cell_type": "markdown",
   "metadata": {},
   "source": [
    "### LineContinuumEmission\n",
    "\n",
    "Line continuum emission is, unsurpirsingly, the line contibuum emitted from the stellar birth cloud of young stars. A line continuum model defines the extraction of the ``\"linecont\"`` reprocessed SPS spectra.\n",
    "\n",
    "Here we will also use a mask (for demonstration purposes) because line continuum is going to be isolated to young stars still surrounded by their birth cloud."
   ]
  },
  {
   "cell_type": "code",
   "execution_count": null,
   "metadata": {},
   "outputs": [],
   "source": [
    "from synthesizer.emission_models import LineContinuumEmission\n",
    "\n",
    "line_cont = LineContinuumEmission(\n",
    "    grid, fesc=0.8, mask_attr=\"ages\", mask_op=\"<\", mask_thresh=10 * Myr\n",
    ")\n",
    "print(line_cont)"
   ]
  },
  {
   "cell_type": "markdown",
   "metadata": {},
   "source": [
    "### TransmittedEmission \n",
    "\n",
    "Transmitted emission is the incident emission that is transmitted through the gas in photoionisation modelling. Unlike incident emission, transmitted emission has little flux below the Lyman-limit, since it has been absorbed by the gas (depending on ``fesc``). A transmitted model defines the extraction of the ``\"transmitted\"`` reprocessed SPS spectra with some escape fraction."
   ]
  },
  {
   "cell_type": "code",
   "execution_count": null,
   "metadata": {},
   "outputs": [],
   "source": [
    "from synthesizer.emission_models import TransmittedEmission\n",
    "\n",
    "transmitted = TransmittedEmission(grid=grid, fesc=0.1)\n",
    "print(transmitted)"
   ]
  },
  {
   "cell_type": "markdown",
   "metadata": {},
   "source": [
    "### EscapedEmission\n",
    "\n",
    "Escaped emission is the portion of the incident emission which fully escapes without being effected by the gas. An escaped model defines the extraction of the ``\"transmitted\"`` reprocessed SPS spectra with some escape fraction (i.e. ``escaped = fesc * incident``)."
   ]
  },
  {
   "cell_type": "code",
   "execution_count": null,
   "metadata": {},
   "outputs": [],
   "source": [
    "from synthesizer.emission_models import EscapedEmission\n",
    "\n",
    "escaped = EscapedEmission(grid, fesc=0.1)\n",
    "print(escaped)"
   ]
  },
  {
   "cell_type": "markdown",
   "metadata": {},
   "source": [
    "Notice here that the \"escape fraction\" for the escaped model is ``1 - fesc`` because escaped is the inverse of transmitted.\n",
    "\n",
    "### NebularContinuumEmission\n",
    "\n",
    "Nebular continuum emission is the continuum emission coming directly from young stars birth cloud. A nebular continuum model defines the extraction of the ``\"nebular_continuum\"`` reprocessed SPS spectra.\n",
    "\n",
    "Like ``LineContinuum`` we will also use a mask here (for demonstration purposes) because nebular continuum will be isolated to young stars still surrounded by their birth cloud.\n"
   ]
  },
  {
   "cell_type": "code",
   "execution_count": null,
   "metadata": {},
   "outputs": [],
   "source": [
    "from synthesizer.emission_models import NebularContinuumEmission\n",
    "\n",
    "nebular_cont = NebularContinuumEmission(\n",
    "    grid, fesc=0.2, mask_attr=\"ages\", mask_op=\"<\", mask_thresh=10 * Myr\n",
    ")\n",
    "print(nebular_cont)"
   ]
  },
  {
   "cell_type": "markdown",
   "metadata": {},
   "source": [
    "### NebularEmission\n",
    "\n",
    "Nebular emission is the emission from a young stats birth cloud. Unlike other models we've shown so far ``NebularEmission`` comes in two forms depending on whether a lyman alpha escape fraction less than 1.0 is passed. If a lyman alpha escape fraction is passed then ``NebularEmission`` is the combination of ``LineContinuumEmission`` and ``NebularContinuum``, if not it is an extraction of the ``\"nebular\"`` SPS spectra.\n",
    "\n",
    "Again, like ``LineContinuumEmission`` and ``NebularContinuum`` we'll include a mask for young stars."
   ]
  },
  {
   "cell_type": "code",
   "execution_count": null,
   "metadata": {},
   "outputs": [],
   "source": [
    "from synthesizer.emission_models import NebularEmission\n",
    "\n",
    "nebular_extract = NebularEmission(grid)\n",
    "print(nebular_extract)\n",
    "print()\n",
    "\n",
    "nebular_combined = NebularEmission(\n",
    "    grid,\n",
    "    fesc=0.1,\n",
    "    fesc_ly_alpha=0.8,\n",
    "    mask_attr=\"ages\",\n",
    "    mask_op=\"<\",\n",
    "    mask_thresh=10 * Myr,\n",
    ")\n",
    "print(nebular_combined)\n",
    "nebular_combined.plot_emission_tree()"
   ]
  },
  {
   "cell_type": "markdown",
   "metadata": {},
   "source": [
    "In the above we had our first model with children. For more complex models like this we can plot the \"emission tree\" to visualise the model. When the model is eventually used to generate emission, the model will be traversed bottom to top (breadth first) generating each spectra.\n",
    "\n",
    "### ReprocessedEmission \n",
    "\n",
    "Reprocessed emission is the stellar emission which has been reprocessed by gas (i.e. the combination of the reprocessed spectra we saw above). A reprocessed model defines the combination of ``TransmittedEmission`` and ``TransmittedEmission``."
   ]
  },
  {
   "cell_type": "code",
   "execution_count": null,
   "metadata": {},
   "outputs": [],
   "source": [
    "from synthesizer.emission_models import ReprocessedEmission\n",
    "\n",
    "reprocessed = ReprocessedEmission(grid, fesc=0.1, fesc_ly_alpha=0.8)\n",
    "print(reprocessed)\n",
    "reprocessed.plot_emission_tree()"
   ]
  },
  {
   "cell_type": "markdown",
   "metadata": {},
   "source": [
    "# IntrinsicEmission\n",
    "\n",
    "Intrinsic emission is the total stellar emission including all reprocessing prior to dust attenuation. Effectively intrinsic emisison is the emission that is \"incident\" on the dust distribution. A intrinsic model defines the combination of ``EscapedEmission`` and ``ReprocessedEmission``."
   ]
  },
  {
   "cell_type": "code",
   "execution_count": null,
   "metadata": {},
   "outputs": [],
   "source": [
    "from synthesizer.emission_models import IntrinsicEmission\n",
    "\n",
    "intrinsic = IntrinsicEmission(grid, fesc=0.1, fesc_ly_alpha=1.0)\n",
    "print(intrinsic)\n",
    "intrinsic.plot_emission_tree()"
   ]
  },
  {
   "cell_type": "markdown",
   "metadata": {},
   "source": [
    "### EmergentEmission \n",
    "\n",
    "Emergent emission is the stellar emission reprocessed by gas attenuated by dust. We haven't seen the Attenuation model yet since this is a \"common\" model and will be covered below. An emergent model is a combination of ``EscapedEmission`` and ``AttenuatedEmission`` (see below)."
   ]
  },
  {
   "cell_type": "code",
   "execution_count": null,
   "metadata": {},
   "outputs": [],
   "source": [
    "from synthesizer.emission_models import EmergentEmission\n",
    "\n",
    "emergent = EmergentEmission(\n",
    "    grid=grid,\n",
    "    dust_curve=PowerLaw(slope=-1),\n",
    "    apply_dust_to=reprocessed,\n",
    "    tau_v=0.67,\n",
    "    fesc=0.2,\n",
    ")\n",
    "print(emergent)\n",
    "emergent.plot_emission_tree()"
   ]
  },
  {
   "cell_type": "markdown",
   "metadata": {},
   "source": [
    "### TotalEmission\n",
    "\n",
    "Total emission is the combined attenuated emission from the stellar population along with the thermal emission from dust. Once again, dust emission is a common model and will be covered below. A total model is a combination of ``DustEmission`` and ``EmergentEmission``.\n"
   ]
  },
  {
   "cell_type": "code",
   "execution_count": null,
   "metadata": {},
   "outputs": [],
   "source": [
    "from synthesizer.emission_models import TotalEmission\n",
    "\n",
    "total = TotalEmission(\n",
    "    grid=grid,\n",
    "    dust_curve=PowerLaw(slope=-1),\n",
    "    tau_v=0.67,\n",
    "    fesc=0.2,\n",
    "    fesc_ly_alpha=0.7,\n",
    "    dust_emission_model=Blackbody(temperature=100 * kelvin),\n",
    ")\n",
    "print(total)\n",
    "total.plot_emission_tree()"
   ]
  },
  {
   "cell_type": "markdown",
   "metadata": {},
   "source": [
    "This is the most complex model we've seen so far (but you'll see below that this is still quite simple). However, this is a good point to stop and review the meaning of different features in the emission tree.\n",
    "\n",
    "In the emission tree plot we can see each individual spectra generated by the model and how they relate. Solid lines denote combinations of spectra into another, dashed lines denote an attenuation of the child spectra to produce the parent, blue boxes have no mask applied, green boxes (which we currently have none of) have a mask applied to them, rounded boxes are the result of a non-extraction operation, and square boxes are an extraction operation. You'll notice the extraction operations are always leaves in the tree.\n",
    "\n",
    "Note that omitting `dust_emission_model` when initialising `TotalEmission` will result in a simpler model where `total == emergent`.\n",
    "\n",
    "### CharlotFall2000\n",
    "\n",
    "In addition to the simpler models shown above we also provide 3 more complex models which produce more specialised emissions.\n",
    "\n",
    "The first of these follows Charlot&Fall+2000 including emission split into young and old populations (with the threshold defined by ``age_pivot``) with dust attenuation specific to each population."
   ]
  },
  {
   "cell_type": "code",
   "execution_count": null,
   "metadata": {},
   "outputs": [],
   "source": [
    "from synthesizer.emission_models import CharlotFall2000\n",
    "\n",
    "cf_model = CharlotFall2000(\n",
    "    grid=grid,\n",
    "    tau_v_ism=1.0,\n",
    "    tau_v_nebular=0.7,\n",
    "    dust_curve_ism=PowerLaw(slope=-0.7),\n",
    "    dust_curve_nebular=PowerLaw(slope=-1.3),\n",
    "    age_pivot=7 * dimensionless,\n",
    "    dust_emission_ism=Blackbody(temperature=50 * kelvin),\n",
    "    dust_emission_nebular=Blackbody(temperature=100 * kelvin),\n",
    ")\n",
    "print(cf_model)\n",
    "cf_model.plot_emission_tree(fontsize=6)"
   ]
  },
  {
   "cell_type": "markdown",
   "metadata": {},
   "source": [
    "If we omit the dust emission model then we get a simpler model with a root at ``\"emergent\"``."
   ]
  },
  {
   "cell_type": "code",
   "execution_count": null,
   "metadata": {},
   "outputs": [],
   "source": [
    "cf_model = CharlotFall2000(\n",
    "    grid=grid,\n",
    "    tau_v_ism=1.0,\n",
    "    tau_v_nebular=0.7,\n",
    "    dust_curve_ism=PowerLaw(slope=-0.7),\n",
    "    dust_curve_nebular=PowerLaw(slope=-1.3),\n",
    "    age_pivot=7 * dimensionless,\n",
    ")\n",
    "cf_model.plot_emission_tree()"
   ]
  },
  {
   "cell_type": "markdown",
   "metadata": {},
   "source": [
    "It's also possible to plot a subtree within a model by passing the root of the subtree. This is particularly helpful for models like `CharlotFall2000` which define a lot of extra spectra that don't necessarily appear in the main tree depending on the exact inputs. You can see this in the plots below which show the trees defining the \"extra\" spectra available when using ``CharlotFall2000`` (and indeed ``PacmanEmission`` and ``BimodelPacmanEmission`` which we'll cover shortly)."
   ]
  },
  {
   "cell_type": "code",
   "execution_count": null,
   "metadata": {},
   "outputs": [],
   "source": [
    "cf_model.plot_emission_tree(root=\"incident\")"
   ]
  },
  {
   "cell_type": "code",
   "execution_count": null,
   "metadata": {},
   "outputs": [],
   "source": [
    "cf_model.plot_emission_tree(root=\"transmitted\")"
   ]
  },
  {
   "cell_type": "code",
   "execution_count": null,
   "metadata": {},
   "outputs": [],
   "source": [
    "cf_model.plot_emission_tree(root=\"intrinsic\")"
   ]
  },
  {
   "cell_type": "code",
   "execution_count": null,
   "metadata": {},
   "outputs": [],
   "source": [
    "cf_model.plot_emission_tree(root=\"attenuated\")"
   ]
  },
  {
   "cell_type": "markdown",
   "metadata": {},
   "source": [
    "### PacmanEmission\n",
    "\n",
    "We also implement a generalised form of Charlot&Fall+2000 which, unlike ``CharlotFall2000``, also accounts for escape fractions. We can this model \"Pacman\". Pacman calculates dust attenuated spectra including an escape fraction and variable Lyman-alpha transmission. In this model some fraction (fesc) of the pure stellar emission is able to completely escaped the galaxy without reprocessing by gas or dust. The rest is assumed to be reprocessed by both gas and a screen of dust. \n",
    "\n",
    "The Pacman model has two forms, the first is the ``PacmanEmission`` model which does not differentiate between young and old populations."
   ]
  },
  {
   "cell_type": "code",
   "execution_count": null,
   "metadata": {},
   "outputs": [],
   "source": [
    "from synthesizer.emission_models import PacmanEmission\n",
    "\n",
    "# Simple Pacman with dust emission\n",
    "simple_pc_model = PacmanEmission(\n",
    "    grid=grid,\n",
    "    tau_v=0.7,\n",
    "    dust_curve=PowerLaw(slope=-1.3),\n",
    "    dust_emission=Blackbody(temperature=100 * kelvin),\n",
    "    fesc=0.2,\n",
    "    fesc_ly_alpha=0.9,\n",
    ")\n",
    "simple_pc_model.plot_emission_tree()"
   ]
  },
  {
   "cell_type": "markdown",
   "metadata": {},
   "source": [
    "Again, omitting the ``dust_emission_model`` results in a model with ``\"emergent\"`` at it's root."
   ]
  },
  {
   "cell_type": "code",
   "execution_count": null,
   "metadata": {},
   "outputs": [],
   "source": [
    "simple_pc_model = PacmanEmission(\n",
    "    grid=grid,\n",
    "    tau_v=0.7,\n",
    "    dust_curve=PowerLaw(slope=-1.3),\n",
    "    fesc=0.2,\n",
    "    fesc_ly_alpha=0.9,\n",
    ")\n",
    "simple_pc_model.plot_emission_tree()"
   ]
  },
  {
   "cell_type": "markdown",
   "metadata": {},
   "source": [
    "### BiomodalPacmanEmission\n",
    "\n",
    "The second flavour of the Pacman model is the ``BimodalPacmanEmisison`` model which is the same as ``PacmanEmission`` in every other respect but does differentiate between old and young populations. The young component feels attenuation from both the ISM and birth cloud while the old component only feels attenuation from the ISM."
   ]
  },
  {
   "cell_type": "code",
   "execution_count": null,
   "metadata": {},
   "outputs": [],
   "source": [
    "from synthesizer.emission_models import BimodalPacmanEmission\n",
    "\n",
    "pc_model = BimodalPacmanEmission(\n",
    "    grid=grid,\n",
    "    tau_v_ism=1.0,\n",
    "    tau_v_nebular=0.7,\n",
    "    dust_curve_ism=PowerLaw(slope=-1.3),\n",
    "    dust_curve_nebular=PowerLaw(slope=-0.7),\n",
    "    dust_emission_ism=Blackbody(temperature=100 * kelvin),\n",
    "    dust_emission_nebular=Blackbody(temperature=30 * kelvin),\n",
    "    fesc=0.2,\n",
    "    fesc_ly_alpha=0.9,\n",
    ")\n",
    "pc_model.plot_emission_tree(fontsize=5)"
   ]
  },
  {
   "cell_type": "markdown",
   "metadata": {},
   "source": [
    "And as with all other models, the dust emission can omitted."
   ]
  },
  {
   "cell_type": "code",
   "execution_count": null,
   "metadata": {},
   "outputs": [],
   "source": [
    "pc_model = BimodalPacmanEmission(\n",
    "    grid=grid,\n",
    "    tau_v_ism=1.0,\n",
    "    tau_v_nebular=0.7,\n",
    "    dust_curve_ism=PowerLaw(slope=-1.3),\n",
    "    dust_curve_nebular=PowerLaw(slope=-0.7),\n",
    "    fesc=0.2,\n",
    "    fesc_ly_alpha=0.9,\n",
    ")\n",
    "pc_model.plot_emission_tree(fontsize=6)"
   ]
  },
  {
   "cell_type": "markdown",
   "metadata": {},
   "source": [
    "## AGN Emission Models\n",
    "\n",
    "In addition to stellar models you can also make models for black holes. You are, of course, free to construct whatever emission model you want using the preexisting AGN grids but we define a set of premade models including a complex `UnifiedAGN` model to calculate and combine emission from an AGN's disc, NLR, BLR, and torus.\n",
    "\n",
    "### Template\n"
   ]
  },
  {
   "cell_type": "markdown",
   "metadata": {},
   "source": [
    "\n",
    "### NLRIncidentEmission\n"
   ]
  },
  {
   "cell_type": "markdown",
   "metadata": {},
   "source": [
    "\n",
    "### BLRIncidentEmission \n"
   ]
  },
  {
   "cell_type": "markdown",
   "metadata": {},
   "source": [
    "\n",
    "### NLRTransmittedEmission\n"
   ]
  },
  {
   "cell_type": "markdown",
   "metadata": {},
   "source": [
    "\n",
    "### BLRTransmittedEmission\n"
   ]
  },
  {
   "cell_type": "markdown",
   "metadata": {},
   "source": [
    "\n",
    "### DiscIncidentEmission\n"
   ]
  },
  {
   "cell_type": "markdown",
   "metadata": {},
   "source": [
    "\n",
    "### DiscTransmittedEmission\n"
   ]
  },
  {
   "cell_type": "markdown",
   "metadata": {},
   "source": [
    "\n",
    "### DiscEscapedEmission "
   ]
  },
  {
   "cell_type": "markdown",
   "metadata": {},
   "source": [
    "\n",
    "### DiscEmission\n"
   ]
  },
  {
   "cell_type": "markdown",
   "metadata": {},
   "source": [
    "\n",
    "### TorusEmission \n"
   ]
  },
  {
   "cell_type": "markdown",
   "metadata": {},
   "source": [
    "\n",
    "### AGNIntrinsicEmission \n"
   ]
  },
  {
   "cell_type": "markdown",
   "metadata": {},
   "source": [
    "\n",
    "### UnifiedAGN"
   ]
  },
  {
   "cell_type": "code",
   "execution_count": null,
   "metadata": {},
   "outputs": [],
   "source": [
    "from synthesizer import Grid\n",
    "from synthesizer.dust.emission import Blackbody\n",
    "from synthesizer.emission_models import UnifiedAGN\n",
    "from unyt import kelvin\n",
    "\n",
    "# Get the NLR and BLR grids\n",
    "nlr_grid = Grid(\"test_grid_agn-nlr\", grid_dir=\"../../../tests/test_grid\")\n",
    "blr_grid = Grid(\"test_grid_agn-blr\", grid_dir=\"../../../tests/test_grid\")\n",
    "\n",
    "model = UnifiedAGN(\n",
    "    nlr_grid,\n",
    "    blr_grid,\n",
    "    covering_fraction_nlr=0.1,\n",
    "    covering_fraction_blr=0.1,\n",
    "    torus_emission_model=Blackbody(1000 * kelvin),\n",
    ")\n",
    "print(model)\n",
    "\n",
    "model.plot_emission_tree()"
   ]
  },
  {
   "cell_type": "markdown",
   "metadata": {},
   "source": [
    "## Common Models\n",
    "\n",
    "### AttenuatedEmission\n"
   ]
  },
  {
   "cell_type": "markdown",
   "metadata": {},
   "source": [
    "\n",
    "### DustEmission"
   ]
  }
 ],
 "metadata": {},
 "nbformat": 4,
 "nbformat_minor": 2
}
