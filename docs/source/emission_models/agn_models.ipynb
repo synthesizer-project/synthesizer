{
 "cells": [
  {
   "cell_type": "markdown",
   "metadata": {},
   "source": [
    "## AGN emission models\n",
    "\n",
    "In addition to stellar models you can also make models for black holes. You are, of course, free to construct whatever emission model you want using the preexisting AGN grids but we define a set of premade models including a complex `UnifiedAGN` model to calculate spectra for an AGN's disc, NLR, BLR, and torus."
   ]
  },
  {
   "cell_type": "code",
   "execution_count": null,
   "metadata": {},
   "outputs": [],
   "source": [
    "from synthesizer import Grid\n",
    "from synthesizer.dust.emission import Blackbody\n",
    "from synthesizer.emission_models import UnifiedAGN\n",
    "from unyt import kelvin\n",
    "\n",
    "# Get the NLR and BLR grids\n",
    "nlr_grid = Grid(\"test_grid_agn-nlr\", grid_dir=\"../../../tests/test_grid\")\n",
    "blr_grid = Grid(\"test_grid_agn-blr\", grid_dir=\"../../../tests/test_grid\")\n",
    "\n",
    "model = UnifiedAGN(\n",
    "    nlr_grid,\n",
    "    blr_grid,\n",
    "    covering_fraction_nlr=0.1,\n",
    "    covering_fraction_blr=0.1,\n",
    "    torus_emission_model=Blackbody(1000 * kelvin),\n",
    ")\n",
    "print(model)"
   ]
  },
  {
   "cell_type": "code",
   "execution_count": null,
   "metadata": {},
   "outputs": [],
   "source": [
    "model.plot_emission_tree()"
   ]
  }
 ],
 "metadata": {},
 "nbformat": 4,
 "nbformat_minor": 2
}
