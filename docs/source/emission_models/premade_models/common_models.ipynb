{
 "cells": [
  {
   "cell_type": "markdown",
   "metadata": {},
   "source": [
    "## Common Models\n",
    "\n",
    "Some models are common to all components. While these common models are the same in almost every respect these models do require an extra argument to define the \"emitter\" (``\"stellar\"``, ``\"blackhole\"``, or ``\"galaxy\"``) that they act on.\n",
    "\n",
    "### TemplateEmission\n",
    "\n",
    "A template is a simple generation model where a single template spectra is returned with some scaling applying. These can describe any emitter based on the spectra input into the template (which can either come from arrays of ``lnu`` and ``lam`` or a file). \n",
    "\n",
    "Generation from a template model requires a ``Template``, similar to the ``Grid`` required by extraction models."
   ]
  },
  {
   "cell_type": "code",
   "execution_count": null,
   "metadata": {},
   "outputs": [],
   "source": [
    "import numpy as np\n",
    "from unyt import Hz, erg, kelvin, s\n",
    "\n",
    "from synthesizer.emission_models import TemplateEmission\n",
    "from synthesizer.emission_models.attenuation import PowerLaw\n",
    "from synthesizer.emission_models.dust.emission import Blackbody\n",
    "from synthesizer.grid import Grid, Template\n",
    "\n",
    "# Get the grid which we'll need for extraction\n",
    "grid_dir = \"../../../../tests/test_grid\"\n",
    "grid_name = \"test_grid\"\n",
    "grid = Grid(grid_name, grid_dir=grid_dir)\n",
    "\n",
    "# Make a fake template for the demo\n",
    "template = Template(\n",
    "    lam=grid.lam, lnu=np.random.rand(*grid.lam.shape) * erg / s / Hz\n",
    ")\n",
    "\n",
    "template_model = TemplateEmission(template, emitter=\"stellar\")\n",
    "print(template_model)"
   ]
  },
  {
   "cell_type": "markdown",
   "metadata": {},
   "source": [
    "### AttenuatedEmission\n",
    "\n",
    "Attenuated emission is any emission that has been attenuated by dust.\n",
    "An attenuated model takes a ``dust_curve`` (with a defined slope), an optical depth (``tau_v``, which can either be a value, array, attribute of an emitter, or a tuple containing any combination of the first 3), and a model to apply the dust attenuation to (``apply_dust_to``).\n",
    "Here we create a simple Intrinsic emission model to which we apply the dust attenuation."
   ]
  },
  {
   "cell_type": "code",
   "execution_count": null,
   "metadata": {},
   "outputs": [],
   "source": [
    "from synthesizer.emission_models import AttenuatedEmission, IntrinsicEmission\n",
    "\n",
    "intrinsic = IntrinsicEmission(grid, fesc=0.1, fesc_ly_alpha=1.0)\n",
    "\n",
    "attenuated = AttenuatedEmission(\n",
    "    emitter=\"stellar\",\n",
    "    dust_curve=PowerLaw(slope=-1),\n",
    "    tau_v=(0.5, \"tau_v\"),\n",
    "    apply_dust_to=intrinsic,\n",
    ")\n",
    "print(attenuated)"
   ]
  },
  {
   "cell_type": "markdown",
   "metadata": {},
   "source": [
    "### DustEmission\n",
    "\n",
    "Dust emission is the reemited emission from the dust distribution due to the attenuation of another emission source. A dust emission model defines the generation of a spectra from a generator (e.g. ``Blackbody`` or ``Greybody``, see the [dust emission model docs](../dust_emission.ipynb)) and it its scaling using an energy balance approach."
   ]
  },
  {
   "cell_type": "code",
   "execution_count": null,
   "metadata": {},
   "outputs": [],
   "source": [
    "from synthesizer.emission_models import DustEmission\n",
    "\n",
    "dust_model = DustEmission(\n",
    "    dust_emission_model=Blackbody(50 * kelvin),\n",
    "    dust_lum_intrinsic=intrinsic,\n",
    "    dust_lum_attenuated=attenuated,\n",
    "    emitter=\"stellar\",\n",
    ")\n",
    "print(dust_model)"
   ]
  }
 ],
 "metadata": {},
 "nbformat": 4,
 "nbformat_minor": 2
}
