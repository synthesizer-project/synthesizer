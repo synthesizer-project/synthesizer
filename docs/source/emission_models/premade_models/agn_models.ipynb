{
 "cells": [
  {
   "cell_type": "markdown",
   "metadata": {},
   "source": [
    "## AGN Emission Models\n",
    "\n",
    "We define a set of premade models, including a complex `UnifiedAGN` model to calculate and combine emission from an AGN's disc, Narrow Line Region (NLR), Broad Line Region (BLR), and torus.\n",
    "\n",
    "You are, of course, free to construct whatever emission model you want using the preexisting AGN grids\n",
    "\n",
    "As with the stellar models, before we define any AGN models we need the grids to use with them. For AGN models there are currently two grids, one for the NLR and one for the BLR"
   ]
  },
  {
   "cell_type": "code",
   "execution_count": null,
   "metadata": {},
   "outputs": [],
   "source": [
    "from synthesizer import Grid\n",
    "from synthesizer.emission_models.dust.emission import Blackbody\n",
    "from unyt import kelvin\n",
    "\n",
    "# Get the NLR and BLR grids\n",
    "nlr_grid = Grid(\"test_grid_agn-nlr\", grid_dir=\"../../../../tests/test_grid\")\n",
    "blr_grid = Grid(\"test_grid_agn-blr\", grid_dir=\"../../../../tests/test_grid\")"
   ]
  },
  {
   "cell_type": "markdown",
   "metadata": {},
   "source": [
    "### NLRIncidentEmission & BLRIncidentEmission \n",
    "\n",
    "The incident NLR emission is the pure disc emission incident onto the NLR. Similarly, the incident BLR emission is the pure disc emission incident onto the BLR. \n",
    "\n",
    "A NLR / BLR incident model defines the extraction of the ``\"incident\"`` NLR / BLR spectra from an AGN grid."
   ]
  },
  {
   "cell_type": "code",
   "execution_count": null,
   "metadata": {},
   "outputs": [],
   "source": [
    "from synthesizer.emission_models import (\n",
    "    BLRIncidentEmission,\n",
    "    NLRIncidentEmission,\n",
    ")\n",
    "\n",
    "nlr_incident = NLRIncidentEmission(grid=nlr_grid)\n",
    "print(nlr_incident)\n",
    "\n",
    "blr_incident = BLRIncidentEmission(grid=blr_grid)\n",
    "print(blr_incident)"
   ]
  },
  {
   "cell_type": "markdown",
   "metadata": {},
   "source": [
    "### NLRTransmittedEmission & BLRTransmittedEmission\n",
    "\n",
    "The transmitted NLR emission is the incident NLR emission which is transmitted through the NLR. Similarly, a transmitted BLR emission is the incident BLR emission which is transmitted through the BLR.\n",
    "\n",
    "A NLR / BLR transmitted model defines the extraction of the ``\"transmitted\"`` NLR / BLR spectra from an AGN grid, including a covering fraction (escape fraction) defining how much of the disc emission is transmitted through the NLR / BLR."
   ]
  },
  {
   "cell_type": "code",
   "execution_count": null,
   "metadata": {},
   "outputs": [],
   "source": [
    "from synthesizer.emission_models import (\n",
    "    BLRTransmittedEmission,\n",
    "    NLRTransmittedEmission,\n",
    ")\n",
    "\n",
    "nlr_transmitted = NLRTransmittedEmission(grid=nlr_grid, covering_fraction=0.1)\n",
    "print(nlr_transmitted)\n",
    "\n",
    "blr_transmitted = BLRTransmittedEmission(grid=blr_grid, covering_fraction=0.1)\n",
    "print(blr_transmitted)"
   ]
  },
  {
   "cell_type": "markdown",
   "metadata": {},
   "source": [
    "### NLREmission & BLREmission\n",
    "\n",
    "The NLR emission is the emission coming directly from the NLR.\n",
    "Similarly, the BLR emission is the emission coming directly from the BLR. \n",
    "\n",
    "A NLR / BLR model defines the extraction of the ``\"nebular\"`` NLR / BLR spectra from an AGN grid."
   ]
  },
  {
   "cell_type": "code",
   "execution_count": null,
   "metadata": {},
   "outputs": [],
   "source": [
    "from synthesizer.emission_models import NLREmission\n",
    "\n",
    "nlr = NLREmission(grid=nlr_grid)\n",
    "print(nlr)\n",
    "\n",
    "blr = NLREmission(grid=blr_grid)\n",
    "print(blr)"
   ]
  },
  {
   "cell_type": "markdown",
   "metadata": {},
   "source": [
    "### DiscIncidentEmission\n",
    "\n",
    "The disc incident emission is the emission directly from the disc incident onto the NLR and BLR. A disc incident model defines the extraction of the ``\"incident\"`` NLR spectra from an AGN grid.\n",
    "\n",
    "Ignoring any geometry considerations, ``DiscIncidentEmission``, ``NLRIncidentEmission``, and ``BLRIncidentEmission`` are all equivalent models (we consider the geometry in the ``UnifiedAGN`` model)."
   ]
  },
  {
   "cell_type": "code",
   "execution_count": null,
   "metadata": {},
   "outputs": [],
   "source": [
    "from synthesizer.emission_models import DiscIncidentEmission\n",
    "\n",
    "disc_incident = DiscIncidentEmission(grid=nlr_grid)\n",
    "print(disc_incident)"
   ]
  },
  {
   "cell_type": "markdown",
   "metadata": {},
   "source": [
    "\n",
    "### DiscTransmittedEmission\n",
    "\n",
    "The disc transmitted emission is the disc emission transmitted through both the NLR and BLR. A disc transmitted model defines the combination of ``NLRTransmittedEmission`` and ``BLRTransmittedEmission``, in the presence of a covering fraction (escape fraction), for each region."
   ]
  },
  {
   "cell_type": "code",
   "execution_count": null,
   "metadata": {},
   "outputs": [],
   "source": [
    "from synthesizer.emission_models import DiscTransmittedEmission\n",
    "\n",
    "disc_transmitted = DiscTransmittedEmission(\n",
    "    nlr_grid=nlr_grid,\n",
    "    blr_grid=blr_grid,\n",
    "    covering_fraction_nlr=0.1,\n",
    "    covering_fraction_blr=0.2,\n",
    ")\n",
    "print(disc_transmitted)\n",
    "disc_transmitted.plot_emission_tree()"
   ]
  },
  {
   "cell_type": "markdown",
   "metadata": {},
   "source": [
    "### DiscEscapedEmission \n",
    "\n",
    "The disc escaped emission is the disc incident emission *not* transmitted through the NLR or BLR. A disc escaped model defines the extraction of the ``\"incident\"`` NLR spectra from an AGN grid, with ``fesc=1 - covering_fraction_nlr - covering_fraction_blr``."
   ]
  },
  {
   "cell_type": "code",
   "execution_count": null,
   "metadata": {},
   "outputs": [],
   "source": [
    "from synthesizer.emission_models import DiscEscapedEmission\n",
    "\n",
    "disc_escaped = DiscEscapedEmission(\n",
    "    grid=nlr_grid, covering_fraction_nlr=0.1, covering_fraction_blr=0.2\n",
    ")\n",
    "print(disc_escaped)"
   ]
  },
  {
   "cell_type": "markdown",
   "metadata": {},
   "source": [
    "### DiscEmission\n",
    "\n",
    "The disc emission is the combined emission from the disc including both the emission transmitted through the line regions and the escaping disc emission. A disc model defines the combination of ``DiscTransmittedEmission`` and ``DiscEscapedEmission``."
   ]
  },
  {
   "cell_type": "code",
   "execution_count": null,
   "metadata": {},
   "outputs": [],
   "source": [
    "from synthesizer.emission_models import DiscEmission\n",
    "\n",
    "disc = DiscEmission(\n",
    "    nlr_grid=nlr_grid,\n",
    "    blr_grid=blr_grid,\n",
    "    covering_fraction_nlr=0.1,\n",
    "    covering_fraction_blr=0.2,\n",
    ")\n",
    "print(disc)\n",
    "disc.plot_emission_tree()"
   ]
  },
  {
   "cell_type": "markdown",
   "metadata": {},
   "source": [
    "### TorusEmission \n",
    "\n",
    "The torus emission is the reprocessed emission from the disc incident on the torus. A torus model defines the generation of a spectra scaled by the `DiscIncidentEmission`, which can either be passed directly, or a grid must be passed and it will be generated."
   ]
  },
  {
   "cell_type": "code",
   "execution_count": null,
   "metadata": {},
   "outputs": [],
   "source": [
    "from synthesizer.emission_models import TorusEmission\n",
    "\n",
    "torus = TorusEmission(\n",
    "    torus_emission_model=Blackbody(1000 * kelvin), disc_incident=disc_incident\n",
    ")\n",
    "print(torus)"
   ]
  },
  {
   "cell_type": "markdown",
   "metadata": {},
   "source": [
    "### AGNIntrinsicEmission \n",
    "\n",
    "The AGN intrinsic emission is the total emission from an AGN, including the emission from the narrow and broad line regions, disc, and torus. An AGN intrinsic model defines the combination of ``DiscEmission``, ``NLREmission``, ``BLREmission``, and ``TorusEmission``."
   ]
  },
  {
   "cell_type": "code",
   "execution_count": null,
   "metadata": {},
   "outputs": [],
   "source": [
    "from synthesizer.emission_models import AGNIntrinsicEmission\n",
    "\n",
    "agn_intrinsic = AGNIntrinsicEmission(\n",
    "    nlr_grid=nlr_grid,\n",
    "    blr_grid=blr_grid,\n",
    "    torus_emission_model=Blackbody(1000 * kelvin),\n",
    "    covering_fraction_nlr=0.1,\n",
    "    covering_fraction_blr=0.2,\n",
    ")\n",
    "print(agn_intrinsic)\n",
    "agn_intrinsic.plot_emission_tree()"
   ]
  },
  {
   "cell_type": "markdown",
   "metadata": {},
   "source": [
    "### UnifiedAGN\n",
    "\n",
    "The ``UnifiedAGN`` model is similar to the ``AGNIntrinsicEmission`` model, but folds in a lot of extra considerations about the relative geometry of the AGN, both internally and with respect to the observer.\n",
    "\n",
    "- Disc emission takes into account the inclination of the black hole relative to the angular size of the torus, scaling the amount of observable emission.\n",
    "- The line region emissions are assumed to be completely isotropic.\n",
    "- The torus sees the isotropic emission from the disc.\n",
    "- Only a percentage of the disc emission is transmitted through the line regions."
   ]
  },
  {
   "cell_type": "code",
   "execution_count": null,
   "metadata": {},
   "outputs": [],
   "source": [
    "from synthesizer.emission_models import UnifiedAGN\n",
    "\n",
    "uni_model = UnifiedAGN(\n",
    "    nlr_grid,\n",
    "    blr_grid,\n",
    "    covering_fraction_nlr=0.1,\n",
    "    covering_fraction_blr=0.1,\n",
    "    torus_emission_model=Blackbody(1000 * kelvin),\n",
    ")\n",
    "print(uni_model)\n",
    "\n",
    "uni_model.plot_emission_tree(fontsize=7)"
   ]
  }
 ],
 "metadata": {},
 "nbformat": 4,
 "nbformat_minor": 2
}
