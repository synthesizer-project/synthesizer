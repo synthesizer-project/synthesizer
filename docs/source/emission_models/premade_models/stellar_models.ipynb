{
 "cells": [
  {
   "cell_type": "markdown",
   "metadata": {},
   "source": [
    "## Stellar Emission Models\n",
    "\n",
    "Below we describe a number of different emission models describing the emission from stars and their natal birth clouds. \n",
    "We provide details on each stellar model, as well as information on the keys from the underlying grid that are extracted where necessary.\n",
    "\n",
    "First, we need a `grid` to pass to each model; here we load our test grid:"
   ]
  },
  {
   "cell_type": "code",
   "execution_count": null,
   "metadata": {},
   "outputs": [],
   "source": [
    "from synthesizer.emission_models.attenuation import PowerLaw\n",
    "from synthesizer.emission_models.dust.emission import Blackbody\n",
    "from synthesizer.grid import Grid\n",
    "from unyt import Myr, dimensionless, kelvin\n",
    "\n",
    "# Get the grid which we'll need for extraction\n",
    "grid_dir = \"../../../../tests/test_grid\"\n",
    "grid_name = \"test_grid\"\n",
    "grid = Grid(grid_name, grid_dir=grid_dir)"
   ]
  },
  {
   "cell_type": "markdown",
   "metadata": {},
   "source": [
    "### IncidentEmission\n",
    "\n",
    "Incident emission is the pure stellar emission from a population of stars, usually defined by a SPS model. \n",
    "Incident emission has not been processed by natal birth clouds, or in any other way through a photoionisation code.\n",
    "\n",
    "Specifically, an incident emission model defines the extraction of the ``\"incident\"`` SPS spectra key from a grid file."
   ]
  },
  {
   "cell_type": "code",
   "execution_count": null,
   "metadata": {},
   "outputs": [],
   "source": [
    "from synthesizer.emission_models import IncidentEmission\n",
    "\n",
    "incident = IncidentEmission(grid=grid)\n",
    "print(incident)"
   ]
  },
  {
   "cell_type": "markdown",
   "metadata": {},
   "source": [
    "### LineContinuumEmission\n",
    "\n",
    "Line continuum emission defines the emission of lines from a stellar population, typically from the natal birth cloud surrounding young stars.\n",
    "Here we also use a *mask*, since nebular line emission is typically from young stars still surrounded by their birth cloud.\n",
    "\n",
    "Specifically, a line continuum model defines the extraction of the ``\"linecont\"`` reprocessed SPS spectra key from a grid file."
   ]
  },
  {
   "cell_type": "code",
   "execution_count": null,
   "metadata": {},
   "outputs": [],
   "source": [
    "from synthesizer.emission_models import LineContinuumEmission\n",
    "\n",
    "line_cont = LineContinuumEmission(\n",
    "    grid, fesc=0.8, mask_attr=\"ages\", mask_op=\"<\", mask_thresh=10 * Myr\n",
    ")\n",
    "print(line_cont)"
   ]
  },
  {
   "cell_type": "markdown",
   "metadata": {},
   "source": [
    "### TransmittedEmission \n",
    "\n",
    "Transmitted emission is the incident emission that is transmitted through the gas when reprocessed using a photoionisation model.\n",
    "Unlike incident emission, transmitted emission has little flux below the Lyman-limit, since it is typically absorbed by the neutral gas (depending on ``fesc``).\n",
    "\n",
    "A transmitted model defines the extraction of the ``\"transmitted\"`` reprocessed SPS spectra key from a grid file, with some escape fraction."
   ]
  },
  {
   "cell_type": "code",
   "execution_count": null,
   "metadata": {},
   "outputs": [],
   "source": [
    "from synthesizer.emission_models import TransmittedEmission\n",
    "\n",
    "transmitted = TransmittedEmission(grid=grid, fesc=0.1)\n",
    "print(transmitted)"
   ]
  },
  {
   "cell_type": "markdown",
   "metadata": {},
   "source": [
    "### EscapedEmission\n",
    "\n",
    "Escaped emission is the portion of the incident emission which, when reprocessed using a photoionsaition code, fully escapes without being affected by the gas.\n",
    "\n",
    "An escaped model defines the extraction of the ``\"transmitted\"`` reprocessed SPS spectra key from a grid file, with some escape fraction (i.e. ``escaped = fesc * incident``)."
   ]
  },
  {
   "cell_type": "code",
   "execution_count": null,
   "metadata": {},
   "outputs": [],
   "source": [
    "from synthesizer.emission_models import EscapedEmission\n",
    "\n",
    "escaped = EscapedEmission(grid, fesc=0.1)\n",
    "print(escaped)"
   ]
  },
  {
   "cell_type": "markdown",
   "metadata": {},
   "source": [
    "Notice here that the \"escape fraction\" for the escaped model is ``1 - fesc``, because escaped is the inverse of transmitted.\n",
    "\n",
    "### NebularContinuumEmission\n",
    "\n",
    "Nebular continuum emission is the continuum emission coming directly from the nebular birth cloud of a stellar population.\n",
    "A nebular continuum model defines the extraction of the ``\"nebular_continuum\"`` reprocessed SPS spectra key from a grid file.\n",
    "\n",
    "Like ``LineContinuum`` we also use a mask here, since nebular continuum is typically dominated by young stars still surrounded by their natal birth clouds.\n"
   ]
  },
  {
   "cell_type": "code",
   "execution_count": null,
   "metadata": {},
   "outputs": [],
   "source": [
    "from synthesizer.emission_models import NebularContinuumEmission\n",
    "\n",
    "nebular_cont = NebularContinuumEmission(\n",
    "    grid, fesc=0.2, mask_attr=\"ages\", mask_op=\"<\", mask_thresh=10 * Myr\n",
    ")\n",
    "print(nebular_cont)"
   ]
  },
  {
   "cell_type": "markdown",
   "metadata": {},
   "source": [
    "### NebularEmission\n",
    "\n",
    "Nebular emission is the emission from the gas surrounding a (typically young) stellar population.\n",
    "Unlike other models we've shown so far, ``NebularEmission`` comes in two forms depending on whether a Lyman-$\\alpha$ escape fraction is provided.\n",
    "If a Lyman-$\\alpha$ escape fraction less than 1.0 is passed then ``NebularEmission`` is the combination of ``LineContinuumEmission`` and ``NebularContinuum``.\n",
    "If not, it is an extraction of the ``\"nebular\"`` reprocessed SPS spectra.\n",
    "\n",
    "Again, as for ``LineContinuumEmission`` and ``NebularContinuum``, we'll include a mask for young stars."
   ]
  },
  {
   "cell_type": "code",
   "execution_count": null,
   "metadata": {},
   "outputs": [],
   "source": [
    "from synthesizer.emission_models import NebularEmission\n",
    "\n",
    "nebular_extract = NebularEmission(grid)\n",
    "print(nebular_extract)\n",
    "print()\n",
    "\n",
    "nebular_combined = NebularEmission(\n",
    "    grid,\n",
    "    fesc=0.1,\n",
    "    fesc_ly_alpha=0.8,\n",
    "    mask_attr=\"ages\",\n",
    "    mask_op=\"<\",\n",
    "    mask_thresh=10 * Myr,\n",
    ")\n",
    "print(nebular_combined)\n",
    "nebular_combined.plot_emission_tree()"
   ]
  },
  {
   "cell_type": "markdown",
   "metadata": {},
   "source": [
    "The ``NebularEmission`` model is our first example of a model model with child models (``LineCont`` and ``NebularContinuuum``).\n",
    "For more complex models like this we can plot the \"emission tree\" to visualise the model.\n",
    "When the model is eventually used to generate emission, the model will be traversed bottom to top (breadth first), generating each spectra in the tree.\n",
    "\n",
    "### ReprocessedEmission \n",
    "\n",
    "Reprocessed emission is the stellar emission which has been reprocessed by gas (i.e. the combination of the reprocessed spectra we saw above, transmitted and nebular).\n",
    "\n",
    "A reprocessed model defines the combination of ``TransmittedEmission`` and ``NebularEmission``."
   ]
  },
  {
   "cell_type": "code",
   "execution_count": null,
   "metadata": {},
   "outputs": [],
   "source": [
    "from synthesizer.emission_models import ReprocessedEmission\n",
    "\n",
    "reprocessed = ReprocessedEmission(grid, fesc=0.1, fesc_ly_alpha=0.8)\n",
    "print(reprocessed)\n",
    "reprocessed.plot_emission_tree()"
   ]
  },
  {
   "cell_type": "markdown",
   "metadata": {},
   "source": [
    "### IntrinsicEmission\n",
    "\n",
    "Intrinsic emission is the total stellar emission, including all photoionisation reprocessing, prior to dust attenuation.\n",
    "Effectively, intrinsic emission is the emission that is \"incident\" on the dust distribution.\n",
    "Note that this does not take account of any dust within the birth cloud; this is typically modelled internally within a photoionisation code.\n",
    "\n",
    "An intrinsic model defines the combination of ``EscapedEmission`` and ``ReprocessedEmission``."
   ]
  },
  {
   "cell_type": "code",
   "execution_count": null,
   "metadata": {},
   "outputs": [],
   "source": [
    "from synthesizer.emission_models import IntrinsicEmission\n",
    "\n",
    "intrinsic = IntrinsicEmission(grid, fesc=0.1, fesc_ly_alpha=1.0)\n",
    "print(intrinsic)\n",
    "intrinsic.plot_emission_tree()"
   ]
  },
  {
   "cell_type": "markdown",
   "metadata": {},
   "source": [
    "### EmergentEmission \n",
    "\n",
    "Emergent emission is the dust attenuated intrinsic emission, i.e. the stellar emission, post nebular attenuation and post dust attenuation.\n",
    "We haven't seen the Attenuation model yet, since this is a \"common\" model, and will be covered below.\n",
    "\n",
    "An emergent model is a combination of ``EscapedEmission`` and ``AttenuatedEmission``."
   ]
  },
  {
   "cell_type": "code",
   "execution_count": null,
   "metadata": {},
   "outputs": [],
   "source": [
    "from synthesizer.emission_models import EmergentEmission\n",
    "\n",
    "emergent = EmergentEmission(\n",
    "    grid=grid,\n",
    "    dust_curve=PowerLaw(slope=-1),\n",
    "    apply_dust_to=reprocessed,\n",
    "    tau_v=0.67,\n",
    "    fesc=0.2,\n",
    ")\n",
    "print(emergent)\n",
    "emergent.plot_emission_tree()"
   ]
  },
  {
   "cell_type": "markdown",
   "metadata": {},
   "source": [
    "### TotalEmission\n",
    "\n",
    "The Total emission is the combined emission from the stellar population (post dust attenuation) along with the thermal emission from dust.\n",
    "\n",
    "Once again, dust emission is a common model and is covered [here](common_models.ipynb). A total model is a combination of ``DustEmission`` and ``EmergentEmission``.\n"
   ]
  },
  {
   "cell_type": "code",
   "execution_count": null,
   "metadata": {},
   "outputs": [],
   "source": [
    "from synthesizer.emission_models import TotalEmission\n",
    "\n",
    "total = TotalEmission(\n",
    "    grid=grid,\n",
    "    dust_curve=PowerLaw(slope=-1),\n",
    "    tau_v=0.67,\n",
    "    fesc=0.2,\n",
    "    fesc_ly_alpha=0.7,\n",
    "    dust_emission_model=Blackbody(temperature=100 * kelvin),\n",
    ")\n",
    "print(total)\n",
    "total.plot_emission_tree()"
   ]
  },
  {
   "cell_type": "markdown",
   "metadata": {},
   "source": [
    "Note that omitting `dust_emission_model` when initialising `TotalEmission` will result in a simpler model, where `total` is identical to `emergent`.\n",
    "\n",
    "### CharlotFall2000\n",
    "\n",
    "In addition to the simpler models shown above we also provide three more complex emission models.\n",
    "The first of these follows [Charlot&Fall+2000](https://ui.adsabs.harvard.edu/abs/2000ApJ...539..718C/abstract), which splits the stellar population into young and old populations (with the threshold defined by ``age_pivot``), with specific dust attenuation parameters for each population."
   ]
  },
  {
   "cell_type": "code",
   "execution_count": null,
   "metadata": {},
   "outputs": [],
   "source": [
    "from synthesizer.emission_models import CharlotFall2000\n",
    "\n",
    "cf_model = CharlotFall2000(\n",
    "    grid=grid,\n",
    "    tau_v_ism=1.0,\n",
    "    tau_v_nebular=0.7,\n",
    "    dust_curve_ism=PowerLaw(slope=-0.7),\n",
    "    dust_curve_nebular=PowerLaw(slope=-1.3),\n",
    "    age_pivot=7 * dimensionless,\n",
    "    dust_emission_ism=Blackbody(temperature=50 * kelvin),\n",
    "    dust_emission_nebular=Blackbody(temperature=100 * kelvin),\n",
    ")\n",
    "print(cf_model)\n",
    "cf_model.plot_emission_tree(fontsize=6)"
   ]
  },
  {
   "cell_type": "markdown",
   "metadata": {},
   "source": [
    "If we omit the dust emission model then we get a simpler model with a root at ``\"emergent\"``."
   ]
  },
  {
   "cell_type": "code",
   "execution_count": null,
   "metadata": {},
   "outputs": [],
   "source": [
    "cf_model = CharlotFall2000(\n",
    "    grid=grid,\n",
    "    tau_v_ism=1.0,\n",
    "    tau_v_nebular=0.7,\n",
    "    dust_curve_ism=PowerLaw(slope=-0.7),\n",
    "    dust_curve_nebular=PowerLaw(slope=-1.3),\n",
    "    age_pivot=7 * dimensionless,\n",
    ")\n",
    "cf_model.plot_emission_tree()"
   ]
  },
  {
   "cell_type": "markdown",
   "metadata": {},
   "source": [
    "It's also possible to plot a subtree within a model by passing the root of the subtree. This is particularly helpful for models like `CharlotFall2000` which define a lot of extra spectra that don't necessarily appear in the main tree depending on the exact inputs. You can see this in the plots below which show the trees defining the \"extra\" spectra available when using ``CharlotFall2000`` (and indeed ``PacmanEmission`` and ``BimodelPacmanEmission`` which we'll cover shortly)."
   ]
  },
  {
   "cell_type": "code",
   "execution_count": null,
   "metadata": {},
   "outputs": [],
   "source": [
    "cf_model.plot_emission_tree(root=\"incident\")"
   ]
  },
  {
   "cell_type": "code",
   "execution_count": null,
   "metadata": {},
   "outputs": [],
   "source": [
    "cf_model.plot_emission_tree(root=\"transmitted\")"
   ]
  },
  {
   "cell_type": "code",
   "execution_count": null,
   "metadata": {},
   "outputs": [],
   "source": [
    "cf_model.plot_emission_tree(root=\"intrinsic\")"
   ]
  },
  {
   "cell_type": "code",
   "execution_count": null,
   "metadata": {},
   "outputs": [],
   "source": [
    "cf_model.plot_emission_tree(root=\"attenuated\")"
   ]
  },
  {
   "cell_type": "markdown",
   "metadata": {},
   "source": [
    "### PacmanEmission\n",
    "\n",
    "We also implement a general model which accounts for escape fractions.\n",
    "We call this the \"Pacman\" model.\n",
    "\n",
    "Pacman calculates dust attenuated spectra, including an escape fraction and variable Lyman-$\\alpha$ transmission.\n",
    "In this model, some fraction (``fesc``) of the pure stellar emission is able to completely escape the galaxy without reprocessing by gas or dust. The rest is assumed to be reprocessed by both gas and a screen of dust. \n",
    "\n",
    "The Pacman model has two forms: the first is the ``PacmanEmission`` model, which does not differentiate between young and old populations."
   ]
  },
  {
   "cell_type": "code",
   "execution_count": null,
   "metadata": {},
   "outputs": [],
   "source": [
    "from synthesizer.emission_models import PacmanEmission\n",
    "\n",
    "# Simple Pacman with dust emission\n",
    "simple_pc_model = PacmanEmission(\n",
    "    grid=grid,\n",
    "    tau_v=0.7,\n",
    "    dust_curve=PowerLaw(slope=-1.3),\n",
    "    dust_emission=Blackbody(temperature=100 * kelvin),\n",
    "    fesc=0.2,\n",
    "    fesc_ly_alpha=0.9,\n",
    ")\n",
    "simple_pc_model.plot_emission_tree()"
   ]
  },
  {
   "cell_type": "markdown",
   "metadata": {},
   "source": [
    "Again, omitting the ``dust_emission_model`` will result in a model with ``\"emergent\"`` at it's root."
   ]
  },
  {
   "cell_type": "markdown",
   "metadata": {},
   "source": [
    "### BiomodalPacmanEmission\n",
    "\n",
    "The second flavour of the Pacman model is the ``BimodalPacmanEmission`` model, which is the same as ``PacmanEmission`` in every other respect, but does differentiate between old and young populations, analogous to [Charlot&Fall+2000](https://ui.adsabs.harvard.edu/abs/2000ApJ...539..718C/abstract).\n",
    "The young component feels attenuation from both the ISM and birth clouds, while the old component only feels attenuation from the ISM."
   ]
  },
  {
   "cell_type": "code",
   "execution_count": null,
   "metadata": {},
   "outputs": [],
   "source": [
    "from synthesizer.emission_models import BimodalPacmanEmission\n",
    "\n",
    "pc_model = BimodalPacmanEmission(\n",
    "    grid=grid,\n",
    "    tau_v_ism=1.0,\n",
    "    tau_v_nebular=0.7,\n",
    "    dust_curve_ism=PowerLaw(slope=-1.3),\n",
    "    dust_curve_nebular=PowerLaw(slope=-0.7),\n",
    "    dust_emission_ism=Blackbody(temperature=100 * kelvin),\n",
    "    dust_emission_nebular=Blackbody(temperature=30 * kelvin),\n",
    "    fesc=0.2,\n",
    "    fesc_ly_alpha=0.9,\n",
    ")\n",
    "pc_model.plot_emission_tree(fontsize=5)"
   ]
  },
  {
   "cell_type": "markdown",
   "metadata": {},
   "source": [
    "And as with the other models the dust emission can be omitted, leaving ``\"emergent\"`` at the root.\n",
    "\n",
    "### A note: Complex model spectra location\n",
    "\n",
    "When working with a `Stars` object alone the behaviour detailed above is exactly what you will want. However, in reality the dust emission is not a \"stellar emission\" but instead something more general to the galaxy. `CharlotFall2000`, `PacmanEmission`, and `BimodalPacmanEmission` all allow you to pass a `stellar_dust` argument which is `True` by default. When `stellar_dust=False` is passed, the `\"dust_emission\"` and `\"total\"` spectra will instead be attached to a galaxy emitter and will only be generated when used with `Galaxy.get_spectra`. \n",
    "\n",
    "This is more \"correct\" but only works when working with a `Galaxy`, and also only works for integrated spectra. If you are only working with a `Stars` object `stellar_dust` can be ignored yielding `\"dust_emission\"` and `\"total\"` spectra on the stellar component. If you are working with per particle spectra then these must be associated to a component and `stellar_dust` can be ignored to attach the per particle spectra to a component. If galaxy level integrated spectra are required these can be generated down stream either by integrating and attaching or integrating and using a [combination emission model](../custom_models.ipynb). "
   ]
  },
  {
   "cell_type": "code",
   "execution_count": null,
   "metadata": {},
   "outputs": [],
   "source": [
    "pc_model = BimodalPacmanEmission(\n",
    "    grid=grid,\n",
    "    tau_v_ism=1.0,\n",
    "    tau_v_nebular=0.7,\n",
    "    dust_curve_ism=PowerLaw(slope=-1.3),\n",
    "    dust_curve_nebular=PowerLaw(slope=-0.7),\n",
    "    dust_emission_ism=Blackbody(temperature=100 * kelvin),\n",
    "    dust_emission_nebular=Blackbody(temperature=30 * kelvin),\n",
    "    fesc=0.2,\n",
    "    fesc_ly_alpha=0.9,\n",
    "    stellar_dust=False,\n",
    ")\n",
    "pc_model.plot_emission_tree(fontsize=5)"
   ]
  },
  {
   "cell_type": "markdown",
   "metadata": {},
   "source": [
    "For more information see the [combined models docs](../combined_models.ipynb) where we explictly show the construction of a multicomponent model with dust emission."
   ]
  }
 ],
 "metadata": {},
 "nbformat": 4,
 "nbformat_minor": 2
}
