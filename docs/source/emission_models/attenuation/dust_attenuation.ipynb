{
 "cells": [
  {
   "cell_type": "markdown",
   "metadata": {},
   "source": [
    "# Dust Attenuation Curves\n",
    "\n",
    "We implment a whole suite of different attenuation curves in Synthesizer, including the following:\n",
    "\n",
    "- ``PowerLaw``: A power-law attenuation curve.\n",
    "- ``Calzetti2000``: The [Calzetti (Calzetti et al. 2000)](https://ui.adsabs.harvard.edu/abs/2000ApJ...533..682C/abstract) attenuation curve (with an optional UV bump from [Noll et al. 2009](https://ui.adsabs.harvard.edu/abs/2009A%26A...507.1793N/abstract)).\n",
    "- ``MWN18``: A Milky Way attenuation curve using in [Narayanan et al. 2018](https://ui.adsabs.harvard.edu/abs/2018ApJ...869...70N/abstract).\n",
    "- ``GrainsWD01``: A dust grain attenuation curve from [Weingarter and Draine 2001](https://ui.adsabs.harvard.edu/abs/2001ApJ...548..296W/abstract) with models for the Milky Way, LMC, and SMC (and more defined in WD01).\n",
    "- ``ParametricLi08``: A parametric and empirically derived attenuation curve implemented in [Li et al. 2008](https://ui.adsabs.harvard.edu/abs/2008arXiv0808.4123L/abstract) and including parameters from [Markov et al. 2023](https://ui.adsabs.harvard.edu/abs/2023A%26A...679A..12M/abstract) and [Markov et al. 2024](https://ui.adsabs.harvard.edu/abs/2024arXiv240205996M/abstract) extending it to $z=12$.\n",
    "\n",
    "These attenuation curves can be instatiated directly to compare transmission curves or attached to an [``EmissionModel``](../emission_models/emission_models.rst) to be used in the generation of complex spectra from a galaxy or galaxy component.\n",
    "\n",
    "Each of these models has unique arguments needed to instantiate them but they are have the exact same ``get_transmission`` method which requires an optical depth (``tau_v``) and a wavelength array. Below, we show how to instantiate each of these models and plot them.\n",
    "\n",
    "To evaluate the transmission curve, we are going to need a wavelength array."
   ]
  },
  {
   "cell_type": "code",
   "execution_count": null,
   "metadata": {},
   "outputs": [],
   "source": [
    "import numpy as np\n",
    "\n",
    "lams = np.logspace(2, 4, 1000)"
   ]
  },
  {
   "cell_type": "markdown",
   "metadata": {},
   "source": [
    "\n",
    "## PowerLaw\n",
    "\n",
    "A ``PowerLaw`` only requires a slope to be defined."
   ]
  },
  {
   "cell_type": "code",
   "execution_count": null,
   "metadata": {},
   "outputs": [],
   "source": [
    "from synthesizer.emission_models.attenuation import PowerLaw\n",
    "\n",
    "power_law = PowerLaw(-1.0)\n",
    "\n",
    "pl_trans = power_law.get_transmission(0.33, lams)"
   ]
  },
  {
   "cell_type": "markdown",
   "metadata": {},
   "source": [
    "We can also plot the transmission curve."
   ]
  },
  {
   "cell_type": "code",
   "execution_count": null,
   "metadata": {},
   "outputs": [],
   "source": [
    "power_law.plot_transmission(0.33, lams, show=True)"
   ]
  },
  {
   "cell_type": "markdown",
   "metadata": {},
   "source": [
    "# Calzetti2000\n",
    "\n",
    "The ``Calzetti2000`` model requires a slope (``slope``), central wavelength of the UV bump (``cent_lam``), an amplitude of the UV bump (``ampl``), and the FWHM of the UV bump (``gamma``). These default to 0.0, 0.2175 microns, 0, and 0.035 respectively. We'll plot the transmission curve both with the defaults and a non-zero amplitude."
   ]
  },
  {
   "cell_type": "code",
   "execution_count": null,
   "metadata": {},
   "outputs": [],
   "source": [
    "from synthesizer.emission_models.attenuation import Calzetti2000\n",
    "\n",
    "no_bump = Calzetti2000()\n",
    "with_bump = Calzetti2000(ampl=10.0)\n",
    "\n",
    "nb_trans = no_bump.get_transmission(0.33, lams)\n",
    "wb_trans = with_bump.get_transmission(0.33, lams)\n",
    "\n",
    "fig, ax = no_bump.plot_transmission(0.33, lams, show=False, label=\"No UV bump\")\n",
    "_, _ = with_bump.plot_transmission(\n",
    "    0.33, lams, fig=fig, ax=ax, show=True, label=\"With UV bump\"\n",
    ")"
   ]
  },
  {
   "cell_type": "markdown",
   "metadata": {},
   "source": [
    "## MWN18\n",
    "\n",
    "The ``MWN18`` model loads a data file included with Synthesizer so requires no arguments."
   ]
  },
  {
   "cell_type": "code",
   "execution_count": null,
   "metadata": {},
   "outputs": [],
   "source": [
    "from synthesizer.emission_models.attenuation import MWN18\n",
    "\n",
    "mwn18 = MWN18()\n",
    "\n",
    "mwn_trans = mwn18.get_transmission(0.33, lams)\n",
    "\n",
    "_, _ = mwn18.plot_transmission(0.33, lams, show=True)"
   ]
  },
  {
   "cell_type": "markdown",
   "metadata": {},
   "source": [
    "# GrainsWD01\n",
    "\n",
    "The ``GrainsWD01`` model requires the model to be defined (either ``'MW'``, ``'LMC'``, or ``'SMC'``). This will use the [dust_extinction module](https://dust-extinction.readthedocs.io/en/latest/#) to load the appropriate model."
   ]
  },
  {
   "cell_type": "code",
   "execution_count": null,
   "metadata": {},
   "outputs": [],
   "source": [
    "from synthesizer.emission_models.attenuation import GrainsWD01\n",
    "\n",
    "mw = GrainsWD01(\"MW\")\n",
    "smc = GrainsWD01(\"SMC\")\n",
    "lmc = GrainsWD01(\"LMC\")\n",
    "\n",
    "mwn_trans = mw.get_transmission(0.33, lams)\n",
    "smc_trans = smc.get_transmission(0.33, lams)\n",
    "lmc_trans = lmc.get_transmission(0.33, lams)\n",
    "\n",
    "fig, ax = mw.plot_transmission(0.33, lams, show=False, label=\"MW\")\n",
    "_, _ = smc.plot_transmission(\n",
    "    0.33, lams, fig=fig, ax=ax, show=False, label=\"SMC\"\n",
    ")\n",
    "_, _ = lmc.plot_transmission(\n",
    "    0.33, lams, fig=fig, ax=ax, show=True, label=\"LMC\"\n",
    ")"
   ]
  },
  {
   "cell_type": "markdown",
   "metadata": {},
   "source": [
    "# ParametricLi08\n",
    "\n",
    "The ``ParametricLi08`` model requires the UV slope (``UV_slope``, default 1.0), the optical to Near Infrared slope (``OPT_NIR_SLOPE``, default 1.0), the Far UV slope (``FUV_slope``, default 1.0), and a dimensionless parameter between 0 and 1 controlling the strength of the UV bump (``bump``, default 0.0). Alternatively, a model string can be passed to adopt a preset model (possible values: ``\"MW\"``, ``\"LMC\"``, ``\"SMC\"``, or ``Calzetti``)."
   ]
  },
  {
   "cell_type": "code",
   "execution_count": null,
   "metadata": {},
   "outputs": [],
   "source": [
    "from synthesizer.emission_models.attenuation import ParametricLi08\n",
    "\n",
    "mw_li08 = ParametricLi08(model=\"MW\")\n",
    "lmc_li08 = ParametricLi08(model=\"LMC\")\n",
    "smc_li08 = ParametricLi08(model=\"SMC\")\n",
    "calz_li08 = ParametricLi08(model=\"Calzetti\")\n",
    "\n",
    "mw_trans = mw_li08.get_transmission(0.33, lams)\n",
    "lmc_trans = lmc_li08.get_transmission(0.33, lams)\n",
    "smc_trans = smc_li08.get_transmission(0.33, lams)\n",
    "calz_trans = calz_li08.get_transmission(0.33, lams)\n",
    "\n",
    "fig, ax = mw_li08.plot_transmission(0.33, lams, show=False, label=\"MW\")\n",
    "_, _ = lmc_li08.plot_transmission(\n",
    "    0.33, lams, fig=fig, ax=ax, show=False, label=\"LMC\"\n",
    ")\n",
    "_, _ = smc_li08.plot_transmission(\n",
    "    0.33, lams, fig=fig, ax=ax, show=False, label=\"SMC\"\n",
    ")\n",
    "_, _ = calz_li08.plot_transmission(\n",
    "    0.33, lams, fig=fig, ax=ax, show=True, label=\"Calzetti\"\n",
    ")"
   ]
  },
  {
   "cell_type": "markdown",
   "metadata": {},
   "source": [
    "## Comparing them all\n",
    "\n",
    "Now that we've covered everything lets compare them all on a single plot."
   ]
  },
  {
   "cell_type": "code",
   "execution_count": null,
   "metadata": {},
   "outputs": [],
   "source": [
    "fig, ax = power_law.plot_transmission(\n",
    "    0.33, lams, show=False, label=\"Power Law\"\n",
    ")\n",
    "_, _ = no_bump.plot_transmission(\n",
    "    0.33, lams, fig=fig, ax=ax, show=False, label=\"Calzetti (No UV bump)\"\n",
    ")\n",
    "_, _ = with_bump.plot_transmission(\n",
    "    0.33, lams, fig=fig, ax=ax, show=False, label=\"Calzetti (With UV bump)\"\n",
    ")\n",
    "_, _ = mwn18.plot_transmission(\n",
    "    0.33, lams, fig=fig, ax=ax, show=False, label=\"MWN18\"\n",
    ")\n",
    "_, _ = mw.plot_transmission(0.33, lams, fig=fig, ax=ax, show=False, label=\"MW\")\n",
    "_, _ = lmc.plot_transmission(\n",
    "    0.33, lams, fig=fig, ax=ax, show=False, label=\"LMC\"\n",
    ")\n",
    "_, _ = smc.plot_transmission(\n",
    "    0.33, lams, fig=fig, ax=ax, show=False, label=\"SMC\"\n",
    ")\n",
    "_, _ = mw_li08.plot_transmission(\n",
    "    0.33, lams, fig=fig, ax=ax, show=False, label=\"Li08 (MW)\"\n",
    ")\n",
    "_, _ = lmc_li08.plot_transmission(\n",
    "    0.33, lams, fig=fig, ax=ax, show=False, label=\"Li08 (LMC)\"\n",
    ")\n",
    "_, _ = smc_li08.plot_transmission(\n",
    "    0.33, lams, fig=fig, ax=ax, show=False, label=\"Li08 (SMC)\"\n",
    ")\n",
    "_, _ = calz_li08.plot_transmission(\n",
    "    0.33, lams, fig=fig, ax=ax, show=True, label=\"Li08 (Calzetti)\"\n",
    ")"
   ]
  }
 ],
 "metadata": {},
 "nbformat": 4,
 "nbformat_minor": 2
}
