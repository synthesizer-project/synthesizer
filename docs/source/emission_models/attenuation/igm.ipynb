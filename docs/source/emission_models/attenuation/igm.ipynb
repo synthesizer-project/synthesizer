{
 "cells": [
  {
   "cell_type": "markdown",
   "metadata": {},
   "source": [
    "# Intergalactic Medium Absortion\n",
    "\n",
    "Synthesizer includes two different forms of absorption by the intergalactic medium (IGM) described in the literture, ``Madau96`` and ``Inoue14``. The ``Madau96`` model is based on the work of [Madau et al. (1996)](https://ui.adsabs.harvard.edu/abs/1997ApJ...475..429M/abstract) and the ``Inoue14`` model is based on the work of [Inoue et al. (2014)](https://ui.adsabs.harvard.edu/abs/2014MNRAS.442.1805I/abstract). The ``Madau96`` model is a simple model that assumes a power-law relationship between the absorption and the redshift. The ``Inoue14`` model is a more complex model that includes the effects of the Lyman-alpha forest and the Lyman limit systems.\n",
    "\n",
    "## Plotting the transmission curves\n",
    "\n",
    "We'll cover below how to use these absorption models in Synthesizer. However, if we want to visualize the transmission curves, we can instantiate the IGM class and simply call the `plot_transmission` method passing our desired redshift and wavelength array (in angstrom)."
   ]
  },
  {
   "cell_type": "code",
   "execution_count": null,
   "metadata": {},
   "outputs": [],
   "source": [
    "import numpy as np\n",
    "from synthesizer.emission_models.attenuation.igm import Inoue14, Madau96\n",
    "\n",
    "madau = Madau96()\n",
    "inoue = Inoue14()\n",
    "\n",
    "# Define redshift and wavelength range\n",
    "redshift = 3.0\n",
    "lams = np.logspace(3, 4, 10000)\n",
    "\n",
    "fig, ax = madau.plot_transmission(redshift, lams)\n",
    "_, _ = inoue.plot_transmission(redshift, lams, fig=fig, ax=ax, show=True)"
   ]
  },
  {
   "cell_type": "markdown",
   "metadata": {},
   "source": [
    "Notice here how we have passed the ``fig`` and ``ax`` to get both models on the same plot. This can be done with all of Synthesizer's plotting methods. \n",
    "\n",
    "## Using the IGM models for attenuation\n",
    "\n",
    "In reality most of the time you will not be working with the IGM models directly, but rather using them to attenuate your spectra. This is done automatically when a ``Sed`` (docs [here](../sed/sed.rst)) is converted to fluxes, all you need to do is pass the desired (uninstatiated) IGM model to ``get_fnu``. \n",
    "\n",
    "Below we will use the ``Madau96`` model to attenuate a spectrum extracted from a ``Grid`` (docs [here](../grids/grids.rst))."
   ]
  },
  {
   "cell_type": "code",
   "execution_count": null,
   "metadata": {},
   "outputs": [],
   "source": [
    "from astropy.cosmology import Planck18 as cosmo\n",
    "from synthesizer.grid import Grid\n",
    "\n",
    "grid_dir = \"../../../tests/test_grid/\"\n",
    "grid_name = \"test_grid\"\n",
    "grid = Grid(grid_name, grid_dir=grid_dir)\n",
    "\n",
    "log10age = 6.0  # log10(age/yr)\n",
    "metallicity = 0.01\n",
    "grid_point = grid.get_grid_point((log10age, metallicity))\n",
    "sed = grid.get_spectra(grid_point, spectra_id=\"transmitted\")\n",
    "sed.lnu *= 1e8  # multiply initial stellar mass\n",
    "\n",
    "# Compute the flux in the presence of IGM attenuation\n",
    "sed.get_fnu(cosmo=cosmo, z=redshift, igm=Madau96)"
   ]
  },
  {
   "cell_type": "markdown",
   "metadata": {},
   "source": [
    "Lets plot the spectra produced by attenuation using each of the IGM models."
   ]
  },
  {
   "cell_type": "code",
   "execution_count": null,
   "metadata": {},
   "outputs": [],
   "source": [
    "# Plot the intrinsic and observed SED\n",
    "fig, ax = sed.plot_observed_spectra(\n",
    "    show=False, label=\"Observed SED (Madau 1996)\"\n",
    ")\n",
    "sed.get_fnu(cosmo=cosmo, z=redshift, igm=Inoue14)\n",
    "_, _ = sed.plot_observed_spectra(\n",
    "    fig=fig,\n",
    "    ax=ax,\n",
    "    show=True,\n",
    "    label=\"Observed SED (Inoue 2014)\",\n",
    "    ylimits=(100, 1200),\n",
    ")"
   ]
  },
  {
   "cell_type": "markdown",
   "metadata": {},
   "source": [
    "Encouragingly, both models produce very similar results. Which model to use is up to you."
   ]
  }
 ],
 "metadata": {},
 "nbformat": 4,
 "nbformat_minor": 2
}
