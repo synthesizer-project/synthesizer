{
 "cells": [
  {
   "cell_type": "markdown",
   "metadata": {},
   "source": [
    "# Intergalactic Medium Absortion\n",
    "\n",
    "Neutral hydrogen in the intergalactic medium (IGM) attenuates the light from distant galaxies, even after reionisation.\n",
    "Synthesizer provides two analytic forms for this IGM absorption, ``Madau96`` and ``Inoue14``.\n",
    "The ``Madau96`` model is based on [Madau et al. (1996)](https://ui.adsabs.harvard.edu/abs/1997ApJ...475..429M/abstract), and assumes a power-law relationship between the absorption and the redshift. \n",
    "The ``Inoue14`` model is based on [Inoue et al. (2014)](https://ui.adsabs.harvard.edu/abs/2014MNRAS.442.1805I/abstract), and includes the effects of the Lyman-$\\alpha$ forest and Lyman--limit systems.\n",
    "\n",
    "## Plotting the transmission curves\n",
    "\n",
    "To simply visualize the transmission curves, we can simply instantiate the IGM class and call the `plot_transmission` method, passing our desired redshift and wavelength array (in Angstroms)."
   ]
  },
  {
   "cell_type": "code",
   "execution_count": null,
   "metadata": {},
   "outputs": [],
   "source": [
    "import numpy as np\n",
    "from unyt import angstrom\n",
    "\n",
    "from synthesizer.emission_models.attenuation import Inoue14, Madau96\n",
    "\n",
    "madau = Madau96()\n",
    "inoue = Inoue14()\n",
    "\n",
    "# Define redshift and wavelength range\n",
    "redshift = 5.0\n",
    "lams = np.logspace(3, 4, 10000) * angstrom\n",
    "\n",
    "fig, ax = madau.plot_transmission(redshift, lams)\n",
    "_, _ = inoue.plot_transmission(redshift, lams, fig=fig, ax=ax, show=False)\n",
    "ax.axvline(\n",
    "    x=1216 * (1 + redshift), label=\"Lyman-break\", ls=\"dashed\", color=\"grey\"\n",
    ")\n",
    "ax.legend()\n",
    "ax.grid(ls=\"dotted\", alpha=0.5)"
   ]
  },
  {
   "cell_type": "markdown",
   "metadata": {},
   "source": [
    "Notice that we have passed the ``fig`` and ``ax`` to get both models on the same plot. This can be done with all of Synthesizer's plotting methods. \n",
    "\n",
    "## Using the IGM models for attenuation\n",
    "\n",
    "In reality most of the time you will not be working with the IGM models directly, but rather using them to attenuate your spectra. This is done automatically when a ``Sed`` (docs [here](../../emissions/emission_objects/sed_example.ipynb)) is converted to fluxes, all you need to do is pass the desired (uninstatiated) IGM model to ``get_fnu``. \n",
    "\n",
    "Below we will use the ``Madau96`` model to attenuate a spectrum extracted from a ``Grid`` (docs [here](../../emission_grids/grids.rst))."
   ]
  },
  {
   "cell_type": "code",
   "execution_count": null,
   "metadata": {},
   "outputs": [],
   "source": [
    "from astropy.cosmology import Planck18 as cosmo\n",
    "\n",
    "from synthesizer.grid import Grid\n",
    "\n",
    "grid_name = \"test_grid\"\n",
    "grid = Grid(grid_name)\n",
    "\n",
    "log10age = 6.0  # log10(age/yr)\n",
    "metallicity = 0.01\n",
    "grid_point = grid.get_grid_point(log10ages=log10age, metallicity=metallicity)\n",
    "sed = grid.get_sed_at_grid_point(grid_point, spectra_type=\"transmitted\")\n",
    "sed.lnu *= 1e8  # multiply initial stellar mass\n",
    "\n",
    "# Compute the flux in the presence of IGM attenuation\n",
    "sed.get_fnu(cosmo=cosmo, z=redshift, igm=Madau96)"
   ]
  },
  {
   "cell_type": "markdown",
   "metadata": {},
   "source": [
    "Below we plot the spectra produced when assuming each of the models for IGM attenuation:"
   ]
  },
  {
   "cell_type": "code",
   "execution_count": null,
   "metadata": {},
   "outputs": [],
   "source": [
    "# Plot the intrinsic and observed SED\n",
    "fig, ax = sed.plot_observed_spectra(\n",
    "    figsize=(6, 6), show=False, label=\"Observed SED (Madau 1996)\"\n",
    ")\n",
    "sed.get_fnu(cosmo=cosmo, z=redshift, igm=Inoue14)\n",
    "_, _ = sed.plot_observed_spectra(\n",
    "    fig=fig,\n",
    "    ax=ax,\n",
    "    show=False,\n",
    "    label=\"Observed SED (Inoue 2014)\",\n",
    "    xlimits=(5000, 20000),\n",
    "    ylimits=(10, 600),\n",
    ")\n",
    "ax.axvline(\n",
    "    x=1216 * (1 + redshift), label=\"Lyman-break\", ls=\"dashed\", color=\"grey\"\n",
    ")\n",
    "ax.legend(framealpha=0.3)\n",
    "ax.grid(ls=\"dotted\", alpha=0.5)\n",
    "ax.set_yscale(\"linear\")"
   ]
  }
 ],
 "metadata": {},
 "nbformat": 4,
 "nbformat_minor": 2
}
