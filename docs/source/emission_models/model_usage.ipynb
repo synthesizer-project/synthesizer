{
 "cells": [
  {
   "cell_type": "markdown",
   "metadata": {},
   "source": [
    "# ``EmissionModel`` functionality\n",
    "\n",
    "Here we give an overview of the basic functionality of an ``EmissionModel``. Elsewhere we cover [what models are available](premade_models.ipynb), [how to modify a model](modify_models.ipynb), [making your own custom models](custom_models.ipynb), and [combining_models from different components](combined_models.ipynb).\n",
    "\n",
    "## Getting a model\n",
    "\n",
    "To use an ``EmissionModel`` model we simply instatiate it with the required arguments, however, which arguments are required depends on the exact operation. \n",
    "\n",
    "For extraction operations you need:\n",
    "\n",
    "- A grid to extract from (``grid``).\n",
    "- A key to extract (``extract``). For lines, ``line_ids`` must be passed to ``get_lines``, this key is then the label given to the ``LineCollection``. \n",
    "- Optionally, an escape fraction to apply which defaults to 0.0 (``fesc`` or ``covering_fraction`` for AGN).\n",
    "\n",
    "For combination operations you need:\n",
    "\n",
    "- The a list of models which will be combined (i.e. added) to give the resultant emission (``combine``).\n",
    "\n",
    "For generation you need:\n",
    "\n",
    "- A generator class (e.g. a [dust emission model](dust_emission.ipynb)) from which to generate spectra (``generator``). Note, this is not applicable to lines.\n",
    "\n",
    "For attenuation operations you need:\n",
    "\n",
    "- The [dust curve](attenuation/attenuation.rst) to apply (``dust_curve``).\n",
    "- The model to apply the attenuation to (``apply_dust_to``).\n",
    "- The optical depth to use with the dust curve (``tau_v``).\n",
    "\n",
    "Masking can be applied alongside any of these operations. Additionally, any number of masks can be combined on the same operation. Each mask is defined by:\n",
    "\n",
    "- The attribute of the component to mask on (``mask_attr``).\n",
    "- The threshold of the mask (``mask_thresh``).\n",
    "- The operator to use when generating the mask, i.e. ``\"<\"``, ``\">\"``, ``\"<=\"``, ``\">=\"``, ``\"==\"``, or ``\"!=\"`` (``mask_op``).\n",
    "\n",
    "For this demonstration we'll load the semi-complex ``TotalEmission`` premade stellar emisison model. When using more complex [premade models](premade_models.ipynb), with a deeper \"tree\", more parameters will be required to populate their \"child\" models deeper in the tree. This tree terminology will become clear as you read on. Don't worry about the specifics here, they are detailed in the docs linked above."
   ]
  },
  {
   "cell_type": "code",
   "execution_count": null,
   "metadata": {},
   "outputs": [],
   "source": [
    "from synthesizer.emission_models import TotalEmission\n",
    "from synthesizer.emission_models.attenuation import PowerLaw\n",
    "from synthesizer.emission_models.dust.emission import Blackbody\n",
    "from synthesizer.grid import Grid\n",
    "from unyt import Myr, kelvin\n",
    "\n",
    "# Get the grid which we'll need for extraction\n",
    "grid_dir = \"../../../tests/test_grid\"\n",
    "grid_name = \"test_grid\"\n",
    "grid = Grid(grid_name, grid_dir=grid_dir)\n",
    "\n",
    "total = TotalEmission(\n",
    "    grid=grid,\n",
    "    dust_curve=PowerLaw(slope=-1),\n",
    "    tau_v=0.67,\n",
    "    fesc=0.2,\n",
    "    fesc_ly_alpha=0.7,\n",
    "    dust_emission_model=Blackbody(temperature=100 * kelvin),\n",
    ")"
   ]
  },
  {
   "cell_type": "markdown",
   "metadata": {},
   "source": [
    "In addition to the arguments specfic to each type of model, any model can be passed arguments to define a mask (the emitter attribute to define a mask with, ``mask_attr``; the operator to use in the mask, ``mask_op``; the threshold for the mask, ``mask_thresh``). "
   ]
  },
  {
   "cell_type": "code",
   "execution_count": null,
   "metadata": {},
   "outputs": [],
   "source": [
    "masked_total = TotalEmission(\n",
    "    grid=grid,\n",
    "    label=\"young_total\",\n",
    "    dust_curve=PowerLaw(slope=-1),\n",
    "    tau_v=0.67,\n",
    "    fesc=0.2,\n",
    "    fesc_ly_alpha=0.7,\n",
    "    dust_emission_model=Blackbody(temperature=100 * kelvin),\n",
    "    mask_attr=\"ages\",\n",
    "    mask_op=\"<\",\n",
    "    mask_thresh=10 * Myr,\n",
    ")"
   ]
  },
  {
   "cell_type": "markdown",
   "metadata": {},
   "source": [
    "In the above case we've got a ``TotalEmission`` model where every child model in the tree has also been masked. We've done this for demonstration purposes, in most (but certainly not all) cases you'll only want specific models masked. This can either be done by [constructing your own models](custom_models.ipynb) or [modifying existing ones](modify_models.ipynb). \n",
    "\n",
    "## Printing a summary of an ``EmissionModel``\n",
    "\n",
    "If we want to see a summary of all the models contained within an instance of an ``EmissionModel`` we simply print the model."
   ]
  },
  {
   "cell_type": "code",
   "execution_count": null,
   "metadata": {},
   "outputs": [],
   "source": [
    "print(masked_total)"
   ]
  },
  {
   "cell_type": "markdown",
   "metadata": {},
   "source": [
    "You can see this gives a block describing each model including it's label (in all caps), it's emitter (in brackets after the label), and the operation the model performs followed by the parameters defining the operation.\n",
    "\n",
    "## Plotting an ``EmissionModel``\n",
    "\n",
    "For a more detailed view of how models relate to each other we can also visualise the tree itself."
   ]
  },
  {
   "cell_type": "code",
   "execution_count": null,
   "metadata": {},
   "outputs": [],
   "source": [
    "total.plot_emission_tree()\n",
    "masked_total.plot_emission_tree()"
   ]
  },
  {
   "cell_type": "markdown",
   "metadata": {},
   "source": [
    "In the emission tree plot we can see each individual spectra generated by the model and how they relate. \n",
    "- Solid lines denote combinations of spectra into another. \n",
    "- Dashed lines denote an attenuation of the child spectra to produce the parent. \n",
    "- Dotted lines denote a relationship between the parent generator and it's child spectra used to scale the generated spectra (not required for all generators). \n",
    "- Blue boxes have no mask applied. \n",
    "- Green boxes have a mask applied to them (which we only have for the masked model we made). \n",
    "- Square boxes are an extraction operation. \n",
    "- Boxes with rounded corners are generation, dust attenuation or combination operations. \n",
    "\n",
    "You'll notice the extraction operations are always leaves in the tree.\n",
    "\n",
    "## Extracting models\n",
    "\n",
    "An emission model can be treated like a dictionary. If we want to get a model from somewhere in the tree we simply index with the model label."
   ]
  },
  {
   "cell_type": "code",
   "execution_count": null,
   "metadata": {},
   "outputs": [],
   "source": [
    "sub_model = total[\"reprocessed\"]\n",
    "sub_model.plot_emission_tree()"
   ]
  }
 ],
 "metadata": {},
 "nbformat": 4,
 "nbformat_minor": 2
}
