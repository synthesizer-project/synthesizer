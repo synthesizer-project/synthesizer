{
 "cells": [
  {
   "attachments": {},
   "cell_type": "markdown",
   "metadata": {},
   "source": [
    "# Dust emission\n",
    "\n",
    "Synthesizer can model thermal dust emission using an energy balance approach.\n",
    "This is done using dust emission models, which can then be handed to an ``EmissionModel`` to produce a dust emission spectrum, which can be combined with any other spectra in the model.\n",
    "\n",
    "First we load some common modules, and define a wavelength array over which we will generate our dust emission SED"
   ]
  },
  {
   "cell_type": "code",
   "execution_count": null,
   "metadata": {},
   "outputs": [],
   "source": [
    "import matplotlib.pyplot as plt\n",
    "import numpy as np\n",
    "from unyt import Angstrom, K, Lsun, Msun, um\n",
    "\n",
    "from synthesizer.emission_models.dust.emission import (\n",
    "    Blackbody,\n",
    "    Casey12,\n",
    "    Greybody,\n",
    "    IR_templates,\n",
    ")\n",
    "\n",
    "lam = 10 ** (np.arange(3.0, 8.0, 0.01)) * Angstrom"
   ]
  },
  {
   "attachments": {},
   "cell_type": "markdown",
   "metadata": {},
   "source": [
    "## Parametric models\n",
    "\n",
    "Below we show a number of simple models, including a blackbody, greybody (non-unity emissivity) and the model detailed in [Casey et al. (2012)](https://ui.adsabs.harvard.edu/abs/2012MNRAS.425.3094C/abstract). \n",
    "By default a dust emission model provides a normalised spectrum."
   ]
  },
  {
   "cell_type": "code",
   "execution_count": null,
   "metadata": {},
   "outputs": [],
   "source": [
    "for T in [10, 25, 50, 100, 1000]:\n",
    "    model = Blackbody(T * K)\n",
    "    sed = model.get_spectra(lam)\n",
    "    plt.plot(np.log10(sed.lam), sed.luminosity, label=f\"{T} K\")\n",
    "\n",
    "plt.legend()\n",
    "plt.show()"
   ]
  },
  {
   "cell_type": "code",
   "execution_count": null,
   "metadata": {},
   "outputs": [],
   "source": [
    "for T in [10, 25, 50, 100, 1000]:\n",
    "    model = Greybody(T * K, 1.6)\n",
    "    sed = model.get_spectra(lam)\n",
    "    plt.plot(np.log10(sed.lam), sed.luminosity, label=f\"{T} K\")\n",
    "\n",
    "plt.legend()\n",
    "plt.show()"
   ]
  },
  {
   "cell_type": "code",
   "execution_count": null,
   "metadata": {},
   "outputs": [],
   "source": [
    "for T in [10, 25, 50, 100, 1000]:\n",
    "    model = Casey12(T * K, 1.6, 2.0)\n",
    "    sed = model.get_spectra(lam)\n",
    "    plt.plot(np.log10(sed.lam), sed.luminosity, label=f\"{T} K\")\n",
    "\n",
    "plt.legend()\n",
    "plt.show()"
   ]
  },
  {
   "cell_type": "markdown",
   "metadata": {},
   "source": [
    "## Adding CMB heating\n",
    "At high redshift, the effect of CMB heating is important.\n",
    "To account for this any dust emission model can incorporate the impact of CMB heating (``cmb_heating``) at a given redshift ($z$).\n",
    "Below we compare the dust emission spectrum from the Casey+12 model with and without CMB heating:"
   ]
  },
  {
   "cell_type": "code",
   "execution_count": null,
   "metadata": {},
   "outputs": [],
   "source": [
    "for T in [10, 25, 50, 100, 1000]:\n",
    "    model = Casey12(T * K, 1.6, 2.0)\n",
    "    model_cmb = Casey12(T * K, 1.6, 2.0, cmb_heating=True, redshift=7)\n",
    "    sed = model.get_spectra(lam)\n",
    "    sed_cmb = model_cmb.get_spectra(lam)\n",
    "    L_ir_ratio = sed_cmb.measure_window_luminosity(\n",
    "        window=[8, 1000] * um\n",
    "    ) / sed.measure_window_luminosity(\n",
    "        window=[8, 1000] * um\n",
    "    )  # same as model_cmb.cmb_factor\n",
    "    plt.scatter(\n",
    "        T, L_ir_ratio, label=f\"{np.around(model_cmb.temperature_z, 2)}\"\n",
    "    )\n",
    "\n",
    "plt.axhline(y=1)\n",
    "plt.grid(ls=\"dotted\")\n",
    "plt.xlabel(\"Input dust temperature\")\n",
    "plt.ylabel(r\"L$_{\\rm IR}$ ratio\")\n",
    "plt.legend()\n",
    "plt.show()"
   ]
  },
  {
   "cell_type": "markdown",
   "metadata": {},
   "source": [
    "## IR Templates \n",
    "\n",
    "### Draine & Li 2007 dust models\n",
    "\n",
    "The more complex model present in [Draine & Li 2007](https://ui.adsabs.harvard.edu/abs/2007ApJ...657..810D/abstract) is also available; this requires a grid to be loaded in.\n",
    "\n",
    "Begin by reading in the DL07 grids, which have been created by downloading the ASCII DL07 files and running \n",
    "```python\n",
    "from synthesizer.utils import process_dl07_to_hdf5\n",
    "process_dl07_to_hdf5()\n",
    "```\n",
    "\n",
    "However, you can download these preprocessed grids using the ``synthesizer-download`` command line tool.\n",
    "\n",
    "```bash\n",
    "synthesizer-download -d /path/to/destination --dust-grid\n",
    "```"
   ]
  },
  {
   "cell_type": "code",
   "execution_count": null,
   "metadata": {},
   "outputs": [],
   "source": [
    "from synthesizer.grid import Grid\n",
    "\n",
    "grid_name = \"MW3.1\"\n",
    "grid_dir = \"../../../tests/test_grid/\"\n",
    "grid = Grid(grid_name, grid_dir=grid_dir, read_lines=False)\n",
    "print(grid.axes)"
   ]
  },
  {
   "cell_type": "markdown",
   "metadata": {},
   "source": [
    "Below we show how to use the DL07 model directly, and plot the dust emission spectrum for a number of dust luminosities.\n",
    "You can also pass these models to an ``EmissionModel`` and they will be used automatically."
   ]
  },
  {
   "cell_type": "code",
   "execution_count": null,
   "metadata": {},
   "outputs": [],
   "source": [
    "for mdust in [1e7, 1e8, 5e8, 1e9, 5e9]:\n",
    "    model = IR_templates(\n",
    "        grid, mdust=mdust * Msun, ldust=1e11 * Lsun, verbose=False\n",
    "    )\n",
    "    sed = model.get_spectra(lam)\n",
    "    plt.plot(\n",
    "        np.log10(sed.lam),\n",
    "        np.log10(sed.luminosity),\n",
    "        label=\"{:.1e} Msun, <U>={:.2f}\".format(mdust, model.u_avg),\n",
    "    )\n",
    "\n",
    "plt.xlabel(\"log10(lam/AA)\")\n",
    "plt.ylabel(\"log10(lnu/(erg/s))\")\n",
    "plt.ylim(40, 45)\n",
    "plt.legend()\n",
    "plt.show()"
   ]
  }
 ],
 "metadata": {},
 "nbformat": 4,
 "nbformat_minor": 4
}
