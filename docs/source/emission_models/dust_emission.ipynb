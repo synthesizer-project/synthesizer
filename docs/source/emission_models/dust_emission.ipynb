{
 "cells": [
  {
   "attachments": {},
   "cell_type": "markdown",
   "metadata": {},
   "source": [
    "# Dust emission\n",
    "\n",
    "`Synthesizer` has the capability of creating a dust emission spectrum using a simple energy balance approach. This can be done using dust emission models which can be handed to an ``EmissionModel`` to produce a dust emission spectrum and combine it with any other spectra in the model."
   ]
  },
  {
   "cell_type": "code",
   "execution_count": null,
   "metadata": {},
   "outputs": [],
   "source": [
    "import matplotlib.pyplot as plt\n",
    "import numpy as np\n",
    "from synthesizer.emission_models.dust.emission import (\n",
    "    Blackbody,\n",
    "    Casey12,\n",
    "    Greybody,\n",
    "    IR_templates,\n",
    ")\n",
    "from unyt import Angstrom, K, Lsun, Msun, um"
   ]
  },
  {
   "attachments": {},
   "cell_type": "markdown",
   "metadata": {},
   "source": [
    "Before demonstrating any of these models we first need a wavelength array to demonstrate them with."
   ]
  },
  {
   "cell_type": "code",
   "execution_count": null,
   "metadata": {},
   "outputs": [],
   "source": [
    "lam = 10 ** (np.arange(3.0, 8.0, 0.01)) * Angstrom"
   ]
  },
  {
   "attachments": {},
   "cell_type": "markdown",
   "metadata": {},
   "source": [
    "## Blackbody\n",
    "\n",
    "First let's explore simple blackbody models. By default a dust emission model provides a normalised spectrum."
   ]
  },
  {
   "cell_type": "code",
   "execution_count": null,
   "metadata": {},
   "outputs": [],
   "source": [
    "for T in [10, 25, 50, 100, 1000]:\n",
    "    model = Blackbody(T * K)\n",
    "    sed = model.get_spectra(lam)\n",
    "    plt.plot(np.log10(sed.lam), sed.luminosity, label=f\"{T} K\")\n",
    "\n",
    "plt.legend()\n",
    "plt.show()"
   ]
  },
  {
   "cell_type": "markdown",
   "metadata": {},
   "source": [
    "## Greybody\n",
    "\n",
    "A greybody model is a simple extension of the blackbody model where the emissivity is not unity."
   ]
  },
  {
   "cell_type": "code",
   "execution_count": null,
   "metadata": {},
   "outputs": [],
   "source": [
    "for T in [10, 25, 50, 100]:\n",
    "    model = Greybody(T * K, 1.6)\n",
    "    sed = model.get_spectra(lam)\n",
    "    plt.plot(np.log10(sed.lam), sed.luminosity, label=f\"{T} K\")\n",
    "\n",
    "plt.legend()\n",
    "plt.show()"
   ]
  },
  {
   "cell_type": "markdown",
   "metadata": {},
   "source": [
    "## Casey12\n",
    "\n",
    "The Casey12 model contains the model detailed in [Casey et al. (2012)](https://ui.adsabs.harvard.edu/abs/2012MNRAS.425.3094C/abstract)."
   ]
  },
  {
   "cell_type": "code",
   "execution_count": null,
   "metadata": {},
   "outputs": [],
   "source": [
    "for T in [10, 25, 50, 100]:\n",
    "    model = Casey12(T * K, 1.6, 2.0)\n",
    "    sed = model.get_spectra(lam)\n",
    "    plt.plot(np.log10(sed.lam), sed.luminosity, label=f\"{T} K\")\n",
    "\n",
    "plt.legend()\n",
    "plt.show()"
   ]
  },
  {
   "cell_type": "markdown",
   "metadata": {},
   "source": [
    "## Adding CMB heating\n",
    "For high redshift observations the effect of CMB heating is important. To add CMB heating we simply flag it on. Below we compare the dust emission spectrum with and without CMB heating."
   ]
  },
  {
   "cell_type": "code",
   "execution_count": null,
   "metadata": {},
   "outputs": [],
   "source": [
    "for T in [20, 25, 50, 100]:\n",
    "    model = Casey12(T * K, 1.6, 2.0)\n",
    "    model_cmb = Casey12(T * K, 1.6, 2.0, cmb_heating=True, z=7)\n",
    "    sed = model.get_spectra(lam)\n",
    "    sed_cmb = model_cmb.get_spectra(lam)\n",
    "    L_ir_ratio = sed_cmb.measure_window_luminosity(\n",
    "        window=[8, 1000] * um\n",
    "    ) / sed.measure_window_luminosity(\n",
    "        window=[8, 1000] * um\n",
    "    )  # same as model_cmb.cmb_factor\n",
    "    plt.scatter(\n",
    "        T, L_ir_ratio, label=f\"{np.around(model_cmb.temperature_z, 2)}\"\n",
    "    )\n",
    "\n",
    "plt.axhline(y=1)\n",
    "plt.grid(ls=\"dotted\")\n",
    "plt.xlabel(\"Input dust temperature\")\n",
    "plt.ylabel(r\"L$_{\\rm IR}$ ratio\")\n",
    "plt.legend()\n",
    "plt.show()"
   ]
  },
  {
   "cell_type": "markdown",
   "metadata": {},
   "source": [
    "### IR Templates - Draine & Li 2007 dust models\n",
    "\n",
    "We also implemented the more complex model present in [Draine & Li 2007](https://ui.adsabs.harvard.edu/abs/2007ApJ...657..810D/abstract). This model is more complex and requires a grid to be loaded in."
   ]
  },
  {
   "cell_type": "markdown",
   "metadata": {},
   "source": [
    "Begin by reading in the DL07 grids, which have been created by downloading the ASCII DL07 files and running \n",
    "```\n",
    "from synthesizer.utils import process_dl07_to_hdf5\n",
    "process_dl07_to_hdf5()\n",
    "```\n",
    "\n",
    "However, you can download these preprocessed grids using the ``synthesizer-download`` command line tool.\n",
    "\n",
    "```bash\n",
    "synthesizer-download -d /path/to/destination --dust-grid\n",
    "```"
   ]
  },
  {
   "cell_type": "code",
   "execution_count": null,
   "metadata": {},
   "outputs": [],
   "source": [
    "from synthesizer.grid import Grid\n",
    "\n",
    "grid_name = \"MW3.1\"\n",
    "grid_dir = \"../../../tests/test_grid/\"\n",
    "grid = Grid(grid_name, grid_dir=grid_dir, read_spectra=True, read_lines=False)"
   ]
  },
  {
   "cell_type": "code",
   "execution_count": null,
   "metadata": {},
   "outputs": [],
   "source": [
    "print(grid.axes)"
   ]
  },
  {
   "cell_type": "markdown",
   "metadata": {},
   "source": [
    "Below we show how to use the DL07 model directly and plot the dust emission spectrum for a number of dust luminosities. (Note however that you can also pass these models to an ``EmissionModel`` and they will be used automatically.)"
   ]
  },
  {
   "cell_type": "code",
   "execution_count": null,
   "metadata": {},
   "outputs": [],
   "source": [
    "for mdust in [1e7, 1e8, 5e8, 1e9, 5e9]:\n",
    "    model = IR_templates(\n",
    "        grid, mdust=mdust * Msun, ldust=1e11 * Lsun, verbose=False\n",
    "    )\n",
    "    sed = model.get_spectra(lam)\n",
    "    plt.plot(\n",
    "        np.log10(sed.lam),\n",
    "        np.log10(sed.luminosity),\n",
    "        label=\"{:.1e} Msun, <U>={}\".format(mdust, model.u_avg),\n",
    "    )\n",
    "\n",
    "plt.xlabel(\"log10(lam/AA)\")\n",
    "plt.ylabel(\"log10(lnu/(erg/s))\")\n",
    "plt.ylim(40, 45)\n",
    "plt.legend()\n",
    "plt.show()"
   ]
  }
 ],
 "metadata": {},
 "nbformat": 4,
 "nbformat_minor": 4
}
