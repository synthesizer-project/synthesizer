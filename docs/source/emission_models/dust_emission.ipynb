{
 "cells": [
  {
   "attachments": {},
   "cell_type": "markdown",
   "metadata": {},
   "source": [
    "# Dust emission\n",
    "\n",
    "Synthesizer can model thermal dust emission using an energy balance approach.\n",
    "This is done using dust emission models, which can then be handed to an ``EmissionModel`` to produce a dust emission spectrum, which can be combined with any other spectra in the model.\n",
    "\n",
    "First we load some common modules, and define a wavelength array over which we will generate our dust emission SED"
   ]
  },
  {
   "cell_type": "code",
   "execution_count": null,
   "metadata": {},
   "outputs": [],
   "source": [
    "import matplotlib.pyplot as plt\n",
    "import numpy as np\n",
    "from unyt import Angstrom, K, Lsun, Msun, um\n",
    "\n",
    "from synthesizer.emission_models.dust.emission import (\n",
    "    Blackbody,\n",
    "    Casey12,\n",
    "    Greybody,\n",
    "    IR_templates,\n",
    ")\n",
    "\n",
    "lam = 10 ** (np.arange(3.0, 8.0, 0.01)) * Angstrom"
   ]
  },
  {
   "attachments": {},
   "cell_type": "markdown",
   "metadata": {},
   "source": [
    "## Parametric models\n",
    "\n",
    "Below we show a number of simple models, including a blackbody, greybody (non-unity emissivity) and the model detailed in [Casey (2012)](https://ui.adsabs.harvard.edu/abs/2012MNRAS.425.3094C/abstract) (mid-IR power-law + far-IR greybody). \n",
    "By default a dust emission model provides a normalised spectrum."
   ]
  },
  {
   "cell_type": "code",
   "execution_count": null,
   "metadata": {},
   "outputs": [],
   "source": [
    "for T in [10, 25, 50, 100, 200]:\n",
    "    model = Blackbody(temperature=T * K)\n",
    "    sed = model.get_spectra(lam)\n",
    "    plt.loglog(sed.lam, sed.luminosity, label=f\"T={T} K\")\n",
    "\n",
    "plt.title(\"Blackbody\")\n",
    "\n",
    "plt.xlabel(r\"$ \\lambda / \\AA$\")\n",
    "plt.ylabel(r\"$ L_{\\nu} / L_{bol}$\")\n",
    "\n",
    "plt.xlim(1e4, 1e8)\n",
    "plt.ylim(10**-3.0, 1.5)\n",
    "\n",
    "plt.legend()\n",
    "plt.show()"
   ]
  },
  {
   "cell_type": "markdown",
   "metadata": {},
   "source": [
    "We show here the Greybody spectrum for the optically-thin (solid lines) and optically-thick (dashed lines) case for different dust temperatures."
   ]
  },
  {
   "cell_type": "code",
   "execution_count": null,
   "metadata": {},
   "outputs": [],
   "source": [
    "for ii, T in enumerate([25, 50, 100, 200]):\n",
    "    color = plt.cm.tab10(ii)\n",
    "    # Optically thin\n",
    "    model = Greybody(temperature=T * K, emissivity=2.0, optically_thin=True)\n",
    "    sed = model.get_spectra(lam)\n",
    "    plt.loglog(sed.lam, sed.luminosity, label=f\"T={T} K\", color=color)\n",
    "\n",
    "    # Optically thick below 100um\n",
    "    model = Greybody(\n",
    "        temperature=T * K, emissivity=2.0, lam_0=100 * um, optically_thin=False\n",
    "    )\n",
    "    sed = model.get_spectra(lam)\n",
    "    plt.loglog(sed.lam, sed.luminosity, ls=\"dashed\", color=color)\n",
    "\n",
    "plt.title(\"Greybody\")\n",
    "\n",
    "plt.xlabel(r\"$ \\lambda / \\AA$\")\n",
    "plt.ylabel(r\"$ L_{\\nu} / L_{bol}$\")\n",
    "\n",
    "plt.xlim(1e4, 1e8)\n",
    "plt.ylim(10**-3.0, 1.5)\n",
    "\n",
    "plt.legend()\n",
    "plt.show()"
   ]
  },
  {
   "cell_type": "code",
   "execution_count": null,
   "metadata": {},
   "outputs": [],
   "source": [
    "for ii, T in enumerate([25, 50, 100, 200]):\n",
    "    color = plt.cm.tab10(ii)\n",
    "    model = Casey12(\n",
    "        temperature=T * K, emissivity=2.0, alpha=2.0, lam_0=100 * um\n",
    "    )\n",
    "    sed = model.get_spectra(lam)\n",
    "    plt.loglog(sed.lam, sed.luminosity, label=f\"T={T} K\", color=color)\n",
    "\n",
    "plt.title(\"Casey12\")\n",
    "\n",
    "plt.xlabel(r\"$ \\lambda / \\AA$\")\n",
    "plt.ylabel(r\"$ L_{\\nu} / L_{bol}$\")\n",
    "\n",
    "plt.xlim(1e4, 1e8)\n",
    "plt.ylim(10**-3.0, 1.5)\n",
    "\n",
    "plt.legend()\n",
    "plt.show()"
   ]
  },
  {
   "cell_type": "markdown",
   "metadata": {},
   "source": [
    "## Adding CMB heating\n",
    "At high redshift, the effect of CMB heating is important.\n",
    "To account for this any dust emission model can incorporate the impact of CMB heating (``cmb_heating``) at a given redshift ($z$).\n",
    "Below we compare the dust emission spectrum from the Casey+12 model with and without CMB heating:"
   ]
  },
  {
   "cell_type": "code",
   "execution_count": null,
   "metadata": {},
   "outputs": [],
   "source": [
    "for ii, T in enumerate([25, 50, 100, 200]):\n",
    "    color = plt.cm.tab10(ii)\n",
    "    model = Casey12(temperature=T * K, emissivity=2.0, alpha=1.4)\n",
    "    model_cmb = Casey12(\n",
    "        temperature=T * K,\n",
    "        emissivity=2.0,\n",
    "        alpha=1.4,\n",
    "        cmb_heating=True,\n",
    "        redshift=10,\n",
    "    )\n",
    "    sed = model.get_spectra(lam)\n",
    "    sed_cmb = model_cmb.get_spectra(lam)\n",
    "    L_ir_ratio = sed_cmb.measure_window_luminosity(\n",
    "        window=[8, 1000] * um\n",
    "    ) / sed.measure_window_luminosity(\n",
    "        window=[8, 1000] * um\n",
    "    )  # same as model_cmb.cmb_factor\n",
    "    plt.scatter(\n",
    "        T,\n",
    "        L_ir_ratio,\n",
    "        label=f\"T={np.around(model_cmb.temperature_z, 2)}\",\n",
    "        color=color,\n",
    "    )\n",
    "\n",
    "plt.axhline(y=1)\n",
    "plt.grid(ls=\"dotted\")\n",
    "plt.xlabel(\"Input dust temperature\")\n",
    "plt.ylabel(r\"L$_{\\rm IR}$ ratio\")\n",
    "plt.legend()\n",
    "plt.show()"
   ]
  },
  {
   "cell_type": "markdown",
   "metadata": {},
   "source": [
    "## IR Templates \n",
    "\n",
    "### Draine & Li 2007 dust models\n",
    "\n",
    "The more complex model present in [Draine & Li 2007](https://ui.adsabs.harvard.edu/abs/2007ApJ...657..810D/abstract) is also available; this requires a grid to be loaded in. \n",
    "\n",
    "The grids are parameterised using the Umin, qpah and alpha, which denote the star light intensity heating majority of the dust, PAH fraction and power-law index (alpha $\\ne$ 1), see [Draine & Li 2007](https://ui.adsabs.harvard.edu/abs/2007ApJ...657..810D/abstract) for more details. There are other free parameters the user provides, such as the dust mass, dust luminosity, gamma (1-gamma is the fraction of starlight exposed to intensity Umin). All the dust spectra in the grid have Umax=1E7.\n",
    "\n",
    "We also follow the approach in [Magdis+2012](https://ui.adsabs.harvard.edu/abs/2012ApJ...760....6M), by assuming that there is a fixed relationship between dust luminosity and dust mass, by default L<sub>dust</sub>/M<sub>dust</sub> = 125. This makes the free parameter space smaller.\n",
    "\n",
    "Begin by reading in the DL07 grids, which have been created by downloading the ASCII DL07 files and running \n",
    "```python\n",
    "from synthesizer.utils import process_dl07_to_hdf5\n",
    "process_dl07_to_hdf5()\n",
    "```\n",
    "\n",
    "However, you can download these preprocessed grids using the ``synthesizer-download`` command line tool, this will place the grid in your grids directory.\n",
    "\n",
    "```bash\n",
    "synthesizer-download --dust-grid\n",
    "```"
   ]
  },
  {
   "cell_type": "code",
   "execution_count": null,
   "metadata": {},
   "outputs": [],
   "source": [
    "from synthesizer.grid import Grid\n",
    "\n",
    "grid_name = \"draine_li_dust_emission_grid_MW_3p1.hdf5\"\n",
    "grid = Grid(grid_name, read_lines=False)\n",
    "print(grid.axes)"
   ]
  },
  {
   "cell_type": "markdown",
   "metadata": {},
   "source": [
    "Below we show how to use the DL07 model directly, and plot the dust emission spectrum for a number of dust luminosities.\n",
    "You can also pass these models to an ``EmissionModel`` and they will be used automatically."
   ]
  },
  {
   "cell_type": "code",
   "execution_count": null,
   "metadata": {},
   "outputs": [],
   "source": [
    "for mdust in [1e7, 1e8, 5e8, 1e9, 5e9]:\n",
    "    model = IR_templates(\n",
    "        grid, mdust=mdust * Msun, ldust=1e11 * Lsun, verbose=False\n",
    "    )\n",
    "    sed = model.get_spectra(lam)\n",
    "\n",
    "    # Normalise the SED to the bolometric luminosity\n",
    "    sed._lnu /= sed._bolometric_luminosity\n",
    "\n",
    "    # And plot...\n",
    "    plt.loglog(\n",
    "        sed.lam,\n",
    "        sed.luminosity,\n",
    "        label=\"{:.1e} Msun, <U>={:.2f}\".format(mdust, model.u_avg),\n",
    "    )\n",
    "    plt.title(\"Draine & Li 2007\")\n",
    "\n",
    "plt.xlabel(r\"$ \\lambda / \\AA$\")\n",
    "plt.ylabel(r\"$ L_{\\nu} / L_{bol}$\")\n",
    "plt.ylim(10**-3, 1)\n",
    "plt.legend()\n",
    "plt.show()"
   ]
  }
 ],
 "metadata": {},
 "nbformat": 4,
 "nbformat_minor": 4
}
