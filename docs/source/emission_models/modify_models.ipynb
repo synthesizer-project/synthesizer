{
 "cells": [
  {
   "cell_type": "markdown",
   "metadata": {},
   "source": [
    "\n",
    "## Modifying a model\n",
    "\n",
    "Of course, a premade model may not behave in the exact way you want for your application but it may not be different enough to warrant making your own from scratch. In these instances any properties of a model can be modified or changed. To do so we simply call a method which can change or add to a property on either the base model (`label=None`), a specific model (e.g. `label=\"nebular\"`), or (for certain properties) all applicable models (`set_all=True`).\n",
    "\n",
    "You can add a mask."
   ]
  },
  {
   "cell_type": "code",
   "execution_count": null,
   "metadata": {},
   "outputs": [],
   "source": [
    "from synthesizer.dust.attenuation import PowerLaw\n",
    "from synthesizer.dust.emission import Blackbody\n",
    "from synthesizer.emission_models import TotalEmission\n",
    "from synthesizer.grid import Grid\n",
    "from unyt import dimensionless, kelvin\n",
    "\n",
    "# Get the grid which we'll need for extraction\n",
    "grid_dir = \"../../../tests/test_grid\"\n",
    "grid_name = \"test_grid\"\n",
    "grid = Grid(grid_name, grid_dir=grid_dir)"
   ]
  },
  {
   "cell_type": "code",
   "execution_count": null,
   "metadata": {},
   "outputs": [],
   "source": [
    "# Make a model\n",
    "model = TotalEmission(\n",
    "    grid=grid,\n",
    "    dust_curve=PowerLaw(slope=-1),\n",
    "    tau_v=0.33,\n",
    "    fesc=0.2,\n",
    "    fesc_ly_alpha=0.7,\n",
    "    dust_emission_model=Blackbody(temperature=100 * kelvin),\n",
    ")\n",
    "\n",
    "model.add_mask(\"log10ages\", 7 * dimensionless, \"<\", label=\"nebular_continuum\")\n",
    "model.add_mask(\"log10ages\", 7 * dimensionless, \"<\", label=\"linecont\")"
   ]
  },
  {
   "cell_type": "markdown",
   "metadata": {},
   "source": [
    "Here we've just added a filter for only young stars for the nebular component. Notice however, that we have had to supply units alongside our threshold, this is required to maintain consistency across objects but also enables arbitrary units to be used for a threshold.\n",
    "\n",
    "We can see the effect of this in the emission model tree."
   ]
  },
  {
   "cell_type": "code",
   "execution_count": null,
   "metadata": {},
   "outputs": [],
   "source": [
    "model.plot_emission_tree()"
   ]
  },
  {
   "cell_type": "markdown",
   "metadata": {},
   "source": [
    "\n",
    "\n",
    "You can change the grid (here we'll just pass the same grid again for demonstration purposes)."
   ]
  },
  {
   "cell_type": "code",
   "execution_count": null,
   "metadata": {},
   "outputs": [],
   "source": [
    "model.set_grid(grid, set_all=True)"
   ]
  },
  {
   "cell_type": "markdown",
   "metadata": {},
   "source": [
    "Notice that we've changed the grid for the whole model by passing `set_all=True`.\n",
    "\n",
    "We can also change dust properties but for these we don't have to do each individually and can instead call a single method."
   ]
  },
  {
   "cell_type": "code",
   "execution_count": null,
   "metadata": {},
   "outputs": [],
   "source": [
    "model.set_dust_props(\n",
    "    dust_curve=PowerLaw(slope=-0.7),\n",
    "    apply_dust_to=model[\"reprocessed\"],\n",
    "    tau_v=0.7,\n",
    "    label=\"attenuated\",\n",
    ")"
   ]
  },
  {
   "cell_type": "markdown",
   "metadata": {},
   "source": [
    "Notice we've used `model[\"reprocessed\"]` to access the reprocessed model that's already part of the `EmissionModel` in the above, an `EmissionModel` supports dicitonary like key indexing to extract models by label.\n",
    "\n",
    "As well as just changing the properties of existing models we can also replace a model with one or more models. As an example, below we will swap out the attenuation model with two separate attenuation models which apply different dust curves to the old and young population (for further information on defining your own models see below)."
   ]
  },
  {
   "cell_type": "code",
   "execution_count": null,
   "metadata": {},
   "outputs": [],
   "source": [
    "from synthesizer.emission_models import EmissionModel\n",
    "\n",
    "# Define the models well replace attenuate with\n",
    "young_attenuated = EmissionModel(\n",
    "    \"young_attenuated\",\n",
    "    dust_curve=PowerLaw(slope=-1),\n",
    "    apply_dust_to=model[\"reprocessed\"],\n",
    "    tau_v=0.7,\n",
    "    mask_attr=\"log10ages\",\n",
    "    mask_thresh=7 * dimensionless,\n",
    "    mask_op=\"<=\",\n",
    ")\n",
    "old_attenuated = EmissionModel(\n",
    "    \"old_attenuated\",\n",
    "    dust_curve=PowerLaw(slope=-1),\n",
    "    apply_dust_to=model[\"reprocessed\"],\n",
    "    tau_v=0.7 * 0.67,\n",
    "    mask_attr=\"log10ages\",\n",
    "    mask_thresh=7 * dimensionless,\n",
    "    mask_op=\">\",\n",
    ")\n",
    "\n",
    "model.replace_model(\"attenuated\", young_attenuated, old_attenuated)\n",
    "model.plot_emission_tree()"
   ]
  },
  {
   "cell_type": "markdown",
   "metadata": {},
   "source": [
    "Although not shown here explicitly, passing a single model for the replacement will just swap out the model. "
   ]
  }
 ],
 "metadata": {},
 "nbformat": 4,
 "nbformat_minor": 2
}
