{
 "cells": [
  {
   "cell_type": "markdown",
   "metadata": {},
   "source": [
    "\n",
    "# Modifying a model\n",
    "\n",
    "Of course, a premade model may not behave in the exact way you need.\n",
    "You could [make your own model](custom_models.ipynb) from scratch, but it may often be simpler to modify the properties of an existing model to match your needs.\n",
    "Below we demonstrate this using the setter methods on various properties.\n",
    "These methods, called on a specific element of an ``EmissionModel``, can change or add to various properties. \n",
    "\n",
    "First we load some common modules and a grid."
   ]
  },
  {
   "cell_type": "code",
   "execution_count": null,
   "metadata": {},
   "outputs": [],
   "source": [
    "from unyt import dimensionless, kelvin\n",
    "\n",
    "from synthesizer.emission_models import TotalEmission\n",
    "from synthesizer.emission_models.attenuation import PowerLaw\n",
    "from synthesizer.emission_models.dust.emission import Blackbody\n",
    "from synthesizer.grid import Grid\n",
    "\n",
    "# Get the grid which we'll need for extraction\n",
    "grid_dir = \"../../../tests/test_grid\"\n",
    "grid_name = \"test_grid\"\n",
    "grid = Grid(grid_name, grid_dir=grid_dir)"
   ]
  },
  {
   "cell_type": "markdown",
   "metadata": {},
   "source": [
    "\n",
    "## Adding a mask\n",
    "\n",
    "We can add any number of masks to any model in the emission tree.\n",
    "Below we add a filter for young stars ($< 10^7$ Myr) to the nebular components (``nebular_continuum`` and ``linecont``).\n",
    "We've used the dictionary look up syntax to extract the models we want to update, and then added the mask."
   ]
  },
  {
   "cell_type": "code",
   "execution_count": null,
   "metadata": {},
   "outputs": [],
   "source": [
    "# Make a model\n",
    "model = TotalEmission(\n",
    "    grid=grid,\n",
    "    dust_curve=PowerLaw(slope=-1),\n",
    "    tau_v=0.33,\n",
    "    fesc=0.2,\n",
    "    fesc_ly_alpha=0.7,\n",
    "    dust_emission_model=Blackbody(temperature=100 * kelvin),\n",
    ")\n",
    "\n",
    "model[\"nebular_continuum\"].add_mask(\"log10ages\", \"<\", 7 * dimensionless)\n",
    "model[\"linecont\"].add_mask(\"log10ages\", \"<\", 7 * dimensionless)"
   ]
  },
  {
   "cell_type": "markdown",
   "metadata": {},
   "source": [
    "You will have seen in previous sections that we can instantiate a model with a mask, however this acts globally on all child models.\n",
    "If we want to have multiple masks, we must apply them to individual models as shown above.\n",
    "\n",
    "Notice that we have supplied units with our age threshold; this is required to maintain consistency across objects while enabling arbitrary units. \n",
    "\n",
    "We can see the effect of applying this mask in the emission model tree."
   ]
  },
  {
   "cell_type": "code",
   "execution_count": null,
   "metadata": {},
   "outputs": [],
   "source": [
    "model.plot_emission_tree()"
   ]
  },
  {
   "cell_type": "markdown",
   "metadata": {},
   "source": [
    "## Changing Properties\n",
    "\n",
    "Any property of a model can be changed by calling its setter (any method of the form ``set_<attr>``).\n",
    "\n",
    "For most attributes, simply index the model with the label of the child model we want to modify and call the appropriate setter.\n",
    "For example, lets change the escape fraction of the nebular continuum model."
   ]
  },
  {
   "cell_type": "code",
   "execution_count": null,
   "metadata": {},
   "outputs": [],
   "source": [
    "model[\"nebular_continuum\"].set_fesc(0.3)\n",
    "print(model)"
   ]
  },
  {
   "cell_type": "markdown",
   "metadata": {},
   "source": [
    "### Changing properties on  all models\n",
    "\n",
    "For some properties you might want to change it on every child model; these setters allow you to pass ``set_all=True``.\n",
    "\n",
    "Here we'll swap the grid using ``set_grid``.\n",
    "We just pass the same grid here for demonstration purposes, and change the grid on all extraction models."
   ]
  },
  {
   "cell_type": "code",
   "execution_count": null,
   "metadata": {},
   "outputs": [],
   "source": [
    "model.set_grid(grid, set_all=True)"
   ]
  },
  {
   "cell_type": "markdown",
   "metadata": {},
   "source": [
    "### Changing dust attenuation\n",
    "\n",
    "To change dust properties synthesizer provides a single setter, ``set_dust_props``.\n",
    "This defines the model the attenuation is applied to (``apply_dust_to``), and can optionally change a number of dust properties, such as the ``dust_curve`` and the `tau_v`.\n"
   ]
  },
  {
   "cell_type": "code",
   "execution_count": null,
   "metadata": {},
   "outputs": [],
   "source": [
    "model[\"attenuated\"].set_dust_props(\n",
    "    dust_curve=PowerLaw(slope=-0.7),\n",
    "    apply_dust_to=model[\"reprocessed\"],\n",
    "    tau_v=0.7,\n",
    ")"
   ]
  },
  {
   "cell_type": "markdown",
   "metadata": {},
   "source": [
    "## Replacing models\n",
    "\n",
    "Instead of changing the properties we can also completely replace a model with one or more models.\n",
    "\n",
    "Below we swap out the attenuation model with two separate attenuation models, which apply different dust curves to the old and young stellar populations (for more information on defining your own models see the [custom model docs](custom_models.ipynb))."
   ]
  },
  {
   "cell_type": "code",
   "execution_count": null,
   "metadata": {},
   "outputs": [],
   "source": [
    "from synthesizer.emission_models import EmissionModel\n",
    "\n",
    "# Define the models well replace attenuate with\n",
    "young_attenuated = EmissionModel(\n",
    "    \"young_attenuated\",\n",
    "    dust_curve=PowerLaw(slope=-1),\n",
    "    apply_dust_to=model[\"reprocessed\"],\n",
    "    tau_v=0.7,\n",
    "    mask_attr=\"log10ages\",\n",
    "    mask_thresh=7 * dimensionless,\n",
    "    mask_op=\"<=\",\n",
    "    emitter=\"stellar\",\n",
    ")\n",
    "old_attenuated = EmissionModel(\n",
    "    \"old_attenuated\",\n",
    "    dust_curve=PowerLaw(slope=-1),\n",
    "    apply_dust_to=model[\"reprocessed\"],\n",
    "    tau_v=0.7 * 0.67,\n",
    "    mask_attr=\"log10ages\",\n",
    "    mask_thresh=7 * dimensionless,\n",
    "    mask_op=\">\",\n",
    "    emitter=\"stellar\",\n",
    ")\n",
    "\n",
    "model.replace_model(\"attenuated\", young_attenuated, old_attenuated)\n",
    "model.plot_emission_tree()"
   ]
  },
  {
   "cell_type": "markdown",
   "metadata": {},
   "source": [
    "Notice how passing multiple models after the label has also introduced a combination model using the original label. Had we only passed a single model this would have instead replaced the model entirely.\n",
    "\n",
    "## Relabel model\n",
    "\n",
    "To change the label associated to a model we can use the ``relabel`` method. "
   ]
  },
  {
   "cell_type": "code",
   "execution_count": null,
   "metadata": {},
   "outputs": [],
   "source": [
    "model.relabel(\"attenuated\", \"dust_attenuated\")\n",
    "model.plot_emission_tree()"
   ]
  },
  {
   "cell_type": "markdown",
   "metadata": {},
   "source": [
    "## Fixing parameters\n",
    "\n",
    "When an emission model is used in a ``get_spectra`` method any parameters the model does not define will be extracted from the emitter. If you would like to give any of the values fixed values you can use the ``fix_parameters`` setter. This can also be done at instantiation (see the custom models [docs](custom_models.ipynb))."
   ]
  },
  {
   "cell_type": "code",
   "execution_count": null,
   "metadata": {},
   "outputs": [],
   "source": [
    "model[\"dust_attenuated\"].fix_parameters(tau_v=0.67)"
   ]
  }
 ],
 "metadata": {},
 "nbformat": 4,
 "nbformat_minor": 2
}
