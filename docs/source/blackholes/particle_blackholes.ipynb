{
 "cells": [
  {
   "cell_type": "markdown",
   "id": "659dcb3a-891b-4271-9073-d02efbeb14d5",
   "metadata": {},
   "source": [
    "# Blackholes\n",
    "\n",
    "Synthesizer has a collection of routines allowing us to also model the spectral energy distributions of black holes (i.e. AGN) and combine their emission with the emission of others galaxy components (i.e. stellar emission).\n",
    "\n",
    "## Particle blackholes"
   ]
  },
  {
   "cell_type": "code",
   "execution_count": 1,
   "id": "d2d7676a",
   "metadata": {},
   "outputs": [],
   "source": [
    "import numpy as np\n",
    "import matplotlib.pyplot as plt\n",
    "from unyt import Msun, yr, Angstrom\n",
    "\n",
    "from synthesizer.blackholes import UnifiedAGN\n",
    "from synthesizer.components import BlackholesComponent\n",
    "from synthesizer.particle import BlackHoles\n",
    "from synthesizer.particle import Gas\n",
    "from synthesizer import galaxy\n",
    "\n",
    "# Set a random number seed to ensure consistent results\n",
    "np.random.seed(42)"
   ]
  },
  {
   "attachments": {},
   "cell_type": "markdown",
   "id": "8327fd4d",
   "metadata": {},
   "source": [
    "### Creating Particle Blackholes\n",
    "\n",
    "Before generating some simple observational quantities from physical properties we first need to create a `BlackHoles` object. This object can be found in `synthesizer/particle/blackholes.py`. \n",
    "\n",
    "Lets create an instance of `BlackHoles` containing 4 fake black holes. To do so we can provide a number of optional keyword arguments but for now lets just provide their masses, metallicities, coordinates and accretion rates."
   ]
  },
  {
   "cell_type": "code",
   "execution_count": 2,
   "id": "79c4459f-4b18-43dd-922f-f20ad58bbfd6",
   "metadata": {
    "tags": []
   },
   "outputs": [],
   "source": [
    "# Make fake properties\n",
    "n = 4\n",
    "masses = np.full(n, 10**9)  # Msun\n",
    "coordinates = np.random.normal(0, 1.5, (n, 3))  # cMpc\n",
    "accretion_rates = np.full(n, 10)  # Msun / yr\n",
    "metallicities = np.full(n, 0.01)  \n",
    "\n",
    "# And get the black holes object\n",
    "bh = BlackHoles(masses=masses, coordinates=coordinates, accretion_rates=accretion_rates, metallicities=metallicities)"
   ]
  },
  {
   "attachments": {},
   "cell_type": "markdown",
   "id": "155a2514",
   "metadata": {},
   "source": [
    "For some emission models we require an inclination. This could, in principle be calculated from the simulation, but for now we can use an in-built method to generate random inclinations:"
   ]
  },
  {
   "cell_type": "code",
   "execution_count": 3,
   "id": "ed4a9c3b",
   "metadata": {},
   "outputs": [
    {
     "name": "stdout",
     "output_type": "stream",
     "text": [
      "[0.4779026  0.82428548 0.67849765 0.45746166] degree\n"
     ]
    }
   ],
   "source": [
    "bh.calculate_random_inclination()\n",
    "print(bh.inclination)"
   ]
  },
  {
   "attachments": {},
   "cell_type": "markdown",
   "id": "33201117",
   "metadata": {},
   "source": [
    "#### Blackhole properties"
   ]
  },
  {
   "attachments": {},
   "cell_type": "markdown",
   "id": "84687e7f",
   "metadata": {},
   "source": [
    "On initialisation this automatically calculates a handful of properties if they are provided. While `particle.BlackHoles` need to be initialised with `masses` and `accretion_rates` for `parametric.BlackHoles` we have more flexibility (see below)"
   ]
  },
  {
   "attachments": {},
   "cell_type": "markdown",
   "id": "d9f5e157",
   "metadata": {},
   "source": [
    "\n",
    "For example, if `masses` and `accretion_rates` are provided then `bolometric_luminosities` ($ L_{\\rm \\bullet, bol} = \\epsilon_{r}\\dot{M}_{\\bullet}c^{2} $) are automatically calcualted. Note that the radiative efficency (`epsilon`) defaults to 0.1 but can be set to an array. "
   ]
  },
  {
   "cell_type": "code",
   "execution_count": 4,
   "id": "75ff6769",
   "metadata": {},
   "outputs": [
    {
     "data": {
      "text/plain": [
       "unyt_array([5.66297517e+46, 5.66297517e+46, 5.66297517e+46, 5.66297517e+46], 'erg/s')"
      ]
     },
     "execution_count": 4,
     "metadata": {},
     "output_type": "execute_result"
    }
   ],
   "source": [
    "bh.bolometric_luminosities"
   ]
  },
  {
   "cell_type": "code",
   "execution_count": 5,
   "id": "8e5a8bd4",
   "metadata": {},
   "outputs": [
    {
     "data": {
      "text/plain": [
       "unyt_array([0.45051513, 0.45051513, 0.45051513, 0.45051513], '(dimensionless)')"
      ]
     },
     "execution_count": 5,
     "metadata": {},
     "output_type": "execute_result"
    }
   ],
   "source": [
    "bh.eddington_ratio"
   ]
  },
  {
   "cell_type": "code",
   "execution_count": 6,
   "id": "0d17f748",
   "metadata": {},
   "outputs": [
    {
     "name": "stdout",
     "output_type": "stream",
     "text": [
      "<synthesizer.particle.blackholes.BlackHoles object at 0x105aeeef0>\n"
     ]
    }
   ],
   "source": [
    "print(bh)"
   ]
  },
  {
   "attachments": {},
   "cell_type": "markdown",
   "id": "da03d340",
   "metadata": {},
   "source": [
    "### Blackhole spectra and lines\n",
    "\n",
    "Blackhole spectra (and lines) can be generated by combining the `BlackHoles` object with an emission model. An emission model translates the physical properties of the blackhole(s) (e.g. `mass`, `accretion_rate`, etc.) to an spectral energy distribution. These models are described in more detail in the associated workbook."
   ]
  },
  {
   "cell_type": "code",
   "execution_count": 7,
   "id": "e54b40c9",
   "metadata": {},
   "outputs": [
    {
     "name": "stdout",
     "output_type": "stream",
     "text": [
      "mass | provided\n",
      "accretion_rate_eddington | provided\n",
      "cosine_inclination | provided\n",
      "metallicity | provided\n",
      "ionisation_parameter_blr | not provided\n",
      "hydrogen_density_blr | not provided\n",
      "covering_fraction_blr | not provided\n",
      "svelocity_dispersion_blr | not provided\n",
      "ionisation_parameter_nlr | not provided\n",
      "hydrogen_density_nlr | not provided\n",
      "covering_fraction_nlr | not provided\n",
      "velocity_dispersion_nlr | not provided\n",
      "theta_torus | not provided\n",
      "{'mass': array([1000000000, 1000000000, 1000000000, 1000000000]), 'accretion_rate_eddington': array([0.45051513, 0.45051513, 0.45051513, 0.45051513]), 'cosine_inclination': array([0.99996521, 0.99989652, 0.99992988, 0.99996813]), 'metallicity': array([0.01, 0.01, 0.01, 0.01])}\n"
     ]
    },
    {
     "name": "stderr",
     "output_type": "stream",
     "text": [
      "/Users/sw376/Dropbox/Research/projects/synthesizer/venv/lib/python3.10/site-packages/unyt/array.py:1813: RuntimeWarning: overflow encountered in exp\n",
      "  out_arr = func(np.asarray(inp), out=out_func, **kwargs)\n"
     ]
    }
   ],
   "source": [
    "# define the emission model\n",
    "grid_dir = '/Users/sw376/Dropbox/Research/data/synthesizer/grids/dev'\n",
    "emission_model = UnifiedAGN(disc_model='agnsed', grid_dir=grid_dir)\n",
    "\n",
    "# generate the spectra\n",
    "# at the moment this produces a list of dictionaries, but that's not what we want. Instead we want a n-dimensional Sed object for each component.\n",
    "spectra = bh.get_spectra(emission_model)\n",
    "\n"
   ]
  },
  {
   "cell_type": "code",
   "execution_count": 8,
   "id": "d0d1746f",
   "metadata": {},
   "outputs": [
    {
     "name": "stderr",
     "output_type": "stream",
     "text": [
      "/Users/sw376/Dropbox/Research/projects/synthesizer/venv/lib/python3.10/site-packages/unyt/array.py:1813: RuntimeWarning: divide by zero encountered in log10\n",
      "  out_arr = func(np.asarray(inp), out=out_func, **kwargs)\n"
     ]
    },
    {
     "data": {
      "image/png": "[encoded data removed]",
      "text/plain": [
       "<Figure size 640x480 with 1 Axes>"
      ]
     },
     "metadata": {},
     "output_type": "display_data"
    }
   ],
   "source": [
    "sed = spectra[0]['total']\n",
    "plt.plot(np.log10(sed.lam), np.log10(sed.luminosity))\n",
    "plt.ylim(np.max(np.log10(sed.luminosity))-4, np.max(np.log10(sed.luminosity))+0.2)\n",
    "plt.xlim([2,6])\n",
    "plt.show()"
   ]
  },
  {
   "cell_type": "markdown",
   "id": "2f86e685",
   "metadata": {},
   "source": [
    "#### Calculating black hole metallicity\n",
    "\n",
    "If we want to calculate emission from the black hole we will need to know the metallicity of the emission regions surrounding the black hole. Above we could have passed an array of metallicities at instantiation but most of the time we will not know ahead of time what these values should be. Instead we can use the gas surrounding the black hole to calculate what this metallicity is. To do this we need to first create a `Galaxy` with both a `Gas` component and `BlackHoles`, again using fake data."
   ]
  },
  {
   "cell_type": "code",
   "execution_count": 9,
   "id": "e384907e",
   "metadata": {},
   "outputs": [],
   "source": [
    "# # Make fake gas properties\n",
    "# ngas = 200\n",
    "# ms = np.full(ngas, 10 ** 6.5)  # Msun\n",
    "# pos = np.random.normal(0, 1.5, (ngas, 3))  # cMpc\n",
    "# hsml = np.full(ngas, 0.75)  # cMpc\n",
    "# metals = np.full(ngas, 0.01)\n",
    "\n",
    "# # And make the gas object\n",
    "# gas = Gas(masses=ms, metallicities=metals, coordinates=pos, smoothing_lengths=hsml)\n",
    "\n",
    "# # And now create the galaxy \n",
    "# galaxy = galaxy(stars=None, gas=gas, black_holes=bh)"
   ]
  },
  {
   "cell_type": "markdown",
   "id": "02dc7334",
   "metadata": {},
   "source": [
    "Now we have the galaxy we can use `galaxy.calculate_black_hole_metallicity()` to calculate the black holes' metallicity. This method will find all gas particles with smoothing lengths that intersect the black hole and calculate the mass weighted average of their metallicity. If a black hole does not find any gas neighbours then a default metallicity is set instead, by default this is solar metallicity (0.012) but can be overwritten by passing a new `default_metallicity` as shown below."
   ]
  },
  {
   "cell_type": "code",
   "execution_count": 10,
   "id": "42abc9ec",
   "metadata": {},
   "outputs": [],
   "source": [
    "# galaxy.calculate_black_hole_metallicity(default_metallicity=0.07)\n",
    "# print(\"Z_BH =\", galaxy.black_holes.metallicities)"
   ]
  }
 ],
 "metadata": {
  "kernelspec": {
   "display_name": "Python 3 (ipykernel)",
   "language": "python",
   "name": "python3"
  },
  "language_info": {
   "codemirror_mode": {
    "name": "ipython",
    "version": 3
   },
   "file_extension": ".py",
   "mimetype": "text/x-python",
   "name": "python",
   "nbconvert_exporter": "python",
   "pygments_lexer": "ipython3",
   "version": "3.10.11"
  },
  "vscode": {
   "interpreter": {
    "hash": "3fbdfee1eda89f517d14c65aaeb395605ea48cc827c54c8ae1828e532ec42817"
   }
  }
 },
 "nbformat": 4,
 "nbformat_minor": 5
}
