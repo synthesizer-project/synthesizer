{
 "cells": [
  {
   "cell_type": "markdown",
   "id": "659dcb3a-891b-4271-9073-d02efbeb14d5",
   "metadata": {},
   "source": [
    "# Blackholes\n",
    "\n",
    "Synthesizer has a collection of routines allowing us to also model the spectral energy distributions of black holes (i.e. AGN) and combine their emission with the emission of others galaxy components (i.e. stellar emission)."
   ]
  },
  {
   "cell_type": "code",
   "execution_count": 2,
   "id": "f9eaa1ab",
   "metadata": {},
   "outputs": [],
   "source": [
    "import numpy as np\n",
    "import matplotlib.pyplot as plt\n",
    "from unyt import Msun, yr, Angstrom\n",
    "\n",
    "from synthesizer.particle.blackholes import BlackHoles"
   ]
  },
  {
   "cell_type": "markdown",
   "id": "8327fd4d",
   "metadata": {},
   "source": [
    "## Creating a black hole\n",
    "\n",
    "Before generating some simple observational quantities from physical properties we first need to create a `BlackHoles` object. This object can be found in `synthesizer/particle/blackholes.py`. \n",
    "\n",
    "Lets create an instance of `BlackHoles` containing 10 fake black holes. To do so we can provide a number of optional keyword arguments but for now lets just provide their masses, coordinates and accretion rates."
   ]
  },
  {
   "cell_type": "code",
   "execution_count": 3,
   "id": "79c4459f-4b18-43dd-922f-f20ad58bbfd6",
   "metadata": {
    "tags": []
   },
   "outputs": [
    {
     "ename": "UnitConversionError",
     "evalue": "Cannot convert between 'kg**(1/4)/yr**(1/4)' (dim '(mass)**(1/4)/(time)**(1/4)') and 'K' (dim '(temperature)').",
     "output_type": "error",
     "traceback": [
      "\u001b[0;31m---------------------------------------------------------------------------\u001b[0m",
      "\u001b[0;31mUnitConversionError\u001b[0m                       Traceback (most recent call last)",
      "Cell \u001b[0;32mIn[3], line 1\u001b[0m\n\u001b[0;32m----> 1\u001b[0m bh \u001b[38;5;241m=\u001b[39m \u001b[43mBlackHoles\u001b[49m\u001b[43m(\u001b[49m\u001b[43mmasses\u001b[49m\u001b[38;5;241;43m=\u001b[39;49m\u001b[43mnp\u001b[49m\u001b[38;5;241;43m.\u001b[39;49m\u001b[43mfull\u001b[49m\u001b[43m(\u001b[49m\u001b[38;5;241;43m10\u001b[39;49m\u001b[43m,\u001b[49m\u001b[43m \u001b[49m\u001b[38;5;241;43m10\u001b[39;49m\u001b[38;5;241;43m*\u001b[39;49m\u001b[38;5;241;43m*\u001b[39;49m\u001b[38;5;241;43m7\u001b[39;49m\u001b[43m)\u001b[49m\u001b[43m,\u001b[49m\u001b[43m \u001b[49m\u001b[43mcoordinates\u001b[49m\u001b[38;5;241;43m=\u001b[39;49m\u001b[43mnp\u001b[49m\u001b[38;5;241;43m.\u001b[39;49m\u001b[43mrandom\u001b[49m\u001b[38;5;241;43m.\u001b[39;49m\u001b[43mnormal\u001b[49m\u001b[43m(\u001b[49m\u001b[38;5;241;43m0\u001b[39;49m\u001b[43m,\u001b[49m\u001b[43m \u001b[49m\u001b[38;5;241;43m1.5\u001b[39;49m\u001b[43m,\u001b[49m\u001b[43m \u001b[49m\u001b[43m(\u001b[49m\u001b[38;5;241;43m10\u001b[39;49m\u001b[43m,\u001b[49m\u001b[43m \u001b[49m\u001b[38;5;241;43m3\u001b[39;49m\u001b[43m)\u001b[49m\u001b[43m)\u001b[49m\u001b[43m,\u001b[49m\n\u001b[1;32m      2\u001b[0m \u001b[43m               \u001b[49m\u001b[43maccretion_rate\u001b[49m\u001b[38;5;241;43m=\u001b[39;49m\u001b[43mnp\u001b[49m\u001b[38;5;241;43m.\u001b[39;49m\u001b[43mfull\u001b[49m\u001b[43m(\u001b[49m\u001b[38;5;241;43m10\u001b[39;49m\u001b[43m,\u001b[49m\u001b[43m \u001b[49m\u001b[38;5;241;43m10\u001b[39;49m\u001b[43m)\u001b[49m\u001b[43m)\u001b[49m\n",
      "File \u001b[0;32m~/Documents/University/Synthesizer/synthesizer-env/lib/python3.10/site-packages/synthesizer/particle/blackholes.py:108\u001b[0m, in \u001b[0;36mBlackHoles.__init__\u001b[0;34m(self, masses, metallicities, redshift, accretion_rate, coordinates, velocities, softening_length)\u001b[0m\n\u001b[1;32m    105\u001b[0m \u001b[38;5;28mself\u001b[39m\u001b[38;5;241m.\u001b[39mbol_luminosity \u001b[38;5;241m=\u001b[39m \u001b[38;5;28;01mNone\u001b[39;00m\n\u001b[1;32m    107\u001b[0m \u001b[38;5;66;03m# Calculate the big bump temperature\u001b[39;00m\n\u001b[0;32m--> 108\u001b[0m \u001b[38;5;28;43mself\u001b[39;49m\u001b[38;5;241;43m.\u001b[39;49m\u001b[43mbb_temperature\u001b[49m \u001b[38;5;241m=\u001b[39m \u001b[38;5;241m2.24E9\u001b[39m \u001b[38;5;241m*\u001b[39m \\\n\u001b[1;32m    109\u001b[0m     \u001b[38;5;28mself\u001b[39m\u001b[38;5;241m.\u001b[39maccretion_rate \u001b[38;5;241m*\u001b[39m\u001b[38;5;241m*\u001b[39m (\u001b[38;5;241m1\u001b[39m \u001b[38;5;241m/\u001b[39m \u001b[38;5;241m4\u001b[39m) \u001b[38;5;241m*\u001b[39m \u001b[38;5;28mself\u001b[39m\u001b[38;5;241m.\u001b[39mmasses \u001b[38;5;241m*\u001b[39m \u001b[38;5;241m-\u001b[39m\u001b[38;5;241m0.5\u001b[39m\n\u001b[1;32m    111\u001b[0m \u001b[38;5;66;03m# The metallicity of the region surrounding the black hole.\u001b[39;00m\n\u001b[1;32m    112\u001b[0m \u001b[38;5;28mself\u001b[39m\u001b[38;5;241m.\u001b[39mmetallicities \u001b[38;5;241m=\u001b[39m metallicities\n",
      "File \u001b[0;32m~/Documents/University/Synthesizer/synthesizer-env/lib/python3.10/site-packages/synthesizer/units.py:343\u001b[0m, in \u001b[0;36mQuantity.__set__\u001b[0;34m(self, obj, value)\u001b[0m\n\u001b[1;32m    340\u001b[0m \u001b[38;5;28;01mif\u001b[39;00m \u001b[38;5;28misinstance\u001b[39m(value, unyt_quantity) \u001b[38;5;129;01mor\u001b[39;00m \u001b[38;5;28misinstance\u001b[39m(value, unyt_array):\n\u001b[1;32m    341\u001b[0m     \u001b[38;5;28;01mif\u001b[39;00m (value\u001b[38;5;241m.\u001b[39munits \u001b[38;5;241m!=\u001b[39m \u001b[38;5;28mgetattr\u001b[39m(\u001b[38;5;28mself\u001b[39m\u001b[38;5;241m.\u001b[39munits, \u001b[38;5;28mself\u001b[39m\u001b[38;5;241m.\u001b[39mpublic_name) \u001b[38;5;129;01mand\u001b[39;00m\n\u001b[1;32m    342\u001b[0m         value\u001b[38;5;241m.\u001b[39munits \u001b[38;5;241m!=\u001b[39m dimensionless):\n\u001b[0;32m--> 343\u001b[0m         value \u001b[38;5;241m=\u001b[39m \u001b[43mvalue\u001b[49m\u001b[38;5;241;43m.\u001b[39;49m\u001b[43mto\u001b[49m\u001b[43m(\u001b[49m\u001b[38;5;28;43mgetattr\u001b[39;49m\u001b[43m(\u001b[49m\u001b[38;5;28;43mself\u001b[39;49m\u001b[38;5;241;43m.\u001b[39;49m\u001b[43munits\u001b[49m\u001b[43m,\u001b[49m\u001b[43m \u001b[49m\u001b[38;5;28;43mself\u001b[39;49m\u001b[38;5;241;43m.\u001b[39;49m\u001b[43mpublic_name\u001b[49m\u001b[43m)\u001b[49m\u001b[43m)\u001b[49m\u001b[38;5;241m.\u001b[39mvalue\n\u001b[1;32m    344\u001b[0m     \u001b[38;5;28;01melse\u001b[39;00m:\n\u001b[1;32m    345\u001b[0m         value \u001b[38;5;241m=\u001b[39m value\u001b[38;5;241m.\u001b[39mvalue\n",
      "File \u001b[0;32m~/Documents/University/Synthesizer/synthesizer-env/lib/python3.10/site-packages/unyt/array.py:930\u001b[0m, in \u001b[0;36munyt_array.to\u001b[0;34m(self, units, equivalence, **kwargs)\u001b[0m\n\u001b[1;32m    888\u001b[0m \u001b[38;5;28;01mdef\u001b[39;00m \u001b[38;5;21mto\u001b[39m(\u001b[38;5;28mself\u001b[39m, units, equivalence\u001b[38;5;241m=\u001b[39m\u001b[38;5;28;01mNone\u001b[39;00m, \u001b[38;5;241m*\u001b[39m\u001b[38;5;241m*\u001b[39mkwargs):\n\u001b[1;32m    889\u001b[0m \u001b[38;5;250m    \u001b[39m\u001b[38;5;124;03m\"\"\"\u001b[39;00m\n\u001b[1;32m    890\u001b[0m \u001b[38;5;124;03m    Creates a copy of this array with the data converted to the\u001b[39;00m\n\u001b[1;32m    891\u001b[0m \u001b[38;5;124;03m    supplied units, and returns it.\u001b[39;00m\n\u001b[0;32m   (...)\u001b[0m\n\u001b[1;32m    928\u001b[0m \u001b[38;5;124;03m    898755178736817.6 J\u001b[39;00m\n\u001b[1;32m    929\u001b[0m \u001b[38;5;124;03m    \"\"\"\u001b[39;00m\n\u001b[0;32m--> 930\u001b[0m     \u001b[38;5;28;01mreturn\u001b[39;00m \u001b[38;5;28;43mself\u001b[39;49m\u001b[38;5;241;43m.\u001b[39;49m\u001b[43min_units\u001b[49m\u001b[43m(\u001b[49m\u001b[43munits\u001b[49m\u001b[43m,\u001b[49m\u001b[43m \u001b[49m\u001b[43mequivalence\u001b[49m\u001b[38;5;241;43m=\u001b[39;49m\u001b[43mequivalence\u001b[49m\u001b[43m,\u001b[49m\u001b[43m \u001b[49m\u001b[38;5;241;43m*\u001b[39;49m\u001b[38;5;241;43m*\u001b[39;49m\u001b[43mkwargs\u001b[49m\u001b[43m)\u001b[49m\n",
      "File \u001b[0;32m~/Documents/University/Synthesizer/synthesizer-env/lib/python3.10/site-packages/unyt/array.py:857\u001b[0m, in \u001b[0;36munyt_array.in_units\u001b[0;34m(self, units, equivalence, **kwargs)\u001b[0m\n\u001b[1;32m    855\u001b[0m \u001b[38;5;28;01melse\u001b[39;00m:\n\u001b[1;32m    856\u001b[0m     new_units \u001b[38;5;241m=\u001b[39m units\n\u001b[0;32m--> 857\u001b[0m     (conversion_factor, offset) \u001b[38;5;241m=\u001b[39m \u001b[38;5;28;43mself\u001b[39;49m\u001b[38;5;241;43m.\u001b[39;49m\u001b[43munits\u001b[49m\u001b[38;5;241;43m.\u001b[39;49m\u001b[43mget_conversion_factor\u001b[49m\u001b[43m(\u001b[49m\n\u001b[1;32m    858\u001b[0m \u001b[43m        \u001b[49m\u001b[43mnew_units\u001b[49m\u001b[43m,\u001b[49m\u001b[43m \u001b[49m\u001b[38;5;28;43mself\u001b[39;49m\u001b[38;5;241;43m.\u001b[39;49m\u001b[43mdtype\u001b[49m\n\u001b[1;32m    859\u001b[0m \u001b[43m    \u001b[49m\u001b[43m)\u001b[49m\n\u001b[1;32m    860\u001b[0m dsize \u001b[38;5;241m=\u001b[39m \u001b[38;5;28mmax\u001b[39m(\u001b[38;5;241m2\u001b[39m, \u001b[38;5;28mself\u001b[39m\u001b[38;5;241m.\u001b[39mdtype\u001b[38;5;241m.\u001b[39mitemsize)\n\u001b[1;32m    861\u001b[0m \u001b[38;5;28;01mif\u001b[39;00m \u001b[38;5;28mself\u001b[39m\u001b[38;5;241m.\u001b[39mdtype\u001b[38;5;241m.\u001b[39mkind \u001b[38;5;129;01min\u001b[39;00m (\u001b[38;5;124m\"\u001b[39m\u001b[38;5;124mu\u001b[39m\u001b[38;5;124m\"\u001b[39m, \u001b[38;5;124m\"\u001b[39m\u001b[38;5;124mi\u001b[39m\u001b[38;5;124m\"\u001b[39m):\n",
      "File \u001b[0;32m~/Documents/University/Synthesizer/synthesizer-env/lib/python3.10/site-packages/unyt/unit_object.py:694\u001b[0m, in \u001b[0;36mUnit.get_conversion_factor\u001b[0;34m(self, other_units, dtype)\u001b[0m\n\u001b[1;32m    667\u001b[0m \u001b[38;5;28;01mdef\u001b[39;00m \u001b[38;5;21mget_conversion_factor\u001b[39m(\u001b[38;5;28mself\u001b[39m, other_units, dtype\u001b[38;5;241m=\u001b[39m\u001b[38;5;28;01mNone\u001b[39;00m):\n\u001b[1;32m    668\u001b[0m \u001b[38;5;250m    \u001b[39m\u001b[38;5;124;03m\"\"\"Get the conversion factor and offset (if any) from one unit\u001b[39;00m\n\u001b[1;32m    669\u001b[0m \u001b[38;5;124;03m    to another\u001b[39;00m\n\u001b[1;32m    670\u001b[0m \n\u001b[0;32m   (...)\u001b[0m\n\u001b[1;32m    692\u001b[0m \u001b[38;5;124;03m    (1.7999999999999998, -31.999999999999886)\u001b[39;00m\n\u001b[1;32m    693\u001b[0m \u001b[38;5;124;03m    \"\"\"\u001b[39;00m\n\u001b[0;32m--> 694\u001b[0m     \u001b[38;5;28;01mreturn\u001b[39;00m \u001b[43m_get_conversion_factor\u001b[49m\u001b[43m(\u001b[49m\u001b[38;5;28;43mself\u001b[39;49m\u001b[43m,\u001b[49m\u001b[43m \u001b[49m\u001b[43mother_units\u001b[49m\u001b[43m,\u001b[49m\u001b[43m \u001b[49m\u001b[43mdtype\u001b[49m\u001b[43m)\u001b[49m\n",
      "File \u001b[0;32m~/Documents/University/Synthesizer/synthesizer-env/lib/python3.10/site-packages/unyt/unit_object.py:939\u001b[0m, in \u001b[0;36m_get_conversion_factor\u001b[0;34m(old_units, new_units, dtype)\u001b[0m\n\u001b[1;32m    916\u001b[0m \u001b[38;5;250m\u001b[39m\u001b[38;5;124;03m\"\"\"\u001b[39;00m\n\u001b[1;32m    917\u001b[0m \u001b[38;5;124;03mGet the conversion factor between two units of equivalent dimensions. This\u001b[39;00m\n\u001b[1;32m    918\u001b[0m \u001b[38;5;124;03mis the number you multiply data by to convert from values in `old_units` to\u001b[39;00m\n\u001b[0;32m   (...)\u001b[0m\n\u001b[1;32m    936\u001b[0m \n\u001b[1;32m    937\u001b[0m \u001b[38;5;124;03m\"\"\"\u001b[39;00m\n\u001b[1;32m    938\u001b[0m \u001b[38;5;28;01mif\u001b[39;00m old_units\u001b[38;5;241m.\u001b[39mdimensions \u001b[38;5;241m!=\u001b[39m new_units\u001b[38;5;241m.\u001b[39mdimensions:\n\u001b[0;32m--> 939\u001b[0m     \u001b[38;5;28;01mraise\u001b[39;00m UnitConversionError(\n\u001b[1;32m    940\u001b[0m         old_units, old_units\u001b[38;5;241m.\u001b[39mdimensions, new_units, new_units\u001b[38;5;241m.\u001b[39mdimensions\n\u001b[1;32m    941\u001b[0m     )\n\u001b[1;32m    942\u001b[0m old_basevalue \u001b[38;5;241m=\u001b[39m old_units\u001b[38;5;241m.\u001b[39mbase_value\n\u001b[1;32m    943\u001b[0m old_baseoffset \u001b[38;5;241m=\u001b[39m old_units\u001b[38;5;241m.\u001b[39mbase_offset\n",
      "\u001b[0;31mUnitConversionError\u001b[0m: Cannot convert between 'kg**(1/4)/yr**(1/4)' (dim '(mass)**(1/4)/(time)**(1/4)') and 'K' (dim '(temperature)')."
     ]
    }
   ],
   "source": [
    "bh = BlackHoles(masses=np.full(10, 10**7), coordinates=np.random.normal(0, 1.5, (10, 3)),\n",
    "               accretion_rate=np.full(10, 10))"
   ]
  },
  {
   "cell_type": "markdown",
   "id": "f77a08bf-109c-4b51-97dc-6c2fc200c6a1",
   "metadata": {},
   "source": [
    "#### Bolometric luminosities\n",
    "\n",
    "First, we might like to calculate the bolometric luminosity from an accretion rate, defined as:\n",
    "$ L_{\\rm \\bullet, bol} = \\epsilon_{r}\\dot{M}_{\\bullet}c^{2} $"
   ]
  },
  {
   "cell_type": "code",
   "execution_count": null,
   "id": "9845e7cd",
   "metadata": {},
   "outputs": [],
   "source": [
    "mdot = 1*Msun/yr # the accretion rate (is not a unyt_array then the code assume Msun/yr)\n",
    "epsilon = 0.1 # the radiative efficiency (by default =0.1)\n",
    "Lbol = blackholes.calculate_Lbol(mdot, epsilon=epsilon)\n",
    "Lbol.to('erg/s')"
   ]
  },
  {
   "cell_type": "markdown",
   "id": "ac30e785",
   "metadata": {},
   "source": [
    "#### Bigbump temperature\n",
    "\n",
    "The default AGN model used by `synthesizer` is the one built into the `cloudy` photoionisation code:\n",
    "\n",
    "$ T_{BB} = \\left ( \\frac{3c^{6}}{8\\pi6^{3}\\sigma_{SB}G^{2}} \\frac{\\dot{M}_{\\bullet}}{M^{2}_{\\bullet}} \\right )^{1/4}  = 2.24 \\times 10^{9} \\left ( \\frac{\\dot{M}_{\\bullet}}{M_{\\odot}\\,yr^{-1}} \\right )^{1/4} \\left ( \\frac{M_{\\bullet}}{M_{\\odot}} \\right )^{-1/2} $\n"
   ]
  },
  {
   "cell_type": "code",
   "execution_count": null,
   "id": "58d0bec2",
   "metadata": {},
   "outputs": [],
   "source": [
    "mbh = 1E8 * Msun\n",
    "TBB = blackholes.calculate_TBB(mbh, mdot)\n",
    "TBB"
   ]
  },
  {
   "cell_type": "markdown",
   "id": "fab300ad",
   "metadata": {},
   "source": [
    "## SED models"
   ]
  },
  {
   "cell_type": "markdown",
   "id": "220ddf6d",
   "metadata": {},
   "source": [
    "Like with modelling the SEDs of stellar populations, most of `synthesizer`'s blackhole SED modelling is enabled via grids pre-computed via the `cloudy` photoionisation code."
   ]
  },
  {
   "cell_type": "markdown",
   "id": "0549a4d0",
   "metadata": {},
   "source": [
    "#### Feltre et al. (2016) model\n",
    "\n",
    "One (slight) exception to this is the incident SED model used by Feltre et al. (2016) to model the NLRs of AGN. This is actually used by `synthesizer` to generate the incident SED for the creation of some grids but we can also explore the incident spectrum without loading the relevant grid. This model is a simple series of power-laws."
   ]
  },
  {
   "cell_type": "code",
   "execution_count": null,
   "id": "978623de",
   "metadata": {},
   "outputs": [],
   "source": [
    "bh = blackholes.Feltre16() # initialise an instance of the Feltre16 class\n",
    "alpha = -1\n",
    "lam = np.arange(10, 1000000, 1) * Angstrom # define a wavelength grid\n",
    "lnu = bh.incident(lam, alpha)\n",
    "plt.loglog(lam, lnu)"
   ]
  },
  {
   "cell_type": "markdown",
   "id": "26b3cf4a",
   "metadata": {},
   "source": [
    "## Parametric blackholes"
   ]
  },
  {
   "cell_type": "markdown",
   "id": "00d7139b",
   "metadata": {},
   "source": [
    "## Particle blackholes"
   ]
  }
 ],
 "metadata": {
  "kernelspec": {
   "display_name": "Python 3 (ipykernel)",
   "language": "python",
   "name": "python3"
  },
  "language_info": {
   "codemirror_mode": {
    "name": "ipython",
    "version": 3
   },
   "file_extension": ".py",
   "mimetype": "text/x-python",
   "name": "python",
   "nbconvert_exporter": "python",
   "pygments_lexer": "ipython3",
   "version": "3.10.4"
  },
  "vscode": {
   "interpreter": {
    "hash": "3fbdfee1eda89f517d14c65aaeb395605ea48cc827c54c8ae1828e532ec42817"
   }
  }
 },
 "nbformat": 4,
 "nbformat_minor": 5
}
