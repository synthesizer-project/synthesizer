{
 "cells": [
  {
   "attachments": {},
   "cell_type": "markdown",
   "id": "659dcb3a-891b-4271-9073-d02efbeb14d5",
   "metadata": {},
   "source": [
    "# Blackholes\n",
    "\n",
    "Synthesizer has a collection of routines allowing us to also model the spectral energy distributions of black holes (i.e. AGN)."
   ]
  },
  {
   "attachments": {},
   "cell_type": "markdown",
   "id": "8327fd4d",
   "metadata": {},
   "source": [
    "## Basic quantities\n",
    "\n",
    "Let's first look at generating some simple observational quantities from physical properties. This is achieved through some functions that are held in `synthesizer/blackholes.py`."
   ]
  },
  {
   "cell_type": "code",
   "execution_count": 9,
   "id": "79c4459f-4b18-43dd-922f-f20ad58bbfd6",
   "metadata": {
    "tags": []
   },
   "outputs": [],
   "source": [
    "import numpy as np\n",
    "from synthesizer import blackholes\n",
    "import matplotlib.pyplot as plt\n",
    "from unyt import Msun, yr, Angstrom"
   ]
  },
  {
   "attachments": {},
   "cell_type": "markdown",
   "id": "f77a08bf-109c-4b51-97dc-6c2fc200c6a1",
   "metadata": {},
   "source": [
    "#### Bolometric luminosities\n",
    "\n",
    "First, we might like to calculate the bolometric luminosity from an accretion rate, defined as:\n",
    "$ L_{\\rm \\bullet, bol} = \\epsilon_{r}\\dot{M}_{\\bullet}c^{2} $"
   ]
  },
  {
   "cell_type": "code",
   "execution_count": 10,
   "id": "9845e7cd",
   "metadata": {},
   "outputs": [
    {
     "data": {
      "text/plain": [
       "unyt_quantity(5.66297517e+45, 'erg/s')"
      ]
     },
     "execution_count": 10,
     "metadata": {},
     "output_type": "execute_result"
    }
   ],
   "source": [
    "mdot = 1*Msun/yr # the accretion rate (is not a unyt_array then the code assume Msun/yr)\n",
    "epsilon = 0.1 # the radiative efficiency (by default =0.1)\n",
    "Lbol = blackholes.calculate_Lbol(mdot, epsilon=epsilon)\n",
    "Lbol.to('erg/s')"
   ]
  },
  {
   "attachments": {},
   "cell_type": "markdown",
   "id": "ac30e785",
   "metadata": {},
   "source": [
    "#### Bigbump temperature\n",
    "\n",
    "The default AGN model used by `synthesizer` is the one built into the `cloudy` photoionisation code:\n",
    "\n",
    "$ T_{BB} = \\left ( \\frac{3c^{6}}{8\\pi6^{3}\\sigma_{SB}G^{2}} \\frac{\\dot{M}_{\\bullet}}{M^{2}_{\\bullet}} \\right )^{1/4}  = 2.24 \\times 10^{9} \\left ( \\frac{\\dot{M}_{\\bullet}}{M_{\\odot}\\,yr^{-1}} \\right )^{1/4} \\left ( \\frac{M_{\\bullet}}{M_{\\odot}} \\right )^{-1/2} $\n"
   ]
  },
  {
   "cell_type": "code",
   "execution_count": 11,
   "id": "58d0bec2",
   "metadata": {},
   "outputs": [
    {
     "data": {
      "text/plain": [
       "unyt_quantity(224000., 'K')"
      ]
     },
     "execution_count": 11,
     "metadata": {},
     "output_type": "execute_result"
    }
   ],
   "source": [
    "mbh = 1E8 * Msun\n",
    "TBB = blackholes.calculate_TBB(mbh, mdot)\n",
    "TBB"
   ]
  },
  {
   "attachments": {},
   "cell_type": "markdown",
   "id": "fab300ad",
   "metadata": {},
   "source": [
    "## SED models"
   ]
  },
  {
   "attachments": {},
   "cell_type": "markdown",
   "id": "220ddf6d",
   "metadata": {},
   "source": [
    "Like with modelling the SEDs of stellar populations, most of `synthesizer`'s blackhole SED modelling is enabled via grids pre-computed via the `cloudy` photoionisation code."
   ]
  },
  {
   "attachments": {},
   "cell_type": "markdown",
   "id": "0549a4d0",
   "metadata": {},
   "source": [
    "#### Feltre et al. (2016) model\n",
    "\n",
    "One (slight) exception to this is the incident SED model used by Feltre et al. (2016) to model the NLRs of AGN. This is actually used by `synthesizer` to generate the incident SED for the creation of some grids but we can also explore the incident spectrum without loading the relevant grid. This model is a simple series of power-laws."
   ]
  },
  {
   "cell_type": "code",
   "execution_count": 12,
   "id": "978623de",
   "metadata": {},
   "outputs": [
    {
     "data": {
      "text/plain": [
       "[<matplotlib.lines.Line2D at 0x173362f50>]"
      ]
     },
     "execution_count": 12,
     "metadata": {},
     "output_type": "execute_result"
    },
    {
     "data": {
      "image/png": "[encoded data removed]",
      "text/plain": [
       "<Figure size 640x480 with 1 Axes>"
      ]
     },
     "metadata": {},
     "output_type": "display_data"
    }
   ],
   "source": [
    "bh = blackholes.Feltre16() # initialise an instance of the Feltre16 class\n",
    "alpha = -1\n",
    "lam = np.arange(10, 1000000, 1) * Angstrom # define a wavelength grid\n",
    "lnu = bh.incident(lam, alpha)\n",
    "plt.loglog(lam, lnu)"
   ]
  },
  {
   "attachments": {},
   "cell_type": "markdown",
   "id": "26b3cf4a",
   "metadata": {},
   "source": [
    "## Parametric blackholes"
   ]
  },
  {
   "attachments": {},
   "cell_type": "markdown",
   "id": "00d7139b",
   "metadata": {},
   "source": [
    "## Particle blackholes"
   ]
  }
 ],
 "metadata": {
  "kernelspec": {
   "display_name": "venv",
   "language": "python",
   "name": "python3"
  },
  "language_info": {
   "codemirror_mode": {
    "name": "ipython",
    "version": 3
   },
   "file_extension": ".py",
   "mimetype": "text/x-python",
   "name": "python",
   "nbconvert_exporter": "python",
   "pygments_lexer": "ipython3",
   "version": "3.10.11"
  },
  "vscode": {
   "interpreter": {
    "hash": "3fbdfee1eda89f517d14c65aaeb395605ea48cc827c54c8ae1828e532ec42817"
   }
  }
 },
 "nbformat": 4,
 "nbformat_minor": 5
}
