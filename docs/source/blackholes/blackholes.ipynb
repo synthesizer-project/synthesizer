{
 "cells": [
  {
   "cell_type": "markdown",
   "id": "659dcb3a-891b-4271-9073-d02efbeb14d5",
   "metadata": {},
   "source": [
    "# Blackholes\n",
    "\n",
    "Synthesizer has a collection of routines allowing us to also model the spectral energy distributions of black holes (i.e. AGN) and combine their emission with the emission of others galaxy components (i.e. stellar emission).\n",
    "\n",
    "## Particle blackholes"
   ]
  },
  {
   "cell_type": "code",
   "execution_count": 3,
   "id": "d2d7676a",
   "metadata": {},
   "outputs": [],
   "source": [
    "import numpy as np\n",
    "import matplotlib.pyplot as plt\n",
    "from unyt import Msun, yr, Angstrom\n",
    "\n",
    "from synthesizer.particle.blackholes import BlackHoles\n",
    "from synthesizer.particle.gas import Gas\n",
    "from synthesizer.particle.galaxy import Galaxy\n",
    "\n",
    "# Set a random number seed to ensure consistent results\n",
    "np.random.seed(42)"
   ]
  },
  {
   "cell_type": "markdown",
   "id": "8327fd4d",
   "metadata": {},
   "source": [
    "### Creating a black hole\n",
    "\n",
    "Before generating some simple observational quantities from physical properties we first need to create a `BlackHoles` object. This object can be found in `synthesizer/particle/blackholes.py`. \n",
    "\n",
    "Lets create an instance of `BlackHoles` containing 10 fake black holes. To do so we can provide a number of optional keyword arguments but for now lets just provide their masses, coordinates and accretion rates."
   ]
  },
  {
   "cell_type": "code",
   "execution_count": 4,
   "id": "79c4459f-4b18-43dd-922f-f20ad58bbfd6",
   "metadata": {
    "tags": []
   },
   "outputs": [
    {
     "ename": "AttributeError",
     "evalue": "'BlackHoles' object has no attribute '_coordinates'",
     "output_type": "error",
     "traceback": [
      "\u001b[0;31m---------------------------------------------------------------------------\u001b[0m",
      "\u001b[0;31mAttributeError\u001b[0m                            Traceback (most recent call last)",
      "Cell \u001b[0;32mIn[4], line 7\u001b[0m\n\u001b[1;32m      4\u001b[0m mdot \u001b[39m=\u001b[39m np\u001b[39m.\u001b[39mfull(\u001b[39m10\u001b[39m, \u001b[39m100\u001b[39m)  \u001b[39m# Msun / yr\u001b[39;00m\n\u001b[1;32m      6\u001b[0m \u001b[39m# And get the black holes object\u001b[39;00m\n\u001b[0;32m----> 7\u001b[0m bh \u001b[39m=\u001b[39m BlackHoles(masses\u001b[39m=\u001b[39;49mms, coordinates\u001b[39m=\u001b[39;49mpos, accretion_rate\u001b[39m=\u001b[39;49mmdot)\n",
      "File \u001b[0;32m~/Dropbox/Research/projects/synthesizer/synthesizer/particle/blackholes.py:106\u001b[0m, in \u001b[0;36mBlackHoles.__init__\u001b[0;34m(self, masses, metallicities, redshift, accretion_rate, coordinates, velocities, softening_length)\u001b[0m\n\u001b[1;32m     79\u001b[0m \u001b[39m\u001b[39m\u001b[39m\"\"\"\u001b[39;00m\n\u001b[1;32m     80\u001b[0m \u001b[39mIntialise the Stars instance. The first 3 arguments are always required.\u001b[39;00m\n\u001b[1;32m     81\u001b[0m \u001b[39mAll other arguments are optional attributes applicable in different\u001b[39;00m\n\u001b[0;32m   (...)\u001b[0m\n\u001b[1;32m     99\u001b[0m \n\u001b[1;32m    100\u001b[0m \u001b[39m\"\"\"\u001b[39;00m\n\u001b[1;32m    102\u001b[0m \u001b[39m#  TODO: handle when individual values are passed instead of arrays,\u001b[39;00m\n\u001b[1;32m    103\u001b[0m \u001b[39m# i.e. when there is only a single black hole.\u001b[39;00m\n\u001b[1;32m    104\u001b[0m \n\u001b[1;32m    105\u001b[0m \u001b[39m# Instantiate parent\u001b[39;00m\n\u001b[0;32m--> 106\u001b[0m Particles\u001b[39m.\u001b[39;49m\u001b[39m__init__\u001b[39;49m(\n\u001b[1;32m    107\u001b[0m     \u001b[39mself\u001b[39;49m,\n\u001b[1;32m    108\u001b[0m     coordinates\u001b[39m=\u001b[39;49mcoordinates,\n\u001b[1;32m    109\u001b[0m     velocities\u001b[39m=\u001b[39;49mvelocities,\n\u001b[1;32m    110\u001b[0m     masses\u001b[39m=\u001b[39;49mmasses,\n\u001b[1;32m    111\u001b[0m     redshift\u001b[39m=\u001b[39;49mredshift,\n\u001b[1;32m    112\u001b[0m     softening_length\u001b[39m=\u001b[39;49msoftening_length,\n\u001b[1;32m    113\u001b[0m     nparticles\u001b[39m=\u001b[39;49m\u001b[39mlen\u001b[39;49m(masses),\n\u001b[1;32m    114\u001b[0m )\n\u001b[1;32m    116\u001b[0m \u001b[39m# Accretion rate in Msun / yr\u001b[39;00m\n\u001b[1;32m    117\u001b[0m \u001b[39mself\u001b[39m\u001b[39m.\u001b[39maccretion_rate \u001b[39m=\u001b[39m accretion_rate\n",
      "File \u001b[0;32m~/Dropbox/Research/projects/synthesizer/synthesizer/particle/particles.py:71\u001b[0m, in \u001b[0;36mParticles.__init__\u001b[0;34m(self, coordinates, velocities, masses, redshift, softening_length, nparticles)\u001b[0m\n\u001b[1;32m     50\u001b[0m \u001b[39m\u001b[39m\u001b[39m\"\"\"\u001b[39;00m\n\u001b[1;32m     51\u001b[0m \u001b[39mIntialise the Particles.\u001b[39;00m\n\u001b[1;32m     52\u001b[0m \n\u001b[0;32m   (...)\u001b[0m\n\u001b[1;32m     65\u001b[0m \u001b[39m        How many particles are there?\u001b[39;00m\n\u001b[1;32m     66\u001b[0m \u001b[39m\"\"\"\u001b[39;00m\n\u001b[1;32m     68\u001b[0m \u001b[39m# Check arguments are valid\u001b[39;00m\n\u001b[1;32m     69\u001b[0m \n\u001b[1;32m     70\u001b[0m \u001b[39m# Set phase space coordinates\u001b[39;00m\n\u001b[0;32m---> 71\u001b[0m \u001b[39mself\u001b[39;49m\u001b[39m.\u001b[39;49mcoordinates \u001b[39m=\u001b[39m coordinates\n\u001b[1;32m     72\u001b[0m \u001b[39mself\u001b[39m\u001b[39m.\u001b[39mvelocities \u001b[39m=\u001b[39m velocities\n\u001b[1;32m     74\u001b[0m \u001b[39m# Set unit information\u001b[39;00m\n\u001b[1;32m     75\u001b[0m \n\u001b[1;32m     76\u001b[0m \u001b[39m# Set the softening length\u001b[39;00m\n",
      "File \u001b[0;32m~/Dropbox/Research/projects/synthesizer/synthesizer/units.py:359\u001b[0m, in \u001b[0;36mQuantity.__set__\u001b[0;34m(self, obj, value)\u001b[0m\n\u001b[1;32m    356\u001b[0m         value \u001b[39m=\u001b[39m value\u001b[39m.\u001b[39mvalue\n\u001b[1;32m    358\u001b[0m \u001b[39m# Set the attribute\u001b[39;00m\n\u001b[0;32m--> 359\u001b[0m \u001b[39msetattr\u001b[39;49m(obj, \u001b[39mself\u001b[39;49m\u001b[39m.\u001b[39;49mprivate_name, value)\n",
      "\u001b[0;31mAttributeError\u001b[0m: 'BlackHoles' object has no attribute '_coordinates'"
     ]
    }
   ],
   "source": [
    "# Make fake properties\n",
    "ms = np.full(10, 10**7)  # Msun\n",
    "pos = np.random.normal(0, 1.5, (10, 3))  # cMpc\n",
    "mdot = np.full(10, 100)  # Msun / yr\n",
    "\n",
    "# And get the black holes object\n",
    "bh = BlackHoles(masses=ms, coordinates=pos, accretion_rate=mdot)"
   ]
  },
  {
   "cell_type": "markdown",
   "id": "2f86e685",
   "metadata": {},
   "source": [
    "#### Calculating black hole metallicity\n",
    "\n",
    "If we want to calculate emission from the black hole we will need to know the metallicity of the emission regions surrounding the black hole. Above we could have passed an array of metallicities at instantiation but most of the time we will not know ahead of time what these values should be. Instead we can use the gas surrounding the black hole to calculate what this metallicity is. To do this we need to first create a `Galaxy` with both a `Gas` component and `BlackHoles`, again using fake data."
   ]
  },
  {
   "cell_type": "code",
   "execution_count": null,
   "id": "e384907e",
   "metadata": {},
   "outputs": [],
   "source": [
    "# Make fake gas properties\n",
    "ngas = 200\n",
    "ms = np.full(ngas, 10 ** 6.5)  # Msun\n",
    "pos = np.random.normal(0, 1.5, (ngas, 3))  # cMpc\n",
    "hsml = np.full(ngas, 0.75)  # cMpc\n",
    "metals = np.full(ngas, 0.01)\n",
    "\n",
    "# And make the gas object\n",
    "gas = Gas(masses=ms, metallicities=metals, coordinates=pos, smoothing_lengths=hsml)\n",
    "\n",
    "# And now create the galaxy \n",
    "galaxy = Galaxy(stars=None, gas=gas, black_holes=bh)"
   ]
  },
  {
   "cell_type": "markdown",
   "id": "02dc7334",
   "metadata": {},
   "source": [
    "Now we have the galaxy we can use `galaxy.calculate_black_hole_metallicity()` to calculate the black holes' metallicity. This method will find all gas particles with smoothing lengths that intersect the black hole and calculate the mass weighted average of their metallicity. If a black hole does not find any gas neighbours then a default metallicity is set instead, by default this is solar metallicity (0.012) but can be overwritten by passing a new `default_metallicity` as shown below."
   ]
  },
  {
   "cell_type": "code",
   "execution_count": null,
   "id": "42abc9ec",
   "metadata": {},
   "outputs": [
    {
     "name": "stdout",
     "output_type": "stream",
     "text": [
      "Z_BH = [0.01 0.07 0.01 0.01 0.01 0.01 0.01 0.01 0.01 0.01]\n"
     ]
    }
   ],
   "source": [
    "galaxy.calculate_black_hole_metallicity(default_metallicity=0.07)\n",
    "print(\"Z_BH =\", galaxy.black_holes.metallicities)"
   ]
  },
  {
   "cell_type": "markdown",
   "id": "f77a08bf-109c-4b51-97dc-6c2fc200c6a1",
   "metadata": {},
   "source": [
    "### Calculating basic quantities\n",
    "\n",
    "#### Bolometric luminosities\n",
    "\n",
    "We might like to calculate the bolometric luminosity, \n",
    "$ L_{\\rm \\bullet, bol} = \\epsilon_{r}\\dot{M}_{\\bullet}c^{2} $,\n",
    "for each black hole. We can do so by using the interface built into `BlackHoles` (or indeed `Galaxy.black_holes`). Note that the efficency (`epsilon`) defaults to 0.1. "
   ]
  },
  {
   "cell_type": "code",
   "execution_count": null,
   "id": "9845e7cd",
   "metadata": {},
   "outputs": [
    {
     "name": "stdout",
     "output_type": "stream",
     "text": [
      "[5.66297517e+47 5.66297517e+47 5.66297517e+47 5.66297517e+47\n",
      " 5.66297517e+47 5.66297517e+47 5.66297517e+47 5.66297517e+47\n",
      " 5.66297517e+47 5.66297517e+47] erg/s\n"
     ]
    }
   ],
   "source": [
    "Lbol = bh.calculate_bolometric_luminosity(epsilon=0.1)\n",
    "# OR\n",
    "Lbol = galaxy.black_holes.calculate_bolometric_luminosity(epsilon=0.1)\n",
    "print(Lbol)"
   ]
  }
 ],
 "metadata": {
  "kernelspec": {
   "display_name": "Python 3 (ipykernel)",
   "language": "python",
   "name": "python3"
  },
  "language_info": {
   "codemirror_mode": {
    "name": "ipython",
    "version": 3
   },
   "file_extension": ".py",
   "mimetype": "text/x-python",
   "name": "python",
   "nbconvert_exporter": "python",
   "pygments_lexer": "ipython3",
   "version": "3.10.11"
  },
  "vscode": {
   "interpreter": {
    "hash": "3fbdfee1eda89f517d14c65aaeb395605ea48cc827c54c8ae1828e532ec42817"
   }
  }
 },
 "nbformat": 4,
 "nbformat_minor": 5
}
