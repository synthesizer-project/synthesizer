{
 "cells": [
  {
   "cell_type": "code",
   "execution_count": 2,
   "metadata": {},
   "outputs": [
    {
     "ename": "ImportError",
     "evalue": "cannot import name 'BlackHoles' from 'synthesizer.parametric' (/Users/sw376/Dropbox/Research/projects/synthesizer/src/synthesizer/parametric/__init__.py)",
     "output_type": "error",
     "traceback": [
      "\u001b[0;31m---------------------------------------------------------------------------\u001b[0m",
      "\u001b[0;31mImportError\u001b[0m                               Traceback (most recent call last)",
      "Cell \u001b[0;32mIn[2], line 6\u001b[0m\n\u001b[1;32m      3\u001b[0m \u001b[39mfrom\u001b[39;00m \u001b[39munyt\u001b[39;00m \u001b[39mimport\u001b[39;00m Msun, yr, Angstrom\n\u001b[1;32m      5\u001b[0m \u001b[39mfrom\u001b[39;00m \u001b[39msynthesizer\u001b[39;00m\u001b[39m.\u001b[39;00m\u001b[39mblackholes\u001b[39;00m \u001b[39mimport\u001b[39;00m UnifiedAGN\n\u001b[0;32m----> 6\u001b[0m \u001b[39mfrom\u001b[39;00m \u001b[39msynthesizer\u001b[39;00m\u001b[39m.\u001b[39;00m\u001b[39mparametric\u001b[39;00m \u001b[39mimport\u001b[39;00m BlackHoles\n\u001b[1;32m      8\u001b[0m \u001b[39m# Set a random number seed to ensure consistent results\u001b[39;00m\n\u001b[1;32m      9\u001b[0m np\u001b[39m.\u001b[39mrandom\u001b[39m.\u001b[39mseed(\u001b[39m42\u001b[39m)\n",
      "\u001b[0;31mImportError\u001b[0m: cannot import name 'BlackHoles' from 'synthesizer.parametric' (/Users/sw376/Dropbox/Research/projects/synthesizer/src/synthesizer/parametric/__init__.py)"
     ]
    }
   ],
   "source": [
    "import numpy as np\n",
    "import matplotlib.pyplot as plt\n",
    "from unyt import Msun, yr, Angstrom\n",
    "\n",
    "from synthesizer.blackholes import UnifiedAGN\n",
    "from synthesizer.parametric import BlackHoles\n",
    "\n",
    "# Set a random number seed to ensure consistent results\n",
    "np.random.seed(42)"
   ]
  }
 ],
 "metadata": {
  "kernelspec": {
   "display_name": "venv",
   "language": "python",
   "name": "python3"
  },
  "language_info": {
   "codemirror_mode": {
    "name": "ipython",
    "version": 3
   },
   "file_extension": ".py",
   "mimetype": "text/x-python",
   "name": "python",
   "nbconvert_exporter": "python",
   "pygments_lexer": "ipython3",
   "version": "3.10.11"
  },
  "orig_nbformat": 4,
  "vscode": {
   "interpreter": {
    "hash": "3fbdfee1eda89f517d14c65aaeb395605ea48cc827c54c8ae1828e532ec42817"
   }
  }
 },
 "nbformat": 4,
 "nbformat_minor": 2
}
