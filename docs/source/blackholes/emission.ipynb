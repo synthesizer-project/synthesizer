{
 "cells": [
  {
   "attachments": {},
   "cell_type": "markdown",
   "metadata": {},
   "source": [
    "# Blachole emission models\n",
    "\n",
    "`synthesizer` can utilise several different black hole emission models, i.e. a model that translates a set of physical properties to one or several spectral energy distributions. "
   ]
  },
  {
   "cell_type": "code",
   "execution_count": null,
   "metadata": {},
   "outputs": [],
   "source": [
    "from synthesizer.blackholes import UnifiedAGN\n",
    "import matplotlib.pyplot as plt\n",
    "import numpy as np"
   ]
  },
  {
   "cell_type": "code",
   "execution_count": null,
   "metadata": {},
   "outputs": [],
   "source": [
    "\n",
    "grid_dir = '/Users/sw376/Dropbox/Research/data/synthesizer/grids/dev'\n",
    "bh = UnifiedAGN(grid_dir=grid_dir)"
   ]
  },
  {
   "cell_type": "code",
   "execution_count": null,
   "metadata": {},
   "outputs": [],
   "source": [
    "bh.calculate_total()"
   ]
  },
  {
   "cell_type": "code",
   "execution_count": null,
   "metadata": {},
   "outputs": [],
   "source": [
    "for id in ['disc', 'blr', 'nlr', 'total']:\n",
    "    plt.plot(np.log10(bh.spectra[id].lam), np.log10(bh.spectra[id].lnu*bh.spectra[id].nu), label = id)\n",
    "\n",
    "plt.xlim([2,6])\n",
    "plt.ylim(np.max(np.log10(bh.spectra['total'].lnu*bh.spectra['total'].nu))-4, np.max(np.log10(bh.spectra['total'].lnu*bh.spectra['total'].nu))+0.2)\n",
    "plt.xlabel(r'$\\log_{10}(\\lambda/\\AA)$')\n",
    "plt.ylabel(r'$\\log_{10}(\\nu L_{\\nu})$')\n",
    "plt.legend()\n",
    "plt.show()"
   ]
  },
  {
   "cell_type": "code",
   "execution_count": null,
   "metadata": {},
   "outputs": [],
   "source": []
  },
  {
   "cell_type": "code",
   "execution_count": null,
   "metadata": {},
   "outputs": [],
   "source": []
  }
 ],
 "metadata": {
  "language_info": {
   "name": "python"
  }
 },
 "nbformat": 4,
 "nbformat_minor": 2
}
