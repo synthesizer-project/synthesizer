{
 "cells": [
  {
   "attachments": {},
   "cell_type": "markdown",
   "metadata": {},
   "source": [
    "# Blachole emission models\n",
    "\n",
    "`synthesizer` can utilise several different black hole emission models, i.e. a model that translates a set of physical properties to one or several spectral energy distributions. "
   ]
  },
  {
   "cell_type": "code",
   "execution_count": null,
   "metadata": {},
   "outputs": [],
   "source": [
    "from synthesizer.blackholes import UnifiedAGN\n",
    "import matplotlib.pyplot as plt\n",
    "import numpy as np\n",
    "from unyt import deg"
   ]
  },
  {
   "attachments": {},
   "cell_type": "markdown",
   "metadata": {},
   "source": [
    "### `UnifiedAGN` model\n",
    "\n",
    "Our default model is the `UnifiedAGN` model. This combines a disc model with a model for the NLR, BLR, and torus.\n",
    "\n",
    "This model is initialised with a `disc_model` (by default the model Kubota and Done) and any additional fixed parameters."
   ]
  },
  {
   "cell_type": "code",
   "execution_count": null,
   "metadata": {},
   "outputs": [],
   "source": [
    "grid_dir = '/Users/sw376/Dropbox/Research/data/synthesizer/grids/dev'\n",
    "emission_model = UnifiedAGN(disc_model='agnsed', grid_dir=grid_dir)"
   ]
  },
  {
   "attachments": {},
   "cell_type": "markdown",
   "metadata": {},
   "source": [
    "There are various parameter lists associated with this model, e.g."
   ]
  },
  {
   "cell_type": "code",
   "execution_count": null,
   "metadata": {},
   "outputs": [],
   "source": [
    "emission_model.disc_parameters"
   ]
  },
  {
   "attachments": {},
   "cell_type": "markdown",
   "metadata": {},
   "source": [
    "#### Generating spectra\n",
    "\n",
    "We can generate spectra using the get_spectra command and passing the necessary parameters. In this case the blackhole mass, the accretion rate expressed as a fraction of the Eddington rate (`accretion_rate_eddington`), and the `inclination`.  Other disc models have different parameters."
   ]
  },
  {
   "cell_type": "code",
   "execution_count": null,
   "metadata": {},
   "outputs": [],
   "source": [
    "emission_model.get_spectra(mass=1E9, accretion_rate_eddington=1., inclination=45.*deg)"
   ]
  },
  {
   "cell_type": "code",
   "execution_count": null,
   "metadata": {},
   "outputs": [],
   "source": [
    "for id in ['disc', 'blr', 'nlr', 'total']:\n",
    "\n",
    "    sed = emission_model.spectra[id]\n",
    "\n",
    "    plt.plot(np.log10(sed.lam), np.log10(sed.luminosity), label = id)\n",
    "\n",
    "plt.xlim([2,6])\n",
    "plt.ylim(np.max(np.log10(emission_model.spectra['total'].luminosity))-4, np.max(np.log10(emission_model.spectra['total'].luminosity))+0.2)\n",
    "plt.xlabel(r'$\\log_{10}(\\lambda/\\AA)$')\n",
    "plt.ylabel(r'$\\log_{10}(\\nu L_{\\nu})$')\n",
    "plt.legend()\n",
    "plt.show()"
   ]
  }
 ],
 "metadata": {
  "kernelspec": {
   "display_name": "venv",
   "language": "python",
   "name": "python3"
  },
  "language_info": {
   "codemirror_mode": {
    "name": "ipython",
    "version": 3
   },
   "file_extension": ".py",
   "mimetype": "text/x-python",
   "name": "python",
   "nbconvert_exporter": "python",
   "pygments_lexer": "ipython3",
   "version": "3.10.11"
  },
  "vscode": {
   "interpreter": {
    "hash": "3fbdfee1eda89f517d14c65aaeb395605ea48cc827c54c8ae1828e532ec42817"
   }
  }
 },
 "nbformat": 4,
 "nbformat_minor": 2
}
