{
 "cells": [
  {
   "attachments": {},
   "cell_type": "markdown",
   "metadata": {},
   "source": [
    "# Blackhole emission models\n",
    "\n",
    "Synthesizer can utilise several different black hole emission models, i.e. a model that translates a set of physical properties to one or several spectral energy distributions. "
   ]
  },
  {
   "cell_type": "code",
   "execution_count": null,
   "metadata": {},
   "outputs": [],
   "source": [
    "import numpy as np\n",
    "from synthesizer.blackhole_emission_models import Template, UnifiedAGN\n",
    "from unyt import Hz, angstrom, erg, s"
   ]
  },
  {
   "attachments": {},
   "cell_type": "markdown",
   "metadata": {},
   "source": [
    "### `Template` model\n",
    "\n",
    "Our simplest model is to just provide a template, either directly (as we'll demonstrate here) or from a file. This is simply scaled by the blackhole bolometric luminosity to produce the spectra."
   ]
  },
  {
   "cell_type": "code",
   "execution_count": null,
   "metadata": {},
   "outputs": [],
   "source": [
    "# Make a fake template\n",
    "lnu = np.linspace(10, 100, 1000) * erg / Hz / s\n",
    "lams = np.linspace(10**2, 10**5, 1000) * angstrom\n",
    "\n",
    "# Define the template model\n",
    "temp_model = Template(lam=lams, lnu=lnu)"
   ]
  },
  {
   "cell_type": "markdown",
   "metadata": {},
   "source": [
    "We can then interface this emission model with `particle.BlackHoles` (docs [here](particle_blackholes.ipynb)) or `parametric.Blackhole` (docs [here](parametric_blackholes.ipynb)) objects, or get the spectra scaled by bolometric luminosity directly from the emission model as shown below."
   ]
  },
  {
   "cell_type": "code",
   "execution_count": null,
   "metadata": {},
   "outputs": [],
   "source": [
    "spectra = temp_model.get_spectra(bolometric_luminosity=10**42.0 * erg / s)"
   ]
  },
  {
   "attachments": {},
   "cell_type": "markdown",
   "metadata": {},
   "source": [
    "### `UnifiedAGN` model\n",
    "\n",
    "Our default model is the `UnifiedAGN` model. This combines a disc model with a model for the NLR, BLR, and torus.\n",
    "\n",
    "This model is initialised with a `disc_model`, by default we use the model of Kubota and Done 2019  (https://ui.adsabs.harvard.edu/abs/2018MNRAS.480.1247K/abstract), a photoionisation model string (for demonstration purposes below we won't use one), a filepath to the grid directory containing the NLR and BLR grid files, and any additional fixed parameters."
   ]
  },
  {
   "cell_type": "code",
   "execution_count": null,
   "metadata": {},
   "outputs": [],
   "source": [
    "grid_dir = \"../../../tests/test_grid/\"\n",
    "emission_model = UnifiedAGN(\n",
    "    disc_model=\"test_grid_agn\", photoionisation_model=\"\", grid_dir=grid_dir\n",
    ")"
   ]
  },
  {
   "attachments": {},
   "cell_type": "markdown",
   "metadata": {},
   "source": [
    "There are various parameter lists associated with this model which you can access as attributes. \n",
    "\n",
    "There's the parameters related to the disc:"
   ]
  },
  {
   "cell_type": "code",
   "execution_count": null,
   "metadata": {},
   "outputs": [],
   "source": [
    "emission_model.disc_parameters"
   ]
  },
  {
   "attachments": {},
   "cell_type": "markdown",
   "metadata": {},
   "source": [
    "The parameters of the grid(s):"
   ]
  },
  {
   "cell_type": "code",
   "execution_count": null,
   "metadata": {},
   "outputs": [],
   "source": [
    "emission_model.grid_parameters"
   ]
  },
  {
   "cell_type": "markdown",
   "metadata": {},
   "source": [
    "The parameters of the torus:"
   ]
  },
  {
   "cell_type": "code",
   "execution_count": null,
   "metadata": {},
   "outputs": [],
   "source": [
    "emission_model.torus_parameters"
   ]
  },
  {
   "attachments": {},
   "cell_type": "markdown",
   "metadata": {},
   "source": [
    "And all the parameters of the model:"
   ]
  },
  {
   "cell_type": "code",
   "execution_count": null,
   "metadata": {},
   "outputs": [],
   "source": [
    "emission_model.parameters"
   ]
  },
  {
   "attachments": {},
   "cell_type": "markdown",
   "metadata": {},
   "source": [
    "In addition to the above parameter lists there is also a list of `fixed_parameters` and `variable_parameters`. Fixed parameters are parameters passed at instantiation of an emission model. These will be always take precedence over any parameters passed to spectra methods (e.g. `get_spectra`, see below) or inherited from `BlackHole/s` objects (see the [particle](particle_blackholes.ipynb) and [parametric](parametric_blackholes.ipynb) black hole docs). \n",
    "\n",
    "Variable parameters are the opposite of fixed parameters. Any parameter not passed at instantiation is considered \"variable\" and **will** take any passed or inherited values.\n",
    "\n",
    "Above we didn't pass any parameters at instansiation of the model, below we will reinstantiate the emission model with some fixed parameters to demonstrate this. Notice too, passing `verbose=True` will result in a report of the defaults used for variable parameters."
   ]
  },
  {
   "cell_type": "code",
   "execution_count": null,
   "metadata": {},
   "outputs": [],
   "source": [
    "emission_model = UnifiedAGN(\n",
    "    disc_model=\"test_grid_agn\",\n",
    "    photoionisation_model=\"\",\n",
    "    grid_dir=grid_dir,\n",
    "    ionisation_parameter_blr=0.1,\n",
    "    ionisation_parameter_nlr=0.01,\n",
    "    covering_fraction_blr=0.1,\n",
    "    covering_fraction_nlr=0.1,\n",
    "    verbose=True,\n",
    ")\n",
    "print()\n",
    "print(\"Fixed:\", emission_model.fixed_parameters)\n",
    "print(\"Variable:\", emission_model.variable_parameters)"
   ]
  },
  {
   "cell_type": "markdown",
   "metadata": {},
   "source": [
    "Some of the variable parameters do not have default values and must either be passed to a method or inherited. These are listed in `required_parameters`."
   ]
  },
  {
   "cell_type": "code",
   "execution_count": null,
   "metadata": {},
   "outputs": [],
   "source": [
    "emission_model.required_parameters"
   ]
  },
  {
   "attachments": {},
   "cell_type": "markdown",
   "metadata": {},
   "source": [
    "For the `UnifiedAGN` model a handful of spectra are created, a list of all these available spectra is also available as an attribute."
   ]
  },
  {
   "cell_type": "code",
   "execution_count": null,
   "metadata": {},
   "outputs": [],
   "source": [
    "emission_model.available_spectra"
   ]
  }
 ],
 "metadata": {
  "kernelspec": {
   "display_name": "venv",
   "language": "python",
   "name": "python3"
  },
  "language_info": {
   "codemirror_mode": {
    "name": "ipython",
    "version": 3
   },
   "file_extension": ".py",
   "mimetype": "text/x-python",
   "name": "python",
   "nbconvert_exporter": "python",
   "pygments_lexer": "ipython3"
  },
  "vscode": {
   "interpreter": {
    "hash": "3fbdfee1eda89f517d14c65aaeb395605ea48cc827c54c8ae1828e532ec42817"
   }
  }
 },
 "nbformat": 4,
 "nbformat_minor": 2
}
