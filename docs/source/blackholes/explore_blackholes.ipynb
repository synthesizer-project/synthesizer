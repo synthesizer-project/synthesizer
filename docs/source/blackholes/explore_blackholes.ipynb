{
 "cells": [
  {
   "cell_type": "markdown",
   "id": "659dcb3a-891b-4271-9073-d02efbeb14d5",
   "metadata": {},
   "source": [
    "# Blackholes\n",
    "\n",
    "Synthesizer has a collection of routines allowing us to also model the spectral energy distributions of black holes (i.e. AGN) and combine their emission with the emission of others galaxy components (i.e. stellar emission).\n",
    "\n",
    "## Particle blackholes"
   ]
  },
  {
   "cell_type": "code",
   "execution_count": 1,
   "id": "d2d7676a",
   "metadata": {},
   "outputs": [],
   "source": [
    "import numpy as np\n",
    "import matplotlib.pyplot as plt\n",
    "from unyt import Msun, yr, Angstrom\n",
    "\n",
    "from synthesizer.particle.blackholes import BlackHoles\n",
    "from synthesizer.particle.gas import Gas\n",
    "from synthesizer.particle.galaxy import Galaxy\n",
    "\n",
    "# Set a random number seed to ensure consistent results\n",
    "np.random.seed(42)"
   ]
  },
  {
   "cell_type": "markdown",
   "id": "8327fd4d",
   "metadata": {},
   "source": [
    "### Creating a black hole\n",
    "\n",
    "Before generating some simple observational quantities from physical properties we first need to create a `BlackHoles` object. This object can be found in `synthesizer/particle/blackholes.py`. \n",
    "\n",
    "Lets create an instance of `BlackHoles` containing 10 fake black holes. To do so we can provide a number of optional keyword arguments but for now lets just provide their masses, coordinates and accretion rates."
   ]
  },
  {
   "cell_type": "code",
   "execution_count": 2,
   "id": "79c4459f-4b18-43dd-922f-f20ad58bbfd6",
   "metadata": {
    "tags": []
   },
   "outputs": [],
   "source": [
    "# Make fake properties\n",
    "ms = np.full(10, 10**7)  # Msun\n",
    "pos = np.random.normal(0, 1.5, (10, 3))  # cMpc\n",
    "mdot = np.full(10, 100)  # Msun / yr\n",
    "\n",
    "# And get the black holes object\n",
    "bh = BlackHoles(masses=ms, coordinates=pos, accretion_rate=mdot)"
   ]
  },
  {
   "cell_type": "markdown",
   "id": "2f86e685",
   "metadata": {},
   "source": [
    "#### Calculating black hole metallicity\n",
    "\n",
    "If we want to calculate emission from the black hole we will need to know the metallicity of the emission regions surrounding the black hole. Above we could have passed an array of metallicities at instantiation but most of the time we will not know ahead of time what these values should be. Instead we can use the gas surrounding the black hole to calculate what this metallicity is. To do this we need to first create a `Galaxy` with both a `Gas` component and `BlackHoles`, again using fake data."
   ]
  },
  {
   "cell_type": "code",
   "execution_count": 3,
   "id": "e384907e",
   "metadata": {},
   "outputs": [],
   "source": [
    "# Make fake gas properties\n",
    "ngas = 200\n",
    "ms = np.full(ngas, 10 ** 6.5)  # Msun\n",
    "pos = np.random.normal(0, 1.5, (ngas, 3))  # cMpc\n",
    "hsml = np.full(ngas, 0.75)  # cMpc\n",
    "metals = np.full(ngas, 0.01)\n",
    "\n",
    "# And make the gas object\n",
    "gas = Gas(masses=ms, metallicities=metals, coordinates=pos, smoothing_lengths=hsml)\n",
    "\n",
    "# And now create the galaxy \n",
    "galaxy = Galaxy(stars=None, gas=gas, black_holes=bh)"
   ]
  },
  {
   "cell_type": "markdown",
   "id": "02dc7334",
   "metadata": {},
   "source": [
    "Now we have the galaxy we can use `galaxy.calculate_black_hole_metallicity()` to calculate the black holes' metallicity. This method will find all gas particles with smoothing lengths that intersect the black hole and calculate the mass weighted average of their metallicity. If a black hole does not find any gas neighbours then a default metallicity is set instead, by default this is solar metallicity (0.012) but can be overwritten by passing a new `default_metallicity` as shown below."
   ]
  },
  {
   "cell_type": "code",
   "execution_count": 4,
   "id": "42abc9ec",
   "metadata": {},
   "outputs": [
    {
     "name": "stdout",
     "output_type": "stream",
     "text": [
      "Z_BH = [0.01 0.07 0.01 0.01 0.01 0.01 0.01 0.01 0.01 0.01]\n"
     ]
    }
   ],
   "source": [
    "galaxy.calculate_black_hole_metallicity(default_metallicity=0.07)\n",
    "print(\"Z_BH =\", galaxy.black_holes.metallicities)"
   ]
  },
  {
   "cell_type": "markdown",
   "id": "f77a08bf-109c-4b51-97dc-6c2fc200c6a1",
   "metadata": {},
   "source": [
    "### Calculating basic quantities\n",
    "\n",
    "#### Bolometric luminosities\n",
    "\n",
    "We might like to calculate the bolometric luminosity, \n",
    "$ L_{\\rm \\bullet, bol} = \\epsilon_{r}\\dot{M}_{\\bullet}c^{2} $,\n",
    "for each black hole. We can do so by using the interface built into `BlackHoles` (or indeed `Galaxy.black_holes`). Note that the efficency (`epsilon`) defaults to 0.1. "
   ]
  },
  {
   "cell_type": "code",
   "execution_count": 5,
   "id": "9845e7cd",
   "metadata": {},
   "outputs": [
    {
     "name": "stdout",
     "output_type": "stream",
     "text": [
      "[5.66297517e+47 5.66297517e+47 5.66297517e+47 5.66297517e+47\n",
      " 5.66297517e+47 5.66297517e+47 5.66297517e+47 5.66297517e+47\n",
      " 5.66297517e+47 5.66297517e+47] erg/s\n"
     ]
    }
   ],
   "source": [
    "Lbol = bh.calculate_bolometric_luminosity(epsilon=0.1)\n",
    "# OR\n",
    "Lbol = galaxy.black_holes.calculate_bolometric_luminosity(epsilon=0.1)\n",
    "print(Lbol)"
   ]
  },
  {
   "cell_type": "markdown",
   "id": "ac30e785",
   "metadata": {},
   "source": [
    "#### Big bump temperature\n",
    "\n",
    "The default AGN model used by `synthesizer` is the one built into the `cloudy` photoionisation code:\n",
    "\n",
    "$ T_{BB} = \\left ( \\frac{3c^{6}}{8\\pi6^{3}\\sigma_{SB}G^{2}} \\frac{\\dot{M}_{\\bullet}}{M^{2}_{\\bullet}} \\right )^{1/4}  = 2.24 \\times 10^{9} \\left ( \\frac{\\dot{M}_{\\bullet}}{M_{\\odot}\\,yr^{-1}} \\right )^{1/4} \\left ( \\frac{M_{\\bullet}}{M_{\\odot}} \\right )^{-1/2} $\n",
    "\n",
    "This is calculated at instantiation of a`BlackHoles` object."
   ]
  },
  {
   "cell_type": "code",
   "execution_count": 6,
   "id": "58d0bec2",
   "metadata": {},
   "outputs": [
    {
     "name": "stdout",
     "output_type": "stream",
     "text": [
      "[2240000. 2240000. 2240000. 2240000. 2240000. 2240000. 2240000. 2240000.\n",
      " 2240000. 2240000.] K\n"
     ]
    }
   ],
   "source": [
    "print(bh.bb_temperature)"
   ]
  },
  {
   "cell_type": "markdown",
   "id": "47ed6657",
   "metadata": {},
   "source": [
    "## Parametric blackholes"
   ]
  },
  {
   "cell_type": "markdown",
   "id": "fab300ad",
   "metadata": {},
   "source": [
    "## SED models"
   ]
  },
  {
   "cell_type": "markdown",
   "id": "220ddf6d",
   "metadata": {},
   "source": [
    "Like with modelling the SEDs of stellar populations, most of `synthesizer`'s blackhole SED modelling is enabled via grids pre-computed via the `cloudy` photoionisation code."
   ]
  },
  {
   "cell_type": "markdown",
   "id": "0549a4d0",
   "metadata": {},
   "source": [
    "#### Feltre et al. (2016) model\n",
    "\n",
    "One (slight) exception to this is the incident SED model used by Feltre et al. (2016) to model the NLRs of AGN. This is actually used by `synthesizer` to generate the incident SED for the creation of some grids but we can also explore the incident spectrum without loading the relevant grid. This model is a simple series of power-laws.\n",
    "\n",
    "This model can be found in the `generate_grids` module and used as follows:\n",
    "\n",
    "```\n",
    "bh = blackholes.Feltre16() # initialise an instance of the Feltre16 class\n",
    "alpha = -1\n",
    "lam = np.arange(10, 1000000, 1) * Angstrom # define a wavelength grid\n",
    "lnu = bh.incident(lam, alpha)\n",
    "plt.loglog(lam, lnu)\n",
    "```"
   ]
  }
 ],
 "metadata": {
  "kernelspec": {
   "display_name": "Python 3 (ipykernel)",
   "language": "python",
   "name": "python3"
  },
  "language_info": {
   "codemirror_mode": {
    "name": "ipython",
    "version": 3
   },
   "file_extension": ".py",
   "mimetype": "text/x-python",
   "name": "python",
   "nbconvert_exporter": "python",
   "pygments_lexer": "ipython3",
   "version": "3.10.4"
  },
  "vscode": {
   "interpreter": {
    "hash": "3fbdfee1eda89f517d14c65aaeb395605ea48cc827c54c8ae1828e532ec42817"
   }
  }
 },
 "nbformat": 4,
 "nbformat_minor": 5
}
