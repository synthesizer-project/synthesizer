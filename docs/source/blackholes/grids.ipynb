{
 "cells": [
  {
   "attachments": {},
   "cell_type": "markdown",
   "metadata": {},
   "source": [
    "# Blackholes Models and Grids\n",
    "\n",
    "Synthesizer has a collection of routines allowing us to also model the spectral energy distributions of black holes (i.e. AGN) and combine their emission with the emission of others galaxy components (i.e. stellar emission).\n",
    "\n",
    "Like the stellar emission this is enabled through blackhole grids which contain blackhole spectra over a grid of parameters.\n",
    "\n",
    "Currently we have grids created for two blackhole models: the **Cloudy AGN model** and the **Feltre et al. (2016)** model.\n",
    "\n",
    "## Models"
   ]
  },
  {
   "attachments": {},
   "cell_type": "markdown",
   "metadata": {},
   "source": [
    "### Cloudy AGN model\n",
    "\n",
    "\n",
    "The default blackhole model used by `synthesizer` is the one built into the `cloudy` photoionisation code. This is a two-component model consisting of a \"big bump\" component with a rising power-law and high-energy exponential cutoff. It is parameterised by the temperature of the bump ($T_{\\rm BB}$), the X-ray to UV ratio $\\alpha_{\\rm ox}$, the low-energy slope of the Big Bump continuum $\\alpha_{\\rm uv}$, and the slope of the X-ray component $\\alpha_{x}$. The full continuum is described by,\n",
    "\n",
    "$ f_{\\nu} = \\nu^{\\alpha_{UV}} \\; exp\\left (\\frac{-h\\nu}{kT_{\\rm BB}} \\right )\\,exp\\left (\\frac{-kT_{\\rm IR}}{h\\nu} \\right ) + a\\nu^{\\alpha_{X}} $\n",
    "\n",
    "Here $a$ is a coefficient determined to produce the desired $\\alpha_{\\rm ox}$. For most grids we fix $\\alpha_{\\rm ox}$, $\\alpha_{\\rm x}$, and $\\alpha_{\\rm uv}$ to the default values suggested by the `cloudy` documentation ($\\alpha_{\\rm ox}=-1.4$, $\\alpha_{\\rm x}=-1$, and $\\alpha_{\\rm uv}=-0.5$). \n",
    "\n",
    "The big-bump temperature $T_{BB}$ is related to the blackhole mass $M_{\\bullet}$ and accretion $\\dot{M}_{\\bullet}$ rate through:\n",
    "\n",
    "$ T_{BB} = \\left ( \\frac{3c^{6}}{8\\pi6^{3}\\sigma_{SB}G^{2}} \\frac{\\dot{M}_{\\bullet}}{M^{2}_{\\bullet}} \\right )^{1/4}  = 2.24 \\times 10^{9} \\left ( \\frac{\\dot{M}_{\\bullet}}{M_{\\odot}\\,yr^{-1}} \\right )^{1/4} \\left ( \\frac{M_{\\bullet}}{M_{\\odot}} \\right )^{-1/2} $\n",
    "\n",
    "and hence it is left as an axis in all grids.\n",
    "\n",
    "For ease of use we make available several grids, differing in the amount of parameters that are varied:\n",
    "\n",
    "- `blackholes_cloudy_c17.03_log10TBB`: only the big-bump temperature is varied. This grid is included as part of the test suite with the name `test_grid_blackholes`.\n",
    "- `blackholes_cloudy_c17.03_log10TBB_log10Z`: both the big-bump temperature and gas-phase metallicity are varied.\n"
   ]
  },
  {
   "attachments": {},
   "cell_type": "markdown",
   "metadata": {},
   "source": [
    "### Feltre et al. (2016) AGN NLR model\n",
    "\n",
    "*Needs to be added*"
   ]
  },
  {
   "attachments": {},
   "cell_type": "markdown",
   "metadata": {},
   "source": [
    "## Using the Grids\n",
    "\n",
    "Like stellar grids, the blackhole spectra are accessed using the `synthesizer`'s  `Grid` functionality, e.g.:  "
   ]
  },
  {
   "cell_type": "code",
   "execution_count": 6,
   "metadata": {},
   "outputs": [],
   "source": [
    "import numpy as np\n",
    "import matplotlib.pyplot as plt\n",
    "import matplotlib as mpl\n",
    "import matplotlib.pyplot as plt\n",
    "import matplotlib.cm as cm\n",
    "import cmasher as cmr\n",
    "import h5py\n",
    "import os\n",
    "from synthesizer.grid import Grid"
   ]
  },
  {
   "cell_type": "code",
   "execution_count": 7,
   "metadata": {},
   "outputs": [
    {
     "name": "stdout",
     "output_type": "stream",
     "text": [
      "axes\n",
      "axes/log10T\n",
      "lines\n",
      "lines/H 1 4861.33A\n",
      "lines/H 1 4861.33A/continuum\n",
      "lines/H 1 4861.33A/luminosity\n",
      "lines/H 1 4861.33A/nebular_continuum\n",
      "lines/H 1 4861.33A/stellar_continuum\n",
      "lines/H 1 6562.81A\n",
      "lines/H 1 6562.81A/continuum\n",
      "lines/H 1 6562.81A/luminosity\n",
      "lines/H 1 6562.81A/nebular_continuum\n",
      "lines/H 1 6562.81A/stellar_continuum\n",
      "lines/N 2 6583.45A\n",
      "lines/N 2 6583.45A/continuum\n",
      "lines/N 2 6583.45A/luminosity\n",
      "lines/N 2 6583.45A/nebular_continuum\n",
      "lines/N 2 6583.45A/stellar_continuum\n",
      "lines/O 3 5006.84A\n",
      "lines/O 3 5006.84A/continuum\n",
      "lines/O 3 5006.84A/luminosity\n",
      "lines/O 3 5006.84A/nebular_continuum\n",
      "lines/O 3 5006.84A/stellar_continuum\n",
      "spectra\n",
      "spectra/incident\n",
      "spectra/linecont\n",
      "spectra/nebular\n",
      "spectra/normalisation\n",
      "spectra/transmitted\n",
      "spectra/wavelength\n"
     ]
    }
   ],
   "source": [
    "grid_dir =  '../../../tests/test_grid/'\n",
    "grid_name = 'test_grid_blackholes'\n",
    "\n",
    "\n",
    "hf = h5py.File('../../../tests/test_grid/test_grid_blackholes.hdf5', \"r\")\n",
    "\n",
    "hf.visit(print)\n"
   ]
  },
  {
   "cell_type": "code",
   "execution_count": 8,
   "metadata": {},
   "outputs": [],
   "source": [
    "grid = Grid(grid_name=grid_name, grid_dir=grid_dir)"
   ]
  },
  {
   "cell_type": "code",
   "execution_count": 9,
   "metadata": {},
   "outputs": [
    {
     "name": "stdout",
     "output_type": "stream",
     "text": [
      "------------------------------\n",
      "SUMMARY OF GRID\n",
      "log10T: [4.  4.5 5.  5.5 6.  6.5 7. ] \n",
      "C: Dopita2006 \n",
      "CMB: False \n",
      "N: Dopita2006 \n",
      "T_floor: 100 \n",
      "alpha: 0.0 \n",
      "aox: -1.4 \n",
      "auv: -0.5 \n",
      "ax: -1.35 \n",
      "axes: ['log10T'] \n",
      "cloudy_version: c17.03 \n",
      "cosmic_rays: False \n",
      "covering_factor: 1.0 \n",
      "d2m: 0.3 \n",
      "geometry: planeparallel \n",
      "grains: True \n",
      "log10U: -2.0 \n",
      "log10Z: -2.0 \n",
      "log10n_H: 2.0 \n",
      "model: cloudy \n",
      "resolution: 1.0 \n",
      "stop_T: 500 \n",
      "stop_efrac: -2 \n",
      "z: 0.0 \n",
      "spectra: ['incident', 'stellar', 'linecont', 'nebular', 'transmitted', 'total', 'nebular_continuum']\n",
      "------------------------------\n",
      "\n"
     ]
    }
   ],
   "source": [
    "print(grid)"
   ]
  },
  {
   "cell_type": "code",
   "execution_count": 12,
   "metadata": {},
   "outputs": [
    {
     "name": "stderr",
     "output_type": "stream",
     "text": [
      "/var/folders/1r/dyc06cz53k1g87b17q09by98000ft2/T/ipykernel_13599/115743021.py:37: RuntimeWarning: divide by zero encountered in log10\n",
      "  ax.plot(np.log10(grid.lam), np.log10(Lnu), c=cmap(norm(log10T)), lw=1, alpha=0.8)\n"
     ]
    },
    {
     "data": {
      "text/plain": [
       "Text(0, 0.5, '$\\\\rm log_{10}(L_{\\\\nu}/erg\\\\ s^{-1}\\\\ Hz^{-1} M_{\\\\odot}^{-1})$')"
      ]
     },
     "execution_count": 12,
     "metadata": {},
     "output_type": "execute_result"
    },
    {
     "data": {
      "image/png": "[encoded data removed]",
      "text/plain": [
       "<Figure size 350x500 with 2 Axes>"
      ]
     },
     "metadata": {},
     "output_type": "display_data"
    }
   ],
   "source": [
    "\n",
    "spectra_type = 'incident'\n",
    "spectra_type = 'total'\n",
    "\n",
    "cmap = cmr.bubblegum\n",
    "norm = mpl.colors.Normalize(vmin=4., vmax=7.) \n",
    "\n",
    "# initialise plot\n",
    "fig = plt.figure(figsize=(3.5, 5.))\n",
    "\n",
    "left = 0.15\n",
    "height = 0.8\n",
    "bottom = 0.1\n",
    "width = 0.8\n",
    "\n",
    "# define main ax\n",
    "ax = fig.add_axes((left, bottom, width, height))\n",
    "\n",
    "# define colourbar ax\n",
    "cax = fig.add_axes((left, bottom+height, width, 0.02))\n",
    "\n",
    "# add colourbar\n",
    "cbar = fig.colorbar(cm.ScalarMappable(norm=norm, cmap=cmap), cax=cax, orientation='horizontal')  # add the colourbar\n",
    "\n",
    "# colourbar formatting and labelling\n",
    "cax.xaxis.tick_top()\n",
    "cax.xaxis.set_label_position('top')\n",
    "cax.set_xlabel(r'$\\rm \\log_{10}(T/K)$')\n",
    "\n",
    "# loop over log10ages\n",
    "for i, log10T in enumerate(grid.log10T):\n",
    "    \n",
    "    # get spectra\n",
    "    Lnu = grid.spectra[spectra_type][i, :]\n",
    "    # Lnu = fnu_to_flam(grid.lam, Lnu)\n",
    "\n",
    "    # plot spectra\n",
    "    ax.plot(np.log10(grid.lam), np.log10(Lnu), c=cmap(norm(log10T)), lw=1, alpha=0.8)\n",
    "\n",
    "# plot Lyman and Balmer limits for reference\n",
    "for wv in [912., 3646.]:\n",
    "    ax.axvline(np.log10(wv), c='k', lw=1, alpha=0.5)\n",
    "\n",
    "# set wavelength range (log(Angstrom))\n",
    "ax.set_xlim([1., 5.])\n",
    "\n",
    "# set luminosity range\n",
    "ax.set_ylim([-20, -13])\n",
    "\n",
    "# add labels\n",
    "ax.set_xlabel(r'$\\rm log_{10}(\\lambda/\\AA)$')\n",
    "ax.set_ylabel(r'$\\rm log_{10}(L_{\\nu}/erg\\ s^{-1}\\ Hz^{-1} M_{\\odot}^{-1})$')"
   ]
  }
 ],
 "metadata": {
  "kernelspec": {
   "display_name": "venv",
   "language": "python",
   "name": "python3"
  },
  "language_info": {
   "codemirror_mode": {
    "name": "ipython",
    "version": 3
   },
   "file_extension": ".py",
   "mimetype": "text/x-python",
   "name": "python",
   "nbconvert_exporter": "python",
   "pygments_lexer": "ipython3",
   "version": "3.10.11"
  },
  "orig_nbformat": 4,
  "vscode": {
   "interpreter": {
    "hash": "3fbdfee1eda89f517d14c65aaeb395605ea48cc827c54c8ae1828e532ec42817"
   }
  }
 },
 "nbformat": 4,
 "nbformat_minor": 2
}
