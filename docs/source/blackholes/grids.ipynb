{
 "cells": [
  {
   "attachments": {},
   "cell_type": "markdown",
   "metadata": {},
   "source": [
    "# Blackholes Models and Grids\n",
    "\n",
    "Synthesizer has a collection of routines allowing us to also model the spectral energy distributions of black holes (i.e. AGN) and combine their emission with the emission of others galaxy components (i.e. stellar emission).\n",
    "\n",
    "Like the stellar emission this is enabled through blackhole grids which contain blackhole spectra over a grid of parameters.\n",
    "\n",
    "Currently we have grids created for two blackhole models: the **Cloudy AGN model** and the **Feltre et al. (2016)** model.\n",
    "\n",
    "## Models"
   ]
  },
  {
   "attachments": {},
   "cell_type": "markdown",
   "metadata": {},
   "source": [
    "### Cloudy AGN model\n",
    "\n",
    "\n",
    "The default blackhole model used by `synthesizer` is the one built into the `cloudy` photoionisation code. This is a two-component model consisting of a \"big bump\" component with a rising power-law and high-energy exponential cutoff. It is parameterised by the temperature of the bump ($T_{\\rm BB}$), the X-ray to UV ratio $\\alpha_{\\rm ox}$, the low-energy slope of the Big Bump continuum $\\alpha_{\\rm uv}$, and the slope of the X-ray component $\\alpha_{x}$. The full continuum is described by,\n",
    "\n",
    "$ f_{\\nu} = \\nu^{\\alpha_{UV}} \\; exp\\left (\\frac{-h\\nu}{kT_{\\rm BB}} \\right )\\,exp\\left (\\frac{-kT_{\\rm IR}}{h\\nu} \\right ) + a\\nu^{\\alpha_{X}} $\n",
    "\n",
    "Here $a$ is a coefficient determined to produce the desired $\\alpha_{\\rm ox}$. For most grids we fix $\\alpha_{\\rm ox}$, $\\alpha_{\\rm x}$, and $\\alpha_{\\rm uv}$ to the default values suggested by the `cloudy` documentation ($\\alpha_{\\rm ox}=-1.4$, $\\alpha_{\\rm x}=-1$, and $\\alpha_{\\rm uv}=-0.5$). \n",
    "\n",
    "The big-bump temperature $T_{BB}$ is related to the blackhole mass $M_{\\bullet}$ and accretion $\\dot{M}_{\\bullet}$ rate through:\n",
    "\n",
    "$ T_{BB} = \\left ( \\frac{3c^{6}}{8\\pi6^{3}\\sigma_{SB}G^{2}} \\frac{\\dot{M}_{\\bullet}}{M^{2}_{\\bullet}} \\right )^{1/4}  = 2.24 \\times 10^{9} \\left ( \\frac{\\dot{M}_{\\bullet}}{M_{\\odot}\\,yr^{-1}} \\right )^{1/4} \\left ( \\frac{M_{\\bullet}}{M_{\\odot}} \\right )^{-1/2} $\n",
    "\n",
    "and hence it is left as an axis in all grids.\n",
    "\n",
    "For ease of use we make available several grids, differing in the amount of parameters that are varied:\n",
    "\n",
    "- `blackholes_cloudy_c17.03_log10TBB`: only the big-bump temperature is varied. This grid is included as part of the test suite with the name `test_grid_blackholes`.\n",
    "- `blackholes_cloudy_c17.03_log10TBB_log10Z`: both the big-bump temperature and gas-phase metallicity are varied.\n"
   ]
  },
  {
   "attachments": {},
   "cell_type": "markdown",
   "metadata": {},
   "source": [
    "### Feltre et al. (2016) AGN NLR model\n",
    "\n",
    "*Needs to be added*"
   ]
  },
  {
   "attachments": {},
   "cell_type": "markdown",
   "metadata": {},
   "source": [
    "## Using the Grids\n",
    "\n",
    "Like stellar grids, the blackhole spectra are accessed using the `synthesizer`'s  `Grid` functionality, e.g.:  "
   ]
  },
  {
   "cell_type": "code",
   "execution_count": null,
   "metadata": {},
   "outputs": [],
   "source": [
    "import numpy as np\n",
    "import matplotlib.pyplot as plt\n",
    "import matplotlib as mpl\n",
    "import matplotlib.pyplot as plt\n",
    "import matplotlib.cm as cm\n",
    "import cmasher as cmr\n",
    "import h5py\n",
    "import os\n",
    "from unyt import c, Angstrom\n",
    "from synthesizer.grid import Grid"
   ]
  },
  {
   "cell_type": "code",
   "execution_count": null,
   "metadata": {},
   "outputs": [],
   "source": [
    "grid_dir =  '../../../tests/test_grid/'\n",
    "grid_name = 'test_grid_blackholes'\n",
    "\n",
    "\n",
    "hf = h5py.File('../../../tests/test_grid/test_grid_blackholes.hdf5', \"r\")\n",
    "\n",
    "hf.visit(print)\n"
   ]
  },
  {
   "cell_type": "code",
   "execution_count": null,
   "metadata": {},
   "outputs": [],
   "source": [
    "grid = Grid(grid_name=grid_name, grid_dir=grid_dir)"
   ]
  },
  {
   "cell_type": "code",
   "execution_count": null,
   "metadata": {},
   "outputs": [],
   "source": [
    "print(grid)"
   ]
  },
  {
   "attachments": {},
   "cell_type": "markdown",
   "metadata": {},
   "source": [
    "Let's plot the spectra for different temperatures."
   ]
  },
  {
   "cell_type": "code",
   "execution_count": null,
   "metadata": {},
   "outputs": [],
   "source": [
    "\n",
    "spectra_type = 'incident'\n",
    "spectra_type = 'total'\n",
    "\n",
    "cmap = cmr.bubblegum\n",
    "norm = mpl.colors.Normalize(vmin=4., vmax=7.) \n",
    "\n",
    "# initialise plot\n",
    "fig = plt.figure(figsize=(3.5, 5.))\n",
    "\n",
    "left = 0.15\n",
    "height = 0.8\n",
    "bottom = 0.1\n",
    "width = 0.8\n",
    "\n",
    "# define main ax\n",
    "ax = fig.add_axes((left, bottom, width, height))\n",
    "\n",
    "# define colourbar ax\n",
    "cax = fig.add_axes((left, bottom+height, width, 0.02))\n",
    "\n",
    "# add colourbar\n",
    "cbar = fig.colorbar(cm.ScalarMappable(norm=norm, cmap=cmap), cax=cax, orientation='horizontal')  # add the colourbar\n",
    "\n",
    "# colourbar formatting and labelling\n",
    "cax.xaxis.tick_top()\n",
    "cax.xaxis.set_label_position('top')\n",
    "cax.set_xlabel(r'$\\rm \\log_{10}(T/K)$')\n",
    "\n",
    "# loop over log10ages\n",
    "for i, log10T in enumerate(grid.log10T):\n",
    "    \n",
    "    # get spectra\n",
    "    Lnu = grid.spectra[spectra_type][i, :]\n",
    "    # Lnu = fnu_to_flam(grid.lam, Lnu)\n",
    "\n",
    "    # plot spectra\n",
    "    ax.plot(np.log10(grid.lam), np.log10(Lnu), c=cmap(norm(log10T)), lw=1, alpha=0.8)\n",
    "\n",
    "# plot Lyman and Balmer limits for reference\n",
    "for wv in [912., 3646.]:\n",
    "    ax.axvline(np.log10(wv), c='k', lw=1, alpha=0.5)\n",
    "\n",
    "# set wavelength range (log(Angstrom))\n",
    "ax.set_xlim([1., 5.])\n",
    "\n",
    "# set luminosity range\n",
    "ax.set_ylim([-20, -13])\n",
    "\n",
    "# add labels\n",
    "ax.set_xlabel(r'$\\rm log_{10}(\\lambda/\\AA)$')\n",
    "ax.set_ylabel(r'$\\rm log_{10}(L_{\\nu}/erg\\ s^{-1}\\ Hz^{-1} M_{\\odot}^{-1})$')"
   ]
  },
  {
   "attachments": {},
   "cell_type": "markdown",
   "metadata": {},
   "source": [
    "#### Bolometric correction\n",
    "\n",
    "Another thing we can do is calculate the bolometric correction.\n",
    "\n",
    "To do this let's extract an `Sed` object from the `Grid` object since that provides some helpful methods:\n",
    "\n"
   ]
  },
  {
   "cell_type": "code",
   "execution_count": null,
   "metadata": {},
   "outputs": [],
   "source": [
    "grid_point = grid.get_grid_point((6.,))\n",
    "print(grid_point)\n",
    "\n",
    "sed = grid.get_sed(grid_point)\n",
    "print(sed)\n",
    "\n",
    "Lbol = sed.measure_bolometric_luminosity()\n",
    "print(Lbol)\n",
    "\n",
    "Luv = np.interp(1500., sed.lam, sed.lnu) * (c / (1500 * Angstrom)).to('Hz').value\n",
    "print(Luv)\n",
    "\n",
    "print(Lbol/Luv)\n",
    "\n",
    "\n",
    "print(np.interp(1500., sed.lam, sed.lnu)/Lbol)\n"
   ]
  },
  {
   "attachments": {},
   "cell_type": "markdown",
   "metadata": {},
   "source": [
    "The bolometric correction by Hopkins et al. (2007) is:"
   ]
  },
  {
   "cell_type": "code",
   "execution_count": null,
   "metadata": {},
   "outputs": [],
   "source": [
    "def kappa(Lbol):\n",
    "    return 6.25*(Lbol/1E10)**-0.37 + 9*(Lbol/1E10)**-0.012\n",
    "\n",
    "\n",
    "print(kappa(1E14))"
   ]
  },
  {
   "cell_type": "code",
   "execution_count": null,
   "metadata": {},
   "outputs": [],
   "source": []
  }
 ],
 "metadata": {
  "language_info": {
   "name": "python"
  }
 },
 "nbformat": 4,
 "nbformat_minor": 2
}
