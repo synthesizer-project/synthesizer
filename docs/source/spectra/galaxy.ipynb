{
 "cells": [
  {
   "cell_type": "markdown",
   "metadata": {},
   "source": [
    "# Galaxy Spectra\n",
    "\n",
    "Unlike component spectra, galaxy level spectra are by definition integrated. These spectra can only be combinations of component spectra. To see how to define emission models for galaxy level spectra see the [combined emission](../emission_models/combined_models.ipynb) docs. Here we will demonstrate the usage of a combined model to generate spectra for a galaxy."
   ]
  },
  {
   "cell_type": "code",
   "execution_count": null,
   "metadata": {},
   "outputs": [],
   "source": [
    "import numpy as np\n",
    "from synthesizer.emission_models import (\n",
    "    AttenuatedEmission,\n",
    "    BimodalPacmanEmission,\n",
    "    DustEmission,\n",
    "    EmissionModel,\n",
    "    UnifiedAGN,\n",
    ")\n",
    "from synthesizer.emission_models.attenuation import PowerLaw\n",
    "from synthesizer.emission_models.dust.emission import Blackbody, Greybody\n",
    "from synthesizer.grid import Grid\n",
    "from synthesizer.parametric import SFH, ZDist\n",
    "from synthesizer.parametric import Stars as ParametricStars\n",
    "from synthesizer.particle import BlackHoles, Galaxy\n",
    "from synthesizer.particle.stars import sample_sfhz\n",
    "from unyt import Myr, kelvin\n",
    "\n",
    "# Get the grids which we'll need for extraction\n",
    "grid_dir = \"../../../tests/test_grid\"\n",
    "grid_name = \"test_grid\"\n",
    "grid = Grid(grid_name, grid_dir=grid_dir)\n",
    "nlr_grid = Grid(\"test_grid_agn-nlr\", grid_dir=\"../../../tests/test_grid\")\n",
    "blr_grid = Grid(\"test_grid_agn-blr\", grid_dir=\"../../../tests/test_grid\")\n",
    "\n",
    "# Get the stellar pacman model\n",
    "pc_model = BimodalPacmanEmission(\n",
    "    grid=grid,\n",
    "    tau_v_ism=1.0,\n",
    "    tau_v_nebular=0.7,\n",
    "    dust_curve_ism=PowerLaw(slope=-1.3),\n",
    "    dust_curve_nebular=PowerLaw(slope=-0.7),\n",
    "    dust_emission_ism=Blackbody(temperature=100 * kelvin),\n",
    "    dust_emission_nebular=Blackbody(temperature=30 * kelvin),\n",
    "    fesc=0.2,\n",
    "    fesc_ly_alpha=0.9,\n",
    "    label=\"stellar_total\",\n",
    ")\n",
    "\n",
    "\n",
    "# Get the UnifiedAGN model\n",
    "uni_model = UnifiedAGN(\n",
    "    nlr_grid,\n",
    "    blr_grid,\n",
    "    covering_fraction_nlr=0.1,\n",
    "    covering_fraction_blr=0.1,\n",
    "    torus_emission_model=Blackbody(1000 * kelvin),\n",
    "    label=\"agn_intrinsic\",\n",
    ")\n",
    "\n",
    "# Define an emission model to attenuate the intrinsic AGN emission\n",
    "att_uni_model = AttenuatedEmission(\n",
    "    dust_curve=PowerLaw(slope=-1.0),\n",
    "    apply_dust_to=uni_model,\n",
    "    tau_v=0.7,\n",
    "    emitter=\"blackhole\",\n",
    "    label=\"agn_attenuated\",\n",
    ")\n",
    "\n",
    "gal_intrinsic = EmissionModel(\n",
    "    label=\"total_intrinsic\",\n",
    "    combine=(uni_model, pc_model[\"intrinsic\"]),\n",
    "    emitter=\"galaxy\",\n",
    ")\n",
    "\n",
    "gal_attenuated = EmissionModel(\n",
    "    label=\"total_attenuated\",\n",
    "    combine=(att_uni_model, pc_model[\"attenuated\"]),\n",
    "    related_models=(gal_intrinsic,),\n",
    "    emitter=\"galaxy\",\n",
    ")\n",
    "\n",
    "# And now include the dust emission\n",
    "gal_dust = DustEmission(\n",
    "    dust_emission_model=Greybody(30 * kelvin, 1.2),\n",
    "    dust_lum_intrinsic=gal_intrinsic,\n",
    "    dust_lum_attenuated=gal_attenuated,\n",
    "    emitter=\"galaxy\",\n",
    "    label=\"dust_emission\",\n",
    ")\n",
    "\n",
    "gal_total = EmissionModel(\n",
    "    label=\"total\",\n",
    "    combine=(gal_attenuated, gal_dust),\n",
    "    related_models=(gal_intrinsic,),\n",
    "    emitter=\"galaxy\",\n",
    ")\n",
    "\n",
    "# Discard some spectra\n",
    "gal_total[\"young_linecont\"].set_save(False)\n",
    "gal_total[\"young_nebular_continuum\"].set_save(False)\n",
    "gal_total[\"old_linecont\"].set_save(False)\n",
    "gal_total[\"old_nebular_continuum\"].set_save(False)\n",
    "gal_total[\"disc_transmitted_nlr\"].set_save(False)\n",
    "gal_total[\"disc_transmitted_blr\"].set_save(False)\n",
    "gal_total[\"young_attenuated_nebular\"].set_save(False)\n",
    "\n",
    "gal_total.plot_emission_tree(figsize=(10, 6), fontsize=8)"
   ]
  },
  {
   "cell_type": "markdown",
   "metadata": {},
   "source": [
    "First lets make a galaxy containing both stars and black holes. We'll use a particle galaxy with particle ``Stars`` and ``BlackHoles``, but getting spectra is the same for both particle and parametric galaxies."
   ]
  },
  {
   "cell_type": "code",
   "execution_count": null,
   "metadata": {},
   "outputs": [],
   "source": [
    "# Define the metallicity history\n",
    "zh = ZDist.DeltaConstant(metallicity=0.01)\n",
    "\n",
    "# Define the star formation history\n",
    "sfh_p = {\"duration\": 100 * Myr}\n",
    "sfh = SFH.Constant(duration=100 * Myr)\n",
    "\n",
    "# Initialise the parametric Stars object\n",
    "param_stars = ParametricStars(\n",
    "    grid.log10age,\n",
    "    grid.metallicity,\n",
    "    sf_hist=sfh,\n",
    "    metal_dist=zh,\n",
    "    initial_mass=10**9,\n",
    ")\n",
    "\n",
    "# Define the number of stellar particles we want\n",
    "n = 10000\n",
    "\n",
    "# Sample the parametric SFZH, producing a particle Stars object\n",
    "# we will also pass some keyword arguments for some example attributes\n",
    "part_stars = sample_sfhz(\n",
    "    sfzh=param_stars.sfzh,\n",
    "    log10ages=param_stars.log10ages,\n",
    "    log10metallicities=param_stars.log10metallicities,\n",
    "    nstar=n,\n",
    "    current_masses=np.full(n, 10**8.7 / n),\n",
    "    redshift=1,\n",
    ")\n",
    "\n",
    "# Make fake properties\n",
    "n = 4\n",
    "masses = 10 ** np.random.uniform(low=7, high=9, size=n)  # Msun\n",
    "coordinates = np.random.normal(0, 1.5, (n, 3))  # cMpc\n",
    "accretion_rates = 10 ** np.random.uniform(\n",
    "    low=-2, high=1, size=n\n",
    ")  # Msun  # Msun / yr\n",
    "metallicities = np.full(n, 0.01)\n",
    "\n",
    "# And get the black holes object\n",
    "blackholes = BlackHoles(\n",
    "    masses=masses,\n",
    "    coordinates=coordinates,\n",
    "    accretion_rates=accretion_rates,\n",
    "    metallicities=metallicities,\n",
    ")\n",
    "\n",
    "# And create the galaxy\n",
    "galaxy = Galaxy(\n",
    "    stars=part_stars,\n",
    "    black_holes=blackholes,\n",
    "    redshift=1,\n",
    ")"
   ]
  },
  {
   "cell_type": "markdown",
   "metadata": {},
   "source": [
    "Similarly to component spectra, to generate galaxy level spectra we call the ``get_spectra`` method on a ``Galaxy``, with the ``EmissionModel``.\n",
    "There is no need to call the component methods; the ``Galaxy`` level method will handle generating the component spectra automatically. "
   ]
  },
  {
   "cell_type": "code",
   "execution_count": null,
   "metadata": {},
   "outputs": [],
   "source": [
    "spectra = galaxy.get_spectra(gal_total)"
   ]
  },
  {
   "cell_type": "markdown",
   "metadata": {},
   "source": [
    "Now we can plot the spectra we've generated using the ``plot_spectra`` method. Unlike the component versions of this method, we need to also flag which type of spectra we'd like to plot from the galaxy. \n",
    "\n",
    "We can plot only stellar spectra, only black hole spectra or the combined spectra. Below we show the combined."
   ]
  },
  {
   "cell_type": "code",
   "execution_count": null,
   "metadata": {},
   "outputs": [],
   "source": [
    "galaxy.plot_spectra(\n",
    "    combined_spectra=True,\n",
    "    stellar_spectra=False,\n",
    "    black_hole_spectra=False,\n",
    "    show=True,\n",
    "    figsize=(6, 4),\n",
    ")"
   ]
  },
  {
   "cell_type": "markdown",
   "metadata": {},
   "source": [
    "## Getting observed spectra\n",
    "\n",
    "If we want to get the observed spectra for all spectra on a galaxy we can use the ``get_observed_spectra`` method.\n",
    "This uses the ``redshift`` attribute on the galaxy object by default."
   ]
  },
  {
   "cell_type": "code",
   "execution_count": null,
   "metadata": {},
   "outputs": [],
   "source": [
    "from astropy.cosmology import Planck18 as cosmo\n",
    "\n",
    "galaxy.get_observed_spectra(cosmo)"
   ]
  },
  {
   "cell_type": "markdown",
   "metadata": {},
   "source": [
    "Which we can also plot with the ``plot_observed_spectra`` method (here only showing the combined spectra, which is the default)."
   ]
  },
  {
   "cell_type": "code",
   "execution_count": null,
   "metadata": {},
   "outputs": [],
   "source": [
    "galaxy.plot_observed_spectra(show=True, figsize=(8, 6))"
   ]
  },
  {
   "cell_type": "markdown",
   "metadata": {},
   "source": [
    "## Modifying `EmissionModel` parameters with `get_spectra`\n",
    "\n",
    "As well as modifying a model explicitly, it's also possible to overide the properties of a model at the point `get_spectra` is called. These modifications will not be remembered by the model afterwards. As it stands, this form of modification is supported for the `dust_curve`, `tau_v`, `fesc`, `covering_fraction` and `masks`.\n",
    "\n",
    "For more details on this see the [stars](stars.ipynb) and [blackhole](blackholes.ipynb) spectra docs where the modification is described and demonstrated in each context."
   ]
  }
 ],
 "metadata": {},
 "nbformat": 4,
 "nbformat_minor": 2
}
