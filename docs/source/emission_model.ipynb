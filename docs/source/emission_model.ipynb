{
 "cells": [
  {
   "cell_type": "markdown",
   "metadata": {},
   "source": [
    "# Emission Models\n",
    "\n",
    "To simplify the construction of complex spectra with many contributing components and different operations involved in their construction Synthesizer uses `EmissionModels`. These objects define the generation of a single spectra in the construction of a more complex whole. The possible operations that an `EmissionModel` can define are:\n",
    "- Extraction of a spectra from a `Grid` (see the `Grid` [docs](grids/grids_example.ipynb)).\n",
    "- Combination of different spectra.\n",
    "- Generation of dust emission spectra (see the dust emission [docs](misc/dust_emission.ipynb)).\n",
    "- Attenuation of a spectra with a dust curve (see the dust attenuation docs [WIP]()).\n",
    "\n",
    "In addition any one of these operations can also be done in the presence of a mask to apply the operation to a subset of the components contents (either particles or a parametric model).\n",
    "\n",
    "Once an `EmissionModel` is constructed it can be passed to any `get_spectra` method on an emitter (a `Galaxy` or galaxy component) to get the spectra defined in the passed `EmissionModel` for that emitter. For more details see [generating a parametric spectra](parametric/generate_sed.ipynb) or generating a particle spectra [WIP]().\n",
    "\n",
    "## Emission model dependencies\n",
    "\n",
    "Each of operation a model can define depends on different properties being set.\n",
    "\n",
    "For extraction operations you need:\n",
    "- A grid to extract from (`grid`).\n",
    "- A spectra key to extract (`extract`).\n",
    "- Optionally, an escape fraction to apply which defaults to 0.0 (`fesc`).\n",
    "\n",
    "For combination operations you need:\n",
    "- The a list of models which will be combined into the resultant spectra (`combine`).\n",
    "\n",
    "For generation of dust emission you need:\n",
    "- A [dust emission model](misc/dust_emission.ipynb) from which to generate spectra (`dust_emission_model`).\n",
    "\n",
    "For attenuation operations you need:\n",
    "- The [dust curve]() to apply (`dust_curve`).\n",
    "- The model to apply the attenuation to (`apply_dust_to`).\n",
    "- The optical depth to use with the dust curve (`tau_v`).\n",
    "\n",
    "As mentioned, masking can be applied alongside any of these operations. Additionally, any number of masks can be combined on the same operation. Each mask is defined by:\n",
    "- The attribute of the component to mask on (`mask_attr`).\n",
    "- The threshold of the mask (`thresh`).\n",
    "- The operator to use when generating the mask, i.e. \"<\", \">\", \"<=\", \">=\", \"==\", or \"!=\" (`op`).\n",
    "\n",
    "We'll cover all of these operations and parameters in more detail below.\n",
    "\n",
    "## Premade Models\n",
    "\n",
    "In the sections below we'll cover setting up your own model but most use cases will want a common set of spectra with a common set of properties. To avoid unnecessarily redefining common models every time Synthesizer is used we provide some premade models which can be used \"out of the box\" or as the foundation for constructing more complex models.\n",
    "\n",
    "These premade models can be imported directly from the `emission_models` submodule which also defines a list containing all available models we have defined."
   ]
  },
  {
   "cell_type": "code",
   "execution_count": null,
   "metadata": {},
   "outputs": [],
   "source": [
    "from synthesizer.emission_models import PREMADE_MODELS\n",
    "\n",
    "print(PREMADE_MODELS)"
   ]
  },
  {
   "cell_type": "markdown",
   "metadata": {},
   "source": [
    "To use any of these models the model simply needs importing and the required arguments passed, which arguments are required depends on the exact operation, more complex models further down the model \"tree\" will require more parameters to pass to the models which make them up.\n",
    "\n",
    "Here is a demonstration of initialising different premade models with differing levels of complexity."
   ]
  },
  {
   "cell_type": "code",
   "execution_count": null,
   "metadata": {},
   "outputs": [],
   "source": [
    "from synthesizer.dust.attenuation import PowerLaw\n",
    "from synthesizer.dust.emission import Blackbody\n",
    "from synthesizer.emission_models import (\n",
    "    EmergentEmission,\n",
    "    TotalEmission,\n",
    "    TransmittedEmission,\n",
    ")\n",
    "from synthesizer.grid import Grid\n",
    "\n",
    "# Get the grid which we'll need for extraction\n",
    "grid_dir = \"../../tests/test_grid\"\n",
    "grid_name = \"test_grid\"\n",
    "grid = Grid(grid_name, grid_dir=grid_dir)\n",
    "\n",
    "# Get a simple extraction model (with optional fesc)\n",
    "transmitted = TransmittedEmission(grid=grid, fesc=0.3)\n",
    "\n",
    "# Get the emergent model which combines the escaped\n",
    "# emission with an attenuated emission (here using incident\n",
    "# for demonstration purposes) and requires some dust\n",
    "# attenuation properties\n",
    "emergent = EmergentEmission(\n",
    "    grid=grid,\n",
    "    dust_curve=PowerLaw(slope=-1),\n",
    "    apply_dust_to=transmitted,\n",
    "    tau_v=0.67,\n",
    "    fesc=0.2,\n",
    ")\n",
    "\n",
    "# Finally, define a Total emission model which\n",
    "# is the combination of all other spectra\n",
    "model = TotalEmission(\n",
    "    grid=grid,\n",
    "    dust_curve=PowerLaw(slope=-1),\n",
    "    tau_v=0.67,\n",
    "    dust_emission_model=Blackbody,\n",
    ")"
   ]
  },
  {
   "cell_type": "markdown",
   "metadata": {},
   "source": [
    "With these model now defined they can be passed into any emitter's spectra generation method but you can also visualise the different spectra and operations encapsulated by a model and see the \"model tree\". To do see we can use the `plot_emission_model` method.\n",
    "\n",
    "Lets take a look at the total emission model."
   ]
  },
  {
   "cell_type": "code",
   "execution_count": null,
   "metadata": {},
   "outputs": [],
   "source": [
    "# Plot the model tree\n",
    "model.plot_emission_tree()"
   ]
  },
  {
   "cell_type": "markdown",
   "metadata": {},
   "source": [
    "Here we can see each individual spectra generated by the model and how they relate. Solid lines denote combinations of spectra into another, dashed lines denote an attenuation of the child spectra to produce the parent, blue boxes have no mask applied, green boxes (which we currently have none of) have a mask applied to them, rounded boxes are the result of a non-extraction operation, and square boxes are an extraction operation. You'll notice the extraction operations are always leaves in the tree.\n",
    "\n",
    "Note that omitting `dust_emission_model` when initialising `TotalEmission` will result in a simpler model where `total == emergent`.\n",
    "\n",
    "### Charlot and Fall\n",
    "\n",
    "In addition to the simpler models shown above we also implement some more complex models. The first of these follows Charlot&Fall+2000:\n",
    "\n",
    "- ...\n",
    "\n"
   ]
  },
  {
   "cell_type": "code",
   "execution_count": null,
   "metadata": {},
   "outputs": [],
   "source": []
  },
  {
   "cell_type": "markdown",
   "metadata": {},
   "source": [
    "### Pacman\n",
    "\n",
    "We also implement a more generalised form of Charlot&Fall+2000 which we call \"Pacman\":\n",
    "\n",
    "- ..."
   ]
  },
  {
   "cell_type": "code",
   "execution_count": null,
   "metadata": {},
   "outputs": [],
   "source": []
  },
  {
   "cell_type": "markdown",
   "metadata": {},
   "source": [
    "\n",
    "## Modifying a model\n",
    "\n",
    "Of course, a premade model may not behave in the exact way you want for your application but it may not be different enough to warrant making your own from scratch. In these instances any properties of a model can be modified or changed. To do so we simply call a method which can change or add to a property on either the base model (`label=None`), a specific model (e.g. `label=\"nebular\"`), or (for certain properties) all applicable models (`set_all=True`).\n",
    "\n",
    "You can add a mask."
   ]
  },
  {
   "cell_type": "code",
   "execution_count": null,
   "metadata": {},
   "outputs": [],
   "source": [
    "from unyt import dimensionless\n",
    "\n",
    "model.add_mask(\"log10ages\", 7 * dimensionless, \"<\", label=\"nebular_continuum\")\n",
    "model.add_mask(\"log10ages\", 7 * dimensionless, \"<\", label=\"linecont\")"
   ]
  },
  {
   "cell_type": "markdown",
   "metadata": {},
   "source": [
    "Here we've just added a filter for only young stars for the nebular component. Notice however, that we have had to supply units alongside our threshold, this is required to maintain consistency across objects but also enables arbitrary units to be used for a threshold.\n",
    "\n",
    "We can see the effect of this in the emission model tree."
   ]
  },
  {
   "cell_type": "code",
   "execution_count": null,
   "metadata": {},
   "outputs": [],
   "source": [
    "model.plot_emission_tree()"
   ]
  },
  {
   "cell_type": "markdown",
   "metadata": {},
   "source": [
    "\n",
    "\n",
    "You can change the grid (here we'll just pass the same grid again for demonstration purposes)."
   ]
  },
  {
   "cell_type": "code",
   "execution_count": null,
   "metadata": {},
   "outputs": [],
   "source": [
    "model.set_grid(grid, set_all=True)"
   ]
  },
  {
   "cell_type": "markdown",
   "metadata": {},
   "source": [
    "Notice that we've changed the grid for the whole model by passing `set_all=True`.\n",
    "\n",
    "We can also change dust properties but for these we don't have to do each individually and can instead call a single method."
   ]
  },
  {
   "cell_type": "code",
   "execution_count": null,
   "metadata": {},
   "outputs": [],
   "source": [
    "model.set_dust_props(\n",
    "    dust_curve=PowerLaw(slope=-0.7),\n",
    "    apply_dust_to=model[\"reprocessed\"],\n",
    "    tau_v=0.7,\n",
    "    label=\"attenuated\",\n",
    ")"
   ]
  },
  {
   "cell_type": "markdown",
   "metadata": {},
   "source": [
    "Notice we've used `model[\"reprocessed\"]` to access the reprocessed model that's already part of the `EmissionModel` in the above, an `EmissionModel` supports dicitonary like key indexing to extract models by label.\n",
    "\n",
    "As well as just changing the properties of existing models we can also replace a model with one or more models. As an example, below we will swap out the attenuation model with two separate attenuation models which apply different dust curves to the old and young population (for further information on defining your own models see below)."
   ]
  },
  {
   "cell_type": "code",
   "execution_count": null,
   "metadata": {},
   "outputs": [],
   "source": [
    "from synthesizer.emission_models import EmissionModel\n",
    "\n",
    "# Define the models well replace attenuate with\n",
    "young_attenuated = EmissionModel(\n",
    "    \"young_attenuated\",\n",
    "    dust_curve=PowerLaw(slope=-1),\n",
    "    apply_dust_to=model[\"reprocessed\"],\n",
    "    tau_v=0.7,\n",
    "    mask_attr=\"log10ages\",\n",
    "    mask_thresh=7 * dimensionless,\n",
    "    mask_op=\"<=\",\n",
    ")\n",
    "old_attenuated = EmissionModel(\n",
    "    \"old_attenuated\",\n",
    "    dust_curve=PowerLaw(slope=-1),\n",
    "    apply_dust_to=model[\"reprocessed\"],\n",
    "    tau_v=0.7 * 0.67,\n",
    "    mask_attr=\"log10ages\",\n",
    "    mask_thresh=7 * dimensionless,\n",
    "    mask_op=\">\",\n",
    ")\n",
    "\n",
    "model.replace_model(\"attenuated\", young_attenuated, old_attenuated)\n",
    "model.plot_emission_tree()"
   ]
  },
  {
   "cell_type": "markdown",
   "metadata": {},
   "source": [
    "Although not shown here explicitly, passing a single model for the replacement will just swap out the model. \n",
    "\n",
    "## Creating your own EmissionModel\n",
    "\n",
    "To create your own `EmissionModel` all you need to do is define each indiviudal spectra and chain them together. \n",
    "\n",
    "### Defining an extraction\n",
    "\n",
    "To define an extraction we simply need to pass a `Grid` to extract from and a spectra key to extract (with the option of providing an escape fraction)."
   ]
  },
  {
   "cell_type": "code",
   "execution_count": null,
   "metadata": {},
   "outputs": [],
   "source": [
    "transmitted = EmissionModel(\n",
    "    \"transmitted\", grid=grid, extract=\"transmitted\", fesc=0.3\n",
    ")"
   ]
  },
  {
   "cell_type": "markdown",
   "metadata": {},
   "source": [
    "You'll notice this is similar to using the premade models detailed above but now we have freedom over the `label` too (the first argument).\n",
    "\n",
    "### Defining a combination\n",
    "\n",
    "To define a combination we simply pass the models we want combined to the `combine` keyword (along with a label)."
   ]
  },
  {
   "cell_type": "code",
   "execution_count": null,
   "metadata": {},
   "outputs": [],
   "source": [
    "# Define models to combine\n",
    "linecont = EmissionModel(\n",
    "    \"linecont\",\n",
    "    grid=grid,\n",
    "    extract=\"linecont\",\n",
    "    mask_attr=\"log10ages\",\n",
    "    mask_thresh=7 * dimensionless,\n",
    "    mask_op=\"<\",\n",
    "    fesc=0.7,\n",
    ")\n",
    "nebular_cont = EmissionModel(\n",
    "    \"nebular_continuum\",\n",
    "    grid=grid,\n",
    "    extract=\"nebular_continuum\",\n",
    "    mask_attr=\"log10ages\",\n",
    "    mask_thresh=7 * dimensionless,\n",
    "    mask_op=\"<\",\n",
    ")\n",
    "\n",
    "# Define the combined model\n",
    "nebular = EmissionModel(\"nebular\", combine=(linecont, nebular_cont))"
   ]
  },
  {
   "cell_type": "markdown",
   "metadata": {},
   "source": [
    "### Defining an attenuation\n",
    "\n",
    "To define an attenuated spectra we need a dust curve, the spectra to apply the dust to, and an optical depth (once again along with a label).\n",
    "\n",
    "One thing we haven't mentioned up until now is that `tau_v` and `fesc` can both have strings passed instead of numbers. When a string is passed the spectra generator method will extract the attribute of a component stated in the string and use those extracted values for `tau_v` or `fesc`."
   ]
  },
  {
   "cell_type": "code",
   "execution_count": null,
   "metadata": {},
   "outputs": [],
   "source": [
    "attenuated = EmissionModel(\n",
    "    \"attenuated\",\n",
    "    dust_curve=PowerLaw(slope=-1),\n",
    "    apply_dust_to=nebular,\n",
    "    tau_v=\"tau_v\",\n",
    ")"
   ]
  },
  {
   "cell_type": "markdown",
   "metadata": {},
   "source": [
    "### Including a mask\n",
    "\n",
    "A mask can be included in any step by passing `mask_attr`, `mask_thresh`, and `mask_op`."
   ]
  },
  {
   "cell_type": "code",
   "execution_count": null,
   "metadata": {},
   "outputs": [],
   "source": [
    "masked_transmitted = EmissionModel(\n",
    "    \"masked_transmitted\",\n",
    "    grid=grid,\n",
    "    extract=\"transmitted\",\n",
    "    fesc=\"fesc\",\n",
    "    mask_attr=\"log10ages\",\n",
    "    mask_thresh=7 * dimensionless,\n",
    "    mask_op=\"<\",\n",
    ")"
   ]
  },
  {
   "cell_type": "markdown",
   "metadata": {},
   "source": [
    "But we aren't tied to having only a single mask on a step. If we want to add more masks we can use `add_mask` as we did on the premade models, these will be combined with an `and` at the point of spectra generation."
   ]
  },
  {
   "cell_type": "code",
   "execution_count": null,
   "metadata": {},
   "outputs": [],
   "source": [
    "masked_transmitted.add_mask(\"metallicities\", 0.01 * dimensionless, \"<\")\n",
    "masked_transmitted.add_mask(\"log10ages\", 6 * dimensionless, \">\")"
   ]
  },
  {
   "cell_type": "markdown",
   "metadata": {},
   "source": [
    "In the code below we'll reconstruct the `TotalEmission` model with the Charlot&Fall+2000 like attenuation operation explicitly to demonstrate constructing a complex model."
   ]
  },
  {
   "cell_type": "code",
   "execution_count": null,
   "metadata": {},
   "outputs": [],
   "source": [
    "# Define the extractions\n",
    "transmitted = EmissionModel(\n",
    "    \"transmitted\",\n",
    "    grid=grid,\n",
    "    extract=\"transmitted\",\n",
    "    fesc=0.3,\n",
    ")\n",
    "escaped = EmissionModel(\"escaped\", grid=grid, extract=\"transmitted\", fesc=0.7)\n",
    "linecont = EmissionModel(\n",
    "    \"linecont\",\n",
    "    grid=grid,\n",
    "    extract=\"linecont\",\n",
    "    mask_attr=\"log10ages\",\n",
    "    mask_thresh=7 * dimensionless,\n",
    "    mask_op=\"<\",\n",
    "    fesc=0.7,\n",
    ")\n",
    "nebular_cont = EmissionModel(\n",
    "    \"nebular_continuum\",\n",
    "    grid=grid,\n",
    "    extract=\"nebular_continuum\",\n",
    "    mask_attr=\"log10ages\",\n",
    "    mask_thresh=7 * dimensionless,\n",
    "    mask_op=\"<\",\n",
    ")\n",
    "\n",
    "# Combine the extractions\n",
    "nebular = EmissionModel(\"nebular\", combine=(linecont, nebular_cont))\n",
    "reprocessed = EmissionModel(\"reprocessed\", combine=(nebular, transmitted))\n",
    "\n",
    "# Apply the young and old dust attenuation\n",
    "young_attenuated = EmissionModel(\n",
    "    \"young_attenuated\",\n",
    "    dust_curve=PowerLaw,\n",
    "    apply_dust_to=reprocessed,\n",
    "    tau_v=(\"tau_v\", 0.67),\n",
    "    mask_attr=\"log10ages\",\n",
    "    mask_thresh=7 * dimensionless,\n",
    "    mask_op=\"<=\",\n",
    ")\n",
    "old_attenuated = EmissionModel(\n",
    "    \"old_attenuated\",\n",
    "    dust_curve=PowerLaw,\n",
    "    apply_dust_to=reprocessed,\n",
    "    tau_v=\"tau_v\",\n",
    "    mask_attr=\"log10ages\",\n",
    "    mask_thresh=7 * dimensionless,\n",
    "    mask_op=\">\",\n",
    ")\n",
    "\n",
    "# And combine them into a single attenuated spectra\n",
    "attenuated = EmissionModel(\n",
    "    \"attenuated\", combine=(young_attenuated, old_attenuated)\n",
    ")\n",
    "emergent = EmissionModel(\"emergent\", combine=(attenuated, escaped))\n",
    "\n",
    "# Create a dust emission model\n",
    "dust_emission = EmissionModel(\"dust_emission\", dust_emission_model=Blackbody)\n",
    "\n",
    "# And bring everything together into the total emission\n",
    "total = EmissionModel(\"total\", combine=(emergent, dust_emission))\n",
    "\n",
    "total.plot_emission_tree()"
   ]
  }
 ],
 "metadata": {
  "kernelspec": {
   "display_name": "synthesizer-env",
   "language": "python",
   "name": "python3"
  },
  "language_info": {
   "codemirror_mode": {
    "name": "ipython",
    "version": 3
   },
   "file_extension": ".py",
   "mimetype": "text/x-python",
   "name": "python",
   "nbconvert_exporter": "python",
   "pygments_lexer": "ipython3"
  }
 },
 "nbformat": 4,
 "nbformat_minor": 2
}
