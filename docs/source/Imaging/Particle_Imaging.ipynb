{
 "cells": [
  {
   "cell_type": "markdown",
   "id": "7be39bda",
   "metadata": {},
   "source": [
    "# Creating Images in Multiple Bands from Particle distributions\n",
    "\n",
    "In this example we show how to create various different types of images from stellar particles. For this purpose we utilise the parametric SFZH functionality to create fake galaxies, derive their spectra from the SPS grid and then make images using the Sythensizer Imaging submodule."
   ]
  },
  {
   "cell_type": "code",
   "execution_count": null,
   "id": "851fc3fa",
   "metadata": {},
   "outputs": [],
   "source": [
    "import os\n",
    "import time\n",
    "import numpy as np\n",
    "import matplotlib as mpl\n",
    "import matplotlib.pyplot as plt\n",
    "import matplotlib.gridspec as gridspec\n",
    "from unyt import yr, Myr, kpc, arcsec\n",
    "from astropy.cosmology import Planck18 as cosmo\n",
    "\n",
    "from synthesizer.grid import Grid\n",
    "from synthesizer.parametric.sfzh import SFH, ZH, generate_sfzh\n",
    "from synthesizer.particle.stars import sample_sfhz\n",
    "from synthesizer.particle.stars import Stars\n",
    "from synthesizer.galaxy.particle import ParticleGalaxy as Galaxy\n",
    "from synthesizer.particle.particles import CoordinateGenerator\n",
    "from synthesizer.filters import FilterCollection as Filters\n",
    "from synthesizer.kernel_functions import quintic\n",
    "\n",
    "\n",
    "plt.rcParams[\"font.family\"] = \"DeJavu Serif\"\n",
    "plt.rcParams[\"font.serif\"] = [\"Times New Roman\"]\n",
    "\n",
    "# Set the seed\n",
    "np.random.seed(42)"
   ]
  },
  {
   "cell_type": "markdown",
   "id": "39283e1d",
   "metadata": {},
   "source": [
    "First port of call is initilaising the SPS grid. Here we use a simple test grid with limited properties."
   ]
  },
  {
   "cell_type": "code",
   "execution_count": null,
   "id": "3d1664bc",
   "metadata": {},
   "outputs": [],
   "source": [
    "# Define the grid\n",
    "grid_name = \"test_grid\"\n",
    "grid_dir = \"../../../tests/test_grid/\"\n",
    "grid = Grid(grid_name, grid_dir=grid_dir)"
   ]
  },
  {
   "cell_type": "markdown",
   "id": "159ee618",
   "metadata": {},
   "source": [
    "With the grid in hand we need to define a star formation metallicity history from which to sample. In this toy example we use a constant SFH and metallicity history."
   ]
  },
  {
   "cell_type": "code",
   "execution_count": null,
   "id": "66a623a8",
   "metadata": {},
   "outputs": [],
   "source": [
    "# Define the metallicity history\n",
    "Z_p = {\"Z\": 0.01}\n",
    "Zh = ZH.deltaConstant(Z_p)\n",
    "\n",
    "# Define the star formation history\n",
    "sfh_p = {\"duration\": 100 * Myr}\n",
    "sfh = SFH.Constant(sfh_p)\n",
    "\n",
    "# Initialise the SFZH object\n",
    "sfzh = generate_sfzh(grid.log10ages, grid.metallicities, sfh, Zh, stellar_mass=10**9)"
   ]
  },
  {
   "cell_type": "markdown",
   "id": "43a3d6cc",
   "metadata": {},
   "source": [
    "We can now sample this SFZH for individual stellar \"particles\" and create a Stars object. In a real world example the Stars can be intialised from simulation data (see a `cosmo` example to see how), here we generate random coordinates from a gaussian and simulate true smoothing lengths by making them increase with increasing radius.\n",
    "\n",
    "Note that setting attributes in this way is only necessary when sampling from a SFZH. When working with data, attributes can be passed as kwargs when intialising a Stars object. Soon this will be updated."
   ]
  },
  {
   "cell_type": "code",
   "execution_count": null,
   "id": "685271f0",
   "metadata": {},
   "outputs": [],
   "source": [
    "stars_start = time.time()\n",
    "\n",
    "# Define the number of stellar particles\n",
    "n = 100000\n",
    "\n",
    "# Generate some random coordinates\n",
    "coords = CoordinateGenerator.generate_3D_gaussian(n)\n",
    "\n",
    "# Sample the SFZH, producing a Stars\n",
    "stars = sample_sfhz(sfzh, n)\n",
    "\n",
    "# Assign our coordinates and their units to the Stars object\n",
    "stars.coordinates = coords\n",
    "stars.coord_units = kpc\n",
    "\n",
    "# Similarly, set the initial masses.\n",
    "stars.initial_masses = np.full(n, 10**9 / n)\n",
    "\n",
    "# Calculate the smoothing lengths from radii\n",
    "cent = np.mean(coords, axis=0)\n",
    "rs = np.sqrt(\n",
    "        (coords[:, 0] - cent[0]) ** 2\n",
    "        + (coords[:, 1] - cent[1]) ** 2\n",
    "        + (coords[:, 2] - cent[2]) ** 2\n",
    ")\n",
    "rs[rs < 0.1] = 0.4  # Set a lower bound on the \"smoothing length\"\n",
    "stars.smoothing_lengths = rs / 4  # convert radii into smoothing lengths\n",
    "\n",
    "# Finally, associate the stellar particles with a redshift for flux calculation\n",
    "stars.redshift = 1\n",
    "\n",
    "# Compute the width of stellar distribution, we'll use this to define the FOV later\n",
    "width = np.max(coords) - np.min(coords)\n",
    "\n",
    "print(\"Stars created, took:\", time.time() - stars_start)"
   ]
  },
  {
   "cell_type": "code",
   "execution_count": null,
   "id": "9bde3879",
   "metadata": {},
   "outputs": [],
   "source": []
  },
  {
   "cell_type": "code",
   "execution_count": null,
   "id": "a3e79a64",
   "metadata": {},
   "outputs": [],
   "source": [
    "    galaxy_start = time.time()\n",
    "\n",
    "    # Create galaxy object\n",
    "    galaxy = Galaxy(stars=stars)\n",
    "\n",
    "    print(\"Galaxy created, took:\", time.time() - galaxy_start)"
   ]
  },
  {
   "cell_type": "code",
   "execution_count": null,
   "id": "3bb68e64",
   "metadata": {},
   "outputs": [],
   "source": []
  },
  {
   "cell_type": "code",
   "execution_count": null,
   "id": "377a361c",
   "metadata": {},
   "outputs": [],
   "source": [
    "    spectra_start = time.time()\n",
    "\n",
    "    # Calculate the stars SEDs\n",
    "    sed = galaxy.generate_particle_spectra(grid, sed_object=True,\n",
    "                                           spectra_type=\"stellar\")\n",
    "    sed.get_fnu(cosmo, stars.redshift, igm=None)\n",
    "\n",
    "    print(\"Spectra created, took:\", time.time() - spectra_start)"
   ]
  },
  {
   "cell_type": "code",
   "execution_count": null,
   "id": "0159cc19",
   "metadata": {},
   "outputs": [],
   "source": []
  },
  {
   "cell_type": "code",
   "execution_count": null,
   "id": "fc351b04",
   "metadata": {},
   "outputs": [],
   "source": [
    "    filter_start = time.time()\n",
    "\n",
    "    # Define filter list\n",
    "    filter_codes = [\n",
    "        \"JWST/NIRCam.F090W\",\n",
    "        \"JWST/NIRCam.F150W\",\n",
    "        \"JWST/NIRCam.F200W\",\n",
    "    ]\n",
    "\n",
    "    # Set up filter object\n",
    "    filters = Filters(filter_codes, new_lam=grid.lam)\n",
    "\n",
    "    print(\"Filters created, took:\", time.time() - filter_start)"
   ]
  },
  {
   "cell_type": "code",
   "execution_count": null,
   "id": "adadd32e",
   "metadata": {},
   "outputs": [],
   "source": [
    "    img_start = time.time()\n",
    "\n",
    "    # Define image propertys\n",
    "    redshift = 1\n",
    "    resolution = ((width + 1) / 100) * kpc\n",
    "    width = (width + 1) * kpc\n",
    "\n",
    "    # Get the image\n",
    "    hist_img = galaxy.make_image(\n",
    "        resolution,\n",
    "        fov=width,\n",
    "        img_type=\"hist\",\n",
    "        sed=sed,\n",
    "        filters=filters,\n",
    "        kernel_func=quintic,\n",
    "        rest_frame=False,\n",
    "        cosmo=cosmo,\n",
    "    )\n",
    "\n",
    "    print(\"Histogram images made, took:\", time.time() - img_start)\n",
    "    "
   ]
  },
  {
   "cell_type": "code",
   "execution_count": null,
   "id": "48377c47",
   "metadata": {},
   "outputs": [],
   "source": [
    "    img_start = time.time()\n",
    "\n",
    "    # Get the image\n",
    "    smooth_img = galaxy.make_image(\n",
    "        resolution,\n",
    "        fov=width,\n",
    "        img_type=\"smoothed\",\n",
    "        sed=sed,\n",
    "        filters=filters,\n",
    "        kernel_func=quintic,\n",
    "        rest_frame=False,\n",
    "        cosmo=cosmo,\n",
    "    )\n",
    "\n",
    "    print(\"Smoothed images made, took:\", time.time() - img_start)"
   ]
  },
  {
   "cell_type": "code",
   "execution_count": null,
   "id": "53795b98",
   "metadata": {},
   "outputs": [],
   "source": [
    "    hist_imgs = hist_img.imgs\n",
    "    smooth_imgs = smooth_img.imgs\n",
    "\n",
    "    print(\"Sucessfuly made images for:\", [key for key in hist_imgs])\n",
    "\n",
    "    print(\"Total runtime (not including plotting):\", time.time() - start)\n",
    "\n",
    "    # Set up plot\n",
    "    fig = plt.figure(figsize=(4 * len(filters), 4 * 2))\n",
    "    gs = gridspec.GridSpec(2, len(filters))\n",
    "\n",
    "    # Create top row\n",
    "    axes = []\n",
    "    for i in range(len(filters)):\n",
    "        axes.append(fig.add_subplot(gs[0, i]))\n",
    "\n",
    "    # Loop over images plotting them\n",
    "    for ax, fcode in zip(axes, filter_codes):\n",
    "        ax.imshow(hist_imgs[fcode])\n",
    "        ax.set_title(fcode)\n",
    "\n",
    "    # Set y axis label on left most plot\n",
    "    axes[0].set_ylabel(\"Histogram\")\n",
    "\n",
    "    # Create bottom row\n",
    "    axes = []\n",
    "    for i in range(len(filters)):\n",
    "        axes.append(fig.add_subplot(gs[1, i]))\n",
    "\n",
    "    # Loop over images plotting them\n",
    "    for ax, fcode in zip(axes, filter_codes):\n",
    "        ax.imshow(smooth_imgs[fcode])\n",
    "\n",
    "    # Set y axis label on left most plot\n",
    "    axes[0].set_ylabel(\"Smoothed\")\n",
    "\n",
    "    # Plot the image\n",
    "    plt.savefig(script_path + \"/plots/flux_in_filters_test.png\",\n",
    "                bbox_inches=\"tight\", dpi=300)\n",
    "\n",
    "    # Also, lets make an RGB image\n",
    "    fig, ax, rgb_img = smooth_img.plot_rgb_image(\n",
    "        rgb_filters={\"R\": [\"JWST/NIRCam.F200W\",],\n",
    "                     \"G\": [\"JWST/NIRCam.F150W\",],\n",
    "                     \"B\": [\"JWST/NIRCam.F090W\",]},\n",
    "        img_type=\"standard\",\n",
    "    )\n",
    "\n",
    "    fig.savefig(script_path + \"/plots/flux_in_filters_RGB_test.png\",\n",
    "                bbox_inches=\"tight\", dpi=300)"
   ]
  }
 ],
 "metadata": {
  "kernelspec": {
   "display_name": "Python 3 (ipykernel)",
   "language": "python",
   "name": "python3"
  },
  "language_info": {
   "codemirror_mode": {
    "name": "ipython",
    "version": 3
   },
   "file_extension": ".py",
   "mimetype": "text/x-python",
   "name": "python",
   "nbconvert_exporter": "python",
   "pygments_lexer": "ipython3",
   "version": "3.10.4"
  }
 },
 "nbformat": 4,
 "nbformat_minor": 5
}
