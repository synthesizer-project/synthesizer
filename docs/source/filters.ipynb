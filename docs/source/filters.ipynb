{
 "cells": [
  {
   "cell_type": "markdown",
   "id": "049e7dab-d9c7-48d5-92c2-909192210e40",
   "metadata": {},
   "source": [
    "# Filters\n",
    "\n",
    "A demonstration of filter and filter collections creation and usage."
   ]
  },
  {
   "cell_type": "code",
   "execution_count": 1,
   "id": "2d733efa-b507-4c1a-9432-cbf51ee237df",
   "metadata": {
    "tags": []
   },
   "outputs": [],
   "source": [
    "import numpy as np\n",
    "from synthesizer.filters import Filter, FilterCollection, UVJ"
   ]
  },
  {
   "cell_type": "markdown",
   "id": "5dd94215-0ef9-4947-af38-7bcf017389da",
   "metadata": {},
   "source": [
    "Define some wavelengths (in A) over which we want to define our filters"
   ]
  },
  {
   "cell_type": "code",
   "execution_count": 17,
   "id": "d9b34d59-6fcc-4912-ae1f-eef7bfb9143f",
   "metadata": {
    "tags": []
   },
   "outputs": [],
   "source": [
    "lams = np.linspace(2000, 55000, 1000)"
   ]
  },
  {
   "cell_type": "markdown",
   "id": "258adbc4-4dd5-421b-9c0b-111ffbf92d01",
   "metadata": {},
   "source": [
    "Define an individual filter from SVO"
   ]
  },
  {
   "cell_type": "code",
   "execution_count": 4,
   "id": "3f9bb75f-88e0-4994-83f9-be791845ea51",
   "metadata": {
    "tags": []
   },
   "outputs": [],
   "source": [
    "filt = Filter(\"JWST/NIRCam.F200W\", new_lam=lams)"
   ]
  },
  {
   "cell_type": "markdown",
   "id": "6250fc58-00a8-4581-a813-9f4bbce41824",
   "metadata": {},
   "source": [
    "And define a fake transmission curve"
   ]
  },
  {
   "cell_type": "code",
   "execution_count": 5,
   "id": "e2c5f24d-88b3-4910-9553-37e10e57c2e6",
   "metadata": {
    "tags": []
   },
   "outputs": [],
   "source": [
    "trans = np.zeros(lams.size)\n",
    "trans[int(lams.size / 4): int(lams.size / 2)] = 1"
   ]
  },
  {
   "cell_type": "markdown",
   "id": "177ea51a-0c85-4bae-96f5-c59f97c3e3f8",
   "metadata": {},
   "source": [
    "You can either define a FilterCollection from a single filter type"
   ]
  },
  {
   "cell_type": "code",
   "execution_count": 6,
   "id": "bef7fefc-0a18-43dd-8cda-da5164794ed7",
   "metadata": {
    "tags": []
   },
   "outputs": [],
   "source": [
    "fs = [f\"JWST/NIRCam.{f}\" for f in [\"F070W\", \"F444W\"]]\n",
    "fc1 = FilterCollection(filter_codes=fs, new_lam=lams)"
   ]
  },
  {
   "cell_type": "markdown",
   "id": "5521961e-60df-4e06-a446-2c0b88275672",
   "metadata": {},
   "source": [
    "... or a mixture, assuming the wavelengths are in the same unit system."
   ]
  },
  {
   "cell_type": "code",
   "execution_count": 7,
   "id": "5be15fdd-5d91-4130-935d-d980a5954189",
   "metadata": {
    "tags": []
   },
   "outputs": [],
   "source": [
    "fs = [f\"JWST/NIRCam.{f}\" for f in [\"F090W\", \"F250M\"]]\n",
    "tophats = {\n",
    "    \"U\": {\"lam_eff\": 3650, \"lam_fwhm\": 660},\n",
    "    \"V\": {\"lam_eff\": 5510, \"lam_fwhm\": 880},\n",
    "    \"J\": {\"lam_eff\": 12200, \"lam_fwhm\": 2130},\n",
    "}\n",
    "generics = {\"filter1\": trans}\n",
    "fc2 = FilterCollection(\n",
    "    filter_codes=fs, tophat_dict=tophats, generic_dict=generics, new_lam=lams\n",
    ")"
   ]
  },
  {
   "cell_type": "markdown",
   "id": "c36187e7-6fd2-419e-9f34-a5a731eb2a83",
   "metadata": {
    "tags": []
   },
   "source": [
    "You can get the length of a FilterCollection."
   ]
  },
  {
   "cell_type": "code",
   "execution_count": 9,
   "id": "9886ff9e-fb5e-43c1-98aa-9a6d49f59ea9",
   "metadata": {
    "tags": []
   },
   "outputs": [
    {
     "name": "stdout",
     "output_type": "stream",
     "text": [
      "We have 6 filters\n"
     ]
    }
   ],
   "source": [
    "print(\"We have %d filters\" % len(fc2))"
   ]
  },
  {
   "cell_type": "markdown",
   "id": "342407dc-849e-4265-9a8e-a51975c61d7d",
   "metadata": {},
   "source": [
    "Loop over it as if it were a list."
   ]
  },
  {
   "cell_type": "code",
   "execution_count": 10,
   "id": "b6e3080f-030c-43ab-b726-a2a0e04b70b7",
   "metadata": {
    "tags": []
   },
   "outputs": [
    {
     "name": "stdout",
     "output_type": "stream",
     "text": [
      "My Filters:\n",
      "JWST/NIRCam.F090W\n",
      "JWST/NIRCam.F250M\n",
      "U\n",
      "V\n",
      "J\n",
      "filter1\n"
     ]
    }
   ],
   "source": [
    "print(\"My Filters:\")\n",
    "for f in fc2:\n",
    "    print(f.filter_code)"
   ]
  },
  {
   "cell_type": "markdown",
   "id": "2f174fe3-6148-4eec-867d-21141ea37edf",
   "metadata": {},
   "source": [
    "Compare FilterCollections."
   ]
  },
  {
   "cell_type": "code",
   "execution_count": 11,
   "id": "39af5b3f-c5fc-4097-9b41-8af176fabb97",
   "metadata": {
    "tags": []
   },
   "outputs": [
    {
     "name": "stdout",
     "output_type": "stream",
     "text": [
      "This is the same filter collection!\n",
      "These are not the same filter collection!\n"
     ]
    }
   ],
   "source": [
    "if fc2 == fc2:\n",
    "    print(\"This is the same filter collection!\")\n",
    "if fc2 != fc1:\n",
    "    print(\"These are not the same filter collection!\")"
   ]
  },
  {
   "cell_type": "markdown",
   "id": "9abb12b1-3879-429b-8f95-47be8e270be4",
   "metadata": {
    "tags": []
   },
   "source": [
    "Add filters to simply combine filter collections and individual filters"
   ]
  },
  {
   "cell_type": "code",
   "execution_count": 13,
   "id": "6c57eca6-e6de-4c0d-b215-ec753cdce554",
   "metadata": {
    "tags": []
   },
   "outputs": [],
   "source": [
    "fc = fc1 + filt\n",
    "fc += fc2"
   ]
  },
  {
   "cell_type": "markdown",
   "id": "a451f90f-92cf-4a3e-8962-1a93b95559ae",
   "metadata": {},
   "source": [
    "Print out the new filter codes"
   ]
  },
  {
   "cell_type": "code",
   "execution_count": 14,
   "id": "0a5cf2b5-067f-4c64-824d-94b21d1bec2d",
   "metadata": {
    "tags": []
   },
   "outputs": [
    {
     "name": "stdout",
     "output_type": "stream",
     "text": [
      "My combined Filters: ['JWST/NIRCam.F070W', 'JWST/NIRCam.F444W', 'JWST/NIRCam.F200W', 'JWST/NIRCam.F090W', 'JWST/NIRCam.F250M', 'U', 'V', 'J', 'filter1']\n"
     ]
    }
   ],
   "source": [
    "print(\"My combined Filters:\", fc.filter_codes)"
   ]
  },
  {
   "cell_type": "markdown",
   "id": "a2d5df4c-a3ee-4e93-a532-88cf6e538524",
   "metadata": {},
   "source": [
    "You can even easily plot the transmission curves with a helper method"
   ]
  },
  {
   "cell_type": "code",
   "execution_count": 15,
   "id": "f01d4c18-825a-4a8e-86d3-97e56d5920f2",
   "metadata": {
    "tags": []
   },
   "outputs": [
    {
     "data": {
      "text/plain": [
       "(<Figure size 500x350 with 1 Axes>,\n",
       " <Axes: xlabel='$\\\\rm \\\\lambda/\\\\AA$', ylabel='$\\\\rm T_{\\\\lambda}$'>)"
      ]
     },
     "execution_count": 15,
     "metadata": {},
     "output_type": "execute_result"
    },
    {
     "data": {
      "image/png": "[encoded data removed]",
      "text/plain": [
       "<Figure size 500x350 with 1 Axes>"
      ]
     },
     "metadata": {},
     "output_type": "display_data"
    }
   ],
   "source": [
    "fc.plot_transmission_curves()"
   ]
  },
  {
   "cell_type": "markdown",
   "id": "0b288f94-ea53-4954-ae60-098d0bb6e7df",
   "metadata": {},
   "source": [
    "There's also a helper function to create the above UVJ filter set."
   ]
  },
  {
   "cell_type": "code",
   "execution_count": 19,
   "id": "a7e262aa-0186-4648-afc1-585144403c6a",
   "metadata": {
    "tags": []
   },
   "outputs": [
    {
     "data": {
      "text/plain": [
       "(<Figure size 500x350 with 1 Axes>,\n",
       " <Axes: xlabel='$\\\\rm \\\\lambda/\\\\AA$', ylabel='$\\\\rm T_{\\\\lambda}$'>)"
      ]
     },
     "execution_count": 19,
     "metadata": {},
     "output_type": "execute_result"
    },
    {
     "data": {
      "image/png": "[encoded data removed]",
      "text/plain": [
       "<Figure size 500x350 with 1 Axes>"
      ]
     },
     "metadata": {},
     "output_type": "display_data"
    }
   ],
   "source": [
    "lams = np.linspace(2500, 15000, 1000)\n",
    "fc = UVJ(new_lam=lams)\n",
    "fc.plot_transmission_curves()"
   ]
  }
 ],
 "metadata": {
  "kernelspec": {
   "display_name": "Python 3 (ipykernel)",
   "language": "python",
   "name": "python3"
  },
  "language_info": {
   "codemirror_mode": {
    "name": "ipython",
    "version": 3
   },
   "file_extension": ".py",
   "mimetype": "text/x-python",
   "name": "python",
   "nbconvert_exporter": "python",
   "pygments_lexer": "ipython3",
   "version": "3.10.6"
  }
 },
 "nbformat": 4,
 "nbformat_minor": 5
}
