{
 "cells": [
  {
   "cell_type": "markdown",
   "id": "049e7dab-d9c7-48d5-92c2-909192210e40",
   "metadata": {},
   "source": [
    "# Working with Filters\n",
    "\n",
    "In synthesizer we encapsulate all filter based functionality in two objects: \n",
    "\n",
    "- A `Filter`: Individual filters with methods and attributes to work with a filters wavelength coverage and transmission.\n",
    "\n",
    "- A `FilterCollection`: A collection of `Filter`s that behaves like a list with extra attributes and methods to efficiently work with multiple `Filter`s.\n",
    "\n",
    "We provide a number of different ways to define a `Filter` or set of `Filter`s:\n",
    "\n",
    "- Generic: A generic filter simply requires a user defined wavelength array and transmission curve to initialise. As such a user can define any arbitrary filter they like using this functionality. \n",
    "\n",
    "- Top Hat: A top hat filter's transmission is 1 in a particular range and 0 everywhere else. These are either defined by a minimum and maximum wavelength of transmission or by the effective wavelength of the transmission and its FWHM.\n",
    "\n",
    "- SVO: We also provide an interface to the SVO filter service (http://svo2.cab.inta-csic.es/theory/fps/). The user need only provide the filter code in \"Observatory/Instrument.code\" format (as shown on SVO) to extract the relevant information from this service and create a `Filter` object."
   ]
  },
  {
   "cell_type": "code",
   "execution_count": 1,
   "id": "2d733efa-b507-4c1a-9432-cbf51ee237df",
   "metadata": {},
   "outputs": [],
   "source": [
    "import numpy as np\n",
    "from synthesizer.filters import Filter, FilterCollection\n",
    "from synthesizer.exceptions import WavelengthOutOfRange, InconsistentWavelengths"
   ]
  },
  {
   "cell_type": "markdown",
   "id": "5dd94215-0ef9-4947-af38-7bcf017389da",
   "metadata": {},
   "source": [
    "## Defining a wavelength array\n",
    "\n",
    "Here we define some wavelengths (in Angstrom) over which we want to define our filters. We can pass this wavelength array to the `Filter` at initialisation and the `Filter`'s tranmission curve will be defined on the passed wavelength array. In practice we would normally use the wavelength array on the `Grid` object to avoid confusion between wavelength arrays on different objects but here we will ignore this. \n",
    "\n",
    "Additionally, it is not required, but it is recommended to initialise a `Filter`/`FilterCollection` with a rest frame wavelength grid (i.e. the `Grid` wavelength array). Although nothing will break if you use an observer frame wavelength grid, the code expects rest frame wavelengths to ensure `*.lam` arrays agree across Synthesizer objects. Any redshifting of `Filter` transmission curves is then handled automatically with minimal overhead. \n",
    "\n",
    "One exception to this rule is when calculating photometry for a large number of objects all at a specific redshift. In that case it is more efficient to use an observer frame wavelength grid on a `Filter`/`FilterCollection` and simply be aware that `Filter.lam` differs from `Grid.lam` and `SED.lam`."
   ]
  },
  {
   "cell_type": "code",
   "execution_count": 2,
   "id": "d9b34d59-6fcc-4912-ae1f-eef7bfb9143f",
   "metadata": {},
   "outputs": [],
   "source": [
    "lams = np.linspace(2000, 55000, 1000)"
   ]
  },
  {
   "cell_type": "markdown",
   "id": "258adbc4-4dd5-421b-9c0b-111ffbf92d01",
   "metadata": {},
   "source": [
    "## Creating different types of Filter\n",
    "\n",
    "To define a generic `Filter` we need to define some arbitray transmission curve that maps onto our wavelength array."
   ]
  },
  {
   "cell_type": "code",
   "execution_count": 3,
   "id": "e2c5f24d-88b3-4910-9553-37e10e57c2e6",
   "metadata": {},
   "outputs": [],
   "source": [
    "trans = np.zeros(lams.size)\n",
    "trans[int(lams.size / 4) : int(lams.size / 2)] = 1\n",
    "filt = Filter(\"generic/filter.1\", transmission=trans, new_lam=lams)"
   ]
  },
  {
   "cell_type": "markdown",
   "id": "0d2fac9a",
   "metadata": {},
   "source": [
    "To define a Top Hat `Filter` we need can define either the minimum and maximum wavelength of the transmission..."
   ]
  },
  {
   "cell_type": "code",
   "execution_count": 4,
   "id": "ba58fc88",
   "metadata": {},
   "outputs": [],
   "source": [
    "filt1 = Filter(\"top_hat/filter.1\", lam_min=3000, lam_max=5500, new_lam=lams)"
   ]
  },
  {
   "cell_type": "markdown",
   "id": "b82e6d55",
   "metadata": {},
   "source": [
    "or the effective wavelength of the transmission and its FWHM."
   ]
  },
  {
   "cell_type": "code",
   "execution_count": 5,
   "id": "414b9d5d",
   "metadata": {},
   "outputs": [],
   "source": [
    "filt2 = Filter(\"top_hat/filter.2\", lam_eff=7000, lam_fwhm=2000, new_lam=lams)"
   ]
  },
  {
   "cell_type": "markdown",
   "id": "ed715bdb",
   "metadata": {},
   "source": [
    "To create a `Filter` from the SVO database we simply pass the corresponding SVO filter identifier when intialising the `Filter`."
   ]
  },
  {
   "cell_type": "code",
   "execution_count": 6,
   "id": "c3898259",
   "metadata": {},
   "outputs": [],
   "source": [
    "filt3 = Filter(\"JWST/NIRCam.F444W\", new_lam=lams)"
   ]
  },
  {
   "cell_type": "markdown",
   "id": "177ea51a-0c85-4bae-96f5-c59f97c3e3f8",
   "metadata": {},
   "source": [
    "## Creating a FilterCollection\n",
    "\n",
    "We can intitialise a `FilterCollection` for each different type of `Filter` in a very similar way to what is shown above. However, now the inputs are ensembles of filter properties. You may have noticed in the above examples that each `Filter` was intialised with a string identifier regardless of whether it was an SVO filter or not. These are the `Filter`'s \"filter code\". These are used to identify each filter and act as a `Filter`'s key in dictionaries when required.\n",
    "\n",
    "For a set of generic filters we must provide a dictionary of transmission curves where the key is the `Filter`'s filter code."
   ]
  },
  {
   "cell_type": "code",
   "execution_count": 7,
   "id": "034dc5e4",
   "metadata": {},
   "outputs": [],
   "source": [
    "generics = {\"generic_filter1\": trans, \"generic_filter2\": trans}\n",
    "generic_filters = FilterCollection(generic_dict=generics, new_lam=lams)"
   ]
  },
  {
   "cell_type": "markdown",
   "id": "db553b92",
   "metadata": {},
   "source": [
    "For a set of top hat filters we must pass a dictionary containing the properties of each `Filter` where the keys are the `Filter`'s filter code."
   ]
  },
  {
   "cell_type": "code",
   "execution_count": 8,
   "id": "19a3ff14",
   "metadata": {},
   "outputs": [],
   "source": [
    "tophats = {\n",
    "    \"top_hat1\": {\"lam_eff\": 25000, \"lam_fwhm\": 8000},\n",
    "    \"top_hat12\": {\"lam_min\": 15000, \"lam_max\": 30000},\n",
    "}\n",
    "top_hat_filters = FilterCollection(tophat_dict=tophats, new_lam=lams)"
   ]
  },
  {
   "cell_type": "markdown",
   "id": "e1ccc3e7",
   "metadata": {},
   "source": [
    "For a set of SVO filters we must pass a list of filter codes to be extracted from the database."
   ]
  },
  {
   "cell_type": "code",
   "execution_count": 9,
   "id": "bef7fefc-0a18-43dd-8cda-da5164794ed7",
   "metadata": {},
   "outputs": [],
   "source": [
    "filter_codes = [f\"JWST/NIRCam.{f}\" for f in [\"F070W\", \"F444W\"]]\n",
    "svo_filters = FilterCollection(filter_codes=filter_codes, new_lam=lams)"
   ]
  },
  {
   "cell_type": "markdown",
   "id": "a8646dcf",
   "metadata": {},
   "source": [
    "You can also pass a list of existing `Filter`s."
   ]
  },
  {
   "cell_type": "code",
   "execution_count": 10,
   "id": "bac2f425",
   "metadata": {},
   "outputs": [],
   "source": [
    "filt_lst = [filt1, filt2, filt3]\n",
    "filt_filters = FilterCollection(filters=filt_lst, new_lam=lams)"
   ]
  },
  {
   "cell_type": "markdown",
   "id": "5521961e-60df-4e06-a446-2c0b88275672",
   "metadata": {},
   "source": [
    "However, you are not tied to having a single type of `Filter` in a `FilterCollection`, they can be mixed and matched at will by passing in each ensemble of properties."
   ]
  },
  {
   "cell_type": "code",
   "execution_count": 11,
   "id": "5be15fdd-5d91-4130-935d-d980a5954189",
   "metadata": {},
   "outputs": [],
   "source": [
    "fs = [f\"JWST/NIRCam.{f}\" for f in [\"F090W\", \"F250M\"]]\n",
    "tophats = {\n",
    "    \"U\": {\"lam_eff\": 3650, \"lam_fwhm\": 660},\n",
    "    \"V\": {\"lam_eff\": 5510, \"lam_fwhm\": 880},\n",
    "    \"J\": {\"lam_eff\": 12200, \"lam_fwhm\": 2130},\n",
    "}\n",
    "generics = {\"generic_filter3\": trans}\n",
    "filt_lst = [filt1, filt2]\n",
    "combined_filters = FilterCollection(\n",
    "    filter_codes=fs, tophat_dict=tophats, generic_dict=generics, filters=filt_lst, new_lam=lams\n",
    ")"
   ]
  },
  {
   "cell_type": "markdown",
   "id": "9d865c2d",
   "metadata": {},
   "source": [
    "One important thing to note when creating a `FilterCollection` is that all `Filter`s in a `FilterCollection` will always be interpolated onto a common wavelength array. If a wavelength array has been passed to `new_lam` then all transmission curves will be interpolated on to it, otherwise, a common wavelength array is found including the wavelength arrays of all filters with any gaps filled with values at the minimum mean resolution of all filters. Any overlaping areas will adopt the wavelength array of the higher resolution filter."
   ]
  },
  {
   "cell_type": "markdown",
   "id": "c36187e7-6fd2-419e-9f34-a5a731eb2a83",
   "metadata": {
    "tags": []
   },
   "source": [
    "## Working with a FilterCollection\n",
    "\n",
    "`FilterCollection`s behave a bit like Python `list`s and a bit like Python `dict`s. As such you can treat them as you would either of these data structures. Additionally, some helpful Python operators have been overloaded to make working with `FilterCollection`s easier.\n",
    "\n",
    "You can get their length:"
   ]
  },
  {
   "cell_type": "code",
   "execution_count": 12,
   "id": "9886ff9e-fb5e-43c1-98aa-9a6d49f59ea9",
   "metadata": {},
   "outputs": [
    {
     "name": "stdout",
     "output_type": "stream",
     "text": [
      "We have 8 filters\n"
     ]
    }
   ],
   "source": [
    "print(\"We have %d filters\" % len(combined_filters))"
   ]
  },
  {
   "cell_type": "markdown",
   "id": "342407dc-849e-4265-9a8e-a51975c61d7d",
   "metadata": {},
   "source": [
    "Loop over them:"
   ]
  },
  {
   "cell_type": "code",
   "execution_count": 13,
   "id": "b6e3080f-030c-43ab-b726-a2a0e04b70b7",
   "metadata": {},
   "outputs": [
    {
     "name": "stdout",
     "output_type": "stream",
     "text": [
      "My Filters:\n",
      "JWST/NIRCam.F090W\n",
      "JWST/NIRCam.F250M\n",
      "U\n",
      "V\n",
      "J\n",
      "generic_filter3\n",
      "top_hat/filter.1\n",
      "top_hat/filter.2\n"
     ]
    }
   ],
   "source": [
    "print(\"My Filters:\")\n",
    "for f in combined_filters:\n",
    "    print(f.filter_code)"
   ]
  },
  {
   "cell_type": "markdown",
   "id": "2f174fe3-6148-4eec-867d-21141ea37edf",
   "metadata": {},
   "source": [
    "Compare FilterCollections:"
   ]
  },
  {
   "cell_type": "code",
   "execution_count": 14,
   "id": "39af5b3f-c5fc-4097-9b41-8af176fabb97",
   "metadata": {},
   "outputs": [
    {
     "name": "stdout",
     "output_type": "stream",
     "text": [
      "This is the same filter collection!\n",
      "These are not the same filter collection!\n"
     ]
    }
   ],
   "source": [
    "if combined_filters == combined_filters:\n",
    "    print(\"This is the same filter collection!\")\n",
    "if combined_filters != generic_filters:\n",
    "    print(\"These are not the same filter collection!\")"
   ]
  },
  {
   "cell_type": "markdown",
   "id": "cf8724d7",
   "metadata": {},
   "source": [
    "Extract a specific filter by key:"
   ]
  },
  {
   "cell_type": "code",
   "execution_count": 15,
   "id": "fdbc1d07",
   "metadata": {},
   "outputs": [
    {
     "name": "stdout",
     "output_type": "stream",
     "text": [
      "JWST/NIRCam.F090W\n"
     ]
    }
   ],
   "source": [
    "filt = combined_filters[\"JWST/NIRCam.F090W\"]\n",
    "print(filt.filter_code)"
   ]
  },
  {
   "cell_type": "markdown",
   "id": "9abb12b1-3879-429b-8f95-47be8e270be4",
   "metadata": {
    "tags": []
   },
   "source": [
    "And add `Filter`s and `FilterCollection`s:"
   ]
  },
  {
   "cell_type": "code",
   "execution_count": 16,
   "id": "6c57eca6-e6de-4c0d-b215-ec753cdce554",
   "metadata": {},
   "outputs": [
    {
     "name": "stdout",
     "output_type": "stream",
     "text": [
      "My combined Filters: ['JWST/NIRCam.F090W', 'JWST/NIRCam.F250M', 'U', 'V', 'J', 'generic_filter3', 'top_hat/filter.1', 'top_hat/filter.2', 'top_hat1', 'top_hat12', 'generic_filter1', 'generic_filter2']\n"
     ]
    }
   ],
   "source": [
    "new_filters = combined_filters + top_hat_filters\n",
    "new_filters += generic_filters\n",
    "print(\"My combined Filters:\", new_filters.filter_codes)"
   ]
  },
  {
   "cell_type": "markdown",
   "id": "4b15cb0e",
   "metadata": {},
   "source": [
    "Note that adding `Filter`s or `FilterCollection`s to a `FilterCollection` will result in interpolation of the transmission curves onto the `FilterCollection`'s wavelength array. In the event the wavelength arrays differ, the wavelengths of the `FilterCollection` being added to are maintained and a warning is printed if this will truncate the transmission curve of the `Filter` being added. If the truncation results in 0 transmission then an error is raised."
   ]
  },
  {
   "cell_type": "code",
   "execution_count": 17,
   "id": "31cb1568",
   "metadata": {},
   "outputs": [
    {
     "name": "stdout",
     "output_type": "stream",
     "text": [
      "Calculated wavelength array: \n",
      "min = 6.03e+03 Angstrom\n",
      "max = 5.10e+04 Angstrom\n",
      "FilterCollection.lam.size = 26851\n",
      "Warning: JWST/MIRI.F2550W will be truncated where transmission is non-zero (old_lam_bounds = (2.14e+05 Å, 3.00e+05 Å), new_lam_bounds = (6.03e+03 Å, 5.10e+04 Å))\n",
      "InconsistentWavelengths: Interpolated transmission curve has no non-zero values. Consider removing this filter or extending the wavelength range. \n"
     ]
    }
   ],
   "source": [
    "filter_codes = [f\"JWST/NIRCam.{f}\" for f in [\"F070W\", \"F444W\"]]\n",
    "new_filters2 = FilterCollection(filter_codes=filter_codes)\n",
    "out_of_range_filt = Filter(\"JWST/MIRI.F2550W\")\n",
    "\n",
    "try:\n",
    "    new_filters2 = new_filters2 + out_of_range_filt \n",
    "except InconsistentWavelengths as e:\n",
    "    print(\"InconsistentWavelengths:\", e)"
   ]
  },
  {
   "cell_type": "markdown",
   "id": "a2d5df4c-a3ee-4e93-a532-88cf6e538524",
   "metadata": {},
   "source": [
    "### Helper methods\n",
    "\n",
    "We provide a number of helper methods and functions to make certain functionality quick and easy.\n",
    "\n",
    "You can easily plot the transmission curves."
   ]
  },
  {
   "cell_type": "code",
   "execution_count": 18,
   "id": "f01d4c18-825a-4a8e-86d3-97e56d5920f2",
   "metadata": {},
   "outputs": [
    {
     "data": {
      "image/png": "[encoded data removed]",
      "text/plain": [
       "<Figure size 500x350 with 1 Axes>"
      ]
     },
     "metadata": {},
     "output_type": "display_data"
    }
   ],
   "source": [
    "fig, ax = new_filters.plot_transmission_curves(show=True)"
   ]
  },
  {
   "cell_type": "markdown",
   "id": "0b288f94-ea53-4954-ae60-098d0bb6e7df",
   "metadata": {},
   "source": [
    "You can generate a UVJ top hat `FilterCollection` without defining the properties, we have hardcoded them in an importable function."
   ]
  },
  {
   "cell_type": "code",
   "execution_count": 19,
   "id": "a7e262aa-0186-4648-afc1-585144403c6a",
   "metadata": {},
   "outputs": [
    {
     "data": {
      "image/png": "[encoded data removed]",
      "text/plain": [
       "<Figure size 500x350 with 1 Axes>"
      ]
     },
     "metadata": {},
     "output_type": "display_data"
    }
   ],
   "source": [
    "from synthesizer.filters import UVJ\n",
    "\n",
    "lams = np.linspace(2500, 15000, 1000)\n",
    "fc = UVJ(new_lam=lams)\n",
    "fig, ax = fc.plot_transmission_curves(show=True)"
   ]
  },
  {
   "cell_type": "markdown",
   "id": "04605eea",
   "metadata": {},
   "source": [
    "Each individual `Filter` has a number of methods to calculate useful filter properties."
   ]
  },
  {
   "cell_type": "code",
   "execution_count": 20,
   "id": "bb33c1b5",
   "metadata": {},
   "outputs": [
    {
     "name": "stdout",
     "output_type": "stream",
     "text": [
      "The pivot wavelength of JWST/NIRCam.F090W is 9.02e+03 Å.\n",
      "The transmission at the pivot wavelength of JWST/NIRCam.F090W is 2.92e-01.\n",
      "The mean wavelength of JWST/NIRCam.F090W is 8.98e+03 Å.\n",
      "The bandwidth of JWST/NIRCam.F090W is 6.11e+02 Å.\n",
      "The FWHM of JWST/NIRCam.F090W is 1.44e+03 Å.\n",
      "The transmission peak of JWST/NIRCam.F090W is 3.19e-01.\n",
      "The rectangular width of JWST/NIRCam.F090W is 1.94e+03.\n",
      "The maximum wavelength with non-zero transmission of JWST/NIRCam.F090W is 1.02e+04 Å.\n",
      "The minimum wavelength with non-zero transmission of JWST/NIRCam.F090W is 7.90e+03 Å.\n",
      "The minimum and maximum wavelength (regardless of transmission) of JWST/NIRCam.F090W is 7.84e+03 Å and 10355.5 Å:.2e.\n"
     ]
    }
   ],
   "source": [
    "print(f\"The pivot wavelength of {filt.filter_code} is {filt.pivwv():.2e}.\")\n",
    "print(\n",
    "    f\"The transmission at the pivot wavelength of {filt.filter_code} is {filt.pivT():.2e}.\"\n",
    ")\n",
    "print(f\"The mean wavelength of {filt.filter_code} is {filt.meanwv():.2e}.\")\n",
    "print(f\"The bandwidth of {filt.filter_code} is {filt.bandw():.2e}.\")\n",
    "print(f\"The FWHM of {filt.filter_code} is {filt.fwhm():.2e}.\")\n",
    "print(f\"The transmission peak of {filt.filter_code} is {filt.Tpeak():.2e}.\")\n",
    "print(f\"The rectangular width of {filt.filter_code} is {filt.rectw():.2e}.\")\n",
    "print(\n",
    "    f\"The maximum wavelength with non-zero transmission of {filt.filter_code} is {filt.max():.2e}.\"\n",
    ")\n",
    "print(\n",
    "    f\"The minimum wavelength with non-zero transmission of {filt.filter_code} is {filt.min():.2e}.\"\n",
    ")\n",
    "min_max = filt.mnmx()\n",
    "print(\n",
    "    f\"The minimum and maximum wavelength (regardless of transmission) of {filt.filter_code} is {min_max[0]:.2e} and {min_max[1]}:.2e.\"\n",
    ")"
   ]
  },
  {
   "cell_type": "markdown",
   "id": "36dd339f",
   "metadata": {},
   "source": [
    "## Saving and loading FilterCollections\n",
    "\n",
    "You may encounter situations where you want to save a `FilterCollection`. This can be particularly useful to avoid periods where the SVO database goes down or when using a single `FilterCollection` across a number of MPI ranks where the multiple SVO database calls can cause failures. \n",
    "\n",
    "To do this you can simply call the `write_filters` method, passing the path where you want to save the file. This will create a HDF5 file containing the attributes and datasets defining the `FilterCollection`."
   ]
  },
  {
   "cell_type": "code",
   "execution_count": 21,
   "id": "f7f7916d",
   "metadata": {},
   "outputs": [],
   "source": [
    "# Write out the filter collection to a file in the synthesizer root directory\n",
    "new_filters.write_filters(path=\"../../test_filter_collection.hdf5\")"
   ]
  },
  {
   "cell_type": "markdown",
   "id": "35c41dac",
   "metadata": {},
   "source": [
    "Note: this HDF5 file contains the version of Synthesizer used to create it as an attribute (`hdf.attrs[\"synthesizer_version\"]`). A warning will be printed if this differs from the version you are using, just in case future changes break the functionlaity of past `FilterCollections`.\n",
    "\n",
    "To load a `FilterCollection` at a later data you can simply pass the path of the file into the `FilterCollection` at instantiation."
   ]
  },
  {
   "cell_type": "code",
   "execution_count": 22,
   "id": "34857efd",
   "metadata": {},
   "outputs": [
    {
     "data": {
      "text/plain": [
       "True"
      ]
     },
     "execution_count": 22,
     "metadata": {},
     "output_type": "execute_result"
    }
   ],
   "source": [
    "# Load a FilterCollection from a file\n",
    "new_new_filters = FilterCollection(path=\"../../test_filter_collection.hdf5\")\n",
    "\n",
    "# Compare filter objects to show they are the same\n",
    "new_filters == new_new_filters"
   ]
  },
  {
   "cell_type": "markdown",
   "id": "0393a54a",
   "metadata": {},
   "source": [
    "## Finding a Filter\n",
    "\n",
    "If you want to know the `Filter` in a `FilterCollection` which will probe a particular wavelength we provide a method to calculate this. This can be done for either the filter which probes the desired wavelength in the rest frame, or by providing a redshift the filter that probes that rest frame wavelength in the observer frame can be found. The method will print the resulting filter code and return the `Filter` itself. \n",
    "\n",
    "This function takes a method argument. There are 3 methods implemented for doing this:\n",
    "- \"pivot\": Find the filter with the closest pivot wavelength to the desired wavelength (the default).\n",
    "- \"mean\": Find the filter with the closest mean wavelength to the desired wavelength.\n",
    "- \"transmission\": Find the filter with the maximum transmission at the desired wavelength."
   ]
  },
  {
   "cell_type": "code",
   "execution_count": 23,
   "id": "5bb3c2bb",
   "metadata": {},
   "outputs": [
    {
     "name": "stdout",
     "output_type": "stream",
     "text": [
      "Filter containing rest_frame_lam=2.50e+04 Angstrom: JWST/NIRCam.F250M\n",
      "Filter containing rest_frame_lam=2.50e+04 Angstrom: JWST/NIRCam.F250M\n",
      "Filter containing rest_frame_lam=2.50e+04 Angstrom: generic_filter3\n",
      "Filter containing rest_frame_lam=1.00e+03 Angstrom (with observed wavelength=8.00e+03 Angstrom): top_hat/filter.2\n"
     ]
    }
   ],
   "source": [
    "# Define the wavelength we want to know the filter for (in the rest frame, with Angstrom units)\n",
    "search_lam = 25000\n",
    "\n",
    "# First lets search in the rest frame with the default pivot method\n",
    "rest_frame_filter = new_filters.find_filter(search_lam)\n",
    "\n",
    "# What if we used the other methods?\n",
    "rest_frame_filter = new_filters.find_filter(search_lam, method=\"mean\")\n",
    "rest_frame_filter = new_filters.find_filter(search_lam, method=\"transmission\")\n",
    "\n",
    "# Now lets be more realistic, we have an observation redshift 7 which filter can we use?\n",
    "search_lam = 1000\n",
    "obs_filter = new_filters.find_filter(search_lam, redshift=7, method=\"pivot\")"
   ]
  },
  {
   "cell_type": "markdown",
   "id": "e80427b3",
   "metadata": {},
   "source": [
    "Note that the method will produce an error if the transmission of all `Filter`s in the `FilterCollection` is 0 at the desired wavelength. In certain circumstances `\"pivot\"` and `\"mean\"` can fail when the wavelength does fall inside a wide band filter."
   ]
  },
  {
   "cell_type": "code",
   "execution_count": 24,
   "id": "564fb87e",
   "metadata": {},
   "outputs": [
    {
     "name": "stdout",
     "output_type": "stream",
     "text": [
      "The wavelength (rest_frame_lam=2.00e+03 Angstrom, observed_lam=1.60e+04 Angstrom) has 0 transmission in the closest Filter (J). Try method='transmission'. \n"
     ]
    }
   ],
   "source": [
    "search_lam = 2000\n",
    "try:\n",
    "    obs_filter = new_filters.find_filter(\n",
    "        search_lam, redshift=7, method=\"pivot\"\n",
    "    )\n",
    "except WavelengthOutOfRange as e:\n",
    "    print(e)"
   ]
  },
  {
   "cell_type": "code",
   "execution_count": 25,
   "id": "c7b1a985",
   "metadata": {},
   "outputs": [
    {
     "name": "stdout",
     "output_type": "stream",
     "text": [
      "Filter containing rest_frame_lam=2.00e+03 Angstrom (with observed wavelength=1.60e+04 Angstrom): generic_filter3\n"
     ]
    }
   ],
   "source": [
    "obs_filter = new_filters.find_filter(\n",
    "    search_lam, redshift=7, method=\"transmission\"\n",
    ")"
   ]
  },
  {
   "cell_type": "markdown",
   "id": "abc1b4a2",
   "metadata": {},
   "source": [
    "But in most cases if a filter isn't found the `\"transmission\"` method will also fail."
   ]
  },
  {
   "cell_type": "code",
   "execution_count": 26,
   "id": "10f95a8b",
   "metadata": {},
   "outputs": [
    {
     "name": "stdout",
     "output_type": "stream",
     "text": [
      "The wavelength (rest_frame_lam=2.00e+03 Angstrom, observed_lam=3.20e+04 Angstrom) does not fall in any Filters. \n"
     ]
    }
   ],
   "source": [
    "try:\n",
    "    obs_filter = new_filters.find_filter(\n",
    "        search_lam, redshift=15, method=\"transmission\"\n",
    "    )\n",
    "except WavelengthOutOfRange as e:\n",
    "    print(e)"
   ]
  }
 ],
 "metadata": {
  "kernelspec": {
   "display_name": "synthesizer-env",
   "language": "python",
   "name": "python3"
  },
  "language_info": {
   "codemirror_mode": {
    "name": "ipython",
    "version": 3
   },
   "file_extension": ".py",
   "mimetype": "text/x-python",
   "name": "python",
   "nbconvert_exporter": "python",
   "pygments_lexer": "ipython3",
   "version": "3.10.13"
  }
 },
 "nbformat": 4,
 "nbformat_minor": 5
}
