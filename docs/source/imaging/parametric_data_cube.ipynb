{
 "cells": [
  {
   "cell_type": "markdown",
   "metadata": {},
   "source": [
    "# Spectral Data Cubes from a Parametric Galaxy\n",
    "\n",
    "In this example we show how to create a spectral data cube from a parametric galaxy. For this we'll generate a disk and a bulge morphology and make spectral data cubes for each individual component before combining them. "
   ]
  },
  {
   "cell_type": "code",
   "execution_count": null,
   "metadata": {},
   "outputs": [],
   "source": [
    "import matplotlib.pyplot as plt\n",
    "import numpy as np\n",
    "from unyt import Myr, degree, kpc, angstrom, Msun\n",
    "\n",
    "from synthesizer.emission_models import IntrinsicEmission\n",
    "from synthesizer.grid import Grid\n",
    "from synthesizer.imaging import SpectralCube\n",
    "from synthesizer.parametric import SFH, Stars, ZDist\n",
    "from synthesizer.parametric.galaxy import Galaxy\n",
    "from synthesizer.parametric.morphology import Sersic2D\n",
    "\n",
    "plt.rcParams[\"font.family\"] = \"DeJavu Serif\"\n",
    "plt.rcParams[\"font.serif\"] = [\"Times New Roman\"]\n",
    "\n",
    "# Set the seed\n",
    "np.random.seed(42)\n",
    "\n",
    "# Define the grid\n",
    "grid_name = \"test_grid\"\n",
    "grid_dir = \"../../../tests/test_grid/\"\n",
    "grid = Grid(grid_name, grid_dir=grid_dir, new_lam=np.logspace(2, 5, 600) * angstrom)\n",
    "\n",
    "# Define the SFH and metallicity distribution\n",
    "metal_dist = ZDist.Normal(mean=0.015, sigma=0.005)\n",
    "sfh = SFH.Constant(max_age=200 * Myr)\n",
    "\n",
    "# Define the morphology using a simple effective radius and slope\n",
    "morph = Sersic2D(\n",
    "    r_eff=1 * kpc,\n",
    "    sersic_index=1.0,\n",
    "    ellipticity=0,\n",
    "    theta=0 * degree,\n",
    ")\n",
    "\n",
    "# Create the Stars object\n",
    "stars = Stars(\n",
    "    grid.log10age,\n",
    "    grid.metallicity,\n",
    "    sf_hist=sfh,\n",
    "    metal_dist=metal_dist,\n",
    "    morphology=morph,\n",
    "    initial_mass=10**9.0 * Msun,\n",
    ")\n",
    "\n",
    "# Initialise a parametric Galaxy for the bulge\n",
    "bulge = Galaxy(stars, redshift=3)\n",
    "\n",
    "# Define the SFH and metallicity distribution\n",
    "metal_dist = ZDist.Normal(mean=0.01, sigma=0.005)\n",
    "sfh = SFH.Constant(max_age=100 * Myr)\n",
    "\n",
    "# Define the morphology using a simple effective radius and slope\n",
    "morph = Sersic2D(\n",
    "    r_eff=5 * kpc,\n",
    "    sersic_index=1.0,\n",
    "    ellipticity=0.4,\n",
    "    theta=1 * degree,\n",
    ")\n",
    "\n",
    "# Create the Stars object\n",
    "stars = Stars(\n",
    "    grid.log10age,\n",
    "    grid.metallicity,\n",
    "    sf_hist=sfh,\n",
    "    metal_dist=metal_dist,\n",
    "    morphology=morph,\n",
    "    initial_mass=10**9.5 * Msun,\n",
    ")\n",
    "\n",
    "# Initialise a parametric Galaxy for the disk\n",
    "disk = Galaxy(stars, redshift=3)"
   ]
  },
  {
   "cell_type": "markdown",
   "metadata": {},
   "source": [
    "Before we can generate a spectral data cube, we first need to generate [spectra](../spectra/spectra.rst) for each component."
   ]
  },
  {
   "cell_type": "code",
   "execution_count": null,
   "metadata": {},
   "outputs": [],
   "source": [
    "model = IntrinsicEmission(grid, fesc=0.1)\n",
    "bulge_sed = bulge.stars.get_spectra(model)\n",
    "disk_sed = disk.stars.get_spectra(model)"
   ]
  },
  {
   "cell_type": "markdown",
   "metadata": {},
   "source": [
    "## Spectral Data Cube Creation\n",
    "\n",
    "We now have most of the ingredients we need to generate a spectral data cube from our galaxy. We only require parameters describing the wavelength array of our spectral data cube, its resolution, and the field of view (FOV):"
   ]
  },
  {
   "cell_type": "code",
   "execution_count": null,
   "metadata": {},
   "outputs": [],
   "source": [
    "# Define the width of the image\n",
    "width = 30 * kpc\n",
    "\n",
    "# Define image resolution (here we arbitrarily set it to 100 pixels\n",
    "# along an axis)\n",
    "resolution = width / 200\n",
    "\n",
    "# Define the wavelength array\n",
    "lam = np.linspace(10**3, 10**4.5, 1000)\n",
    "\n",
    "print(\n",
    "    \"Data cube spatial width is %.2f kpc with a %.2f kpc spaxel resolution\"\n",
    "    % (width.value, resolution.value)\n",
    ")"
   ]
  },
  {
   "cell_type": "markdown",
   "metadata": {},
   "source": [
    "Finally, we create the individual spectral cubes, and then add them together to get the final combined galaxy spectral data cube. \n",
    "\n",
    "To make the spectral cubes we have to pass the `Sed` objects we made, the quantity we want to populate the spectral cube with, and the density grid defined by each morphology. The possible quantities are `\"lnu\"`, `\"luminosity\"` or `\"llam\"` for rest frame luminosities, or `\"fnu\"`, `\"flam\"` or `\"flux\"` for fluxes (the latter 3 require `get_fnu` or `get_fnu0` to have been called). We will make a cube populated with `\"flux\"`."
   ]
  },
  {
   "cell_type": "code",
   "execution_count": null,
   "metadata": {},
   "outputs": [],
   "source": [
    "# Get the data cubes\n",
    "bulge_cube = SpectralCube(resolution=resolution, lam=lam, fov=width)\n",
    "disk_cube = SpectralCube(resolution=resolution, lam=lam, fov=width)\n",
    "\n",
    "# And get the cube itself\n",
    "bulge_cube.get_data_cube_smoothed(\n",
    "    bulge_sed,\n",
    "    quantity=\"lnu\",\n",
    "    density_grid=bulge.stars.morphology.get_density_grid(\n",
    "        bulge_cube.resolution, bulge_cube.npix\n",
    "    ),\n",
    ")\n",
    "disk_cube.get_data_cube_smoothed(\n",
    "    disk_sed,\n",
    "    quantity=\"lnu\",\n",
    "    density_grid=disk.stars.morphology.get_density_grid(\n",
    "        disk_cube.resolution, disk_cube.npix\n",
    "    ),\n",
    ")\n",
    "\n",
    "# Combine each individual component\n",
    "cube = bulge_cube + disk_cube"
   ]
  },
  {
   "cell_type": "markdown",
   "metadata": {},
   "source": [
    "Now we have our parametric spectral data cube, `cube`. We can see what we've made by making an animation."
   ]
  },
  {
   "cell_type": "code",
   "execution_count": null,
   "metadata": {},
   "outputs": [],
   "source": [
    "# Animate the data cube\n",
    "ani = cube.animate_data_cube(fps=240, show=True)"
   ]
  },
  {
   "cell_type": "markdown",
   "metadata": {},
   "source": [
    "### Galaxy helper method\n",
    "\n",
    "If you don't want to use the low level `SpectralCube` object we also include a helper method on a galaxy."
   ]
  },
  {
   "cell_type": "code",
   "execution_count": null,
   "metadata": {},
   "outputs": [],
   "source": [
    "bulge_cube = bulge.get_data_cube(\n",
    "    resolution, width, lam, stellar_spectra=\"intrinsic\", quantity=\"luminosity\"\n",
    ")\n",
    "disk_cube = disk.get_data_cube(\n",
    "    resolution, width, lam, stellar_spectra=\"intrinsic\", quantity=\"luminosity\"\n",
    ")\n",
    "cube = bulge_cube + disk_cube"
   ]
  }
 ],
 "metadata": {},
 "nbformat": 4,
 "nbformat_minor": 2
}
