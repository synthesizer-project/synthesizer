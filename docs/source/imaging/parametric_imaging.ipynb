{
 "cells": [
  {
   "cell_type": "markdown",
   "id": "6614bc4e",
   "metadata": {},
   "source": [
    "# Creating Images From Parametric Galaxies\n",
    "\n",
    "In this example we show how to create images of parametric galaxies. We first create an SED using the parametric SFZH functionality to create a fake galaxies SED, derive the spectra from the SPS grid and then make images using the Sythensizer Imaging submodule.\n",
    "\n",
    "## The setup"
   ]
  },
  {
   "cell_type": "code",
   "execution_count": 1,
   "id": "69b83031",
   "metadata": {},
   "outputs": [],
   "source": [
    "import os\n",
    "import time\n",
    "import numpy as np\n",
    "import matplotlib as mpl\n",
    "import matplotlib.colors as cm\n",
    "import matplotlib.pyplot as plt\n",
    "import matplotlib.gridspec as gridspec\n",
    "from unyt import yr, Myr, kpc, mas, nJy, degree\n",
    "from astropy.cosmology import Planck18 as cosmo\n",
    "\n",
    "from synthesizer.filters import UVJ\n",
    "from synthesizer.parametric.galaxy import Galaxy\n",
    "from synthesizer.parametric.sfzh import SFH, ZH, generate_sfzh\n",
    "from synthesizer.parametric.morphology import Sersic2D\n",
    "from synthesizer.grid import Grid\n",
    "from synthesizer.imaging.images import ParametricImage\n",
    "\n",
    "\n",
    "plt.rcParams[\"font.family\"] = \"DeJavu Serif\"\n",
    "plt.rcParams[\"font.serif\"] = [\"Times New Roman\"]\n",
    "\n",
    "# Set the seed\n",
    "np.random.seed(42)"
   ]
  },
  {
   "cell_type": "markdown",
   "id": "32b603d7",
   "metadata": {},
   "source": [
    "Once again, the first port of call is initilaising the SPS grid. Here we use a simple test grid with limited properties."
   ]
  },
  {
   "cell_type": "code",
   "execution_count": 2,
   "id": "515efc2b",
   "metadata": {},
   "outputs": [],
   "source": [
    "# Define the grid\n",
    "grid_name = \"test_grid\"\n",
    "grid_dir = \"../../../tests/test_grid/\"\n",
    "grid = Grid(grid_name, grid_dir=grid_dir)"
   ]
  },
  {
   "cell_type": "markdown",
   "id": "37085558",
   "metadata": {},
   "source": [
    "And we are going to need a set of filters in which to make an image. Here we will use the UVJ function to automatically define a set of UVJ top-hat filters."
   ]
  },
  {
   "cell_type": "code",
   "execution_count": 3,
   "id": "2d959518",
   "metadata": {},
   "outputs": [],
   "source": [
    "# Get a UVJ filter set\n",
    "filters = UVJ(new_lam=grid.lam)"
   ]
  },
  {
   "cell_type": "markdown",
   "id": "2d2dd349",
   "metadata": {},
   "source": [
    "## Creating the fake galaxy\n",
    "\n",
    "Now we have intialised the grid we can define the SFZH properties and generate the SFZH object."
   ]
  },
  {
   "cell_type": "code",
   "execution_count": 4,
   "id": "675f579c",
   "metadata": {},
   "outputs": [
    {
     "name": "stdout",
     "output_type": "stream",
     "text": [
      "----------\n",
      "SUMMARY OF BINNED SFZH\n",
      "median age: 50.12 Myr\n",
      "mean age: 50.01 Myr\n",
      "mean metallicity: 0.0100\n",
      "----------\n",
      "\n"
     ]
    }
   ],
   "source": [
    "# Define the SFZH\n",
    "Z_p = {\"Z\": 0.01}\n",
    "Zh = ZH.deltaConstant(Z_p)\n",
    "sfh_p = {\"duration\": 100 * Myr}\n",
    "sfh = SFH.Constant(sfh_p)  # constant star formation\n",
    "sfzh = generate_sfzh(grid.log10age, grid.metallicity, sfh, Zh,\n",
    "                     stellar_mass=10**9)\n",
    "print(sfzh)"
   ]
  },
  {
   "cell_type": "markdown",
   "id": "63c51016",
   "metadata": {},
   "source": [
    "For a parametric galaxy we need to define the morphology. Here we will use a Sersic profile which is defined by the effective radius (`r_eff_kpc` if the image will be in physical cartesian units or `r_eff_mas` if the image will be in angular coordinates)<a name=\"cite_ref-1\"></a>[<sup>[1]</sup>](#cite_note-1), the Sersic index (`n`), the ellipticity (`ellip`) and the rotation angle (`theta`). Both the effective radius and rotation angle must be defined with _unyt_ units.\n",
    "\n",
    "<a name=\"cite_note-1\"></a>1. [^](#cite_ref-1) The morphology class can convert between cartesian and angular coordinates if a cosmology object and redshift of the galaxy is provided."
   ]
  },
  {
   "cell_type": "code",
   "execution_count": 5,
   "id": "eb170592",
   "metadata": {},
   "outputs": [
    {
     "name": "stdout",
     "output_type": "stream",
     "text": [
      "Morphology computed, took: 0.00033211708068847656\n"
     ]
    }
   ],
   "source": [
    "morph_start = time.time()\n",
    "\n",
    "# Define the morphology using a simple effective radius and slope\n",
    "morph = Sersic2D(r_eff_kpc=2.5 * kpc, n=1.0, ellip=0.4, theta=1 * degree)\n",
    "\n",
    "print(\"Morphology computed, took:\", time.time() - morph_start)"
   ]
  },
  {
   "cell_type": "markdown",
   "id": "f2ba3aa8",
   "metadata": {},
   "source": [
    "With both the SFZH and the morphology defined we can intialise the parametric galaxy..."
   ]
  },
  {
   "cell_type": "code",
   "execution_count": 6,
   "id": "e1f854c4",
   "metadata": {},
   "outputs": [
    {
     "name": "stdout",
     "output_type": "stream",
     "text": [
      "Galaxy created, took: 6.008148193359375e-05\n",
      "----------\n",
      "SUMMARY OF PARAMETRIC GALAXY\n",
      "⠀⠀⠀⠀⠀⠀⠀⠀⠀⠀⢀⣀⣀⡀⠒⠒⠦⣄⡀⠀⠀⠀⠀⠀⠀⠀\n",
      "        ⠀⠀⠀⠀⠀⢀⣤⣶⡾⠿⠿⠿⠿⣿⣿⣶⣦⣄⠙⠷⣤⡀⠀⠀⠀⠀\n",
      "        ⠀⠀⠀⣠⡾⠛⠉⠀⠀⠀⠀⠀⠀⠀⠈⠙⠻⣿⣷⣄⠘⢿⡄⠀⠀⠀\n",
      "        ⠀⢀⡾⠋⠀⠀⠀⠀⠀⠀⠀⠀⠐⠂⠠⢄⡀⠈⢿⣿⣧⠈⢿⡄⠀⠀\n",
      "        ⢀⠏⠀⠀⠀⢀⠄⣀⣴⣾⠿⠛⠛⠛⠷⣦⡙⢦⠀⢻⣿⡆⠘⡇⠀⠀\n",
      "        ---+-+-+-+-+-+-+-+-+-+-+-+---\n",
      "           |S|Y|N|T|H|E|S|I|Z|E|R|\n",
      "        ---+-+-+-+-+-+-+-+-+-+-+-+---\n",
      "        ⠀⠀⢸⡇⠸⣿⣷⠀⢳⡈⢿⣦⣀⣀⣀⣠⣴⣾⠟⠁⠀⠀⠀⠀⢀⡎\n",
      "        ⠀⠀⠘⣷⠀⢻⣿⣧⠀⠙⠢⠌⢉⣛⠛⠋⠉⠀⠀⠀⠀⠀⠀⣠⠎⠀\n",
      "        ⠀⠀⠀⠹⣧⡀⠻⣿⣷⣄⡀⠀⠀⠀⠀⠀⠀⠀⠀⠀⢀⣠⡾⠃⠀⠀\n",
      "        ⠀⠀⠀⠀⠈⠻⣤⡈⠻⢿⣿⣷⣦⣤⣤⣤⣤⣤⣴⡾⠛⠉⠀⠀⠀⠀\n",
      "        ⠀⠀⠀⠀⠀⠀⠈⠙⠶⢤⣈⣉⠛⠛⠛⠛⠋⠉⠀⠀⠀⠀⠀⠀⠀⠀\n",
      "        ⠀⠀⠀⠀⠀⠀⠀⠀⠀⠀⠀⠀⠉⠉⠉⠁⠀⠀⠀⠀⠀⠀⠀⠀⠀⠀\n",
      "<class 'synthesizer.parametric.galaxy.Galaxy'>\n",
      "log10(stellar mass formed/Msol): 9.0\n",
      "available SEDs: []\n",
      "available lines: []\n",
      "available images: []\n",
      "----------\n",
      "\n"
     ]
    }
   ],
   "source": [
    "galaxy_start = time.time()\n",
    "\n",
    "# Initialise a parametric Galaxy\n",
    "galaxy = Galaxy(sfzh, morph=morph)\n",
    "\n",
    "print(\"Galaxy created, took:\", time.time() - galaxy_start)\n",
    "\n",
    "print(galaxy)"
   ]
  },
  {
   "cell_type": "markdown",
   "id": "695afe1f",
   "metadata": {},
   "source": [
    "And with that galaxy created we can compute the spectra using one of the `galaxy.get_spectra_*` helper methods. Here we compute an intrinsic integrated spectra."
   ]
  },
  {
   "cell_type": "code",
   "execution_count": 7,
   "id": "65c86f5c",
   "metadata": {},
   "outputs": [
    {
     "name": "stdout",
     "output_type": "stream",
     "text": [
      "Spectra created, took: 0.004881858825683594\n"
     ]
    }
   ],
   "source": [
    "spectra_start = time.time()\n",
    "\n",
    "# Generate stellar spectra\n",
    "sed = galaxy.get_spectra_intrinsic(grid)\n",
    "\n",
    "print(\"Spectra created, took:\", time.time() - spectra_start)"
   ]
  },
  {
   "cell_type": "markdown",
   "id": "68767eb6",
   "metadata": {},
   "source": [
    "## Creating the image\n",
    "\n",
    "To make an image we first need to define the properties of that image including the resolution and FOV. Note that we could also define the number of pixels instead of one of these, any 2 of `resolution`, `fov`, or `npix` can be defined but the former 2 must come with associated units."
   ]
  },
  {
   "cell_type": "code",
   "execution_count": 8,
   "id": "b292bcda",
   "metadata": {},
   "outputs": [
    {
     "name": "stdout",
     "output_type": "stream",
     "text": [
      "Image width is 7.50 kpc with 0.05 kpc resolution\n"
     ]
    }
   ],
   "source": [
    "# Define geometry of the images\n",
    "resolution = 0.05 * kpc  # resolution in kpc\n",
    "fov = resolution.value * 150 * kpc\n",
    "\n",
    "print(\"Image width is %.2f kpc with %.2f kpc resolution\" % (fov.value, resolution.value))"
   ]
  },
  {
   "cell_type": "markdown",
   "id": "b454af4f",
   "metadata": {},
   "source": [
    "Now we have all we need to make an image in each filter. To do so we can utilise the `Galaxy.make_image` helper function where we simply pass in the filters and image properties defined above."
   ]
  },
  {
   "cell_type": "code",
   "execution_count": 9,
   "id": "8f334aa5",
   "metadata": {},
   "outputs": [
    {
     "name": "stdout",
     "output_type": "stream",
     "text": [
      "Images took: 0.10812997817993164\n"
     ]
    }
   ],
   "source": [
    "img_start = time.time()\n",
    "\n",
    "img = galaxy.make_images(\n",
    "    resolution=resolution,\n",
    "    filters=filters,\n",
    "    sed=sed,\n",
    "    fov=fov,\n",
    ")\n",
    "\n",
    "print(\"Images took:\", time.time() - img_start)"
   ]
  },
  {
   "cell_type": "markdown",
   "id": "bca9c217",
   "metadata": {},
   "source": [
    "Lets make an RGB image and look at the galaxy we have made."
   ]
  },
  {
   "cell_type": "code",
   "execution_count": 10,
   "id": "ac15d07c",
   "metadata": {},
   "outputs": [
    {
     "data": {
      "image/png": "[encoded data removed]",
      "text/plain": [
       "<Figure size 640x480 with 1 Axes>"
      ]
     },
     "metadata": {},
     "output_type": "display_data"
    }
   ],
   "source": [
    "# Make and plot an rgb image\n",
    "img.make_rgb_image(rgb_filters={\"R\" : 'J',\n",
    "                                \"G\" : 'V',\n",
    "                                \"B\" : 'U'}, \n",
    "                   scaling_func=np.arcsinh)\n",
    "fig, ax, _ = img.plot_rgb_image(show=True)"
   ]
  },
  {
   "cell_type": "markdown",
   "id": "ae0caa3f",
   "metadata": {},
   "source": [
    "Similarly to the particle images, you can apply PSFs and noise to Parametric images. The process is identical that the method used for particle imaging. For details see the [particle imaging documentation](particle_imaging.ipynb).\n",
    "\n",
    "## Adding different morphologies together\n",
    "\n",
    "The galaxy image we created above is very simple, too simple in fact. Real galaxies have different distinct components. To account for this with a parametric galaxy we can create a second parametric galaxy to describe the bulge, since we made a very disky system above. To do so we need to create another fake galaxies with a modified SFZH and morphology, and calculate its spectra."
   ]
  },
  {
   "cell_type": "code",
   "execution_count": 11,
   "id": "be8f6445",
   "metadata": {},
   "outputs": [
    {
     "ename": "AttributeError",
     "evalue": "'Grid' object has no attribute 'log10ages'",
     "output_type": "error",
     "traceback": [
      "\u001b[0;31m---------------------------------------------------------------------------\u001b[0m",
      "\u001b[0;31mAttributeError\u001b[0m                            Traceback (most recent call last)",
      "Cell \u001b[0;32mIn[11], line 9\u001b[0m\n\u001b[1;32m      7\u001b[0m sfh_p \u001b[39m=\u001b[39m {\u001b[39m\"\u001b[39m\u001b[39mpeak_age\u001b[39m\u001b[39m\"\u001b[39m: \u001b[39m200\u001b[39m \u001b[39m*\u001b[39m Myr, \u001b[39m\"\u001b[39m\u001b[39mmax_age\u001b[39m\u001b[39m\"\u001b[39m: \u001b[39m500\u001b[39m \u001b[39m*\u001b[39m Myr, \u001b[39m\"\u001b[39m\u001b[39mtau\u001b[39m\u001b[39m\"\u001b[39m: \u001b[39m0.5\u001b[39m}\n\u001b[1;32m      8\u001b[0m sfh \u001b[39m=\u001b[39m SFH\u001b[39m.\u001b[39mLogNormal(sfh_p)  \u001b[39m# constant star formation\u001b[39;00m\n\u001b[0;32m----> 9\u001b[0m sfzh \u001b[39m=\u001b[39m generate_sfzh(grid\u001b[39m.\u001b[39;49mlog10ages, grid\u001b[39m.\u001b[39mmetallicities, sfh, Zh,\n\u001b[1;32m     10\u001b[0m                      stellar_mass\u001b[39m=\u001b[39m\u001b[39m10\u001b[39m\u001b[39m*\u001b[39m\u001b[39m*\u001b[39m\u001b[39m9.5\u001b[39m)\n\u001b[1;32m     11\u001b[0m \u001b[39mprint\u001b[39m(sfzh)\n\u001b[1;32m     13\u001b[0m morph_start \u001b[39m=\u001b[39m time\u001b[39m.\u001b[39mtime()\n",
      "\u001b[0;31mAttributeError\u001b[0m: 'Grid' object has no attribute 'log10ages'"
     ]
    }
   ],
   "source": [
    "# Rename the image \n",
    "disk_img = img\n",
    "\n",
    "# Define the SFZH\n",
    "Z_p = {\"Z\": 0.02}\n",
    "Zh = ZH.deltaConstant(Z_p)\n",
    "sfh_p = {\"peak_age\": 200 * Myr, \"max_age\": 500 * Myr, \"tau\": 0.5}\n",
    "sfh = SFH.LogNormal(sfh_p)  # constant star formation\n",
    "sfzh = generate_sfzh(grid.log10ages, grid.metallicities, sfh, Zh,\n",
    "                     stellar_mass=10**9.5)\n",
    "print(sfzh)\n",
    "\n",
    "morph_start = time.time()\n",
    "\n",
    "# Define the morphology using a simple effective radius and slope\n",
    "morph = Sersic2D(r_eff_kpc=2.5 * kpc, n=4.0, ellip=0, theta=0)\n",
    "\n",
    "print(\"Morphology computed, took:\", time.time() - morph_start)\n",
    "\n",
    "galaxy_start = time.time()\n",
    "\n",
    "# Initialise a parametric Galaxy\n",
    "bulge = Galaxy(sfzh, morph=morph)\n",
    "\n",
    "print(\"Bulge created, took:\", time.time() - galaxy_start)\n",
    "\n",
    "print(bulge)\n",
    "\n",
    "spectra_start = time.time()\n",
    "\n",
    "# Generate stellar spectra\n",
    "bulge_sed = bulge.get_spectra_intrinsic(grid)\n",
    "\n",
    "print(\"Spectra created, took:\", time.time() - spectra_start)"
   ]
  },
  {
   "cell_type": "markdown",
   "id": "e7616cdb",
   "metadata": {},
   "source": [
    "With the bulge created we can make an image of it in isolation, but this time we will use the lower level imaging methods to demonstrate their usage. We can then plot them using the helper method for individual filter images, for more details on this method see the [particle imaging documentation](particle_imaging.ipynb)."
   ]
  },
  {
   "cell_type": "code",
   "execution_count": null,
   "id": "096ec3a9",
   "metadata": {},
   "outputs": [
    {
     "data": {
      "image/png": "[encoded data removed]",
      "text/plain": [
       "<Figure size 1400x350 with 3 Axes>"
      ]
     },
     "metadata": {},
     "output_type": "display_data"
    },
    {
     "name": "stdout",
     "output_type": "stream",
     "text": [
      "Images took: 0.16573405265808105\n"
     ]
    }
   ],
   "source": [
    "img_start = time.time()\n",
    "\n",
    "# Intialise the Parametric image object\n",
    "bulge_img = ParametricImage(\n",
    "    morphology=bulge.morph,\n",
    "    resolution=resolution,\n",
    "    filters=filters,\n",
    "    sed=galaxy.spectra[\"intrinsic\"],\n",
    "    fov=fov,\n",
    ")\n",
    "\n",
    "# Compute the photometric images\n",
    "bulge_imgs = bulge_img.get_imgs()\n",
    "\n",
    "# Lets set up a simple normalisation across all images\n",
    "vmax = 0\n",
    "for bimg in bulge_imgs.values():\n",
    "    up = np.percentile(bimg, 99.9)\n",
    "    if up > vmax:\n",
    "        vmax = up\n",
    "    \n",
    "# Get the plot\n",
    "fig, ax = bulge_img.plot_image(img_type=\"standard\", show=True, vmin=0, vmax=vmax, scaling_func=np.arcsinh)\n",
    "plt.close(fig)\n",
    "\n",
    "print(\"Images took:\", time.time() - img_start)"
   ]
  },
  {
   "cell_type": "markdown",
   "id": "d3895494",
   "metadata": {},
   "source": [
    "Now we need to combine the disk and bulge together into a single image. To do this we simply add together the two image objects. \n",
    "\n",
    "Note that the resulting image object only retains the attributes of the left hand image in the addition, some cannot differ between the two (`resolution`, `fov`, `npix`, etc.) but others may and some are certain to. Where they are guaranteed to differ they are replaced by `None`. This means the resulting image from the addition can be plotted, PSFs and noise added, be used for analysis, or added to other images but information is lost in this process. However, the original image objects are stored in a dictionary called `combined_imgs` so they can be accessed from the new image."
   ]
  },
  {
   "cell_type": "code",
   "execution_count": null,
   "id": "9ede39d9",
   "metadata": {},
   "outputs": [
    {
     "data": {
      "image/png": "[encoded data removed]",
      "text/plain": [
       "<Figure size 640x480 with 1 Axes>"
      ]
     },
     "metadata": {},
     "output_type": "display_data"
    }
   ],
   "source": [
    "# Combine the images\n",
    "new_img = disk_img + bulge_img\n",
    "\n",
    "# And make a plot\n",
    "new_img.make_rgb_image(rgb_filters={\"R\" : 'J',\n",
    "                                    \"G\" : 'V',\n",
    "                                    \"B\" : 'U'}, scaling_func=np.arcsinh)\n",
    "fig, ax, _ = new_img.plot_rgb_image(show=True)"
   ]
  }
 ],
 "metadata": {
  "kernelspec": {
   "display_name": "Python 3",
   "language": "python",
   "name": "python3"
  },
  "language_info": {
   "codemirror_mode": {
    "name": "ipython",
    "version": 3
   },
   "file_extension": ".py",
   "mimetype": "text/x-python",
   "name": "python",
   "nbconvert_exporter": "python",
   "pygments_lexer": "ipython3",
   "version": "3.11.3"
  },
  "vscode": {
   "interpreter": {
    "hash": "b17fb8bccc0b39217f999a538066f52bb2439b4a6369f3609a877f598600f747"
   }
  }
 },
 "nbformat": 4,
 "nbformat_minor": 5
}
