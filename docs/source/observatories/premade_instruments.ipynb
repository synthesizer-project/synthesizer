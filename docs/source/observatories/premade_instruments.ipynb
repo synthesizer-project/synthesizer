{
 "cells": [
  {
   "cell_type": "markdown",
   "id": "6046dc15",
   "metadata": {},
   "source": [
    "# Premade Instruments\n",
    "\n",
    "To ensure users don't need to constantly redefine the same commonly used instruments, we provide a set of premade instruments. A list of these instruments can be printed using the ``print_premade_instruments`` function. "
   ]
  },
  {
   "cell_type": "code",
   "execution_count": null,
   "id": "820c13b7",
   "metadata": {},
   "outputs": [],
   "source": [
    "from synthesizer.instruments import print_premade_instruments\n",
    "\n",
    "print_premade_instruments()"
   ]
  },
  {
   "cell_type": "markdown",
   "id": "8a49be3d",
   "metadata": {},
   "source": [
    "## Importing Premade Instruments\n",
    "\n",
    "If you only need properties on an instrument that can be hard coded (filters, resolutions, wavelength ranges, etc.), you can import the premade instruments directly from the `instruments` module. For example, importing JWST's NIRCam instrument (including only the wide filters) can be done with the following code:"
   ]
  },
  {
   "cell_type": "code",
   "execution_count": null,
   "id": "c357cd33",
   "metadata": {},
   "outputs": [],
   "source": [
    "from synthesizer.instruments import JWSTNIRCamWide\n",
    "\n",
    "nircam = JWSTNIRCamWide()\n",
    "\n",
    "print(nircam)"
   ]
  },
  {
   "cell_type": "markdown",
   "id": "1bb6d5e6",
   "metadata": {},
   "source": [
    "### Getting a subset of a premade instrument\n",
    "\n",
    "You may not always want every filter defined on a premade instrument. In this case, you can pass a subset of filters during instatiation. "
   ]
  },
  {
   "cell_type": "code",
   "execution_count": null,
   "id": "69274f3a",
   "metadata": {},
   "outputs": [],
   "source": [
    "# Print all available filters\n",
    "print(\"All filters:\", JWSTNIRCamWide.available_filters)\n",
    "\n",
    "# Create an instrument with a subset of filters\n",
    "nircam = JWSTNIRCamWide(\n",
    "    filter_subset=(\n",
    "        \"JWST/NIRCam.F090W\",\n",
    "        \"JWST/NIRCam.F115W\",\n",
    "        \"JWST/NIRCam.F150W\",\n",
    "    )\n",
    ")\n",
    "\n",
    "# Print which filters are to verify we got the subset\n",
    "print(\"Subset:\", nircam.filters.filter_codes)"
   ]
  },
  {
   "cell_type": "markdown",
   "id": "f946427f",
   "metadata": {},
   "source": [
    "### Modifying premade Instruments\n",
    "\n",
    "These premade models don't define noise arrays or PSFs, in some cases these can be loaded (see below), but in all cases they can passed at instantiation."
   ]
  },
  {
   "cell_type": "code",
   "execution_count": null,
   "id": "a1cb200b",
   "metadata": {},
   "outputs": [],
   "source": [
    "import numpy as np\n",
    "\n",
    "# Define noise for each filter\n",
    "noises = {\n",
    "    f: np.random.rand(100, 100) for f in JWSTNIRCamWide.available_filters\n",
    "}\n",
    "\n",
    "# Get the instrument with included noise\n",
    "nircam = JWSTNIRCamWide(noise_maps=noises)\n",
    "\n",
    "print(nircam)"
   ]
  },
  {
   "cell_type": "markdown",
   "id": "ce47ebb9",
   "metadata": {},
   "source": [
    "The same can be done for any instrument property. Even if these are defined in the premade instrument, you can override them by passing a new value at instantiation. "
   ]
  },
  {
   "cell_type": "markdown",
   "id": "3c09879c",
   "metadata": {},
   "source": [
    "## Loading Premade Instruments\n",
    "\n",
    "We have also generated a file for each of the premade instruments which can be downloaded and then loaded at will. These are particularly useful for instruments where we have included PSFs and other \"heavier\" properties which could not be stored within the classes themselves. These are also useful when running in situation where an internet connection is not available, such as on a remote cluster, or when loading the same instrument on lots of ranks in a parallel job, where downloading the instrument file once is much more efficient than downloading it on each rank.\n",
    "\n",
    "These files are available for download with the Synthesizer download tool. To download these you can simply invoke the command line tool with the ``--instruments`` argument and pass the name of the desired class. \n",
    "\n",
    "```bash\n",
    "synthesizer-download --instruments EuclidNISP  \n",
    "```\n",
    "\n",
    "This will place the instrument file in the cache directory ready to be loaded whenever you need it. To load an instrument, you can simply use the ``load`` class method."
   ]
  },
  {
   "cell_type": "code",
   "execution_count": null,
   "id": "6341a4a7",
   "metadata": {},
   "outputs": [],
   "source": [
    "from synthesizer.instruments import EuclidNISP\n",
    "\n",
    "euclid = EuclidNISP.load()"
   ]
  },
  {
   "cell_type": "markdown",
   "id": "11fd000e",
   "metadata": {},
   "source": [
    "### Overiding loaded properties\n",
    "\n",
    "Similarly to imported instruments, you can override any of the properties defined in the loaded instrument. This is done by passing keyword arguments to the ``load`` method."
   ]
  },
  {
   "cell_type": "code",
   "execution_count": null,
   "id": "ed824e2e",
   "metadata": {},
   "outputs": [],
   "source": [
    "from unyt import arcsecond\n",
    "\n",
    "euclid = EuclidNISP.load(resolution=0.5 * arcsecond)"
   ]
  },
  {
   "cell_type": "markdown",
   "id": "b61636c5",
   "metadata": {},
   "source": [
    "As you can imagine, this extends to only loading a subset of filters."
   ]
  },
  {
   "cell_type": "code",
   "execution_count": null,
   "id": "92704b94",
   "metadata": {},
   "outputs": [],
   "source": [
    "print(EuclidNISP.available_filters)\n",
    "euclid = EuclidNISP.load(filter_subset=(\"Euclid/NISP.Y\", \"Euclid/NISP.J\"))\n",
    "print(euclid.filters.filter_codes)"
   ]
  }
 ],
 "metadata": {},
 "nbformat": 4,
 "nbformat_minor": 5
}
