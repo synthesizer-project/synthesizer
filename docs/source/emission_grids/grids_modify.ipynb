{
 "cells": [
  {
   "cell_type": "markdown",
   "id": "e008c49d-b132-4704-a0bc-5233bb3ec404",
   "metadata": {},
   "source": [
    "# Modifying Grids\n",
    "\n",
    "## Resampling `Grids`\n",
    "\n",
    "If you want to resample a grid after instantiation, you can apply the `interp_spectra` method:"
   ]
  },
  {
   "cell_type": "code",
   "execution_count": null,
   "id": "a14c1ab9-140c-4b88-a29b-91bd8472a5fc",
   "metadata": {},
   "outputs": [],
   "source": [
    "import numpy as np\n",
    "from unyt import angstrom\n",
    "\n",
    "from synthesizer import Grid\n",
    "\n",
    "grid = Grid(\"test_grid.hdf5\", grid_dir=\"../../../tests/test_grid\")\n",
    "\n",
    "# Define a new set of wavelengths\n",
    "new_lams = np.logspace(2, 5, 10000) * angstrom\n",
    "\n",
    "print(\"The old grid had dimensions:\", grid.spectra[\"incident\"].shape)\n",
    "\n",
    "# Get the grid interpolated onto the new wavelength array\n",
    "grid.interp_spectra(new_lam=new_lams)\n",
    "\n",
    "print(\"The interpolated grid has dimensions:\", grid.spectra[\"incident\"].shape)"
   ]
  },
  {
   "cell_type": "markdown",
   "id": "b46770fa-0b26-45c5-b926-116a7ac864e5",
   "metadata": {},
   "source": [
    "Note that this will overwrite the spectra and wavelengths read from the file *in place*.\n",
    "To get back to the original arrays, a separate `Grid` can be instantiated without the modified wavelength array."
   ]
  },
  {
   "cell_type": "markdown",
   "id": "e597d688-bdee-4608-bdc8-5a62c23640fc",
   "metadata": {},
   "source": [
    "## Collapsing `Grids`\n",
    "\n",
    "While most of the models within Synthesizer are capable of handling higher dimensionality grids (i.e. grids with more dimensions than `age` and `metallicity`), other workflows might require some method to reduce the dimensionality. \n",
    "\n",
    "This functionality is provided via the `collapse()` method, which collapses the grid over a specified axis.\n",
    "There are three ways to actually collapse the grid, specified by the `method` keyword argument:\n",
    "\n",
    "- `marginalize` over the entire axis. This is useful if you don't know anything about this parameter, and just want to adopt the average over it. You can specify the function used to marginalize with the keyword argument `marginalize_function`; the default is `np.average`. \n",
    "- Pick the value `nearest` to a specified value. If you know the value of the parameter you want to use, you can collapse the grid by picking the value closest to your specified value. For this, you need to specify the `value` keyword argument. \n",
    "- `interpolate` to a specified value. Similar to `nearest`, but with a linear interpolation to your specified `value`. This is useful in workflows where you can't adopt a discrete value, but be warned that interpolating over a coarse grid can give unrealistic results. You can apply a transformation to the axis before interpolating, e.g. to interpolate in log-space rather than linear space, with the keyword argument `pre_interp_function`. \n",
    "\n",
    "For example, here we collapse the grid over the metallicity axis:"
   ]
  },
  {
   "cell_type": "code",
   "execution_count": null,
   "id": "38d638c3-9635-4851-99f8-fddc883ea87e",
   "metadata": {},
   "outputs": [],
   "source": [
    "print(\"The old grid had dimensions:\", grid.spectra[\"incident\"].shape)\n",
    "print(\"and axes:\", \", \".join(grid.axes))\n",
    "\n",
    "# Collapse the grid to a single metallicity value\n",
    "grid.collapse(\"metallicities\", value=0.03, method=\"nearest\")\n",
    "\n",
    "print(\"The collapsed grid has dimensions:\", grid.spectra[\"incident\"].shape)\n",
    "print(\"and axes:\", \", \".join(grid.axes))"
   ]
  },
  {
   "cell_type": "markdown",
   "id": "1af557f8-62a0-4b94-ac1e-8423df9f2d8f",
   "metadata": {},
   "source": [
    "Note that `collapse()` will overwrite the `Grid` _in place_. You can restore the grid to its original dimensionality by re-loading from the HDF5 file:"
   ]
  },
  {
   "cell_type": "code",
   "execution_count": null,
   "id": "6e10a2df-c7bc-4376-aacc-061703953ef2",
   "metadata": {},
   "outputs": [],
   "source": [
    "# Re-load the original grid\n",
    "grid = Grid(\"test_grid\")"
   ]
  },
  {
   "cell_type": "markdown",
   "id": "ec6070e8-1e93-4472-8499-ad52f80600d7",
   "metadata": {},
   "source": [
    "## Converting a `Grid` into an `Sed`\n",
    "\n",
    "Any of the spectra arrays stored within a `Grid` can be returned as `Sed` objects (see the `Sed` [docs](../emissions/emission_objects/sed_example.ipynb)). This enables all of the analysis methods provide on an Sed to be used on the whole spectra grid. To do this we simply call `get_sed` with the spectra type we want to extract, and then use any of the included methods."
   ]
  },
  {
   "cell_type": "code",
   "execution_count": null,
   "id": "7f5afe92-ea70-4031-a4ae-c224775dd328",
   "metadata": {},
   "outputs": [],
   "source": [
    "# Get the sed object\n",
    "sed = grid.get_sed(spectra_type=\"incident\")\n",
    "\n",
    "# Measure the balmer break for all spectra in the grid (limiting the output)\n",
    "sed.measure_balmer_break()[5:10, 5:10]"
   ]
  },
  {
   "attachments": {},
   "cell_type": "markdown",
   "id": "b053a5fd-0ddb-47d5-88a2-ece568f1888c",
   "metadata": {},
   "source": [
    "## Working with flattened grids\n",
    "\n",
    "Sometimes it's useful to work with flattened (i.e. one dimensional) versions of a grid of spectra, photometry etc. To facilitate this the `get_flattened_axes_values` method on `grid` can be used to get the flattened axes values."
   ]
  },
  {
   "cell_type": "code",
   "execution_count": null,
   "id": "f1eb6636-65d3-482c-97a2-70cbb43f8274",
   "metadata": {},
   "outputs": [],
   "source": [
    "# Get the flattened version of the axes\n",
    "flattened_axes_values = grid.get_flattened_axes_values()"
   ]
  }
 ],
 "metadata": {},
 "nbformat": 4,
 "nbformat_minor": 5
}
