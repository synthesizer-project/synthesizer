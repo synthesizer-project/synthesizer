{
 "cells": [
  {
   "attachments": {},
   "cell_type": "markdown",
   "id": "659dcb3a-891b-4271-9073-d02efbeb14d5",
   "metadata": {},
   "source": [
    "# The ``Grid`` Object\n",
    "\n",
    "Here we show how to instantiate a ``Grid`` object and use it to explore a grid file."
   ]
  },
  {
   "cell_type": "code",
   "execution_count": null,
   "id": "79c4459f-4b18-43dd-922f-f20ad58bbfd6",
   "metadata": {
    "nbsphinx": "hidden"
   },
   "outputs": [],
   "source": [
    "import matplotlib.pyplot as plt\n",
    "import numpy as np\n",
    "from matplotlib import colormaps as cm\n",
    "from matplotlib.colors import Normalize\n",
    "from unyt import angstrom"
   ]
  },
  {
   "cell_type": "markdown",
   "id": "0d593e25-4783-4c38-b346-4c30d07d7482",
   "metadata": {},
   "source": [
    "The ``Grid`` object needs a file to load, these are HDF5 files that are available through the ``synthesizer-download`` command line tool (for more details see [the introduction to grids](grids.rst). By default, once downloaded these files are stored in the ``GRID_DIR`` directory. The default location of this directory is platform dependent, but the location can be found by import it and printing it."
   ]
  },
  {
   "cell_type": "code",
   "execution_count": null,
   "id": "50c9e74d",
   "metadata": {},
   "outputs": [],
   "source": [
    "from synthesizer import GRID_DIR\n",
    "\n",
    "print(GRID_DIR)"
   ]
  },
  {
   "cell_type": "markdown",
   "id": "c977bb21",
   "metadata": {},
   "source": [
    "This directory can be overriden by setting the ``SYNTHESIZER_GRID_DIR`` environment variable.\n",
    "\n",
    "Assuming the grid file is in the default location, all we need to do is pass the name of the grid we want to load to the ``Grid`` constructor. Note that the name of the grid can include the extension or not. If the extension is not included, it is assumed to be ``\"hdf5\"``. \n",
    "\n",
    "Here we will load the test grid (a simplified BPASS 2.2.1 grid)."
   ]
  },
  {
   "cell_type": "code",
   "execution_count": null,
   "id": "61cf2105",
   "metadata": {},
   "outputs": [],
   "source": [
    "from synthesizer import Grid\n",
    "\n",
    "grid = Grid(\"test_grid.hdf5\")"
   ]
  },
  {
   "cell_type": "markdown",
   "id": "5bc9b466",
   "metadata": {},
   "source": [
    "If we are loading a grid from a different location we can just pass that path to the ``grid_dir`` argument."
   ]
  },
  {
   "cell_type": "code",
   "execution_count": null,
   "id": "ab9f8f9a",
   "metadata": {
    "nbsphinx": "hidden"
   },
   "outputs": [],
   "source": [
    "import os\n",
    "from shutil import copyfile\n",
    "\n",
    "# Copy the grid file to the stated directory to\n",
    "# demonstrate the grid_dir argument\n",
    "copyfile(\n",
    "    os.path.join(GRID_DIR, \"test_grid.hdf5\"),\n",
    "    os.path.join(\"../../../tests/test_grid\", \"test_grid.hdf5\"),\n",
    ")"
   ]
  },
  {
   "cell_type": "code",
   "execution_count": null,
   "id": "8a9b1038-a78b-4c5d-8d04-c6f0cebda0a9",
   "metadata": {},
   "outputs": [],
   "source": [
    "grid = Grid(\"test_grid.hdf5\", grid_dir=\"../../../tests/test_grid\")"
   ]
  },
  {
   "cell_type": "markdown",
   "id": "b392db95",
   "metadata": {},
   "source": [
    "## Printing a summary of the `Grid`\n",
    "\n",
    "We can have a look at what the loaded grid contains by simply printing the grid. "
   ]
  },
  {
   "cell_type": "code",
   "execution_count": null,
   "id": "4eb588f7",
   "metadata": {},
   "outputs": [],
   "source": [
    "print(grid)"
   ]
  },
  {
   "cell_type": "markdown",
   "id": "444cb6c0",
   "metadata": {},
   "source": [
    "In this instance, its a stellar grid with the `incident` spectrum defined by the `axes_values`, `ages` and `metallicities`. The grid also contains some useful quantites like the photon rate (`log10_specific_ionising_luminosity`) available for fully ionising hydrogen and helium. \n",
    "\n",
    "Since this grid is a cloudy processed grid, there are additional spectra or line data that are available to extract or manipulate. These include (but not limited to)\n",
    "- `spectra`\n",
    "    - `nebular`: is the nebular continuum (including line emission) predicted by the photoionisation model\n",
    "    - `linecont`: this is the line contribution to the spectrum\n",
    "    - `transmitted`: this is the incident spectra that is transmitted through the gas in the photoionisation modelling; it has zero flux at shorter wavelength of the lyman-limit\n",
    "    - `wavelength`: the wavelength covered\n",
    "- `lines`\n",
    "    - `id`: line id, this is the same as used in cloudy (see [Linelist generation](https://github.com/synthesizer-project/grid-generation/tree/main/src/synthesizer_grids/cloudy/create_linelist))\n",
    "    - `luminosity`: the luminosity of the line\n",
    "    - `nebular_continuum`: the underlying nebular continuum at the line\n",
    "    - `transmitted`: this is the transmitted luminosity at the line\n",
    "    - `wavelength`:  the wavelength of the line\n",
    "\n",
    "A similar structure is also followed for AGN grids, where the `axes` could either be described by `mass` (black hole mass), `acretion_rate_eddington` (the accretion rate normalised to the eddington limit for the mass), `cosine_inclination` (cosine value describing the inclination of the AGN), or the `temperature` (blackbody temperature of the big bump component), `alpha-ox` (X-ray to UV ratio) , `alpha-uv` (low-energy slope of the big bump component), `alpha-x` (slope of the X-ray component)."
   ]
  },
  {
   "cell_type": "markdown",
   "id": "4e761cc1",
   "metadata": {},
   "source": [
    "## Limiting the ``Grid``\n",
    "\n",
    "A `Grid` can also take various arguments to limit the size of the grid, e.g. by isolating the `Grid` to a wavelength region of interest. This is particularly useful when making a large number of spectra from a high resolution `Grid`, where the memory footprint can become large.\n",
    "\n",
    "### Passing a wavelength array\n",
    "\n",
    "If you only care about a grid of specific wavelength values, you can pass this array and the `Grid` will automatically be interpolated onto the new wavelength array using [SpectRes](https://github.com/ACCarnall/SpectRes)."
   ]
  },
  {
   "cell_type": "code",
   "execution_count": null,
   "id": "d9006245",
   "metadata": {},
   "outputs": [],
   "source": [
    "# Define a new set of wavelengths\n",
    "new_lams = np.logspace(2, 5, 1000) * angstrom\n",
    "\n",
    "# Create a new grid\n",
    "grid = Grid(\"test_grid\", new_lam=new_lams)\n",
    "print(grid.shape)"
   ]
  },
  {
   "cell_type": "markdown",
   "id": "67d20f67",
   "metadata": {},
   "source": [
    "### Passing wavelength limits\n",
    "\n",
    "If you don't want to modify the underlying grid resolution, but only care about a specific wavelength range, you can pass limits to truncate the grid at."
   ]
  },
  {
   "cell_type": "code",
   "execution_count": null,
   "id": "30039ef3",
   "metadata": {},
   "outputs": [],
   "source": [
    "# Create a new grid\n",
    "grid = Grid(\"test_grid\", lam_lims=(10**3 * angstrom, 10**4 * angstrom))\n",
    "print(grid.shape)"
   ]
  },
  {
   "cell_type": "markdown",
   "id": "ae701e97-14bb-4abc-95ad-782751c5259f",
   "metadata": {},
   "source": [
    "## Plot a single grid point\n",
    "\n",
    "We can plot the spectra at the location of a single point in our grid. First, we choose some age and metallicity."
   ]
  },
  {
   "cell_type": "code",
   "execution_count": null,
   "id": "decbb271-c6e2-4e72-b992-b6e5bbb7d039",
   "metadata": {},
   "outputs": [],
   "source": [
    "# Return to the unmodified grid\n",
    "grid = Grid(\"test_grid\")\n",
    "\n",
    "log10age = 6.0  # log10(age/yr)\n",
    "Z = 0.01  # metallicity"
   ]
  },
  {
   "cell_type": "markdown",
   "id": "0e51fb94-f892-4d56-9424-5432709fa937",
   "metadata": {},
   "source": [
    "We then get the index location of that grid point for this age and metallicity"
   ]
  },
  {
   "cell_type": "code",
   "execution_count": null,
   "id": "b95a6646-917b-431e-b2d1-72d08dee0f9d",
   "metadata": {},
   "outputs": [],
   "source": [
    "grid_point = grid.get_grid_point(log10ages=log10age, metallicity=Z)"
   ]
  },
  {
   "cell_type": "markdown",
   "id": "8704a652-2145-4d24-af2a-b81e23853daf",
   "metadata": {},
   "source": [
    "We can then loop over the available spectra (contained in `grid.spec_names`) and plot"
   ]
  },
  {
   "cell_type": "code",
   "execution_count": null,
   "id": "423dea3a-1a67-4f21-b26c-99008ebb8860",
   "metadata": {},
   "outputs": [],
   "source": [
    "for spectra_type in grid.available_spectra:\n",
    "    # Get `Sed` object\n",
    "    sed = grid.get_sed_at_grid_point(grid_point, spectra_type=spectra_type)\n",
    "\n",
    "    # Mask zero valued elements\n",
    "    mask = sed.lnu > 0\n",
    "    plt.plot(\n",
    "        np.log10(sed.lam[mask]),\n",
    "        np.log10(sed.lnu[mask]),\n",
    "        lw=1,\n",
    "        alpha=0.8,\n",
    "        label=spectra_type,\n",
    "    )\n",
    "\n",
    "plt.legend(fontsize=8, labelspacing=0.0)\n",
    "plt.xlim(2.3, 8)\n",
    "plt.ylim(19, 25)\n",
    "plt.xlabel(r\"$\\rm log_{10}(\\lambda/\\AA)$\")\n",
    "plt.ylabel(r\"$\\rm log_{10}(L_{\\nu}/erg\\ s^{-1}\\ Hz^{-1} M_{\\odot}^{-1})$\")"
   ]
  },
  {
   "cell_type": "markdown",
   "id": "7a1625be-deef-4730-bf48-a30422507224",
   "metadata": {},
   "source": [
    "## Plot ionising luminosities\n",
    "\n",
    "We can also plot properties over the entire age and metallicity grid, such as the ionising luminosity. \n",
    "\n",
    "In the examples below we plot ionising luminosities for HI and HeII"
   ]
  },
  {
   "cell_type": "code",
   "execution_count": null,
   "id": "eb8088ad-e7ef-4600-941d-0c8b01c59a5d",
   "metadata": {},
   "outputs": [],
   "source": [
    "fig, ax = grid.plot_specific_ionising_lum(ion=\"HI\")"
   ]
  },
  {
   "cell_type": "code",
   "execution_count": null,
   "id": "3ac8ca54-9707-4125-9715-d878a0ed5e27",
   "metadata": {},
   "outputs": [],
   "source": [
    "fig, ax = grid.plot_specific_ionising_lum(ion=\"HeII\")"
   ]
  },
  {
   "cell_type": "markdown",
   "id": "c3c32247-626e-48ce-b51a-7a1f3174bdc8",
   "metadata": {},
   "source": [
    "## Resampling `Grids`\n",
    "\n",
    "If you want to resample a grid after instantiation, you can apply the `intrep_spectra` method:"
   ]
  },
  {
   "cell_type": "code",
   "execution_count": null,
   "id": "fa0f7d5d",
   "metadata": {},
   "outputs": [],
   "source": [
    "# Define a new set of wavelengths\n",
    "new_lams = np.logspace(2, 5, 10000) * angstrom\n",
    "\n",
    "print(\"The old grid had dimensions:\", grid.spectra[\"incident\"].shape)\n",
    "\n",
    "# Get the grid interpolated onto the new wavelength array\n",
    "grid.interp_spectra(new_lam=new_lams)\n",
    "\n",
    "print(\"The interpolated grid has dimensions:\", grid.spectra[\"incident\"].shape)"
   ]
  },
  {
   "cell_type": "markdown",
   "id": "e094b8c5",
   "metadata": {},
   "source": [
    "Note that this will overwrite the spectra and wavelengths read from the file *in place*.\n",
    "To get back to the original arrays, a separate `Grid` can be instantiated without the modified wavelength array."
   ]
  },
  {
   "cell_type": "markdown",
   "id": "34e89bb1",
   "metadata": {},
   "source": [
    "## Collapsing `Grids`\n",
    "\n",
    "While most of the models within Synthesizer are capable of handling higher dimensionality grids (i.e. grids with more dimensions than `age` and `metallicity`), other workflows might require some method to reduce the dimensionality. \n",
    "\n",
    "This functionality is provided via the `collapse()` method, which collapses the grid over a specified axis.\n",
    "There are three ways to actually collapse the grid, specified by the `method` keyword argument:\n",
    "\n",
    "- `marginalize` over the entire axis. This is useful if you don't know anything about this parameter, and just want to adopt the average over it. You can specify the function used to marginalize with the keyword argument `marginalize_function`; the default is `np.average`. \n",
    "- Pick the value `nearest` to a specified value. If you know the value of the parameter you want to use, you can collapse the grid by picking the value closest to your specified value. For this, you need to specify the `value` keyword argument. \n",
    "- `interpolate` to a specified value. Similar to `nearest`, but with a linear interpolation to your specified `value`. This is useful in workflows where you can't adopt a discrete value, but be warned that interpolating over a coarse grid can give unrealistic results. You can apply a transformation to the axis before interpolating, e.g. to interpolate in log-space rather than linear space, with the keyword argument `pre_interp_function`. \n",
    "\n",
    "For example, here we collapse the grid over the metallicity axis:"
   ]
  },
  {
   "cell_type": "code",
   "execution_count": null,
   "id": "d0ce0fbe",
   "metadata": {},
   "outputs": [],
   "source": [
    "print(\"The old grid had dimensions:\", grid.spectra[\"incident\"].shape)\n",
    "print(\"and axes:\", \", \".join(grid.axes))\n",
    "\n",
    "# Collapse the grid to a single metallicity value\n",
    "grid.collapse(\"metallicities\", value=0.03, method=\"nearest\")\n",
    "\n",
    "print(\"The collapsed grid has dimensions:\", grid.spectra[\"incident\"].shape)\n",
    "print(\"and axes:\", \", \".join(grid.axes))"
   ]
  },
  {
   "cell_type": "markdown",
   "id": "611cef91",
   "metadata": {},
   "source": [
    "Note that `collapse()` will overwrite the `Grid` _in place_. You can restore the grid to its original dimensionality by re-loading from the HDF5 file:"
   ]
  },
  {
   "cell_type": "code",
   "execution_count": null,
   "id": "bacbdd48",
   "metadata": {},
   "outputs": [],
   "source": [
    "# Re-load the original grid\n",
    "grid = Grid(\"test_grid\")"
   ]
  },
  {
   "cell_type": "markdown",
   "id": "10bbb357",
   "metadata": {},
   "source": [
    "## Converting a `Grid` into an `Sed`\n",
    "\n",
    "Any of the spectra arrays stored within a `Grid` can be returned as `Sed` objects (see the `Sed` [docs](../emissions/emission_objects/sed_example.ipynb)). This enables all of the analysis methods provide on an Sed to be used on the whole spectra grid. To do this we simply call `get_sed` with the spectra type we want to extract, and then use any of the included methods."
   ]
  },
  {
   "cell_type": "code",
   "execution_count": null,
   "id": "2ef7ddad",
   "metadata": {},
   "outputs": [],
   "source": [
    "# Get the sed object\n",
    "sed = grid.get_sed(spectra_type=\"incident\")\n",
    "\n",
    "# Measure the balmer break for all spectra in the grid (limiting the output)\n",
    "sed.measure_balmer_break()[5:10, 5:10]"
   ]
  },
  {
   "attachments": {},
   "cell_type": "markdown",
   "id": "9cc8a97d",
   "metadata": {},
   "source": [
    "## Working with flattened grids\n",
    "\n",
    "Sometimes it's useful to work with flattened (i.e. one dimensional) versions of a grid of spectra, photometry etc. To facilitate this the `get_flattened_axes_values` method on `grid` can be used to get the flattened axes values."
   ]
  },
  {
   "cell_type": "code",
   "execution_count": null,
   "id": "6c5bf32d",
   "metadata": {},
   "outputs": [],
   "source": [
    "grid._axes_units[\"ages\"]\n",
    "grid._axes_values[\"ages\"]"
   ]
  },
  {
   "cell_type": "code",
   "execution_count": null,
   "id": "c4a47c96",
   "metadata": {},
   "outputs": [],
   "source": [
    "# Get the balmer breaks of the entire grid\n",
    "balmer_breaks = sed.measure_balmer_break()\n",
    "\n",
    "# Get a flattened version of the Balmer break grid\n",
    "flattened_balmer_breaks = balmer_breaks.flatten()\n",
    "\n",
    "# Get the flattened version of the axes\n",
    "flattened_axes_values = grid.get_flattened_axes_values()\n",
    "\n",
    "# Normalise metallicities and create an array of colors\n",
    "norm = Normalize(vmin=-4, vmax=-1.5, clip=True)\n",
    "colors = cm[\"plasma\"](norm(np.log10(flattened_axes_values[\"metallicities\"])))\n",
    "\n",
    "# Plot\n",
    "plt.scatter(\n",
    "    flattened_axes_values[\"ages\"].to(\"Myr\").value,\n",
    "    flattened_balmer_breaks,\n",
    "    c=colors,\n",
    ")\n",
    "plt.xscale(\"log\")\n",
    "plt.xlabel(\"ages/Myr\")\n",
    "plt.ylabel(\"Balmer break\")\n",
    "plt.show()"
   ]
  },
  {
   "cell_type": "markdown",
   "id": "8e908999",
   "metadata": {},
   "source": [
    "## Lines from `Grid` objects\n",
    "\n",
    "Grids that have been post-processed through a photoionisation code (e.g. `Cloudy`) contain information on emission lines. We can see what lines are available on a grid by printing the ``available_lines`` attribute."
   ]
  },
  {
   "cell_type": "code",
   "execution_count": null,
   "id": "fe20a592",
   "metadata": {},
   "outputs": [],
   "source": [
    "print(grid.available_lines)"
   ]
  },
  {
   "cell_type": "markdown",
   "id": "933b291d",
   "metadata": {},
   "source": [
    "This is also reported if we give use the `print` function on a grid directly:"
   ]
  },
  {
   "cell_type": "code",
   "execution_count": null,
   "id": "41c0da47",
   "metadata": {},
   "outputs": [],
   "source": [
    "print(grid)"
   ]
  },
  {
   "cell_type": "markdown",
   "id": "4d7ce8b8",
   "metadata": {},
   "source": [
    "## Extracting lines from a Grid\n",
    "\n",
    "To demonstrate, we choose some age and metallicity and extract the spectra at that grid point. We can then get information on a single line, in this case H-$\\beta$."
   ]
  },
  {
   "cell_type": "code",
   "execution_count": null,
   "id": "0006c4c1",
   "metadata": {},
   "outputs": [],
   "source": [
    "log10age = 6.0  # log10(age/yr)\n",
    "metallicity = 0.01\n",
    "\n",
    "# find nearest grid point\n",
    "grid_point = grid.get_grid_point(log10ages=log10age, metallicity=metallicity)\n",
    "print(grid_point)\n",
    "line = grid.get_lines(grid_point, \"H 1 6562.80A\")\n",
    "print(line)"
   ]
  },
  {
   "cell_type": "markdown",
   "id": "33f6f9d8",
   "metadata": {},
   "source": [
    "We can do this for a combination of lines (e.g. a doublet) if we just pass a comma-separated list of lines ids to the ``line_id`` argument."
   ]
  },
  {
   "cell_type": "code",
   "execution_count": null,
   "id": "047e3e5b",
   "metadata": {},
   "outputs": [],
   "source": [
    "from synthesizer.emissions.utils import (\n",
    "    Hb,\n",
    "    O3b,\n",
    "    O3r,\n",
    ")\n",
    "\n",
    "line = grid.get_lines(grid_point, \", \".join([Hb, O3r, O3b]))\n",
    "print(line)"
   ]
  },
  {
   "cell_type": "markdown",
   "id": "5b9ce629",
   "metadata": {},
   "source": [
    "We can also get a collection of individual lines by passing a list of line ids to the ``line_id`` argument. "
   ]
  },
  {
   "cell_type": "code",
   "execution_count": null,
   "id": "c605447c",
   "metadata": {},
   "outputs": [],
   "source": [
    "line = grid.get_lines(grid_point, [Hb, O3r, O3b])\n",
    "print(line)"
   ]
  },
  {
   "cell_type": "markdown",
   "id": "7ae4b508",
   "metadata": {},
   "source": [
    "If we don't pass a list then it defaults to returning all available lines.\n"
   ]
  },
  {
   "cell_type": "code",
   "execution_count": null,
   "id": "ffff2b9e",
   "metadata": {},
   "outputs": [],
   "source": [
    "lines = grid.get_lines(grid_point)\n",
    "print(lines)"
   ]
  },
  {
   "cell_type": "markdown",
   "id": "4d5e1a04",
   "metadata": {},
   "source": [
    "## Ratios as a function of metallicity\n",
    "\n",
    "To show the dependence on stellar metallicity we can loop over the metallicity grid:"
   ]
  },
  {
   "cell_type": "code",
   "execution_count": null,
   "id": "e3fce26d",
   "metadata": {},
   "outputs": [],
   "source": [
    "ratio_id = \"R23\"\n",
    "ia = 0  # 1 Myr old for test grid\n",
    "ratios = []\n",
    "for iZ, Z in enumerate(grid.metallicity):\n",
    "    grid_point = (ia, iZ)\n",
    "    lines = grid.get_lines(grid_point)\n",
    "    ratios.append(lines.get_ratio(ratio_id))\n",
    "\n",
    "Zsun = grid.metallicity / 0.0124\n",
    "plt.plot(Zsun, ratios)\n",
    "plt.xlim([0.01, 1])\n",
    "plt.ylim([1, 20])\n",
    "plt.xscale(\"log\")\n",
    "plt.yscale(\"log\")\n",
    "plt.xlabel(r\"$Z/Z_{\\odot}$\")\n",
    "plt.ylabel(rf\"{ratio_id}\")\n",
    "plt.show()"
   ]
  },
  {
   "cell_type": "markdown",
   "id": "cc407934",
   "metadata": {},
   "source": [
    "## Line Diagrams as a function of metallicity\n",
    "\n",
    "We can also generate diagrams using pairs of line ratios, such as the famous Baldwin, Phillips & Terlevich (BPT) diagram.\n",
    "\n",
    "``line_ratios`` also contains some classification regions (e.g. [Kewley+13](https://ui.adsabs.harvard.edu/abs/2013ApJ...774L..10K/abstract) and [Kauffmann+03](https://ui.adsabs.harvard.edu/abs/2003MNRAS.346.1055K/abstract)) that we can plot:"
   ]
  },
  {
   "cell_type": "code",
   "execution_count": null,
   "id": "5a4589d7",
   "metadata": {},
   "outputs": [],
   "source": [
    "from synthesizer.emissions import line_ratios\n",
    "\n",
    "diagram_id = \"BPT-NII\"\n",
    "ia = 0  # 1 Myr old for test grid\n",
    "x = []\n",
    "y = []\n",
    "for iZ, Z in enumerate(grid.metallicity):\n",
    "    grid_point = (ia, iZ)\n",
    "    lines = grid.get_lines(grid_point)\n",
    "    x_, y_ = lines.get_diagram(diagram_id)\n",
    "    x.append(x_)\n",
    "    y.append(y_)\n",
    "\n",
    "\n",
    "# Plot the Kewley SF/AGN dividing line\n",
    "fig, ax = plt.subplots()\n",
    "ax.plot(x, y)\n",
    "logNII_Ha = np.arange(-2.0, 1.0, 0.01)\n",
    "logOIII_Hb = line_ratios.plot_bpt_kewley01(\n",
    "    logNII_Ha, fig=fig, ax=ax, show=True, c=\"k\", lw=\"2\", alpha=0.3\n",
    ")"
   ]
  }
 ],
 "metadata": {},
 "nbformat": 4,
 "nbformat_minor": 5
}
