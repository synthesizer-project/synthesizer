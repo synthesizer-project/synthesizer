{
 "cells": [
  {
   "attachments": {},
   "cell_type": "markdown",
   "id": "659dcb3a-891b-4271-9073-d02efbeb14d5",
   "metadata": {},
   "source": [
    "# The ``Grid`` Object\n",
    "\n",
    "Here we show how to instantiate a ``Grid`` object and use it to explore a grid file."
   ]
  },
  {
   "cell_type": "code",
   "execution_count": null,
   "id": "79c4459f-4b18-43dd-922f-f20ad58bbfd6",
   "metadata": {
    "nbsphinx": "hidden"
   },
   "outputs": [],
   "source": [
    "import matplotlib.pyplot as plt\n",
    "import numpy as np\n",
    "from unyt import angstrom"
   ]
  },
  {
   "cell_type": "markdown",
   "id": "0d593e25-4783-4c38-b346-4c30d07d7482",
   "metadata": {},
   "source": [
    "The ``Grid`` object needs a file to load, these are HDF5 files that are available through the ``synthesizer-download`` command line tool (for more details see [the introduction to grids](grids.rst). By default, once downloaded these files are stored in the ``GRID_DIR`` directory. The default location of this directory is platform dependent, but the location can be found by import it and printing it."
   ]
  },
  {
   "cell_type": "code",
   "execution_count": null,
   "id": "50c9e74d",
   "metadata": {},
   "outputs": [],
   "source": [
    "from synthesizer import GRID_DIR\n",
    "\n",
    "print(GRID_DIR)"
   ]
  },
  {
   "cell_type": "markdown",
   "id": "c977bb21",
   "metadata": {},
   "source": [
    "This directory can be overriden by setting the ``SYNTHESIZER_GRID_DIR`` environment variable.\n",
    "\n",
    "Assuming the grid file is in the default location, all we need to do is pass the name of the grid we want to load to the ``Grid`` constructor. Note that the name of the grid can include the extension or not. If the extension is not included, it is assumed to be ``\"hdf5\"``. \n",
    "\n",
    "Here we will load the test grid (a simplified BPASS 2.2.1 grid)."
   ]
  },
  {
   "cell_type": "code",
   "execution_count": null,
   "id": "61cf2105",
   "metadata": {},
   "outputs": [],
   "source": [
    "from synthesizer import Grid\n",
    "\n",
    "grid = Grid(\"test_grid.hdf5\")"
   ]
  },
  {
   "cell_type": "markdown",
   "id": "5bc9b466",
   "metadata": {},
   "source": [
    "If we are loading a grid from a different location we can just pass that path to the ``grid_dir`` argument."
   ]
  },
  {
   "cell_type": "code",
   "execution_count": null,
   "id": "ab9f8f9a",
   "metadata": {
    "nbsphinx": "hidden"
   },
   "outputs": [],
   "source": [
    "import os\n",
    "from shutil import copyfile\n",
    "\n",
    "# Copy the grid file to the stated directory to\n",
    "# demonstrate the grid_dir argument\n",
    "copyfile(\n",
    "    os.path.join(GRID_DIR, \"test_grid.hdf5\"),\n",
    "    os.path.join(\"../../../tests/test_grid\", \"test_grid.hdf5\"),\n",
    ")"
   ]
  },
  {
   "cell_type": "code",
   "execution_count": null,
   "id": "8a9b1038-a78b-4c5d-8d04-c6f0cebda0a9",
   "metadata": {},
   "outputs": [],
   "source": [
    "grid = Grid(\"test_grid.hdf5\", grid_dir=\"../../../tests/test_grid\")"
   ]
  },
  {
   "cell_type": "markdown",
   "id": "b392db95",
   "metadata": {},
   "source": [
    "## Printing a summary of the `Grid`\n",
    "\n",
    "We can have a look at what the loaded grid contains by simply printing the grid. "
   ]
  },
  {
   "cell_type": "code",
   "execution_count": null,
   "id": "4eb588f7",
   "metadata": {},
   "outputs": [],
   "source": [
    "print(grid)"
   ]
  },
  {
   "cell_type": "markdown",
   "id": "444cb6c0",
   "metadata": {},
   "source": [
    "In this instance, its a stellar grid with the `incident` spectrum defined by the `axes_values`, `ages` and `metallicities`. The grid also contains some useful quantites like the photon rate (`log10_specific_ionising_luminosity`) available for fully ionising hydrogen and helium. \n",
    "\n",
    "Since this grid is a cloudy processed grid, there are additional spectra or line data that are available to extract or manipulate. These include (but not limited to)\n",
    "- `spectra`\n",
    "    - `nebular`: is the nebular continuum (including line emission) predicted by the photoionisation model\n",
    "    - `linecont`: this is the line contribution to the spectrum\n",
    "    - `transmitted`: this is the incident spectra that is transmitted through the gas in the photoionisation modelling; it has zero flux at shorter wavelength of the lyman-limit\n",
    "    - `wavelength`: the wavelength covered\n",
    "- `lines`\n",
    "    - `id`: line id, this is the same as used in cloudy (see [Linelist generation](https://github.com/synthesizer-project/grid-generation/tree/main/src/synthesizer_grids/cloudy/create_linelist))\n",
    "    - `luminosity`: the luminosity of the line\n",
    "    - `nebular_continuum`: the underlying nebular continuum at the line\n",
    "    - `transmitted`: this is the transmitted luminosity at the line\n",
    "    - `wavelength`:  the wavelength of the line\n",
    "\n",
    "A similar structure is also followed for AGN grids, where the `axes` could either be described by `mass` (black hole mass), `acretion_rate_eddington` (the accretion rate normalised to the eddington limit for the mass), `cosine_inclination` (cosine value describing the inclination of the AGN), or the `temperature` (blackbody temperature of the big bump component), `alpha-ox` (X-ray to UV ratio) , `alpha-uv` (low-energy slope of the big bump component), `alpha-x` (slope of the X-ray component)."
   ]
  },
  {
   "cell_type": "markdown",
   "id": "4e761cc1",
   "metadata": {},
   "source": [
    "## Limiting the ``Grid``\n",
    "\n",
    "A `Grid` can also take various arguments to limit the size of the grid, e.g. by isolating the `Grid` to a wavelength region of interest. This is particularly useful when making a large number of spectra from a high resolution `Grid`, where the memory footprint can become large.\n",
    "\n",
    "### Passing a wavelength array\n",
    "\n",
    "If you only care about a grid of specific wavelength values, you can pass this array and the `Grid` will automatically be interpolated onto the new wavelength array using [SpectRes](https://github.com/ACCarnall/SpectRes)."
   ]
  },
  {
   "cell_type": "code",
   "execution_count": null,
   "id": "d9006245",
   "metadata": {},
   "outputs": [],
   "source": [
    "# Define a new set of wavelengths\n",
    "new_lams = np.logspace(2, 5, 1000) * angstrom\n",
    "\n",
    "# Create a new grid\n",
    "grid = Grid(\"test_grid\", new_lam=new_lams)\n",
    "print(grid.shape)"
   ]
  },
  {
   "cell_type": "markdown",
   "id": "67d20f67",
   "metadata": {},
   "source": [
    "### Passing wavelength limits\n",
    "\n",
    "If you don't want to modify the underlying grid resolution, but only care about a specific wavelength range, you can pass limits to truncate the grid at."
   ]
  },
  {
   "cell_type": "code",
   "execution_count": null,
   "id": "30039ef3",
   "metadata": {},
   "outputs": [],
   "source": [
    "# Create a new grid\n",
    "grid = Grid(\"test_grid\", lam_lims=(10**3 * angstrom, 10**4 * angstrom))\n",
    "print(grid.shape)"
   ]
  },
  {
   "cell_type": "markdown",
   "id": "ae701e97-14bb-4abc-95ad-782751c5259f",
   "metadata": {},
   "source": [
    "## Plot a single grid point\n",
    "\n",
    "We can plot the spectra at the location of a single point in our grid. First, we choose some age and metallicity."
   ]
  },
  {
   "cell_type": "code",
   "execution_count": null,
   "id": "decbb271-c6e2-4e72-b992-b6e5bbb7d039",
   "metadata": {},
   "outputs": [],
   "source": [
    "# Return to the unmodified grid\n",
    "grid = Grid(\"test_grid\")\n",
    "\n",
    "log10age = 6.0  # log10(age/yr)\n",
    "Z = 0.01  # metallicity"
   ]
  },
  {
   "cell_type": "markdown",
   "id": "0e51fb94-f892-4d56-9424-5432709fa937",
   "metadata": {},
   "source": [
    "We then get the index location of that grid point for this age and metallicity"
   ]
  },
  {
   "cell_type": "code",
   "execution_count": null,
   "id": "b95a6646-917b-431e-b2d1-72d08dee0f9d",
   "metadata": {},
   "outputs": [],
   "source": [
    "grid_point = grid.get_grid_point(log10ages=log10age, metallicity=Z)"
   ]
  },
  {
   "cell_type": "markdown",
   "id": "8704a652-2145-4d24-af2a-b81e23853daf",
   "metadata": {},
   "source": [
    "We can then loop over the available spectra (contained in `grid.spec_names`) and plot"
   ]
  },
  {
   "cell_type": "code",
   "execution_count": null,
   "id": "423dea3a-1a67-4f21-b26c-99008ebb8860",
   "metadata": {},
   "outputs": [],
   "source": [
    "for spectra_type in grid.available_spectra:\n",
    "    # Get `Sed` object\n",
    "    sed = grid.get_sed_at_grid_point(grid_point, spectra_type=spectra_type)\n",
    "\n",
    "    # Mask zero valued elements\n",
    "    mask = sed.lnu > 0\n",
    "    plt.plot(\n",
    "        np.log10(sed.lam[mask]),\n",
    "        np.log10(sed.lnu[mask]),\n",
    "        lw=1,\n",
    "        alpha=0.8,\n",
    "        label=spectra_type,\n",
    "    )\n",
    "\n",
    "plt.legend(fontsize=8, labelspacing=0.0)\n",
    "plt.xlim(2.3, 8)\n",
    "plt.ylim(19, 25)\n",
    "plt.xlabel(r\"$\\rm log_{10}(\\lambda/\\AA)$\")\n",
    "plt.ylabel(r\"$\\rm log_{10}(L_{\\nu}/erg\\ s^{-1}\\ Hz^{-1} M_{\\odot}^{-1})$\")"
   ]
  },
  {
   "cell_type": "markdown",
   "id": "7a1625be-deef-4730-bf48-a30422507224",
   "metadata": {},
   "source": [
    "## Plot ionising luminosities\n",
    "\n",
    "We can also plot properties over the entire age and metallicity grid, such as the ionising luminosity. \n",
    "\n",
    "In the examples below we plot ionising luminosities for HI and HeII"
   ]
  },
  {
   "cell_type": "code",
   "execution_count": null,
   "id": "eb8088ad-e7ef-4600-941d-0c8b01c59a5d",
   "metadata": {},
   "outputs": [],
   "source": [
    "fig, ax = grid.plot_specific_ionising_lum(ion=\"HI\")"
   ]
  },
  {
   "cell_type": "code",
   "execution_count": null,
   "id": "3ac8ca54-9707-4125-9715-d878a0ed5e27",
   "metadata": {},
   "outputs": [],
   "source": [
    "fig, ax = grid.plot_specific_ionising_lum(ion=\"HeII\")"
   ]
  }
 ],
 "metadata": {},
 "nbformat": 4,
 "nbformat_minor": 5
}
