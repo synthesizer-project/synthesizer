{
 "cells": [
  {
   "cell_type": "markdown",
   "id": "cbb9bf6a-125a-4d3e-b96b-968569929476",
   "metadata": {},
   "source": [
    "## Lines from `Grid` objects\n",
    "\n",
    "Grids that have been post-processed through a photoionisation code (e.g. `Cloudy`) contain information on emission lines. We can see what lines are available on a grid by printing the ``available_lines`` attribute."
   ]
  },
  {
   "cell_type": "code",
   "execution_count": null,
   "id": "c6d1936b-d77d-4d8d-bf3f-d91eb0f5d82e",
   "metadata": {},
   "outputs": [],
   "source": [
    "import numpy as np\n",
    "\n",
    "from synthesizer import Grid\n",
    "\n",
    "grid = Grid(\"test_grid.hdf5\")\n",
    "\n",
    "print(grid.available_lines)"
   ]
  },
  {
   "cell_type": "markdown",
   "id": "859a2661-eeb7-4715-9228-47b2eca337ea",
   "metadata": {},
   "source": [
    "This is also reported if we give use the `print` function on a grid directly:"
   ]
  },
  {
   "cell_type": "code",
   "execution_count": null,
   "id": "86704987-c756-4a4e-89b2-13a99bb31c8e",
   "metadata": {},
   "outputs": [],
   "source": [
    "print(grid)"
   ]
  },
  {
   "cell_type": "markdown",
   "id": "e0b20d6d-17c3-4fa3-a83d-71932b0e3a64",
   "metadata": {},
   "source": [
    "### Extracting lines from a Grid\n",
    "\n",
    "To demonstrate, we choose some age and metallicity and extract the spectra at that grid point. We can then get information on a single line, in this case H-$\\beta$."
   ]
  },
  {
   "cell_type": "code",
   "execution_count": null,
   "id": "4141e95e-1048-4301-b3d0-fab8fb43d53c",
   "metadata": {},
   "outputs": [],
   "source": [
    "log10age = 6.0  # log10(age/yr)\n",
    "metallicity = 0.01\n",
    "\n",
    "# find nearest grid point\n",
    "grid_point = grid.get_grid_point(log10ages=log10age, metallicity=metallicity)\n",
    "print(grid_point)\n",
    "line = grid.get_lines(grid_point, \"H 1 6562.80A\")\n",
    "print(line)"
   ]
  },
  {
   "cell_type": "markdown",
   "id": "f6bd6585-a5cc-4edb-bc54-9d3fc6427c47",
   "metadata": {},
   "source": [
    "We can do this for a combination of lines (e.g. a doublet) if we just pass a comma-separated list of lines ids to the ``line_id`` argument."
   ]
  },
  {
   "cell_type": "code",
   "execution_count": null,
   "id": "ebc41cca-1d46-45c3-aa3d-e613d288089d",
   "metadata": {},
   "outputs": [],
   "source": [
    "from synthesizer.emissions.utils import (\n",
    "    Hb,\n",
    "    O3b,\n",
    "    O3r,\n",
    ")\n",
    "\n",
    "line = grid.get_lines(grid_point, \", \".join([Hb, O3r, O3b]))\n",
    "print(line)"
   ]
  },
  {
   "cell_type": "markdown",
   "id": "c059133c-586a-4966-9410-cee973026a52",
   "metadata": {},
   "source": [
    "We can also get a collection of individual lines by passing a list of line ids to the ``line_id`` argument. "
   ]
  },
  {
   "cell_type": "code",
   "execution_count": null,
   "id": "77df5216-3534-42dc-9281-cfe70d37095b",
   "metadata": {},
   "outputs": [],
   "source": [
    "line = grid.get_lines(grid_point, [Hb, O3r, O3b])\n",
    "print(line)"
   ]
  },
  {
   "cell_type": "markdown",
   "id": "bb115995-9e07-44f1-8e75-897c1d56344b",
   "metadata": {},
   "source": [
    "If we don't pass a list then it defaults to returning all available lines.\n"
   ]
  },
  {
   "cell_type": "code",
   "execution_count": null,
   "id": "b8d1106c-769d-4c10-a4a5-0167c4dac0e8",
   "metadata": {},
   "outputs": [],
   "source": [
    "lines = grid.get_lines(grid_point)\n",
    "print(lines)"
   ]
  },
  {
   "cell_type": "markdown",
   "id": "db522b89-2871-4141-860d-8e8ac757b340",
   "metadata": {},
   "source": [
    "### Ratios as a function of metallicity\n",
    "\n",
    "To show the dependence on stellar metallicity we can loop over the metallicity grid:"
   ]
  },
  {
   "cell_type": "code",
   "execution_count": null,
   "id": "dc5a869d-13b4-444d-8310-26c1cfabe520",
   "metadata": {},
   "outputs": [],
   "source": [
    "import matplotlib.pyplot as plt\n",
    "\n",
    "ratio_id = \"R23\"\n",
    "ia = 0  # 1 Myr old for test grid\n",
    "ratios = []\n",
    "for iZ, Z in enumerate(grid.metallicity):\n",
    "    grid_point = (ia, iZ)\n",
    "    lines = grid.get_lines(grid_point)\n",
    "    ratios.append(lines.get_ratio(ratio_id))\n",
    "\n",
    "Zsun = grid.metallicity / 0.0124\n",
    "plt.plot(Zsun, ratios)\n",
    "plt.xlim([0.01, 1])\n",
    "plt.ylim([1, 20])\n",
    "plt.xscale(\"log\")\n",
    "plt.yscale(\"log\")\n",
    "plt.xlabel(r\"$Z/Z_{\\odot}$\")\n",
    "plt.ylabel(rf\"{ratio_id}\")\n",
    "plt.show()"
   ]
  },
  {
   "cell_type": "markdown",
   "id": "f653550e-f787-453b-90e7-e61b0093d5a4",
   "metadata": {},
   "source": [
    "### Line Diagrams as a function of metallicity\n",
    "\n",
    "We can also generate diagrams using pairs of line ratios, such as the famous Baldwin, Phillips & Terlevich (BPT) diagram.\n",
    "\n",
    "``line_ratios`` also contains some classification regions (e.g. [Kewley+13](https://ui.adsabs.harvard.edu/abs/2013ApJ...774L..10K/abstract) and [Kauffmann+03](https://ui.adsabs.harvard.edu/abs/2003MNRAS.346.1055K/abstract)) that we can plot:"
   ]
  },
  {
   "cell_type": "code",
   "execution_count": null,
   "id": "e5780265-9b35-4741-8f26-8b86f9792c2a",
   "metadata": {},
   "outputs": [],
   "source": [
    "from synthesizer.emissions import line_ratios\n",
    "\n",
    "diagram_id = \"BPT-NII\"\n",
    "ia = 0  # 1 Myr old for test grid\n",
    "x = []\n",
    "y = []\n",
    "for iZ, Z in enumerate(grid.metallicity):\n",
    "    grid_point = (ia, iZ)\n",
    "    lines = grid.get_lines(grid_point)\n",
    "    x_, y_ = lines.get_diagram(diagram_id)\n",
    "    x.append(x_)\n",
    "    y.append(y_)\n",
    "\n",
    "\n",
    "# Plot the Kewley SF/AGN dividing line\n",
    "fig, ax = plt.subplots()\n",
    "ax.plot(x, y)\n",
    "logNII_Ha = np.arange(-2.0, 1.0, 0.01)\n",
    "logOIII_Hb = line_ratios.plot_bpt_kewley01(\n",
    "    logNII_Ha, fig=fig, ax=ax, show=True, c=\"k\", lw=\"2\", alpha=0.3\n",
    ")"
   ]
  }
 ],
 "metadata": {},
 "nbformat": 4,
 "nbformat_minor": 5
}
