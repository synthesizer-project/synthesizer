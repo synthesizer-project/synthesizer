{
 "cells": [
  {
   "cell_type": "markdown",
   "id": "f8e3cb5a-7087-4fdd-a79b-26a174d0cb7c",
   "metadata": {},
   "source": [
    "# Make Image\n",
    "\n",
    "Example for generating a rest-frame, physical scale image. This example will:\n",
    "- build a parametric galaxy (see make_sfzh and make_sed)\n",
    "- define its morphology\n",
    "- calculate rest-frame luminosities for the UVJ bands\n",
    "- make an image of the galaxy, including an RGB image.\n",
    "\n",
    "See the full [imaging examples](../imaging/imaging.rst) for further details."
   ]
  },
  {
   "cell_type": "code",
   "execution_count": 1,
   "id": "062305e7-2324-493b-9aad-9f9df9bafec8",
   "metadata": {
    "tags": []
   },
   "outputs": [],
   "source": [
    "import numpy as np\n",
    "\n",
    "import matplotlib.pyplot as plt\n",
    "from unyt import kpc, yr, Myr, mas\n",
    "\n",
    "from synthesizer.filters import UVJ\n",
    "from synthesizer.parametric.galaxy import Galaxy\n",
    "from synthesizer.parametric.sfzh import SFH, ZH, generate_sfzh\n",
    "from synthesizer.parametric.morphology import Sersic2D\n",
    "from synthesizer.grid import Grid"
   ]
  },
  {
   "cell_type": "markdown",
   "id": "60df071c-cea4-46d2-b7a3-6a310c340088",
   "metadata": {},
   "source": [
    "Define morphology. `r_eff` could be defined in terms of an angle instead."
   ]
  },
  {
   "cell_type": "code",
   "execution_count": 2,
   "id": "bc73116e-aa6e-4d14-854b-57e2deb9b8c7",
   "metadata": {
    "tags": []
   },
   "outputs": [],
   "source": [
    "morph = Sersic2D({'r_eff': 1 * kpc, 'n': 1.})"
   ]
  },
  {
   "cell_type": "markdown",
   "id": "a56a82d3-9555-4e50-8276-2bb2fa95ac8f",
   "metadata": {},
   "source": [
    "Define and initialise grid"
   ]
  },
  {
   "cell_type": "code",
   "execution_count": 3,
   "id": "da1cd104-dfaf-44f0-8f9d-8316e4acd01b",
   "metadata": {
    "tags": []
   },
   "outputs": [],
   "source": [
    "grid_dir = '../../../tests/test_grid'\n",
    "grid_name = 'test_grid'\n",
    "grid = Grid(grid_name, grid_dir=grid_dir)"
   ]
  },
  {
   "cell_type": "markdown",
   "id": "aa4eabd9-dc4e-4b8a-aeea-4184928c6798",
   "metadata": {},
   "source": [
    "Define the parameters of the star formation and metal enrichment histories"
   ]
  },
  {
   "cell_type": "code",
   "execution_count": 4,
   "id": "e6ab1a0a-3017-47b1-b005-6412385e1fc0",
   "metadata": {
    "tags": []
   },
   "outputs": [],
   "source": [
    "sfh_p = {'duration': 10 * Myr}\n",
    "Z_p = {'log10Z': -2.0}  # can also use linear metallicity e.g. {'Z': 0.01}\n",
    "stellar_mass = 1E8"
   ]
  },
  {
   "cell_type": "markdown",
   "id": "5fcaffe5-49d1-4b93-b926-0cceb9930761",
   "metadata": {},
   "source": [
    "Define the functional form of the star formation and metal enrichment histories"
   ]
  },
  {
   "cell_type": "code",
   "execution_count": 5,
   "id": "7c7d9272-1a42-4bab-981e-9f237da55ec0",
   "metadata": {
    "tags": []
   },
   "outputs": [],
   "source": [
    "sfh = SFH.Constant(sfh_p)  # constant star formation\n",
    "Zh = ZH.deltaConstant(Z_p)  # constant metallicity"
   ]
  },
  {
   "cell_type": "markdown",
   "id": "836bce52-f1b3-4ea4-b57e-74e48e6a5342",
   "metadata": {},
   "source": [
    "Created a BinnedSFZH object containing the 2D star formation and metal enrichment history"
   ]
  },
  {
   "cell_type": "code",
   "execution_count": 6,
   "id": "167394c8-0898-4d47-82ff-f41e8b3d4a9e",
   "metadata": {
    "tags": []
   },
   "outputs": [],
   "source": [
    "sfzh = generate_sfzh(grid.log10ages, grid.metallicities, sfh, Zh, stellar_mass=stellar_mass)"
   ]
  },
  {
   "cell_type": "markdown",
   "id": "f30a1976-66e1-4b79-b2d4-160c8fb0c4fe",
   "metadata": {},
   "source": [
    "Initialise Galaxy"
   ]
  },
  {
   "cell_type": "code",
   "execution_count": 7,
   "id": "c7028125-b4b1-4cf9-99de-2d8c27ed10ec",
   "metadata": {
    "tags": []
   },
   "outputs": [],
   "source": [
    "galaxy = Galaxy(sfzh, morph=morph)"
   ]
  },
  {
   "cell_type": "markdown",
   "id": "dc388643-7280-49f4-8ef2-b26201c51b95",
   "metadata": {},
   "source": [
    "Generate stellar spectra"
   ]
  },
  {
   "cell_type": "code",
   "execution_count": 8,
   "id": "05786cb3-84ce-4017-a258-1c01ea4699be",
   "metadata": {
    "tags": []
   },
   "outputs": [
    {
     "data": {
      "text/plain": [
       "<synthesizer.sed.Sed at 0x7f6685daa760>"
      ]
     },
     "execution_count": 8,
     "metadata": {},
     "output_type": "execute_result"
    }
   ],
   "source": [
    "galaxy.get_spectra_stellar(grid)"
   ]
  },
  {
   "cell_type": "markdown",
   "id": "2cb75a8d-aa5c-4d2b-abd1-4cb8a601d1d1",
   "metadata": {},
   "source": [
    "Define filter set"
   ]
  },
  {
   "cell_type": "code",
   "execution_count": 9,
   "id": "8d32b24c-c94d-47fd-9da7-947582abe380",
   "metadata": {
    "tags": []
   },
   "outputs": [],
   "source": [
    "filter_collection = UVJ(new_lam=grid.lam)"
   ]
  },
  {
   "cell_type": "markdown",
   "id": "8d716edd-943a-4677-a72b-54fe94040dc6",
   "metadata": {},
   "source": [
    "Generate broadband luminosities"
   ]
  },
  {
   "cell_type": "code",
   "execution_count": 10,
   "id": "a0f0198a-8055-4f49-908b-38f9150e8bd3",
   "metadata": {
    "tags": []
   },
   "outputs": [],
   "source": [
    "sed = galaxy.spectra['stellar'].get_broadband_luminosities(filter_collection)"
   ]
  },
  {
   "cell_type": "markdown",
   "id": "c1358c7d-0deb-48f6-a86e-4173c494f48e",
   "metadata": {},
   "source": [
    "Define geometry of images"
   ]
  },
  {
   "cell_type": "code",
   "execution_count": 11,
   "id": "4877b093-88c1-4620-9766-e8f54278fa87",
   "metadata": {
    "tags": []
   },
   "outputs": [],
   "source": [
    "resolution = 0.1 * kpc  # resolution in kpc\n",
    "npix = 25  # width of image in pixels"
   ]
  },
  {
   "cell_type": "markdown",
   "id": "b8d9cbe2-3f2a-4b73-803c-25ea47976b40",
   "metadata": {},
   "source": [
    "Generate images, returns an Image object which is also associated with the Galaxy"
   ]
  },
  {
   "cell_type": "code",
   "execution_count": 12,
   "id": "53f9cd69-0921-4d3c-bee6-95355ea2492f",
   "metadata": {
    "tags": []
   },
   "outputs": [],
   "source": [
    "from synthesizer.filters import UVJ\n",
    "filter_collection = UVJ()\n",
    "\n",
    "images = galaxy.make_images('stellar', filtercollection=filter_collection,\n",
    "                            resolution=resolution, npix=npix)"
   ]
  },
  {
   "cell_type": "code",
   "execution_count": 13,
   "id": "c3f0e8a7-880e-4c0d-b82a-764044802ec4",
   "metadata": {
    "tags": []
   },
   "outputs": [
    {
     "name": "stdout",
     "output_type": "stream",
     "text": [
      "<synthesizer.imaging.images.ParametricImage object at 0x7f6685d9ed60>\n",
      "``^^^^\"\"\"\",,::::;;;;;;;;;;;;;;;;;;::::,,\"\"\"\"^^^^``\n",
      "^^^^\"\",,,,::;;;;IIIIllllllllllIIII;;;;::,,,,\"\"^^^^\n",
      "^^\"\",,::::;;IIllll!!iiiiiiiiii!!llllII;;::::,,\"\"^^\n",
      "\"\",,::::;;IIll!!ii>><<<<<<<<<<>>ii!!llII;;::::,,\"\"\n",
      "\"\",,::;;ll!!ii>><<~~++______++~~<<>>ii!!ll;;::,,\"\"\n",
      ",,::;;II!!ii<<~~__--??]]]]]]??--__~~<<ii!!II;;::,,\n",
      "::;;IIllii<<++--??[[{{111111{{[[??--++<<iillII;;::\n",
      "::;;ll!!>>~~--]]}}))||tttttt||))}}]]--~~>>!!ll;;::\n",
      ";;IIllii<<__??}}))ttrrnnuunnrrtt))}}??__<<iillII;;\n",
      ";;II!!>>~~--[[))ttxxccYYUUYYccxxtt))[[--~~>>!!II;;\n",
      ";;llii<<++??{{||rrccJJOOZZOOJJccrr||{{??++<<iill;;\n",
      ";;llii<<__]]11ttnnYYOOddaaddOOYYnntt11]]__<<iill;;\n",
      ";;llii<<__]]11ttuuUUZZaa$$aaZZUUuutt11]]__<<iill;;\n",
      ";;llii<<__]]11ttnnYYOOddaaddOOYYnntt11]]__<<iill;;\n",
      ";;llii<<++??{{||rrccJJOOZZOOJJccrr||{{??++<<iill;;\n",
      ";;II!!>>~~--[[))ttxxccYYUUYYccxxtt))[[--~~>>!!II;;\n",
      ";;IIllii<<__??}}))ttrrnnuunnrrtt))}}??__<<iillII;;\n",
      "::;;ll!!>>~~--]]}}))||tttttt||))}}]]--~~>>!!ll;;::\n",
      "::;;IIllii<<++--??[[{{111111{{[[??--++<<iillII;;::\n",
      ",,::;;II!!ii<<~~__--??]]]]]]??--__~~<<ii!!II;;::,,\n",
      "\"\",,::;;ll!!ii>><<~~++______++~~<<>>ii!!ll;;::,,\"\"\n",
      "\"\",,::::;;IIll!!ii>><<<<<<<<<<>>ii!!llII;;::::,,\"\"\n",
      "^^\"\",,::::;;IIllll!!iiiiiiiiii!!llllII;;::::,,\"\"^^\n",
      "^^^^\"\",,,,::;;;;IIIIllllllllllIIII;;;;::,,,,\"\"^^^^\n",
      "``^^^^\"\"\"\",,::::;;;;;;;;;;;;;;;;;;::::,,\"\"\"\"^^^^``\n",
      "\n"
     ]
    },
    {
     "data": {
      "image/png": "[encoded data removed]",
      "text/plain": [
       "<Figure size 640x480 with 1 Axes>"
      ]
     },
     "metadata": {},
     "output_type": "display_data"
    },
    {
     "data": {
      "image/png": "[encoded data removed]",
      "text/plain": [
       "<Figure size 640x480 with 1 Axes>"
      ]
     },
     "metadata": {},
     "output_type": "display_data"
    }
   ],
   "source": [
    "print(images)\n",
    "\n",
    "images.make_ascii()\n",
    "images.plot()  #  plot base image\n",
    "images.plot('U')  #  plot U-band image\n",
    "# images.plot_rgb(['J', 'V', 'U'])  #  plot RGB image"
   ]
  }
 ],
 "metadata": {
  "kernelspec": {
   "display_name": "Python 3 (ipykernel)",
   "language": "python",
   "name": "python3"
  },
  "language_info": {
   "codemirror_mode": {
    "name": "ipython",
    "version": 3
   },
   "file_extension": ".py",
   "mimetype": "text/x-python",
   "name": "python",
   "nbconvert_exporter": "python",
   "pygments_lexer": "ipython3",
   "version": "3.9.5"
  }
 },
 "nbformat": 4,
 "nbformat_minor": 5
}
