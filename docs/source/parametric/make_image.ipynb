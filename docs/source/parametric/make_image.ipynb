{
 "cells": [
  {
   "cell_type": "markdown",
   "id": "f8e3cb5a-7087-4fdd-a79b-26a174d0cb7c",
   "metadata": {},
   "source": [
    "# Make Image\n",
    "\n",
    "Example for generating a rest-frame, physical scale image. This example will:\n",
    "- build a parametric galaxy (see make_sfzh and make_sed)\n",
    "- define its morphology\n",
    "- calculate rest-frame luminosities for the UVJ bands\n",
    "- make an image of the galaxy, including an RGB image.\n",
    "\n",
    "See the full [imaging examples](../imaging/imaging.rst) for further details."
   ]
  },
  {
   "cell_type": "code",
   "execution_count": 3,
   "id": "062305e7-2324-493b-9aad-9f9df9bafec8",
   "metadata": {
    "tags": []
   },
   "outputs": [],
   "source": [
    "import numpy as np\n",
    "\n",
    "import matplotlib.pyplot as plt\n",
    "from unyt import kpc, yr, Myr, mas\n",
    "\n",
    "from synthesizer.filters import UVJ\n",
    "from synthesizer.galaxy import ParametricGalaxy as Galaxy\n",
    "from synthesizer.parametric.sfzh import SFH, ZH, generate_sfzh\n",
    "from synthesizer.parametric.morphology import Sersic2D\n",
    "from synthesizer.grid import Grid"
   ]
  },
  {
   "cell_type": "markdown",
   "id": "60df071c-cea4-46d2-b7a3-6a310c340088",
   "metadata": {},
   "source": [
    "Define morphology. `r_eff` could be defined in terms of an angle instead."
   ]
  },
  {
   "cell_type": "code",
   "execution_count": 4,
   "id": "bc73116e-aa6e-4d14-854b-57e2deb9b8c7",
   "metadata": {
    "tags": []
   },
   "outputs": [],
   "source": [
    "morph = Sersic2D({'r_eff': 1 * kpc, 'n': 1.})"
   ]
  },
  {
   "cell_type": "markdown",
   "id": "a56a82d3-9555-4e50-8276-2bb2fa95ac8f",
   "metadata": {},
   "source": [
    "Define and initialise grid"
   ]
  },
  {
   "cell_type": "code",
   "execution_count": 5,
   "id": "da1cd104-dfaf-44f0-8f9d-8316e4acd01b",
   "metadata": {
    "tags": []
   },
   "outputs": [],
   "source": [
    "grid_dir = '../../../tests/test_grid'\n",
    "grid_name = 'test_grid'\n",
    "grid = Grid(grid_name, grid_dir=grid_dir)"
   ]
  },
  {
   "cell_type": "markdown",
   "id": "aa4eabd9-dc4e-4b8a-aeea-4184928c6798",
   "metadata": {},
   "source": [
    "Define the parameters of the star formation and metal enrichment histories"
   ]
  },
  {
   "cell_type": "code",
   "execution_count": 6,
   "id": "e6ab1a0a-3017-47b1-b005-6412385e1fc0",
   "metadata": {
    "tags": []
   },
   "outputs": [],
   "source": [
    "sfh_p = {'duration': 10 * Myr}\n",
    "Z_p = {'log10Z': -2.0}  # can also use linear metallicity e.g. {'Z': 0.01}\n",
    "stellar_mass = 1E8"
   ]
  },
  {
   "cell_type": "markdown",
   "id": "5fcaffe5-49d1-4b93-b926-0cceb9930761",
   "metadata": {},
   "source": [
    "Define the functional form of the star formation and metal enrichment histories"
   ]
  },
  {
   "cell_type": "code",
   "execution_count": 8,
   "id": "7c7d9272-1a42-4bab-981e-9f237da55ec0",
   "metadata": {
    "tags": []
   },
   "outputs": [],
   "source": [
    "sfh = SFH.Constant(sfh_p)  # constant star formation\n",
    "Zh = ZH.deltaConstant(Z_p)  # constant metallicity"
   ]
  },
  {
   "cell_type": "markdown",
   "id": "836bce52-f1b3-4ea4-b57e-74e48e6a5342",
   "metadata": {},
   "source": [
    "Created a BinnedSFZH object containing the 2D star formation and metal enrichment history"
   ]
  },
  {
   "cell_type": "code",
   "execution_count": 10,
   "id": "167394c8-0898-4d47-82ff-f41e8b3d4a9e",
   "metadata": {
    "tags": []
   },
   "outputs": [],
   "source": [
    "sfzh = generate_sfzh(grid.log10ages, grid.metallicities, sfh, Zh, stellar_mass=stellar_mass)"
   ]
  },
  {
   "cell_type": "markdown",
   "id": "f30a1976-66e1-4b79-b2d4-160c8fb0c4fe",
   "metadata": {},
   "source": [
    "Initialise Galaxy"
   ]
  },
  {
   "cell_type": "code",
   "execution_count": 11,
   "id": "c7028125-b4b1-4cf9-99de-2d8c27ed10ec",
   "metadata": {
    "tags": []
   },
   "outputs": [],
   "source": [
    "galaxy = Galaxy(sfzh, morph=morph)"
   ]
  },
  {
   "cell_type": "markdown",
   "id": "dc388643-7280-49f4-8ef2-b26201c51b95",
   "metadata": {},
   "source": [
    "Generate stellar spectra"
   ]
  },
  {
   "cell_type": "code",
   "execution_count": 12,
   "id": "05786cb3-84ce-4017-a258-1c01ea4699be",
   "metadata": {
    "tags": []
   },
   "outputs": [
    {
     "data": {
      "text/plain": [
       "<synthesizer.sed.Sed at 0x7f55245ce130>"
      ]
     },
     "execution_count": 12,
     "metadata": {},
     "output_type": "execute_result"
    }
   ],
   "source": [
    "galaxy.get_stellar_spectra(grid)"
   ]
  },
  {
   "cell_type": "markdown",
   "id": "2cb75a8d-aa5c-4d2b-abd1-4cb8a601d1d1",
   "metadata": {},
   "source": [
    "Define filter set"
   ]
  },
  {
   "cell_type": "code",
   "execution_count": 13,
   "id": "8d32b24c-c94d-47fd-9da7-947582abe380",
   "metadata": {
    "tags": []
   },
   "outputs": [],
   "source": [
    "filter_collection = UVJ(new_lam=grid.lam)"
   ]
  },
  {
   "cell_type": "markdown",
   "id": "8d716edd-943a-4677-a72b-54fe94040dc6",
   "metadata": {},
   "source": [
    "Generate broadband luminosities"
   ]
  },
  {
   "cell_type": "code",
   "execution_count": 15,
   "id": "a0f0198a-8055-4f49-908b-38f9150e8bd3",
   "metadata": {
    "tags": []
   },
   "outputs": [],
   "source": [
    "sed = galaxy.spectra['stellar'].get_broadband_luminosities(filter_collection)"
   ]
  },
  {
   "cell_type": "markdown",
   "id": "c1358c7d-0deb-48f6-a86e-4173c494f48e",
   "metadata": {},
   "source": [
    "Define geometry of images"
   ]
  },
  {
   "cell_type": "code",
   "execution_count": 17,
   "id": "4877b093-88c1-4620-9766-e8f54278fa87",
   "metadata": {
    "tags": []
   },
   "outputs": [],
   "source": [
    "resolution = 0.1 * kpc  # resolution in kpc\n",
    "npix = 25  # width of image in pixels"
   ]
  },
  {
   "cell_type": "markdown",
   "id": "b8d9cbe2-3f2a-4b73-803c-25ea47976b40",
   "metadata": {},
   "source": [
    "Generate images, returns an Image object which is also associated with the Galaxy"
   ]
  },
  {
   "cell_type": "code",
   "execution_count": 18,
   "id": "53f9cd69-0921-4d3c-bee6-95355ea2492f",
   "metadata": {
    "tags": []
   },
   "outputs": [
    {
     "ename": "TypeError",
     "evalue": "object of type 'NoneType' has no len()",
     "output_type": "error",
     "traceback": [
      "\u001b[0;31m---------------------------------------------------------------------------\u001b[0m",
      "\u001b[0;31mTypeError\u001b[0m                                 Traceback (most recent call last)",
      "Cell \u001b[0;32mIn[18], line 1\u001b[0m\n\u001b[0;32m----> 1\u001b[0m images \u001b[38;5;241m=\u001b[39m \u001b[43mgalaxy\u001b[49m\u001b[38;5;241;43m.\u001b[39;49m\u001b[43mmake_images\u001b[49m\u001b[43m(\u001b[49m\u001b[38;5;124;43m'\u001b[39;49m\u001b[38;5;124;43mstellar\u001b[39;49m\u001b[38;5;124;43m'\u001b[39;49m\u001b[43m,\u001b[49m\u001b[43m \u001b[49m\u001b[43mresolution\u001b[49m\u001b[43m,\u001b[49m\u001b[43m \u001b[49m\u001b[43mnpix\u001b[49m\u001b[38;5;241;43m=\u001b[39;49m\u001b[43mnpix\u001b[49m\u001b[43m)\u001b[49m\n",
      "File \u001b[0;32m~/code/synthesizer/synth_venv/lib/python3.9/site-packages/synthesizer-0.1.0-py3.9-linux-x86_64.egg/synthesizer/galaxy/parametric.py:497\u001b[0m, in \u001b[0;36mParametricGalaxy.make_images\u001b[0;34m(self, spectra_type, resolution, npix, fov, update, rest_frame)\u001b[0m\n\u001b[1;32m    495\u001b[0m \u001b[38;5;28;01mdef\u001b[39;00m \u001b[38;5;21mmake_images\u001b[39m(\u001b[38;5;28mself\u001b[39m, spectra_type, resolution, npix\u001b[38;5;241m=\u001b[39m\u001b[38;5;28;01mNone\u001b[39;00m, fov\u001b[38;5;241m=\u001b[39m\u001b[38;5;28;01mNone\u001b[39;00m, update\u001b[38;5;241m=\u001b[39m\u001b[38;5;28;01mTrue\u001b[39;00m, rest_frame\u001b[38;5;241m=\u001b[39m\u001b[38;5;28;01mTrue\u001b[39;00m):\n\u001b[0;32m--> 497\u001b[0m     images \u001b[38;5;241m=\u001b[39m \u001b[43mParametricImage\u001b[49m\u001b[43m(\u001b[49m\u001b[38;5;28;43mself\u001b[39;49m\u001b[38;5;241;43m.\u001b[39;49m\u001b[43mmorph\u001b[49m\u001b[43m,\u001b[49m\u001b[43m \u001b[49m\u001b[43mresolution\u001b[49m\u001b[43m,\u001b[49m\u001b[43m \u001b[49m\u001b[43mnpix\u001b[49m\u001b[38;5;241;43m=\u001b[39;49m\u001b[43mnpix\u001b[49m\u001b[43m,\u001b[49m\u001b[43m \u001b[49m\u001b[43mfov\u001b[49m\u001b[38;5;241;43m=\u001b[39;49m\u001b[43mfov\u001b[49m\u001b[43m,\u001b[49m\n\u001b[1;32m    498\u001b[0m \u001b[43m                             \u001b[49m\u001b[43msed\u001b[49m\u001b[38;5;241;43m=\u001b[39;49m\u001b[38;5;28;43mself\u001b[39;49m\u001b[38;5;241;43m.\u001b[39;49m\u001b[43mspectra\u001b[49m\u001b[43m[\u001b[49m\u001b[43mspectra_type\u001b[49m\u001b[43m]\u001b[49m\u001b[43m,\u001b[49m\u001b[43m \u001b[49m\u001b[43mrest_frame\u001b[49m\u001b[38;5;241;43m=\u001b[39;49m\u001b[43mrest_frame\u001b[49m\u001b[43m)\u001b[49m\n\u001b[1;32m    499\u001b[0m     images\u001b[38;5;241m.\u001b[39mcreate_images()\n\u001b[1;32m    501\u001b[0m     \u001b[38;5;28;01mif\u001b[39;00m update:\n",
      "File \u001b[0;32m~/code/synthesizer/synth_venv/lib/python3.9/site-packages/synthesizer-0.1.0-py3.9-linux-x86_64.egg/synthesizer/imaging/images.py:979\u001b[0m, in \u001b[0;36mParametricImage.__init__\u001b[0;34m(self, morphology, resolution, filters, sed, npix, fov, cosmo, redshift, rest_frame, psfs, depths, apertures, snrs, super_resolution_factor)\u001b[0m\n\u001b[1;32m    965\u001b[0m Image\u001b[38;5;241m.\u001b[39m\u001b[38;5;21m__init__\u001b[39m(\n\u001b[1;32m    966\u001b[0m     \u001b[38;5;28mself\u001b[39m,\n\u001b[1;32m    967\u001b[0m     resolution\u001b[38;5;241m=\u001b[39mresolution,\n\u001b[0;32m   (...)\u001b[0m\n\u001b[1;32m    975\u001b[0m     snrs\u001b[38;5;241m=\u001b[39msnrs,\n\u001b[1;32m    976\u001b[0m )\n\u001b[1;32m    978\u001b[0m \u001b[38;5;66;03m# If we have a list of filters make an IFU\u001b[39;00m\n\u001b[0;32m--> 979\u001b[0m \u001b[38;5;28;01mif\u001b[39;00m \u001b[38;5;28;43mlen\u001b[39;49m\u001b[43m(\u001b[49m\u001b[43mfilters\u001b[49m\u001b[43m)\u001b[49m \u001b[38;5;241m>\u001b[39m \u001b[38;5;241m0\u001b[39m:\n\u001b[1;32m    980\u001b[0m     \u001b[38;5;28mself\u001b[39m\u001b[38;5;241m.\u001b[39m_ifu_obj \u001b[38;5;241m=\u001b[39m ParametricSpectralCube(sed, resolution, npix, fov)\n\u001b[1;32m    982\u001b[0m \u001b[38;5;28mself\u001b[39m\u001b[38;5;241m.\u001b[39mrest_frame \u001b[38;5;241m=\u001b[39m rest_frame\n",
      "\u001b[0;31mTypeError\u001b[0m: object of type 'NoneType' has no len()"
     ]
    }
   ],
   "source": [
    "images = galaxy.make_images('stellar', resolution, npix=npix)"
   ]
  },
  {
   "cell_type": "code",
   "execution_count": 19,
   "id": "c3f0e8a7-880e-4c0d-b82a-764044802ec4",
   "metadata": {
    "tags": []
   },
   "outputs": [
    {
     "ename": "NameError",
     "evalue": "name 'images' is not defined",
     "output_type": "error",
     "traceback": [
      "\u001b[0;31m---------------------------------------------------------------------------\u001b[0m",
      "\u001b[0;31mNameError\u001b[0m                                 Traceback (most recent call last)",
      "Cell \u001b[0;32mIn[19], line 1\u001b[0m\n\u001b[0;32m----> 1\u001b[0m \u001b[38;5;28mprint\u001b[39m(\u001b[43mimages\u001b[49m)\n\u001b[1;32m      3\u001b[0m images\u001b[38;5;241m.\u001b[39mmake_ascii()\n\u001b[1;32m      4\u001b[0m \u001b[38;5;66;03m# images.plot()  #  plot base image\u001b[39;00m\n\u001b[1;32m      5\u001b[0m \u001b[38;5;66;03m# images.plot('U')  #  plot U-band image\u001b[39;00m\n\u001b[1;32m      6\u001b[0m \u001b[38;5;66;03m# images.plot_rgb(['J', 'V', 'U'])  #  plot RGB image\u001b[39;00m\n",
      "\u001b[0;31mNameError\u001b[0m: name 'images' is not defined"
     ]
    }
   ],
   "source": [
    "print(images)\n",
    "\n",
    "images.make_ascii()\n",
    "# images.plot()  #  plot base image\n",
    "# images.plot('U')  #  plot U-band image\n",
    "# images.plot_rgb(['J', 'V', 'U'])  #  plot RGB image"
   ]
  }
 ],
 "metadata": {
  "kernelspec": {
   "display_name": "Python 3 (ipykernel)",
   "language": "python",
   "name": "python3"
  },
  "language_info": {
   "codemirror_mode": {
    "name": "ipython",
    "version": 3
   },
   "file_extension": ".py",
   "mimetype": "text/x-python",
   "name": "python",
   "nbconvert_exporter": "python",
   "pygments_lexer": "ipython3",
   "version": "3.10.6"
  }
 },
 "nbformat": 4,
 "nbformat_minor": 5
}
