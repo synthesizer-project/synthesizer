{
 "cells": [
  {
   "attachments": {},
   "cell_type": "markdown",
   "id": "ba211680-a2c0-4f33-a431-4ff581c251b5",
   "metadata": {},
   "source": [
    "# Generate composite galaxy\n",
    "\n",
    "Finall, in this example we're going to demonstrate how to make a composite galaxy, including with imaging. For more information on defining parametric morphology see the Imaging examples."
   ]
  },
  {
   "cell_type": "code",
   "execution_count": 1,
   "id": "2a773383-be4c-49d8-9baf-a04d84dba68b",
   "metadata": {},
   "outputs": [],
   "source": [
    "from unyt import yr, Myr, kpc, mas, Msun, Angstrom, deg\n",
    "import matplotlib.pyplot as plt\n",
    "import numpy as np\n",
    "from synthesizer.grid import Grid\n",
    "from synthesizer.parametric.morphology import Sersic2D, PointSource\n",
    "from synthesizer.parametric import SFH, ZDist, Stars\n",
    "from synthesizer.parametric.galaxy import Galaxy\n",
    "from synthesizer.blackholes import UnifiedAGN\n",
    "from synthesizer.parametric import BlackHoles\n",
    "from synthesizer.sed import plot_spectra\n",
    "from synthesizer.filters import UVJ"
   ]
  },
  {
   "attachments": {},
   "cell_type": "markdown",
   "id": "903fea3f",
   "metadata": {},
   "source": [
    "Let's begin by defining the geometry of the images:"
   ]
  },
  {
   "cell_type": "code",
   "execution_count": 2,
   "id": "fa6d1c47-e456-43c4-ae77-e3c8811b636d",
   "metadata": {},
   "outputs": [],
   "source": [
    "# Define geometry of the images\n",
    "resolution = 0.1 * kpc  # resolution in kpc\n",
    "npix = 50\n",
    "fov = resolution * npix"
   ]
  },
  {
   "attachments": {},
   "cell_type": "markdown",
   "id": "aa60e956",
   "metadata": {},
   "source": [
    "Define the `grid_dir`:"
   ]
  },
  {
   "cell_type": "code",
   "execution_count": 3,
   "id": "7e358ca5",
   "metadata": {},
   "outputs": [],
   "source": [
    "grid_dir = '../../../tests/test_grid'"
   ]
  },
  {
   "attachments": {},
   "cell_type": "markdown",
   "id": "86fd926d-fe81-4b44-9b18-56b0e05f2fc7",
   "metadata": {},
   "source": [
    "## The Stars\n",
    "\n",
    "Let's first build the stellar component of our galaxy, including setting the morphology so we can make an image later."
   ]
  },
  {
   "attachments": {},
   "cell_type": "markdown",
   "id": "89ccc344",
   "metadata": {},
   "source": [
    "First define the grid. We need this to create our star formation and metal enrichment history."
   ]
  },
  {
   "cell_type": "code",
   "execution_count": 4,
   "id": "3ae48d36",
   "metadata": {},
   "outputs": [],
   "source": [
    "grid_name = 'test_grid'\n",
    "grid = Grid(grid_name, grid_dir=grid_dir)"
   ]
  },
  {
   "attachments": {},
   "cell_type": "markdown",
   "id": "884544c5",
   "metadata": {},
   "source": [
    "Let's define our star formation and metal enrichment history:"
   ]
  },
  {
   "cell_type": "code",
   "execution_count": 5,
   "id": "93205536-a548-474c-a898-77b6c5b5d121",
   "metadata": {},
   "outputs": [],
   "source": [
    "sfh_p = {'duration': 10 * Myr}\n",
    "Z_p = {'log10metallicity': -2.0}  # can also use linear metallicity e.g. {'Z': 0.01}\n",
    "stellar_mass = 10 ** 9.5\n",
    "sfh = SFH.Constant(**sfh_p)  # constant star formation\n",
    "metal_dist = ZDist.DeltaConstant(**Z_p)  # constant metallicity"
   ]
  },
  {
   "attachments": {},
   "cell_type": "markdown",
   "id": "868f01f9",
   "metadata": {},
   "source": [
    "Next, let's define the morphology:"
   ]
  },
  {
   "cell_type": "code",
   "execution_count": 6,
   "id": "d9ccb893-b4e6-40cc-9559-48aaed45bf6f",
   "metadata": {},
   "outputs": [],
   "source": [
    "morph = Sersic2D(r_eff=1.*kpc, sersic_index=1., ellipticity=0.5, theta=35.)"
   ]
  },
  {
   "attachments": {},
   "cell_type": "markdown",
   "id": "3acd583f",
   "metadata": {},
   "source": [
    "Now let's initialise our stars object:"
   ]
  },
  {
   "cell_type": "code",
   "execution_count": 7,
   "id": "5472bae9",
   "metadata": {},
   "outputs": [],
   "source": [
    "# Get the 2D star formation and metal enrichment history for the given SPS grid. This is (age, Z).\n",
    "stars = Stars(\n",
    "    grid.log10age, grid.metallicity, sf_hist=sfh, metal_dist=metal_dist, initial_mass=stellar_mass, morphology=morph\n",
    ")"
   ]
  },
  {
   "attachments": {},
   "cell_type": "markdown",
   "id": "2139bf48",
   "metadata": {},
   "source": [
    "Now generate the stellar spectra:"
   ]
  },
  {
   "cell_type": "code",
   "execution_count": 8,
   "id": "cbdb421a",
   "metadata": {},
   "outputs": [
    {
     "ename": "NameError",
     "evalue": "name 'dust_emisison_model' is not defined",
     "output_type": "error",
     "traceback": [
      "\u001b[0;31m---------------------------------------------------------------------------\u001b[0m",
      "\u001b[0;31mNameError\u001b[0m                                 Traceback (most recent call last)",
      "Cell \u001b[0;32mIn[8], line 1\u001b[0m\n\u001b[0;32m----> 1\u001b[0m stars\u001b[39m.\u001b[39;49mget_spectra_pacman(grid, tau_v \u001b[39m=\u001b[39;49m \u001b[39m0.5\u001b[39;49m, alpha\u001b[39m=\u001b[39;49m\u001b[39m-\u001b[39;49m\u001b[39m1\u001b[39;49m)\n",
      "File \u001b[0;32m~/Dropbox/Research/projects/synthesizer/src/synthesizer/components/stellar.py:794\u001b[0m, in \u001b[0;36mStarsComponent.get_spectra_pacman\u001b[0;34m(self, grid, tau_v, dust_curve, alpha, young_old_thresh, fesc, fesc_LyA, dust_emission_model, label, **kwargs)\u001b[0m\n\u001b[1;32m    788\u001b[0m \u001b[39melse\u001b[39;00m:\n\u001b[1;32m    789\u001b[0m     \u001b[39mself\u001b[39m\u001b[39m.\u001b[39mspectra[\u001b[39m\"\u001b[39m\u001b[39memergent\u001b[39m\u001b[39m\"\u001b[39m]\u001b[39m.\u001b[39m_lnu \u001b[39m=\u001b[39m (\n\u001b[1;32m    790\u001b[0m         \u001b[39mself\u001b[39m\u001b[39m.\u001b[39mspectra[\u001b[39m\"\u001b[39m\u001b[39mescaped\u001b[39m\u001b[39m\"\u001b[39m]\u001b[39m.\u001b[39m_lnu \u001b[39m+\u001b[39m\n\u001b[1;32m    791\u001b[0m         \u001b[39mself\u001b[39m\u001b[39m.\u001b[39mspectra[\u001b[39m\"\u001b[39m\u001b[39mattenuated\u001b[39m\u001b[39m\"\u001b[39m]\u001b[39m.\u001b[39m_lnu\n\u001b[1;32m    792\u001b[0m     )\n\u001b[0;32m--> 794\u001b[0m \u001b[39mif\u001b[39;00m dust_emisison_model \u001b[39mis\u001b[39;00m \u001b[39mnot\u001b[39;00m \u001b[39mNone\u001b[39;00m:\n\u001b[1;32m    795\u001b[0m \n\u001b[1;32m    796\u001b[0m     \u001b[39m# Calculate the dust bolometric luminosity as the difference \u001b[39;00m\n\u001b[1;32m    797\u001b[0m     \u001b[39m# between the emergent and intrinsic spectra \u001b[39;00m\n\u001b[1;32m    799\u001b[0m     dust_bolometric_luminosity \u001b[39m=\u001b[39m (\n\u001b[1;32m    800\u001b[0m         \u001b[39mself\u001b[39m\u001b[39m.\u001b[39mspectra[\u001b[39m\"\u001b[39m\u001b[39mincident\u001b[39m\u001b[39m\"\u001b[39m]\u001b[39m.\u001b[39mbolometric_luminosity \u001b[39m-\u001b[39m\n\u001b[1;32m    801\u001b[0m         \u001b[39mself\u001b[39m\u001b[39m.\u001b[39mspectra[\u001b[39m\"\u001b[39m\u001b[39memergent\u001b[39m\u001b[39m\"\u001b[39m]\u001b[39m.\u001b[39mbolometric_luminosity)\n\u001b[1;32m    803\u001b[0m     \u001b[39m# Get normalised dust spectrum, this is an synthesizer.sed.Sed \u001b[39;00m\n\u001b[1;32m    804\u001b[0m     \u001b[39m# object.\u001b[39;00m\n",
      "\u001b[0;31mNameError\u001b[0m: name 'dust_emisison_model' is not defined"
     ]
    }
   ],
   "source": [
    "stars.get_spectra_pacman(grid, tau_v = 0.5, alpha=-1)"
   ]
  },
  {
   "attachments": {},
   "cell_type": "markdown",
   "id": "c5dae235",
   "metadata": {},
   "source": [
    "## The blackholes"
   ]
  },
  {
   "attachments": {},
   "cell_type": "markdown",
   "id": "03a8d537",
   "metadata": {},
   "source": [
    "Let's define the properties of our blackholes. We don't need to define the morphology since blackholes automatically assume a `PointSource` geometry."
   ]
  },
  {
   "cell_type": "code",
   "execution_count": null,
   "id": "3908a4b6-7d7b-486c-972f-6ba9524be96e",
   "metadata": {},
   "outputs": [],
   "source": [
    "black_hole = BlackHoles(mass=1E8*Msun, inclination=15*deg, accretion_rate=1.*Msun/yr, metallicity=0.01)"
   ]
  },
  {
   "attachments": {},
   "cell_type": "markdown",
   "id": "5fe09c51",
   "metadata": {},
   "source": [
    "Next, let's define the emission model and generate the spectra."
   ]
  },
  {
   "cell_type": "code",
   "execution_count": null,
   "id": "0bea91e3",
   "metadata": {},
   "outputs": [],
   "source": [
    "emission_model = UnifiedAGN(disc_model='test_grid_agn', photoionisation_model='', grid_dir=grid_dir)\n",
    "\n",
    "# get the spectra assuming this emission model\n",
    "black_hole.get_spectra(emission_model)"
   ]
  },
  {
   "attachments": {},
   "cell_type": "markdown",
   "id": "bc6a6b46",
   "metadata": {},
   "source": [
    "## The Galaxy"
   ]
  },
  {
   "attachments": {},
   "cell_type": "markdown",
   "id": "5e835351-ed22-41d7-9c97-ea2824ec10eb",
   "metadata": {},
   "source": [
    "Initialise the Galaxy object, make an image and plot it. In this case, we can make a colour image using our UVJ filters:"
   ]
  },
  {
   "cell_type": "code",
   "execution_count": null,
   "id": "4df2837c-42be-40f2-b14e-17ec4e440a91",
   "metadata": {},
   "outputs": [],
   "source": [
    "# Initialise Galaxy object\n",
    "galaxy = Galaxy(stars=stars, black_holes=black_hole)\n",
    "print(galaxy)"
   ]
  },
  {
   "cell_type": "code",
   "execution_count": null,
   "id": "b227cd24",
   "metadata": {},
   "outputs": [],
   "source": [
    "galaxy.spectra = {}\n",
    "galaxy.spectra['black_holes'] = galaxy.black_holes.spectra['total']\n",
    "galaxy.spectra['stars'] = galaxy.stars.spectra['attenuated']\n",
    "galaxy.spectra['total'] = galaxy.spectra['stars'] + galaxy.spectra['black_holes']"
   ]
  },
  {
   "attachments": {},
   "cell_type": "markdown",
   "id": "14650033",
   "metadata": {},
   "source": [
    "### Spectra"
   ]
  },
  {
   "attachments": {},
   "cell_type": "markdown",
   "id": "4373f52a",
   "metadata": {},
   "source": [
    "We can use the `plot_spectra` function to make a quick spectrum of the galaxy. "
   ]
  },
  {
   "cell_type": "code",
   "execution_count": null,
   "id": "064cb20a",
   "metadata": {},
   "outputs": [],
   "source": [
    "plot_spectra(galaxy.spectra)"
   ]
  },
  {
   "attachments": {},
   "cell_type": "markdown",
   "id": "b7c90101",
   "metadata": {},
   "source": [
    "### Images"
   ]
  },
  {
   "attachments": {},
   "cell_type": "markdown",
   "id": "e898e354",
   "metadata": {},
   "source": [
    "Let's define some filters."
   ]
  },
  {
   "cell_type": "code",
   "execution_count": null,
   "id": "dd0a9b76",
   "metadata": {},
   "outputs": [],
   "source": [
    "filters = UVJ(new_lam=grid.lam)"
   ]
  },
  {
   "attachments": {},
   "cell_type": "markdown",
   "id": "94a5750a",
   "metadata": {},
   "source": [
    "Let's look at the total spectra."
   ]
  },
  {
   "attachments": {},
   "cell_type": "markdown",
   "id": "b0667dcf",
   "metadata": {},
   "source": [
    "Now let's make some images."
   ]
  },
  {
   "cell_type": "code",
   "execution_count": null,
   "id": "3d55eef8",
   "metadata": {},
   "outputs": [],
   "source": [
    "\n",
    "# Make images\n",
    "img = galaxy.make_images(\n",
    "    resolution=resolution,\n",
    "    filters=filters,\n",
    "    sed=galaxy.stars.spectra[\"incident\"],\n",
    "    # npix=npix,\n",
    "    fov=fov,\n",
    ")\n",
    "\n",
    "print(galaxy)\n",
    "\n",
    "# Make and plot an rgb image\n",
    "img.make_rgb_image(rgb_filters={\"R\" : 'J',\n",
    "                                \"G\" : 'V',\n",
    "                                \"B\" : 'U'})\n",
    "fig, ax, _ = img.plot_rgb_image(show=True)"
   ]
  }
 ],
 "metadata": {
  "kernelspec": {
   "display_name": "venv",
   "language": "python",
   "name": "python3"
  },
  "language_info": {
   "codemirror_mode": {
    "name": "ipython",
    "version": 3
   },
   "file_extension": ".py",
   "mimetype": "text/x-python",
   "name": "python",
   "nbconvert_exporter": "python",
   "pygments_lexer": "ipython3",
   "version": "3.10.11"
  },
  "vscode": {
   "interpreter": {
    "hash": "3fbdfee1eda89f517d14c65aaeb395605ea48cc827c54c8ae1828e532ec42817"
   }
  }
 },
 "nbformat": 4,
 "nbformat_minor": 5
}
