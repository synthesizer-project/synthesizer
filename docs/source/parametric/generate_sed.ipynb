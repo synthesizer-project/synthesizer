{
 "cells": [
  {
   "attachments": {},
   "cell_type": "markdown",
   "metadata": {},
   "source": [
    "# Generating Rest Frame SEDs from a Parametric Galaxy\n",
    "\n",
    "Building on the `make_sfzh` documents we can now see how to generate a galaxy and produce its rest-frame spectral energy distribution.\n"
   ]
  },
  {
   "cell_type": "code",
   "execution_count": null,
   "metadata": {},
   "outputs": [],
   "source": [
    "import os\n",
    "import numpy as np\n",
    "import matplotlib.pyplot as plt\n",
    "from synthesizer.filters import FilterCollection\n",
    "from synthesizer.grid import Grid\n",
    "from synthesizer.parametric.sfzh import SFH, ZH, generate_sfzh\n",
    "from synthesizer.parametric.galaxy import Galaxy\n",
    "from synthesizer.plt import single, single_histxy, mlabel\n",
    "from unyt import yr, Myr, Angstrom\n",
    "from astropy.cosmology import Planck18 as cosmo"
   ]
  },
  {
   "attachments": {},
   "cell_type": "markdown",
   "metadata": {},
   "source": [
    "We begin by initialising a `Grid`:"
   ]
  },
  {
   "cell_type": "code",
   "execution_count": null,
   "metadata": {},
   "outputs": [],
   "source": [
    "grid_name = \"test_grid\"\n",
    "grid_dir = \"../../../tests/test_grid/\"\n",
    "grid = Grid(grid_name, grid_dir=grid_dir)"
   ]
  },
  {
   "attachments": {},
   "cell_type": "markdown",
   "metadata": {},
   "source": [
    "Next we can define the star formation and metal enrichment history:"
   ]
  },
  {
   "cell_type": "code",
   "execution_count": null,
   "metadata": {},
   "outputs": [],
   "source": [
    "# define the parameters of the star formation and metal enrichment histories\n",
    "sfh_p = {'duration': 100 * Myr}\n",
    "Z_p = {'log10Z': -2.0}  # can also use linear metallicity e.g. {'Z': 0.01}\n",
    "stellar_mass = 1E8 # in units of M_sol\n",
    "\n",
    "# define the functional form of the star formation and metal enrichment histories\n",
    "sfh = SFH.Constant(sfh_p)  # constant star formation\n",
    "print(sfh)  # print sfh summary\n",
    "Zh = ZH.deltaConstant(Z_p)  # constant metallicity\n",
    "\n",
    "# get the 2D star formation and metal enrichment history for the given SPS grid. This is (age, Z).\n",
    "sfzh = generate_sfzh(grid.log10age, grid.metallicity, sfh, Zh, stellar_mass=stellar_mass)\n",
    "print(sfzh)"
   ]
  },
  {
   "attachments": {},
   "cell_type": "markdown",
   "metadata": {},
   "source": [
    "Create a `Galaxy` object using this SZFH:"
   ]
  },
  {
   "cell_type": "code",
   "execution_count": null,
   "metadata": {},
   "outputs": [],
   "source": [
    "galaxy = Galaxy(sfzh)"
   ]
  },
  {
   "attachments": {},
   "cell_type": "markdown",
   "metadata": {},
   "source": [
    "When combined with a `Grid` we can now generate the spectral energy distribution of a galaxy. There are a range of options available to us here, most depending on whether we include nebular emission and/or dust."
   ]
  },
  {
   "attachments": {},
   "cell_type": "markdown",
   "metadata": {},
   "source": [
    "Let's star with just the pure stellar spectra. As you can see there is also a method on `Galaxy` objects that allows us to quickly plot spectra."
   ]
  },
  {
   "cell_type": "code",
   "execution_count": null,
   "metadata": {},
   "outputs": [],
   "source": [
    "galaxy.get_spectra_incident(grid)\n",
    "galaxy.plot_spectra()"
   ]
  },
  {
   "attachments": {},
   "cell_type": "markdown",
   "metadata": {},
   "source": [
    "However, in most cases we might like to access spectra directly. Spectra are stored within each `Galaxy` in the `spectra` dictionary."
   ]
  },
  {
   "cell_type": "code",
   "execution_count": null,
   "metadata": {},
   "outputs": [],
   "source": [
    "sed = galaxy.spectra['incident']"
   ]
  },
  {
   "attachments": {},
   "cell_type": "markdown",
   "metadata": {},
   "source": [
    "Spectra are stored in `Sed` objects. There is a separate tutorial on these but the contain the spectra, wavelength grid, and have access to a range of other methods, e.g. for caclulating broadband photometry."
   ]
  },
  {
   "cell_type": "code",
   "execution_count": null,
   "metadata": {},
   "outputs": [],
   "source": [
    "\n",
    "print(sed)"
   ]
  },
  {
   "cell_type": "code",
   "execution_count": null,
   "metadata": {},
   "outputs": [],
   "source": [
    "plt.loglog(sed.lam, sed.lnu)\n",
    "plt.show()"
   ]
  },
  {
   "attachments": {},
   "cell_type": "markdown",
   "metadata": {},
   "source": [
    "Next, we can generate spectra including nebular emission. In the parlance of `synthesizer` these are reprocessed spectra. This introduces a new free parameter, the Lyman-continuum escape fraction, `fesc`."
   ]
  },
  {
   "cell_type": "code",
   "execution_count": null,
   "metadata": {},
   "outputs": [],
   "source": [
    "galaxy.spectra = {}\n",
    "galaxy.get_spectra_reprocessed(grid, fesc = 0.5)\n",
    "galaxy.plot_spectra()"
   ]
  },
  {
   "attachments": {},
   "cell_type": "markdown",
   "metadata": {},
   "source": [
    "`get_spectra_reprocessed()` actually generates more than just the reprocessed spectra, if also generates the `incident`, `transmitted`, `nebular`, and `intrinsic` `spectra`. If `fesc>0` it also generates `escaped`. The definitions of all of these are described in the spectra docs."
   ]
  },
  {
   "attachments": {},
   "cell_type": "markdown",
   "metadata": {},
   "source": [
    "At anytime we can get a list of the spectra associated with a galaxy using:"
   ]
  },
  {
   "cell_type": "code",
   "execution_count": null,
   "metadata": {},
   "outputs": [],
   "source": [
    "print(galaxy.spectra.keys())"
   ]
  },
  {
   "attachments": {},
   "cell_type": "markdown",
   "metadata": {},
   "source": [
    "`get_spectra_reprocessed()` also includes a parameter allowing us to suppress Lyman-alpha emission, the Lyman-alpha escape fraction `fesc_LyA`."
   ]
  },
  {
   "cell_type": "code",
   "execution_count": null,
   "metadata": {},
   "outputs": [],
   "source": [
    "galaxy.spectra = {}\n",
    "galaxy.get_spectra_reprocessed(grid, fesc = 0.5, fesc_LyA=0.0)\n",
    "galaxy.plot_spectra()"
   ]
  },
  {
   "attachments": {},
   "cell_type": "markdown",
   "metadata": {},
   "source": [
    "Dust attenuation in `synthesizer` is implemented via the flexible **Pacman** model. This model has a few features:\n",
    "\n",
    "- In this model the parameter `fesc` denotes the fraction of light that entirely escapes a galaxy with no reprocessing by gas or dust.\n",
    "- Like the `get_spectra_reprocessed()` you can also set the Lyman-alpha escape fraction `fesc_LyA` here. \n",
    "- It is possible to calculate spectra for both a young and old component each with different dust attenuation. \n",
    "- Various different dust attenuation (and emission) are provided. By default we use a simple power-law. \n",
    "- For dust attenuation the required free parameter here is `tau_v` the attenuation at 5500A. If an array is provided."
   ]
  },
  {
   "attachments": {},
   "cell_type": "markdown",
   "metadata": {},
   "source": [
    "First, let's add dust attenuation using a simple screen model with a V-band optical depth `tau_v=0.5` and a power-law attenuation curve with `alpha=-1`."
   ]
  },
  {
   "cell_type": "code",
   "execution_count": null,
   "metadata": {},
   "outputs": [],
   "source": [
    "galaxy.spectra = {} # reset spectra\n",
    "galaxy.get_spectra_pacman(grid, tau_v = 0.5, alpha=-1)\n",
    "galaxy.plot_spectra(spectra_to_plot=['intrinsic','emergent'])"
   ]
  },
  {
   "attachments": {},
   "cell_type": "markdown",
   "metadata": {},
   "source": [
    "Next, let's allow `fesc` to vary. In the pacman model the fraction of light escaping reprocessing by gas also escape dust attenuation. "
   ]
  },
  {
   "cell_type": "code",
   "execution_count": null,
   "metadata": {},
   "outputs": [],
   "source": [
    "galaxy.spectra = {} # reset spectra\n",
    "galaxy.get_spectra_pacman(grid, tau_v = 0.5, alpha=-1, fesc = 0.5)\n",
    "galaxy.plot_spectra(spectra_to_plot=['intrinsic','emergent'])"
   ]
  },
  {
   "attachments": {},
   "cell_type": "markdown",
   "metadata": {},
   "source": [
    "Note, that despite the same `tau_v` the actual attenuation is much less. Fortunately if we want to know the true attenuation there is a method `A()` on Galaxy for that which take the wavelength."
   ]
  },
  {
   "cell_type": "code",
   "execution_count": null,
   "metadata": {},
   "outputs": [],
   "source": [
    "galaxy.A(5500*Angstrom)"
   ]
  },
  {
   "attachments": {},
   "cell_type": "markdown",
   "metadata": {},
   "source": [
    "`get_spectra_pacman()` can also implement dust attenuation separately for both young and old components (where the threshold is set by `young_old_thresh` which is log10(threshold/yr)). In this case it is also necessary to provide `tau_v` and `alpha` as pairs of values describing the ISM and birth-cloud components. Note, young stellar populations feel attenuation from both the ISM and birth-cloud components."
   ]
  },
  {
   "cell_type": "code",
   "execution_count": null,
   "metadata": {},
   "outputs": [],
   "source": [
    "galaxy.spectra = {}\n",
    "tau_v_ISM = 0.5 # ISM component of dust attenuation\n",
    "tau_v_BC = 0.5 # birth-cloud componest of dust attenuation\n",
    "tau_v = [tau_v_ISM, tau_v_BC]\n",
    "alpha = [-0.7, -1.3]\n",
    "galaxy.get_spectra_pacman(grid, tau_v = tau_v, alpha = alpha, young_old_thresh = 7.)\n",
    "galaxy.plot_spectra(spectra_to_plot = ['emergent', 'young_emergent', 'old_emergent'])"
   ]
  },
  {
   "attachments": {},
   "cell_type": "markdown",
   "metadata": {},
   "source": [
    "For users more familiar with the Charlot and Fall (2000) two component dust model `synthesizer` also includes a `get_spectra_CharlotFall()` method, which is really a wrapper around the more generic `get_spectra_pacman()` method. The difference is that `fesc` is implicitly assumed to `0.0` and there is a more familiar way of setting the parameters."
   ]
  },
  {
   "cell_type": "code",
   "execution_count": null,
   "metadata": {},
   "outputs": [],
   "source": [
    "galaxy.get_spectra_CharlotFall(grid, tau_v_ISM=0.5, tau_v_BC=0.5, alpha_ISM=-0.7, alpha_BC=-1.3)\n",
    "galaxy.plot_spectra(spectra_to_plot = ['emergent', 'young_emergent', 'old_emergent'])"
   ]
  },
  {
   "attachments": {},
   "cell_type": "markdown",
   "metadata": {},
   "source": [
    "Like other objects in `synthesizer` we can also get a useful summary of the `Galaxy` object just using the `print` function:"
   ]
  },
  {
   "cell_type": "code",
   "execution_count": null,
   "metadata": {},
   "outputs": [],
   "source": [
    "print(galaxy)"
   ]
  },
  {
   "attachments": {},
   "cell_type": "markdown",
   "metadata": {},
   "source": [
    "We can also extract an spectra and generate broadband photometry. See the `Sed` and `Filter` tutorials:"
   ]
  },
  {
   "cell_type": "code",
   "execution_count": null,
   "metadata": {},
   "outputs": [],
   "source": [
    "\n",
    "sed = galaxy.spectra['emergent']\n",
    "\n",
    "tophats = {'U': {'lam_eff': 3650, 'lam_fwhm': 660},\n",
    "           'V': {'lam_eff': 5510, 'lam_fwhm': 880},\n",
    "           'J': {'lam_eff': 12200, 'lam_fwhm': 2130}}\n",
    "fc = FilterCollection(tophat_dict=tophats, new_lam=grid.lam)\n",
    "bb_lnu = sed.get_broadband_luminosities(fc)\n",
    "print(bb_lnu)"
   ]
  }
 ],
 "metadata": {
  "language_info": {
   "name": "python"
  }
 },
 "nbformat": 4,
 "nbformat_minor": 2
}
