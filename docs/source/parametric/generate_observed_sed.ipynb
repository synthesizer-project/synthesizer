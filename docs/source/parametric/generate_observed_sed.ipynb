{
 "cells": [
  {
   "attachments": {},
   "cell_type": "markdown",
   "metadata": {},
   "source": [
    "# Generating an Observed SED form a Parametric Galaxy\n",
    "\n",
    "Building on the *Generate a Rest Frame SED* tutorial here we instead generate an observed frame SED and broadband photometry: \n"
   ]
  },
  {
   "cell_type": "code",
   "execution_count": 1,
   "metadata": {},
   "outputs": [],
   "source": [
    "import os\n",
    "import numpy as np\n",
    "import matplotlib.pyplot as plt\n",
    "from synthesizer.filters import FilterCollection\n",
    "from synthesizer.grid import Grid\n",
    "from synthesizer.parametric.sfzh import SFH, ZH, generate_sfzh\n",
    "from synthesizer.parametric.galaxy import Galaxy\n",
    "from synthesizer.plt import single, single_histxy, mlabel\n",
    "from unyt import yr, Myr\n",
    "from synthesizer.igm import Madau96, Inoue14"
   ]
  },
  {
   "cell_type": "code",
   "execution_count": 2,
   "metadata": {},
   "outputs": [],
   "source": [
    "grid_name = \"test_grid\"\n",
    "grid_dir = \"../../../tests/test_grid/\"\n",
    "grid = Grid(grid_name, grid_dir=grid_dir)"
   ]
  },
  {
   "attachments": {},
   "cell_type": "markdown",
   "metadata": {},
   "source": [
    "Again, let's define the star formation and metal enrichment history and make a `Galaxy` object."
   ]
  },
  {
   "cell_type": "code",
   "execution_count": 3,
   "metadata": {},
   "outputs": [],
   "source": [
    "# define the parameters of the star formation and metal enrichment histories\n",
    "sfh_p = {'duration': 10 * Myr}\n",
    "Z_p = {'log10Z': -2.0}  # can also use linear metallicity e.g. {'Z': 0.01}\n",
    "stellar_mass = 1E8\n",
    "\n",
    "# define the functional form of the star formation and metal enrichment histories\n",
    "sfh = SFH.Constant(sfh_p)  # constant star formation\n",
    "Zh = ZH.deltaConstant(Z_p)  # constant metallicity\n",
    "\n",
    "# get the 2D star formation and metal enrichment history for the given SPS grid. This is (age, Z).\n",
    "sfzh = generate_sfzh(grid.log10age, grid.metallicity, sfh, Zh, stellar_mass=stellar_mass)\n",
    "\n",
    "# create a galaxy object\n",
    "galaxy = Galaxy(sfzh)"
   ]
  },
  {
   "attachments": {},
   "cell_type": "markdown",
   "metadata": {},
   "source": [
    "Now let's generate a spectral energy distribution with the Pacman model. Note, applying this method both saves a copy of the spectra but also returns it, a la:"
   ]
  },
  {
   "cell_type": "code",
   "execution_count": 4,
   "metadata": {},
   "outputs": [],
   "source": [
    "sed = galaxy.get_spectra_pacman(grid, fesc=0.5, tau_v=0.1)"
   ]
  },
  {
   "attachments": {},
   "cell_type": "markdown",
   "metadata": {},
   "source": [
    "Next we want to generate the observed frame spectra. This requires that we define a cosmology, specify a redshift, and optionally provide an IGM function:"
   ]
  },
  {
   "cell_type": "code",
   "execution_count": 5,
   "metadata": {},
   "outputs": [],
   "source": [
    "from astropy.cosmology import Planck18 as cosmo\n",
    "z = 10.  # redshift\n",
    "sed.get_fnu(cosmo, z, igm=Madau96())  # generate observed frame spectra"
   ]
  },
  {
   "attachments": {},
   "cell_type": "markdown",
   "metadata": {},
   "source": [
    "Let's now define a collection of filters to apply to this SED. See the Filters tutorial for more detail about `Filter` and `FilterCollection` objects. Let's use the JWST/NIRCam wide filters:"
   ]
  },
  {
   "cell_type": "code",
   "execution_count": 6,
   "metadata": {},
   "outputs": [],
   "source": [
    "filter_codes = [f'JWST/NIRCam.{f}' for f in ['F070W','F090W', 'F115W', 'F150W',\n",
    "                                             'F200W', 'F277W', 'F356W', 'F444W']]  # define a list of filter codes\n",
    "fc = FilterCollection(filter_codes, new_lam=grid.lam)"
   ]
  },
  {
   "attachments": {},
   "cell_type": "markdown",
   "metadata": {},
   "source": [
    "Next let's calculate the broadband fluxes using these filters:"
   ]
  },
  {
   "cell_type": "code",
   "execution_count": 7,
   "metadata": {},
   "outputs": [
    {
     "name": "stdout",
     "output_type": "stream",
     "text": [
      "JWST/NIRCam.F070W: -0.00 nJy\n",
      "JWST/NIRCam.F090W: 0.00 nJy\n",
      "JWST/NIRCam.F115W: 0.00 nJy\n",
      "JWST/NIRCam.F150W: 75.64 nJy\n",
      "JWST/NIRCam.F200W: 66.87 nJy\n",
      "JWST/NIRCam.F277W: 58.55 nJy\n",
      "JWST/NIRCam.F356W: 49.43 nJy\n",
      "JWST/NIRCam.F444W: 48.59 nJy\n"
     ]
    }
   ],
   "source": [
    "# measure broadband fluxes\n",
    "fluxes = sed.get_broadband_fluxes(fc)\n",
    "\n",
    "# print broadband fluxes\n",
    "for filter, flux in fluxes.items():\n",
    "    print(f'{filter}: {flux:.2f}')"
   ]
  },
  {
   "attachments": {},
   "cell_type": "markdown",
   "metadata": {},
   "source": [
    "We can also make a plot of the spectra, including filter transmission function curves."
   ]
  },
  {
   "cell_type": "code",
   "execution_count": 9,
   "metadata": {},
   "outputs": [
    {
     "name": "stdout",
     "output_type": "stream",
     "text": [
      "emergent\n"
     ]
    },
    {
     "data": {
      "text/plain": [
       "(<Figure size 350x500 with 2 Axes>,\n",
       " <Axes: xlabel='$\\\\rm log_{10}(\\\\lambda_{obs}/\\\\AA)$', ylabel='$\\\\rm log_{10}(f_{\\\\nu}/nJy)$'>)"
      ]
     },
     "execution_count": 9,
     "metadata": {},
     "output_type": "execute_result"
    },
    {
     "data": {
      "image/png": "[encoded data removed]",
      "text/plain": [
       "<Figure size 350x500 with 2 Axes>"
      ]
     },
     "metadata": {},
     "output_type": "display_data"
    }
   ],
   "source": [
    "galaxy.plot_observed_spectra(cosmo, z, fc=fc, spectra_to_plot=['emergent'])"
   ]
  }
 ],
 "metadata": {
  "kernelspec": {
   "display_name": "venv",
   "language": "python",
   "name": "python3"
  },
  "language_info": {
   "codemirror_mode": {
    "name": "ipython",
    "version": 3
   },
   "file_extension": ".py",
   "mimetype": "text/x-python",
   "name": "python",
   "nbconvert_exporter": "python",
   "pygments_lexer": "ipython3",
   "version": "3.10.11"
  },
  "vscode": {
   "interpreter": {
    "hash": "3fbdfee1eda89f517d14c65aaeb395605ea48cc827c54c8ae1828e532ec42817"
   }
  }
 },
 "nbformat": 4,
 "nbformat_minor": 2
}
