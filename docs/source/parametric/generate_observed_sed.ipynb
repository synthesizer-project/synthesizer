{
 "cells": [
  {
   "cell_type": "markdown",
   "id": "0caccb40-c3ca-4c45-8e58-5cc52d678d81",
   "metadata": {},
   "source": [
    "# Generate observed SED\n",
    "\n",
    "Example for generating the *observed* spectrum for a parametric galaxy including\n",
    "photometry. This example will:\n",
    "- build a parametric galaxy (see make_sfzh and make_sed)\n",
    "- calculate spectral luminosity density (see make_sed)\n",
    "- calculate observed frame spectra (requires comsology and redshift)\n",
    "- calculate observed frame fluxes"
   ]
  },
  {
   "cell_type": "code",
   "execution_count": 1,
   "id": "e8bffdee-e79c-4f4f-afa4-b10b6d0199f6",
   "metadata": {
    "tags": []
   },
   "outputs": [],
   "source": [
    "import numpy as np\n",
    "import matplotlib.pyplot as plt\n",
    "\n",
    "from synthesizer.filters import FilterCollection\n",
    "from synthesizer.grid import Grid\n",
    "from synthesizer.parametric.sfzh import SFH, ZH, generate_sfzh\n",
    "from synthesizer.galaxy.parametric import ParametricGalaxy as Galaxy\n",
    "from synthesizer.plt import single, single_histxy, mlabel\n",
    "from unyt import yr, Myr\n",
    "from synthesizer.igm import Madau96, Inoue14\n",
    "from astropy.cosmology import Planck18 as cosmo"
   ]
  },
  {
   "cell_type": "code",
   "execution_count": 2,
   "id": "618ba7a6-910c-4168-b30e-900772a61be1",
   "metadata": {
    "tags": []
   },
   "outputs": [],
   "source": [
    "grid_dir = '../../../tests/test_grid'\n",
    "grid_name = 'test_grid'\n",
    "\n",
    "grid = Grid(grid_name, grid_dir=grid_dir)"
   ]
  },
  {
   "cell_type": "markdown",
   "id": "920e0572-8c1a-4cf7-a6c7-001179c62312",
   "metadata": {},
   "source": [
    "Define the parameters of the star formation and metal enrichment histories"
   ]
  },
  {
   "cell_type": "code",
   "execution_count": 3,
   "id": "78cb66c6-a0a5-4738-815f-7c30f6bc3104",
   "metadata": {
    "tags": []
   },
   "outputs": [],
   "source": [
    "sfh_p = {'duration': 10 * Myr}\n",
    "Z_p = {'log10Z': -2.0}  # can also use linear metallicity e.g. {'Z': 0.01}\n",
    "stellar_mass = 1E8"
   ]
  },
  {
   "cell_type": "markdown",
   "id": "f807b23e-8b5a-409a-81a4-ef35bb79f0f3",
   "metadata": {
    "tags": []
   },
   "source": [
    "Define the functional form of the star formation and metal enrichment histories"
   ]
  },
  {
   "cell_type": "code",
   "execution_count": 4,
   "id": "5a17abb7-26ec-4955-9cc4-72b13e75a9f4",
   "metadata": {
    "tags": []
   },
   "outputs": [],
   "source": [
    "sfh = SFH.Constant(sfh_p)  # constant star formation\n",
    "Zh = ZH.deltaConstant(Z_p)  # constant metallicity"
   ]
  },
  {
   "cell_type": "markdown",
   "id": "2d4302f1-10cc-4dce-b493-30f304104a81",
   "metadata": {},
   "source": [
    "Get the 2D star formation and metal enrichment history for the given SPS grid. This is (age, Z)."
   ]
  },
  {
   "cell_type": "code",
   "execution_count": 5,
   "id": "2b120525-63d6-4155-92de-ea0c8e10161d",
   "metadata": {
    "tags": []
   },
   "outputs": [],
   "source": [
    "sfzh = generate_sfzh(grid.log10ages, grid.metallicities, sfh, Zh, stellar_mass=stellar_mass)"
   ]
  },
  {
   "cell_type": "markdown",
   "id": "71cf1bd5-318c-422d-a006-d61fdd806d89",
   "metadata": {},
   "source": [
    "Create a galaxy object"
   ]
  },
  {
   "cell_type": "code",
   "execution_count": 6,
   "id": "9db033a7-082c-4fe3-9fbb-88cd730e9627",
   "metadata": {
    "tags": []
   },
   "outputs": [],
   "source": [
    "galaxy = Galaxy(sfzh)"
   ]
  },
  {
   "cell_type": "markdown",
   "id": "d8633886-1546-4d3f-a1e8-d76577cf6fcb",
   "metadata": {},
   "source": [
    "Generate spectra using pacman model (complex)"
   ]
  },
  {
   "cell_type": "code",
   "execution_count": 7,
   "id": "df8318b4-1f73-43b0-a084-d1d61de0bd5f",
   "metadata": {
    "tags": []
   },
   "outputs": [],
   "source": [
    "sed = galaxy.get_pacman_spectra(grid, fesc=0.5, fesc_LyA=0.5, tauV=0.1, sed_object=True)"
   ]
  },
  {
   "cell_type": "markdown",
   "id": "a206de19-0fb3-4479-bab5-99918ab073c5",
   "metadata": {},
   "source": [
    "Now calculate the observed frame spectra"
   ]
  },
  {
   "cell_type": "code",
   "execution_count": 8,
   "id": "220e5a8b-dcfc-457a-9cf4-15ba565da257",
   "metadata": {
    "tags": []
   },
   "outputs": [],
   "source": [
    "z = 10.  # redshift\n",
    "sed.get_fnu(cosmo, z, igm=Madau96())  # generate observed frame spectra"
   ]
  },
  {
   "cell_type": "markdown",
   "id": "1dd0202f-3112-4c01-8f0f-1d1d7146b79f",
   "metadata": {},
   "source": [
    "Define filters"
   ]
  },
  {
   "cell_type": "code",
   "execution_count": 9,
   "id": "94d57e6a-6c25-4022-b8b8-b50ed20fffca",
   "metadata": {
    "tags": []
   },
   "outputs": [],
   "source": [
    "filter_codes = [f'JWST/NIRCam.{f}' for f in ['F090W', 'F115W', 'F150W',\n",
    "                                             'F200W', 'F277W', 'F356W', 'F444W']]  # define a list of filter codes\n",
    "filter_codes += [f'JWST/MIRI.{f}' for f in ['F770W']]\n",
    "fc = FilterCollection(filter_codes, new_lam=sed.obslam)"
   ]
  },
  {
   "cell_type": "markdown",
   "id": "084c7a99-c8de-4bc3-8ed5-70bb806c0559",
   "metadata": {},
   "source": [
    "Measure broadband fluxes"
   ]
  },
  {
   "cell_type": "code",
   "execution_count": 10,
   "id": "04bcab2d-c953-413d-822a-3ec2afe50106",
   "metadata": {
    "tags": []
   },
   "outputs": [
    {
     "name": "stdout",
     "output_type": "stream",
     "text": [
      "WARNING: filter wavelength grid is not the same as the SED wavelength grid.\n",
      "WARNING: filter wavelength grid is not the same as the SED wavelength grid.\n",
      "WARNING: filter wavelength grid is not the same as the SED wavelength grid.\n",
      "WARNING: filter wavelength grid is not the same as the SED wavelength grid.\n",
      "WARNING: filter wavelength grid is not the same as the SED wavelength grid.\n",
      "WARNING: filter wavelength grid is not the same as the SED wavelength grid.\n",
      "WARNING: filter wavelength grid is not the same as the SED wavelength grid.\n",
      "WARNING: filter wavelength grid is not the same as the SED wavelength grid.\n",
      "JWST/NIRCam.F090W: 12750003307465740155147517952.00 nJy\n",
      "JWST/NIRCam.F115W: 68031313861623684659478003712.00 nJy\n",
      "JWST/NIRCam.F150W: 75041306126044958105976963072.00 nJy\n",
      "JWST/NIRCam.F200W: 64631459476353272247448764416.00 nJy\n",
      "JWST/NIRCam.F277W: 56311946266727597567928958976.00 nJy\n",
      "JWST/NIRCam.F356W: 46756308801310736418233909248.00 nJy\n",
      "JWST/NIRCam.F444W: 45942422605742548740583981056.00 nJy\n",
      "JWST/MIRI.F770W: 38392040532110622777067700224.00 nJy\n"
     ]
    }
   ],
   "source": [
    "fluxes = sed.get_broadband_fluxes(fc)\n",
    "\n",
    "for filter, flux in fluxes.items():\n",
    "    print(f'{filter}: {flux:.2f}')"
   ]
  },
  {
   "cell_type": "markdown",
   "id": "b50b6ce9-028a-4d3d-bff9-6f35b619d8d9",
   "metadata": {},
   "source": [
    "Make plot of observed including broadband fluxes (if filter collection object given)"
   ]
  },
  {
   "cell_type": "code",
   "execution_count": 11,
   "id": "bed1a0ac-ec34-4a2c-b938-06245e88c351",
   "metadata": {
    "tags": []
   },
   "outputs": [
    {
     "name": "stdout",
     "output_type": "stream",
     "text": [
      "total\n",
      "WARNING: filter wavelength grid is not the same as the SED wavelength grid.\n",
      "WARNING: filter wavelength grid is not the same as the SED wavelength grid.\n",
      "WARNING: filter wavelength grid is not the same as the SED wavelength grid.\n",
      "WARNING: filter wavelength grid is not the same as the SED wavelength grid.\n",
      "WARNING: filter wavelength grid is not the same as the SED wavelength grid.\n",
      "WARNING: filter wavelength grid is not the same as the SED wavelength grid.\n",
      "WARNING: filter wavelength grid is not the same as the SED wavelength grid.\n",
      "WARNING: filter wavelength grid is not the same as the SED wavelength grid.\n"
     ]
    },
    {
     "data": {
      "text/plain": [
       "(<Figure size 350x500 with 2 Axes>,\n",
       " <Axes: xlabel='$\\\\rm log_{10}(\\\\lambda_{obs}/\\\\AA)$', ylabel='$\\\\rm log_{10}(f_{\\\\nu}/nJy)$'>)"
      ]
     },
     "execution_count": 11,
     "metadata": {},
     "output_type": "execute_result"
    },
    {
     "data": {
      "image/png": "[encoded data removed]",
      "text/plain": [
       "<Figure size 350x500 with 2 Axes>"
      ]
     },
     "metadata": {},
     "output_type": "display_data"
    }
   ],
   "source": [
    "galaxy.plot_observed_spectra(cosmo, z, fc=fc, spectra_to_plot=['total'])"
   ]
  }
 ],
 "metadata": {
  "kernelspec": {
   "display_name": "Python 3 (ipykernel)",
   "language": "python",
   "name": "python3"
  },
  "language_info": {
   "codemirror_mode": {
    "name": "ipython",
    "version": 3
   },
   "file_extension": ".py",
   "mimetype": "text/x-python",
   "name": "python",
   "nbconvert_exporter": "python",
   "pygments_lexer": "ipython3",
   "version": "3.10.4"
  }
 },
 "nbformat": 4,
 "nbformat_minor": 5
}
