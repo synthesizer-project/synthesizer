{
 "cells": [
  {
   "cell_type": "markdown",
   "id": "314b47e3-d039-4858-838b-e554b388e96b",
   "metadata": {},
   "source": [
    "# Generate lines\n",
    "\n",
    "Example for generating a emission lines for a parametric galaxy. This example will:\n",
    "- show the available lines to a grid\n",
    "- build a parametric galaxy (see make_sfzh and make_sed)\n",
    "- calculate intrinsic line properties\n",
    "- calculate dust-attenuated line properties"
   ]
  },
  {
   "cell_type": "code",
   "execution_count": 2,
   "id": "1fec11ca-c41e-44a9-b07b-0bc02974f2a8",
   "metadata": {
    "tags": []
   },
   "outputs": [],
   "source": [
    "from synthesizer.units import Units\n",
    "from synthesizer.grid import get_available_lines, Grid\n",
    "from synthesizer.parametric.sfzh import SFH, ZH, generate_sfzh\n",
    "from synthesizer.galaxy.parametric import ParametricGalaxy as Galaxy\n",
    "from unyt import yr, Myr"
   ]
  },
  {
   "cell_type": "markdown",
   "id": "a3eb3180-0318-4c07-aeb7-94e7ec761569",
   "metadata": {},
   "source": [
    "Location and name of the grid"
   ]
  },
  {
   "cell_type": "code",
   "execution_count": 6,
   "id": "5d95f663-5d31-4757-9e62-2f4d9da4222e",
   "metadata": {
    "tags": []
   },
   "outputs": [],
   "source": [
    "grid_dir = '../../../tests/test_grid'\n",
    "grid_name = 'test_grid'"
   ]
  },
  {
   "cell_type": "markdown",
   "id": "04ca9549-393e-4e12-bb14-d39d1a4d3dca",
   "metadata": {},
   "source": [
    "To see what lines are available in a grid we can use this helper function"
   ]
  },
  {
   "cell_type": "code",
   "execution_count": 8,
   "id": "32740bdc-d5b3-406d-a825-bed2a364de71",
   "metadata": {
    "tags": []
   },
   "outputs": [
    {
     "name": "stdout",
     "output_type": "stream",
     "text": [
      "['Al 2 1670.79A', 'Al 2 2661.15A', 'Al 2 2669.95A', 'Ar 3 7137.76A', 'Ar 3 7753.24A', 'Ar 4 4712.58A', 'Ar 4 4741.45A', 'C 2 1036.34A', 'C 2 1037.02A', 'C 2 1335.66A', 'C 2 1335.71A', 'C 2 2324.21A', 'C 2 2325.40A', 'C 2 2326.11A', 'C 2 2327.65A', 'C 2 2328.84A', 'C 2R 1335.00A', 'C 3 1906.68A', 'C 3 1908.73A', 'C 3 977.020A', 'C 4 1548.19A', 'C 4 1550.78A', 'Ca 2 3934.78A', 'Ca 2 7293.48A', 'Ca 2 7325.90A', 'Cl 3 5519.24A', 'Cl 3 5539.41A', 'Fe 2 1.25702m', 'Fe 2 1.32092m', 'Fe 2 1.37219m', 'Fe 2 1.64400m', 'Fe 2 1.80989m', 'Fe 2 2365.55A', 'Fe 2 2382.77A', 'Fe 2 2612.65A', 'Fe 2 2626.45A', 'Fe 2 8619.32A', 'Fe 3 4659.31A', 'Fe 3 4702.94A', 'Fe 3 4755.97A', 'Fe 3 4882.48A', 'Fe 3 5012.56A', 'Fe 3 5271.87A', 'Fe 4 2830.19A', 'Fe 4 2836.57A', 'Fe 4 3095.86A', 'H 1 1.00521m', 'H 1 1.09410m', 'H 1 1.28215m', 'H 1 1.49713m', 'H 1 1.55606m', 'H 1 1.57048m', 'H 1 1.58848m', 'H 1 1.61136m', 'H 1 1.64116m', 'H 1 1.68110m', 'H 1 1.73667m', 'H 1 1.81790m', 'H 1 1.87561m', 'H 1 1.94507m', 'H 1 1025.72A', 'H 1 1215.67A', 'H 1 2.16611m', 'H 1 2.37436m', 'H 1 2.62585m', 'H 1 2.75825m', 'H 1 2.87297m', 'H 1 3.03918m', 'H 1 3.29697m', 'H 1 3.74053m', 'H 1 3670.51A', 'H 1 3672.52A', 'H 1 3674.80A', 'H 1 3677.41A', 'H 1 3680.40A', 'H 1 3683.85A', 'H 1 3687.88A', 'H 1 3692.60A', 'H 1 3698.20A', 'H 1 3704.90A', 'H 1 3713.02A', 'H 1 3722.99A', 'H 1 3735.43A', 'H 1 3751.21A', 'H 1 3771.70A', 'H 1 3798.97A', 'H 1 3836.47A', 'H 1 3890.15A', 'H 1 3971.19A', 'H 1 4.05224m', 'H 1 4.65374m', 'H 1 4102.89A', 'H 1 4341.68A', 'H 1 4862.69A', 'H 1 6564.62A', 'H 1 8325.67A', 'H 1 8336.03A', 'H 1 8347.80A', 'H 1 8361.26A', 'H 1 8376.74A', 'H 1 8394.66A', 'H 1 8415.59A', 'H 1 8440.23A', 'H 1 8469.54A', 'H 1 8504.78A', 'H 1 8547.69A', 'H 1 8600.71A', 'H 1 8667.36A', 'H 1 8752.83A', 'H 1 8865.17A', 'H 1 9017.34A', 'H 1 913.215A', 'H 1 920.963A', 'H 1 923.150A', 'H 1 9231.50A', 'H 1 926.226A', 'H 1 930.748A', 'H 1 937.804A', 'H 1 949.743A', 'H 1 9548.54A', 'H 1 972.537A', 'He 1 1.08332m', 'He 1 1.09160m', 'He 1 1.27884m', 'He 1 1.70073m', 'He 1 1.86905m', 'He 1 1.87023m', 'He 1 2.05869m', 'He 1 2829.91A', 'He 1 2945.96A', 'He 1 3188.66A', 'He 1 3531.44A', 'He 1 3555.35A', 'He 1 3588.19A', 'He 1 3614.67A', 'He 1 3635.12A', 'He 1 3705.82A', 'He 1 3820.70A', 'He 1 3889.74A', 'He 1 3965.85A', 'He 1 4027.34A', 'He 1 4389.16A', 'He 1 4472.74A', 'He 1 4714.35A', 'He 1 4923.31A', 'He 1 5017.08A', 'He 1 5877.26A', 'He 1 6680.00A', 'He 1 7067.16A', 'He 1 7283.36A', 'K 3 4.61808m', 'Mg 1 2852.96A', 'Mg 1 4563.88A', 'Mg 2 2796.35A', 'Mg 2 2803.53A', 'N 1 1199.55A', 'N 1 1200.22A', 'N 1 1200.71A', 'N 1 5201.71A', 'N 2 1084.56A', 'N 2 1085.55A', 'N 2 1085.70A', 'N 2 2143.46A', 'N 2 5756.21A', 'N 2 6549.86A', 'N 2 6585.27A', 'N 2 915.962A', 'N 2 916.701A', 'N 2 916.710A', 'N 2R 1085.00A', 'N 3 1749.67A', 'N 3 989.799A', 'N 3 991.511A', 'N 3 991.577A', 'Ne 3 3869.86A', 'Ne 3 3968.59A', 'Ni 2 1.19134m', 'Ni 2 7379.86A', 'O 1 1304.86A', 'O 1 6302.05A', 'O 1 6365.54A', 'O 1 934.501A', 'O 1 935.672A', 'O 1 946.387A', 'O 1 948.506A', 'O 1 969.049A', 'O 1 976.791A', 'O 2 2470.97A', 'O 2 2471.09A', 'O 2 3727.09A', 'O 2 3729.88A', 'O 2 7320.94A', 'O 2 7322.01A', 'O 2 7331.69A', 'O 2 7332.75A', 'O 2R 3729.00A', 'O 3 1666.15A', 'O 3 2321.66A', 'O 3 4364.44A', 'O 3 4960.29A', 'O 3 5008.24A', 'P 2 1.18861m', 'S 2 1.03233m', 'S 2 4069.75A', 'S 2 4077.50A', 'S 2 6718.29A', 'S 2 6732.67A', 'S 3 1021.11A', 'S 3 3722.69A', 'S 3 6313.81A', 'S 3 9071.11A', 'S 3 9533.23A', 'Si 2 1179.59A', 'Si 2 1194.50A', 'Si 2 1197.39A', 'Si 2 1265.00A', 'Si 2 1309.28A', 'Si 2 1533.43A', 'Si 2 1816.93A', 'Si 2 2335.32A', 'Si 2 2344.92A', 'Si 2 993.354A', 'Si 3 1206.50A', 'Si 3 1882.71A', 'Si 3 1892.03A', 'Si 4 1393.75A', 'Si 4 1402.77A']\n"
     ]
    }
   ],
   "source": [
    "available_lines = get_available_lines(grid_name, grid_dir)\n",
    "print(available_lines)"
   ]
  },
  {
   "cell_type": "markdown",
   "id": "743001f8-3491-4b68-b79f-082f1562ef37",
   "metadata": {},
   "source": [
    "List of lines. Lines in nested lists (or tuples) denote doublets for which the combined line properties are calculated should result in the same behaviour as above"
   ]
  },
  {
   "cell_type": "code",
   "execution_count": 10,
   "id": "dfeb7a5a-c4a4-40da-87fc-68e202a574ff",
   "metadata": {
    "tags": []
   },
   "outputs": [],
   "source": [
    "line_ids = ['H 1 4862.69A', 'O 3 4960.29A', 'O 3 5008.24A', ['O 3 4960.29A', 'O 3 5008.24A']]\n",
    "grid = Grid(grid_name, grid_dir=grid_dir, read_spectra=False, read_lines=line_ids)"
   ]
  },
  {
   "cell_type": "markdown",
   "id": "42519746-b556-4cab-8bb5-bea4f4a3ebaf",
   "metadata": {},
   "source": [
    "Define the parameters of the star formation and metal enrichment histories"
   ]
  },
  {
   "cell_type": "code",
   "execution_count": 11,
   "id": "fe3a267e-f686-4ecd-ac7a-d9099922ecca",
   "metadata": {
    "tags": []
   },
   "outputs": [],
   "source": [
    "sfh_p = {'duration': 100 * Myr}\n",
    "Z_p = {'log10Z': -2.0}  # can also use linear metallicity e.g. {'Z': 0.01}"
   ]
  },
  {
   "cell_type": "markdown",
   "id": "c8bb50d8-3544-4bbf-8fdf-8398d90965ce",
   "metadata": {
    "tags": []
   },
   "source": [
    "Define the functional form of the star formation and metal enrichment histories"
   ]
  },
  {
   "cell_type": "code",
   "execution_count": 13,
   "id": "fe9ef1a5-625a-4c06-a57c-4836596b9e2a",
   "metadata": {
    "tags": []
   },
   "outputs": [],
   "source": [
    "sfh = SFH.Constant(sfh_p)  # constant star formation\n",
    "Zh = ZH.deltaConstant(Z_p)  # constant metallicity"
   ]
  },
  {
   "cell_type": "markdown",
   "id": "d3d6eeed-71b9-4a16-ae50-7953580fcee4",
   "metadata": {},
   "source": [
    "Get the 2D star formation and metal enrichment history for the given SPS grid. This is (age, Z)."
   ]
  },
  {
   "cell_type": "code",
   "execution_count": 14,
   "id": "07233d0e-4e7c-4d72-9af3-47c3490fe57f",
   "metadata": {
    "tags": []
   },
   "outputs": [],
   "source": [
    "sfzh = generate_sfzh(grid.log10ages, grid.metallicities, sfh, Zh)"
   ]
  },
  {
   "cell_type": "markdown",
   "id": "34b76fa5-561f-4174-8856-85c453ad0874",
   "metadata": {},
   "source": [
    "Create the Galaxy object"
   ]
  },
  {
   "cell_type": "code",
   "execution_count": 16,
   "id": "53639568-32f9-4a9b-8dc8-5a3553070264",
   "metadata": {
    "tags": []
   },
   "outputs": [],
   "source": [
    "galaxy = Galaxy(sfzh)"
   ]
  },
  {
   "cell_type": "markdown",
   "id": "3adee242-5d93-4cf0-b5da-bce2080364f4",
   "metadata": {},
   "source": [
    "Print a summary of the Galaxy object"
   ]
  },
  {
   "cell_type": "code",
   "execution_count": 18,
   "id": "e746acfb-e79b-451d-84ac-6c95662d8ee1",
   "metadata": {
    "tags": []
   },
   "outputs": [
    {
     "name": "stdout",
     "output_type": "stream",
     "text": [
      "----------\n",
      "SUMMARY OF PARAMETRIC GALAXY\n",
      "⠀⠀⠀⠀⠀⠀⠀⠀⠀⠀⢀⣀⣀⡀⠒⠒⠦⣄⡀⠀⠀⠀⠀⠀⠀⠀\n",
      "        ⠀⠀⠀⠀⠀⢀⣤⣶⡾⠿⠿⠿⠿⣿⣿⣶⣦⣄⠙⠷⣤⡀⠀⠀⠀⠀\n",
      "        ⠀⠀⠀⣠⡾⠛⠉⠀⠀⠀⠀⠀⠀⠀⠈⠙⠻⣿⣷⣄⠘⢿⡄⠀⠀⠀\n",
      "        ⠀⢀⡾⠋⠀⠀⠀⠀⠀⠀⠀⠀⠐⠂⠠⢄⡀⠈⢿⣿⣧⠈⢿⡄⠀⠀\n",
      "        ⢀⠏⠀⠀⠀⢀⠄⣀⣴⣾⠿⠛⠛⠛⠷⣦⡙⢦⠀⢻⣿⡆⠘⡇⠀⠀\n",
      "        ---+-+-+-+-+-+-+-+-+-+-+-+---\n",
      "           |S|Y|N|T|H|E|S|I|Z|E|R|\n",
      "        ---+-+-+-+-+-+-+-+-+-+-+-+---\n",
      "        ⠀⠀⢸⡇⠸⣿⣷⠀⢳⡈⢿⣦⣀⣀⣀⣠⣴⣾⠟⠁⠀⠀⠀⠀⢀⡎\n",
      "        ⠀⠀⠘⣷⠀⢻⣿⣧⠀⠙⠢⠌⢉⣛⠛⠋⠉⠀⠀⠀⠀⠀⠀⣠⠎⠀\n",
      "        ⠀⠀⠀⠹⣧⡀⠻⣿⣷⣄⡀⠀⠀⠀⠀⠀⠀⠀⠀⠀⢀⣠⡾⠃⠀⠀\n",
      "        ⠀⠀⠀⠀⠈⠻⣤⡈⠻⢿⣿⣷⣦⣤⣤⣤⣤⣤⣴⡾⠛⠉⠀⠀⠀⠀\n",
      "        ⠀⠀⠀⠀⠀⠀⠈⠙⠶⢤⣈⣉⠛⠛⠛⠛⠋⠉⠀⠀⠀⠀⠀⠀⠀⠀\n",
      "        ⠀⠀⠀⠀⠀⠀⠀⠀⠀⠀⠀⠀⠉⠉⠉⠁⠀⠀⠀⠀⠀⠀⠀⠀⠀⠀\n",
      "<class 'synthesizer.galaxy.parametric.ParametricGalaxy'>\n",
      "log10(stellar mass formed/Msol): 0.0\n",
      "available SEDs: []\n",
      "available lines: []\n",
      "available images: []\n",
      "----------\n",
      "\n"
     ]
    }
   ],
   "source": [
    "print(galaxy)"
   ]
  },
  {
   "cell_type": "markdown",
   "id": "2d48762b-8476-43c5-b3e2-ae8069d2a27d",
   "metadata": {},
   "source": [
    "Create the Lines dictionary which contains line objects"
   ]
  },
  {
   "cell_type": "code",
   "execution_count": 20,
   "id": "e1824e42-2ab8-4337-8816-c0ba170a20cf",
   "metadata": {
    "tags": []
   },
   "outputs": [
    {
     "name": "stdout",
     "output_type": "stream",
     "text": [
      "--------------------------------------------------\n",
      "INTRINSIC\n",
      "----------\n",
      "SUMMARY OF H 1 4862.69A\n",
      "wavelength: 4862.7 Å\n",
      "log10(luminosity/erg/s): 32.88\n",
      "equivalent width: 72 Å\n",
      "----------\n",
      "----------\n",
      "SUMMARY OF O 3 4960.29A\n",
      "wavelength: 4960.3 Å\n",
      "log10(luminosity/erg/s): 32.91\n",
      "equivalent width: 66 Å\n",
      "----------\n",
      "----------\n",
      "SUMMARY OF O 3 5008.24A\n",
      "wavelength: 5008.2 Å\n",
      "log10(luminosity/erg/s): 33.39\n",
      "equivalent width: 204 Å\n",
      "----------\n",
      "----------\n",
      "SUMMARY OF O 3 4960.29A,O 3 5008.24A\n",
      "wavelength: 4984.3 Å\n",
      "log10(luminosity/erg/s): 33.51\n",
      "equivalent width: 268 Å\n",
      "----------\n"
     ]
    }
   ],
   "source": [
    "lines = galaxy.get_intrinsic_line(grid, line_ids)\n",
    "print('-'*50)\n",
    "print('INTRINSIC')\n",
    "for line_id, line in lines.items():\n",
    "    print(line)"
   ]
  },
  {
   "cell_type": "markdown",
   "id": "a25c5326-ca24-4a19-83cc-d065f412a4a7",
   "metadata": {},
   "source": [
    "Calculate attenuated line properties assuming uniform dust (should leave EW unchanged)"
   ]
  },
  {
   "cell_type": "code",
   "execution_count": 21,
   "id": "3626aeb4-7cb0-4c9c-9b2f-fe7bf6ce77b4",
   "metadata": {
    "tags": []
   },
   "outputs": [
    {
     "name": "stdout",
     "output_type": "stream",
     "text": [
      "--------------------------------------------------\n",
      "SCREEN\n",
      "----------\n",
      "SUMMARY OF H 1 4862.69A\n",
      "wavelength: 4862.7 Å\n",
      "log10(luminosity/erg/s): 32.63\n",
      "equivalent width: 72 Å\n",
      "----------\n",
      "----------\n",
      "SUMMARY OF O 3 4960.29A\n",
      "wavelength: 4960.3 Å\n",
      "log10(luminosity/erg/s): 32.67\n",
      "equivalent width: 66 Å\n",
      "----------\n",
      "----------\n",
      "SUMMARY OF O 3 5008.24A\n",
      "wavelength: 5008.2 Å\n",
      "log10(luminosity/erg/s): 33.15\n",
      "equivalent width: 204 Å\n",
      "----------\n",
      "----------\n",
      "SUMMARY OF O 3 4960.29A,O 3 5008.24A\n",
      "wavelength: 4984.3 Å\n",
      "log10(luminosity/erg/s): 33.27\n",
      "equivalent width: 268 Å\n",
      "----------\n"
     ]
    }
   ],
   "source": [
    "lines = galaxy.get_screen_line(grid, line_ids, tauV=0.5)\n",
    "print('-'*50)\n",
    "print('SCREEN')\n",
    "for line_id, line in lines.items():\n",
    "    print(line)"
   ]
  },
  {
   "cell_type": "markdown",
   "id": "ed85ca51-5bad-4645-ad61-06ec12f8ec26",
   "metadata": {},
   "source": [
    "Calculate attenuated line properties assuming different dust affecting stellar and nebular components"
   ]
  },
  {
   "cell_type": "code",
   "execution_count": 22,
   "id": "bef0f43a-1bb9-4afe-89be-c0516aff0cd0",
   "metadata": {
    "tags": []
   },
   "outputs": [
    {
     "name": "stdout",
     "output_type": "stream",
     "text": [
      "--------------------------------------------------\n",
      "ATTENUATED\n",
      "----------\n",
      "SUMMARY OF H 1 4862.69A\n",
      "wavelength: 4862.7 Å\n",
      "log10(luminosity/erg/s): 32.63\n",
      "equivalent width: 46 Å\n",
      "----------\n",
      "----------\n",
      "SUMMARY OF O 3 4960.29A\n",
      "wavelength: 4960.3 Å\n",
      "log10(luminosity/erg/s): 32.67\n",
      "equivalent width: 43 Å\n",
      "----------\n",
      "----------\n",
      "SUMMARY OF O 3 5008.24A\n",
      "wavelength: 5008.2 Å\n",
      "log10(luminosity/erg/s): 33.15\n",
      "equivalent width: 132 Å\n",
      "----------\n",
      "----------\n",
      "SUMMARY OF O 3 4960.29A,O 3 5008.24A\n",
      "wavelength: 4984.3 Å\n",
      "log10(luminosity/erg/s): 33.27\n",
      "equivalent width: 173 Å\n",
      "----------\n"
     ]
    }
   ],
   "source": [
    "lines = galaxy.get_attenuated_line(grid, line_ids, tauV_stellar=0.1, tauV_nebular=0.5)\n",
    "print('-'*50)\n",
    "print('ATTENUATED')\n",
    "for line_id, line in lines.items():\n",
    "    print(line)"
   ]
  },
  {
   "cell_type": "code",
   "execution_count": null,
   "id": "010dd79c-cba8-446b-a5f2-72b6b4b10d9c",
   "metadata": {},
   "outputs": [],
   "source": []
  }
 ],
 "metadata": {
  "kernelspec": {
   "display_name": "Python 3 (ipykernel)",
   "language": "python",
   "name": "python3"
  },
  "language_info": {
   "codemirror_mode": {
    "name": "ipython",
    "version": 3
   },
   "file_extension": ".py",
   "mimetype": "text/x-python",
   "name": "python",
   "nbconvert_exporter": "python",
   "pygments_lexer": "ipython3",
   "version": "3.9.5"
  }
 },
 "nbformat": 4,
 "nbformat_minor": 5
}
