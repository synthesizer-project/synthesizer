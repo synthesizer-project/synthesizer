{
 "cells": [
  {
   "attachments": {},
   "cell_type": "markdown",
   "metadata": {},
   "source": [
    "# Making a Parametric Stellar Population\n",
    "\n",
    "The core element of the parametric modelling in `Synthesizer` is the `parametric.Stars` object. This contains everything necessary to describe a stellar population including:\n",
    "- A 2D SFZH grid containg the stellar mass formed in stellar age and metallicity bins.\n",
    "- A `Morphology` object describing it's distribution (optional but required for imaging).\n",
    "- The axes of the SFZH grid.\n",
    "- The totla initial stellar mass.\n",
    "And if calculated by the user (see the parametric `Sed` [docs](generate_sed.ipynb)):\n",
    "- The stellar spectra.\n",
    "- Line luminosities.\n",
    "\n",
    "There are a number of different methods to define a parametric stellar population (from here on a `Stars` object). In what follows we will focus on user defined values/arrays but note that each different method could instead use simulated data (e.g. from Semi Analytic Models) rather than user defined values.\n",
    "\n",
    "The possible ways of defining a `Stars` object are (the age and metallicity axis of the SFZH must always be supplied):\n",
    "- Explictly providing the SFZH grid itself. Note that this will mean all other definitions below are ignored.\n",
    "- Providing singular age and metallicity values to define an \"instantaneous\" SFZH, i.e. one where all the stellar mass is in a single age and metallicity bin.\n",
    "- Providing arrays which contain the SFH and metallicity distribution in terms of stellar mass formed.\n",
    "- Providing SFH and metallcity distribution functions (from `parametric.sf_hist` and `parametric.metal_hist`). These will be used internal to compute the arrays from the previous point.\n",
    "- Any combination of the above.\n",
    "\n",
    "Below we simply import some packages and objects we'll need."
   ]
  },
  {
   "cell_type": "code",
   "execution_count": null,
   "metadata": {},
   "outputs": [],
   "source": [
    "import numpy as np\n",
    "import matplotlib.pyplot as plt\n",
    "from unyt import yr, Myr\n",
    "from synthesizer.parametric import SFH, ZH, Stars"
   ]
  },
  {
   "cell_type": "markdown",
   "metadata": {},
   "source": [
    "## Defining an instantaneous SFZH\n",
    "\n",
    "To define an instantaneous SFZH we need only to provide the age and metallicity of the SFZH bin, alongside the SFZH axis arrays and the total initial mass of the `Stars` object. Note that the `log10ages` and `log10metallicites`/`metallicities` will likely come from a `Grid` object in most workflows (see the `Grid` [docs](../grids/grids_example.ipynb))."
   ]
  },
  {
   "cell_type": "code",
   "execution_count": null,
   "metadata": {},
   "outputs": [],
   "source": [
    "# Create the SFZH axis arrays\n",
    "log10ages = np.arange(6., 10.5, 0.1) # log10(age/yr)\n",
    "log10metallicities = np.arange(-5., -1.5, 0.25)\n",
    "metallicities = 10**log10metallicities\n",
    "\n",
    "# Get the instantaneous Stars\n",
    "inst_stars = Stars(log10ages, metallicities, instant_sf=100 * Myr, instant_metallicity=10**-3, initial_mass=10 ** 9)"
   ]
  },
  {
   "cell_type": "markdown",
   "metadata": {},
   "source": [
    "To see the created SFZH you can print some basic statistics by printing the `Stars` object."
   ]
  },
  {
   "cell_type": "code",
   "execution_count": null,
   "metadata": {},
   "outputs": [],
   "source": [
    "print(inst_stars)"
   ]
  },
  {
   "cell_type": "markdown",
   "metadata": {},
   "source": [
    "Or to prove the SFZH you can plot it using the provided helper function."
   ]
  },
  {
   "cell_type": "code",
   "execution_count": null,
   "metadata": {},
   "outputs": [],
   "source": [
    "fig, ax = inst_stars.plot_sfzh(show=True)"
   ]
  },
  {
   "cell_type": "markdown",
   "metadata": {},
   "source": [
    "## Defining SFZH from arrays\n",
    "\n",
    "Of course, most of the time you won't want an instantaneous SFZH but instead a distribution. One way to achieve this is to pass a arrays describing the SFH and metallicity distribution. This particularly useful if you have data explictly describing the ages and metallicities of a stellar population. However, here we'll demonstrate this with entirely unphysical arrays."
   ]
  },
  {
   "cell_type": "code",
   "execution_count": null,
   "metadata": {},
   "outputs": [],
   "source": [
    "# Create arrays for SFH and ZH\n",
    "sf_hist = np.zeros_like(log10ages)\n",
    "metal_dist = np.zeros_like(metallicities)\n",
    "sf_hist[10:15] = 1\n",
    "sf_hist[15:20] = 0.5\n",
    "metal_dist[5:6] = 1\n",
    "metal_dist[6:8] = 0.5\n",
    "\n",
    "# Get the Stars\n",
    "arr_stars = Stars(log10ages, metallicities, sf_hist=sf_hist, metal_hist=metal_dist, initial_mass=10 ** 9)\n",
    "print(arr_stars)\n",
    "fig, ax = arr_stars.plot_sfzh(show=True)"
   ]
  },
  {
   "cell_type": "markdown",
   "metadata": {},
   "source": [
    "## Defining SFZH using functions\n",
    "\n",
    "You won't always have explict arrays to describe the age and metallicity distribtions. For these situations `Synthesizer` provides a suite of functions to describe the SFH and metallicity distribution. \n",
    "\n",
    "SFH parametrisations can be found in the `SFH` module, while metallicity distribution parametrisations can be found in the `ZH` module. To see a full list of available parametrisations just print the ."
   ]
  },
  {
   "cell_type": "code",
   "execution_count": null,
   "metadata": {},
   "outputs": [],
   "source": [
    "print(SFH.parametrisations)\n",
    "print(ZH.parametrisations)"
   ]
  },
  {
   "cell_type": "markdown",
   "metadata": {},
   "source": [
    "To use one of these parametrisations you have to first define each parametrisation and then pass them to the `Stars` object at instantiation. Below we demonstrate a few examples using different parametrisations.\n",
    "\n",
    "### Constant SFH and metallicity delta function"
   ]
  },
  {
   "cell_type": "code",
   "execution_count": null,
   "metadata": {},
   "outputs": [],
   "source": [
    "# Define a delta function for metallicity\n",
    "Z_p = {'log10Z': -2.5}  # can also use linear metallicity e.g. {'Z': 0.01}\n",
    "Zh = ZH.deltaConstant(Z_p)\n",
    "print(Zh)\n",
    "\n",
    "# Define a constant SFH\n",
    "sfh_p = {'duration': 100 * Myr}\n",
    "sfh = SFH.Constant(sfh_p) \n",
    "print(sfh)\n",
    "\n",
    "# Create the Stars object\n",
    "const_stars = Stars(log10ages, metallicities, sf_hist_func=sfh, metal_hist_func=Zh, initial_mass=10**9)\n",
    "print(const_stars)\n",
    "fig, ax = const_stars.plot_sfzh(show=True)"
   ]
  },
  {
   "attachments": {},
   "cell_type": "markdown",
   "metadata": {},
   "source": [
    "### Truncated exponential SFH and metallicity delta function"
   ]
  },
  {
   "cell_type": "code",
   "execution_count": null,
   "metadata": {},
   "outputs": [],
   "source": [
    "# Define a delta function for metallicity\n",
    "Z_p = {'Z': 0.01}\n",
    "Zh = ZH.deltaConstant(Z_p)\n",
    "print(Zh)  # print a summary\n",
    "\n",
    "# Define an exponential SFH\n",
    "sfh_p = {'tau': 100 * Myr, 'max_age': 200 * Myr}\n",
    "sfh = SFH.TruncatedExponential(sfh_p)\n",
    "print(sfh)  # print summary\n",
    "\n",
    "# Create the Stars object\n",
    "exp_stars = Stars(log10ages, metallicities, sf_hist_func=sfh, metal_hist_func=Zh, initial_mass=10**9)\n",
    "print(exp_stars)\n",
    "fig, ax = exp_stars.plot_sfzh(show=True)"
   ]
  },
  {
   "cell_type": "markdown",
   "metadata": {},
   "source": [
    "### Log normal SFH and metallicity delta function"
   ]
  },
  {
   "cell_type": "code",
   "execution_count": null,
   "metadata": {},
   "outputs": [],
   "source": [
    "# Define a delta function for metallicity\n",
    "Z_p = {'log10Z': -3}\n",
    "Zh = ZH.deltaConstant(Z_p)\n",
    "print(Zh)\n",
    "\n",
    "# Define an exponential SFH\n",
    "sfh_p = {'tau': 10, 'max_age': 500 * Myr, 'peak_age': 100 * Myr}\n",
    "sfh = SFH.LogNormal(sfh_p)\n",
    "print(sfh)\n",
    "\n",
    "# Create the Stars object\n",
    "logn_stars = Stars(log10ages, metallicities, sf_hist_func=sfh, metal_hist_func=Zh, initial_mass=10**9)\n",
    "print(logn_stars)\n",
    "fig, ax = logn_stars.plot_sfzh(show=True)"
   ]
  },
  {
   "cell_type": "markdown",
   "metadata": {},
   "source": [
    "### Defining your own parametrisations\n",
    "\n",
    "If `Synthesizer` doesn't already include a parametrisation you need you can add a custom parametrisation by defining a new class that inherits from the \"`Common`\" parent class. These custom classes must implment a `sfr_` method for SFHs and `metallicity` and `log10metallicity` methods for metallicity distributions.\n",
    "\n",
    "Below we demonstrate a custom implementation of (an admittedly pointless) set of \"scaled\" SFH and metallicity distribution functions for demonstration purposes."
   ]
  },
  {
   "cell_type": "code",
   "execution_count": null,
   "metadata": {},
   "outputs": [],
   "source": [
    "class ScaledConstantZ(ZH.Common):\n",
    "    \"\"\"\n",
    "    Return a single scaled metallicity as a function of age.\n",
    "\n",
    "    Attributes:\n",
    "        name (string)\n",
    "        dist (string)\n",
    "        metallicity_ (float)\n",
    "        log10metallicty_ (float)\n",
    "        scaling (float)\n",
    "    \"\"\"\n",
    "\n",
    "    def __init__(self, metallicity=None, log10metallicity=None, scaling=1):\n",
    "        \"\"\"\n",
    "        \"\"\"\n",
    "        self.name = \"Constant\"\n",
    "        self.dist = \"delta\"  # set distribution type\n",
    "        self.scaling = scaling\n",
    "        if metallicity is not None:\n",
    "            self.metallicity_ = metallicity\n",
    "            self.log10metallicity_ = np.log10(self.metallicity_)\n",
    "        else:\n",
    "            self.log10metallicity_ = log10metallicity\n",
    "            self.metallicity_ = 10 ** self.log10metallicity_\n",
    "\n",
    "    def metallicity(self, *args):\n",
    "        return self.metallicity_ * self.scaling\n",
    "\n",
    "    def log10metallicity(self, *args):\n",
    "        return np.log10(10 ** self.log10metallicity_ * scaling)\n",
    "\n",
    "class ScaledConstantSFH(SFH.Common):\n",
    "    \"\"\"\n",
    "    Return a constant star formation history scaled by a scaling factor.\n",
    "        sfr = 1; t<=duration\n",
    "        sfr = 0; t>duration\n",
    "    \"\"\"\n",
    "\n",
    "    def __init__(self, duration, scaling=1):\n",
    "        self.name = \"Constant\"\n",
    "        self.duration = duration.to(yr).value\n",
    "        self.scaling = scaling\n",
    "\n",
    "    def sfr_(self, age):\n",
    "        if age <= self.duration:\n",
    "            return 1.0 * self.scaling\n",
    "        else:\n",
    "            return 0.0\n",
    "\n",
    "# Define a scaled delta function for metallicity\n",
    "Zh = ScaledConstantZ(metallicity=0.05, scaling=1)\n",
    "print(Zh)\n",
    "\n",
    "# Define an exponential SFH\n",
    "sfh = ScaledConstantSFH(duration=500 * Myr, scaling=1)\n",
    "print(sfh)\n",
    "\n",
    "# Create the Stars object\n",
    "custom_stars = Stars(log10ages, metallicities, sf_hist_func=sfh, metal_hist_func=Zh, initial_mass=10**9)\n",
    "print(custom_stars)\n",
    "fig, ax = custom_stars.plot_sfzh(show=True)\n",
    "\n"
   ]
  },
  {
   "attachments": {},
   "cell_type": "markdown",
   "metadata": {},
   "source": [
    "## Combining `Stars`\n",
    "\n",
    "We can also combine individual `Stars` objects together to produce more complicated star formation and metal enrichment histories by simply adding them."
   ]
  },
  {
   "cell_type": "code",
   "execution_count": null,
   "metadata": {},
   "outputs": [],
   "source": [
    "\n",
    "combined = arr_stars + const_stars + exp_stars + logn_stars + custom_stars\n",
    "print(combined)\n",
    "fig, ax = combined.plot_sfzh()"
   ]
  }
 ],
 "metadata": {
  "kernelspec": {
   "display_name": "synthesizer-env",
   "language": "python",
   "name": "python3"
  },
  "language_info": {
   "codemirror_mode": {
    "name": "ipython",
    "version": 3
   },
   "file_extension": ".py",
   "mimetype": "text/x-python",
   "name": "python",
   "nbconvert_exporter": "python",
   "pygments_lexer": "ipython3",
   "version": "3.10.4"
  }
 },
 "nbformat": 4,
 "nbformat_minor": 2
}
