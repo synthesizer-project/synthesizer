{
 "cells": [
  {
   "cell_type": "markdown",
   "id": "ba211680-a2c0-4f33-a431-4ff581c251b5",
   "metadata": {},
   "source": [
    "# Generate composite galaxy\n",
    "\n",
    "Example for generating a composite galaxy\n",
    "photometry. This example will:\n",
    "- build two parametric \"galaxies\" (see make_sfzh)\n",
    "- calculate spectral luminosity density of each\n",
    "TODO: add image creation"
   ]
  },
  {
   "cell_type": "code",
   "execution_count": 1,
   "id": "2a773383-be4c-49d8-9baf-a04d84dba68b",
   "metadata": {
    "tags": []
   },
   "outputs": [],
   "source": [
    "from synthesizer.grid import Grid\n",
    "from synthesizer.parametric.morphology import Sersic2D\n",
    "from synthesizer.parametric.sfzh import SFH, ZH, generate_sfzh, generate_instant_sfzh\n",
    "from synthesizer.galaxy import ParametricGalaxy as Galaxy\n",
    "from synthesizer.filters import UVJ\n",
    "from unyt import yr, Myr, kpc, mas\n",
    "import matplotlib.pyplot as plt\n",
    "import numpy as np"
   ]
  },
  {
   "cell_type": "code",
   "execution_count": 3,
   "id": "fa6d1c47-e456-43c4-ae77-e3c8811b636d",
   "metadata": {
    "tags": []
   },
   "outputs": [],
   "source": [
    "resolution = 0.1 * kpc\n",
    "npix = 25\n",
    "\n",
    "grid_dir = '../../../tests/test_grid'\n",
    "grid_name = 'test_grid'\n",
    "grid = Grid(grid_name, grid_dir=grid_dir)\n",
    "\n",
    "filter_collection = UVJ(new_lam=grid.lam)"
   ]
  },
  {
   "cell_type": "markdown",
   "id": "86fd926d-fe81-4b44-9b18-56b0e05f2fc7",
   "metadata": {},
   "source": [
    "## Disk\n",
    "\n",
    "Define morphology"
   ]
  },
  {
   "cell_type": "code",
   "execution_count": 5,
   "id": "d9ccb893-b4e6-40cc-9559-48aaed45bf6f",
   "metadata": {
    "tags": []
   },
   "outputs": [],
   "source": [
    "morphology_parameters = {'r_eff': 1. * kpc, 'n': 1., 'ellip': 0.5, 'theta': 35.}\n",
    "morph = Sersic2D(morphology_parameters)"
   ]
  },
  {
   "cell_type": "markdown",
   "id": "0315f5ba-8b69-4c11-bf9d-ea1acb28c741",
   "metadata": {},
   "source": [
    "Define the parameters of the star formation and metal enrichment histories"
   ]
  },
  {
   "cell_type": "code",
   "execution_count": 7,
   "id": "93205536-a548-474c-a898-77b6c5b5d121",
   "metadata": {
    "tags": []
   },
   "outputs": [],
   "source": [
    "sfh_p = {'duration': 10 * Myr}\n",
    "Z_p = {'log10Z': -2.0}  # can also use linear metallicity e.g. {'Z': 0.01}\n",
    "stellar_mass = 1E8"
   ]
  },
  {
   "cell_type": "markdown",
   "id": "36bb140c-76a9-48aa-b4a5-cbb21e182474",
   "metadata": {},
   "source": [
    "Define the functional form of the star formation and metal enrichment histories"
   ]
  },
  {
   "cell_type": "code",
   "execution_count": 8,
   "id": "d22e8b5b-38a3-4b51-b4ef-301c1cf332f5",
   "metadata": {
    "tags": []
   },
   "outputs": [],
   "source": [
    "sfh = SFH.Constant(sfh_p)  # constant star formation\n",
    "Zh = ZH.deltaConstant(Z_p)  # constant metallicity"
   ]
  },
  {
   "cell_type": "markdown",
   "id": "a78f4ece-be0b-47c4-b9ee-3c6279dd6966",
   "metadata": {
    "tags": []
   },
   "source": [
    "Get the 2D star formation and metal enrichment history for the given SPS grid. This is (age, Z)."
   ]
  },
  {
   "cell_type": "code",
   "execution_count": null,
   "id": "3908a4b6-7d7b-486c-972f-6ba9524be96e",
   "metadata": {},
   "outputs": [],
   "source": [
    "sfzh = generate_sfzh(grid.log10ages, grid.metallicities, sfh, Zh, stellar_mass=stellar_mass)"
   ]
  },
  {
   "cell_type": "markdown",
   "id": "5e835351-ed22-41d7-9c97-ea2824ec10eb",
   "metadata": {},
   "source": [
    "Initialise Galaxy object"
   ]
  },
  {
   "cell_type": "code",
   "execution_count": 10,
   "id": "4df2837c-42be-40f2-b14e-17ec4e440a91",
   "metadata": {
    "tags": []
   },
   "outputs": [],
   "source": [
    "disk = Galaxy(morph=morph, sfzh=sfzh)"
   ]
  },
  {
   "cell_type": "markdown",
   "id": "9b6e0791-e6d9-4221-a192-986f43a72973",
   "metadata": {},
   "source": [
    "Generate stellar spectra"
   ]
  },
  {
   "cell_type": "code",
   "execution_count": 12,
   "id": "99b78d56-6fd4-45d6-ac9b-8ad4cddef88b",
   "metadata": {
    "tags": []
   },
   "outputs": [
    {
     "data": {
      "text/plain": [
       "<synthesizer.sed.Sed at 0x7fee5c44fd00>"
      ]
     },
     "execution_count": 12,
     "metadata": {},
     "output_type": "execute_result"
    }
   ],
   "source": [
    "disk.get_stellar_spectra(grid)"
   ]
  },
  {
   "cell_type": "markdown",
   "id": "17b6e5b7-1b69-4339-950d-ded8f5fe4ee6",
   "metadata": {},
   "source": [
    "Generate broadband luminosities"
   ]
  },
  {
   "cell_type": "code",
   "execution_count": 15,
   "id": "d91289dd-43b7-4e35-bb77-95274052785a",
   "metadata": {
    "tags": []
   },
   "outputs": [],
   "source": [
    "sed = disk.spectra['stellar'].get_broadband_luminosities(filter_collection)"
   ]
  },
  {
   "cell_type": "markdown",
   "id": "ff781c5b-762d-4dca-b5c4-3dfa80936b32",
   "metadata": {},
   "source": [
    "Make images"
   ]
  },
  {
   "cell_type": "code",
   "execution_count": 19,
   "id": "43778909-88c2-4dcb-b82d-f4cbd6c72ec7",
   "metadata": {
    "tags": []
   },
   "outputs": [
    {
     "ename": "TypeError",
     "evalue": "object of type 'NoneType' has no len()",
     "output_type": "error",
     "traceback": [
      "\u001b[0;31m---------------------------------------------------------------------------\u001b[0m",
      "\u001b[0;31mTypeError\u001b[0m                                 Traceback (most recent call last)",
      "Cell \u001b[0;32mIn[19], line 1\u001b[0m\n\u001b[0;32m----> 1\u001b[0m images \u001b[38;5;241m=\u001b[39m \u001b[43mdisk\u001b[49m\u001b[38;5;241;43m.\u001b[39;49m\u001b[43mmake_images\u001b[49m\u001b[43m(\u001b[49m\u001b[38;5;124;43m'\u001b[39;49m\u001b[38;5;124;43mstellar\u001b[39;49m\u001b[38;5;124;43m'\u001b[39;49m\u001b[43m,\u001b[49m\u001b[43m \u001b[49m\u001b[43mresolution\u001b[49m\u001b[43m,\u001b[49m\u001b[43m \u001b[49m\u001b[43mnpix\u001b[49m\u001b[38;5;241;43m=\u001b[39;49m\u001b[43mnpix\u001b[49m\u001b[43m)\u001b[49m\n",
      "File \u001b[0;32m~/code/synthesizer/synth_venv/lib/python3.9/site-packages/synthesizer-0.1.0-py3.9-linux-x86_64.egg/synthesizer/galaxy/parametric.py:497\u001b[0m, in \u001b[0;36mParametricGalaxy.make_images\u001b[0;34m(self, spectra_type, resolution, npix, fov, update, rest_frame)\u001b[0m\n\u001b[1;32m    495\u001b[0m \u001b[38;5;28;01mdef\u001b[39;00m \u001b[38;5;21mmake_images\u001b[39m(\u001b[38;5;28mself\u001b[39m, spectra_type, resolution, npix\u001b[38;5;241m=\u001b[39m\u001b[38;5;28;01mNone\u001b[39;00m, fov\u001b[38;5;241m=\u001b[39m\u001b[38;5;28;01mNone\u001b[39;00m, update\u001b[38;5;241m=\u001b[39m\u001b[38;5;28;01mTrue\u001b[39;00m, rest_frame\u001b[38;5;241m=\u001b[39m\u001b[38;5;28;01mTrue\u001b[39;00m):\n\u001b[0;32m--> 497\u001b[0m     images \u001b[38;5;241m=\u001b[39m \u001b[43mParametricImage\u001b[49m\u001b[43m(\u001b[49m\u001b[38;5;28;43mself\u001b[39;49m\u001b[38;5;241;43m.\u001b[39;49m\u001b[43mmorph\u001b[49m\u001b[43m,\u001b[49m\u001b[43m \u001b[49m\u001b[43mresolution\u001b[49m\u001b[43m,\u001b[49m\u001b[43m \u001b[49m\u001b[43mnpix\u001b[49m\u001b[38;5;241;43m=\u001b[39;49m\u001b[43mnpix\u001b[49m\u001b[43m,\u001b[49m\u001b[43m \u001b[49m\u001b[43mfov\u001b[49m\u001b[38;5;241;43m=\u001b[39;49m\u001b[43mfov\u001b[49m\u001b[43m,\u001b[49m\n\u001b[1;32m    498\u001b[0m \u001b[43m                             \u001b[49m\u001b[43msed\u001b[49m\u001b[38;5;241;43m=\u001b[39;49m\u001b[38;5;28;43mself\u001b[39;49m\u001b[38;5;241;43m.\u001b[39;49m\u001b[43mspectra\u001b[49m\u001b[43m[\u001b[49m\u001b[43mspectra_type\u001b[49m\u001b[43m]\u001b[49m\u001b[43m,\u001b[49m\u001b[43m \u001b[49m\u001b[43mrest_frame\u001b[49m\u001b[38;5;241;43m=\u001b[39;49m\u001b[43mrest_frame\u001b[49m\u001b[43m)\u001b[49m\n\u001b[1;32m    499\u001b[0m     images\u001b[38;5;241m.\u001b[39mcreate_images()\n\u001b[1;32m    501\u001b[0m     \u001b[38;5;28;01mif\u001b[39;00m update:\n",
      "File \u001b[0;32m~/code/synthesizer/synth_venv/lib/python3.9/site-packages/synthesizer-0.1.0-py3.9-linux-x86_64.egg/synthesizer/imaging/images.py:979\u001b[0m, in \u001b[0;36mParametricImage.__init__\u001b[0;34m(self, morphology, resolution, filters, sed, npix, fov, cosmo, redshift, rest_frame, psfs, depths, apertures, snrs, super_resolution_factor)\u001b[0m\n\u001b[1;32m    965\u001b[0m Image\u001b[38;5;241m.\u001b[39m\u001b[38;5;21m__init__\u001b[39m(\n\u001b[1;32m    966\u001b[0m     \u001b[38;5;28mself\u001b[39m,\n\u001b[1;32m    967\u001b[0m     resolution\u001b[38;5;241m=\u001b[39mresolution,\n\u001b[0;32m   (...)\u001b[0m\n\u001b[1;32m    975\u001b[0m     snrs\u001b[38;5;241m=\u001b[39msnrs,\n\u001b[1;32m    976\u001b[0m )\n\u001b[1;32m    978\u001b[0m \u001b[38;5;66;03m# If we have a list of filters make an IFU\u001b[39;00m\n\u001b[0;32m--> 979\u001b[0m \u001b[38;5;28;01mif\u001b[39;00m \u001b[38;5;28;43mlen\u001b[39;49m\u001b[43m(\u001b[49m\u001b[43mfilters\u001b[49m\u001b[43m)\u001b[49m \u001b[38;5;241m>\u001b[39m \u001b[38;5;241m0\u001b[39m:\n\u001b[1;32m    980\u001b[0m     \u001b[38;5;28mself\u001b[39m\u001b[38;5;241m.\u001b[39m_ifu_obj \u001b[38;5;241m=\u001b[39m ParametricSpectralCube(sed, resolution, npix, fov)\n\u001b[1;32m    982\u001b[0m \u001b[38;5;28mself\u001b[39m\u001b[38;5;241m.\u001b[39mrest_frame \u001b[38;5;241m=\u001b[39m rest_frame\n",
      "\u001b[0;31mTypeError\u001b[0m: object of type 'NoneType' has no len()"
     ]
    }
   ],
   "source": [
    "images = disk.make_images('stellar', resolution, npix=npix)"
   ]
  },
  {
   "cell_type": "code",
   "execution_count": 21,
   "id": "25c7f0a4-d1bd-452e-996c-6d713cd7a3bf",
   "metadata": {
    "tags": []
   },
   "outputs": [
    {
     "name": "stdout",
     "output_type": "stream",
     "text": [
      "----------\n",
      "SUMMARY OF PARAMETRIC GALAXY\n",
      "⠀⠀⠀⠀⠀⠀⠀⠀⠀⠀⢀⣀⣀⡀⠒⠒⠦⣄⡀⠀⠀⠀⠀⠀⠀⠀\n",
      "        ⠀⠀⠀⠀⠀⢀⣤⣶⡾⠿⠿⠿⠿⣿⣿⣶⣦⣄⠙⠷⣤⡀⠀⠀⠀⠀\n",
      "        ⠀⠀⠀⣠⡾⠛⠉⠀⠀⠀⠀⠀⠀⠀⠈⠙⠻⣿⣷⣄⠘⢿⡄⠀⠀⠀\n",
      "        ⠀⢀⡾⠋⠀⠀⠀⠀⠀⠀⠀⠀⠐⠂⠠⢄⡀⠈⢿⣿⣧⠈⢿⡄⠀⠀\n",
      "        ⢀⠏⠀⠀⠀⢀⠄⣀⣴⣾⠿⠛⠛⠛⠷⣦⡙⢦⠀⢻⣿⡆⠘⡇⠀⠀\n",
      "        ---+-+-+-+-+-+-+-+-+-+-+-+---\n",
      "           |S|Y|N|T|H|E|S|I|Z|E|R|\n",
      "        ---+-+-+-+-+-+-+-+-+-+-+-+---\n",
      "        ⠀⠀⢸⡇⠸⣿⣷⠀⢳⡈⢿⣦⣀⣀⣀⣠⣴⣾⠟⠁⠀⠀⠀⠀⢀⡎\n",
      "        ⠀⠀⠘⣷⠀⢻⣿⣧⠀⠙⠢⠌⢉⣛⠛⠋⠉⠀⠀⠀⠀⠀⠀⣠⠎⠀\n",
      "        ⠀⠀⠀⠹⣧⡀⠻⣿⣷⣄⡀⠀⠀⠀⠀⠀⠀⠀⠀⠀⢀⣠⡾⠃⠀⠀\n",
      "        ⠀⠀⠀⠀⠈⠻⣤⡈⠻⢿⣿⣷⣦⣤⣤⣤⣤⣤⣴⡾⠛⠉⠀⠀⠀⠀\n",
      "        ⠀⠀⠀⠀⠀⠀⠈⠙⠶⢤⣈⣉⠛⠛⠛⠛⠋⠉⠀⠀⠀⠀⠀⠀⠀⠀\n",
      "        ⠀⠀⠀⠀⠀⠀⠀⠀⠀⠀⠀⠀⠉⠉⠉⠁⠀⠀⠀⠀⠀⠀⠀⠀⠀⠀\n",
      "<class 'synthesizer.galaxy.parametric.ParametricGalaxy'>\n",
      "log10(stellar mass formed/Msol): 8.0\n",
      "available SEDs: ['stellar']\n",
      "available lines: []\n",
      "available images: []\n",
      "----------\n",
      "\n"
     ]
    }
   ],
   "source": [
    "print(disk)"
   ]
  },
  {
   "cell_type": "markdown",
   "id": "ee40720d-c096-4093-9f25-a44773c505c4",
   "metadata": {},
   "source": [
    "## Bulge"
   ]
  },
  {
   "cell_type": "code",
   "execution_count": 23,
   "id": "e6de3713-040b-4a34-a2df-c83c0c995e28",
   "metadata": {
    "tags": []
   },
   "outputs": [],
   "source": [
    "morphology_parameters = {'r_eff': 1. * kpc, 'n': 4.}\n",
    "morph = Sersic2D(morphology_parameters)"
   ]
  },
  {
   "cell_type": "markdown",
   "id": "7f121b4c-2ff2-4b1e-a061-a5b93dcd1ef4",
   "metadata": {},
   "source": [
    "Define the parameters of the star formation and metal enrichment histories"
   ]
  },
  {
   "cell_type": "code",
   "execution_count": 29,
   "id": "be1f5e64-3561-46df-82e2-c7d3dcc1fbf3",
   "metadata": {
    "tags": []
   },
   "outputs": [],
   "source": [
    "stellar_mass = 1E9\n",
    "sfzh = generate_instant_sfzh(\n",
    "    grid.log10ages, grid.metallicities, 10., 0.01, stellar_mass=stellar_mass)\n",
    "\n",
    "bulge = Galaxy(morph=morph, sfzh=sfzh)\n",
    "\n",
    "bulge.get_stellar_spectra(grid)\n",
    "\n",
    "sed = bulge.spectra['stellar'].get_broadband_luminosities(filter_collection)"
   ]
  },
  {
   "cell_type": "markdown",
   "id": "eea61e7f-0a43-4871-bf15-788b57b853b9",
   "metadata": {},
   "source": [
    "Make images"
   ]
  },
  {
   "cell_type": "code",
   "execution_count": 31,
   "id": "2f0c6ba9-b55b-49b2-bdd0-67cd0e602f05",
   "metadata": {
    "tags": []
   },
   "outputs": [
    {
     "ename": "TypeError",
     "evalue": "object of type 'NoneType' has no len()",
     "output_type": "error",
     "traceback": [
      "\u001b[0;31m---------------------------------------------------------------------------\u001b[0m",
      "\u001b[0;31mTypeError\u001b[0m                                 Traceback (most recent call last)",
      "Cell \u001b[0;32mIn[31], line 1\u001b[0m\n\u001b[0;32m----> 1\u001b[0m images \u001b[38;5;241m=\u001b[39m \u001b[43mbulge\u001b[49m\u001b[38;5;241;43m.\u001b[39;49m\u001b[43mmake_images\u001b[49m\u001b[43m(\u001b[49m\u001b[38;5;124;43m'\u001b[39;49m\u001b[38;5;124;43mstellar\u001b[39;49m\u001b[38;5;124;43m'\u001b[39;49m\u001b[43m,\u001b[49m\u001b[43m \u001b[49m\u001b[43mresolution\u001b[49m\u001b[43m,\u001b[49m\u001b[43m \u001b[49m\u001b[43mnpix\u001b[49m\u001b[38;5;241;43m=\u001b[39;49m\u001b[43mnpix\u001b[49m\u001b[43m)\u001b[49m\n",
      "File \u001b[0;32m~/code/synthesizer/synth_venv/lib/python3.9/site-packages/synthesizer-0.1.0-py3.9-linux-x86_64.egg/synthesizer/galaxy/parametric.py:497\u001b[0m, in \u001b[0;36mParametricGalaxy.make_images\u001b[0;34m(self, spectra_type, resolution, npix, fov, update, rest_frame)\u001b[0m\n\u001b[1;32m    495\u001b[0m \u001b[38;5;28;01mdef\u001b[39;00m \u001b[38;5;21mmake_images\u001b[39m(\u001b[38;5;28mself\u001b[39m, spectra_type, resolution, npix\u001b[38;5;241m=\u001b[39m\u001b[38;5;28;01mNone\u001b[39;00m, fov\u001b[38;5;241m=\u001b[39m\u001b[38;5;28;01mNone\u001b[39;00m, update\u001b[38;5;241m=\u001b[39m\u001b[38;5;28;01mTrue\u001b[39;00m, rest_frame\u001b[38;5;241m=\u001b[39m\u001b[38;5;28;01mTrue\u001b[39;00m):\n\u001b[0;32m--> 497\u001b[0m     images \u001b[38;5;241m=\u001b[39m \u001b[43mParametricImage\u001b[49m\u001b[43m(\u001b[49m\u001b[38;5;28;43mself\u001b[39;49m\u001b[38;5;241;43m.\u001b[39;49m\u001b[43mmorph\u001b[49m\u001b[43m,\u001b[49m\u001b[43m \u001b[49m\u001b[43mresolution\u001b[49m\u001b[43m,\u001b[49m\u001b[43m \u001b[49m\u001b[43mnpix\u001b[49m\u001b[38;5;241;43m=\u001b[39;49m\u001b[43mnpix\u001b[49m\u001b[43m,\u001b[49m\u001b[43m \u001b[49m\u001b[43mfov\u001b[49m\u001b[38;5;241;43m=\u001b[39;49m\u001b[43mfov\u001b[49m\u001b[43m,\u001b[49m\n\u001b[1;32m    498\u001b[0m \u001b[43m                             \u001b[49m\u001b[43msed\u001b[49m\u001b[38;5;241;43m=\u001b[39;49m\u001b[38;5;28;43mself\u001b[39;49m\u001b[38;5;241;43m.\u001b[39;49m\u001b[43mspectra\u001b[49m\u001b[43m[\u001b[49m\u001b[43mspectra_type\u001b[49m\u001b[43m]\u001b[49m\u001b[43m,\u001b[49m\u001b[43m \u001b[49m\u001b[43mrest_frame\u001b[49m\u001b[38;5;241;43m=\u001b[39;49m\u001b[43mrest_frame\u001b[49m\u001b[43m)\u001b[49m\n\u001b[1;32m    499\u001b[0m     images\u001b[38;5;241m.\u001b[39mcreate_images()\n\u001b[1;32m    501\u001b[0m     \u001b[38;5;28;01mif\u001b[39;00m update:\n",
      "File \u001b[0;32m~/code/synthesizer/synth_venv/lib/python3.9/site-packages/synthesizer-0.1.0-py3.9-linux-x86_64.egg/synthesizer/imaging/images.py:979\u001b[0m, in \u001b[0;36mParametricImage.__init__\u001b[0;34m(self, morphology, resolution, filters, sed, npix, fov, cosmo, redshift, rest_frame, psfs, depths, apertures, snrs, super_resolution_factor)\u001b[0m\n\u001b[1;32m    965\u001b[0m Image\u001b[38;5;241m.\u001b[39m\u001b[38;5;21m__init__\u001b[39m(\n\u001b[1;32m    966\u001b[0m     \u001b[38;5;28mself\u001b[39m,\n\u001b[1;32m    967\u001b[0m     resolution\u001b[38;5;241m=\u001b[39mresolution,\n\u001b[0;32m   (...)\u001b[0m\n\u001b[1;32m    975\u001b[0m     snrs\u001b[38;5;241m=\u001b[39msnrs,\n\u001b[1;32m    976\u001b[0m )\n\u001b[1;32m    978\u001b[0m \u001b[38;5;66;03m# If we have a list of filters make an IFU\u001b[39;00m\n\u001b[0;32m--> 979\u001b[0m \u001b[38;5;28;01mif\u001b[39;00m \u001b[38;5;28;43mlen\u001b[39;49m\u001b[43m(\u001b[49m\u001b[43mfilters\u001b[49m\u001b[43m)\u001b[49m \u001b[38;5;241m>\u001b[39m \u001b[38;5;241m0\u001b[39m:\n\u001b[1;32m    980\u001b[0m     \u001b[38;5;28mself\u001b[39m\u001b[38;5;241m.\u001b[39m_ifu_obj \u001b[38;5;241m=\u001b[39m ParametricSpectralCube(sed, resolution, npix, fov)\n\u001b[1;32m    982\u001b[0m \u001b[38;5;28mself\u001b[39m\u001b[38;5;241m.\u001b[39mrest_frame \u001b[38;5;241m=\u001b[39m rest_frame\n",
      "\u001b[0;31mTypeError\u001b[0m: object of type 'NoneType' has no len()"
     ]
    }
   ],
   "source": [
    "images = bulge.make_images('stellar', resolution, npix=npix)"
   ]
  },
  {
   "cell_type": "code",
   "execution_count": 32,
   "id": "49d1e738-8598-419a-aa03-1123b0e79351",
   "metadata": {
    "tags": []
   },
   "outputs": [
    {
     "name": "stdout",
     "output_type": "stream",
     "text": [
      "----------\n",
      "SUMMARY OF PARAMETRIC GALAXY\n",
      "⠀⠀⠀⠀⠀⠀⠀⠀⠀⠀⢀⣀⣀⡀⠒⠒⠦⣄⡀⠀⠀⠀⠀⠀⠀⠀\n",
      "        ⠀⠀⠀⠀⠀⢀⣤⣶⡾⠿⠿⠿⠿⣿⣿⣶⣦⣄⠙⠷⣤⡀⠀⠀⠀⠀\n",
      "        ⠀⠀⠀⣠⡾⠛⠉⠀⠀⠀⠀⠀⠀⠀⠈⠙⠻⣿⣷⣄⠘⢿⡄⠀⠀⠀\n",
      "        ⠀⢀⡾⠋⠀⠀⠀⠀⠀⠀⠀⠀⠐⠂⠠⢄⡀⠈⢿⣿⣧⠈⢿⡄⠀⠀\n",
      "        ⢀⠏⠀⠀⠀⢀⠄⣀⣴⣾⠿⠛⠛⠛⠷⣦⡙⢦⠀⢻⣿⡆⠘⡇⠀⠀\n",
      "        ---+-+-+-+-+-+-+-+-+-+-+-+---\n",
      "           |S|Y|N|T|H|E|S|I|Z|E|R|\n",
      "        ---+-+-+-+-+-+-+-+-+-+-+-+---\n",
      "        ⠀⠀⢸⡇⠸⣿⣷⠀⢳⡈⢿⣦⣀⣀⣀⣠⣴⣾⠟⠁⠀⠀⠀⠀⢀⡎\n",
      "        ⠀⠀⠘⣷⠀⢻⣿⣧⠀⠙⠢⠌⢉⣛⠛⠋⠉⠀⠀⠀⠀⠀⠀⣠⠎⠀\n",
      "        ⠀⠀⠀⠹⣧⡀⠻⣿⣷⣄⡀⠀⠀⠀⠀⠀⠀⠀⠀⠀⢀⣠⡾⠃⠀⠀\n",
      "        ⠀⠀⠀⠀⠈⠻⣤⡈⠻⢿⣿⣷⣦⣤⣤⣤⣤⣤⣴⡾⠛⠉⠀⠀⠀⠀\n",
      "        ⠀⠀⠀⠀⠀⠀⠈⠙⠶⢤⣈⣉⠛⠛⠛⠛⠋⠉⠀⠀⠀⠀⠀⠀⠀⠀\n",
      "        ⠀⠀⠀⠀⠀⠀⠀⠀⠀⠀⠀⠀⠉⠉⠉⠁⠀⠀⠀⠀⠀⠀⠀⠀⠀⠀\n",
      "<class 'synthesizer.galaxy.parametric.ParametricGalaxy'>\n",
      "log10(stellar mass formed/Msol): 9.0\n",
      "available SEDs: ['stellar']\n",
      "available lines: []\n",
      "available images: []\n",
      "----------\n",
      "\n"
     ]
    }
   ],
   "source": [
    "print(bulge)"
   ]
  },
  {
   "cell_type": "markdown",
   "id": "223f8dd2-c2df-4bf2-b1c4-c81ee2c17b97",
   "metadata": {},
   "source": [
    "## Total"
   ]
  },
  {
   "cell_type": "code",
   "execution_count": 33,
   "id": "5ef512d4-f3c2-4df0-a457-834a3796d8cc",
   "metadata": {
    "tags": []
   },
   "outputs": [],
   "source": [
    "total = disk + bulge\n",
    "\n",
    "print(total)"
   ]
  },
  {
   "cell_type": "code",
   "execution_count": 35,
   "id": "2e83e4c8-4c32-4436-adfb-88da267ceb2f",
   "metadata": {
    "tags": []
   },
   "outputs": [
    {
     "ename": "TypeError",
     "evalue": "make_images() got multiple values for argument 'npix'",
     "output_type": "error",
     "traceback": [
      "\u001b[0;31m---------------------------------------------------------------------------\u001b[0m",
      "\u001b[0;31mTypeError\u001b[0m                                 Traceback (most recent call last)",
      "Cell \u001b[0;32mIn[35], line 1\u001b[0m\n\u001b[0;32m----> 1\u001b[0m images \u001b[38;5;241m=\u001b[39m \u001b[43mbulge\u001b[49m\u001b[38;5;241;43m.\u001b[39;49m\u001b[43mmake_images\u001b[49m\u001b[43m(\u001b[49m\u001b[38;5;124;43m'\u001b[39;49m\u001b[38;5;124;43mstellar\u001b[39;49m\u001b[38;5;124;43m'\u001b[39;49m\u001b[43m,\u001b[49m\u001b[43m \u001b[49m\u001b[43mfilter_collection\u001b[49m\u001b[43m,\u001b[49m\u001b[43m \u001b[49m\u001b[43mresolution\u001b[49m\u001b[43m,\u001b[49m\u001b[43m \u001b[49m\u001b[43mnpix\u001b[49m\u001b[38;5;241;43m=\u001b[39;49m\u001b[43mnpix\u001b[49m\u001b[43m)\u001b[49m\n\u001b[1;32m      3\u001b[0m images\u001b[38;5;241m.\u001b[39mplot_rgb([\u001b[38;5;124m'\u001b[39m\u001b[38;5;124mJ\u001b[39m\u001b[38;5;124m'\u001b[39m, \u001b[38;5;124m'\u001b[39m\u001b[38;5;124mV\u001b[39m\u001b[38;5;124m'\u001b[39m, \u001b[38;5;124m'\u001b[39m\u001b[38;5;124mU\u001b[39m\u001b[38;5;124m'\u001b[39m])\n\u001b[1;32m      5\u001b[0m total \u001b[38;5;241m=\u001b[39m disk\u001b[38;5;241m.\u001b[39mimages[\u001b[38;5;124m'\u001b[39m\u001b[38;5;124mstellar\u001b[39m\u001b[38;5;124m'\u001b[39m]\u001b[38;5;241m.\u001b[39mrgb_img \u001b[38;5;241m+\u001b[39m bulge\u001b[38;5;241m.\u001b[39mimages[\u001b[38;5;124m'\u001b[39m\u001b[38;5;124mstellar\u001b[39m\u001b[38;5;124m'\u001b[39m]\u001b[38;5;241m.\u001b[39mrgb_img\n",
      "\u001b[0;31mTypeError\u001b[0m: make_images() got multiple values for argument 'npix'"
     ]
    }
   ],
   "source": [
    "images = bulge.make_images('stellar', filter_collection, resolution, npix=npix)\n",
    "\n",
    "images.plot_rgb(['J', 'V', 'U'])\n",
    "\n",
    "total = disk.images['stellar'].rgb_img + bulge.images['stellar'].rgb_img\n",
    "\n",
    "total /= np.max(total)\n",
    "\n",
    "plt.figure()\n",
    "plt.imshow(total, origin='lower', interpolation='nearest')\n",
    "plt.show()\n"
   ]
  }
 ],
 "metadata": {
  "kernelspec": {
   "display_name": "Python 3 (ipykernel)",
   "language": "python",
   "name": "python3"
  },
  "language_info": {
   "codemirror_mode": {
    "name": "ipython",
    "version": 3
   },
   "file_extension": ".py",
   "mimetype": "text/x-python",
   "name": "python",
   "nbconvert_exporter": "python",
   "pygments_lexer": "ipython3",
   "version": "3.9.5"
  }
 },
 "nbformat": 4,
 "nbformat_minor": 5
}
