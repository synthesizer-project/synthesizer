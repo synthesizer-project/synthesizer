{
 "cells": [
  {
   "attachments": {},
   "cell_type": "markdown",
   "metadata": {},
   "source": [
    "# Generating Rest Frame SEDs from a Parametric Galaxy including dust emission\n",
    "<br>\n",
    "Example for generating the rest-frame spectrum for a parametric galaxy including dust emission\n"
   ]
  },
  {
   "cell_type": "code",
   "execution_count": null,
   "metadata": {},
   "outputs": [],
   "source": [
    "import os\n",
    "import numpy as np\n",
    "import matplotlib.pyplot as plt"
   ]
  },
  {
   "cell_type": "code",
   "execution_count": null,
   "metadata": {},
   "outputs": [],
   "source": [
    "from synthesizer.filters import FilterCollection\n",
    "from synthesizer.grid import Grid\n",
    "from synthesizer.parametric.sfzh import SFH, ZH, generate_sfzh\n",
    "from synthesizer.parametric.galaxy import Galaxy\n",
    "from synthesizer.plt import single, single_histxy, mlabel\n",
    "from synthesizer.dust import Greybody, Casey12\n",
    "from unyt import yr, Myr, K, um\n",
    "from astropy.cosmology import Planck18 as cosmo"
   ]
  },
  {
   "cell_type": "code",
   "execution_count": null,
   "metadata": {},
   "outputs": [],
   "source": [
    "# Define the grid\n",
    "grid_name = \"test_grid\"\n",
    "grid_dir = \"../../../tests/test_grid/\"\n",
    "grid = Grid(grid_name, grid_dir=grid_dir)"
   ]
  },
  {
   "cell_type": "code",
   "execution_count": null,
   "metadata": {},
   "outputs": [],
   "source": [
    "# define the parameters of the star formation and metal enrichment histories\n",
    "sfh_p = {'duration': 10 * Myr}\n",
    "Z_p = {'log10Z': -2.0}  # can also use linear metallicity e.g. {'Z': 0.01}\n",
    "stellar_mass = 1E8\n",
    "\n",
    "# define the functional form of the star formation and metal enrichment histories\n",
    "sfh = SFH.Constant(sfh_p)  # constant star formation\n",
    "Zh = ZH.deltaConstant(Z_p)  # constant metallicity\n",
    "\n",
    "# get the 2D star formation and metal enrichment history for the given SPS grid. This is (age, Z).\n",
    "sfzh = generate_sfzh(grid.log10age, grid.metallicity, sfh, Zh, stellar_mass=stellar_mass)\n",
    "\n",
    "# create a galaxy object\n",
    "galaxy = Galaxy(sfzh)"
   ]
  },
  {
   "cell_type": "code",
   "execution_count": null,
   "metadata": {},
   "outputs": [],
   "source": [
    "# # --- simple dust and gas screen\n",
    "galaxy.get_spectra_screen(grid, tauV = 0.3, fesc = 0.5)\n",
    "print(\"Simple dust and gas screen\")\n",
    "galaxy.plot_spectra()\n"
   ]
  },
  {
   "cell_type": "code",
   "execution_count": null,
   "metadata": {},
   "outputs": [],
   "source": [
    "print(galaxy.spectra['intrinsic'].get_bolometric_luminosity())\n",
    "print(galaxy.spectra['attenuated'].get_bolometric_luminosity())"
   ]
  },
  {
   "cell_type": "code",
   "execution_count": null,
   "metadata": {},
   "outputs": [],
   "source": [
    "emissionmodel = Greybody(50*K, 1.5)"
   ]
  },
  {
   "cell_type": "code",
   "execution_count": null,
   "metadata": {},
   "outputs": [],
   "source": [
    "galaxy.get_spectra_dust(emissionmodel)\n",
    "\n",
    "\n",
    "plt.loglog(galaxy.spectra['intrinsic'].lam, galaxy.spectra['stellar'].nu*galaxy.spectra['intrinsic'].lnu, label = 'intrinsic')\n",
    "plt.loglog(galaxy.spectra['dust'].lam, galaxy.spectra['stellar'].nu*galaxy.spectra['dust'].lnu, label = 'dust emission')\n",
    "plt.loglog(galaxy.spectra['total'].lam, galaxy.spectra['stellar'].nu*galaxy.spectra['total'].lnu, label = 'total')\n",
    "plt.xlabel(r'$\\lambda$/$\\AA$')\n",
    "plt.ylabel(r'$\\nu$L$_{\\nu}$(erg/s)')\n",
    "plt.ylim([1E41, 1E46])\n",
    "plt.xlim([1E3, 1E7])\n",
    "plt.legend()"
   ]
  },
  {
   "cell_type": "code",
   "execution_count": null,
   "metadata": {},
   "outputs": [],
   "source": [
    "emissionmodel = Casey12(T=50*K, emissivity=1.5, alpha=2., lam_0=100*um)"
   ]
  },
  {
   "cell_type": "code",
   "execution_count": null,
   "metadata": {},
   "outputs": [],
   "source": [
    "galaxy.get_spectra_dust(emissionmodel)\n",
    "\n",
    "plt.loglog(galaxy.spectra['intrinsic'].lam, galaxy.spectra['stellar'].nu*galaxy.spectra['intrinsic'].lnu, label = 'intrinsic')\n",
    "plt.loglog(galaxy.spectra['dust'].lam, galaxy.spectra['stellar'].nu*galaxy.spectra['dust'].lnu, label = 'dust emission')\n",
    "plt.loglog(galaxy.spectra['total'].lam, galaxy.spectra['stellar'].nu*galaxy.spectra['total'].lnu, label = 'total')\n",
    "plt.xlabel(r'$\\lambda$/$\\AA$')\n",
    "plt.ylabel(r'$\\nu$L$_{\\nu}$(erg/s)')\n",
    "plt.ylim([1E41, 1E46])\n",
    "plt.xlim([1E3, 1E7])\n",
    "plt.legend()"
   ]
  }
 ],
 "metadata": {
  "language_info": {
   "name": "python"
  }
 },
 "nbformat": 4,
 "nbformat_minor": 4
}
