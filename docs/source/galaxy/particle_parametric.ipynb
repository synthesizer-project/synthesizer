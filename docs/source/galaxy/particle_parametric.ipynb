{
 "cells": [
  {
   "cell_type": "markdown",
   "id": "e71915dc",
   "metadata": {},
   "source": [
    "# Particle vs Parametric\n",
    "\n",
    "Synthesizer contains two types of galaxy:\n",
    "\n",
    "- A particle `Galaxy` for working with galaxies comprised of individual star, gas, and/or black hole particles (`synthesizer.particle.galaxy.Galaxy`).\n",
    "- A parametric `Galaxy` for working with parametric models described by a SFZH and (when necessary) morphologies (`synthesizer.parametric.galaxy.Galaxy`).\n",
    "\n",
    "To simplify the instatiation of a Galaxy for the user we provide a ``Galaxy`` \"factory function\" which will always return the correct galaxy based on the arguments passed by the user, while raising errors or warnings for incompatible argument combinations.\n",
    "\n",
    "Below we set up the components (particle and parametric stellar populations) we will need to demonstrate how to define different galaxies.\n",
    "Further use of a galaxy for [spectra](../spectra/galaxy.ipynb), [line emission](../lines/lines.rst), [imaging](../imaging/imaging.rst) and much more can be found elsewhere in the documentation."
   ]
  },
  {
   "cell_type": "code",
   "execution_count": null,
   "id": "54f76655",
   "metadata": {},
   "outputs": [],
   "source": [
    "import numpy as np\n",
    "from synthesizer.grid import Grid\n",
    "from synthesizer.parametric import SFH, ZDist\n",
    "from synthesizer.parametric import Stars as ParametricStars\n",
    "from synthesizer.particle.stars import sample_sfhz\n",
    "from unyt import Myr, kpc\n",
    "\n",
    "# Define the grid\n",
    "grid_name = \"test_grid\"\n",
    "grid_dir = \"../../../tests/test_grid/\"\n",
    "grid = Grid(grid_name, grid_dir=grid_dir)\n",
    "\n",
    "# Define the metallicity history\n",
    "zh = ZDist.DeltaConstant(metallicity=0.01)\n",
    "\n",
    "# Define the star formation history\n",
    "sfh_p = {\"duration\": 100 * Myr}\n",
    "sfh = SFH.Constant(100 * Myr)\n",
    "\n",
    "# Initialise the parametric Stars object\n",
    "param_stars = ParametricStars(\n",
    "    grid.log10age,\n",
    "    grid.metallicity,\n",
    "    sf_hist=sfh,\n",
    "    metal_dist=zh,\n",
    "    initial_mass=10**9,\n",
    ")\n",
    "\n",
    "# Define the number of stellar particles we want\n",
    "n = 10000\n",
    "\n",
    "# Sample the parametric SFZH, producing a particle Stars object\n",
    "# we will also pass some keyword arguments for some example attributes\n",
    "part_stars = sample_sfhz(\n",
    "    sfzh=param_stars.sfzh,\n",
    "    log10ages=param_stars.log10ages,\n",
    "    log10metallicities=param_stars.log10metallicities,\n",
    "    nstar=n,\n",
    "    current_masses=np.full(n, 10**8.7 / n),\n",
    "    redshift=1,\n",
    "    initial_mass=10**6,\n",
    ")\n",
    "\n",
    "# Show what we've got out\n",
    "print(type(param_stars))\n",
    "print(type(part_stars))"
   ]
  },
  {
   "cell_type": "markdown",
   "id": "e5db3360",
   "metadata": {},
   "source": [
    "## Creating a Galaxy\n",
    "\n",
    "Now that we have the building blocks of both a particle and parametric galaxy we can import the factory function and get our galaxies. \n",
    "\n",
    "To do so we simply pass the factory function the arguments for the desired type of `Galaxy`. These are `Stars`, `Gas`, and `BlackHoles` objects from the `particle` and `parametric` modules respectively. In synthesizer these different objects are called \"components\".\n",
    "\n",
    "Note that both a particle and parametric `Galaxy` can be intialised with any combination of `Stars`, `Gas`, or `BlackHoles`. Each is a keyword argument which all default to `None`.\n",
    "\n",
    "### Global galaxy properties\n",
    "\n",
    "In addition to the component attributes, a galaxy can also hold galaxy level attributes. These include a ``name`` for the galaxy, and more importantly the redshift of the galaxy, an attribute required to calculate the observer frame emission of the galaxy. Beyond the redshift, and like any other container object in synthesizer, the user can provide additional kwargs to the galaxy object, which will be stored as galaxy level attributes. This enables the storing of arbitrary data needed later in a pipeline (e.g. effective radii)."
   ]
  },
  {
   "cell_type": "code",
   "execution_count": null,
   "id": "2b40091c",
   "metadata": {},
   "outputs": [],
   "source": [
    "from synthesizer import Galaxy\n",
    "\n",
    "# Get a particle galaxy\n",
    "part_gal = Galaxy(\n",
    "    stars=part_stars,\n",
    "    gas=None,\n",
    "    black_holes=None,\n",
    "    redshift=1,\n",
    "    name=\"part_gal\",\n",
    "    gas_half_mass_radius=10 * kpc,\n",
    "    stellar_half_mass_radius=4 * kpc,\n",
    ")\n",
    "print(part_gal)\n",
    "\n",
    "print()\n",
    "\n",
    "# Get a parametric galaxy\n",
    "param_gal = Galaxy(\n",
    "    stars=param_stars,\n",
    "    redshift=1,\n",
    "    name=\"param_gal\",\n",
    "    gas_half_mass_radius=6 * kpc,\n",
    "    stellar_half_mass_radius=5 * kpc,\n",
    ")\n",
    "print(param_gal)"
   ]
  },
  {
   "cell_type": "markdown",
   "id": "6e0dd77a",
   "metadata": {},
   "source": [
    "Note, that you are also free to avoid the factory function abstraction and explictly instantiate the desired `Galaxy` object directly."
   ]
  },
  {
   "cell_type": "code",
   "execution_count": null,
   "id": "94c2e68b",
   "metadata": {},
   "outputs": [],
   "source": [
    "from synthesizer.particle import Galaxy\n",
    "\n",
    "# Get a particle galaxy\n",
    "part_gal = Galaxy(stars=part_stars, gas=None, black_holes=None, redshift=1)\n",
    "print(part_gal)"
   ]
  },
  {
   "cell_type": "markdown",
   "id": "ffd96f42",
   "metadata": {},
   "source": [
    "Or for a parametric galaxy."
   ]
  },
  {
   "cell_type": "code",
   "execution_count": null,
   "id": "54bf197c",
   "metadata": {},
   "outputs": [],
   "source": [
    "from synthesizer.parametric import Galaxy\n",
    "\n",
    "# Get a parametric galaxy\n",
    "param_gal = Galaxy(stars=param_stars, redshift=1)\n",
    "print(param_gal)"
   ]
  }
 ],
 "metadata": {},
 "nbformat": 4,
 "nbformat_minor": 5
}
