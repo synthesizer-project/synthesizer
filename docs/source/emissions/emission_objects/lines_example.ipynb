{
 "cells": [
  {
   "cell_type": "markdown",
   "metadata": {},
   "source": [
    "# The LineCollection Object \n",
    "\n",
    "Emission lines are bright features in a spectrum caused by specific atomic transitions. In astronomy, these lines are often used to identify the presence of certain elements in celestial objects, such as galaxies or nebulae. The luminosity of these lines can vary significantly, and they can be influenced by various factors such as redshift, dust extinction, and the physical conditions of the emitting gas. \n",
    "\n",
    "In Synthesizer emission lines are encapsulated by the ``LineCollection`` object. This object holds an arbitrary collection of emission lines, with each luminosity, continuum, line ID, and wavelength stored in arrays. However, as well as providing an interface to these arrays, the ``LineCollection`` can also be treated as a dictionary. \n",
    "\n",
    "In this section, we will demonstrate how to create a ``LineCollection`` object, how to access its properties, and how to manipulate it.\n",
    "\n",
    "## Creating a LineCollection\n",
    "\n",
    "Before demonstrating anything, we need a ``LineCollection`` to demonstrate with. A ``LineCollection`` can be created from scratch, taking user specified luminosities, continuum, line IDs, and wavelengths."
   ]
  },
  {
   "cell_type": "code",
   "execution_count": null,
   "metadata": {
    "nbsphinx": "hidden"
   },
   "outputs": [],
   "source": [
    "from unyt import Hz, Myr, angstrom, erg, s"
   ]
  },
  {
   "cell_type": "code",
   "execution_count": null,
   "metadata": {},
   "outputs": [],
   "source": [
    "from synthesizer import LineCollection\n",
    "\n",
    "lines = LineCollection(\n",
    "    \"ArbitraryLine\",\n",
    "    lam=912 * angstrom,\n",
    "    lum=1e28 * erg / s,\n",
    "    cont=1e28 * erg / s / Hz,\n",
    ")"
   ]
  },
  {
   "cell_type": "markdown",
   "metadata": {},
   "source": [
    "However, in practice, it will be far more common to use ``LineCollection`` objects produced by or derived from other Synthesizer objects (e.g. from combining a ``Galaxy`` and an ``EmissionModel``). \n",
    "\n",
    "For the rest of this section, we will take lines directly from a ``Grid`` object (more information [here](../../emission_grids/grids.rst)). For more details on line generation see the [grid lines](../lines/grid_lines.ipynb) and [galaxy lines](../lines/galaxy_lines.ipynb) notebooks for thorough demonstrations of how to generate lines from each."
   ]
  },
  {
   "cell_type": "code",
   "execution_count": null,
   "metadata": {},
   "outputs": [],
   "source": [
    "from synthesizer.grid import Grid\n",
    "\n",
    "grid = Grid(\"test_grid\")\n",
    "\n",
    "# Extract the lines for a specific point in the grid\n",
    "lines = grid.get_lines(\n",
    "    grid.get_grid_point(log10ages=7.0 * Myr, metallicity=0.01)\n",
    ")"
   ]
  },
  {
   "cell_type": "markdown",
   "metadata": {},
   "source": [
    "## Printing a summary of the LineCollection \n",
    "\n",
    "If we want a summary of what a line contains we can simply print it. This will give us a table showing all the different attributes attached to a ``LineCollection`` object and their values (or a summary of their values for large arrays)."
   ]
  },
  {
   "cell_type": "code",
   "execution_count": null,
   "metadata": {},
   "outputs": [],
   "source": [
    "print(lines)\n",
    "print(lines.line_ids)"
   ]
  },
  {
   "cell_type": "markdown",
   "metadata": {},
   "source": [
    "## Accessing specific lines\n",
    "\n",
    "A ``LineCollection`` behaves somewhat like a dictionary, we can access line data by passing strings when we index the ``LineCollection``. Unlike a dictionary, however, we are not limited to singular keys, we can pass multiple at once in a ``list`` or ``tuple`` to instead return a subset of lines. Not only that, we can also defined composite lines by passing a string of comma separated lines. We demonstrate each of these methods to axis data below.\n",
    "\n",
    "> Note that in reality the data is actually stored in contiguous arrays for efficiency.\n",
    "\n",
    "Line IDs follow the same convention as in Cloudy, whereby a line is usually represented as ``{atomic or molecular notation} {ionisation state} {wavelength}``. The ionisation state is in the usual astronomical notation, e.g. H 1 for atomic hydrogen, but different for molecules, with the state denoted by '+' or '-' (e.g. HCO+).\n",
    "\n",
    "### Extracting a single line\n",
    "\n",
    "To extract a single line we simply pass the name of the line we want to extract."
   ]
  },
  {
   "cell_type": "code",
   "execution_count": null,
   "metadata": {},
   "outputs": [],
   "source": [
    "print(lines[\"H 1 1215.67A\"])"
   ]
  },
  {
   "cell_type": "markdown",
   "metadata": {},
   "source": [
    "### Extracting composite lines\n",
    "\n",
    "To extract a composite line (e.g. a doublet or triplet) we pass a string of comma separated lines. This will return a new ``LineCollection`` object with the composite line as the only line in the collection."
   ]
  },
  {
   "cell_type": "code",
   "execution_count": null,
   "metadata": {},
   "outputs": [],
   "source": [
    "print(lines[\"Mg 7 2628.89A, Fe 2 2631.05A\"])  # doublet\n",
    "print(lines[\"Mg 7 2628.89A, Fe 2 2631.05A, Fe 2 2631.32A\"])  # triplet"
   ]
  },
  {
   "cell_type": "markdown",
   "metadata": {},
   "source": [
    "### Extracting a subset of lines\n",
    "\n",
    "To extract a subset of lines we pass a list or tuple of the names of the lines we want to extract."
   ]
  },
  {
   "cell_type": "code",
   "execution_count": null,
   "metadata": {},
   "outputs": [],
   "source": [
    "print(\n",
    "    lines[(\"Mg 7 2628.89A\", \"Fe 2 2631.05A\", \"Fe 2 2631.32A\", \"Mg 5 2782.76A\")]\n",
    ")"
   ]
  },
  {
   "cell_type": "markdown",
   "metadata": {},
   "source": [
    "Note that this list can include composite lines as well as single lines."
   ]
  },
  {
   "cell_type": "code",
   "execution_count": null,
   "metadata": {},
   "outputs": [],
   "source": [
    "print(\n",
    "    lines[(\"Mg 7 2628.89A, Fe 2 2631.05A\", \"Fe 2 2631.32A\", \"Mg 5 2782.76A\")]\n",
    ")"
   ]
  },
  {
   "cell_type": "markdown",
   "metadata": {},
   "source": [
    "### Line aliases \n",
    "\n",
    "Any of these operations can also be performed by passing some common line aliases defined in the emissions submodule."
   ]
  },
  {
   "cell_type": "code",
   "execution_count": null,
   "metadata": {},
   "outputs": [],
   "source": [
    "from synthesizer.emissions import line_aliases\n",
    "\n",
    "for alias in line_aliases:\n",
    "    print(f\"{alias} -> {line_aliases[alias]}\")\n",
    "\n",
    "# We can use any of these aliases in place of the long form ID\n",
    "print(lines[\"Hb\"])"
   ]
  },
  {
   "cell_type": "markdown",
   "metadata": {},
   "source": [
    "## Getting line ratios\n",
    "\n",
    "In addition to the line extraction methods above, we can also get known ratios by passing the ratio name as an index. These ratios are defined in the ``line_ratios`` submodule (more details below)."
   ]
  },
  {
   "cell_type": "code",
   "execution_count": null,
   "metadata": {},
   "outputs": [],
   "source": [
    "ratio = lines[\"BalmerDecrement\"]\n",
    "print(ratio)"
   ]
  },
  {
   "cell_type": "markdown",
   "metadata": {},
   "source": [
    "Alternatively, we could use the ``get_ratio`` method. This can also take a ratio name but also enables the passing of a list of two lines to get the ratio of."
   ]
  },
  {
   "cell_type": "code",
   "execution_count": null,
   "metadata": {},
   "outputs": [],
   "source": [
    "ratio2 = lines.get_ratio(\"BalmerDecrement\")\n",
    "ratio3 = lines.get_ratio([\"H 1 4861.32A\", \"H 1 6562.80A\"])\n",
    "print(ratio2)\n",
    "print(ratio3)"
   ]
  },
  {
   "cell_type": "markdown",
   "metadata": {},
   "source": [
    "## Getting diagnostic diagrams\n",
    "\n",
    "We can also get diagnostic diagrams by passing the name of the diagram as an index. These diagrams are are also defined in the ``line_ratios`` submodule (details in the [line ratios](line_ratios.ipynb) notebook)."
   ]
  },
  {
   "cell_type": "code",
   "execution_count": null,
   "metadata": {},
   "outputs": [],
   "source": [
    "dia = lines[\"BPT-NII\"]\n",
    "print(dia)"
   ]
  },
  {
   "cell_type": "markdown",
   "metadata": {},
   "source": [
    "Or we can use the ``get_diagram`` method to get a diagnostic diagram by passing the name of the diagram or a list of lists of lines."
   ]
  },
  {
   "cell_type": "code",
   "execution_count": null,
   "metadata": {},
   "outputs": [],
   "source": [
    "dia2 = lines.get_diagram(\"BPT-NII\")\n",
    "print(dia2)\n",
    "dia3 = lines.get_diagram(\n",
    "    [[\"O 3 5006.84A\", \"H 1 4861.32A\"], [\"N 2 6583.45A\", \"H 1 6562.80A\"]]\n",
    ")\n",
    "print(dia3)"
   ]
  },
  {
   "cell_type": "markdown",
   "metadata": {},
   "source": [
    "## Arithmetic operations\n",
    "\n",
    "We can perform various arithmetic operations on a ``LineCollection`` object. These operations are performed element-wise on the underlying line data.\n"
   ]
  },
  {
   "cell_type": "code",
   "execution_count": null,
   "metadata": {},
   "outputs": [],
   "source": [
    "# Get a subset for the demonstration\n",
    "lines_subset = lines[(\"Fe 2 2631.05A\", \"Fe 2 2631.32A\")]"
   ]
  },
  {
   "cell_type": "markdown",
   "metadata": {},
   "source": [
    "\n",
    "### Adding LineCollections \n",
    "\n",
    "We can add two ``LineCollection`` objects together. This will return a new ``LineCollection`` object with the same lines as the two input ``LineCollection`` objects, but with the line data added together."
   ]
  },
  {
   "cell_type": "code",
   "execution_count": null,
   "metadata": {},
   "outputs": [],
   "source": [
    "new_line = lines_subset + lines_subset\n",
    "print(new_line.luminosity / lines_subset.luminosity)"
   ]
  },
  {
   "cell_type": "markdown",
   "metadata": {},
   "source": [
    "### Scaling a LineCollection\n",
    "\n",
    "We can scale (multiply) a ``LineCollection`` object by a scalar. This will return a new ``LineCollection`` object with the same lines as the input ``LineCollection`` object, but with the line luminosity scaled accordingly."
   ]
  },
  {
   "cell_type": "code",
   "execution_count": null,
   "metadata": {},
   "outputs": [],
   "source": [
    "new_lines = lines_subset * 4\n",
    "print(new_lines.luminosity / lines_subset.luminosity)"
   ]
  },
  {
   "cell_type": "markdown",
   "metadata": {},
   "source": [
    "## Iterating over a LineCollection\n",
    "\n",
    "We can loop over the individual lines just as we would loop over an array or list. Here we will demonstrate this on a subset."
   ]
  },
  {
   "cell_type": "code",
   "execution_count": null,
   "metadata": {},
   "outputs": [],
   "source": [
    "lines_subset = lines[\n",
    "    (\"Mg 7 2628.89A\", \"Fe 2 2631.05A\", \"Fe 2 2631.32A\", \"Mg 5 2782.76A\")\n",
    "]\n",
    "for line in lines_subset:\n",
    "    print(\n",
    "        f\"ID: {line.id}, Wavelength: {line.lam}, \"\n",
    "        f\"Luminosity: {line.luminosity}, Continuum: {line.continuum}\"\n",
    "    )"
   ]
  },
  {
   "cell_type": "markdown",
   "metadata": {},
   "source": [
    "## Computing fluxes\n",
    "\n",
    "By default a line contains the rest frame luminosity and continuum luminosity. If we instead want the flux we can use the ``get_flux`` or ``get_flux0`` methods which each populate the ``flux`` and ``continuum_flux`` attributes on the line. The latter of these will compute the rest frame flux at a distance of 10pc."
   ]
  },
  {
   "cell_type": "code",
   "execution_count": null,
   "metadata": {},
   "outputs": [],
   "source": [
    "lines.get_flux0()\n",
    "print(lines[\"H 1 4861.32A\"].flux, lines[\"H 1 4861.32A\"].continuum_flux)"
   ]
  },
  {
   "cell_type": "markdown",
   "metadata": {},
   "source": [
    "While the former requires an ``astropy.cosmology`` object and a redshift to compute the observer frame flux."
   ]
  },
  {
   "cell_type": "code",
   "execution_count": null,
   "metadata": {},
   "outputs": [],
   "source": [
    "from astropy.cosmology import Planck18 as cosmo\n",
    "\n",
    "lines.get_flux(cosmo, 8.0)\n",
    "print(lines[\"H 1 4861.32A\"].flux, lines[\"H 1 4861.32A\"].continuum_flux)"
   ]
  },
  {
   "cell_type": "markdown",
   "metadata": {},
   "source": [
    "## Concatenating LineCollections\n",
    "\n",
    "If rather than adding the values of two ``LineCollection`` objects together we want to instead concatenate them along the first axis, we can use the ``concatenate`` method. This will return a new ``LineCollection`` object with all the lines from the two input ``LineCollection`` objects."
   ]
  },
  {
   "cell_type": "code",
   "execution_count": null,
   "metadata": {},
   "outputs": [],
   "source": [
    "import numpy as np\n",
    "from unyt import Hz, angstrom, erg, s\n",
    "\n",
    "from synthesizer.emissions import LineCollection\n",
    "\n",
    "# Simulating having two sets of ndim=2 lines we need to combine\n",
    "lines1 = LineCollection(\n",
    "    line_ids=[\"O 3 5006.84A\", \"H 1 4861.32A\"],\n",
    "    lam=[5006.84 * angstrom, 4861.32 * angstrom],\n",
    "    lum=np.array([[1.0, 2.0], [3.0, 4.0]]) * erg / s,\n",
    "    cont=np.array([[0.1, 0.2], [0.3, 0.4]]) * erg / s / Hz,\n",
    ")\n",
    "lines2 = LineCollection(\n",
    "    line_ids=[\"O 3 5006.84A\", \"H 1 4861.32A\"],\n",
    "    lam=[5006.84 * angstrom, 4861.32 * angstrom],\n",
    "    lum=np.array([[5.0, 6.0], [7.0, 8.0]]) * erg / s,\n",
    "    cont=np.array([[0.5, 0.6], [0.7, 0.8]]) * erg / s / Hz,\n",
    ")\n",
    "print(lines1.shape, lines2.shape)\n",
    "\n",
    "lines3 = lines1.concat(lines2)\n",
    "print(lines3.shape)"
   ]
  },
  {
   "cell_type": "markdown",
   "metadata": {},
   "source": [
    "## Extending a LineCollection with new lines\n",
    "\n",
    "If we want to add new lines to a ``LineCollection`` object we can use the ``extend`` method. This will return a new ``LineCollection`` object with all the lines from the original ``LineCollection`` object and the new lines. Note that the shape of the new lines must match the shape of the existing lines."
   ]
  },
  {
   "cell_type": "code",
   "execution_count": null,
   "metadata": {},
   "outputs": [],
   "source": [
    "# Set up two line collections with different lines\n",
    "lines1 = LineCollection(\n",
    "    line_ids=[\"O 3 5006.84A\", \"H 1 4861.32A\"],\n",
    "    lam=[5006.84 * angstrom, 4861.32 * angstrom],\n",
    "    lum=np.array([[1.0, 2.0], [3.0, 4.0]]) * erg / s,\n",
    "    cont=np.array([[0.1, 0.2], [0.3, 0.4]]) * erg / s / Hz,\n",
    ")\n",
    "lines2 = LineCollection(\n",
    "    line_ids=[\"N 2 6583.45A\", \"H 1 6562.80A\"],\n",
    "    lam=[6583.45 * angstrom, 6562.80 * angstrom],\n",
    "    lum=np.array([[5.0, 6.0], [7.0, 8.0]]) * erg / s,\n",
    "    cont=np.array([[0.5, 0.6], [0.7, 0.8]]) * erg / s / Hz,\n",
    ")\n",
    "print(lines1.shape, lines2.shape)\n",
    "\n",
    "lines3 = lines1.extend(lines2)\n",
    "print(lines3.shape)"
   ]
  },
  {
   "cell_type": "markdown",
   "metadata": {},
   "source": [
    "## Blending lines\n",
    "\n",
    "Lines in a ``LineCollection`` can be blended based on a given wavelength resolution using the ``get_blended_lines`` method. This method takes a set of wavelength bins, and returns a new ``LineCollection`` containing lines blended within each bin."
   ]
  },
  {
   "cell_type": "code",
   "execution_count": null,
   "metadata": {},
   "outputs": [],
   "source": [
    "import numpy as np\n",
    "from unyt import angstrom\n",
    "\n",
    "# Get a subset of lines to blend\n",
    "lines_subset = lines[\"H 1 4861.32A\", \"O 3 5006.84A\", \"O 3 4958.91A\"]\n",
    "\n",
    "print(\"Before blending:\")\n",
    "print(lines_subset)\n",
    "\n",
    "# Blend the lines  onto an arbitrary wavelength grid\n",
    "lam_bins = np.arange(4000, 7000, 1000) * angstrom\n",
    "blended_lines = lines_subset.get_blended_lines(lam_bins)\n",
    "\n",
    "print(\"After blending:\")\n",
    "print(blended_lines)"
   ]
  },
  {
   "cell_type": "markdown",
   "metadata": {},
   "source": [
    "## Plotting Lines\n",
    "\n",
    "To plot lines you can use a ``LineCollection`` instance's ``plot_lines`` method. This can be incomprehensible if you plot all lines so we'll pass a subset to the subset argument."
   ]
  },
  {
   "cell_type": "code",
   "execution_count": null,
   "metadata": {},
   "outputs": [],
   "source": [
    "_ = lines.plot_lines(\n",
    "    figsize=(12, 5),\n",
    "    subset=[\n",
    "        \"He 2 1025.27A\",\n",
    "        \"He 2 1084.94A\",\n",
    "        \"Si 2 1179.59A\",\n",
    "        \"Si 3 1206.50A\",\n",
    "        \"He 2 1215.13A\",\n",
    "        \"H 1 1215.67A\",\n",
    "        \"Si 2 1264.74A\",\n",
    "        \"O 1 1302.17A\",\n",
    "        \"O 1 1304.86A\",\n",
    "    ],\n",
    "    xlimits=(None, 1350),\n",
    "    ylimits=(10**28.0, 10**36.0),\n",
    ")"
   ]
  },
  {
   "cell_type": "markdown",
   "metadata": {},
   "source": [
    "## Line Ratios\n",
    "\n",
    "To help with the analysis of emission lines, Synthesizer provides a submodule called ``line_ratios``. This submodule contains definitions for commonly used line ratios and diagnostic diagrams that can be derived from the emission lines in a ``LineCollection``.\n",
    "\n",
    "We can print out the available line ratios with the ``available_ratios`` constant."
   ]
  },
  {
   "cell_type": "code",
   "execution_count": null,
   "metadata": {},
   "outputs": [],
   "source": [
    "from synthesizer.emissions import line_ratios\n",
    "\n",
    "print(line_ratios.available_ratios)\n",
    "\n",
    "# Print the ratios and their definitions\n",
    "for ratio in line_ratios.available_ratios:\n",
    "    print(\n",
    "        f\"{ratio} = {line_ratios.ratios[ratio][0]} \"\n",
    "        f\"/ {line_ratios.ratios[ratio][1]}\"\n",
    "    )"
   ]
  },
  {
   "cell_type": "markdown",
   "metadata": {},
   "source": [
    "## Diagnostic Diagrams\n",
    "\n",
    "In addition to line ratios, the submodule also provides a set of common diagnostic diagrams that can be used, for example, to classify the ionizing source."
   ]
  },
  {
   "cell_type": "code",
   "execution_count": null,
   "metadata": {},
   "outputs": [],
   "source": [
    "print(line_ratios.available_diagrams)\n",
    "\n",
    "for diagram in line_ratios.available_diagrams:\n",
    "    print(\n",
    "        f\"{diagram} = {line_ratios.diagrams[diagram][0]} \"\n",
    "        f\"/ {line_ratios.diagrams[diagram][1]}\"\n",
    "    )"
   ]
  },
  {
   "cell_type": "markdown",
   "metadata": {},
   "source": [
    "## Combining ``line_ratios`` with a ``LineCollection``\n",
    "\n"
   ]
  },
  {
   "cell_type": "code",
   "execution_count": null,
   "metadata": {},
   "outputs": [],
   "source": [
    "from synthesizer.grid import Grid\n",
    "\n",
    "grid = Grid(\"test_grid\")\n",
    "lines = grid.get_lines((1, 8))"
   ]
  },
  {
   "cell_type": "markdown",
   "metadata": {},
   "source": [
    "As shown in the [line collection docs](lines_example.ipynb), we can measure some predefined line ratios by passing the name of a ratio. We can also import all line ratios and loop over all pre-defined ratios."
   ]
  },
  {
   "cell_type": "code",
   "execution_count": null,
   "metadata": {},
   "outputs": [],
   "source": [
    "for ratio_id in lines.available_ratios:\n",
    "    ratio = lines.get_ratio(ratio_id)\n",
    "    print(f\"{ratio_id}: {ratio:.2f}\")"
   ]
  },
  {
   "cell_type": "markdown",
   "metadata": {},
   "source": [
    "Similarly, we can also do same for all the diagnostic diagrams."
   ]
  },
  {
   "cell_type": "code",
   "execution_count": null,
   "metadata": {},
   "outputs": [],
   "source": [
    "for diagram_id in lines.available_diagrams:\n",
    "    diagram0, diagram1 = lines.get_diagram(diagram_id)\n",
    "    print(f\"{diagram_id}: {diagram0:.2f} / {diagram1:.2f}\")"
   ]
  },
  {
   "cell_type": "markdown",
   "metadata": {},
   "source": [
    "## BPT Classification Regions\n",
    "\n",
    "The ``lines_ratios`` module also provides functions defining BPT classification regions from [Kewley+13](https://ui.adsabs.harvard.edu/abs/2013ApJ...774L..10K/abstract) and [Kauffmann+03](https://ui.adsabs.harvard.edu/abs/2003MNRAS.346.1055K/abstract). These functions take a set of x values and return the y values that define the classification regions."
   ]
  },
  {
   "cell_type": "code",
   "execution_count": null,
   "metadata": {},
   "outputs": [],
   "source": [
    "import numpy as np\n",
    "\n",
    "logNII_Ha = np.arange(-2.0, 1.0, 0.01)\n",
    "logOIII_Hb_kewley = line_ratios.get_bpt_kewley01(logNII_Ha)\n",
    "logOIII_Hb_kauffman = line_ratios.get_bpt_kauffman03(logNII_Ha)"
   ]
  },
  {
   "cell_type": "markdown",
   "metadata": {},
   "source": [
    "We also provide functions to plot these classifications either on an existing set of axes or on a new figure."
   ]
  },
  {
   "cell_type": "code",
   "execution_count": null,
   "metadata": {},
   "outputs": [],
   "source": [
    "fig, ax = line_ratios.plot_bpt_kewley01(\n",
    "    logNII_Ha, show=False, fig=None, ax=None, label=\"Kewley+01\"\n",
    ")\n",
    "_, _ = line_ratios.plot_bpt_kauffman03(\n",
    "    logNII_Ha, fig=fig, ax=ax, label=\"Kauffman+03\", show=True\n",
    ")"
   ]
  },
  {
   "cell_type": "markdown",
   "metadata": {},
   "source": [
    "\n",
    "\n",
    "For a more interesting example, see the metallicity dependence plots in the [grid lines example](../lines/grid_lines.ipynb)."
   ]
  },
  {
   "cell_type": "markdown",
   "metadata": {},
   "source": [
    "## Observer frame lines\n",
    "\n",
    "Just like an `Sed` lines can be shifted into the observer frame by calling the `get_flux` method with a cosmology and redshift. "
   ]
  },
  {
   "cell_type": "code",
   "execution_count": null,
   "metadata": {},
   "outputs": [],
   "source": [
    "from astropy.cosmology import Planck18 as cosmo\n",
    "\n",
    "lines.get_flux(cosmo, z=8)\n",
    "for line in lines:\n",
    "    print(f\"{line.id}: {line.flux} @ {line.obslam}\")"
   ]
  },
  {
   "cell_type": "markdown",
   "metadata": {},
   "source": [
    "Additionally, just like an `Sed` object, you can also calculate the rest frame flux at 10 parsecs using the `get_flux0` method (again both on a `Line` and a `LineCollection`)."
   ]
  },
  {
   "cell_type": "code",
   "execution_count": null,
   "metadata": {},
   "outputs": [],
   "source": [
    "lines.get_flux0()\n",
    "for line in lines:\n",
    "    print(f\"{line.id}: {line.flux} @ {line.obslam}\")\n",
    "\n",
    "lines[\n",
    "    \"He 2 1025.27A\",\n",
    "    \"He 2 1084.94A\",\n",
    "    \"Si 2 1179.59A\",\n",
    "    \"Si 3 1206.50A\",\n",
    "    \"He 2 1215.13A\",\n",
    "    \"H 1 1215.67A\",\n",
    "    \"Si 2 1264.74A\",\n",
    "    \"O 1 1302.17A\",\n",
    "    \"O 1 1304.86A\",\n",
    "].plot_lines(ylimits=(None, 10**38.0), xlimits=(None, 1500))"
   ]
  }
 ],
 "metadata": {},
 "nbformat": 4,
 "nbformat_minor": 2
}
