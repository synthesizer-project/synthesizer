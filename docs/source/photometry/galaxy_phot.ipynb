{
 "cells": [
  {
   "cell_type": "markdown",
   "metadata": {},
   "source": [
    "# Generating photometry from a ``Galaxy``\n",
    "\n",
    "If you are working with a ``Galaxy`` (or many ``Galaxies``) with many different spectra you don't really want to have to generate photometry for each spectrum individually. Instead, you can use the galaxy level ``get_photo_luminosities`` and ``get_photo_fluxes`` methods to generate photometry for all spectra in the galaxy."
   ]
  },
  {
   "cell_type": "code",
   "execution_count": null,
   "metadata": {},
   "outputs": [],
   "source": [
    "from astropy.cosmology import Planck18 as cosmo\n",
    "from synthesizer.emission_models import PacmanEmission\n",
    "from synthesizer.emission_models.attenuation import PowerLaw\n",
    "from synthesizer.emission_models.dust.emission import Greybody\n",
    "from synthesizer.filters import FilterCollection\n",
    "from synthesizer.grid import Grid\n",
    "from synthesizer.load_data.load_camels import load_CAMELS_IllustrisTNG\n",
    "from unyt import K\n",
    "\n",
    "tau_v = 0.5\n",
    "# dust curve slope\n",
    "alpha = -1.0\n",
    "dust_curve = PowerLaw(slope=alpha)\n",
    "dust_emission_model = Greybody(30 * K, 1.2)\n",
    "\n",
    "grid_dir = \"../../../tests/test_grid\"\n",
    "grid_name = \"test_grid\"\n",
    "grid = Grid(grid_name, grid_dir=grid_dir)\n",
    "\n",
    "# Create galaxy object\n",
    "gal = load_CAMELS_IllustrisTNG(\n",
    "    \"../../../tests/data/\",\n",
    "    snap_name=\"camels_snap.hdf5\",\n",
    "    fof_name=\"camels_subhalo.hdf5\",\n",
    "    physical=True,\n",
    ")[0]\n",
    "\n",
    "# Get the model\n",
    "pacman = PacmanEmission(\n",
    "    grid=grid,\n",
    "    tau_v=tau_v,\n",
    "    dust_curve=dust_curve,\n",
    "    dust_emission=dust_emission_model,\n",
    ")\n",
    "\n",
    "# Get the spectra\n",
    "sed = gal.stars.get_spectra(pacman)\n",
    "\n",
    "# Get fluxes\n",
    "gal.get_observed_spectra(cosmo)"
   ]
  },
  {
   "cell_type": "code",
   "execution_count": null,
   "metadata": {},
   "outputs": [],
   "source": [
    "# Get the filter collection\n",
    "fs = [\n",
    "    f\"JWST/NIRCam.{f}\"\n",
    "    for f in [\"F090W\", \"F150W\", \"F200W\", \"F277W\", \"F356W\", \"F444W\"]\n",
    "]\n",
    "\n",
    "filters = FilterCollection(\n",
    "    filter_codes=fs,\n",
    "    new_lam=grid.lam,\n",
    ")\n",
    "\n",
    "# Get the photometry\n",
    "gal.get_photo_luminosities(filters)\n",
    "gal.get_photo_fluxes(filters)"
   ]
  },
  {
   "cell_type": "markdown",
   "metadata": {},
   "source": [
    "The photometry produced by these methods are stored in the ``photo_luminosities`` and ``photo_fluxes`` attributes of the ``Galaxy.Stars`` object. These attributes are dictionaries containing the photometry for each spectra key."
   ]
  },
  {
   "cell_type": "code",
   "execution_count": null,
   "metadata": {},
   "outputs": [],
   "source": [
    "print(gal.stars.photo_luminosities)\n",
    "print(gal.stars.photo_fluxes)"
   ]
  },
  {
   "cell_type": "markdown",
   "metadata": {},
   "source": [
    "As before we can print the photometry."
   ]
  },
  {
   "cell_type": "code",
   "execution_count": null,
   "metadata": {},
   "outputs": [],
   "source": [
    "print(gal.stars.photo_fluxes[\"nebular\"])"
   ]
  },
  {
   "cell_type": "markdown",
   "metadata": {},
   "source": [
    "Or plot them."
   ]
  },
  {
   "cell_type": "code",
   "execution_count": null,
   "metadata": {},
   "outputs": [],
   "source": [
    "gal.stars.photo_fluxes[\"nebular\"].plot_photometry(show=True)"
   ]
  },
  {
   "cell_type": "code",
   "execution_count": null,
   "metadata": {},
   "outputs": [],
   "source": [
    "gal.stars.photo_fluxes[\"intrinsic\"].plot_photometry(show=True)"
   ]
  },
  {
   "cell_type": "code",
   "execution_count": null,
   "metadata": {},
   "outputs": [],
   "source": [
    "gal.stars.photo_fluxes[\"total\"].plot_photometry(show=True)"
   ]
  },
  {
   "cell_type": "markdown",
   "metadata": {},
   "source": [
    "## Calculating light radii\n",
    "\n",
    "Once we have photometry we can calculate the radius enclosing a given fraction of the light for a component. Here we'll calculate the half light radius for both the intrinsic emission and the total emission in \"F444W\" in terms of luminosity, but before we can do that we need to get the particle spectra and call ``get_particle_photo_luminosities`` to first calculate the per particle photometry (above we used the galaxy level methods to calculate integrated spectra)."
   ]
  },
  {
   "cell_type": "code",
   "execution_count": null,
   "metadata": {},
   "outputs": [],
   "source": [
    "# Get the particle spectra\n",
    "gal.stars.get_particle_spectra(pacman)\n",
    "\n",
    "# Get the particle photometry\n",
    "gal.stars.get_particle_photo_luminosities(filters)\n",
    "\n",
    "int_r50 = gal.stars.get_half_luminosity_radius(\n",
    "    \"intrinsic\", \"JWST/NIRCam.F444W\"\n",
    ")\n",
    "tot_r50 = gal.stars.get_half_luminosity_radius(\"total\", \"JWST/NIRCam.F444W\")\n",
    "print(int_r50, tot_r50)"
   ]
  },
  {
   "cell_type": "markdown",
   "metadata": {},
   "source": [
    "Similarly to the \"attr\" radii we can compute for any particle component, we can also compute the radius enclosing any fraction of the light for any particle component. "
   ]
  },
  {
   "cell_type": "code",
   "execution_count": null,
   "metadata": {},
   "outputs": [],
   "source": [
    "int_r20 = gal.stars.get_luminosity_radius(\n",
    "    \"intrinsic\", \"JWST/NIRCam.F444W\", frac=0.2\n",
    ")\n",
    "tot_r20 = gal.stars.get_luminosity_radius(\n",
    "    \"total\", \"JWST/NIRCam.F444W\", frac=0.2\n",
    ")\n",
    "int_r80 = gal.stars.get_luminosity_radius(\n",
    "    \"intrinsic\", \"JWST/NIRCam.F444W\", frac=0.8\n",
    ")\n",
    "tot_r80 = gal.stars.get_luminosity_radius(\n",
    "    \"total\", \"JWST/NIRCam.F444W\", frac=0.8\n",
    ")\n",
    "print(int_r20, int_r80, tot_r20, tot_r80)"
   ]
  }
 ],
 "metadata": {},
 "nbformat": 4,
 "nbformat_minor": 2
}
