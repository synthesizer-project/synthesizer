{
 "cells": [
  {
   "cell_type": "markdown",
   "metadata": {},
   "source": [
    "# Generating photometry from a ``Galaxy``\n",
    "\n",
    "If you are working with a ``Galaxy`` (or many ``Galaxy`` objects) containing multiple spectra, you can use the galaxy level ``get_photo_luminosities`` and ``get_photo_fluxes`` methods to generate photometry for all spectra in the galaxy.\n",
    "\n",
    "Before we can demonstrate this we firs need to make a parametric galaxy with a `Stars` and `Blackhole` component, define an emission model for a whole galaxy and generate their rest--frame and observed spectra."
   ]
  },
  {
   "cell_type": "code",
   "execution_count": null,
   "metadata": {},
   "outputs": [],
   "source": [
    "import numpy as np\n",
    "from astropy.cosmology import Planck18 as cosmo\n",
    "from synthesizer.emission_models import (\n",
    "    AttenuatedEmission,\n",
    "    BimodalPacmanEmission,\n",
    "    DustEmission,\n",
    "    EmissionModel,\n",
    "    UnifiedAGN,\n",
    ")\n",
    "from synthesizer.emission_models.attenuation import PowerLaw\n",
    "from synthesizer.emission_models.dust.emission import Blackbody, Greybody\n",
    "from synthesizer.filters import FilterCollection\n",
    "from synthesizer.grid import Grid\n",
    "from synthesizer.parametric import SFH, ZDist\n",
    "from synthesizer.parametric import Stars as ParametricStars\n",
    "from synthesizer.particle import BlackHoles, Galaxy\n",
    "from synthesizer.particle.stars import sample_sfhz\n",
    "from unyt import Myr, kelvin\n",
    "\n",
    "# Get the grids which we'll need for extraction\n",
    "grid_dir = \"../../../tests/test_grid\"\n",
    "grid_name = \"test_grid\"\n",
    "grid = Grid(grid_name, grid_dir=grid_dir)\n",
    "nlr_grid = Grid(\"test_grid_agn-nlr\", grid_dir=\"../../../tests/test_grid\")\n",
    "blr_grid = Grid(\"test_grid_agn-blr\", grid_dir=\"../../../tests/test_grid\")\n",
    "\n",
    "# Define the metallicity history\n",
    "zh = ZDist.DeltaConstant(metallicity=0.01)\n",
    "\n",
    "# Define the star formation history\n",
    "sfh_p = {\"duration\": 100 * Myr}\n",
    "sfh = SFH.Constant(duration=100 * Myr)\n",
    "\n",
    "# Initialise the parametric Stars object\n",
    "param_stars = ParametricStars(\n",
    "    grid.log10age,\n",
    "    grid.metallicity,\n",
    "    sf_hist=sfh,\n",
    "    metal_dist=zh,\n",
    "    initial_mass=10**9,\n",
    ")\n",
    "\n",
    "# Define the number of stellar particles we want\n",
    "n = 500\n",
    "\n",
    "# Sample the parametric SFZH, producing a particle Stars object\n",
    "# we will also pass some keyword arguments for some example attributes\n",
    "part_stars = sample_sfhz(\n",
    "    sfzh=param_stars.sfzh,\n",
    "    log10ages=param_stars.log10ages,\n",
    "    log10metallicities=param_stars.log10metallicities,\n",
    "    nstar=n,\n",
    "    current_masses=np.full(n, 10**8.7 / n),\n",
    "    redshift=1,\n",
    "    coordinates=np.random.normal(0, 0.01, (n, 3)),  # pMpc\n",
    "    centre=np.zeros(3),\n",
    ")\n",
    "\n",
    "# Make fake properties\n",
    "n = 4\n",
    "masses = 10 ** np.random.uniform(low=7, high=9, size=n)  # Msun\n",
    "coordinates = np.random.normal(0, 0.01, (n, 3))  # pMpc\n",
    "accretion_rates = 10 ** np.random.uniform(\n",
    "    low=-2, high=1, size=n\n",
    ")  # Msun  # Msun / yr\n",
    "metallicities = np.full(n, 0.01)\n",
    "\n",
    "# And get the black holes object\n",
    "blackholes = BlackHoles(\n",
    "    masses=masses,\n",
    "    coordinates=coordinates,\n",
    "    accretion_rates=accretion_rates,\n",
    "    metallicities=metallicities,\n",
    ")\n",
    "\n",
    "# And create the galaxy\n",
    "gal = Galaxy(\n",
    "    stars=part_stars,\n",
    "    black_holes=blackholes,\n",
    "    redshift=1,\n",
    ")\n",
    "\n",
    "# Get the stellar pacman model\n",
    "pc_model = BimodalPacmanEmission(\n",
    "    grid=grid,\n",
    "    tau_v_ism=1.0,\n",
    "    tau_v_birth=0.7,\n",
    "    dust_curve_ism=PowerLaw(slope=-1.3),\n",
    "    dust_curve_birth=PowerLaw(slope=-0.7),\n",
    "    dust_emission_ism=Blackbody(temperature=100 * kelvin),\n",
    "    dust_emission_birth=Blackbody(temperature=30 * kelvin),\n",
    "    fesc=0.2,\n",
    "    fesc_ly_alpha=0.9,\n",
    "    label=\"stellar_total\",\n",
    ")\n",
    "\n",
    "# Get the UnifiedAGN model\n",
    "uni_model = UnifiedAGN(\n",
    "    nlr_grid,\n",
    "    blr_grid,\n",
    "    covering_fraction_nlr=0.1,\n",
    "    covering_fraction_blr=0.1,\n",
    "    torus_emission_model=Blackbody(1000 * kelvin),\n",
    "    label=\"agn_intrinsic\",\n",
    ")\n",
    "\n",
    "# Define an emission model to attenuate the intrinsic AGN emission\n",
    "att_uni_model = AttenuatedEmission(\n",
    "    dust_curve=PowerLaw(slope=-1.0),\n",
    "    apply_dust_to=uni_model,\n",
    "    tau_v=0.7,\n",
    "    emitter=\"blackhole\",\n",
    "    label=\"agn_attenuated\",\n",
    ")\n",
    "\n",
    "gal_intrinsic = EmissionModel(\n",
    "    label=\"total_intrinsic\",\n",
    "    combine=(uni_model, pc_model[\"intrinsic\"]),\n",
    "    emitter=\"galaxy\",\n",
    ")\n",
    "\n",
    "gal_attenuated = EmissionModel(\n",
    "    label=\"total_attenuated\",\n",
    "    combine=(att_uni_model, pc_model[\"attenuated\"]),\n",
    "    related_models=(gal_intrinsic,),\n",
    "    emitter=\"galaxy\",\n",
    ")\n",
    "\n",
    "# And now include the dust emission\n",
    "gal_dust = DustEmission(\n",
    "    dust_emission_model=Greybody(30 * kelvin, 1.2),\n",
    "    dust_lum_intrinsic=gal_intrinsic,\n",
    "    dust_lum_attenuated=gal_attenuated,\n",
    "    emitter=\"galaxy\",\n",
    "    label=\"dust_emission\",\n",
    ")\n",
    "\n",
    "gal_total = EmissionModel(\n",
    "    label=\"total\",\n",
    "    combine=(gal_attenuated, gal_dust),\n",
    "    related_models=(gal_intrinsic),\n",
    "    emitter=\"galaxy\",\n",
    ")\n",
    "\n",
    "# Get the spectra\n",
    "sed = gal.get_spectra(gal_total)\n",
    "\n",
    "# Get fluxes\n",
    "gal.get_observed_spectra(cosmo)"
   ]
  },
  {
   "cell_type": "markdown",
   "metadata": {},
   "source": [
    "We can then combine with a ``FilterCollection`` to generate the galaxy-level photometry."
   ]
  },
  {
   "cell_type": "code",
   "execution_count": null,
   "metadata": {},
   "outputs": [],
   "source": [
    "# Get the filter collection\n",
    "fs = [\n",
    "    f\"JWST/NIRCam.{f}\"\n",
    "    for f in [\"F090W\", \"F150W\", \"F200W\", \"F277W\", \"F356W\", \"F444W\"]\n",
    "]\n",
    "\n",
    "filters = FilterCollection(\n",
    "    filter_codes=fs,\n",
    "    new_lam=grid.lam,\n",
    ")\n",
    "\n",
    "# Get the photometry\n",
    "gal.get_photo_luminosities(filters)\n",
    "gal.get_photo_fluxes(filters)"
   ]
  },
  {
   "cell_type": "markdown",
   "metadata": {},
   "source": [
    "The photometry produced by these methods are stored in the ``photo_luminosities`` and ``photo_fluxes`` attributes, either at the base galaxy level or the individual components.\n",
    "These attributes are dictionaries containing the photometry for each spectra key.\n",
    "\n",
    "For example, on the ``Galaxy.Stars`` object:"
   ]
  },
  {
   "cell_type": "code",
   "execution_count": null,
   "metadata": {},
   "outputs": [],
   "source": [
    "print(gal.stars.photo_luminosities)\n",
    "print(gal.stars.photo_fluxes)"
   ]
  },
  {
   "cell_type": "markdown",
   "metadata": {},
   "source": [
    "Or on the galaxy level"
   ]
  },
  {
   "cell_type": "code",
   "execution_count": null,
   "metadata": {},
   "outputs": [],
   "source": [
    "print(gal.photo_luminosities)"
   ]
  },
  {
   "cell_type": "markdown",
   "metadata": {},
   "source": [
    "As before we can print the photometry."
   ]
  },
  {
   "cell_type": "code",
   "execution_count": null,
   "metadata": {},
   "outputs": [],
   "source": [
    "print(gal.photo_fluxes[\"total_attenuated\"])"
   ]
  },
  {
   "cell_type": "markdown",
   "metadata": {},
   "source": [
    "Or plot them."
   ]
  },
  {
   "cell_type": "code",
   "execution_count": null,
   "metadata": {},
   "outputs": [],
   "source": [
    "gal.photo_fluxes[\"total_attenuated\"].plot_photometry(show=True)"
   ]
  },
  {
   "cell_type": "code",
   "execution_count": null,
   "metadata": {},
   "outputs": [],
   "source": [
    "gal.photo_fluxes[\"total_intrinsic\"].plot_photometry(show=True)"
   ]
  },
  {
   "cell_type": "code",
   "execution_count": null,
   "metadata": {},
   "outputs": [],
   "source": [
    "gal.photo_fluxes[\"total\"].plot_photometry(show=True)"
   ]
  },
  {
   "cell_type": "markdown",
   "metadata": {},
   "source": [
    "## Calculating light radii\n",
    "\n",
    "Once we have photometry we can calculate the radius enclosing a given fraction of the light for a component. Here we'll calculate the half light radius for both the intrinsic emission and the total emission in \"F444W\" in terms of luminosity, but before we can do that we need to get the particle spectra and call ``get_particle_photo_luminosities`` to first calculate the per particle photometry (above we used the galaxy level methods to calculate integrated spectra)."
   ]
  },
  {
   "cell_type": "code",
   "execution_count": null,
   "metadata": {},
   "outputs": [],
   "source": [
    "# Get the particle spectra\n",
    "gal.stars.get_particle_spectra(pc_model)\n",
    "\n",
    "# Get the particle photometry\n",
    "gal.stars.get_particle_photo_luminosities(filters)\n",
    "\n",
    "int_r50 = gal.stars.get_half_luminosity_radius(\n",
    "    \"intrinsic\", \"JWST/NIRCam.F444W\"\n",
    ")\n",
    "tot_r50 = gal.stars.get_half_luminosity_radius(\n",
    "    \"stellar_total\", \"JWST/NIRCam.F444W\"\n",
    ")\n",
    "print(int_r50, tot_r50)"
   ]
  },
  {
   "cell_type": "markdown",
   "metadata": {},
   "source": [
    "Similarly to the \"attr\" radii we can compute for any particle component, we can also compute the radius enclosing any fraction of the light for any particle component. "
   ]
  },
  {
   "cell_type": "code",
   "execution_count": null,
   "metadata": {},
   "outputs": [],
   "source": [
    "int_r20 = gal.stars.get_luminosity_radius(\n",
    "    \"intrinsic\", \"JWST/NIRCam.F444W\", frac=0.2\n",
    ")\n",
    "tot_r20 = gal.stars.get_luminosity_radius(\n",
    "    \"stellar_total\", \"JWST/NIRCam.F444W\", frac=0.2\n",
    ")\n",
    "int_r80 = gal.stars.get_luminosity_radius(\n",
    "    \"intrinsic\", \"JWST/NIRCam.F444W\", frac=0.8\n",
    ")\n",
    "tot_r80 = gal.stars.get_luminosity_radius(\n",
    "    \"stellar_total\", \"JWST/NIRCam.F444W\", frac=0.8\n",
    ")\n",
    "print(int_r20, int_r80, tot_r20, tot_r80)"
   ]
  }
 ],
 "metadata": {},
 "nbformat": 4,
 "nbformat_minor": 2
}
