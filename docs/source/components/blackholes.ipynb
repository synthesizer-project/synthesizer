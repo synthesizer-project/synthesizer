{
 "cells": [
  {
   "cell_type": "markdown",
   "id": "659dcb3a-891b-4271-9073-d02efbeb14d5",
   "metadata": {},
   "source": [
    "# Blackholes\n",
    "\n",
    "Synthesizer has a collection of routines for modelling the emission of black holes (i.e. AGN).\n",
    "When coupled with a `Galaxy` object it also allows users to combine with the emission from other galaxy components (i.e. stellar emission).\n",
    "\n",
    "Unlike stellar emission the division between a `particle` and a `parametric` `BlackHoles`/`BlackHole` object is not well defined; we explain below the differences in different use cases."
   ]
  },
  {
   "cell_type": "markdown",
   "id": "f94e0a00",
   "metadata": {},
   "source": [
    "## Parametric Blackholes\n",
    "\n",
    "If you are only interested in exploring the parameter space of AGN emission without simulation data to forward model you can use a `parametric.BlackHole`. There are some specific differences compared to `particle.BlackHole` objects to keep in mind:\n",
    "\n",
    "- A `parametric.BlackHole` can only ever describe a singular black hole. \n",
    "\n",
    "- A `parametric.BlackHole`'s \"position\" (i.e. if making an image) is described by a `PointSource` morphology object rather than coordinates.\n",
    "\n",
    "- A `parametric.BlackHole` exists in isolation, i.e. it does not interface directly with other parametric components."
   ]
  },
  {
   "cell_type": "code",
   "execution_count": null,
   "id": "399caf89",
   "metadata": {},
   "outputs": [],
   "source": [
    "import numpy as np\n",
    "from unyt import Msun, deg, yr, Mpc\n",
    "\n",
    "from synthesizer import galaxy\n",
    "from synthesizer.parametric import BlackHole\n",
    "\n",
    "# Set a random number seed to ensure consistent results\n",
    "np.random.seed(42)"
   ]
  },
  {
   "cell_type": "markdown",
   "id": "5fed6a84",
   "metadata": {},
   "source": [
    "First we need to initialise our `BlackHole` object with the parameters that will be needed to compute spectra."
   ]
  },
  {
   "cell_type": "code",
   "execution_count": null,
   "id": "69c13ec2",
   "metadata": {},
   "outputs": [],
   "source": [
    "blackhole = BlackHole(\n",
    "    mass=1e8 * Msun,\n",
    "    inclination=60 * deg,\n",
    "    accretion_rate=1 * Msun / yr,\n",
    "    metallicity=0.01,\n",
    ")"
   ]
  },
  {
   "cell_type": "markdown",
   "id": "8d280233",
   "metadata": {},
   "source": [
    "Like other synthesizer objects we can get more information using the `print` command."
   ]
  },
  {
   "cell_type": "code",
   "execution_count": null,
   "id": "08c6675c",
   "metadata": {},
   "outputs": [],
   "source": [
    "print(blackhole)"
   ]
  },
  {
   "cell_type": "markdown",
   "id": "9af26293",
   "metadata": {},
   "source": [
    "## Particle blackholes"
   ]
  },
  {
   "attachments": {},
   "cell_type": "markdown",
   "id": "8327fd4d",
   "metadata": {},
   "source": [
    "### Creating Particle Blackholes\n",
    "\n",
    "Before generating some simple observational quantities from physical properties we first need to create a `BlackHoles` object. This object can be found in `synthesizer/particle/blackholes.py`. "
   ]
  },
  {
   "cell_type": "code",
   "execution_count": null,
   "id": "f00db3a1",
   "metadata": {},
   "outputs": [],
   "source": [
    "from synthesizer.particle.blackholes import BlackHoles\n",
    "from synthesizer.particle.gas import Gas"
   ]
  },
  {
   "cell_type": "markdown",
   "id": "326cb123",
   "metadata": {},
   "source": [
    "Lets create an instance of `BlackHoles` containing 4 fake black holes.\n",
    "To do so we can provide a number of optional keyword arguments, but for now lets just provide their masses, metallicities, coordinates and accretion rates (the parameters required for spectra calculation).\n",
    "Note that `masses` and `accretion_rates` are positional arguments, and must therefore always be provided for `particle.BlackHoles`, while `parametric.BlackHole`s have more flexibility."
   ]
  },
  {
   "cell_type": "code",
   "execution_count": null,
   "id": "79c4459f-4b18-43dd-922f-f20ad58bbfd6",
   "metadata": {},
   "outputs": [],
   "source": [
    "# Make fake properties\n",
    "n = 4\n",
    "masses = 10 ** np.random.uniform(low=7, high=9, size=n) * Msun\n",
    "coordinates = np.random.normal(0, 1.5, (n, 3)) * Mpc\n",
    "accretion_rates = 10 ** np.random.uniform(\n",
    "    low=-2, high=1, size=n\n",
    ")  * Msun / yr\n",
    "metallicities = np.full(n, 0.01)\n",
    "\n",
    "# And get the black holes object\n",
    "bh = BlackHoles(\n",
    "    masses=masses,\n",
    "    coordinates=coordinates,\n",
    "    accretion_rates=accretion_rates, \n",
    "    metallicities=metallicities,\n",
    ")"
   ]
  },
  {
   "attachments": {},
   "cell_type": "markdown",
   "id": "155a2514",
   "metadata": {},
   "source": [
    "For some emission models we require an inclination. This could, in principle, be calculated from the simulation and passed at instantiation, but for now we can use an in-built method to generate random inclinations."
   ]
  },
  {
   "cell_type": "code",
   "execution_count": null,
   "id": "ed4a9c3b",
   "metadata": {},
   "outputs": [],
   "source": [
    "bh.calculate_random_inclination()\n",
    "print(bh.inclination)"
   ]
  },
  {
   "attachments": {},
   "cell_type": "markdown",
   "id": "33201117",
   "metadata": {},
   "source": [
    "#### Blackhole properties"
   ]
  },
  {
   "attachments": {},
   "cell_type": "markdown",
   "id": "84687e7f",
   "metadata": {},
   "source": [
    "On initialisation a handful of properties will automatically be calculated if their prerequisites are met.\n",
    "For example, if `masses` and `accretion_rates` are provided, `bolometric_luminosities` are automatically calculated using, $$L_{\\rm \\bullet, bol} = \\epsilon_{r}\\dot{M}_{\\bullet}c^{2}.$$\n",
    "Note that the radiative efficency (`epsilon`) defaults to 0.1, but can be passed as an array with a value for each particle. "
   ]
  },
  {
   "cell_type": "code",
   "execution_count": null,
   "id": "75ff6769",
   "metadata": {},
   "outputs": [],
   "source": [
    "bh.bolometric_luminosities"
   ]
  },
  {
   "cell_type": "markdown",
   "id": "bebe89a3",
   "metadata": {},
   "source": [
    "Here are some more examples of calculated properties."
   ]
  },
  {
   "cell_type": "code",
   "execution_count": null,
   "id": "8e5a8bd4",
   "metadata": {},
   "outputs": [],
   "source": [
    "print(bh.eddington_ratio)\n",
    "print(bh.accretion_rate_eddington)\n",
    "print(bh.eddington_luminosity)"
   ]
  },
  {
   "cell_type": "markdown",
   "id": "c9463358",
   "metadata": {},
   "source": [
    "As with most synthesizer objects a summary of the object can be printed using `print`."
   ]
  },
  {
   "cell_type": "code",
   "execution_count": null,
   "id": "0d17f748",
   "metadata": {},
   "outputs": [],
   "source": [
    "print(bh)"
   ]
  },
  {
   "cell_type": "markdown",
   "id": "2f86e685",
   "metadata": {},
   "source": [
    "#### Calculating black hole metallicity\n",
    "\n",
    "If we want to calculate emission from the black hole and its surroundings we need to know the metallicity of the gas surrounding the black hole.\n",
    "In the example above we could have passed an array of metallicities at instantiation, but most of the time we will not know ahead of time what these values should be.\n",
    "Instead, we can use the gas surrounding the black hole to calculate what this metallicity is. To do this we need to first create a `Galaxy` with both a `Gas` component and `BlackHoles`, again using fake data."
   ]
  },
  {
   "cell_type": "code",
   "execution_count": null,
   "id": "e384907e",
   "metadata": {},
   "outputs": [],
   "source": [
    "# Make fake gas properties\n",
    "ngas = 200\n",
    "ms = np.full(ngas, 10**6.5)  # Msun\n",
    "pos = np.random.normal(0, 1.5, (ngas, 3))  # cMpc\n",
    "hsml = np.full(ngas, 0.75)  # cMpc\n",
    "metals = np.full(ngas, 0.01)\n",
    "\n",
    "# And make the gas object\n",
    "gas = Gas(\n",
    "    masses=ms * Msun, metallicities=metals, coordinates=pos * Mpc, smoothing_lengths=hsml * Mpc\n",
    ")\n",
    "\n",
    "# And now create the galaxy\n",
    "galaxy = galaxy(stars=None, gas=gas, black_holes=bh)"
   ]
  },
  {
   "cell_type": "markdown",
   "id": "02dc7334",
   "metadata": {},
   "source": [
    "Now we have the galaxy we can use `galaxy.calculate_black_hole_metallicity()` to calculate the black holes' metallicity.\n",
    "This method will find all gas particles with smoothing lengths that intersect the black hole and calculate the mass--weighted average of their metallicity.\n",
    "If a black hole does not find any gas neighbours then a default metallicity is set instead.\n",
    "This defaults to solar metallicity (0.012) but can be overwritten by passing a new `default_metallicity` as shown below."
   ]
  },
  {
   "cell_type": "code",
   "execution_count": null,
   "id": "42abc9ec",
   "metadata": {},
   "outputs": [],
   "source": [
    "galaxy.calculate_black_hole_metallicity(default_metallicity=0.07)\n",
    "print(\"Z_BH =\", galaxy.black_holes.metallicities)"
   ]
  }
 ],
 "metadata": {},
 "nbformat": 4,
 "nbformat_minor": 5
}
