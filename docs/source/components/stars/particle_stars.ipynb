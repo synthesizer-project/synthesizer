{
 "cells": [
  {
   "cell_type": "markdown",
   "metadata": {},
   "source": [
    "# Particle Stars\n",
    "\n",
    "The core element for modelling stellar distribution that can come from hydrodynamical simulations (not limited to) in `Synthesizer` is `particle.Stars`. This component is described by:\n",
    "    - "
   ]
  }
 ],
 "metadata": {},
 "nbformat": 4,
 "nbformat_minor": 2
}
