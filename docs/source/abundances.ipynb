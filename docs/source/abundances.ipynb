{
 "cells": [
  {
   "attachments": {},
   "cell_type": "markdown",
   "metadata": {},
   "source": [
    "# Abundances\n",
    "\n",
    "`synthesizer` can be used to generate abundance patterns, in total and for gas and dust individually, for a given metallicity, alpha ehancement, and arbitrary element scalings.\n",
    "\n",
    "At present this functionality is only utilised when creating cloudy input scripts. These scripts are used to calculate nebular line and continuum emission for a given incident spectral energy distribution and gas abundance pattern."
   ]
  },
  {
   "cell_type": "code",
   "execution_count": 18,
   "metadata": {},
   "outputs": [],
   "source": [
    "from synthesizer.abundances import (\n",
    "    Abundances,\n",
    "    ScalingFunctions,\n",
    "    plot_abundance_pattern,\n",
    "    plot_multiple_abundance_patterns,\n",
    ")"
   ]
  },
  {
   "attachments": {},
   "cell_type": "markdown",
   "metadata": {},
   "source": [
    "by default initialising `Abundances` creates a solar abundance pattern with no depletion. The default solar abundance pattern is Asplund et al. (2009), though this can be changed if desired. "
   ]
  },
  {
   "cell_type": "code",
   "execution_count": 19,
   "metadata": {},
   "outputs": [],
   "source": [
    "a1 = Abundances()"
   ]
  },
  {
   "attachments": {},
   "cell_type": "markdown",
   "metadata": {},
   "source": [
    "like most `synthesizer` objects we can explore the important attributes of an object by using `print()`:"
   ]
  },
  {
   "cell_type": "code",
   "execution_count": 20,
   "metadata": {},
   "outputs": [
    {
     "name": "stdout",
     "output_type": "stream",
     "text": [
      "--------------------\n",
      "ABUNDANCE PATTERN SUMMARY\n",
      "X: 0.714\n",
      "Y: 0.272\n",
      "Z: 0.013\n",
      "Z/Z_sol: 1\n",
      "alpha: 0.000\n",
      "dust-to-metal ratio: False\n",
      "MAX dust-to-metal ratio: 0.602\n",
      "----------\n",
      "element log10(X/H)_total (log10(X/H)+12) [[X/H]] |depletion| log10(X/H)_gas log10(X/H)_dust \n",
      "Lithium: -10.94 (1.06) [0.01] |0.00| -10.94 -99.00\n",
      "Beryllium: -10.61 (1.39) [0.01] |0.00| -10.61 -99.00\n",
      "Boron: -9.29 (2.71) [0.01] |0.00| -9.29 -99.00\n",
      "Carbon: -3.56 (8.44) [0.01] |0.00| -3.56 -99.00\n",
      "Nitrogen: -4.16 (7.84) [0.01] |0.00| -4.16 -99.00\n",
      "Oxygen: -3.30 (8.70) [0.01] |0.00| -3.30 -99.00\n",
      "Fluorine: -7.43 (4.57) [0.01] |0.00| -7.43 -99.00\n",
      "Neon: -4.06 (7.94) [0.01] |0.00| -4.06 -99.00\n",
      "Sodium: -5.06 (6.94) [0.01] |0.00| -5.06 -99.00\n",
      "Magnesium: -4.39 (7.61) [0.01] |0.00| -4.39 -99.00\n",
      "Aluminium: -5.54 (6.46) [0.01] |0.00| -5.54 -99.00\n",
      "Silicon: -4.48 (7.52) [0.01] |0.00| -4.48 -99.00\n",
      "Phosphorus: -6.58 (5.42) [0.01] |0.00| -6.58 -99.00\n",
      "Sulphur: -4.87 (7.13) [0.01] |0.00| -4.87 -99.00\n",
      "Chlorine: -6.49 (5.51) [0.01] |0.00| -6.49 -99.00\n",
      "Argon: -5.59 (6.41) [0.01] |0.00| -5.59 -99.00\n",
      "Potassium: -6.96 (5.04) [0.01] |0.00| -6.96 -99.00\n",
      "Calcium: -5.65 (6.35) [0.01] |0.00| -5.65 -99.00\n",
      "Scandium: -8.84 (3.16) [0.01] |0.00| -8.84 -99.00\n",
      "Titanium: -7.04 (4.96) [0.01] |0.00| -7.04 -99.00\n",
      "Vanadium: -8.06 (3.94) [0.01] |0.00| -8.06 -99.00\n",
      "Chromium: -6.35 (5.65) [0.01] |0.00| -6.35 -99.00\n",
      "Manganese: -6.56 (5.44) [0.01] |0.00| -6.56 -99.00\n",
      "Iron: -4.49 (7.51) [0.01] |0.00| -4.49 -99.00\n",
      "Cobalt: -7.00 (5.00) [0.01] |0.00| -7.00 -99.00\n",
      "Nickel: -5.77 (6.23) [0.01] |0.00| -5.77 -99.00\n",
      "Copper: -7.80 (4.20) [0.01] |0.00| -7.80 -99.00\n",
      "Zinc: -7.43 (4.57) [0.01] |0.00| -7.43 -99.00\n",
      "Hydrogen: 0.00 (12.00) [0.00] |0.00| 0.00 -99.00\n",
      "Helium: -1.02 (10.98) [0.05] |0.00| -1.02 -99.00\n",
      "--------------------\n"
     ]
    }
   ],
   "source": [
    "print(a1)"
   ]
  },
  {
   "attachments": {},
   "cell_type": "markdown",
   "metadata": {},
   "source": [
    "You can access the logarithmic abundances ($\\log_{10}(N_X/N_H)$) of an element like this:"
   ]
  },
  {
   "cell_type": "code",
   "execution_count": 21,
   "metadata": {},
   "outputs": [
    {
     "name": "stdout",
     "output_type": "stream",
     "text": [
      "log10(O/H): -3.30\n",
      "log10(O/H): -3.30\n"
     ]
    }
   ],
   "source": [
    "print(f\"log10(O/H): {a1.total['O']:.2f}\")\n",
    "print(f\"log10(O/H): {a1['O']:.2f}\")"
   ]
  },
  {
   "attachments": {},
   "cell_type": "markdown",
   "metadata": {},
   "source": [
    "We can specify a different metallicity. By default abundances are scaled from the Solar abundances provided through an optional argument (default Asplund et a. 2009). However, as we will see later, it is possible to set a different $\\alpha$-enhancement or set arbitrary element scalings."
   ]
  },
  {
   "cell_type": "code",
   "execution_count": 22,
   "metadata": {},
   "outputs": [
    {
     "name": "stdout",
     "output_type": "stream",
     "text": [
      "--------------------\n",
      "ABUNDANCE PATTERN SUMMARY\n",
      "X: 0.724\n",
      "Y: 0.266\n",
      "Z: 0.010\n",
      "Z/Z_sol: 0.75\n",
      "alpha: 0.000\n",
      "dust-to-metal ratio: False\n",
      "MAX dust-to-metal ratio: 0.594\n",
      "----------\n",
      "element log10(X/H)_total (log10(X/H)+12) [[X/H]] |depletion| log10(X/H)_gas log10(X/H)_dust \n",
      "Lithium: -11.07 (0.93) [-0.12] |0.00| -11.07 -99.00\n",
      "Beryllium: -10.74 (1.26) [-0.12] |0.00| -10.74 -99.00\n",
      "Boron: -9.42 (2.58) [-0.12] |0.00| -9.42 -99.00\n",
      "Carbon: -3.69 (8.31) [-0.12] |0.00| -3.69 -99.00\n",
      "Nitrogen: -4.29 (7.71) [-0.12] |0.00| -4.29 -99.00\n",
      "Oxygen: -3.43 (8.57) [-0.12] |0.00| -3.43 -99.00\n",
      "Fluorine: -7.56 (4.44) [-0.12] |0.00| -7.56 -99.00\n",
      "Neon: -4.19 (7.81) [-0.12] |0.00| -4.19 -99.00\n",
      "Sodium: -5.19 (6.81) [-0.12] |0.00| -5.19 -99.00\n",
      "Magnesium: -4.52 (7.48) [-0.12] |0.00| -4.52 -99.00\n",
      "Aluminium: -5.67 (6.33) [-0.12] |0.00| -5.67 -99.00\n",
      "Silicon: -4.61 (7.39) [-0.12] |0.00| -4.61 -99.00\n",
      "Phosphorus: -6.71 (5.29) [-0.12] |0.00| -6.71 -99.00\n",
      "Sulphur: -5.00 (7.00) [-0.12] |0.00| -5.00 -99.00\n",
      "Chlorine: -6.62 (5.38) [-0.12] |0.00| -6.62 -99.00\n",
      "Argon: -5.72 (6.28) [-0.12] |0.00| -5.72 -99.00\n",
      "Potassium: -7.09 (4.91) [-0.12] |0.00| -7.09 -99.00\n",
      "Calcium: -5.78 (6.22) [-0.12] |0.00| -5.78 -99.00\n",
      "Scandium: -8.97 (3.03) [-0.12] |0.00| -8.97 -99.00\n",
      "Titanium: -7.17 (4.83) [-0.12] |0.00| -7.17 -99.00\n",
      "Vanadium: -8.19 (3.81) [-0.12] |0.00| -8.19 -99.00\n",
      "Chromium: -6.48 (5.52) [-0.12] |0.00| -6.48 -99.00\n",
      "Manganese: -6.69 (5.31) [-0.12] |0.00| -6.69 -99.00\n",
      "Iron: -4.62 (7.38) [-0.12] |0.00| -4.62 -99.00\n",
      "Cobalt: -7.13 (4.87) [-0.12] |0.00| -7.13 -99.00\n",
      "Nickel: -5.90 (6.10) [-0.12] |0.00| -5.90 -99.00\n",
      "Copper: -7.93 (4.07) [-0.12] |0.00| -7.93 -99.00\n",
      "Zinc: -7.56 (4.44) [-0.12] |0.00| -7.56 -99.00\n",
      "Hydrogen: 0.00 (12.00) [0.00] |0.00| 0.00 -99.00\n",
      "Helium: -1.04 (10.96) [0.03] |0.00| -1.04 -99.00\n",
      "--------------------\n"
     ]
    }
   ],
   "source": [
    "a2 = Abundances(metallicity=0.01)\n",
    "print(a2)"
   ]
  },
  {
   "attachments": {},
   "cell_type": "markdown",
   "metadata": {},
   "source": [
    "## $\\alpha$-enhancement\n",
    "\n",
    "We can also generate abundance patterns assuming different $\\alpha$-enhancements."
   ]
  },
  {
   "cell_type": "code",
   "execution_count": 23,
   "metadata": {},
   "outputs": [
    {
     "name": "stdout",
     "output_type": "stream",
     "text": [
      "--------------------\n",
      "ABUNDANCE PATTERN SUMMARY\n",
      "X: 0.724\n",
      "Y: 0.266\n",
      "Z: 0.010\n",
      "Z/Z_sol: 0.75\n",
      "alpha: 0.600\n",
      "dust-to-metal ratio: False\n",
      "MAX dust-to-metal ratio: 0.509\n",
      "----------\n",
      "element log10(X/H)_total (log10(X/H)+12) [[X/H]] |depletion| log10(X/H)_gas log10(X/H)_dust \n",
      "Lithium: -11.54 (0.46) [-0.59] |0.00| -11.54 -99.00\n",
      "Beryllium: -11.21 (0.79) [-0.59] |0.00| -11.21 -99.00\n",
      "Boron: -9.89 (2.11) [-0.59] |0.00| -9.89 -99.00\n",
      "Carbon: -4.16 (7.84) [-0.59] |0.00| -4.16 -99.00\n",
      "Nitrogen: -4.76 (7.24) [-0.59] |0.00| -4.76 -99.00\n",
      "Oxygen: -3.30 (8.70) [0.01] |0.00| -3.30 -99.00\n",
      "Fluorine: -8.03 (3.97) [-0.59] |0.00| -8.03 -99.00\n",
      "Neon: -4.06 (7.94) [0.01] |0.00| -4.06 -99.00\n",
      "Sodium: -5.66 (6.34) [-0.59] |0.00| -5.66 -99.00\n",
      "Magnesium: -4.39 (7.61) [0.01] |0.00| -4.39 -99.00\n",
      "Aluminium: -6.14 (5.86) [-0.59] |0.00| -6.14 -99.00\n",
      "Silicon: -4.48 (7.52) [0.01] |0.00| -4.48 -99.00\n",
      "Phosphorus: -7.18 (4.82) [-0.59] |0.00| -7.18 -99.00\n",
      "Sulphur: -4.87 (7.13) [0.01] |0.00| -4.87 -99.00\n",
      "Chlorine: -7.09 (4.91) [-0.59] |0.00| -7.09 -99.00\n",
      "Argon: -5.59 (6.41) [0.01] |0.00| -5.59 -99.00\n",
      "Potassium: -7.56 (4.44) [-0.59] |0.00| -7.56 -99.00\n",
      "Calcium: -5.65 (6.35) [0.01] |0.00| -5.65 -99.00\n",
      "Scandium: -9.44 (2.56) [-0.59] |0.00| -9.44 -99.00\n",
      "Titanium: -7.04 (4.96) [0.01] |0.00| -7.04 -99.00\n",
      "Vanadium: -8.66 (3.34) [-0.59] |0.00| -8.66 -99.00\n",
      "Chromium: -6.95 (5.05) [-0.59] |0.00| -6.95 -99.00\n",
      "Manganese: -7.16 (4.84) [-0.59] |0.00| -7.16 -99.00\n",
      "Iron: -5.09 (6.91) [-0.59] |0.00| -5.09 -99.00\n",
      "Cobalt: -7.60 (4.40) [-0.59] |0.00| -7.60 -99.00\n",
      "Nickel: -6.37 (5.63) [-0.59] |0.00| -6.37 -99.00\n",
      "Copper: -8.40 (3.60) [-0.59] |0.00| -8.40 -99.00\n",
      "Zinc: -8.03 (3.97) [-0.59] |0.00| -8.03 -99.00\n",
      "Hydrogen: 0.00 (12.00) [0.00] |0.00| 0.00 -99.00\n",
      "Helium: -1.04 (10.96) [0.03] |0.00| -1.04 -99.00\n",
      "--------------------\n"
     ]
    }
   ],
   "source": [
    "a3 = Abundances(metallicity=0.01, alpha=0.6)\n",
    "print(a3)"
   ]
  },
  {
   "attachments": {},
   "cell_type": "markdown",
   "metadata": {},
   "source": [
    "We can print a relative solar abundance like this:"
   ]
  },
  {
   "cell_type": "code",
   "execution_count": 24,
   "metadata": {},
   "outputs": [
    {
     "name": "stdout",
     "output_type": "stream",
     "text": [
      "[O/Fe] = 0.60\n",
      "[O/Fe] = 0.60\n"
     ]
    }
   ],
   "source": [
    "print(f\"[O/Fe] = {a3.solar_relative_abundance('O', ref_element='Fe'):.2f}\")\n",
    "print(f\"[O/Fe] = {a3['[O/Fe]']:.2f}\")"
   ]
  },
  {
   "attachments": {},
   "cell_type": "markdown",
   "metadata": {},
   "source": [
    "That, is, as expected given that we set $\\alpha=0.6$."
   ]
  },
  {
   "attachments": {},
   "cell_type": "markdown",
   "metadata": {},
   "source": [
    "### Dust\n",
    "\n",
    "To account for metals being locked up in dust, we can also specify a dust to metal ratio, and optionally a dust depletion pattern. By default we use a custom depletion pattern described in the code."
   ]
  },
  {
   "cell_type": "code",
   "execution_count": 25,
   "metadata": {},
   "outputs": [
    {
     "name": "stdout",
     "output_type": "stream",
     "text": [
      "--------------------\n",
      "ABUNDANCE PATTERN SUMMARY\n",
      "X: 0.724\n",
      "Y: 0.266\n",
      "Z: 0.010\n",
      "Z/Z_sol: 0.75\n",
      "alpha: 0.000\n",
      "dust-to-metal ratio: 0.3\n",
      "MAX dust-to-metal ratio: 0.594\n",
      "----------\n",
      "element log10(X/H)_total (log10(X/H)+12) [[X/H]] |depletion| log10(X/H)_gas log10(X/H)_dust \n",
      "Lithium: -11.07 (0.93) [-0.12] |0.42| -11.31 -11.45\n",
      "Beryllium: -10.74 (1.26) [-0.12] |0.20| -10.84 -11.44\n",
      "Boron: -9.42 (2.58) [-0.12] |0.44| -9.67 -9.78\n",
      "Carbon: -3.69 (8.31) [-0.12] |0.25| -3.82 -4.29\n",
      "Nitrogen: -4.29 (7.71) [-0.12] |0.06| -4.32 -5.55\n",
      "Oxygen: -3.43 (8.57) [-0.12] |0.15| -3.50 -4.25\n",
      "Fluorine: -7.56 (4.44) [-0.12] |0.35| -7.75 -8.01\n",
      "Neon: -4.19 (7.81) [-0.12] |0.00| -4.19 -99.00\n",
      "Sodium: -5.19 (6.81) [-0.12] |0.38| -5.40 -5.61\n",
      "Magnesium: -4.52 (7.48) [-0.12] |0.40| -4.75 -4.92\n",
      "Aluminium: -5.67 (6.33) [-0.12] |0.49| -5.97 -5.98\n",
      "Silicon: -4.61 (7.39) [-0.12] |0.45| -4.88 -4.96\n",
      "Phosphorus: -6.71 (5.29) [-0.12] |0.38| -6.92 -7.13\n",
      "Sulphur: -5.00 (7.00) [-0.12] |0.00| -5.00 -99.00\n",
      "Chlorine: -6.62 (5.38) [-0.12] |0.25| -6.75 -7.22\n",
      "Argon: -5.72 (6.28) [-0.12] |0.00| -5.72 -99.00\n",
      "Potassium: -7.09 (4.91) [-0.12] |0.35| -7.28 -7.54\n",
      "Calcium: -5.78 (6.22) [-0.12] |0.50| -6.09 -6.08\n",
      "Scandium: -8.97 (3.03) [-0.12] |0.50| -9.28 -9.27\n",
      "Titanium: -7.17 (4.83) [-0.12] |0.50| -7.47 -7.47\n",
      "Vanadium: -8.19 (3.81) [-0.12] |0.50| -8.50 -8.49\n",
      "Chromium: -6.48 (5.52) [-0.12] |0.50| -6.79 -6.78\n",
      "Manganese: -6.69 (5.31) [-0.12] |0.48| -6.98 -7.01\n",
      "Iron: -4.62 (7.38) [-0.12] |0.50| -4.92 -4.92\n",
      "Cobalt: -7.13 (4.87) [-0.12] |0.50| -7.43 -7.43\n",
      "Nickel: -5.90 (6.10) [-0.12] |0.48| -6.19 -6.22\n",
      "Copper: -7.93 (4.07) [-0.12] |0.45| -8.20 -8.28\n",
      "Zinc: -7.56 (4.44) [-0.12] |0.38| -7.77 -7.98\n",
      "Hydrogen: 0.00 (12.00) [0.00] |0.00| 0.00 -99.00\n",
      "Helium: -1.04 (10.96) [0.03] |0.00| -1.04 -99.00\n",
      "--------------------\n"
     ]
    }
   ],
   "source": [
    "a4 = Abundances(metallicity=0.01, dust_to_metal_ratio=0.3)\n",
    "print(a4)"
   ]
  },
  {
   "attachments": {},
   "cell_type": "markdown",
   "metadata": {},
   "source": [
    "When the `dust_to_metal_ratio` > 0.0 total, gas, and dust abundance patterns are provided e.g."
   ]
  },
  {
   "cell_type": "code",
   "execution_count": 26,
   "metadata": {},
   "outputs": [
    {
     "name": "stdout",
     "output_type": "stream",
     "text": [
      "log10(C_total/H) : -3.69\n",
      "log10(C_gas/H) : -3.82\n",
      "log10(C_dust/H) : -4.29\n"
     ]
    }
   ],
   "source": [
    "print(f'log10(C_total/H) : {a4.total[\"C\"]:.2f}')\n",
    "print(f'log10(C_gas/H) : {a4.gas[\"C\"]:.2f}')\n",
    "print(f'log10(C_dust/H) : {a4.dust[\"C\"]:.2f}')"
   ]
  },
  {
   "attachments": {},
   "cell_type": "markdown",
   "metadata": {},
   "source": [
    "### Arbitrary element scaling\n",
    "\n",
    "We can also change the abundance of any specific element (or set of elements), with the abundances of other elements rescaled self-consistently to yield the correct metallicity. \n",
    "\n",
    "If the abundance is a float it is the logarithmic abundance ($\\log_{10}(X/H)$) while if it is a string it is one of the in-built functions that scale the abundance with metallicity (e.g. the model proposed by Dopita et al. 2006). Note, combining this with a non-zero `alpha` can lead to a mild inconsistency."
   ]
  },
  {
   "attachments": {},
   "cell_type": "markdown",
   "metadata": {},
   "source": [
    "Using a float:"
   ]
  },
  {
   "cell_type": "code",
   "execution_count": 27,
   "metadata": {},
   "outputs": [
    {
     "name": "stdout",
     "output_type": "stream",
     "text": [
      "--------------------\n",
      "ABUNDANCE PATTERN SUMMARY\n",
      "X: 0.714\n",
      "Y: 0.272\n",
      "Z: 0.013\n",
      "Z/Z_sol: 1\n",
      "alpha: 0.000\n",
      "dust-to-metal ratio: False\n",
      "MAX dust-to-metal ratio: 0.615\n",
      "----------\n",
      "element log10(X/H)_total (log10(X/H)+12) [[X/H]] |depletion| log10(X/H)_gas log10(X/H)_dust \n",
      "Lithium: -10.93 (1.07) [0.02] |0.00| -10.93 -99.00\n",
      "Beryllium: -10.60 (1.40) [0.02] |0.00| -10.60 -99.00\n",
      "Boron: -9.28 (2.72) [0.02] |0.00| -9.28 -99.00\n",
      "Carbon: -3.55 (8.45) [0.02] |0.00| -3.55 -99.00\n",
      "Nitrogen: -4.50 (7.50) [-0.33] |0.00| -4.50 -99.00\n",
      "Oxygen: -3.29 (8.71) [0.02] |0.00| -3.29 -99.00\n",
      "Fluorine: -7.42 (4.58) [0.02] |0.00| -7.42 -99.00\n",
      "Neon: -4.05 (7.95) [0.02] |0.00| -4.05 -99.00\n",
      "Sodium: -5.05 (6.95) [0.02] |0.00| -5.05 -99.00\n",
      "Magnesium: -4.38 (7.62) [0.02] |0.00| -4.38 -99.00\n",
      "Aluminium: -5.53 (6.47) [0.02] |0.00| -5.53 -99.00\n",
      "Silicon: -4.47 (7.53) [0.02] |0.00| -4.47 -99.00\n",
      "Phosphorus: -6.57 (5.43) [0.02] |0.00| -6.57 -99.00\n",
      "Sulphur: -4.86 (7.14) [0.02] |0.00| -4.86 -99.00\n",
      "Chlorine: -6.48 (5.52) [0.02] |0.00| -6.48 -99.00\n",
      "Argon: -5.58 (6.42) [0.02] |0.00| -5.58 -99.00\n",
      "Potassium: -6.95 (5.05) [0.02] |0.00| -6.95 -99.00\n",
      "Calcium: -5.64 (6.36) [0.02] |0.00| -5.64 -99.00\n",
      "Scandium: -8.83 (3.17) [0.02] |0.00| -8.83 -99.00\n",
      "Titanium: -7.03 (4.97) [0.02] |0.00| -7.03 -99.00\n",
      "Vanadium: -8.05 (3.95) [0.02] |0.00| -8.05 -99.00\n",
      "Chromium: -6.34 (5.66) [0.02] |0.00| -6.34 -99.00\n",
      "Manganese: -6.55 (5.45) [0.02] |0.00| -6.55 -99.00\n",
      "Iron: -4.48 (7.52) [0.02] |0.00| -4.48 -99.00\n",
      "Cobalt: -6.99 (5.01) [0.02] |0.00| -6.99 -99.00\n",
      "Nickel: -5.76 (6.24) [0.02] |0.00| -5.76 -99.00\n",
      "Copper: -7.79 (4.21) [0.02] |0.00| -7.79 -99.00\n",
      "Zinc: -7.42 (4.58) [0.02] |0.00| -7.42 -99.00\n",
      "Hydrogen: 0.00 (12.00) [0.00] |0.00| 0.00 -99.00\n",
      "Helium: -1.02 (10.98) [0.05] |0.00| -1.02 -99.00\n",
      "--------------------\n"
     ]
    }
   ],
   "source": [
    "a5 = Abundances(metallicity=0.0134, abundances={\"N\": -4.5})\n",
    "print(a5)"
   ]
  },
  {
   "attachments": {},
   "cell_type": "markdown",
   "metadata": {},
   "source": [
    "Using a specified function:"
   ]
  },
  {
   "cell_type": "code",
   "execution_count": 28,
   "metadata": {},
   "outputs": [
    {
     "name": "stdout",
     "output_type": "stream",
     "text": [
      "--------------------\n",
      "ABUNDANCE PATTERN SUMMARY\n",
      "X: 0.714\n",
      "Y: 0.272\n",
      "Z: 0.013\n",
      "Z/Z_sol: 1\n",
      "alpha: 0.000\n",
      "dust-to-metal ratio: False\n",
      "MAX dust-to-metal ratio: 0.611\n",
      "----------\n",
      "element log10(X/H)_total (log10(X/H)+12) [[X/H]] |depletion| log10(X/H)_gas log10(X/H)_dust \n",
      "Lithium: -10.93 (1.07) [0.02] |0.00| -10.93 -99.00\n",
      "Beryllium: -10.60 (1.40) [0.02] |0.00| -10.60 -99.00\n",
      "Boron: -9.28 (2.72) [0.02] |0.00| -9.28 -99.00\n",
      "Carbon: -3.55 (8.45) [0.02] |0.00| -3.55 -99.00\n",
      "Nitrogen: -4.36 (7.64) [-0.19] |0.00| -4.36 -99.00\n",
      "Oxygen: -3.29 (8.71) [0.02] |0.00| -3.29 -99.00\n",
      "Fluorine: -7.42 (4.58) [0.02] |0.00| -7.42 -99.00\n",
      "Neon: -4.05 (7.95) [0.02] |0.00| -4.05 -99.00\n",
      "Sodium: -5.05 (6.95) [0.02] |0.00| -5.05 -99.00\n",
      "Magnesium: -4.38 (7.62) [0.02] |0.00| -4.38 -99.00\n",
      "Aluminium: -5.53 (6.47) [0.02] |0.00| -5.53 -99.00\n",
      "Silicon: -4.47 (7.53) [0.02] |0.00| -4.47 -99.00\n",
      "Phosphorus: -6.57 (5.43) [0.02] |0.00| -6.57 -99.00\n",
      "Sulphur: -4.86 (7.14) [0.02] |0.00| -4.86 -99.00\n",
      "Chlorine: -6.48 (5.52) [0.02] |0.00| -6.48 -99.00\n",
      "Argon: -5.58 (6.42) [0.02] |0.00| -5.58 -99.00\n",
      "Potassium: -6.95 (5.05) [0.02] |0.00| -6.95 -99.00\n",
      "Calcium: -5.64 (6.36) [0.02] |0.00| -5.64 -99.00\n",
      "Scandium: -8.83 (3.17) [0.02] |0.00| -8.83 -99.00\n",
      "Titanium: -7.03 (4.97) [0.02] |0.00| -7.03 -99.00\n",
      "Vanadium: -8.05 (3.95) [0.02] |0.00| -8.05 -99.00\n",
      "Chromium: -6.34 (5.66) [0.02] |0.00| -6.34 -99.00\n",
      "Manganese: -6.55 (5.45) [0.02] |0.00| -6.55 -99.00\n",
      "Iron: -4.48 (7.52) [0.02] |0.00| -4.48 -99.00\n",
      "Cobalt: -6.99 (5.01) [0.02] |0.00| -6.99 -99.00\n",
      "Nickel: -5.76 (6.24) [0.02] |0.00| -5.76 -99.00\n",
      "Copper: -7.79 (4.21) [0.02] |0.00| -7.79 -99.00\n",
      "Zinc: -7.42 (4.58) [0.02] |0.00| -7.42 -99.00\n",
      "Hydrogen: 0.00 (12.00) [0.00] |0.00| 0.00 -99.00\n",
      "Helium: -1.02 (10.98) [0.05] |0.00| -1.02 -99.00\n",
      "--------------------\n"
     ]
    }
   ],
   "source": [
    "a6 = Abundances(metallicity=0.0134, abundances={\"N\": \"Dopita2006\"})\n",
    "print(a6)"
   ]
  },
  {
   "attachments": {},
   "cell_type": "markdown",
   "metadata": {},
   "source": [
    "We can also access the scaling functions directly:"
   ]
  },
  {
   "cell_type": "code",
   "execution_count": 29,
   "metadata": {},
   "outputs": [
    {
     "data": {
      "text/plain": [
       "['Dopita2006']"
      ]
     },
     "execution_count": 29,
     "metadata": {},
     "output_type": "execute_result"
    }
   ],
   "source": [
    "ScalingFunctions.available_scalings"
   ]
  },
  {
   "cell_type": "code",
   "execution_count": 30,
   "metadata": {},
   "outputs": [
    {
     "data": {
      "text/plain": [
       "['N', 'C']"
      ]
     },
     "execution_count": 30,
     "metadata": {},
     "output_type": "execute_result"
    }
   ],
   "source": [
    "ScalingFunctions.Dopita2006.available_elements"
   ]
  },
  {
   "cell_type": "code",
   "execution_count": 31,
   "metadata": {},
   "outputs": [
    {
     "data": {
      "text/plain": [
       "-4.221848749616356"
      ]
     },
     "execution_count": 31,
     "metadata": {},
     "output_type": "execute_result"
    }
   ],
   "source": [
    "ScalingFunctions.Dopita2006.N(0.016)"
   ]
  },
  {
   "attachments": {},
   "cell_type": "markdown",
   "metadata": {},
   "source": [
    "These functions also include useful meta data:"
   ]
  },
  {
   "cell_type": "code",
   "execution_count": 32,
   "metadata": {},
   "outputs": [
    {
     "name": "stdout",
     "output_type": "stream",
     "text": [
      "https://ui.adsabs.harvard.edu/abs/2006ApJS..167..177D/abstract\n",
      "10.1086/508261\n"
     ]
    }
   ],
   "source": [
    "print(ScalingFunctions.Dopita2006.ads)\n",
    "print(ScalingFunctions.Dopita2006.doi)"
   ]
  },
  {
   "attachments": {},
   "cell_type": "markdown",
   "metadata": {},
   "source": [
    "## Plots"
   ]
  },
  {
   "attachments": {},
   "cell_type": "markdown",
   "metadata": {},
   "source": [
    "There are also a helper functions for plotting one or more abundance patterns, here we plot two abundance patterns with different alpha abundances:"
   ]
  },
  {
   "cell_type": "code",
   "execution_count": 33,
   "metadata": {},
   "outputs": [
    {
     "data": {
      "image/png": "[encoded data removed]",
      "text/plain": [
       "<Figure size 700x400 with 1 Axes>"
      ]
     },
     "metadata": {},
     "output_type": "display_data"
    },
    {
     "data": {
      "text/plain": [
       "(<Figure size 700x400 with 1 Axes>, <Axes: ylabel='$\\\\rm log_{10}(X/H)$'>)"
      ]
     },
     "execution_count": 33,
     "metadata": {},
     "output_type": "execute_result"
    }
   ],
   "source": [
    "plot_multiple_abundance_patterns(\n",
    "    [a2, a3],\n",
    "    labels=[r\"Z=0.01\", r\"Z=0.01; \\alpha = 0.6\"],\n",
    "    show=True,\n",
    "    ylim=[-7.0, -3.0],\n",
    ")"
   ]
  },
  {
   "attachments": {},
   "cell_type": "markdown",
   "metadata": {},
   "source": [
    "We can plot the abundance pattern of each component:"
   ]
  },
  {
   "cell_type": "code",
   "execution_count": 34,
   "metadata": {},
   "outputs": [
    {
     "data": {
      "image/png": "[encoded data removed]",
      "text/plain": [
       "<Figure size 700x400 with 1 Axes>"
      ]
     },
     "metadata": {},
     "output_type": "display_data"
    },
    {
     "data": {
      "text/plain": [
       "(<Figure size 700x400 with 1 Axes>, <Axes: ylabel='$\\\\rm log_{10}(X/H)$'>)"
      ]
     },
     "execution_count": 34,
     "metadata": {},
     "output_type": "execute_result"
    }
   ],
   "source": [
    "plot_abundance_pattern(\n",
    "    a4, show=True, ylim=[-7.0, -3.0], lines=[\"total\", \"gas\", \"dust\"]\n",
    ")"
   ]
  }
 ],
 "metadata": {
  "kernelspec": {
   "display_name": "venv",
   "language": "python",
   "name": "python3"
  },
  "language_info": {
   "codemirror_mode": {
    "name": "ipython",
    "version": 3
   },
   "file_extension": ".py",
   "mimetype": "text/x-python",
   "name": "python",
   "nbconvert_exporter": "python",
   "pygments_lexer": "ipython3",
   "version": "3.10.11"
  },
  "orig_nbformat": 4,
  "vscode": {
   "interpreter": {
    "hash": "3fbdfee1eda89f517d14c65aaeb395605ea48cc827c54c8ae1828e532ec42817"
   }
  }
 },
 "nbformat": 4,
 "nbformat_minor": 2
}
