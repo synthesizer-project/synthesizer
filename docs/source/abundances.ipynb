{
 "cells": [
  {
   "attachments": {},
   "cell_type": "markdown",
   "metadata": {},
   "source": [
    "# Abundances\n",
    "\n",
    "`synthesizer` can be used to generate abundance patterns, in total and for gas and dust individually, for a given metallicity, alpha ehancement, and arbitrary element scalings.\n",
    "\n",
    "At present this functionality is only utilised when creating cloudy input scripts. These scripts are used to calculate nebular line and continuum emission for a given incident spectral energy distribution and gas abundance pattern."
   ]
  },
  {
   "cell_type": "code",
   "execution_count": 1,
   "metadata": {},
   "outputs": [],
   "source": [
    "from synthesizer.abundances import (\n",
    "    Abundances,\n",
    "    ScalingFunctions,\n",
    "    SolarAbundances,\n",
    "    DepletionPatterns,\n",
    "    plot_abundance_pattern,\n",
    "    plot_multiple_abundance_patterns,\n",
    ")"
   ]
  },
  {
   "attachments": {},
   "cell_type": "markdown",
   "metadata": {},
   "source": [
    "by default initialising `Abundances` creates a solar abundance pattern with no depletion. The default solar abundance pattern is Asplund et al. (2009), though this can be changed if desired. "
   ]
  },
  {
   "cell_type": "code",
   "execution_count": 2,
   "metadata": {},
   "outputs": [],
   "source": [
    "a1 = Abundances()"
   ]
  },
  {
   "attachments": {},
   "cell_type": "markdown",
   "metadata": {},
   "source": [
    "like most `synthesizer` objects we can explore the important attributes of an object by using `print()`:"
   ]
  },
  {
   "cell_type": "code",
   "execution_count": 3,
   "metadata": {},
   "outputs": [
    {
     "name": "stdout",
     "output_type": "stream",
     "text": [
      "--------------------\n",
      "ABUNDANCE PATTERN SUMMARY\n",
      "X: 0.714\n",
      "Y: 0.272\n",
      "Z: 0.013\n",
      "Z/Z_sol: 1\n",
      "alpha: 0.000\n",
      "dust-to-metal ratio: None\n",
      "----------\n",
      "element log10(X/H)_total (log10(X/H)+12) [[X/H]] |depletion| log10(X/H)_gas log10(X/H)_dust \n",
      "Lithium: -10.94 (1.06) [0.01] \n",
      "Beryllium: -10.61 (1.39) [0.01] \n",
      "Boron: -9.29 (2.71) [0.01] \n",
      "Carbon: -3.56 (8.44) [0.01] \n",
      "Nitrogen: -4.16 (7.84) [0.01] \n",
      "Oxygen: -3.30 (8.70) [0.01] \n",
      "Fluorine: -7.43 (4.57) [0.01] \n",
      "Neon: -4.06 (7.94) [0.01] \n",
      "Sodium: -5.06 (6.94) [0.01] \n",
      "Magnesium: -4.39 (7.61) [0.01] \n",
      "Aluminium: -5.54 (6.46) [0.01] \n",
      "Silicon: -4.48 (7.52) [0.01] \n",
      "Phosphorus: -6.58 (5.42) [0.01] \n",
      "Sulphur: -4.87 (7.13) [0.01] \n",
      "Chlorine: -6.49 (5.51) [0.01] \n",
      "Argon: -5.59 (6.41) [0.01] \n",
      "Potassium: -6.96 (5.04) [0.01] \n",
      "Calcium: -5.65 (6.35) [0.01] \n",
      "Scandium: -8.84 (3.16) [0.01] \n",
      "Titanium: -7.04 (4.96) [0.01] \n",
      "Vanadium: -8.06 (3.94) [0.01] \n",
      "Chromium: -6.35 (5.65) [0.01] \n",
      "Manganese: -6.56 (5.44) [0.01] \n",
      "Iron: -4.49 (7.51) [0.01] \n",
      "Cobalt: -7.00 (5.00) [0.01] \n",
      "Nickel: -5.77 (6.23) [0.01] \n",
      "Copper: -7.80 (4.20) [0.01] \n",
      "Zinc: -7.43 (4.57) [0.01] \n",
      "Hydrogen: 0.00 (12.00) [0.00] \n",
      "Helium: -1.02 (10.98) [0.05] \n",
      "--------------------\n"
     ]
    }
   ],
   "source": [
    "print(a1)"
   ]
  },
  {
   "attachments": {},
   "cell_type": "markdown",
   "metadata": {},
   "source": [
    "You can access the logarithmic abundances ($\\log_{10}(N_X/N_H)$) of an element like this:"
   ]
  },
  {
   "cell_type": "code",
   "execution_count": 4,
   "metadata": {},
   "outputs": [
    {
     "name": "stdout",
     "output_type": "stream",
     "text": [
      "log10(O/H): -3.30\n",
      "log10(O/H): -3.30\n"
     ]
    }
   ],
   "source": [
    "print(f\"log10(O/H): {a1.total['O']:.2f}\")\n",
    "print(f\"log10(O/H): {a1['O']:.2f}\")"
   ]
  },
  {
   "attachments": {},
   "cell_type": "markdown",
   "metadata": {},
   "source": [
    "We can specify a different metallicity. By default abundances are scaled from the Solar abundances provided through an optional argument (default Asplund et a. 2009). However, as we will see later, it is possible to set a different $\\alpha$-enhancement or set arbitrary element scalings."
   ]
  },
  {
   "cell_type": "code",
   "execution_count": 5,
   "metadata": {},
   "outputs": [
    {
     "name": "stdout",
     "output_type": "stream",
     "text": [
      "--------------------\n",
      "ABUNDANCE PATTERN SUMMARY\n",
      "X: 0.724\n",
      "Y: 0.266\n",
      "Z: 0.010\n",
      "Z/Z_sol: 0.75\n",
      "alpha: 0.000\n",
      "dust-to-metal ratio: None\n",
      "----------\n",
      "element log10(X/H)_total (log10(X/H)+12) [[X/H]] |depletion| log10(X/H)_gas log10(X/H)_dust \n",
      "Lithium: -11.07 (0.93) [-0.12] \n",
      "Beryllium: -10.74 (1.26) [-0.12] \n",
      "Boron: -9.42 (2.58) [-0.12] \n",
      "Carbon: -3.69 (8.31) [-0.12] \n",
      "Nitrogen: -4.29 (7.71) [-0.12] \n",
      "Oxygen: -3.43 (8.57) [-0.12] \n",
      "Fluorine: -7.56 (4.44) [-0.12] \n",
      "Neon: -4.19 (7.81) [-0.12] \n",
      "Sodium: -5.19 (6.81) [-0.12] \n",
      "Magnesium: -4.52 (7.48) [-0.12] \n",
      "Aluminium: -5.67 (6.33) [-0.12] \n",
      "Silicon: -4.61 (7.39) [-0.12] \n",
      "Phosphorus: -6.71 (5.29) [-0.12] \n",
      "Sulphur: -5.00 (7.00) [-0.12] \n",
      "Chlorine: -6.62 (5.38) [-0.12] \n",
      "Argon: -5.72 (6.28) [-0.12] \n",
      "Potassium: -7.09 (4.91) [-0.12] \n",
      "Calcium: -5.78 (6.22) [-0.12] \n",
      "Scandium: -8.97 (3.03) [-0.12] \n",
      "Titanium: -7.17 (4.83) [-0.12] \n",
      "Vanadium: -8.19 (3.81) [-0.12] \n",
      "Chromium: -6.48 (5.52) [-0.12] \n",
      "Manganese: -6.69 (5.31) [-0.12] \n",
      "Iron: -4.62 (7.38) [-0.12] \n",
      "Cobalt: -7.13 (4.87) [-0.12] \n",
      "Nickel: -5.90 (6.10) [-0.12] \n",
      "Copper: -7.93 (4.07) [-0.12] \n",
      "Zinc: -7.56 (4.44) [-0.12] \n",
      "Hydrogen: 0.00 (12.00) [0.00] \n",
      "Helium: -1.04 (10.96) [0.03] \n",
      "--------------------\n"
     ]
    }
   ],
   "source": [
    "a2 = Abundances(metallicity=0.01)\n",
    "print(a2)"
   ]
  },
  {
   "attachments": {},
   "cell_type": "markdown",
   "metadata": {},
   "source": [
    "## $\\alpha$-enhancement\n",
    "\n",
    "We can also generate abundance patterns assuming different $\\alpha$-enhancements."
   ]
  },
  {
   "cell_type": "code",
   "execution_count": 6,
   "metadata": {},
   "outputs": [
    {
     "name": "stdout",
     "output_type": "stream",
     "text": [
      "--------------------\n",
      "ABUNDANCE PATTERN SUMMARY\n",
      "X: 0.724\n",
      "Y: 0.266\n",
      "Z: 0.010\n",
      "Z/Z_sol: 0.75\n",
      "alpha: 0.600\n",
      "dust-to-metal ratio: None\n",
      "----------\n",
      "element log10(X/H)_total (log10(X/H)+12) [[X/H]] |depletion| log10(X/H)_gas log10(X/H)_dust \n",
      "Lithium: -11.54 (0.46) [-0.59] \n",
      "Beryllium: -11.21 (0.79) [-0.59] \n",
      "Boron: -9.89 (2.11) [-0.59] \n",
      "Carbon: -4.16 (7.84) [-0.59] \n",
      "Nitrogen: -4.76 (7.24) [-0.59] \n",
      "Oxygen: -3.30 (8.70) [0.01] \n",
      "Fluorine: -8.03 (3.97) [-0.59] \n",
      "Neon: -4.06 (7.94) [0.01] \n",
      "Sodium: -5.66 (6.34) [-0.59] \n",
      "Magnesium: -4.39 (7.61) [0.01] \n",
      "Aluminium: -6.14 (5.86) [-0.59] \n",
      "Silicon: -4.48 (7.52) [0.01] \n",
      "Phosphorus: -7.18 (4.82) [-0.59] \n",
      "Sulphur: -4.87 (7.13) [0.01] \n",
      "Chlorine: -7.09 (4.91) [-0.59] \n",
      "Argon: -5.59 (6.41) [0.01] \n",
      "Potassium: -7.56 (4.44) [-0.59] \n",
      "Calcium: -5.65 (6.35) [0.01] \n",
      "Scandium: -9.44 (2.56) [-0.59] \n",
      "Titanium: -7.04 (4.96) [0.01] \n",
      "Vanadium: -8.66 (3.34) [-0.59] \n",
      "Chromium: -6.95 (5.05) [-0.59] \n",
      "Manganese: -7.16 (4.84) [-0.59] \n",
      "Iron: -5.09 (6.91) [-0.59] \n",
      "Cobalt: -7.60 (4.40) [-0.59] \n",
      "Nickel: -6.37 (5.63) [-0.59] \n",
      "Copper: -8.40 (3.60) [-0.59] \n",
      "Zinc: -8.03 (3.97) [-0.59] \n",
      "Hydrogen: 0.00 (12.00) [0.00] \n",
      "Helium: -1.04 (10.96) [0.03] \n",
      "--------------------\n"
     ]
    }
   ],
   "source": [
    "a3 = Abundances(metallicity=0.01, alpha=0.6)\n",
    "print(a3)"
   ]
  },
  {
   "attachments": {},
   "cell_type": "markdown",
   "metadata": {},
   "source": [
    "We can print a relative solar abundance like this:"
   ]
  },
  {
   "cell_type": "code",
   "execution_count": 7,
   "metadata": {},
   "outputs": [
    {
     "name": "stdout",
     "output_type": "stream",
     "text": [
      "[O/Fe] = 0.60\n",
      "[O/Fe] = 0.60\n"
     ]
    }
   ],
   "source": [
    "print(f\"[O/Fe] = {a3.solar_relative_abundance('O', ref_element='Fe'):.2f}\")\n",
    "print(f\"[O/Fe] = {a3['[O/Fe]']:.2f}\")"
   ]
  },
  {
   "attachments": {},
   "cell_type": "markdown",
   "metadata": {},
   "source": [
    "That, is, as expected given that we set $\\alpha=0.6$."
   ]
  },
  {
   "attachments": {},
   "cell_type": "markdown",
   "metadata": {},
   "source": [
    "### Dust\n",
    "\n",
    "To account for metals being locked up in dust, we can also specify a depletion pattern. It is possible to either provide a dictionary of values or specify one of the in-built patterns. "
   ]
  },
  {
   "cell_type": "code",
   "execution_count": 8,
   "metadata": {},
   "outputs": [
    {
     "name": "stdout",
     "output_type": "stream",
     "text": [
      "--------------------\n",
      "ABUNDANCE PATTERN SUMMARY\n",
      "X: 0.724\n",
      "Y: 0.266\n",
      "Z: 0.010\n",
      "Z/Z_sol: 0.75\n",
      "alpha: 0.000\n",
      "dust-to-metal ratio: 0.2685042017448856\n",
      "----------\n",
      "element log10(X/H)_total (log10(X/H)+12) [[X/H]] |depletion| log10(X/H)_gas log10(X/H)_dust \n",
      "Lithium: -11.07 (0.93) [-0.12] |0.00| -11.07 -inf\n",
      "Beryllium: -10.74 (1.26) [-0.12] |0.00| -10.74 -inf\n",
      "Boron: -9.42 (2.58) [-0.12] |0.00| -9.42 -inf\n",
      "Carbon: -3.69 (8.31) [-0.12] |0.99| -5.69 -3.70\n",
      "Nitrogen: -4.29 (7.71) [-0.12] |0.00| -4.29 -inf\n",
      "Oxygen: -3.43 (8.57) [-0.12] |0.00| -3.43 -inf\n",
      "Fluorine: -7.56 (4.44) [-0.12] |0.00| -7.56 -inf\n",
      "Neon: -4.19 (7.81) [-0.12] |0.00| -4.19 -inf\n",
      "Sodium: -5.19 (6.81) [-0.12] |0.00| -5.19 -inf\n",
      "Magnesium: -4.52 (7.48) [-0.12] |0.00| -4.52 -inf\n",
      "Aluminium: -5.67 (6.33) [-0.12] |0.00| -5.67 -inf\n",
      "Silicon: -4.61 (7.39) [-0.12] |0.00| -4.61 -inf\n",
      "Phosphorus: -6.71 (5.29) [-0.12] |0.00| -6.71 -inf\n",
      "Sulphur: -5.00 (7.00) [-0.12] |0.00| -5.00 -inf\n",
      "Chlorine: -6.62 (5.38) [-0.12] |0.00| -6.62 -inf\n",
      "Argon: -5.72 (6.28) [-0.12] |0.00| -5.72 -inf\n",
      "Potassium: -7.09 (4.91) [-0.12] |0.00| -7.09 -inf\n",
      "Calcium: -5.78 (6.22) [-0.12] |0.00| -5.78 -inf\n",
      "Scandium: -8.97 (3.03) [-0.12] |0.00| -8.97 -inf\n",
      "Titanium: -7.17 (4.83) [-0.12] |0.00| -7.17 -inf\n",
      "Vanadium: -8.19 (3.81) [-0.12] |0.00| -8.19 -inf\n",
      "Chromium: -6.48 (5.52) [-0.12] |0.00| -6.48 -inf\n",
      "Manganese: -6.69 (5.31) [-0.12] |0.00| -6.69 -inf\n",
      "Iron: -4.62 (7.38) [-0.12] |0.99| -6.62 -4.63\n",
      "Cobalt: -7.13 (4.87) [-0.12] |0.00| -7.13 -inf\n",
      "Nickel: -5.90 (6.10) [-0.12] |0.00| -5.90 -inf\n",
      "Copper: -7.93 (4.07) [-0.12] |0.00| -7.93 -inf\n",
      "Zinc: -7.56 (4.44) [-0.12] |0.00| -7.56 -inf\n",
      "Hydrogen: 0.00 (12.00) [0.00] |0.00| 0.00 -inf\n",
      "Helium: -1.04 (10.96) [0.03] |0.00| -1.04 -inf\n",
      "--------------------\n"
     ]
    }
   ],
   "source": [
    "# assume 99% of Carbon and Iron are depleted on to dust\n",
    "depletion = {'C': 0.99, 'Fe': 0.99}\n",
    "\n",
    "# calculate the abundance patterns, now included gas and dust separately\n",
    "a4 = Abundances(metallicity=0.01, depletion=depletion)\n",
    "print(a4)"
   ]
  },
  {
   "cell_type": "code",
   "execution_count": 9,
   "metadata": {},
   "outputs": [
    {
     "name": "stdout",
     "output_type": "stream",
     "text": [
      "--------------------\n",
      "ABUNDANCE PATTERN SUMMARY\n",
      "X: 0.708\n",
      "Y: 0.276\n",
      "Z: 0.016\n",
      "Z/Z_sol: 1\n",
      "alpha: 0.000\n",
      "dust-to-metal ratio: 0.4014691211565693\n",
      "----------\n",
      "element log10(X/H)_total (log10(X/H)+12) [[X/H]] |depletion| log10(X/H)_gas log10(X/H)_dust \n",
      "Lithium: -10.98 (1.02) [0.01] |0.84| -11.77 -11.05\n",
      "Beryllium: -10.62 (1.38) [0.01] |0.40| -10.84 -11.01\n",
      "Boron: -9.46 (2.54) [0.01] |0.87| -10.34 -9.52\n",
      "Carbon: -3.52 (8.48) [0.01] |0.50| -3.82 -3.82\n",
      "Nitrogen: -4.31 (7.69) [0.01] |0.00| -4.31 -inf\n",
      "Oxygen: -3.16 (8.84) [0.01] |0.30| -3.31 -3.68\n",
      "Fluorine: -7.43 (4.57) [0.01] |0.70| -7.95 -7.58\n",
      "Neon: -4.00 (8.00) [0.01] |0.00| -4.00 -inf\n",
      "Sodium: -5.69 (6.31) [0.01] |0.75| -6.29 -5.81\n",
      "Magnesium: -4.44 (7.56) [0.01] |0.80| -5.13 -4.53\n",
      "Aluminium: -5.55 (6.45) [0.01] |0.98| -7.24 -5.55\n",
      "Silicon: -4.47 (7.53) [0.01] |0.90| -5.47 -4.51\n",
      "Phosphorus: -6.56 (5.44) [0.01] |0.75| -7.16 -6.68\n",
      "Sulphur: -4.86 (7.14) [0.01] |0.00| -4.86 -inf\n",
      "Chlorine: -6.52 (5.48) [0.01] |0.50| -6.82 -6.82\n",
      "Argon: -5.62 (6.38) [0.01] |0.00| -5.62 -inf\n",
      "Potassium: -6.91 (5.09) [0.01] |0.70| -7.43 -7.06\n",
      "Calcium: -5.66 (6.34) [0.01] |1.00| -8.18 -5.66\n",
      "Scandium: -8.85 (3.15) [0.01] |0.99| -11.15 -8.85\n",
      "Titanium: -7.00 (5.00) [0.01] |0.99| -9.09 -7.00\n",
      "Vanadium: -8.02 (3.98) [0.01] |0.99| -10.24 -8.02\n",
      "Chromium: -6.35 (5.65) [0.01] |0.99| -8.57 -6.35\n",
      "Manganese: -6.63 (5.37) [0.01] |0.95| -7.93 -6.65\n",
      "Iron: -4.50 (7.50) [0.01] |0.99| -6.50 -4.50\n",
      "Cobalt: -7.10 (4.90) [0.01] |0.99| -9.10 -7.10\n",
      "Nickel: -5.77 (6.23) [0.01] |0.96| -7.16 -5.78\n",
      "Copper: -7.81 (4.19) [0.01] |0.90| -8.81 -7.85\n",
      "Zinc: -7.42 (4.58) [0.01] |0.75| -8.02 -7.54\n",
      "Hydrogen: 0.00 (12.00) [0.00] |0.00| 0.00 -inf\n",
      "Helium: -1.01 (10.99) [-0.00] |0.00| -1.01 -inf\n",
      "--------------------\n"
     ]
    }
   ],
   "source": [
    "a5 = Abundances(metallicity=0.0156, solar=SolarAbundances.Gutkin2016, depletion_model=DepletionPatterns.Gutkin2016)\n",
    "print(a5)"
   ]
  },
  {
   "cell_type": "code",
   "execution_count": 21,
   "metadata": {},
   "outputs": [
    {
     "name": "stdout",
     "output_type": "stream",
     "text": [
      "--------------------\n",
      "ABUNDANCE PATTERN SUMMARY\n",
      "X: 0.708\n",
      "Y: 0.276\n",
      "Z: 0.016\n",
      "Z/Z_sol: 1\n",
      "alpha: 0.000\n",
      "dust-to-metal ratio: 0.5431714988948927\n",
      "----------\n",
      "element log10(X/H)_total (log10(X/H)+12) [[X/H]] |depletion| log10(X/H)_gas log10(X/H)_dust \n",
      "Lithium: -10.98 (1.02) [0.01] |0.00| -10.98 -inf\n",
      "Beryllium: -10.62 (1.38) [0.01] |0.00| -10.62 -inf\n",
      "Boron: -9.46 (2.54) [0.01] |0.00| -9.46 -inf\n",
      "Carbon: -3.52 (8.48) [0.01] |0.69| -4.03 -3.68\n",
      "Nitrogen: -4.31 (7.69) [0.01] |0.78| -4.96 -4.42\n",
      "Oxygen: -3.16 (8.84) [0.01] |0.75| -3.75 -3.28\n",
      "Fluorine: -7.43 (4.57) [0.01] |0.00| -7.43 -inf\n",
      "Neon: -4.00 (8.00) [0.01] |0.00| -4.00 -inf\n",
      "Sodium: -5.69 (6.31) [0.01] |0.00| -5.69 -inf\n",
      "Magnesium: -4.44 (7.56) [0.01] |0.17| -4.52 -5.21\n",
      "Aluminium: -5.55 (6.45) [0.01] |0.00| -5.55 -inf\n",
      "Silicon: -4.47 (7.53) [0.01] |0.16| -4.54 -5.25\n",
      "Phosphorus: -6.56 (5.44) [0.01] |0.66| -7.03 -6.73\n",
      "Sulphur: -4.86 (7.14) [0.01] |0.53| -5.18 -5.13\n",
      "Chlorine: -6.52 (5.48) [0.01] |0.67| -7.00 -6.69\n",
      "Argon: -5.62 (6.38) [0.01] |0.00| -5.62 -inf\n",
      "Potassium: -6.91 (5.09) [0.01] |0.00| -6.91 -inf\n",
      "Calcium: -5.66 (6.34) [0.01] |0.00| -5.66 -inf\n",
      "Scandium: -8.85 (3.15) [0.01] |0.00| -8.85 -inf\n",
      "Titanium: -7.00 (5.00) [0.01] |0.01| -7.00 -9.10\n",
      "Vanadium: -8.02 (3.98) [0.01] |0.00| -8.02 -inf\n",
      "Chromium: -6.35 (5.65) [0.01] |0.03| -6.36 -7.90\n",
      "Manganese: -6.63 (5.37) [0.01] |0.05| -6.65 -7.96\n",
      "Iron: -4.50 (7.50) [0.01] |0.03| -4.51 -6.08\n",
      "Cobalt: -7.10 (4.90) [0.01] |0.00| -7.10 -inf\n",
      "Nickel: -5.77 (6.23) [0.01] |0.02| -5.77 -7.45\n",
      "Copper: -7.81 (4.19) [0.01] |0.11| -7.86 -8.76\n",
      "Zinc: -7.42 (4.58) [0.01] |0.57| -7.78 -7.66\n",
      "Hydrogen: 0.00 (12.00) [0.00] |0.00| 0.00 -inf\n",
      "Helium: -1.01 (10.99) [-0.00] |0.00| -1.01 -inf\n",
      "--------------------\n",
      "0.008473475382760325\n",
      "0.015599999999999998\n"
     ]
    }
   ],
   "source": [
    "a5 = Abundances(metallicity=0.0156, solar=SolarAbundances.Gutkin2016, depletion_model=DepletionPatterns.Jenkins2009)\n",
    "print(a5)"
   ]
  },
  {
   "cell_type": "markdown",
   "metadata": {},
   "source": [
    "\n",
    "\n",
    "\n",
    "\n",
    "When specifying an in-built pattern it's also possible to specify an optional scaling parameter depending on the particular model."
   ]
  },
  {
   "cell_type": "code",
   "execution_count": 24,
   "metadata": {},
   "outputs": [
    {
     "name": "stdout",
     "output_type": "stream",
     "text": [
      "--------------------\n",
      "ABUNDANCE PATTERN SUMMARY\n",
      "X: 0.708\n",
      "Y: 0.276\n",
      "Z: 0.016\n",
      "Z/Z_sol: 1\n",
      "alpha: 0.000\n",
      "dust-to-metal ratio: 0.42417292545271285\n",
      "----------\n",
      "element log10(X/H)_total (log10(X/H)+12) [[X/H]] |depletion| log10(X/H)_gas log10(X/H)_dust \n",
      "Lithium: -10.98 (1.02) [0.01] |0.00| -10.98 -inf\n",
      "Beryllium: -10.62 (1.38) [0.01] |0.00| -10.62 -inf\n",
      "Boron: -9.46 (2.54) [0.01] |0.00| -9.46 -inf\n",
      "Carbon: -3.52 (8.48) [0.01] |0.62| -3.93 -3.73\n",
      "Nitrogen: -4.31 (7.69) [0.01] |0.78| -4.96 -4.42\n",
      "Oxygen: -3.16 (8.84) [0.01] |0.57| -3.52 -3.40\n",
      "Fluorine: -7.43 (4.57) [0.01] |0.00| -7.43 -inf\n",
      "Neon: -4.00 (8.00) [0.01] |0.00| -4.00 -inf\n",
      "Sodium: -5.69 (6.31) [0.01] |0.00| -5.69 -inf\n",
      "Magnesium: -4.44 (7.56) [0.01] |0.05| -4.46 -5.71\n",
      "Aluminium: -5.55 (6.45) [0.01] |0.00| -5.55 -inf\n",
      "Silicon: -4.47 (7.53) [0.01] |0.04| -4.48 -5.82\n",
      "Phosphorus: -6.56 (5.44) [0.01] |0.22| -6.66 -7.21\n",
      "Sulphur: -4.86 (7.14) [0.01] |0.19| -4.95 -5.57\n",
      "Chlorine: -6.52 (5.48) [0.01] |0.16| -6.59 -7.31\n",
      "Argon: -5.62 (6.38) [0.01] |0.00| -5.62 -inf\n",
      "Potassium: -6.91 (5.09) [0.01] |0.00| -6.91 -inf\n",
      "Calcium: -5.66 (6.34) [0.01] |0.00| -5.66 -inf\n",
      "Scandium: -8.85 (3.15) [0.01] |0.00| -8.85 -inf\n",
      "Titanium: -7.00 (5.00) [0.01] |0.00| -7.00 -10.12\n",
      "Vanadium: -8.02 (3.98) [0.01] |0.00| -8.02 -inf\n",
      "Chromium: -6.35 (5.65) [0.01] |0.01| -6.35 -8.62\n",
      "Manganese: -6.63 (5.37) [0.01] |0.02| -6.63 -8.39\n",
      "Iron: -4.50 (7.50) [0.01] |0.01| -4.50 -6.73\n",
      "Cobalt: -7.10 (4.90) [0.01] |0.00| -7.10 -inf\n",
      "Nickel: -5.77 (6.23) [0.01] |0.00| -5.77 -8.19\n",
      "Copper: -7.81 (4.19) [0.01] |0.05| -7.83 -9.11\n",
      "Zinc: -7.42 (4.58) [0.01] |0.28| -7.56 -7.96\n",
      "Hydrogen: 0.00 (12.00) [0.00] |0.00| 0.00 -inf\n",
      "Helium: -1.01 (10.99) [-0.00] |0.00| -1.01 -inf\n",
      "--------------------\n"
     ]
    }
   ],
   "source": [
    "a5 = Abundances(metallicity=0.0156, solar=SolarAbundances.Gutkin2016, depletion_model=DepletionPatterns.Jenkins2009, depletion_scale=1.0)\n",
    "print(a5)"
   ]
  },
  {
   "cell_type": "code",
   "execution_count": 11,
   "metadata": {},
   "outputs": [
    {
     "name": "stdout",
     "output_type": "stream",
     "text": [
      "--------------------\n",
      "ABUNDANCE PATTERN SUMMARY\n",
      "X: 0.724\n",
      "Y: 0.266\n",
      "Z: 0.010\n",
      "Z/Z_sol: 0.75\n",
      "alpha: 0.000\n",
      "dust-to-metal ratio: 0.2109067889005814\n",
      "----------\n",
      "element log10(X/H)_total (log10(X/H)+12) [[X/H]] |depletion| log10(X/H)_gas log10(X/H)_dust \n",
      "Lithium: -11.07 (0.93) [-0.12] |0.42| -11.31 -11.45\n",
      "Beryllium: -10.74 (1.26) [-0.12] |0.20| -10.84 -11.44\n",
      "Boron: -9.42 (2.58) [-0.12] |0.43| -9.67 -9.78\n",
      "Carbon: -3.69 (8.31) [-0.12] |0.25| -3.82 -4.29\n",
      "Nitrogen: -4.29 (7.71) [-0.12] |0.00| -4.29 -inf\n",
      "Oxygen: -3.43 (8.57) [-0.12] |0.15| -3.50 -4.26\n",
      "Fluorine: -7.56 (4.44) [-0.12] |0.35| -7.75 -8.02\n",
      "Neon: -4.19 (7.81) [-0.12] |0.00| -4.19 -inf\n",
      "Sodium: -5.19 (6.81) [-0.12] |0.38| -5.40 -5.62\n",
      "Magnesium: -4.52 (7.48) [-0.12] |0.40| -4.74 -4.92\n",
      "Aluminium: -5.67 (6.33) [-0.12] |0.49| -5.97 -5.98\n",
      "Silicon: -4.61 (7.39) [-0.12] |0.45| -4.87 -4.96\n",
      "Phosphorus: -6.71 (5.29) [-0.12] |0.38| -6.92 -7.14\n",
      "Sulphur: -5.00 (7.00) [-0.12] |0.00| -5.00 -inf\n",
      "Chlorine: -6.62 (5.38) [-0.12] |0.25| -6.75 -7.22\n",
      "Argon: -5.72 (6.28) [-0.12] |0.00| -5.72 -inf\n",
      "Potassium: -7.09 (4.91) [-0.12] |0.35| -7.28 -7.55\n",
      "Calcium: -5.78 (6.22) [-0.12] |0.50| -6.08 -6.08\n",
      "Scandium: -8.97 (3.03) [-0.12] |0.50| -9.27 -9.28\n",
      "Titanium: -7.17 (4.83) [-0.12] |0.50| -7.47 -7.48\n",
      "Vanadium: -8.19 (3.81) [-0.12] |0.50| -8.49 -8.50\n",
      "Chromium: -6.48 (5.52) [-0.12] |0.50| -6.78 -6.79\n",
      "Manganese: -6.69 (5.31) [-0.12] |0.47| -6.97 -7.02\n",
      "Iron: -4.62 (7.38) [-0.12] |0.49| -4.92 -4.93\n",
      "Cobalt: -7.13 (4.87) [-0.12] |0.49| -7.43 -7.44\n",
      "Nickel: -5.90 (6.10) [-0.12] |0.48| -6.19 -6.22\n",
      "Copper: -7.93 (4.07) [-0.12] |0.45| -8.19 -8.28\n",
      "Zinc: -7.56 (4.44) [-0.12] |0.38| -7.77 -7.99\n",
      "Hydrogen: 0.00 (12.00) [0.00] |0.00| 0.00 -inf\n",
      "Helium: -1.04 (10.96) [0.03] |0.00| -1.04 -inf\n",
      "--------------------\n"
     ]
    }
   ],
   "source": [
    "a6 = Abundances(metallicity=0.01, depletion_model=DepletionPatterns.Gutkin2016, depletion_scale=0.5)\n",
    "print(a6)"
   ]
  },
  {
   "attachments": {},
   "cell_type": "markdown",
   "metadata": {},
   "source": [
    "When the `dust_to_metal_ratio` > 0.0 total, gas, and dust abundance patterns are provided e.g."
   ]
  },
  {
   "cell_type": "code",
   "execution_count": 12,
   "metadata": {},
   "outputs": [
    {
     "name": "stdout",
     "output_type": "stream",
     "text": [
      "log10(C_total/H) : -3.69\n",
      "log10(C_gas/H) : -5.69\n",
      "log10(C_dust/H) : -3.70\n"
     ]
    }
   ],
   "source": [
    "print(f'log10(C_total/H) : {a4.total[\"C\"]:.2f}')\n",
    "print(f'log10(C_gas/H) : {a4.gas[\"C\"]:.2f}')\n",
    "print(f'log10(C_dust/H) : {a4.dust[\"C\"]:.2f}')"
   ]
  },
  {
   "attachments": {},
   "cell_type": "markdown",
   "metadata": {},
   "source": [
    "### Arbitrary element scaling\n",
    "\n",
    "We can also change the abundance of any specific element (or set of elements), with the abundances of other elements rescaled self-consistently to yield the correct metallicity. \n",
    "\n",
    "If the abundance is a float it is the logarithmic abundance ($\\log_{10}(X/H)$) while if it is a string it is one of the in-built functions that scale the abundance with metallicity (e.g. the model proposed by Dopita et al. 2006). Note, combining this with a non-zero `alpha` can lead to a mild inconsistency."
   ]
  },
  {
   "attachments": {},
   "cell_type": "markdown",
   "metadata": {},
   "source": [
    "Using a float:"
   ]
  },
  {
   "cell_type": "code",
   "execution_count": 13,
   "metadata": {},
   "outputs": [
    {
     "name": "stdout",
     "output_type": "stream",
     "text": [
      "--------------------\n",
      "ABUNDANCE PATTERN SUMMARY\n",
      "X: 0.714\n",
      "Y: 0.272\n",
      "Z: 0.013\n",
      "Z/Z_sol: 1\n",
      "alpha: 0.000\n",
      "dust-to-metal ratio: None\n",
      "----------\n",
      "element log10(X/H)_total (log10(X/H)+12) [[X/H]] |depletion| log10(X/H)_gas log10(X/H)_dust \n",
      "Lithium: -10.93 (1.07) [0.02] \n",
      "Beryllium: -10.60 (1.40) [0.02] \n",
      "Boron: -9.28 (2.72) [0.02] \n",
      "Carbon: -3.55 (8.45) [0.02] \n",
      "Nitrogen: -4.50 (7.50) [-0.33] \n",
      "Oxygen: -3.29 (8.71) [0.02] \n",
      "Fluorine: -7.42 (4.58) [0.02] \n",
      "Neon: -4.05 (7.95) [0.02] \n",
      "Sodium: -5.05 (6.95) [0.02] \n",
      "Magnesium: -4.38 (7.62) [0.02] \n",
      "Aluminium: -5.53 (6.47) [0.02] \n",
      "Silicon: -4.47 (7.53) [0.02] \n",
      "Phosphorus: -6.57 (5.43) [0.02] \n",
      "Sulphur: -4.86 (7.14) [0.02] \n",
      "Chlorine: -6.48 (5.52) [0.02] \n",
      "Argon: -5.58 (6.42) [0.02] \n",
      "Potassium: -6.95 (5.05) [0.02] \n",
      "Calcium: -5.64 (6.36) [0.02] \n",
      "Scandium: -8.83 (3.17) [0.02] \n",
      "Titanium: -7.03 (4.97) [0.02] \n",
      "Vanadium: -8.05 (3.95) [0.02] \n",
      "Chromium: -6.34 (5.66) [0.02] \n",
      "Manganese: -6.55 (5.45) [0.02] \n",
      "Iron: -4.48 (7.52) [0.02] \n",
      "Cobalt: -6.99 (5.01) [0.02] \n",
      "Nickel: -5.76 (6.24) [0.02] \n",
      "Copper: -7.79 (4.21) [0.02] \n",
      "Zinc: -7.42 (4.58) [0.02] \n",
      "Hydrogen: 0.00 (12.00) [0.00] \n",
      "Helium: -1.02 (10.98) [0.05] \n",
      "--------------------\n"
     ]
    }
   ],
   "source": [
    "a5 = Abundances(metallicity=0.0134, abundances={\"N\": -4.5})\n",
    "print(a5)"
   ]
  },
  {
   "attachments": {},
   "cell_type": "markdown",
   "metadata": {},
   "source": [
    "Using a specified function:"
   ]
  },
  {
   "cell_type": "code",
   "execution_count": 14,
   "metadata": {},
   "outputs": [
    {
     "name": "stdout",
     "output_type": "stream",
     "text": [
      "--------------------\n",
      "ABUNDANCE PATTERN SUMMARY\n",
      "X: 0.714\n",
      "Y: 0.272\n",
      "Z: 0.013\n",
      "Z/Z_sol: 1\n",
      "alpha: 0.000\n",
      "dust-to-metal ratio: None\n",
      "----------\n",
      "element log10(X/H)_total (log10(X/H)+12) [[X/H]] |depletion| log10(X/H)_gas log10(X/H)_dust \n",
      "Lithium: -10.93 (1.07) [0.02] \n",
      "Beryllium: -10.60 (1.40) [0.02] \n",
      "Boron: -9.28 (2.72) [0.02] \n",
      "Carbon: -3.55 (8.45) [0.02] \n",
      "Nitrogen: -4.36 (7.64) [-0.19] \n",
      "Oxygen: -3.29 (8.71) [0.02] \n",
      "Fluorine: -7.42 (4.58) [0.02] \n",
      "Neon: -4.05 (7.95) [0.02] \n",
      "Sodium: -5.05 (6.95) [0.02] \n",
      "Magnesium: -4.38 (7.62) [0.02] \n",
      "Aluminium: -5.53 (6.47) [0.02] \n",
      "Silicon: -4.47 (7.53) [0.02] \n",
      "Phosphorus: -6.57 (5.43) [0.02] \n",
      "Sulphur: -4.86 (7.14) [0.02] \n",
      "Chlorine: -6.48 (5.52) [0.02] \n",
      "Argon: -5.58 (6.42) [0.02] \n",
      "Potassium: -6.95 (5.05) [0.02] \n",
      "Calcium: -5.64 (6.36) [0.02] \n",
      "Scandium: -8.83 (3.17) [0.02] \n",
      "Titanium: -7.03 (4.97) [0.02] \n",
      "Vanadium: -8.05 (3.95) [0.02] \n",
      "Chromium: -6.34 (5.66) [0.02] \n",
      "Manganese: -6.55 (5.45) [0.02] \n",
      "Iron: -4.48 (7.52) [0.02] \n",
      "Cobalt: -6.99 (5.01) [0.02] \n",
      "Nickel: -5.76 (6.24) [0.02] \n",
      "Copper: -7.79 (4.21) [0.02] \n",
      "Zinc: -7.42 (4.58) [0.02] \n",
      "Hydrogen: 0.00 (12.00) [0.00] \n",
      "Helium: -1.02 (10.98) [0.05] \n",
      "--------------------\n"
     ]
    }
   ],
   "source": [
    "a6 = Abundances(metallicity=0.0134, abundances={\"N\": \"Dopita2006\"})\n",
    "print(a6)"
   ]
  },
  {
   "attachments": {},
   "cell_type": "markdown",
   "metadata": {},
   "source": [
    "We can also access the scaling functions directly:"
   ]
  },
  {
   "cell_type": "code",
   "execution_count": 15,
   "metadata": {},
   "outputs": [
    {
     "data": {
      "text/plain": [
       "['Dopita2006']"
      ]
     },
     "execution_count": 15,
     "metadata": {},
     "output_type": "execute_result"
    }
   ],
   "source": [
    "ScalingFunctions.available_scalings"
   ]
  },
  {
   "cell_type": "code",
   "execution_count": 16,
   "metadata": {},
   "outputs": [
    {
     "data": {
      "text/plain": [
       "['N', 'C']"
      ]
     },
     "execution_count": 16,
     "metadata": {},
     "output_type": "execute_result"
    }
   ],
   "source": [
    "ScalingFunctions.Dopita2006.available_elements"
   ]
  },
  {
   "cell_type": "code",
   "execution_count": 17,
   "metadata": {},
   "outputs": [
    {
     "data": {
      "text/plain": [
       "-4.221848749616356"
      ]
     },
     "execution_count": 17,
     "metadata": {},
     "output_type": "execute_result"
    }
   ],
   "source": [
    "ScalingFunctions.Dopita2006.N(0.016)"
   ]
  },
  {
   "attachments": {},
   "cell_type": "markdown",
   "metadata": {},
   "source": [
    "These functions also include useful meta data:"
   ]
  },
  {
   "cell_type": "code",
   "execution_count": 18,
   "metadata": {},
   "outputs": [
    {
     "name": "stdout",
     "output_type": "stream",
     "text": [
      "https://ui.adsabs.harvard.edu/abs/2006ApJS..167..177D/abstract\n",
      "10.1086/508261\n"
     ]
    }
   ],
   "source": [
    "print(ScalingFunctions.Dopita2006.ads)\n",
    "print(ScalingFunctions.Dopita2006.doi)"
   ]
  },
  {
   "attachments": {},
   "cell_type": "markdown",
   "metadata": {},
   "source": [
    "## Plots"
   ]
  },
  {
   "attachments": {},
   "cell_type": "markdown",
   "metadata": {},
   "source": [
    "There are also a helper functions for plotting one or more abundance patterns, here we plot two abundance patterns with different alpha abundances:"
   ]
  },
  {
   "cell_type": "code",
   "execution_count": 19,
   "metadata": {},
   "outputs": [
    {
     "data": {
      "image/png": "[encoded data removed]",
      "text/plain": [
       "<Figure size 700x400 with 1 Axes>"
      ]
     },
     "metadata": {},
     "output_type": "display_data"
    },
    {
     "data": {
      "text/plain": [
       "(<Figure size 700x400 with 1 Axes>, <Axes: ylabel='$\\\\rm log_{10}(X/H)$'>)"
      ]
     },
     "execution_count": 19,
     "metadata": {},
     "output_type": "execute_result"
    }
   ],
   "source": [
    "plot_multiple_abundance_patterns(\n",
    "    [a2, a3],\n",
    "    labels=[r\"Z=0.01\", r\"Z=0.01; \\alpha = 0.6\"],\n",
    "    show=True,\n",
    "    ylim=[-7.0, -3.0],\n",
    ")"
   ]
  },
  {
   "attachments": {},
   "cell_type": "markdown",
   "metadata": {},
   "source": [
    "We can plot the abundance pattern of each component:"
   ]
  },
  {
   "cell_type": "code",
   "execution_count": 20,
   "metadata": {},
   "outputs": [
    {
     "data": {
      "image/png": "[encoded data removed]",
      "text/plain": [
       "<Figure size 700x400 with 1 Axes>"
      ]
     },
     "metadata": {},
     "output_type": "display_data"
    },
    {
     "data": {
      "text/plain": [
       "(<Figure size 700x400 with 1 Axes>, <Axes: ylabel='$\\\\rm log_{10}(X/H)$'>)"
      ]
     },
     "execution_count": 20,
     "metadata": {},
     "output_type": "execute_result"
    }
   ],
   "source": [
    "plot_abundance_pattern(\n",
    "    a4, show=True, ylim=[-7.0, -3.0], components=[\"total\", \"gas\", \"dust\"]\n",
    ")"
   ]
  }
 ],
 "metadata": {
  "kernelspec": {
   "display_name": "venv",
   "language": "python",
   "name": "python3"
  },
  "language_info": {
   "codemirror_mode": {
    "name": "ipython",
    "version": 3
   },
   "file_extension": ".py",
   "mimetype": "text/x-python",
   "name": "python",
   "nbconvert_exporter": "python",
   "pygments_lexer": "ipython3",
   "version": "3.10.11"
  },
  "orig_nbformat": 4,
  "vscode": {
   "interpreter": {
    "hash": "3fbdfee1eda89f517d14c65aaeb395605ea48cc827c54c8ae1828e532ec42817"
   }
  }
 },
 "nbformat": 4,
 "nbformat_minor": 2
}
