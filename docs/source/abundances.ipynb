{
 "cells": [
  {
   "attachments": {},
   "cell_type": "markdown",
   "metadata": {},
   "source": [
    "# Abundances\n",
    "\n",
    "`synthesizer` can be used to generate abundance patterns, in total and for gas and dust individually, for a given metallicity, alpha ehancement, and arbitrary element scalings.\n",
    "\n",
    "At present this functionality is only utilised when creating cloudy input scripts. These scripts are used to calculate nebular line and continuum emission for a given incident spectral energy distribution and gas abundance pattern."
   ]
  },
  {
   "cell_type": "code",
   "execution_count": null,
   "metadata": {},
   "outputs": [],
   "source": [
    "import numpy as np\n",
    "from synthesizer.abundances import (\n",
    "    Abundances,\n",
    "    ScalingFunctions,\n",
    "    SolarAbundances,\n",
    "    DepletionPatterns,\n",
    "    plot_abundance_pattern,\n",
    "    plot_multiple_abundance_patterns,\n",
    ")"
   ]
  },
  {
   "attachments": {},
   "cell_type": "markdown",
   "metadata": {},
   "source": [
    "by default initialising `Abundances` creates a solar abundance pattern with no depletion. The default solar abundance pattern is Asplund et al. (2009), though this can be changed if desired. "
   ]
  },
  {
   "cell_type": "code",
   "execution_count": null,
   "metadata": {},
   "outputs": [],
   "source": [
    "a0 = Abundances()"
   ]
  },
  {
   "attachments": {},
   "cell_type": "markdown",
   "metadata": {},
   "source": [
    "like most `synthesizer` objects we can explore the important attributes of an object by using `print()`:"
   ]
  },
  {
   "cell_type": "code",
   "execution_count": null,
   "metadata": {},
   "outputs": [],
   "source": [
    "print(a0)"
   ]
  },
  {
   "attachments": {},
   "cell_type": "markdown",
   "metadata": {},
   "source": [
    "You can access the logarithmic abundances ($\\log_{10}(N_X/N_H)$) of an element like this:"
   ]
  },
  {
   "cell_type": "code",
   "execution_count": null,
   "metadata": {},
   "outputs": [],
   "source": [
    "print(f\"log10(O/H): {a0.total['O']:.2f}\")\n",
    "print(f\"log10(O/H): {a0['O']:.2f}\")"
   ]
  },
  {
   "attachments": {},
   "cell_type": "markdown",
   "metadata": {},
   "source": [
    "### Solar abundance pattern\n",
    "\n",
    "As noted, there are several Solar abundance patterns built into `synthesizer`. These can be accessed from `synthesizer.abundances.SolarAbundances`:"
   ]
  },
  {
   "cell_type": "code",
   "execution_count": null,
   "metadata": {},
   "outputs": [],
   "source": [
    "SolarAbundances.available_patterns"
   ]
  },
  {
   "cell_type": "code",
   "execution_count": null,
   "metadata": {},
   "outputs": [],
   "source": [
    "solar = SolarAbundances.Asplund2009\n",
    "solar.ads\n",
    "solar.abundance"
   ]
  },
  {
   "cell_type": "code",
   "execution_count": null,
   "metadata": {},
   "outputs": [],
   "source": [
    "a1 = Abundances(solar=SolarAbundances.Gutkin2016)\n",
    "print(a1)"
   ]
  },
  {
   "attachments": {},
   "cell_type": "markdown",
   "metadata": {},
   "source": [
    "Solar abundance classes can also be called using a string representation of the name."
   ]
  },
  {
   "cell_type": "code",
   "execution_count": null,
   "metadata": {},
   "outputs": [],
   "source": [
    "a1 = Abundances(solar='Gutkin2016')\n",
    "print(a1)"
   ]
  },
  {
   "attachments": {},
   "cell_type": "markdown",
   "metadata": {},
   "source": [
    "### Metallicity\n",
    "\n",
    "We can specify a different metallicity. By default abundances are scaled from the Solar abundances provided through an optional argument (default Asplund et a. 2009). However, as we will see later, it is possible to set a different $\\alpha$-enhancement or set arbitrary element scalings."
   ]
  },
  {
   "cell_type": "code",
   "execution_count": null,
   "metadata": {},
   "outputs": [],
   "source": [
    "a2 = Abundances(metallicity=0.01)\n",
    "print(a2)"
   ]
  },
  {
   "attachments": {},
   "cell_type": "markdown",
   "metadata": {},
   "source": [
    "## $\\alpha$-enhancement\n",
    "\n",
    "We can also generate abundance patterns assuming different $\\alpha$-enhancements. In this case it is necessary to re-scale the non-$\\alpha$ elements to recover the input metallicity."
   ]
  },
  {
   "cell_type": "code",
   "execution_count": null,
   "metadata": {},
   "outputs": [],
   "source": [
    "a3 = Abundances(alpha=0.6)\n",
    "print(a3)"
   ]
  },
  {
   "attachments": {},
   "cell_type": "markdown",
   "metadata": {},
   "source": [
    "We can print a relative solar abundance like this:"
   ]
  },
  {
   "cell_type": "code",
   "execution_count": null,
   "metadata": {},
   "outputs": [],
   "source": [
    "print(f\"[O/Fe] = {a3.solar_relative_abundance('O', ref_element='Fe'):.2f}\")\n",
    "print(f\"[O/Fe] = {a3['[O/Fe]']:.2f}\")\n",
    "print(f\"[B/Fe] = {a3['[B/Fe]']:.2f}\")"
   ]
  },
  {
   "attachments": {},
   "cell_type": "markdown",
   "metadata": {},
   "source": [
    "That, is, as expected given that we set $\\alpha=0.6$."
   ]
  },
  {
   "attachments": {},
   "cell_type": "markdown",
   "metadata": {},
   "source": [
    "### Depletion\n",
    "\n",
    "To account for metals being locked up in dust, we can also specify a depletion pattern. It is possible to either provide a dictionary of values or specify one of the in-built patterns. "
   ]
  },
  {
   "cell_type": "code",
   "execution_count": null,
   "metadata": {},
   "outputs": [],
   "source": [
    "# assume 99% of Carbon and Iron are depleted on to dust\n",
    "depletion = {'C': 0.99, 'Fe': 0.99}\n",
    "\n",
    "# calculate the abundance patterns, now included gas and dust separately\n",
    "a4 = Abundances(metallicity=0.01, depletion=depletion)\n",
    "print(a4)"
   ]
  },
  {
   "cell_type": "code",
   "execution_count": null,
   "metadata": {},
   "outputs": [],
   "source": [
    "a5 = Abundances(metallicity=0.0156, solar=SolarAbundances.Gutkin2016, depletion_model=DepletionPatterns.Gutkin2016)\n",
    "print(a5)"
   ]
  },
  {
   "cell_type": "code",
   "execution_count": null,
   "metadata": {},
   "outputs": [],
   "source": [
    "a6 = Abundances(metallicity=0.0156, solar=SolarAbundances.Gutkin2016, depletion_model=DepletionPatterns.CloudyClassic)\n",
    "print(a6)"
   ]
  },
  {
   "cell_type": "code",
   "execution_count": null,
   "metadata": {},
   "outputs": [],
   "source": [
    "a7 = Abundances(metallicity=0.0156, solar=SolarAbundances.Gutkin2016, depletion_model=DepletionPatterns.Jenkins2009)\n",
    "print(a7)"
   ]
  },
  {
   "attachments": {},
   "cell_type": "markdown",
   "metadata": {},
   "source": [
    "When specifying an in-built pattern it's also possible to specify an optional scaling parameter depending on the particular model.\n",
    "\n",
    "Below we explore the effect of $F_{*}$ on the depletion factors for N, O, and S. "
   ]
  },
  {
   "cell_type": "code",
   "execution_count": null,
   "metadata": {},
   "outputs": [],
   "source": [
    "\n",
    "for element in ['N','O', 'S']:\n",
    "    print(element, '-'*5)\n",
    "    for fstar in [0.0, 0.5, 1.0]:\n",
    "        depletion = DepletionPatterns.Jenkins2009(fstar).depletion[element]\n",
    "        print(f\"{fstar} {depletion:.2f} {np.log10(depletion):.2f}\")"
   ]
  },
  {
   "attachments": {},
   "cell_type": "markdown",
   "metadata": {},
   "source": [
    "Next, we explore the effect of $F_{*}$ on the dust mass fraction and dust-to-metal ratio ($\\xi_{d}$):"
   ]
  },
  {
   "cell_type": "code",
   "execution_count": null,
   "metadata": {},
   "outputs": [],
   "source": [
    "for fstar in [0.0, 0.1, 0.25, 0.5, 1.0]:\n",
    "    a = Abundances(metallicity=0.0156, solar=SolarAbundances.Gutkin2016, depletion_model=DepletionPatterns.Jenkins2009, depletion_scale=fstar)\n",
    "    print(fstar, f'{a.dust_mass_fraction:.4f}', f'{a.dust_to_metal_ratio:.2f}')\n"
   ]
  },
  {
   "attachments": {},
   "cell_type": "markdown",
   "metadata": {},
   "source": [
    "When the depletion is applied the total, gas, and dust abundance patterns are provided e.g."
   ]
  },
  {
   "cell_type": "code",
   "execution_count": null,
   "metadata": {},
   "outputs": [],
   "source": [
    "print(f'log10(C_total/H) : {a7.total[\"C\"]:.2f}')\n",
    "print(f'log10(C_gas/H) : {a7.gas[\"C\"]:.2f}')\n",
    "print(f'log10(C_dust/H) : {a7.dust[\"C\"]:.2f}')"
   ]
  },
  {
   "attachments": {},
   "cell_type": "markdown",
   "metadata": {},
   "source": [
    "### Arbitrary element scaling\n",
    "\n",
    "We can also change the abundance of any specific element (or set of elements), with the abundances of other elements rescaled self-consistently to yield the correct metallicity. \n",
    "\n",
    "If the abundance is a float it is the logarithmic abundance ($\\log_{10}(X/H)$) while if it is a string it is one of the in-built functions that scale the abundance with metallicity (e.g. the model proposed by Dopita et al. 2006). Note, combining this with a non-zero `alpha` can lead to a mild inconsistency."
   ]
  },
  {
   "attachments": {},
   "cell_type": "markdown",
   "metadata": {},
   "source": [
    "Using a float:"
   ]
  },
  {
   "cell_type": "code",
   "execution_count": null,
   "metadata": {},
   "outputs": [],
   "source": [
    "a8 = Abundances(metallicity=0.0134, abundances={\"N\": -4.5})\n",
    "print(a8)"
   ]
  },
  {
   "attachments": {},
   "cell_type": "markdown",
   "metadata": {},
   "source": [
    "Using a specified function:"
   ]
  },
  {
   "cell_type": "code",
   "execution_count": null,
   "metadata": {},
   "outputs": [],
   "source": [
    "a9 = Abundances(metallicity=0.0134, abundances={\"N\": \"Dopita2006\"})\n",
    "print(a9)"
   ]
  },
  {
   "attachments": {},
   "cell_type": "markdown",
   "metadata": {},
   "source": [
    "We can also access the scaling functions directly:"
   ]
  },
  {
   "cell_type": "code",
   "execution_count": null,
   "metadata": {},
   "outputs": [],
   "source": [
    "ScalingFunctions.available_scalings"
   ]
  },
  {
   "cell_type": "code",
   "execution_count": null,
   "metadata": {},
   "outputs": [],
   "source": [
    "ScalingFunctions.Dopita2006.available_elements"
   ]
  },
  {
   "cell_type": "code",
   "execution_count": null,
   "metadata": {},
   "outputs": [],
   "source": [
    "ScalingFunctions.Dopita2006.N(0.016)"
   ]
  },
  {
   "attachments": {},
   "cell_type": "markdown",
   "metadata": {},
   "source": [
    "These functions also include useful meta data:"
   ]
  },
  {
   "cell_type": "code",
   "execution_count": null,
   "metadata": {},
   "outputs": [],
   "source": [
    "print(ScalingFunctions.Dopita2006.ads)\n",
    "print(ScalingFunctions.Dopita2006.doi)"
   ]
  },
  {
   "attachments": {},
   "cell_type": "markdown",
   "metadata": {},
   "source": [
    "## Plots"
   ]
  },
  {
   "attachments": {},
   "cell_type": "markdown",
   "metadata": {},
   "source": [
    "There are also a helper functions for plotting one or more abundance patterns, here we plot two abundance patterns with different alpha abundances:"
   ]
  },
  {
   "cell_type": "code",
   "execution_count": null,
   "metadata": {},
   "outputs": [],
   "source": [
    "plot_multiple_abundance_patterns(\n",
    "    [a2, a3],\n",
    "    labels=[r\"Z=0.01\", r\"Z=0.01; \\alpha = 0.6\"],\n",
    "    show=True,\n",
    "    ylim=[-7.0, -3.0],\n",
    ")"
   ]
  },
  {
   "attachments": {},
   "cell_type": "markdown",
   "metadata": {},
   "source": [
    "We can plot the abundance pattern of each component:"
   ]
  },
  {
   "cell_type": "code",
   "execution_count": null,
   "metadata": {},
   "outputs": [],
   "source": [
    "plot_abundance_pattern(\n",
    "    a7, show=True, ylim=[-7.0, -3.0], components=[\"total\", \"gas\", \"dust\"]\n",
    ")"
   ]
  }
 ],
 "metadata": {
  "kernelspec": {
   "display_name": "venv",
   "language": "python",
   "name": "python3"
  },
  "language_info": {
   "codemirror_mode": {
    "name": "ipython",
    "version": 3
   },
   "file_extension": ".py",
   "mimetype": "text/x-python",
   "name": "python",
   "nbconvert_exporter": "python",
   "pygments_lexer": "ipython3",
   "version": "3.10.11"
  },
  "orig_nbformat": 4,
  "vscode": {
   "interpreter": {
    "hash": "3fbdfee1eda89f517d14c65aaeb395605ea48cc827c54c8ae1828e532ec42817"
   }
  }
 },
 "nbformat": 4,
 "nbformat_minor": 2
}
